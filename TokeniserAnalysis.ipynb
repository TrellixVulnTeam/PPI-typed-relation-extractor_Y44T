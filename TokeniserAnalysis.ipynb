{
 "cells": [
  {
   "cell_type": "markdown",
   "metadata": {},
   "source": [
    "# Analyse Tokeniser "
   ]
  },
  {
   "cell_type": "code",
   "execution_count": 11,
   "metadata": {},
   "outputs": [],
   "source": [
    "model_dir = \"./tests/temp/biobert\"\n",
    "bucket = \"aegovan-data\"\n",
    "trainfile = \"s3://{}/processed_dataset/train_multiclass.json\".format(bucket)\n",
    "\n",
    "column=\"normalised_abstract\"\n"
   ]
  },
  {
   "cell_type": "code",
   "execution_count": 84,
   "metadata": {},
   "outputs": [],
   "source": [
    "data_file=\"test_ensemble.json\"\n"
   ]
  },
  {
   "cell_type": "code",
   "execution_count": 3,
   "metadata": {},
   "outputs": [],
   "source": [
    "from pytorch_pretrained_bert import BertTokenizer\n",
    "\n",
    "\n",
    "tokeniser = BertTokenizer.from_pretrained(model_dir, do_lower_case=False)"
   ]
  },
  {
   "cell_type": "code",
   "execution_count": 4,
   "metadata": {},
   "outputs": [],
   "source": [
    "import boto3\n",
    "\n",
    "def download_single_file(bucket_name_path, local_path):\n",
    "    index = bucket_name_path.find(\"://\")\n",
    "\n",
    "    # remove the s3:// if present\n",
    "    if index > -1:\n",
    "        bucket_name_path = bucket_name_path[index + 3:]\n",
    "\n",
    "    key_start_index = bucket_name_path.find(\"/\")\n",
    "    bucket_name = bucket_name_path\n",
    "    key = \"/\"\n",
    "    if key_start_index > -1:\n",
    "        bucket_name = bucket_name_path[0:key_start_index]\n",
    "        key = bucket_name_path[key_start_index + 1:]\n",
    "        \n",
    "    client = boto3.resource('s3')\n",
    "    client.Bucket(bucket_name).download_file(key, local_path)\n",
    "\n"
   ]
  },
  {
   "cell_type": "code",
   "execution_count": 114,
   "metadata": {},
   "outputs": [],
   "source": [
    "import json\n",
    "import pandas as pd\n",
    "\n",
    "\n",
    "def get_counts(input_file, column):\n",
    "    data = pd.read_json(input_file)\n",
    "            \n",
    "    counts = []\n",
    "    \n",
    "    data[\"tokens\"] =  data.apply (lambda x:  tokeniser.tokenize(x[column]), axis=1)\n",
    "    data[\"token_len\"] = data.apply (lambda x:  len(x[\"tokens\"]), axis=1)\n",
    "    return data"
   ]
  },
  {
   "cell_type": "code",
   "execution_count": null,
   "metadata": {},
   "outputs": [],
   "source": [
    "download_single_file(trainfile, data_file) "
   ]
  },
  {
   "cell_type": "code",
   "execution_count": 115,
   "metadata": {},
   "outputs": [],
   "source": [
    "df = get_counts(data_file, column)"
   ]
  },
  {
   "cell_type": "code",
   "execution_count": 116,
   "metadata": {},
   "outputs": [
    {
     "data": {
      "text/html": [
       "<div>\n",
       "<style scoped>\n",
       "    .dataframe tbody tr th:only-of-type {\n",
       "        vertical-align: middle;\n",
       "    }\n",
       "\n",
       "    .dataframe tbody tr th {\n",
       "        vertical-align: top;\n",
       "    }\n",
       "\n",
       "    .dataframe thead th {\n",
       "        text-align: right;\n",
       "    }\n",
       "</style>\n",
       "<table border=\"1\" class=\"dataframe\">\n",
       "  <thead>\n",
       "    <tr style=\"text-align: right;\">\n",
       "      <th></th>\n",
       "      <th>actual</th>\n",
       "      <th>normalised_abstract</th>\n",
       "      <th>participant1Id</th>\n",
       "      <th>participant2Id</th>\n",
       "      <th>index</th>\n",
       "      <th>votes_acetylation</th>\n",
       "      <th>votes_demethylation</th>\n",
       "      <th>votes_dephosphorylation</th>\n",
       "      <th>votes_deubiquitination</th>\n",
       "      <th>votes_methylation</th>\n",
       "      <th>...</th>\n",
       "      <th>ubiquitination</th>\n",
       "      <th>ensemble_predicted_confidence</th>\n",
       "      <th>ensemble_predicted</th>\n",
       "      <th>ensemble_majority_prediction</th>\n",
       "      <th>ensemble_confidence_majority_prediction</th>\n",
       "      <th>particpant1Exists</th>\n",
       "      <th>particpant2Exists</th>\n",
       "      <th>particpantsExists</th>\n",
       "      <th>tokens</th>\n",
       "      <th>token_len</th>\n",
       "    </tr>\n",
       "  </thead>\n",
       "  <tbody>\n",
       "    <tr>\n",
       "      <th>90</th>\n",
       "      <td>other</td>\n",
       "      <td>The Q96RI1 (Q96RI1) is a ligand (bile acid)-de...</td>\n",
       "      <td>Q96RI1</td>\n",
       "      <td>Q15466</td>\n",
       "      <td>90</td>\n",
       "      <td>0</td>\n",
       "      <td>0</td>\n",
       "      <td>0</td>\n",
       "      <td>0</td>\n",
       "      <td>0</td>\n",
       "      <td>...</td>\n",
       "      <td>2.414816</td>\n",
       "      <td>0.980938</td>\n",
       "      <td>other</td>\n",
       "      <td>other</td>\n",
       "      <td>3034.636708</td>\n",
       "      <td>True</td>\n",
       "      <td>True</td>\n",
       "      <td>True</td>\n",
       "      <td>[The, Q, ##9, ##6, ##RI, ##1, (, Q, ##9, ##6, ...</td>\n",
       "      <td>506</td>\n",
       "    </tr>\n",
       "    <tr>\n",
       "      <th>298</th>\n",
       "      <td>other</td>\n",
       "      <td>To complete cell division with high fidelity, ...</td>\n",
       "      <td>O43663</td>\n",
       "      <td>P38398</td>\n",
       "      <td>298</td>\n",
       "      <td>0</td>\n",
       "      <td>0</td>\n",
       "      <td>0</td>\n",
       "      <td>0</td>\n",
       "      <td>0</td>\n",
       "      <td>...</td>\n",
       "      <td>2.689539</td>\n",
       "      <td>0.998273</td>\n",
       "      <td>other</td>\n",
       "      <td>other</td>\n",
       "      <td>12362.863369</td>\n",
       "      <td>True</td>\n",
       "      <td>True</td>\n",
       "      <td>True</td>\n",
       "      <td>[To, complete, cell, division, with, high, fi,...</td>\n",
       "      <td>367</td>\n",
       "    </tr>\n",
       "    <tr>\n",
       "      <th>99</th>\n",
       "      <td>other</td>\n",
       "      <td>The mammalian Q9Y6E0-like P97820 (P97820) and ...</td>\n",
       "      <td>P26038</td>\n",
       "      <td>O15121</td>\n",
       "      <td>99</td>\n",
       "      <td>0</td>\n",
       "      <td>0</td>\n",
       "      <td>0</td>\n",
       "      <td>0</td>\n",
       "      <td>0</td>\n",
       "      <td>...</td>\n",
       "      <td>2.692683</td>\n",
       "      <td>0.998321</td>\n",
       "      <td>other</td>\n",
       "      <td>other</td>\n",
       "      <td>12705.771742</td>\n",
       "      <td>True</td>\n",
       "      <td>True</td>\n",
       "      <td>True</td>\n",
       "      <td>[The, ma, ##mmal, ##ian, Q, ##9, ##Y, ##6, ##E...</td>\n",
       "      <td>356</td>\n",
       "    </tr>\n",
       "    <tr>\n",
       "      <th>550</th>\n",
       "      <td>other</td>\n",
       "      <td>O00418 (O00418) phosphorylates and inactivates...</td>\n",
       "      <td>P13639</td>\n",
       "      <td>O00418</td>\n",
       "      <td>550</td>\n",
       "      <td>0</td>\n",
       "      <td>0</td>\n",
       "      <td>1</td>\n",
       "      <td>0</td>\n",
       "      <td>0</td>\n",
       "      <td>...</td>\n",
       "      <td>2.313522</td>\n",
       "      <td>0.956873</td>\n",
       "      <td>other</td>\n",
       "      <td>other</td>\n",
       "      <td>5475.439631</td>\n",
       "      <td>True</td>\n",
       "      <td>True</td>\n",
       "      <td>True</td>\n",
       "      <td>[O, ##00, ##41, ##8, (, O, ##00, ##41, ##8, ),...</td>\n",
       "      <td>344</td>\n",
       "    </tr>\n",
       "    <tr>\n",
       "      <th>449</th>\n",
       "      <td>other</td>\n",
       "      <td>The polarization of eukaryotic cells is contro...</td>\n",
       "      <td>Q9NPB6</td>\n",
       "      <td>Q15831</td>\n",
       "      <td>449</td>\n",
       "      <td>0</td>\n",
       "      <td>0</td>\n",
       "      <td>0</td>\n",
       "      <td>0</td>\n",
       "      <td>0</td>\n",
       "      <td>...</td>\n",
       "      <td>2.447766</td>\n",
       "      <td>0.995746</td>\n",
       "      <td>other</td>\n",
       "      <td>other</td>\n",
       "      <td>10015.480830</td>\n",
       "      <td>True</td>\n",
       "      <td>True</td>\n",
       "      <td>True</td>\n",
       "      <td>[The, polar, ##ization, of, e, ##uka, ##ryo, #...</td>\n",
       "      <td>456</td>\n",
       "    </tr>\n",
       "    <tr>\n",
       "      <th>798</th>\n",
       "      <td>methylation</td>\n",
       "      <td>The protein lysine methyltransferase Q8WTS6 re...</td>\n",
       "      <td>Q8WTS6</td>\n",
       "      <td>P26358</td>\n",
       "      <td>798</td>\n",
       "      <td>0</td>\n",
       "      <td>0</td>\n",
       "      <td>0</td>\n",
       "      <td>0</td>\n",
       "      <td>0</td>\n",
       "      <td>...</td>\n",
       "      <td>3.562178</td>\n",
       "      <td>0.996043</td>\n",
       "      <td>other</td>\n",
       "      <td>other</td>\n",
       "      <td>6534.387232</td>\n",
       "      <td>True</td>\n",
       "      <td>True</td>\n",
       "      <td>True</td>\n",
       "      <td>[The, protein, l, ##ys, ##ine, met, ##hyl, ##t...</td>\n",
       "      <td>296</td>\n",
       "    </tr>\n",
       "    <tr>\n",
       "      <th>404</th>\n",
       "      <td>other</td>\n",
       "      <td>In examining the protein kinase components of ...</td>\n",
       "      <td>Q13164</td>\n",
       "      <td>P28482</td>\n",
       "      <td>404</td>\n",
       "      <td>0</td>\n",
       "      <td>0</td>\n",
       "      <td>0</td>\n",
       "      <td>0</td>\n",
       "      <td>0</td>\n",
       "      <td>...</td>\n",
       "      <td>2.595357</td>\n",
       "      <td>0.998271</td>\n",
       "      <td>other</td>\n",
       "      <td>other</td>\n",
       "      <td>12519.149524</td>\n",
       "      <td>True</td>\n",
       "      <td>True</td>\n",
       "      <td>True</td>\n",
       "      <td>[In, examining, the, protein, kinase, componen...</td>\n",
       "      <td>431</td>\n",
       "    </tr>\n",
       "    <tr>\n",
       "      <th>69</th>\n",
       "      <td>other</td>\n",
       "      <td>Human P06729 is a 50-55-kDa cell surface recep...</td>\n",
       "      <td>P06241</td>\n",
       "      <td>P60568</td>\n",
       "      <td>69</td>\n",
       "      <td>0</td>\n",
       "      <td>0</td>\n",
       "      <td>0</td>\n",
       "      <td>0</td>\n",
       "      <td>0</td>\n",
       "      <td>...</td>\n",
       "      <td>1.984369</td>\n",
       "      <td>0.966497</td>\n",
       "      <td>other</td>\n",
       "      <td>other</td>\n",
       "      <td>2916.421670</td>\n",
       "      <td>True</td>\n",
       "      <td>True</td>\n",
       "      <td>True</td>\n",
       "      <td>[Human, P, ##0, ##6, ##7, ##29, is, a, 50, -, ...</td>\n",
       "      <td>618</td>\n",
       "    </tr>\n",
       "    <tr>\n",
       "      <th>565</th>\n",
       "      <td>other</td>\n",
       "      <td>O00418 (O00418) phosphorylates and inactivates...</td>\n",
       "      <td>P42345</td>\n",
       "      <td>P28482</td>\n",
       "      <td>565</td>\n",
       "      <td>0</td>\n",
       "      <td>0</td>\n",
       "      <td>0</td>\n",
       "      <td>0</td>\n",
       "      <td>0</td>\n",
       "      <td>...</td>\n",
       "      <td>2.606124</td>\n",
       "      <td>0.998246</td>\n",
       "      <td>other</td>\n",
       "      <td>other</td>\n",
       "      <td>12250.565576</td>\n",
       "      <td>True</td>\n",
       "      <td>True</td>\n",
       "      <td>True</td>\n",
       "      <td>[O, ##00, ##41, ##8, (, O, ##00, ##41, ##8, ),...</td>\n",
       "      <td>344</td>\n",
       "    </tr>\n",
       "    <tr>\n",
       "      <th>177</th>\n",
       "      <td>other</td>\n",
       "      <td>The Golgi apparatus has long been suggested to...</td>\n",
       "      <td>Q9Y6E0</td>\n",
       "      <td>O00506</td>\n",
       "      <td>177</td>\n",
       "      <td>0</td>\n",
       "      <td>0</td>\n",
       "      <td>0</td>\n",
       "      <td>0</td>\n",
       "      <td>0</td>\n",
       "      <td>...</td>\n",
       "      <td>2.799447</td>\n",
       "      <td>0.959405</td>\n",
       "      <td>other</td>\n",
       "      <td>other</td>\n",
       "      <td>6952.393147</td>\n",
       "      <td>True</td>\n",
       "      <td>True</td>\n",
       "      <td>True</td>\n",
       "      <td>[The, Go, ##l, ##gi, apparatus, has, long, bee...</td>\n",
       "      <td>261</td>\n",
       "    </tr>\n",
       "  </tbody>\n",
       "</table>\n",
       "<p>10 rows × 30 columns</p>\n",
       "</div>"
      ],
      "text/plain": [
       "          actual                                normalised_abstract  \\\n",
       "90         other  The Q96RI1 (Q96RI1) is a ligand (bile acid)-de...   \n",
       "298        other  To complete cell division with high fidelity, ...   \n",
       "99         other  The mammalian Q9Y6E0-like P97820 (P97820) and ...   \n",
       "550        other  O00418 (O00418) phosphorylates and inactivates...   \n",
       "449        other  The polarization of eukaryotic cells is contro...   \n",
       "798  methylation  The protein lysine methyltransferase Q8WTS6 re...   \n",
       "404        other  In examining the protein kinase components of ...   \n",
       "69         other  Human P06729 is a 50-55-kDa cell surface recep...   \n",
       "565        other  O00418 (O00418) phosphorylates and inactivates...   \n",
       "177        other  The Golgi apparatus has long been suggested to...   \n",
       "\n",
       "    participant1Id participant2Id  index  votes_acetylation  \\\n",
       "90          Q96RI1         Q15466     90                  0   \n",
       "298         O43663         P38398    298                  0   \n",
       "99          P26038         O15121     99                  0   \n",
       "550         P13639         O00418    550                  0   \n",
       "449         Q9NPB6         Q15831    449                  0   \n",
       "798         Q8WTS6         P26358    798                  0   \n",
       "404         Q13164         P28482    404                  0   \n",
       "69          P06241         P60568     69                  0   \n",
       "565         P42345         P28482    565                  0   \n",
       "177         Q9Y6E0         O00506    177                  0   \n",
       "\n",
       "     votes_demethylation  votes_dephosphorylation  votes_deubiquitination  \\\n",
       "90                     0                        0                       0   \n",
       "298                    0                        0                       0   \n",
       "99                     0                        0                       0   \n",
       "550                    0                        1                       0   \n",
       "449                    0                        0                       0   \n",
       "798                    0                        0                       0   \n",
       "404                    0                        0                       0   \n",
       "69                     0                        0                       0   \n",
       "565                    0                        0                       0   \n",
       "177                    0                        0                       0   \n",
       "\n",
       "     votes_methylation    ...      ubiquitination  \\\n",
       "90                   0    ...            2.414816   \n",
       "298                  0    ...            2.689539   \n",
       "99                   0    ...            2.692683   \n",
       "550                  0    ...            2.313522   \n",
       "449                  0    ...            2.447766   \n",
       "798                  0    ...            3.562178   \n",
       "404                  0    ...            2.595357   \n",
       "69                   0    ...            1.984369   \n",
       "565                  0    ...            2.606124   \n",
       "177                  0    ...            2.799447   \n",
       "\n",
       "     ensemble_predicted_confidence  ensemble_predicted  \\\n",
       "90                        0.980938               other   \n",
       "298                       0.998273               other   \n",
       "99                        0.998321               other   \n",
       "550                       0.956873               other   \n",
       "449                       0.995746               other   \n",
       "798                       0.996043               other   \n",
       "404                       0.998271               other   \n",
       "69                        0.966497               other   \n",
       "565                       0.998246               other   \n",
       "177                       0.959405               other   \n",
       "\n",
       "     ensemble_majority_prediction  ensemble_confidence_majority_prediction  \\\n",
       "90                          other                              3034.636708   \n",
       "298                         other                             12362.863369   \n",
       "99                          other                             12705.771742   \n",
       "550                         other                              5475.439631   \n",
       "449                         other                             10015.480830   \n",
       "798                         other                              6534.387232   \n",
       "404                         other                             12519.149524   \n",
       "69                          other                              2916.421670   \n",
       "565                         other                             12250.565576   \n",
       "177                         other                              6952.393147   \n",
       "\n",
       "     particpant1Exists  particpant2Exists  particpantsExists  \\\n",
       "90                True               True               True   \n",
       "298               True               True               True   \n",
       "99                True               True               True   \n",
       "550               True               True               True   \n",
       "449               True               True               True   \n",
       "798               True               True               True   \n",
       "404               True               True               True   \n",
       "69                True               True               True   \n",
       "565               True               True               True   \n",
       "177               True               True               True   \n",
       "\n",
       "                                                tokens  token_len  \n",
       "90   [The, Q, ##9, ##6, ##RI, ##1, (, Q, ##9, ##6, ...        506  \n",
       "298  [To, complete, cell, division, with, high, fi,...        367  \n",
       "99   [The, ma, ##mmal, ##ian, Q, ##9, ##Y, ##6, ##E...        356  \n",
       "550  [O, ##00, ##41, ##8, (, O, ##00, ##41, ##8, ),...        344  \n",
       "449  [The, polar, ##ization, of, e, ##uka, ##ryo, #...        456  \n",
       "798  [The, protein, l, ##ys, ##ine, met, ##hyl, ##t...        296  \n",
       "404  [In, examining, the, protein, kinase, componen...        431  \n",
       "69   [Human, P, ##0, ##6, ##7, ##29, is, a, 50, -, ...        618  \n",
       "565  [O, ##00, ##41, ##8, (, O, ##00, ##41, ##8, ),...        344  \n",
       "177  [The, Go, ##l, ##gi, apparatus, has, long, bee...        261  \n",
       "\n",
       "[10 rows x 30 columns]"
      ]
     },
     "execution_count": 116,
     "metadata": {},
     "output_type": "execute_result"
    }
   ],
   "source": [
    "df.sample(n=10)"
   ]
  },
  {
   "cell_type": "code",
   "execution_count": 159,
   "metadata": {},
   "outputs": [
    {
     "data": {
      "text/plain": [
       "count    894.000000\n",
       "mean     378.592841\n",
       "std      110.356765\n",
       "min      175.000000\n",
       "0%       175.000000\n",
       "5%       223.000000\n",
       "10%      236.000000\n",
       "15%      261.000000\n",
       "20%      283.600000\n",
       "25%      293.000000\n",
       "30%      302.000000\n",
       "35%      323.000000\n",
       "40%      338.000000\n",
       "45%      344.000000\n",
       "50%      354.000000\n",
       "55.0%    375.000000\n",
       "60%      392.000000\n",
       "65%      416.000000\n",
       "70%      431.000000\n",
       "75%      456.000000\n",
       "80%      520.000000\n",
       "85%      523.000000\n",
       "90%      533.000000\n",
       "95%      562.000000\n",
       "max      618.000000\n",
       "Name: token_len, dtype: float64"
      ]
     },
     "execution_count": 159,
     "metadata": {},
     "output_type": "execute_result"
    }
   ],
   "source": [
    "df[\"token_len\"].describe(percentiles=[i/100 for i in range(0,100, 5)])"
   ]
  },
  {
   "cell_type": "code",
   "execution_count": 161,
   "metadata": {},
   "outputs": [],
   "source": [
    "from sklearn.metrics import f1_score, accuracy_score,precision_score, recall_score\n",
    "\n",
    "def get_scores(df, actual, predicted, labels=None):\n",
    "\n",
    "    f1 = f1_score(df[actual], df[predicted], average='macro' ,sample_weight=None, labels=labels)  \n",
    "    p = precision_score(df[actual], df[predicted], average='macro' ,sample_weight=None)  \n",
    "    r = recall_score(df[actual], df[ predicted], average='macro' ,sample_weight=None)  \n",
    "\n",
    "    return f1,p,r\n",
    "\n",
    "def plot_confusion_matrix(df, actual, predicted):\n",
    "    import matplotlib.pyplot as plt\n",
    "    import scikitplot as skplt\n",
    "\n",
    "\n",
    "    skplt.metrics.plot_confusion_matrix(df[actual], df[predicted], normalize=True , figsize=(4,4),  x_tick_rotation=90)\n",
    "  \n",
    "\n",
    "    skplt.metrics.plot_confusion_matrix(df[actual], df[predicted], figsize=(4,4), normalize=False,x_tick_rotation=90 )\n",
    "    \n",
    "    plt.show()\n"
   ]
  },
  {
   "cell_type": "code",
   "execution_count": 162,
   "metadata": {},
   "outputs": [],
   "source": [
    "positive_labels = list(set(df[\"actual\"].unique().tolist()) - set(\"other\"))"
   ]
  },
  {
   "cell_type": "code",
   "execution_count": 129,
   "metadata": {},
   "outputs": [
    {
     "data": {
      "text/plain": [
       "(894, 30)"
      ]
     },
     "execution_count": 129,
     "metadata": {},
     "output_type": "execute_result"
    }
   ],
   "source": [
    "df.shape"
   ]
  },
  {
   "cell_type": "code",
   "execution_count": 155,
   "metadata": {},
   "outputs": [
    {
     "data": {
      "text/plain": [
       "(0.30709426627793973, 0.286231884057971, 0.3312368972746331)"
      ]
     },
     "execution_count": 155,
     "metadata": {},
     "output_type": "execute_result"
    }
   ],
   "source": [
    "get_scores ( df.query(\"token_len > 510\"), \"actual\" , \"ensemble_predicted\")\n",
    "\n"
   ]
  },
  {
   "cell_type": "code",
   "execution_count": 163,
   "metadata": {},
   "outputs": [
    {
     "data": {
      "image/png": "[encoded data removed]",
      "text/plain": [
       "<Figure size 288x288 with 2 Axes>"
      ]
     },
     "metadata": {
      "needs_background": "light"
     },
     "output_type": "display_data"
    },
    {
     "data": {
      "image/png": "[encoded data removed]",
      "text/plain": [
       "<Figure size 288x288 with 2 Axes>"
      ]
     },
     "metadata": {
      "needs_background": "light"
     },
     "output_type": "display_data"
    }
   ],
   "source": [
    "plot_confusion_matrix(df.query(\"token_len > 510\"), \"actual\" , \"ensemble_predicted\")"
   ]
  },
  {
   "cell_type": "code",
   "execution_count": 147,
   "metadata": {},
   "outputs": [
    {
     "name": "stderr",
     "output_type": "stream",
     "text": [
      "/Users/aeg/miniconda/envs/kegg_env/lib/python3.7/site-packages/sklearn/metrics/classification.py:1439: UndefinedMetricWarning: F-score is ill-defined and being set to 0.0 in labels with no true samples.\n",
      "  'recall', 'true', average, warn_for)\n"
     ]
    },
    {
     "data": {
      "text/plain": [
       "(0.1151603498542274, 0.286231884057971, 0.3312368972746331)"
      ]
     },
     "execution_count": 147,
     "metadata": {},
     "output_type": "execute_result"
    }
   ],
   "source": [
    "get_scores ( df.query(\"token_len > 510\"), \"actual\" , \"ensemble_predicted\", positive_labels)\n",
    "\n"
   ]
  },
  {
   "cell_type": "code",
   "execution_count": 138,
   "metadata": {},
   "outputs": [
    {
     "data": {
      "text/html": [
       "<div>\n",
       "<style scoped>\n",
       "    .dataframe tbody tr th:only-of-type {\n",
       "        vertical-align: middle;\n",
       "    }\n",
       "\n",
       "    .dataframe tbody tr th {\n",
       "        vertical-align: top;\n",
       "    }\n",
       "\n",
       "    .dataframe thead th {\n",
       "        text-align: right;\n",
       "    }\n",
       "</style>\n",
       "<table border=\"1\" class=\"dataframe\">\n",
       "  <thead>\n",
       "    <tr style=\"text-align: right;\">\n",
       "      <th></th>\n",
       "      <th></th>\n",
       "      <th>actual</th>\n",
       "      <th>ensemble_predicted</th>\n",
       "    </tr>\n",
       "    <tr>\n",
       "      <th>actual</th>\n",
       "      <th>ensemble_predicted</th>\n",
       "      <th></th>\n",
       "      <th></th>\n",
       "    </tr>\n",
       "  </thead>\n",
       "  <tbody>\n",
       "    <tr>\n",
       "      <th>dephosphorylation</th>\n",
       "      <th>other</th>\n",
       "      <td>2</td>\n",
       "      <td>2</td>\n",
       "    </tr>\n",
       "    <tr>\n",
       "      <th rowspan=\"2\" valign=\"top\">other</th>\n",
       "      <th>other</th>\n",
       "      <td>158</td>\n",
       "      <td>158</td>\n",
       "    </tr>\n",
       "    <tr>\n",
       "      <th>phosphorylation</th>\n",
       "      <td>1</td>\n",
       "      <td>1</td>\n",
       "    </tr>\n",
       "    <tr>\n",
       "      <th>phosphorylation</th>\n",
       "      <th>other</th>\n",
       "      <td>24</td>\n",
       "      <td>24</td>\n",
       "    </tr>\n",
       "  </tbody>\n",
       "</table>\n",
       "</div>"
      ],
      "text/plain": [
       "                                      actual  ensemble_predicted\n",
       "actual            ensemble_predicted                            \n",
       "dephosphorylation other                    2                   2\n",
       "other             other                  158                 158\n",
       "                  phosphorylation          1                   1\n",
       "phosphorylation   other                   24                  24"
      ]
     },
     "execution_count": 138,
     "metadata": {},
     "output_type": "execute_result"
    }
   ],
   "source": [
    "df.query(\"token_len > 510\").groupby( [\"actual\",\"ensemble_predicted\" ])[\"actual\",\"ensemble_predicted\"].count()"
   ]
  },
  {
   "cell_type": "code",
   "execution_count": 126,
   "metadata": {},
   "outputs": [
    {
     "data": {
      "text/plain": [
       "(0.5523581281587611, 0.6653946176915744, 0.5284595695522575)"
      ]
     },
     "execution_count": 126,
     "metadata": {},
     "output_type": "execute_result"
    }
   ],
   "source": [
    "get_scores ( df.query(\"token_len < 510\"), \"actual\" , \"ensemble_predicted\")"
   ]
  },
  {
   "cell_type": "code",
   "execution_count": 148,
   "metadata": {},
   "outputs": [
    {
     "data": {
      "text/plain": [
       "(0.5523581281587611, 0.6653946176915744, 0.5284595695522575)"
      ]
     },
     "execution_count": 148,
     "metadata": {},
     "output_type": "execute_result"
    }
   ],
   "source": [
    "get_scores ( df.query(\"token_len < 510\"), \"actual\" , \"ensemble_predicted\", positive_labels)"
   ]
  },
  {
   "cell_type": "code",
   "execution_count": 151,
   "metadata": {},
   "outputs": [
    {
     "data": {
      "text/plain": [
       "(0.5399596900683856, 0.6636742637563926, 0.5139799154334038)"
      ]
     },
     "execution_count": 151,
     "metadata": {},
     "output_type": "execute_result"
    }
   ],
   "source": [
    "get_scores ( df, \"actual\" , \"ensemble_predicted\")"
   ]
  }
 ],
 "metadata": {
  "kernelspec": {
   "display_name": "Python 3",
   "language": "python",
   "name": "python3"
  },
  "language_info": {
   "codemirror_mode": {
    "name": "ipython",
    "version": 3
   },
   "file_extension": ".py",
   "mimetype": "text/x-python",
   "name": "python",
   "nbconvert_exporter": "python",
   "pygments_lexer": "ipython3",
   "version": "3.7.4"
  }
 },
 "nbformat": 4,
 "nbformat_minor": 1
}
