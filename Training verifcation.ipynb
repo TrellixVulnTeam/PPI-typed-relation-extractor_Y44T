{
 "cells": [
  {
   "cell_type": "code",
   "execution_count": 1,
   "metadata": {},
   "outputs": [],
   "source": [
    "import pandas as pd\n",
    "import os"
   ]
  },
  {
   "cell_type": "code",
   "execution_count": 2,
   "metadata": {},
   "outputs": [],
   "source": [
    "s3_prefix = \"s3://aegovan-data/processed_dataset/train_multiclass.json\"\n",
    "s3_output_prefix = \"{}_trainingdata/\".format(\"/\".join(s3_prefix.split(\"/\")[0:-1]))\n"
   ]
  },
  {
   "cell_type": "code",
   "execution_count": 3,
   "metadata": {},
   "outputs": [
    {
     "data": {
      "text/plain": [
       "'s3://aegovan-data/processed_dataset_trainingdata/'"
      ]
     },
     "execution_count": 3,
     "metadata": {},
     "output_type": "execute_result"
    }
   ],
   "source": [
    "s3_output_prefix"
   ]
  },
  {
   "cell_type": "code",
   "execution_count": 4,
   "metadata": {},
   "outputs": [],
   "source": [
    "local_temp = \"temp\"\n",
    "local_temp_pred_dir = os.path.join( local_temp, \"pred_results\")\n",
    "local_temp_wk_dir = os.path.join( local_temp, \"wk\")"
   ]
  },
  {
   "cell_type": "code",
   "execution_count": 5,
   "metadata": {},
   "outputs": [],
   "source": [
    "!rm -rf $local_temp\n",
    "!mkdir -p $local_temp_pred_dir\n",
    "!mkdir -p $local_temp_wk_dir"
   ]
  },
  {
   "cell_type": "code",
   "execution_count": 6,
   "metadata": {},
   "outputs": [],
   "source": [
    "import boto3\n",
    "import glob\n",
    "from multiprocessing.dummy import Pool as ThreadPool\n",
    "import argparse\n",
    "import datetime \n",
    "import os\n",
    "\n",
    "\n",
    "def upload_file(localpath, s3path):\n",
    "        \"\"\"\n",
    "Uploads a file to s3\n",
    "        :param localpath: The local path\n",
    "        :param s3path: The s3 path in format s3://mybucket/mydir/mysample.txt\n",
    "        \"\"\"\n",
    "\n",
    "        bucket, key = get_bucketname_key(s3path)\n",
    "\n",
    "        if key.endswith(\"/\"):\n",
    "            key = \"{}{}\".format(key, os.path.basename(localpath))\n",
    "        \n",
    "        s3 = boto3.client('s3')\n",
    "        \n",
    "        s3.upload_file(localpath, bucket, key)\n",
    "\n",
    "def get_bucketname_key(uripath):\n",
    "    assert uripath.startswith(\"s3://\")\n",
    "\n",
    "    path_without_scheme = uripath[5:]\n",
    "    bucket_end_index = path_without_scheme.find(\"/\")\n",
    "\n",
    "    bucket_name = path_without_scheme\n",
    "    key = \"/\"\n",
    "    if bucket_end_index > -1:\n",
    "        bucket_name = path_without_scheme[0:bucket_end_index]\n",
    "        key = path_without_scheme[bucket_end_index + 1:]\n",
    "\n",
    "    return bucket_name, key\n",
    "\n",
    "\n",
    "def download_file(s3path, local_dir):\n",
    "    bucket, key = get_bucketname_key(s3path)\n",
    "    \n",
    "    s3 = boto3.client('s3')\n",
    "    \n",
    "    local_file = os.path.join(local_dir, s3path.split(\"/\")[-1])\n",
    "    \n",
    "\n",
    "    s3.download_file(bucket, key, local_file)\n",
    "    \n",
    "def download_object(s3path):\n",
    "    bucket, key = get_bucketname_key(s3path)\n",
    "    \n",
    "    s3 = boto3.client('s3')    \n",
    "\n",
    "    s3_response_object = s3.get_object(Bucket=bucket, Key=key)\n",
    "    object_content = s3_response_object['Body'].read()\n",
    "    \n",
    "    return len(object_content)\n",
    "\n",
    "\n",
    "\n",
    "def list_files(s3path_prefix):\n",
    "    assert s3path_prefix.startswith(\"s3://\")\n",
    "    \n",
    "    bucket, key = get_bucketname_key(s3path_prefix)\n",
    "    \n",
    "   \n",
    "   \n",
    "    s3 = boto3.resource('s3')\n",
    "    \n",
    "    bucket = s3.Bucket(name=bucket)\n",
    "\n",
    "    return ( (o.bucket_name, o.key) for o in bucket.objects.filter(Prefix=key))\n",
    "\n",
    "\n",
    "\n",
    "\n",
    "\n",
    "def upload_files(local_dir, s3_prefix, num_threads=20):    \n",
    "    input_tuples = ( (f,  s3_prefix) for f in glob.glob(\"{}/*\".format(local_dir)))\n",
    "    \n",
    "    with ThreadPool(num_threads) as pool:\n",
    "        pool.starmap(uploadfile, input_tuples)\n",
    "    \n",
    "\n",
    "\n",
    "def download_files(s3_prefix, local_dir, num_threads=20):    \n",
    "    input_tuples = ( (\"s3://{}/{}\".format(s3_bucket,s3_key),  local_dir) for s3_bucket, s3_key in list_files(s3_prefix))\n",
    "    \n",
    "    with ThreadPool(num_threads) as pool:\n",
    "        results = pool.starmap(download_file, input_tuples)\n",
    "        \n",
    "        \n",
    "\n",
    "def download_objects(s3_prefix, num_threads=20):    \n",
    "    s3_files = ( \"s3://{}/{}\".format(s3_bucket,s3_key) for s3_bucket, s3_key in list_files(s3_prefix))\n",
    "    \n",
    "    with ThreadPool(num_threads) as pool:\n",
    "        results = pool.map(download_object, s3_files)\n",
    "        \n",
    "    return sum(results)/1024\n",
    "        \n",
    "\n",
    "def get_directory_size(start_path):\n",
    "    total_size = 0\n",
    "    for dirpath, dirnames, filenames in os.walk(start_path):\n",
    "        for f in filenames:\n",
    "            fp = os.path.join(dirpath, f)\n",
    "            # skip if it is symbolic link\n",
    "            if not os.path.islink(fp):\n",
    "                total_size += os.path.getsize(fp)\n",
    "    return total_size\n",
    "\n",
    "def get_s3file_size(bucket, key):\n",
    "    s3 = boto3.client('s3')\n",
    "    response = s3.head_object(Bucket=bucket, Key=key)\n",
    "    size = response['ContentLength']\n",
    "    return size\n",
    "    \n",
    "def download_files_min_files(s3_prefix, local_dir, min_file_size=310, num_threads=20):    \n",
    "    input_tuples = ( (\"s3://{}/{}\".format(s3_bucket,s3_key),  local_dir) for s3_bucket, s3_key in list_files(s3_prefix) if get_s3file_size(s3_bucket, s3_key) > min_file_size )\n",
    "    \n",
    "    with ThreadPool(num_threads) as pool:\n",
    "        results = pool.starmap(download_file, input_tuples)\n",
    "        \n"
   ]
  },
  {
   "cell_type": "code",
   "execution_count": 7,
   "metadata": {},
   "outputs": [
    {
     "name": "stdout",
     "output_type": "stream",
     "text": [
      "CPU times: user 82.2 ms, sys: 41.2 ms, total: 123 ms\n",
      "Wall time: 220 ms\n"
     ]
    }
   ],
   "source": [
    "%%time\n",
    "\n",
    "download_file(s3_prefix, local_temp_pred_dir)"
   ]
  },
  {
   "cell_type": "code",
   "execution_count": 8,
   "metadata": {},
   "outputs": [
    {
     "name": "stdout",
     "output_type": "stream",
     "text": [
      "-rw-rw-r-- 1 ec2-user ec2-user 7099862 Feb 21 02:58 train_multiclass.json\r\n"
     ]
    }
   ],
   "source": [
    "!ls -l $local_temp_pred_dir | grep \"train_multiclass.json\""
   ]
  },
  {
   "cell_type": "code",
   "execution_count": 9,
   "metadata": {},
   "outputs": [],
   "source": [
    "data_training_full_df = pd.read_json(os.path.join(local_temp_pred_dir, \"train_multiclass.json\"))"
   ]
  },
  {
   "cell_type": "code",
   "execution_count": 10,
   "metadata": {},
   "outputs": [
    {
     "data": {
      "text/html": [
       "<div>\n",
       "<style scoped>\n",
       "    .dataframe tbody tr th:only-of-type {\n",
       "        vertical-align: middle;\n",
       "    }\n",
       "\n",
       "    .dataframe tbody tr th {\n",
       "        vertical-align: top;\n",
       "    }\n",
       "\n",
       "    .dataframe thead th {\n",
       "        text-align: right;\n",
       "    }\n",
       "</style>\n",
       "<table border=\"1\" class=\"dataframe\">\n",
       "  <thead>\n",
       "    <tr style=\"text-align: right;\">\n",
       "      <th></th>\n",
       "      <th>pubmedId</th>\n",
       "      <th>pubmedabstract</th>\n",
       "      <th>annotations</th>\n",
       "      <th>num_unique_gene_normalised_id</th>\n",
       "      <th>num_gene_normalised_id</th>\n",
       "      <th>normalised_abstract</th>\n",
       "      <th>participant1Id</th>\n",
       "      <th>participant2Id</th>\n",
       "      <th>gene_to_uniprot_map</th>\n",
       "      <th>class</th>\n",
       "    </tr>\n",
       "  </thead>\n",
       "  <tbody>\n",
       "    <tr>\n",
       "      <th>0</th>\n",
       "      <td>17197020</td>\n",
       "      <td>In HEK293 cells, transfected with the Ca2+ cha...</td>\n",
       "      <td>[{'start': '3', 'end': '9', 'name': 'HEK293', ...</td>\n",
       "      <td>4</td>\n",
       "      <td>10</td>\n",
       "      <td>In HEK293 cells, transfected with the Ca2+ cha...</td>\n",
       "      <td>Q9H1D0</td>\n",
       "      <td>P18031</td>\n",
       "      <td>{'6714': ['P12931'], '55503': ['Q9H1D0'], '577...</td>\n",
       "      <td>dephosphorylation</td>\n",
       "    </tr>\n",
       "    <tr>\n",
       "      <th>1</th>\n",
       "      <td>17053781</td>\n",
       "      <td>Receptor interacting protein 140 (RIP140), a l...</td>\n",
       "      <td>[{'start': '0', 'end': '32', 'name': 'Receptor...</td>\n",
       "      <td>3</td>\n",
       "      <td>12</td>\n",
       "      <td>P48552 (P48552), a ligand-dependent corepresso...</td>\n",
       "      <td>Q99873</td>\n",
       "      <td>P48552</td>\n",
       "      <td>{'8204': ['P48552', 'A8K171'], '7514': ['O1498...</td>\n",
       "      <td>methylation</td>\n",
       "    </tr>\n",
       "    <tr>\n",
       "      <th>2</th>\n",
       "      <td>17079228</td>\n",
       "      <td>TAK1 (transforming growth factor beta-activate...</td>\n",
       "      <td>[{'start': '0', 'end': '4', 'name': 'TAK1', 't...</td>\n",
       "      <td>5</td>\n",
       "      <td>24</td>\n",
       "      <td>O43318 (O43318) is a serine/threonine kinase t...</td>\n",
       "      <td>O00743</td>\n",
       "      <td>O43318</td>\n",
       "      <td>{'4296': ['Q16584', 'A0A024R5E6'], '5524': ['Q...</td>\n",
       "      <td>dephosphorylation</td>\n",
       "    </tr>\n",
       "  </tbody>\n",
       "</table>\n",
       "</div>"
      ],
      "text/plain": [
       "   pubmedId                                     pubmedabstract  \\\n",
       "0  17197020  In HEK293 cells, transfected with the Ca2+ cha...   \n",
       "1  17053781  Receptor interacting protein 140 (RIP140), a l...   \n",
       "2  17079228  TAK1 (transforming growth factor beta-activate...   \n",
       "\n",
       "                                         annotations  \\\n",
       "0  [{'start': '3', 'end': '9', 'name': 'HEK293', ...   \n",
       "1  [{'start': '0', 'end': '32', 'name': 'Receptor...   \n",
       "2  [{'start': '0', 'end': '4', 'name': 'TAK1', 't...   \n",
       "\n",
       "   num_unique_gene_normalised_id  num_gene_normalised_id  \\\n",
       "0                              4                      10   \n",
       "1                              3                      12   \n",
       "2                              5                      24   \n",
       "\n",
       "                                 normalised_abstract participant1Id  \\\n",
       "0  In HEK293 cells, transfected with the Ca2+ cha...         Q9H1D0   \n",
       "1  P48552 (P48552), a ligand-dependent corepresso...         Q99873   \n",
       "2  O43318 (O43318) is a serine/threonine kinase t...         O00743   \n",
       "\n",
       "  participant2Id                                gene_to_uniprot_map  \\\n",
       "0         P18031  {'6714': ['P12931'], '55503': ['Q9H1D0'], '577...   \n",
       "1         P48552  {'8204': ['P48552', 'A8K171'], '7514': ['O1498...   \n",
       "2         O43318  {'4296': ['Q16584', 'A0A024R5E6'], '5524': ['Q...   \n",
       "\n",
       "               class  \n",
       "0  dephosphorylation  \n",
       "1        methylation  \n",
       "2  dephosphorylation  "
      ]
     },
     "execution_count": 10,
     "metadata": {},
     "output_type": "execute_result"
    }
   ],
   "source": [
    "data_training_full_df.head(n=3)"
   ]
  },
  {
   "cell_type": "markdown",
   "metadata": {},
   "source": [
    "#### Rename column so they match predictions, so ground truth can be verified"
   ]
  },
  {
   "cell_type": "code",
   "execution_count": 11,
   "metadata": {},
   "outputs": [],
   "source": [
    "data_training_full_df = data_training_full_df.rename(\n",
    "    columns={\"pubmedabstract\" : \"abstract\"\n",
    "                                      ,\"annotations\":\"annotations\"\n",
    "                                      ,\"class\" : \"predicted\"}\n",
    "                             \n",
    "                             ) \n"
   ]
  },
  {
   "cell_type": "code",
   "execution_count": 12,
   "metadata": {},
   "outputs": [],
   "source": [
    "def missing_uniprot(x):\n",
    "    uniprots =[]\n",
    "    for i in list(x[\"gene_id_map\"].values()):\n",
    "        uniprots.extend(i)\n",
    "        \n",
    "    \n",
    "    return x[\"participant1Id\"] not in uniprots or x[\"participant2Id\"] not in uniprots\n",
    "\n",
    "def gene_id_map(x):\n",
    "    gene_to_uniprot_map = x[\"gene_to_uniprot_map\"]\n",
    "    for n, uniprots in x[\"gene_to_uniprot_map\"].items():\n",
    "        if x[\"participant1Id\"]  in uniprots :\n",
    "            gene_to_uniprot_map[n]= x[\"participant1Id\"]\n",
    "        if x[\"participant2Id\"]  in uniprots:\n",
    "            gene_to_uniprot_map[n]= x[\"participant2Id\"]\n",
    "        \n",
    "        \n",
    "    return gene_to_uniprot_map\n",
    "                                    \n"
   ]
  },
  {
   "cell_type": "code",
   "execution_count": 13,
   "metadata": {},
   "outputs": [],
   "source": [
    "data_training_full_df[\"gene_id_map\"] = data_training_full_df.apply(gene_id_map, axis=1)\n"
   ]
  },
  {
   "cell_type": "code",
   "execution_count": 14,
   "metadata": {},
   "outputs": [],
   "source": [
    "\n",
    "                                    \n",
    "data_training_full_df[\"missing_uniprot\"] = data_training_full_df.apply(missing_uniprot, axis=1)\n"
   ]
  },
  {
   "cell_type": "code",
   "execution_count": 15,
   "metadata": {},
   "outputs": [
    {
     "data": {
      "text/plain": [
       "predicted\n",
       "acetylation             6\n",
       "dephosphorylation      40\n",
       "deubiquitination        2\n",
       "methylation            11\n",
       "other                1246\n",
       "phosphorylation       151\n",
       "ubiquitination          5\n",
       "Name: predicted, dtype: int64"
      ]
     },
     "execution_count": 15,
     "metadata": {},
     "output_type": "execute_result"
    }
   ],
   "source": [
    "data_training_full_df.query( \"missing_uniprot == True\").groupby(\"predicted\")[\"predicted\"].count()"
   ]
  },
  {
   "cell_type": "code",
   "execution_count": 16,
   "metadata": {},
   "outputs": [
    {
     "data": {
      "text/plain": [
       "Series([], Name: predicted, dtype: int64)"
      ]
     },
     "execution_count": 16,
     "metadata": {},
     "output_type": "execute_result"
    }
   ],
   "source": [
    "data_training_full_df.query( \"missing_uniprot == False\").groupby(\"predicted\")[\"predicted\"].count()"
   ]
  },
  {
   "cell_type": "code",
   "execution_count": 17,
   "metadata": {},
   "outputs": [
    {
     "data": {
      "text/plain": [
       "Series([], Name: predicted, dtype: int64)"
      ]
     },
     "execution_count": 17,
     "metadata": {},
     "output_type": "execute_result"
    }
   ],
   "source": [
    "data_training_full_df.query(\"participant1Id == participant2Id\").groupby(\"predicted\")[\"predicted\"].count()"
   ]
  },
  {
   "cell_type": "code",
   "execution_count": 18,
   "metadata": {},
   "outputs": [
    {
     "data": {
      "text/plain": [
       "predicted\n",
       "acetylation           6\n",
       "dephosphorylation    10\n",
       "deubiquitination      2\n",
       "methylation          10\n",
       "other                10\n",
       "phosphorylation      10\n",
       "ubiquitination        5\n",
       "Name: predicted, dtype: int64"
      ]
     },
     "execution_count": 18,
     "metadata": {},
     "output_type": "execute_result"
    }
   ],
   "source": [
    "samples_subset = data_training_full_df.groupby('predicted', group_keys=False)\\\n",
    "                .apply(lambda x: x.sample(min(len(x), 10),random_state=45))\n",
    "\n",
    "samples_subset.groupby([\"predicted\"])[\"predicted\"].count()"
   ]
  },
  {
   "cell_type": "code",
   "execution_count": 19,
   "metadata": {},
   "outputs": [
    {
     "data": {
      "text/plain": [
       "pubmedId                         1\n",
       "abstract                         1\n",
       "annotations                      1\n",
       "num_unique_gene_normalised_id    1\n",
       "num_gene_normalised_id           1\n",
       "normalised_abstract              1\n",
       "participant1Id                   1\n",
       "participant2Id                   1\n",
       "gene_to_uniprot_map              1\n",
       "predicted                        1\n",
       "gene_id_map                      1\n",
       "missing_uniprot                  1\n",
       "dtype: int64"
      ]
     },
     "execution_count": 19,
     "metadata": {},
     "output_type": "execute_result"
    }
   ],
   "source": [
    "data_training_full_df.query(\"predicted == 'acetylation' and pubmedId=='19407811' \").count()"
   ]
  },
  {
   "cell_type": "code",
   "execution_count": 20,
   "metadata": {},
   "outputs": [
    {
     "data": {
      "text/html": [
       "<div>\n",
       "<style scoped>\n",
       "    .dataframe tbody tr th:only-of-type {\n",
       "        vertical-align: middle;\n",
       "    }\n",
       "\n",
       "    .dataframe tbody tr th {\n",
       "        vertical-align: top;\n",
       "    }\n",
       "\n",
       "    .dataframe thead th {\n",
       "        text-align: right;\n",
       "    }\n",
       "</style>\n",
       "<table border=\"1\" class=\"dataframe\">\n",
       "  <thead>\n",
       "    <tr style=\"text-align: right;\">\n",
       "      <th></th>\n",
       "      <th>pubmedId</th>\n",
       "      <th>abstract</th>\n",
       "      <th>annotations</th>\n",
       "      <th>num_unique_gene_normalised_id</th>\n",
       "      <th>num_gene_normalised_id</th>\n",
       "      <th>normalised_abstract</th>\n",
       "      <th>participant1Id</th>\n",
       "      <th>participant2Id</th>\n",
       "      <th>gene_to_uniprot_map</th>\n",
       "      <th>predicted</th>\n",
       "      <th>gene_id_map</th>\n",
       "      <th>missing_uniprot</th>\n",
       "    </tr>\n",
       "  </thead>\n",
       "  <tbody>\n",
       "    <tr>\n",
       "      <th>108</th>\n",
       "      <td>12471024</td>\n",
       "      <td>ClC chloride channels are widely distributed i...</td>\n",
       "      <td>[{'start': '111', 'end': '120', 'name': 'mamma...</td>\n",
       "      <td>5</td>\n",
       "      <td>13</td>\n",
       "      <td>ClC chloride channels are widely distributed i...</td>\n",
       "      <td>P13569</td>\n",
       "      <td>Q5T2W1</td>\n",
       "      <td>{'1182': ['P51790', 'B3KXK0'], '57120': ['Q9HD...</td>\n",
       "      <td>acetylation</td>\n",
       "      <td>{'1182': ['P51790', 'B3KXK0'], '57120': ['Q9HD...</td>\n",
       "      <td>True</td>\n",
       "    </tr>\n",
       "    <tr>\n",
       "      <th>103</th>\n",
       "      <td>22771473</td>\n",
       "      <td>Eukaryotic translation initiation factor 5A (e...</td>\n",
       "      <td>[{'start': '0', 'end': '43', 'name': 'Eukaryot...</td>\n",
       "      <td>4</td>\n",
       "      <td>11</td>\n",
       "      <td>P63241 (P63241) is a protein subject to hypusi...</td>\n",
       "      <td>Q92831</td>\n",
       "      <td>P63241</td>\n",
       "      <td>{'8850': 'Q92831', '10013': ['Q9UBN7', 'Q9BRX7...</td>\n",
       "      <td>acetylation</td>\n",
       "      <td>{'8850': 'Q92831', '10013': ['Q9UBN7', 'Q9BRX7...</td>\n",
       "      <td>True</td>\n",
       "    </tr>\n",
       "    <tr>\n",
       "      <th>157</th>\n",
       "      <td>21157427</td>\n",
       "      <td>SRSF2 is a serine/arginine-rich protein belong...</td>\n",
       "      <td>[{'start': '0', 'end': '5', 'name': 'SRSF2', '...</td>\n",
       "      <td>6</td>\n",
       "      <td>13</td>\n",
       "      <td>Q01130 is a serine/arginine-rich protein belon...</td>\n",
       "      <td>Q01130</td>\n",
       "      <td>Q92993</td>\n",
       "      <td>{'6732': ['Q96SB4'], '10524': 'Q92993', '6733'...</td>\n",
       "      <td>acetylation</td>\n",
       "      <td>{'6732': ['Q96SB4'], '10524': 'Q92993', '6733'...</td>\n",
       "      <td>True</td>\n",
       "    </tr>\n",
       "    <tr>\n",
       "      <th>44</th>\n",
       "      <td>26829474</td>\n",
       "      <td>Faithful segregation of chromosomes in mammali...</td>\n",
       "      <td>[{'start': '39', 'end': '48', 'name': 'mammali...</td>\n",
       "      <td>4</td>\n",
       "      <td>14</td>\n",
       "      <td>Faithful segregation of chromosomes in mammali...</td>\n",
       "      <td>Q96GD4</td>\n",
       "      <td>Q92993</td>\n",
       "      <td>{'9212': 'Q96GD4', '10524': 'Q92993', '983': [...</td>\n",
       "      <td>acetylation</td>\n",
       "      <td>{'9212': 'Q96GD4', '10524': 'Q92993', '983': [...</td>\n",
       "      <td>True</td>\n",
       "    </tr>\n",
       "    <tr>\n",
       "      <th>159</th>\n",
       "      <td>23441852</td>\n",
       "      <td>The regulation of gene repression by corepress...</td>\n",
       "      <td>[{'start': '214', 'end': '219', 'name': 'Alien...</td>\n",
       "      <td>4</td>\n",
       "      <td>11</td>\n",
       "      <td>The regulation of gene repression by corepress...</td>\n",
       "      <td>Q09472</td>\n",
       "      <td>P61201</td>\n",
       "      <td>{'9318': 'P61201', '2033': 'Q09472', '1387;203...</td>\n",
       "      <td>acetylation</td>\n",
       "      <td>{'9318': 'P61201', '2033': 'Q09472', '1387;203...</td>\n",
       "      <td>True</td>\n",
       "    </tr>\n",
       "    <tr>\n",
       "      <th>128</th>\n",
       "      <td>19407811</td>\n",
       "      <td>Regulation of BubR1 is central to the control ...</td>\n",
       "      <td>[{'start': '14', 'end': '19', 'name': 'BubR1',...</td>\n",
       "      <td>3</td>\n",
       "      <td>17</td>\n",
       "      <td>Regulation of O60566 is central to the control...</td>\n",
       "      <td>O60566</td>\n",
       "      <td>Q92831</td>\n",
       "      <td>{'701': 'O60566', '991': ['Q12834'], '8850': '...</td>\n",
       "      <td>acetylation</td>\n",
       "      <td>{'701': 'O60566', '991': ['Q12834'], '8850': '...</td>\n",
       "      <td>True</td>\n",
       "    </tr>\n",
       "  </tbody>\n",
       "</table>\n",
       "</div>"
      ],
      "text/plain": [
       "     pubmedId                                           abstract  \\\n",
       "108  12471024  ClC chloride channels are widely distributed i...   \n",
       "103  22771473  Eukaryotic translation initiation factor 5A (e...   \n",
       "157  21157427  SRSF2 is a serine/arginine-rich protein belong...   \n",
       "44   26829474  Faithful segregation of chromosomes in mammali...   \n",
       "159  23441852  The regulation of gene repression by corepress...   \n",
       "128  19407811  Regulation of BubR1 is central to the control ...   \n",
       "\n",
       "                                           annotations  \\\n",
       "108  [{'start': '111', 'end': '120', 'name': 'mamma...   \n",
       "103  [{'start': '0', 'end': '43', 'name': 'Eukaryot...   \n",
       "157  [{'start': '0', 'end': '5', 'name': 'SRSF2', '...   \n",
       "44   [{'start': '39', 'end': '48', 'name': 'mammali...   \n",
       "159  [{'start': '214', 'end': '219', 'name': 'Alien...   \n",
       "128  [{'start': '14', 'end': '19', 'name': 'BubR1',...   \n",
       "\n",
       "     num_unique_gene_normalised_id  num_gene_normalised_id  \\\n",
       "108                              5                      13   \n",
       "103                              4                      11   \n",
       "157                              6                      13   \n",
       "44                               4                      14   \n",
       "159                              4                      11   \n",
       "128                              3                      17   \n",
       "\n",
       "                                   normalised_abstract participant1Id  \\\n",
       "108  ClC chloride channels are widely distributed i...         P13569   \n",
       "103  P63241 (P63241) is a protein subject to hypusi...         Q92831   \n",
       "157  Q01130 is a serine/arginine-rich protein belon...         Q01130   \n",
       "44   Faithful segregation of chromosomes in mammali...         Q96GD4   \n",
       "159  The regulation of gene repression by corepress...         Q09472   \n",
       "128  Regulation of O60566 is central to the control...         O60566   \n",
       "\n",
       "    participant2Id                                gene_to_uniprot_map  \\\n",
       "108         Q5T2W1  {'1182': ['P51790', 'B3KXK0'], '57120': ['Q9HD...   \n",
       "103         P63241  {'8850': 'Q92831', '10013': ['Q9UBN7', 'Q9BRX7...   \n",
       "157         Q92993  {'6732': ['Q96SB4'], '10524': 'Q92993', '6733'...   \n",
       "44          Q92993  {'9212': 'Q96GD4', '10524': 'Q92993', '983': [...   \n",
       "159         P61201  {'9318': 'P61201', '2033': 'Q09472', '1387;203...   \n",
       "128         Q92831  {'701': 'O60566', '991': ['Q12834'], '8850': '...   \n",
       "\n",
       "       predicted                                        gene_id_map  \\\n",
       "108  acetylation  {'1182': ['P51790', 'B3KXK0'], '57120': ['Q9HD...   \n",
       "103  acetylation  {'8850': 'Q92831', '10013': ['Q9UBN7', 'Q9BRX7...   \n",
       "157  acetylation  {'6732': ['Q96SB4'], '10524': 'Q92993', '6733'...   \n",
       "44   acetylation  {'9212': 'Q96GD4', '10524': 'Q92993', '983': [...   \n",
       "159  acetylation  {'9318': 'P61201', '2033': 'Q09472', '1387;203...   \n",
       "128  acetylation  {'701': 'O60566', '991': ['Q12834'], '8850': '...   \n",
       "\n",
       "     missing_uniprot  \n",
       "108             True  \n",
       "103             True  \n",
       "157             True  \n",
       "44              True  \n",
       "159             True  \n",
       "128             True  "
      ]
     },
     "execution_count": 20,
     "metadata": {},
     "output_type": "execute_result"
    }
   ],
   "source": [
    "samples_subset.query(\"predicted == 'acetylation'\")"
   ]
  },
  {
   "cell_type": "code",
   "execution_count": 21,
   "metadata": {},
   "outputs": [],
   "source": [
    "import json\n",
    "import json\n",
    "def create_manifest_file(df, outfile):\n",
    "    items = df.to_dict(orient='records' )\n",
    "    with open(outfile , \"w\") as f:\n",
    "        for item in items:\n",
    "            # Write without new lines\n",
    "            item_m  = {}\n",
    "            item_m[\"source\"] = json.dumps(item)\n",
    "            f.write(json.dumps(item_m).replace(\"\\n\", \"\\t\"))\n",
    "            f.write(\"\\n\")"
   ]
  },
  {
   "cell_type": "code",
   "execution_count": 22,
   "metadata": {},
   "outputs": [
    {
     "data": {
      "text/plain": [
       "'s3://aegovan-data/processed_dataset_trainingdata/'"
      ]
     },
     "execution_count": 22,
     "metadata": {},
     "output_type": "execute_result"
    }
   ],
   "source": [
    " \"{}/\".format(s3_output_prefix.rstrip(\"/\"))"
   ]
  },
  {
   "cell_type": "code",
   "execution_count": 23,
   "metadata": {},
   "outputs": [],
   "source": [
    "samples_subset_file = \"predictions_sample_subset.json\"\n",
    "samples_subset.to_json(samples_subset_file, orient='records')\n",
    "upload_file(samples_subset_file, \"{}/\".format(s3_output_prefix.rstrip(\"/\")))\n",
    "\n",
    "\n",
    "manifest_file = \"predictions_sample_subset.mainfest\"\n",
    "create_manifest_file(samples_subset, manifest_file)\n",
    "upload_file(manifest_file, \"{}/\".format(s3_output_prefix.rstrip(\"/\")))\n",
    "\n",
    "# Create one manifest file per interaction type\n",
    "s3_manifests = []\n",
    "for i in filter(lambda x: x.lower() != 'other', list(samples_subset[\"predicted\"].unique())):\n",
    "    manifest_file = \"training_sample_subset_{}.mainfest\".format(i)\n",
    "    create_manifest_file( samples_subset.query(\"predicted == '{}'\".format(i)), manifest_file)\n",
    "    s3_manifest_file = \"{}/{}\".format(s3_output_prefix.rstrip(\"/\"), manifest_file.split(os.path.sep)[-1])\n",
    "    upload_file(manifest_file, s3_manifest_file)\n",
    "    s3_manifests.append(s3_manifest_file)\n"
   ]
  },
  {
   "cell_type": "markdown",
   "metadata": {},
   "source": [
    "### Create sagemaker ground truth labelling job"
   ]
  },
  {
   "cell_type": "code",
   "execution_count": 24,
   "metadata": {},
   "outputs": [],
   "source": [
    "import boto3\n",
    "import sagemaker"
   ]
  },
  {
   "cell_type": "code",
   "execution_count": 25,
   "metadata": {},
   "outputs": [],
   "source": [
    "from datetime import datetime\n",
    "\n",
    "def create_groundtruth_labelling_job(s3_manifest, s3_gt_output, s3_template, pre_lambda, post_lambda, role, workforce_name, job_name, label_attribute_name=\"class\", workforce_type= \"private-crowd\" ):\n",
    "    client = boto3.client('sagemaker')\n",
    "    \n",
    "    sagemaker_session = sagemaker.Session()\n",
    "    account_id =  boto3.client('sts').get_caller_identity().get('Account')\n",
    "    region = boto3.session.Session().region_name\n",
    "    \n",
    "    workforce_arn = \"arn:aws:sagemaker:{}:{}:workteam/{}/{}\".format(region, account_id, workforce_type, workforce_name)\n",
    "    role_arn = \"arn:aws:iam::{}:role/{}\".format( account_id,  role)\n",
    "    pre_lambda_arn = \"arn:aws:lambda:{}:{}:function:{}\".format(region, account_id,  pre_lambda)\n",
    "    post_lambda_arn = \"arn:aws:lambda:{}:{}:function:{}\".format(region, account_id,  post_lambda)\n",
    "    \n",
    "    num_workers_per_object = 1\n",
    "    task_time_limit_sec = 60  * 60 * 5\n",
    "    task_availablity_sec =60  * 60 * 24 * 10\n",
    "    \n",
    "    job = client.create_labeling_job(LabelingJobName=job_name\n",
    "                                    ,LabelAttributeName = label_attribute_name\n",
    "                                    ,InputConfig = {\n",
    "                                        \"DataSource\": {\n",
    "                                            'S3DataSource': {\n",
    "                                            'ManifestS3Uri': s3_manifest\n",
    "                                            }\n",
    "                                        }\n",
    "                                        \n",
    "                                    }\n",
    "                                  ,OutputConfig={\n",
    "                                        'S3OutputPath': s3_gt_output\n",
    "                                    }\n",
    "\n",
    "                                  , RoleArn = role_arn\n",
    "                                  , HumanTaskConfig={\n",
    "                                    'WorkteamArn': workforce_arn,\n",
    "                                    'UiConfig': {\n",
    "                                        'UiTemplateS3Uri': s3_template\n",
    "                                    },\n",
    "                                    'PreHumanTaskLambdaArn': pre_lambda_arn,\n",
    "                                    'TaskKeywords': [\n",
    "                                        'PPI',\n",
    "                                    ],\n",
    "                                    'TaskTitle': 'Verify PPI extraction for protein {}'.format(s3_manifest.split(\"/\")[-1]),\n",
    "                                    'TaskDescription': 'Verifies PPi extraction',\n",
    "                                    'NumberOfHumanWorkersPerDataObject': num_workers_per_object,\n",
    "                                    'TaskTimeLimitInSeconds': task_time_limit_sec,\n",
    "                                    'TaskAvailabilityLifetimeInSeconds': task_availablity_sec,\n",
    "                                    'MaxConcurrentTaskCount': 10,\n",
    "                                    'AnnotationConsolidationConfig': {\n",
    "                                        'AnnotationConsolidationLambdaArn': post_lambda_arn\n",
    "                                    }\n",
    "                                }\n",
    "                            )\n",
    "    \n",
    "    return job\n",
    "    \n",
    "    \n",
    "\n",
    "def create_groundtruth_labelling_multiple_jobs(lst_s3_manifests, s3_gt_output, s3_template, pre_lambda, post_lambda, role, workforce_name, job_prefix =\"ppi\", label_attribute_name=\"class\"):\n",
    "    job_prefix = \"{}-{}\".format(job_prefix , datetime.now().strftime(\"%Y%m%d%H%M%S\"))\n",
    "    for s3_manifest in lst_s3_manifests:\n",
    "        job_name = \"{}-{}\".format( job_prefix, s3_manifest.split(\"/\")[-1].split(\"_\")[-1].split(\".\")[0])\n",
    "        create_groundtruth_labelling_job(s3_manifest, s3_gt_output, s3_template, pre_lambda, post_lambda, role, workforce_name, job_name)"
   ]
  },
  {
   "cell_type": "code",
   "execution_count": 26,
   "metadata": {},
   "outputs": [
    {
     "name": "stdout",
     "output_type": "stream",
     "text": [
      "--2021-02-21 02:58:17--  https://raw.githubusercontent.com/elangovana/ppi-sagemaker-groundtruth-verification/main/src/template/template.html\n",
      "Resolving raw.githubusercontent.com (raw.githubusercontent.com)... 185.199.108.133, 185.199.109.133, 185.199.110.133, ...\n",
      "Connecting to raw.githubusercontent.com (raw.githubusercontent.com)|185.199.108.133|:443... connected.\n",
      "HTTP request sent, awaiting response... 200 OK\n",
      "Length: 3360 (3.3K) [text/plain]\n",
      "Saving to: ‘template.html.4’\n",
      "\n",
      "template.html.4     100%[===================>]   3.28K  --.-KB/s    in 0s      \n",
      "\n",
      "2021-02-21 02:58:17 (48.6 MB/s) - ‘template.html.4’ saved [3360/3360]\n",
      "\n"
     ]
    }
   ],
   "source": [
    "!wget https://raw.githubusercontent.com/elangovana/ppi-sagemaker-groundtruth-verification/main/src/template/template.html"
   ]
  },
  {
   "cell_type": "code",
   "execution_count": 27,
   "metadata": {},
   "outputs": [],
   "source": [
    "role_name = \"service-role/AmazonSageMaker-ExecutionRole-20210104T161547\"\n",
    "pre_lambda=\"Sagemaker-ppipreprocessing\"\n",
    "post_lambda=\"sagemaker-ppipostprocessing\"\n",
    "s3_gt_output = \"{}_trainingdata_groundtruth/\".format(\"/\".join(s3_prefix.split(\"/\")[0:-1]))\n",
    "workforce_name = \"ppi-team\"\n",
    "s3_template_file = \"{}_gt_templatet/template.html\".format(\"/\".join(s3_prefix.split(\"/\")[0:-1]))\n",
    "\n",
    "upload_file(\"template.html\", s3_template_file )\n",
    "create_groundtruth_labelling_multiple_jobs (s3_manifests,s3_gt_output, s3_template_file,pre_lambda, post_lambda, role_name, workforce_name)"
   ]
  }
 ],
 "metadata": {
  "kernelspec": {
   "name": "python3",
   "language": "python",
   "display_name": "Python 3"
  },
  "language_info": {
   "codemirror_mode": {
    "name": "ipython",
    "version": 3
   },
   "file_extension": ".py",
   "mimetype": "text/x-python",
   "name": "python",
   "nbconvert_exporter": "python",
   "pygments_lexer": "ipython3",
   "version": "3.6.10"
  }
 },
 "nbformat": 4,
 "nbformat_minor": 1
}