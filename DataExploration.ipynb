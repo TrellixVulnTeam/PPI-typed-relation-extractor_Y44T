{
 "cells": [
  {
   "cell_type": "markdown",
   "metadata": {
    "collapsed": true
   },
   "source": [
    "## Data Exploration"
   ]
  },
  {
   "cell_type": "code",
   "execution_count": 1,
   "metadata": {},
   "outputs": [],
   "source": [
    "\n",
    "s3_data =\"s3://aegovan-data/human_output/human_interactions_ppi_v2.json\"\n",
    "s3_annotations =\"s3://aegovan-data/processed_dataset/input_data_pubtator_annotated_human.txt\"\n",
    "s3_results_prefix = \"s3://aegovan-data/processed_dataset/\"\n",
    "human_idmapping_dat = \"./data/HUMAN_9606_idmapping.dat\"\n",
    "idmapping_dat=\"./tmpmap.dat\""
   ]
  },
  {
   "cell_type": "code",
   "execution_count": 2,
   "metadata": {},
   "outputs": [
    {
     "name": "stdout",
     "output_type": "stream",
     "text": [
      " 6069679 ./tmpmap.dat\r\n"
     ]
    }
   ],
   "source": [
    "!cp $human_idmapping_dat $idmapping_dat\n",
    "!wc -l $idmapping_dat"
   ]
  },
  {
   "cell_type": "code",
   "execution_count": 3,
   "metadata": {},
   "outputs": [],
   "source": [
    "import logging, sys\n",
    "\n",
    "# Set up logging\n",
    "logging.basicConfig(level=logging.getLevelName(\"INFO\"), handlers=[logging.StreamHandler(sys.stdout)],\n",
    "                        format='%(asctime)s - %(name)s - %(levelname)s - %(message)s')\n"
   ]
  },
  {
   "cell_type": "code",
   "execution_count": 4,
   "metadata": {},
   "outputs": [],
   "source": [
    "import boto3\n",
    "\n",
    "def download_single_file(bucket_name_path, local_path):\n",
    "    index = bucket_name_path.find(\"://\")\n",
    "\n",
    "    # remove the s3:// if present\n",
    "    if index > -1:\n",
    "        bucket_name_path = bucket_name_path[index + 3:]\n",
    "\n",
    "    key_start_index = bucket_name_path.find(\"/\")\n",
    "    bucket_name = bucket_name_path\n",
    "    key = \"/\"\n",
    "    if key_start_index > -1:\n",
    "        bucket_name = bucket_name_path[0:key_start_index]\n",
    "        key = bucket_name_path[key_start_index + 1:]\n",
    "        \n",
    "    client = boto3.resource('s3')\n",
    "    client.Bucket(bucket_name).download_file(key, local_path)\n"
   ]
  },
  {
   "cell_type": "code",
   "execution_count": 5,
   "metadata": {},
   "outputs": [],
   "source": [
    "data_file=\"input_data.json\"\n",
    "annotations_file=\"input_data_annotations.txt\""
   ]
  },
  {
   "cell_type": "code",
   "execution_count": 6,
   "metadata": {},
   "outputs": [
    {
     "name": "stdout",
     "output_type": "stream",
     "text": [
      "2021-02-20 18:52:11,980 - botocore.credentials - INFO - Found credentials in shared credentials file: ~/.aws/credentials\n"
     ]
    }
   ],
   "source": [
    "download_single_file(s3_data, data_file)"
   ]
  },
  {
   "cell_type": "code",
   "execution_count": 7,
   "metadata": {},
   "outputs": [],
   "source": [
    "download_single_file(s3_annotations, annotations_file)"
   ]
  },
  {
   "cell_type": "code",
   "execution_count": 8,
   "metadata": {},
   "outputs": [
    {
     "name": "stdout",
     "output_type": "stream",
     "text": [
      "Total number of records: 3381\n"
     ]
    }
   ],
   "source": [
    "\n",
    "import pandas as pd\n",
    "\n",
    "data = pd.read_json(data_file)\n",
    "\n",
    "print(\"Total number of records: {}\".format(data.shape[0]))"
   ]
  },
  {
   "cell_type": "code",
   "execution_count": 9,
   "metadata": {},
   "outputs": [
    {
     "data": {
      "text/plain": [
       "850"
      ]
     },
     "execution_count": 9,
     "metadata": {},
     "output_type": "execute_result"
    }
   ],
   "source": [
    "data.pubmedId.nunique()"
   ]
  },
  {
   "cell_type": "code",
   "execution_count": 10,
   "metadata": {},
   "outputs": [],
   "source": [
    "\n",
    "pd.set_option('display.max_columns', None)\n",
    "pd.set_option('display.max_colwidth', 10000)\n",
    "pd.set_option('display.max_rows', 100)\n",
    "\n",
    "import matplotlib.pyplot as plt\n",
    "plt.rcParams['font.family'] = 'sans-serif'\n",
    "plt.rcParams['font.sans-serif'] = ['Times']\n",
    "plt.rcParams.update({'font.size': 12})"
   ]
  },
  {
   "cell_type": "markdown",
   "metadata": {},
   "source": [
    "## Preliminary data transformations"
   ]
  },
  {
   "cell_type": "code",
   "execution_count": 11,
   "metadata": {},
   "outputs": [],
   "source": [
    "#TODO: Fix data format\n",
    "data[\"pubmedId\"] = data[\"pubmedId\"].astype(str)\n",
    "data[\"interactionId\"] = data[\"interactionId\"].astype(str)\n",
    "data[\"isValid\"] =  data.isNegative.isin(['false', '0', 'False'])\n",
    "data = data.drop('isNegative', axis=1)"
   ]
  },
  {
   "cell_type": "markdown",
   "metadata": {},
   "source": [
    "### Sneak preview of the data"
   ]
  },
  {
   "cell_type": "code",
   "execution_count": 12,
   "metadata": {},
   "outputs": [
    {
     "data": {
      "text/html": [
       "<div>\n",
       "<style scoped>\n",
       "    .dataframe tbody tr th:only-of-type {\n",
       "        vertical-align: middle;\n",
       "    }\n",
       "\n",
       "    .dataframe tbody tr th {\n",
       "        vertical-align: top;\n",
       "    }\n",
       "\n",
       "    .dataframe thead th {\n",
       "        text-align: right;\n",
       "    }\n",
       "</style>\n",
       "<table border=\"1\" class=\"dataframe\">\n",
       "  <thead>\n",
       "    <tr style=\"text-align: right;\">\n",
       "      <th></th>\n",
       "      <th>interactionId</th>\n",
       "      <th>interactionType</th>\n",
       "      <th>participants</th>\n",
       "      <th>pubmedId</th>\n",
       "      <th>pubmedTitle</th>\n",
       "      <th>pubmedabstract</th>\n",
       "      <th>isValid</th>\n",
       "    </tr>\n",
       "  </thead>\n",
       "  <tbody>\n",
       "    <tr>\n",
       "      <th>0</th>\n",
       "      <td>1585513</td>\n",
       "      <td>phosphorylation</td>\n",
       "      <td>[{'uniprotid': 'Q10728', 'alias': [['mypt1_rat'], ['Protein phosphatase 1 regulatory subunit 12A'], ['Ppp1r12a'], ['Mbs'], ['Mypt1'], ['Myosin phosphatase-targeting subunit 1'], ['Protein phosphatase myosin-binding subunit'], ['MBSP'], ['Serine/threonine protein phosphatase PP1 smooth muscle regulatory subunit M110'], ['Protein phosphatase subunit 1M']], 'alternative_uniprots': ['Q62937', 'Q9WU33']}, {'uniprotid': 'O43293-2', 'alias': [['o43293-2'], ['Death-associated protein kinase 3'], ['ZIPK-S'], ['DAPK3'], ['ZIPK'], ['DAP-like kinase'], ['MYPT1 kinase'], ['Zipper-interacting protein kinase']], 'alternative_uniprots': []}]</td>\n",
       "      <td>17126281</td>\n",
       "      <td>None</td>\n",
       "      <td>Zipper-interacting protein kinase (ZIP kinase) has been thought to be involved in apoptosis and the C-terminal leucine zipper motif is important for its function. Recent studies have revealed that ZIP kinase also plays a role in regulating myosin phosphorylation. Here, we found novel ZIP kinase isoform in which the C-terminal non-kinase domain containing a leucine zipper is eliminated (hZIPK-S). hZIPK-S binds to myosin phosphatase targeting subunit 1(MYPT1) similar to the long isoform (hZIPK-L). In addition, we found that hZIPK-S as well as hZIPK-L bind to myosin. These results indicate that a leucine zipper is not critical for the binding of ZIP kinase to MYPT1 and myosin. Consistently, hZIPK-S localized with stress-fibers where they co-localized with myosin. The residues 278-311, the C-terminal side of the kinase domain common to the both isoforms, is involved in the binding to MYPT1, while the myosin binding domain is within the kinase domain. These results suggest that the newly found hZIPK-S as well as the long isoform play an important role in the regulation of myosin phosphorylation.</td>\n",
       "      <td>True</td>\n",
       "    </tr>\n",
       "    <tr>\n",
       "      <th>1</th>\n",
       "      <td>1585516</td>\n",
       "      <td>phosphorylation</td>\n",
       "      <td>[{'uniprotid': 'O43293-1', 'alias': [['o43293-1'], ['Death-associated protein kinase 3'], ['ZIPK-L'], ['DAPK3'], ['ZIPK'], ['DAP-like kinase'], ['MYPT1 kinase'], ['Zipper-interacting protein kinase']], 'alternative_uniprots': []}, {'uniprotid': 'Q10728', 'alias': [['mypt1_rat'], ['Protein phosphatase 1 regulatory subunit 12A'], ['Ppp1r12a'], ['Mbs'], ['Mypt1'], ['Myosin phosphatase-targeting subunit 1'], ['Protein phosphatase myosin-binding subunit'], ['MBSP'], ['Serine/threonine protein phosphatase PP1 smooth muscle regulatory subunit M110'], ['Protein phosphatase subunit 1M']], 'alternative_uniprots': ['Q62937', 'Q9WU33']}]</td>\n",
       "      <td>17126281</td>\n",
       "      <td>None</td>\n",
       "      <td>Zipper-interacting protein kinase (ZIP kinase) has been thought to be involved in apoptosis and the C-terminal leucine zipper motif is important for its function. Recent studies have revealed that ZIP kinase also plays a role in regulating myosin phosphorylation. Here, we found novel ZIP kinase isoform in which the C-terminal non-kinase domain containing a leucine zipper is eliminated (hZIPK-S). hZIPK-S binds to myosin phosphatase targeting subunit 1(MYPT1) similar to the long isoform (hZIPK-L). In addition, we found that hZIPK-S as well as hZIPK-L bind to myosin. These results indicate that a leucine zipper is not critical for the binding of ZIP kinase to MYPT1 and myosin. Consistently, hZIPK-S localized with stress-fibers where they co-localized with myosin. The residues 278-311, the C-terminal side of the kinase domain common to the both isoforms, is involved in the binding to MYPT1, while the myosin binding domain is within the kinase domain. These results suggest that the newly found hZIPK-S as well as the long isoform play an important role in the regulation of myosin phosphorylation.</td>\n",
       "      <td>True</td>\n",
       "    </tr>\n",
       "    <tr>\n",
       "      <th>2</th>\n",
       "      <td>1585519</td>\n",
       "      <td>phosphorylation</td>\n",
       "      <td>[{'uniprotid': 'O43293-2', 'alias': [['o43293-2'], ['Death-associated protein kinase 3'], ['ZIPK-S'], ['DAPK3'], ['ZIPK'], ['DAP-like kinase'], ['MYPT1 kinase'], ['Zipper-interacting protein kinase']], 'alternative_uniprots': []}]</td>\n",
       "      <td>17126281</td>\n",
       "      <td>None</td>\n",
       "      <td>Zipper-interacting protein kinase (ZIP kinase) has been thought to be involved in apoptosis and the C-terminal leucine zipper motif is important for its function. Recent studies have revealed that ZIP kinase also plays a role in regulating myosin phosphorylation. Here, we found novel ZIP kinase isoform in which the C-terminal non-kinase domain containing a leucine zipper is eliminated (hZIPK-S). hZIPK-S binds to myosin phosphatase targeting subunit 1(MYPT1) similar to the long isoform (hZIPK-L). In addition, we found that hZIPK-S as well as hZIPK-L bind to myosin. These results indicate that a leucine zipper is not critical for the binding of ZIP kinase to MYPT1 and myosin. Consistently, hZIPK-S localized with stress-fibers where they co-localized with myosin. The residues 278-311, the C-terminal side of the kinase domain common to the both isoforms, is involved in the binding to MYPT1, while the myosin binding domain is within the kinase domain. These results suggest that the newly found hZIPK-S as well as the long isoform play an important role in the regulation of myosin phosphorylation.</td>\n",
       "      <td>True</td>\n",
       "    </tr>\n",
       "  </tbody>\n",
       "</table>\n",
       "</div>"
      ],
      "text/plain": [
       "  interactionId  interactionType  \\\n",
       "0       1585513  phosphorylation   \n",
       "1       1585516  phosphorylation   \n",
       "2       1585519  phosphorylation   \n",
       "\n",
       "                                                                                                                                                                                                                                                                                                                                                                                                                                                                                                                                                                                                                                                participants  \\\n",
       "0  [{'uniprotid': 'Q10728', 'alias': [['mypt1_rat'], ['Protein phosphatase 1 regulatory subunit 12A'], ['Ppp1r12a'], ['Mbs'], ['Mypt1'], ['Myosin phosphatase-targeting subunit 1'], ['Protein phosphatase myosin-binding subunit'], ['MBSP'], ['Serine/threonine protein phosphatase PP1 smooth muscle regulatory subunit M110'], ['Protein phosphatase subunit 1M']], 'alternative_uniprots': ['Q62937', 'Q9WU33']}, {'uniprotid': 'O43293-2', 'alias': [['o43293-2'], ['Death-associated protein kinase 3'], ['ZIPK-S'], ['DAPK3'], ['ZIPK'], ['DAP-like kinase'], ['MYPT1 kinase'], ['Zipper-interacting protein kinase']], 'alternative_uniprots': []}]   \n",
       "1  [{'uniprotid': 'O43293-1', 'alias': [['o43293-1'], ['Death-associated protein kinase 3'], ['ZIPK-L'], ['DAPK3'], ['ZIPK'], ['DAP-like kinase'], ['MYPT1 kinase'], ['Zipper-interacting protein kinase']], 'alternative_uniprots': []}, {'uniprotid': 'Q10728', 'alias': [['mypt1_rat'], ['Protein phosphatase 1 regulatory subunit 12A'], ['Ppp1r12a'], ['Mbs'], ['Mypt1'], ['Myosin phosphatase-targeting subunit 1'], ['Protein phosphatase myosin-binding subunit'], ['MBSP'], ['Serine/threonine protein phosphatase PP1 smooth muscle regulatory subunit M110'], ['Protein phosphatase subunit 1M']], 'alternative_uniprots': ['Q62937', 'Q9WU33']}]   \n",
       "2                                                                                                                                                                                                                                                                                                                                                                                                                     [{'uniprotid': 'O43293-2', 'alias': [['o43293-2'], ['Death-associated protein kinase 3'], ['ZIPK-S'], ['DAPK3'], ['ZIPK'], ['DAP-like kinase'], ['MYPT1 kinase'], ['Zipper-interacting protein kinase']], 'alternative_uniprots': []}]   \n",
       "\n",
       "   pubmedId pubmedTitle  \\\n",
       "0  17126281        None   \n",
       "1  17126281        None   \n",
       "2  17126281        None   \n",
       "\n",
       "                                                                                                                                                                                                                                                                                                                                                                                                                                                                                                                                                                                                                                                                                                                                                                                                                                                                                                                                                                                                                                                                                                                                        pubmedabstract  \\\n",
       "0  Zipper-interacting protein kinase (ZIP kinase) has been thought to be involved in apoptosis and the C-terminal leucine zipper motif is important for its function. Recent studies have revealed that ZIP kinase also plays a role in regulating myosin phosphorylation. Here, we found novel ZIP kinase isoform in which the C-terminal non-kinase domain containing a leucine zipper is eliminated (hZIPK-S). hZIPK-S binds to myosin phosphatase targeting subunit 1(MYPT1) similar to the long isoform (hZIPK-L). In addition, we found that hZIPK-S as well as hZIPK-L bind to myosin. These results indicate that a leucine zipper is not critical for the binding of ZIP kinase to MYPT1 and myosin. Consistently, hZIPK-S localized with stress-fibers where they co-localized with myosin. The residues 278-311, the C-terminal side of the kinase domain common to the both isoforms, is involved in the binding to MYPT1, while the myosin binding domain is within the kinase domain. These results suggest that the newly found hZIPK-S as well as the long isoform play an important role in the regulation of myosin phosphorylation.   \n",
       "1  Zipper-interacting protein kinase (ZIP kinase) has been thought to be involved in apoptosis and the C-terminal leucine zipper motif is important for its function. Recent studies have revealed that ZIP kinase also plays a role in regulating myosin phosphorylation. Here, we found novel ZIP kinase isoform in which the C-terminal non-kinase domain containing a leucine zipper is eliminated (hZIPK-S). hZIPK-S binds to myosin phosphatase targeting subunit 1(MYPT1) similar to the long isoform (hZIPK-L). In addition, we found that hZIPK-S as well as hZIPK-L bind to myosin. These results indicate that a leucine zipper is not critical for the binding of ZIP kinase to MYPT1 and myosin. Consistently, hZIPK-S localized with stress-fibers where they co-localized with myosin. The residues 278-311, the C-terminal side of the kinase domain common to the both isoforms, is involved in the binding to MYPT1, while the myosin binding domain is within the kinase domain. These results suggest that the newly found hZIPK-S as well as the long isoform play an important role in the regulation of myosin phosphorylation.   \n",
       "2  Zipper-interacting protein kinase (ZIP kinase) has been thought to be involved in apoptosis and the C-terminal leucine zipper motif is important for its function. Recent studies have revealed that ZIP kinase also plays a role in regulating myosin phosphorylation. Here, we found novel ZIP kinase isoform in which the C-terminal non-kinase domain containing a leucine zipper is eliminated (hZIPK-S). hZIPK-S binds to myosin phosphatase targeting subunit 1(MYPT1) similar to the long isoform (hZIPK-L). In addition, we found that hZIPK-S as well as hZIPK-L bind to myosin. These results indicate that a leucine zipper is not critical for the binding of ZIP kinase to MYPT1 and myosin. Consistently, hZIPK-S localized with stress-fibers where they co-localized with myosin. The residues 278-311, the C-terminal side of the kinase domain common to the both isoforms, is involved in the binding to MYPT1, while the myosin binding domain is within the kinase domain. These results suggest that the newly found hZIPK-S as well as the long isoform play an important role in the regulation of myosin phosphorylation.   \n",
       "\n",
       "   isValid  \n",
       "0     True  \n",
       "1     True  \n",
       "2     True  "
      ]
     },
     "execution_count": 12,
     "metadata": {},
     "output_type": "execute_result"
    }
   ],
   "source": [
    "data.head(n=3)"
   ]
  },
  {
   "cell_type": "code",
   "execution_count": 13,
   "metadata": {},
   "outputs": [
    {
     "data": {
      "text/plain": [
       "(3381, 7)"
      ]
     },
     "execution_count": 13,
     "metadata": {},
     "output_type": "execute_result"
    }
   ],
   "source": [
    "data.shape"
   ]
  },
  {
   "cell_type": "code",
   "execution_count": 14,
   "metadata": {},
   "outputs": [],
   "source": [
    "def to_percent(y, position):\n",
    "    # Ignore the passed in position. This has the effect of scaling the default\n",
    "    # tick locations.\n",
    "    s = str(100 * y)\n",
    "\n",
    "    # The percent symbol needs escaping in latex\n",
    "    if matplotlib.rcParams['text.usetex'] is True:\n",
    "        return s + r'$\\%$'\n",
    "    else:\n",
    "        return s + '%'"
   ]
  },
  {
   "cell_type": "markdown",
   "metadata": {},
   "source": [
    "## Duplicate interactions"
   ]
  },
  {
   "cell_type": "code",
   "execution_count": 15,
   "metadata": {},
   "outputs": [],
   "source": [
    "def flat_participants_list(list_of_uniprot_dict):\n",
    "    return frozenset([item[\"uniprotid\"]  for item in list_of_uniprot_dict])\n",
    "         \n",
    "data[\"flatparticpants\"]= data[\"participants\"].apply(flat_participants_list)"
   ]
  },
  {
   "cell_type": "code",
   "execution_count": 16,
   "metadata": {},
   "outputs": [
    {
     "data": {
      "text/plain": [
       "pubmedId  flatparticpants         interactionType  \n",
       "23560844  (P35813, P28482)        dephosphorylation    17\n",
       "22514276  (Q14524, Q13557)        phosphorylation      12\n",
       "19407811  (O60566, Q92831)        acetylation          10\n",
       "20729810  (P43250, P52205)        phosphorylation       9\n",
       "27373337  (Q86U44, Q9HCE5, None)  methylation           9\n",
       "                                                       ..\n",
       "21887822  (P08107, P53350)        phosphorylation       2\n",
       "          (P53350, P23588)        phosphorylation       2\n",
       "21806020  (P18031, P05556)        dephosphorylation     2\n",
       "21782458  (P04637, Q9NRG4)        methylation           2\n",
       "10366608  (P17612, P48058)        phosphorylation       2\n",
       "Length: 353, dtype: int64"
      ]
     },
     "execution_count": 16,
     "metadata": {},
     "output_type": "execute_result"
    }
   ],
   "source": [
    "data.groupby([\"pubmedId\", \"flatparticpants\", \"interactionType\"])\\\n",
    "    .filter(lambda x: len(x) > 1)\\\n",
    "    .groupby([\"pubmedId\", \"flatparticpants\", \"interactionType\"])\\\n",
    "    .size()\\\n",
    "    .sort_values(ascending=False)\n"
   ]
  },
  {
   "cell_type": "code",
   "execution_count": 17,
   "metadata": {},
   "outputs": [
    {
     "data": {
      "text/html": [
       "<div>\n",
       "<style scoped>\n",
       "    .dataframe tbody tr th:only-of-type {\n",
       "        vertical-align: middle;\n",
       "    }\n",
       "\n",
       "    .dataframe tbody tr th {\n",
       "        vertical-align: top;\n",
       "    }\n",
       "\n",
       "    .dataframe thead th {\n",
       "        text-align: right;\n",
       "    }\n",
       "</style>\n",
       "<table border=\"1\" class=\"dataframe\">\n",
       "  <thead>\n",
       "    <tr style=\"text-align: right;\">\n",
       "      <th></th>\n",
       "      <th>pubmedId</th>\n",
       "      <th>flatparticpants</th>\n",
       "      <th>interactionType</th>\n",
       "      <th>interactionId</th>\n",
       "    </tr>\n",
       "  </thead>\n",
       "  <tbody>\n",
       "    <tr>\n",
       "      <th>2348</th>\n",
       "      <td>23560844</td>\n",
       "      <td>(P35813, P28482)</td>\n",
       "      <td>dephosphorylation</td>\n",
       "      <td>1403258</td>\n",
       "    </tr>\n",
       "    <tr>\n",
       "      <th>2349</th>\n",
       "      <td>23560844</td>\n",
       "      <td>(P35813, P28482)</td>\n",
       "      <td>dephosphorylation</td>\n",
       "      <td>1403266</td>\n",
       "    </tr>\n",
       "    <tr>\n",
       "      <th>2350</th>\n",
       "      <td>23560844</td>\n",
       "      <td>(P35813, Q16539)</td>\n",
       "      <td>dephosphorylation</td>\n",
       "      <td>1403273</td>\n",
       "    </tr>\n",
       "    <tr>\n",
       "      <th>2351</th>\n",
       "      <td>23560844</td>\n",
       "      <td>(P35813, Q16539)</td>\n",
       "      <td>dephosphorylation</td>\n",
       "      <td>1403280</td>\n",
       "    </tr>\n",
       "    <tr>\n",
       "      <th>2352</th>\n",
       "      <td>23560844</td>\n",
       "      <td>(P35813, P28482)</td>\n",
       "      <td>dephosphorylation</td>\n",
       "      <td>1403286</td>\n",
       "    </tr>\n",
       "    <tr>\n",
       "      <th>2353</th>\n",
       "      <td>23560844</td>\n",
       "      <td>(P35813, P28482)</td>\n",
       "      <td>dephosphorylation</td>\n",
       "      <td>1403295</td>\n",
       "    </tr>\n",
       "    <tr>\n",
       "      <th>2354</th>\n",
       "      <td>23560844</td>\n",
       "      <td>(P35813, P28482)</td>\n",
       "      <td>dephosphorylation</td>\n",
       "      <td>1403303</td>\n",
       "    </tr>\n",
       "    <tr>\n",
       "      <th>2355</th>\n",
       "      <td>23560844</td>\n",
       "      <td>(P35813, P28482)</td>\n",
       "      <td>dephosphorylation</td>\n",
       "      <td>1403312</td>\n",
       "    </tr>\n",
       "    <tr>\n",
       "      <th>2356</th>\n",
       "      <td>23560844</td>\n",
       "      <td>(P35813, P28482)</td>\n",
       "      <td>dephosphorylation</td>\n",
       "      <td>1403321</td>\n",
       "    </tr>\n",
       "    <tr>\n",
       "      <th>2357</th>\n",
       "      <td>23560844</td>\n",
       "      <td>(P35813, P28482)</td>\n",
       "      <td>dephosphorylation</td>\n",
       "      <td>1403330</td>\n",
       "    </tr>\n",
       "    <tr>\n",
       "      <th>2358</th>\n",
       "      <td>23560844</td>\n",
       "      <td>(P35813, P28482)</td>\n",
       "      <td>dephosphorylation</td>\n",
       "      <td>1403339</td>\n",
       "    </tr>\n",
       "    <tr>\n",
       "      <th>2359</th>\n",
       "      <td>23560844</td>\n",
       "      <td>(P35813, P28482)</td>\n",
       "      <td>dephosphorylation</td>\n",
       "      <td>1403347</td>\n",
       "    </tr>\n",
       "    <tr>\n",
       "      <th>2360</th>\n",
       "      <td>23560844</td>\n",
       "      <td>(P35813, P28482)</td>\n",
       "      <td>dephosphorylation</td>\n",
       "      <td>1403355</td>\n",
       "    </tr>\n",
       "    <tr>\n",
       "      <th>2361</th>\n",
       "      <td>23560844</td>\n",
       "      <td>(P35813, P28482)</td>\n",
       "      <td>dephosphorylation</td>\n",
       "      <td>1403363</td>\n",
       "    </tr>\n",
       "    <tr>\n",
       "      <th>2362</th>\n",
       "      <td>23560844</td>\n",
       "      <td>(P35813, P28482)</td>\n",
       "      <td>dephosphorylation</td>\n",
       "      <td>1403372</td>\n",
       "    </tr>\n",
       "    <tr>\n",
       "      <th>2363</th>\n",
       "      <td>23560844</td>\n",
       "      <td>(P35813, P28482)</td>\n",
       "      <td>dephosphorylation</td>\n",
       "      <td>1403381</td>\n",
       "    </tr>\n",
       "    <tr>\n",
       "      <th>2364</th>\n",
       "      <td>23560844</td>\n",
       "      <td>(P35813, P28482)</td>\n",
       "      <td>dephosphorylation</td>\n",
       "      <td>1403390</td>\n",
       "    </tr>\n",
       "    <tr>\n",
       "      <th>2365</th>\n",
       "      <td>23560844</td>\n",
       "      <td>(P35813, P28482)</td>\n",
       "      <td>dephosphorylation</td>\n",
       "      <td>1403398</td>\n",
       "    </tr>\n",
       "    <tr>\n",
       "      <th>2366</th>\n",
       "      <td>23560844</td>\n",
       "      <td>(P35813, P28482)</td>\n",
       "      <td>dephosphorylation</td>\n",
       "      <td>1403406</td>\n",
       "    </tr>\n",
       "  </tbody>\n",
       "</table>\n",
       "</div>"
      ],
      "text/plain": [
       "      pubmedId   flatparticpants    interactionType interactionId\n",
       "2348  23560844  (P35813, P28482)  dephosphorylation       1403258\n",
       "2349  23560844  (P35813, P28482)  dephosphorylation       1403266\n",
       "2350  23560844  (P35813, Q16539)  dephosphorylation       1403273\n",
       "2351  23560844  (P35813, Q16539)  dephosphorylation       1403280\n",
       "2352  23560844  (P35813, P28482)  dephosphorylation       1403286\n",
       "2353  23560844  (P35813, P28482)  dephosphorylation       1403295\n",
       "2354  23560844  (P35813, P28482)  dephosphorylation       1403303\n",
       "2355  23560844  (P35813, P28482)  dephosphorylation       1403312\n",
       "2356  23560844  (P35813, P28482)  dephosphorylation       1403321\n",
       "2357  23560844  (P35813, P28482)  dephosphorylation       1403330\n",
       "2358  23560844  (P35813, P28482)  dephosphorylation       1403339\n",
       "2359  23560844  (P35813, P28482)  dephosphorylation       1403347\n",
       "2360  23560844  (P35813, P28482)  dephosphorylation       1403355\n",
       "2361  23560844  (P35813, P28482)  dephosphorylation       1403363\n",
       "2362  23560844  (P35813, P28482)  dephosphorylation       1403372\n",
       "2363  23560844  (P35813, P28482)  dephosphorylation       1403381\n",
       "2364  23560844  (P35813, P28482)  dephosphorylation       1403390\n",
       "2365  23560844  (P35813, P28482)  dephosphorylation       1403398\n",
       "2366  23560844  (P35813, P28482)  dephosphorylation       1403406"
      ]
     },
     "execution_count": 17,
     "metadata": {},
     "output_type": "execute_result"
    }
   ],
   "source": [
    "data.query(\"pubmedId=='23560844'\")[[\"pubmedId\",  \"flatparticpants\", \"interactionType\",\"interactionId\"]]\\\n",
    "    .sort_values(by=\"interactionId\")"
   ]
  },
  {
   "cell_type": "markdown",
   "metadata": {},
   "source": [
    "### Number of interactions per paper\n",
    "**Note: The number of interactions per paper only takes the filtered interactions extracted from the Intact database**"
   ]
  },
  {
   "cell_type": "code",
   "execution_count": 18,
   "metadata": {},
   "outputs": [
    {
     "name": "stderr",
     "output_type": "stream",
     "text": [
      "/Users/aeg/venv/PPI-typed-relation-extractor/lib/python3.7/site-packages/matplotlib/font_manager.py:1238: UserWarning: findfont: Font family ['sans-serif'] not found. Falling back to DejaVu Sans.\n",
      "  (prop.get_family(), self.defaultFamily[fontext]))\n"
     ]
    },
    {
     "data": {
      "image/png": "[encoded data removed]",
      "text/plain": [
       "<Figure size 720x360 with 1 Axes>"
      ]
     },
     "metadata": {
      "needs_background": "light"
     },
     "output_type": "display_data"
    }
   ],
   "source": [
    "import matplotlib.pyplot as plt\n",
    "import numpy as np \n",
    "\n",
    "ax = plt.axes( yscale='log')\n",
    "ax.xaxis.set_major_locator(plt.MaxNLocator(10, prune='lower'))\n",
    "\n",
    "#sns.distplot(data.pubmedId.value_counts().tolist(), bins=100, kde=False, norm_hist=True)\n",
    "\n",
    "data.pubmedId.value_counts().plot.hist (bins=250,figsize=(10,5), ax=ax, color='dodgerblue')\n",
    "plt.title('Histogram - number of interactions per pubmed')\n",
    "plt.xlabel('Number of interactions per Pubmed paper')\n",
    "plt.ylabel('Frequency')\n",
    "#plt.show()\n",
    "plt.savefig('PaperVsInteractions.eps', bbox_inches='tight')\n",
    "plt.savefig('PaperVsInteractions.png', bbox_inches='tight')\n",
    "plt.show()"
   ]
  },
  {
   "cell_type": "code",
   "execution_count": 19,
   "metadata": {},
   "outputs": [
    {
     "data": {
      "image/png": "[encoded data removed]",
      "text/plain": [
       "<Figure size 1080x360 with 1 Axes>"
      ]
     },
     "metadata": {
      "needs_background": "light"
     },
     "output_type": "display_data"
    }
   ],
   "source": [
    "df = data.pubmedId.value_counts().hist (bins=range(1, 30), figsize=(15,5), color = 'red')\n",
    "\n",
    "plt.title('Papers vs number of interactions distribution ( Filtered distribution of interactions between 1 to 30)')\n",
    "plt.xlabel('Number of interactions per paper')\n",
    "plt.ylabel('Total number of papers')\n",
    "\n",
    "plt.show()"
   ]
  },
  {
   "cell_type": "markdown",
   "metadata": {},
   "source": [
    "### Interaction Types distribution"
   ]
  },
  {
   "cell_type": "code",
   "execution_count": 20,
   "metadata": {},
   "outputs": [
    {
     "data": {
      "image/png": "[encoded data removed]",
      "text/plain": [
       "<Figure size 576x576 with 1 Axes>"
      ]
     },
     "metadata": {},
     "output_type": "display_data"
    }
   ],
   "source": [
    "data.interactionType.value_counts().plot.pie(autopct='%.2f',figsize=(8, 8))\n",
    "plt.title('Interaction Type Distribution')\n",
    "plt.savefig(\"Interactiontype.svg\")\n",
    "plt.show()"
   ]
  },
  {
   "cell_type": "code",
   "execution_count": 21,
   "metadata": {},
   "outputs": [
    {
     "data": {
      "text/html": [
       "<div>\n",
       "<style scoped>\n",
       "    .dataframe tbody tr th:only-of-type {\n",
       "        vertical-align: middle;\n",
       "    }\n",
       "\n",
       "    .dataframe tbody tr th {\n",
       "        vertical-align: top;\n",
       "    }\n",
       "\n",
       "    .dataframe thead th {\n",
       "        text-align: right;\n",
       "    }\n",
       "</style>\n",
       "<table border=\"1\" class=\"dataframe\">\n",
       "  <thead>\n",
       "    <tr style=\"text-align: right;\">\n",
       "      <th></th>\n",
       "      <th>interactionType</th>\n",
       "    </tr>\n",
       "  </thead>\n",
       "  <tbody>\n",
       "    <tr>\n",
       "      <th>phosphorylation</th>\n",
       "      <td>2446</td>\n",
       "    </tr>\n",
       "    <tr>\n",
       "      <th>dephosphorylation</th>\n",
       "      <td>437</td>\n",
       "    </tr>\n",
       "    <tr>\n",
       "      <th>ubiquitination</th>\n",
       "      <td>226</td>\n",
       "    </tr>\n",
       "    <tr>\n",
       "      <th>methylation</th>\n",
       "      <td>134</td>\n",
       "    </tr>\n",
       "    <tr>\n",
       "      <th>acetylation</th>\n",
       "      <td>70</td>\n",
       "    </tr>\n",
       "    <tr>\n",
       "      <th>demethylation</th>\n",
       "      <td>37</td>\n",
       "    </tr>\n",
       "    <tr>\n",
       "      <th>deubiquitination</th>\n",
       "      <td>31</td>\n",
       "    </tr>\n",
       "  </tbody>\n",
       "</table>\n",
       "</div>"
      ],
      "text/plain": [
       "                   interactionType\n",
       "phosphorylation               2446\n",
       "dephosphorylation              437\n",
       "ubiquitination                 226\n",
       "methylation                    134\n",
       "acetylation                     70\n",
       "demethylation                   37\n",
       "deubiquitination                31"
      ]
     },
     "execution_count": 21,
     "metadata": {},
     "output_type": "execute_result"
    }
   ],
   "source": [
    "data.interactionType.value_counts().to_frame()"
   ]
  },
  {
   "cell_type": "markdown",
   "metadata": {},
   "source": [
    "### Distinct interaction types per paper"
   ]
  },
  {
   "cell_type": "code",
   "execution_count": 22,
   "metadata": {},
   "outputs": [
    {
     "data": {
      "image/png": "[encoded data removed]",
      "text/plain": [
       "<Figure size 432x288 with 1 Axes>"
      ]
     },
     "metadata": {
      "needs_background": "light"
     },
     "output_type": "display_data"
    }
   ],
   "source": [
    "import numpy as np\n",
    "\n",
    "distinct_no_papers = data['pubmedId'].nunique()\n",
    "\n",
    "data.groupby('pubmedId')['interactionType'].nunique().hist(bins=100, density=1)\n",
    "plt.title(\"Number of unique interaction types per paper\")\n",
    "plt.xlabel('Number of unique interaction types')\n",
    "plt.ylabel('Percentage of Pubmed papers'.format(distinct_no_papers))\n",
    "plt.show()\n"
   ]
  },
  {
   "cell_type": "markdown",
   "metadata": {},
   "source": [
    "### Postive vs Negative Relationships"
   ]
  },
  {
   "cell_type": "code",
   "execution_count": 23,
   "metadata": {},
   "outputs": [
    {
     "data": {
      "image/png": "[encoded data removed]",
      "text/plain": [
       "<Figure size 360x360 with 1 Axes>"
      ]
     },
     "metadata": {},
     "output_type": "display_data"
    }
   ],
   "source": [
    "data.isValid.value_counts().plot.pie(autopct='%.2f',figsize=(5, 5))\n",
    "plt.title('Is Valid relationship')\n",
    "plt.show()"
   ]
  },
  {
   "cell_type": "markdown",
   "metadata": {},
   "source": [
    "### Number of participants per interaction"
   ]
  },
  {
   "cell_type": "code",
   "execution_count": 24,
   "metadata": {
    "scrolled": true
   },
   "outputs": [
    {
     "data": {
      "image/png": "[encoded data removed]",
      "text/plain": [
       "<Figure size 360x360 with 1 Axes>"
      ]
     },
     "metadata": {
      "needs_background": "light"
     },
     "output_type": "display_data"
    }
   ],
   "source": [
    "import numpy as np\n",
    "import matplotlib.ticker as mtick\n",
    "\n",
    "\n",
    "fig, ax = plt.subplots( 1,1, figsize=(15,5))\n",
    "\n",
    "\n",
    "\n",
    "#fig, ax = plt.subplots( 7,1, figsize=(45,30))\n",
    "c_ax= ax\n",
    "c_ax.yaxis.set_major_formatter(mtick.PercentFormatter())\n",
    "\n",
    "data['participants_count'] = data[\"participants\"].apply(lambda x: len(x))\n",
    "\n",
    "data['participants_count'].hist (bins=50, ax=c_ax, figsize=(5,5), color = 'dodgerblue',  weights = np.ones_like(data['participants_count'].index)*100 / len(data['participants_count'].index))\n",
    "plt.title(\"Participants count per interaction\")\n",
    "plt.xlabel('Number of participants per interaction')\n",
    "plt.ylabel('Percentage of interactions')\n",
    "plt.savefig(\"ParticipantsPerInteraction.eps\")\n",
    "plt.show()"
   ]
  },
  {
   "cell_type": "markdown",
   "metadata": {},
   "source": [
    "### Explore if the abstract contains the trigger word"
   ]
  },
  {
   "cell_type": "code",
   "execution_count": 25,
   "metadata": {},
   "outputs": [
    {
     "name": "stdout",
     "output_type": "stream",
     "text": [
      "Requirement already satisfied: nltk==3.4.5 in /Users/aeg/venv/PPI-typed-relation-extractor/lib/python3.7/site-packages (3.4.5)\r\n",
      "Requirement already satisfied: six in /Users/aeg/venv/PPI-typed-relation-extractor/lib/python3.7/site-packages (from nltk==3.4.5) (1.15.0)\r\n"
     ]
    }
   ],
   "source": [
    "!pip install nltk==3.4.5"
   ]
  },
  {
   "cell_type": "code",
   "execution_count": 26,
   "metadata": {},
   "outputs": [
    {
     "name": "stderr",
     "output_type": "stream",
     "text": [
      "/Users/aeg/venv/PPI-typed-relation-extractor/lib/python3.7/site-packages/sklearn/feature_extraction/image.py:167: DeprecationWarning: `np.int` is a deprecated alias for the builtin `int`. To silence this warning, use `int` by itself. Doing this will not modify any behavior and is safe. When replacing `np.int`, you may wish to use e.g. `np.int64` or `np.int32` to specify the precision. If you wish to review your current use, check the release note link for additional information.\n",
      "Deprecated in NumPy 1.20; for more details and guidance: https://numpy.org/devdocs/release/1.20.0-notes.html#deprecations\n",
      "  dtype=np.int):\n",
      "/Users/aeg/venv/PPI-typed-relation-extractor/lib/python3.7/site-packages/sklearn/linear_model/least_angle.py:30: DeprecationWarning: `np.float` is a deprecated alias for the builtin `float`. To silence this warning, use `float` by itself. Doing this will not modify any behavior and is safe. If you specifically wanted the numpy scalar type, use `np.float64` here.\n",
      "Deprecated in NumPy 1.20; for more details and guidance: https://numpy.org/devdocs/release/1.20.0-notes.html#deprecations\n",
      "  method='lar', copy_X=True, eps=np.finfo(np.float).eps,\n",
      "/Users/aeg/venv/PPI-typed-relation-extractor/lib/python3.7/site-packages/sklearn/linear_model/least_angle.py:167: DeprecationWarning: `np.float` is a deprecated alias for the builtin `float`. To silence this warning, use `float` by itself. Doing this will not modify any behavior and is safe. If you specifically wanted the numpy scalar type, use `np.float64` here.\n",
      "Deprecated in NumPy 1.20; for more details and guidance: https://numpy.org/devdocs/release/1.20.0-notes.html#deprecations\n",
      "  method='lar', copy_X=True, eps=np.finfo(np.float).eps,\n",
      "/Users/aeg/venv/PPI-typed-relation-extractor/lib/python3.7/site-packages/sklearn/linear_model/least_angle.py:284: DeprecationWarning: `np.float` is a deprecated alias for the builtin `float`. To silence this warning, use `float` by itself. Doing this will not modify any behavior and is safe. If you specifically wanted the numpy scalar type, use `np.float64` here.\n",
      "Deprecated in NumPy 1.20; for more details and guidance: https://numpy.org/devdocs/release/1.20.0-notes.html#deprecations\n",
      "  eps=np.finfo(np.float).eps, copy_Gram=True, verbose=0,\n",
      "/Users/aeg/venv/PPI-typed-relation-extractor/lib/python3.7/site-packages/sklearn/linear_model/least_angle.py:862: DeprecationWarning: `np.float` is a deprecated alias for the builtin `float`. To silence this warning, use `float` by itself. Doing this will not modify any behavior and is safe. If you specifically wanted the numpy scalar type, use `np.float64` here.\n",
      "Deprecated in NumPy 1.20; for more details and guidance: https://numpy.org/devdocs/release/1.20.0-notes.html#deprecations\n",
      "  eps=np.finfo(np.float).eps, copy_X=True, fit_path=True,\n",
      "/Users/aeg/venv/PPI-typed-relation-extractor/lib/python3.7/site-packages/sklearn/linear_model/least_angle.py:1101: DeprecationWarning: `np.float` is a deprecated alias for the builtin `float`. To silence this warning, use `float` by itself. Doing this will not modify any behavior and is safe. If you specifically wanted the numpy scalar type, use `np.float64` here.\n",
      "Deprecated in NumPy 1.20; for more details and guidance: https://numpy.org/devdocs/release/1.20.0-notes.html#deprecations\n",
      "  eps=np.finfo(np.float).eps, copy_X=True, fit_path=True,\n",
      "/Users/aeg/venv/PPI-typed-relation-extractor/lib/python3.7/site-packages/sklearn/linear_model/least_angle.py:1127: DeprecationWarning: `np.float` is a deprecated alias for the builtin `float`. To silence this warning, use `float` by itself. Doing this will not modify any behavior and is safe. If you specifically wanted the numpy scalar type, use `np.float64` here.\n",
      "Deprecated in NumPy 1.20; for more details and guidance: https://numpy.org/devdocs/release/1.20.0-notes.html#deprecations\n",
      "  eps=np.finfo(np.float).eps, positive=False):\n",
      "/Users/aeg/venv/PPI-typed-relation-extractor/lib/python3.7/site-packages/sklearn/linear_model/least_angle.py:1362: DeprecationWarning: `np.float` is a deprecated alias for the builtin `float`. To silence this warning, use `float` by itself. Doing this will not modify any behavior and is safe. If you specifically wanted the numpy scalar type, use `np.float64` here.\n",
      "Deprecated in NumPy 1.20; for more details and guidance: https://numpy.org/devdocs/release/1.20.0-notes.html#deprecations\n",
      "  max_n_alphas=1000, n_jobs=None, eps=np.finfo(np.float).eps,\n",
      "/Users/aeg/venv/PPI-typed-relation-extractor/lib/python3.7/site-packages/sklearn/linear_model/least_angle.py:1602: DeprecationWarning: `np.float` is a deprecated alias for the builtin `float`. To silence this warning, use `float` by itself. Doing this will not modify any behavior and is safe. If you specifically wanted the numpy scalar type, use `np.float64` here.\n",
      "Deprecated in NumPy 1.20; for more details and guidance: https://numpy.org/devdocs/release/1.20.0-notes.html#deprecations\n",
      "  max_n_alphas=1000, n_jobs=None, eps=np.finfo(np.float).eps,\n",
      "/Users/aeg/venv/PPI-typed-relation-extractor/lib/python3.7/site-packages/sklearn/linear_model/least_angle.py:1738: DeprecationWarning: `np.float` is a deprecated alias for the builtin `float`. To silence this warning, use `float` by itself. Doing this will not modify any behavior and is safe. If you specifically wanted the numpy scalar type, use `np.float64` here.\n",
      "Deprecated in NumPy 1.20; for more details and guidance: https://numpy.org/devdocs/release/1.20.0-notes.html#deprecations\n",
      "  eps=np.finfo(np.float).eps, copy_X=True, positive=False):\n"
     ]
    },
    {
     "name": "stdout",
     "output_type": "stream",
     "text": [
      "0      phosphoryl\n",
      "1    dephosphoryl\n",
      "2          methyl\n",
      "3          acetyl\n",
      "4     deubiquitin\n",
      "5       ubiquitin\n",
      "6        demethyl\n",
      "dtype: object\n"
     ]
    }
   ],
   "source": [
    "from nltk.stem import PorterStemmer\n",
    "from nltk.tokenize import sent_tokenize, word_tokenize\n",
    "\n",
    "stemmer = PorterStemmer()\n",
    "print(pd.DataFrame(data.interactionType.unique()).apply(lambda r: stemmer.stem(r.iloc[0].lower()), axis=1))\n",
    "\n",
    "data[\"hasTriggerWord\"] = data.apply(lambda r: stemmer.stem(r[\"interactionType\"].lower()) in r[\"pubmedabstract\"].lower() , 1)"
   ]
  },
  {
   "cell_type": "code",
   "execution_count": 27,
   "metadata": {},
   "outputs": [
    {
     "data": {
      "image/png": "[encoded data removed]",
      "text/plain": [
       "<Figure size 360x360 with 1 Axes>"
      ]
     },
     "metadata": {},
     "output_type": "display_data"
    }
   ],
   "source": [
    "data.hasTriggerWord.value_counts().plot.pie(autopct='%.2f',figsize=(5, 5))\n",
    "plt.title('Has trigger word')\n",
    "plt.show()"
   ]
  },
  {
   "cell_type": "code",
   "execution_count": 28,
   "metadata": {},
   "outputs": [
    {
     "data": {
      "text/html": [
       "<div>\n",
       "<style scoped>\n",
       "    .dataframe tbody tr th:only-of-type {\n",
       "        vertical-align: middle;\n",
       "    }\n",
       "\n",
       "    .dataframe tbody tr th {\n",
       "        vertical-align: top;\n",
       "    }\n",
       "\n",
       "    .dataframe thead th {\n",
       "        text-align: right;\n",
       "    }\n",
       "</style>\n",
       "<table border=\"1\" class=\"dataframe\">\n",
       "  <thead>\n",
       "    <tr style=\"text-align: right;\">\n",
       "      <th>hasTriggerWord</th>\n",
       "      <th>False</th>\n",
       "      <th>True</th>\n",
       "    </tr>\n",
       "    <tr>\n",
       "      <th>interactionType</th>\n",
       "      <th></th>\n",
       "      <th></th>\n",
       "    </tr>\n",
       "  </thead>\n",
       "  <tbody>\n",
       "    <tr>\n",
       "      <th>acetylation</th>\n",
       "      <td>7.1</td>\n",
       "      <td>92.9</td>\n",
       "    </tr>\n",
       "    <tr>\n",
       "      <th>demethylation</th>\n",
       "      <td>2.7</td>\n",
       "      <td>97.3</td>\n",
       "    </tr>\n",
       "    <tr>\n",
       "      <th>dephosphorylation</th>\n",
       "      <td>11.4</td>\n",
       "      <td>88.6</td>\n",
       "    </tr>\n",
       "    <tr>\n",
       "      <th>deubiquitination</th>\n",
       "      <td>22.6</td>\n",
       "      <td>77.4</td>\n",
       "    </tr>\n",
       "    <tr>\n",
       "      <th>methylation</th>\n",
       "      <td>0.7</td>\n",
       "      <td>99.3</td>\n",
       "    </tr>\n",
       "    <tr>\n",
       "      <th>phosphorylation</th>\n",
       "      <td>10.1</td>\n",
       "      <td>89.9</td>\n",
       "    </tr>\n",
       "    <tr>\n",
       "      <th>ubiquitination</th>\n",
       "      <td>1.8</td>\n",
       "      <td>98.2</td>\n",
       "    </tr>\n",
       "  </tbody>\n",
       "</table>\n",
       "</div>"
      ],
      "text/plain": [
       "hasTriggerWord     False  True \n",
       "interactionType                \n",
       "acetylation          7.1   92.9\n",
       "demethylation        2.7   97.3\n",
       "dephosphorylation   11.4   88.6\n",
       "deubiquitination    22.6   77.4\n",
       "methylation          0.7   99.3\n",
       "phosphorylation     10.1   89.9\n",
       "ubiquitination       1.8   98.2"
      ]
     },
     "execution_count": 28,
     "metadata": {},
     "output_type": "execute_result"
    }
   ],
   "source": [
    "data.groupby([ 'interactionType','hasTriggerWord']).size().unstack().apply(lambda x: round(x/sum(x),3)*100, axis=1)\n"
   ]
  },
  {
   "cell_type": "markdown",
   "metadata": {},
   "source": [
    "### Explore how many of the entity alias are mentioned in the abstract"
   ]
  },
  {
   "cell_type": "code",
   "execution_count": 29,
   "metadata": {},
   "outputs": [
    {
     "name": "stdout",
     "output_type": "stream",
     "text": [
      "CPU times: user 19.8 s, sys: 41 ms, total: 19.9 s\n",
      "Wall time: 19.7 s\n"
     ]
    }
   ],
   "source": [
    "%%time \n",
    "\n",
    "from difflib import SequenceMatcher\n",
    "def getEntityMentionsCount(r):\n",
    "    count = 0\n",
    "    abstract = r[\"pubmedabstract\"].lower()\n",
    "    abstract_len= len(abstract)\n",
    "    for p in r[\"participants\"]:\n",
    "        if p is None or p['alias'] is None : continue\n",
    "        \n",
    "        for a in p['alias']:\n",
    "            alias = a[0].lower()\n",
    "            s = SequenceMatcher(None, abstract, alias)\n",
    "            _,_,match_size = s.find_longest_match(0, len(abstract), 0, len(alias))\n",
    "            if match_size >= 3 and match_size >= len(alias)/2 :\n",
    "                count += 1\n",
    "        \n",
    "    return count\n",
    "        \n",
    "\n",
    "data[\"entityMentionsCount\"] = data.apply(lambda r: getEntityMentionsCount(r)  , 1)"
   ]
  },
  {
   "cell_type": "code",
   "execution_count": 30,
   "metadata": {},
   "outputs": [
    {
     "data": {
      "image/png": "[encoded data removed]",
      "text/plain": [
       "<Figure size 1080x360 with 1 Axes>"
      ]
     },
     "metadata": {
      "needs_background": "light"
     },
     "output_type": "display_data"
    }
   ],
   "source": [
    "data['entityMentionsCount'].hist ( bins=150, figsize=(15,5), color = 'red')\n",
    "plt.title('Entity mentions count distribution')\n",
    "plt.xlabel('Entity name mentions count in abstract')\n",
    "plt.ylabel('Total number of interactions')\n",
    "\n",
    "plt.show()"
   ]
  },
  {
   "cell_type": "code",
   "execution_count": 31,
   "metadata": {},
   "outputs": [
    {
     "data": {
      "image/png": "[encoded data removed]",
      "text/plain": [
       "<Figure size 432x288 with 1 Axes>"
      ]
     },
     "metadata": {},
     "output_type": "display_data"
    }
   ],
   "source": [
    "(data['entityMentionsCount'] > 0).value_counts().plot.pie(autopct='%.2f')\n",
    "plt.title(\"Percentage of interactions with entity mentions \")\n",
    "plt.ylabel(\"Entity mentions > 0\")\n",
    "plt.show()"
   ]
  },
  {
   "cell_type": "markdown",
   "metadata": {},
   "source": [
    "### Randomly eye ball interactions with no entity mentions"
   ]
  },
  {
   "cell_type": "code",
   "execution_count": 32,
   "metadata": {},
   "outputs": [
    {
     "data": {
      "text/html": [
       "<div>\n",
       "<style scoped>\n",
       "    .dataframe tbody tr th:only-of-type {\n",
       "        vertical-align: middle;\n",
       "    }\n",
       "\n",
       "    .dataframe tbody tr th {\n",
       "        vertical-align: top;\n",
       "    }\n",
       "\n",
       "    .dataframe thead th {\n",
       "        text-align: right;\n",
       "    }\n",
       "</style>\n",
       "<table border=\"1\" class=\"dataframe\">\n",
       "  <thead>\n",
       "    <tr style=\"text-align: right;\">\n",
       "      <th></th>\n",
       "      <th>participants</th>\n",
       "      <th>pubmedabstract</th>\n",
       "    </tr>\n",
       "  </thead>\n",
       "  <tbody>\n",
       "    <tr>\n",
       "      <th>814</th>\n",
       "      <td>[{'uniprotid': 'O60293-1', 'alias': [['o60293-1'], ['Zinc finger C3H1 domain-containing protein'], ['ZFC3H1'], ['CCDC131'], ['KIAA0546'], ['PSRC2'], ['Coiled-coil domain-containing protein 131'], ['Proline/serine-rich coiled-coil protein 2']], 'alternative_uniprots': []}, {'uniprotid': 'P68400', 'alias': [['csk21_human'], ['Casein kinase II subunit alpha'], ['CSNK2A1'], ['CK2A1']], 'alternative_uniprots': ['Q5U065', 'Q14013', 'P19138', 'B4DYS6', 'P20426', 'D3DVV8']}]</td>\n",
       "      <td>Deciphering the kinase-substrate relationship is vital for the study of phosphorylation network. The use of immobilized proteins on protein chip as the library for screening of potential kinase substrates is a tried-and-tested method. However, information on phosphorylation sites is lacking and the creation of the library with proteins of whole proteome by recombinant expression is costly and difficult. In this study, a new solid-phase approach by immobilization of proteins from cell lysate onto beads as a protein library for kinase substrate screening was developed. It was found that consensus phosphorylation sites motif for kinase substrates could be accurately determined and hundreds of in vitro kinase substrates and their phosphorylation sites could be identified by using this method.</td>\n",
       "    </tr>\n",
       "    <tr>\n",
       "      <th>687</th>\n",
       "      <td>[{'uniprotid': 'P68400', 'alias': [['csk21_human'], ['Casein kinase II subunit alpha'], ['CSNK2A1'], ['CK2A1']], 'alternative_uniprots': ['Q5U065', 'Q14013', 'P19138', 'B4DYS6', 'P20426', 'D3DVV8']}, {'uniprotid': 'Q9GZT3', 'alias': [['slirp_human'], ['SRA stem-loop-interacting RNA-binding protein, mitochondrial'], ['SLIRP'], ['C14orf156'], ['DC23'], ['DC50'], ['PD04872']], 'alternative_uniprots': ['J3KMY7']}]</td>\n",
       "      <td>Deciphering the kinase-substrate relationship is vital for the study of phosphorylation network. The use of immobilized proteins on protein chip as the library for screening of potential kinase substrates is a tried-and-tested method. However, information on phosphorylation sites is lacking and the creation of the library with proteins of whole proteome by recombinant expression is costly and difficult. In this study, a new solid-phase approach by immobilization of proteins from cell lysate onto beads as a protein library for kinase substrate screening was developed. It was found that consensus phosphorylation sites motif for kinase substrates could be accurately determined and hundreds of in vitro kinase substrates and their phosphorylation sites could be identified by using this method.</td>\n",
       "    </tr>\n",
       "    <tr>\n",
       "      <th>794</th>\n",
       "      <td>[{'uniprotid': 'Q15021', 'alias': [['cnd1_human'], ['Condensin complex subunit 1'], ['NCAPD2'], ['CAPD2'], ['KIAA0159'], ['Non-SMC condensin I complex subunit D2'], ['Chromosome condensation-related SMC-associated protein 1'], ['Chromosome-associated protein D2'], ['XCAP-D2 homolog'], ['CNAP1']], 'alternative_uniprots': ['Q8N6U3', 'D3DUR4']}, {'uniprotid': 'P68400', 'alias': [['csk21_human'], ['Casein kinase II subunit alpha'], ['CSNK2A1'], ['CK2A1']], 'alternative_uniprots': ['Q5U065', 'Q14013', 'P19138', 'B4DYS6', 'P20426', 'D3DVV8']}]</td>\n",
       "      <td>Deciphering the kinase-substrate relationship is vital for the study of phosphorylation network. The use of immobilized proteins on protein chip as the library for screening of potential kinase substrates is a tried-and-tested method. However, information on phosphorylation sites is lacking and the creation of the library with proteins of whole proteome by recombinant expression is costly and difficult. In this study, a new solid-phase approach by immobilization of proteins from cell lysate onto beads as a protein library for kinase substrate screening was developed. It was found that consensus phosphorylation sites motif for kinase substrates could be accurately determined and hundreds of in vitro kinase substrates and their phosphorylation sites could be identified by using this method.</td>\n",
       "    </tr>\n",
       "  </tbody>\n",
       "</table>\n",
       "</div>"
      ],
      "text/plain": [
       "                                                                                                                                                                                                                                                                                                                                                                                                                                                                                                                                                        participants  \\\n",
       "814                                                                          [{'uniprotid': 'O60293-1', 'alias': [['o60293-1'], ['Zinc finger C3H1 domain-containing protein'], ['ZFC3H1'], ['CCDC131'], ['KIAA0546'], ['PSRC2'], ['Coiled-coil domain-containing protein 131'], ['Proline/serine-rich coiled-coil protein 2']], 'alternative_uniprots': []}, {'uniprotid': 'P68400', 'alias': [['csk21_human'], ['Casein kinase II subunit alpha'], ['CSNK2A1'], ['CK2A1']], 'alternative_uniprots': ['Q5U065', 'Q14013', 'P19138', 'B4DYS6', 'P20426', 'D3DVV8']}]   \n",
       "687                                                                                                                                    [{'uniprotid': 'P68400', 'alias': [['csk21_human'], ['Casein kinase II subunit alpha'], ['CSNK2A1'], ['CK2A1']], 'alternative_uniprots': ['Q5U065', 'Q14013', 'P19138', 'B4DYS6', 'P20426', 'D3DVV8']}, {'uniprotid': 'Q9GZT3', 'alias': [['slirp_human'], ['SRA stem-loop-interacting RNA-binding protein, mitochondrial'], ['SLIRP'], ['C14orf156'], ['DC23'], ['DC50'], ['PD04872']], 'alternative_uniprots': ['J3KMY7']}]   \n",
       "794  [{'uniprotid': 'Q15021', 'alias': [['cnd1_human'], ['Condensin complex subunit 1'], ['NCAPD2'], ['CAPD2'], ['KIAA0159'], ['Non-SMC condensin I complex subunit D2'], ['Chromosome condensation-related SMC-associated protein 1'], ['Chromosome-associated protein D2'], ['XCAP-D2 homolog'], ['CNAP1']], 'alternative_uniprots': ['Q8N6U3', 'D3DUR4']}, {'uniprotid': 'P68400', 'alias': [['csk21_human'], ['Casein kinase II subunit alpha'], ['CSNK2A1'], ['CK2A1']], 'alternative_uniprots': ['Q5U065', 'Q14013', 'P19138', 'B4DYS6', 'P20426', 'D3DVV8']}]   \n",
       "\n",
       "                                                                                                                                                                                                                                                                                                                                                                                                                                                                                                                                                                                                                                                                                                                                                                                                                      pubmedabstract  \n",
       "814  Deciphering the kinase-substrate relationship is vital for the study of phosphorylation network. The use of immobilized proteins on protein chip as the library for screening of potential kinase substrates is a tried-and-tested method. However, information on phosphorylation sites is lacking and the creation of the library with proteins of whole proteome by recombinant expression is costly and difficult. In this study, a new solid-phase approach by immobilization of proteins from cell lysate onto beads as a protein library for kinase substrate screening was developed. It was found that consensus phosphorylation sites motif for kinase substrates could be accurately determined and hundreds of in vitro kinase substrates and their phosphorylation sites could be identified by using this method.  \n",
       "687  Deciphering the kinase-substrate relationship is vital for the study of phosphorylation network. The use of immobilized proteins on protein chip as the library for screening of potential kinase substrates is a tried-and-tested method. However, information on phosphorylation sites is lacking and the creation of the library with proteins of whole proteome by recombinant expression is costly and difficult. In this study, a new solid-phase approach by immobilization of proteins from cell lysate onto beads as a protein library for kinase substrate screening was developed. It was found that consensus phosphorylation sites motif for kinase substrates could be accurately determined and hundreds of in vitro kinase substrates and their phosphorylation sites could be identified by using this method.  \n",
       "794  Deciphering the kinase-substrate relationship is vital for the study of phosphorylation network. The use of immobilized proteins on protein chip as the library for screening of potential kinase substrates is a tried-and-tested method. However, information on phosphorylation sites is lacking and the creation of the library with proteins of whole proteome by recombinant expression is costly and difficult. In this study, a new solid-phase approach by immobilization of proteins from cell lysate onto beads as a protein library for kinase substrate screening was developed. It was found that consensus phosphorylation sites motif for kinase substrates could be accurately determined and hundreds of in vitro kinase substrates and their phosphorylation sites could be identified by using this method.  "
      ]
     },
     "execution_count": 32,
     "metadata": {},
     "output_type": "execute_result"
    }
   ],
   "source": [
    "\n",
    "data.query('entityMentionsCount == 0')[['participants','pubmedabstract' ]].sample(n=3)\n"
   ]
  },
  {
   "cell_type": "code",
   "execution_count": 33,
   "metadata": {},
   "outputs": [
    {
     "data": {
      "text/html": [
       "<div>\n",
       "<style scoped>\n",
       "    .dataframe tbody tr th:only-of-type {\n",
       "        vertical-align: middle;\n",
       "    }\n",
       "\n",
       "    .dataframe tbody tr th {\n",
       "        vertical-align: top;\n",
       "    }\n",
       "\n",
       "    .dataframe thead th {\n",
       "        text-align: right;\n",
       "    }\n",
       "</style>\n",
       "<table border=\"1\" class=\"dataframe\">\n",
       "  <thead>\n",
       "    <tr style=\"text-align: right;\">\n",
       "      <th></th>\n",
       "      <th>interactionId</th>\n",
       "      <th>interactionType</th>\n",
       "      <th>participants</th>\n",
       "      <th>pubmedId</th>\n",
       "      <th>pubmedTitle</th>\n",
       "      <th>pubmedabstract</th>\n",
       "      <th>isValid</th>\n",
       "      <th>flatparticpants</th>\n",
       "      <th>participants_count</th>\n",
       "      <th>hasTriggerWord</th>\n",
       "      <th>entityMentionsCount</th>\n",
       "    </tr>\n",
       "  </thead>\n",
       "  <tbody>\n",
       "    <tr>\n",
       "      <th>0</th>\n",
       "      <td>1585513</td>\n",
       "      <td>phosphorylation</td>\n",
       "      <td>[{'uniprotid': 'Q10728', 'alias': [['mypt1_rat'], ['Protein phosphatase 1 regulatory subunit 12A'], ['Ppp1r12a'], ['Mbs'], ['Mypt1'], ['Myosin phosphatase-targeting subunit 1'], ['Protein phosphatase myosin-binding subunit'], ['MBSP'], ['Serine/threonine protein phosphatase PP1 smooth muscle regulatory subunit M110'], ['Protein phosphatase subunit 1M']], 'alternative_uniprots': ['Q62937', 'Q9WU33']}, {'uniprotid': 'O43293-2', 'alias': [['o43293-2'], ['Death-associated protein kinase 3'], ['ZIPK-S'], ['DAPK3'], ['ZIPK'], ['DAP-like kinase'], ['MYPT1 kinase'], ['Zipper-interacting protein kinase']], 'alternative_uniprots': []}]</td>\n",
       "      <td>17126281</td>\n",
       "      <td>None</td>\n",
       "      <td>Zipper-interacting protein kinase (ZIP kinase) has been thought to be involved in apoptosis and the C-terminal leucine zipper motif is important for its function. Recent studies have revealed that ZIP kinase also plays a role in regulating myosin phosphorylation. Here, we found novel ZIP kinase isoform in which the C-terminal non-kinase domain containing a leucine zipper is eliminated (hZIPK-S). hZIPK-S binds to myosin phosphatase targeting subunit 1(MYPT1) similar to the long isoform (hZIPK-L). In addition, we found that hZIPK-S as well as hZIPK-L bind to myosin. These results indicate that a leucine zipper is not critical for the binding of ZIP kinase to MYPT1 and myosin. Consistently, hZIPK-S localized with stress-fibers where they co-localized with myosin. The residues 278-311, the C-terminal side of the kinase domain common to the both isoforms, is involved in the binding to MYPT1, while the myosin binding domain is within the kinase domain. These results suggest that the newly found hZIPK-S as well as the long isoform play an important role in the regulation of myosin phosphorylation.</td>\n",
       "      <td>True</td>\n",
       "      <td>(Q10728, O43293-2)</td>\n",
       "      <td>2</td>\n",
       "      <td>True</td>\n",
       "      <td>9</td>\n",
       "    </tr>\n",
       "    <tr>\n",
       "      <th>1</th>\n",
       "      <td>1585516</td>\n",
       "      <td>phosphorylation</td>\n",
       "      <td>[{'uniprotid': 'O43293-1', 'alias': [['o43293-1'], ['Death-associated protein kinase 3'], ['ZIPK-L'], ['DAPK3'], ['ZIPK'], ['DAP-like kinase'], ['MYPT1 kinase'], ['Zipper-interacting protein kinase']], 'alternative_uniprots': []}, {'uniprotid': 'Q10728', 'alias': [['mypt1_rat'], ['Protein phosphatase 1 regulatory subunit 12A'], ['Ppp1r12a'], ['Mbs'], ['Mypt1'], ['Myosin phosphatase-targeting subunit 1'], ['Protein phosphatase myosin-binding subunit'], ['MBSP'], ['Serine/threonine protein phosphatase PP1 smooth muscle regulatory subunit M110'], ['Protein phosphatase subunit 1M']], 'alternative_uniprots': ['Q62937', 'Q9WU33']}]</td>\n",
       "      <td>17126281</td>\n",
       "      <td>None</td>\n",
       "      <td>Zipper-interacting protein kinase (ZIP kinase) has been thought to be involved in apoptosis and the C-terminal leucine zipper motif is important for its function. Recent studies have revealed that ZIP kinase also plays a role in regulating myosin phosphorylation. Here, we found novel ZIP kinase isoform in which the C-terminal non-kinase domain containing a leucine zipper is eliminated (hZIPK-S). hZIPK-S binds to myosin phosphatase targeting subunit 1(MYPT1) similar to the long isoform (hZIPK-L). In addition, we found that hZIPK-S as well as hZIPK-L bind to myosin. These results indicate that a leucine zipper is not critical for the binding of ZIP kinase to MYPT1 and myosin. Consistently, hZIPK-S localized with stress-fibers where they co-localized with myosin. The residues 278-311, the C-terminal side of the kinase domain common to the both isoforms, is involved in the binding to MYPT1, while the myosin binding domain is within the kinase domain. These results suggest that the newly found hZIPK-S as well as the long isoform play an important role in the regulation of myosin phosphorylation.</td>\n",
       "      <td>True</td>\n",
       "      <td>(Q10728, O43293-1)</td>\n",
       "      <td>2</td>\n",
       "      <td>True</td>\n",
       "      <td>9</td>\n",
       "    </tr>\n",
       "  </tbody>\n",
       "</table>\n",
       "</div>"
      ],
      "text/plain": [
       "  interactionId  interactionType  \\\n",
       "0       1585513  phosphorylation   \n",
       "1       1585516  phosphorylation   \n",
       "\n",
       "                                                                                                                                                                                                                                                                                                                                                                                                                                                                                                                                                                                                                                                participants  \\\n",
       "0  [{'uniprotid': 'Q10728', 'alias': [['mypt1_rat'], ['Protein phosphatase 1 regulatory subunit 12A'], ['Ppp1r12a'], ['Mbs'], ['Mypt1'], ['Myosin phosphatase-targeting subunit 1'], ['Protein phosphatase myosin-binding subunit'], ['MBSP'], ['Serine/threonine protein phosphatase PP1 smooth muscle regulatory subunit M110'], ['Protein phosphatase subunit 1M']], 'alternative_uniprots': ['Q62937', 'Q9WU33']}, {'uniprotid': 'O43293-2', 'alias': [['o43293-2'], ['Death-associated protein kinase 3'], ['ZIPK-S'], ['DAPK3'], ['ZIPK'], ['DAP-like kinase'], ['MYPT1 kinase'], ['Zipper-interacting protein kinase']], 'alternative_uniprots': []}]   \n",
       "1  [{'uniprotid': 'O43293-1', 'alias': [['o43293-1'], ['Death-associated protein kinase 3'], ['ZIPK-L'], ['DAPK3'], ['ZIPK'], ['DAP-like kinase'], ['MYPT1 kinase'], ['Zipper-interacting protein kinase']], 'alternative_uniprots': []}, {'uniprotid': 'Q10728', 'alias': [['mypt1_rat'], ['Protein phosphatase 1 regulatory subunit 12A'], ['Ppp1r12a'], ['Mbs'], ['Mypt1'], ['Myosin phosphatase-targeting subunit 1'], ['Protein phosphatase myosin-binding subunit'], ['MBSP'], ['Serine/threonine protein phosphatase PP1 smooth muscle regulatory subunit M110'], ['Protein phosphatase subunit 1M']], 'alternative_uniprots': ['Q62937', 'Q9WU33']}]   \n",
       "\n",
       "   pubmedId pubmedTitle  \\\n",
       "0  17126281        None   \n",
       "1  17126281        None   \n",
       "\n",
       "                                                                                                                                                                                                                                                                                                                                                                                                                                                                                                                                                                                                                                                                                                                                                                                                                                                                                                                                                                                                                                                                                                                                        pubmedabstract  \\\n",
       "0  Zipper-interacting protein kinase (ZIP kinase) has been thought to be involved in apoptosis and the C-terminal leucine zipper motif is important for its function. Recent studies have revealed that ZIP kinase also plays a role in regulating myosin phosphorylation. Here, we found novel ZIP kinase isoform in which the C-terminal non-kinase domain containing a leucine zipper is eliminated (hZIPK-S). hZIPK-S binds to myosin phosphatase targeting subunit 1(MYPT1) similar to the long isoform (hZIPK-L). In addition, we found that hZIPK-S as well as hZIPK-L bind to myosin. These results indicate that a leucine zipper is not critical for the binding of ZIP kinase to MYPT1 and myosin. Consistently, hZIPK-S localized with stress-fibers where they co-localized with myosin. The residues 278-311, the C-terminal side of the kinase domain common to the both isoforms, is involved in the binding to MYPT1, while the myosin binding domain is within the kinase domain. These results suggest that the newly found hZIPK-S as well as the long isoform play an important role in the regulation of myosin phosphorylation.   \n",
       "1  Zipper-interacting protein kinase (ZIP kinase) has been thought to be involved in apoptosis and the C-terminal leucine zipper motif is important for its function. Recent studies have revealed that ZIP kinase also plays a role in regulating myosin phosphorylation. Here, we found novel ZIP kinase isoform in which the C-terminal non-kinase domain containing a leucine zipper is eliminated (hZIPK-S). hZIPK-S binds to myosin phosphatase targeting subunit 1(MYPT1) similar to the long isoform (hZIPK-L). In addition, we found that hZIPK-S as well as hZIPK-L bind to myosin. These results indicate that a leucine zipper is not critical for the binding of ZIP kinase to MYPT1 and myosin. Consistently, hZIPK-S localized with stress-fibers where they co-localized with myosin. The residues 278-311, the C-terminal side of the kinase domain common to the both isoforms, is involved in the binding to MYPT1, while the myosin binding domain is within the kinase domain. These results suggest that the newly found hZIPK-S as well as the long isoform play an important role in the regulation of myosin phosphorylation.   \n",
       "\n",
       "   isValid     flatparticpants  participants_count  hasTriggerWord  \\\n",
       "0     True  (Q10728, O43293-2)                   2            True   \n",
       "1     True  (Q10728, O43293-1)                   2            True   \n",
       "\n",
       "   entityMentionsCount  \n",
       "0                    9  \n",
       "1                    9  "
      ]
     },
     "execution_count": 33,
     "metadata": {},
     "output_type": "execute_result"
    }
   ],
   "source": [
    "data.head(n=2)"
   ]
  },
  {
   "cell_type": "markdown",
   "metadata": {},
   "source": [
    "## Data Transformation"
   ]
  },
  {
   "cell_type": "markdown",
   "metadata": {},
   "source": [
    "### Drop duplicates by [\"pubmedId\", \"flatparticpants\", \"interactionType\"]"
   ]
  },
  {
   "cell_type": "code",
   "execution_count": 34,
   "metadata": {},
   "outputs": [
    {
     "data": {
      "text/plain": [
       "(3381, 11)"
      ]
     },
     "execution_count": 34,
     "metadata": {},
     "output_type": "execute_result"
    }
   ],
   "source": [
    "data.shape"
   ]
  },
  {
   "cell_type": "code",
   "execution_count": 35,
   "metadata": {},
   "outputs": [],
   "source": [
    "process_map =[]\n",
    "process_map.append({\"name\": \"Initial\", \"count\": len(data) })"
   ]
  },
  {
   "cell_type": "code",
   "execution_count": 36,
   "metadata": {},
   "outputs": [
    {
     "data": {
      "text/plain": [
       "(2797, 11)"
      ]
     },
     "execution_count": 36,
     "metadata": {},
     "output_type": "execute_result"
    }
   ],
   "source": [
    "filtered = data.drop_duplicates(subset=[\"pubmedId\", \"flatparticpants\", \"interactionType\"], keep='last')\n",
    "process_map.append({\"name\": \"Drop duplicates (pubmedId, participant uniprots, interactionType)\", \n",
    "             \"count\": len(filtered) })\n",
    "\n",
    "filtered.shape"
   ]
  },
  {
   "cell_type": "code",
   "execution_count": null,
   "metadata": {},
   "outputs": [],
   "source": []
  },
  {
   "cell_type": "markdown",
   "metadata": {},
   "source": [
    "### Filter interactions with  participants != 2"
   ]
  },
  {
   "cell_type": "code",
   "execution_count": 37,
   "metadata": {},
   "outputs": [
    {
     "data": {
      "text/plain": [
       "(2217, 11)"
      ]
     },
     "execution_count": 37,
     "metadata": {},
     "output_type": "execute_result"
    }
   ],
   "source": [
    "filtered = filtered[~filtered.pubmedId.isin( filtered.query('participants_count > 2').pubmedId)]\n",
    "\n",
    "process_map.append({\"name\": \"Drop abstracts that have n-ary relationship n > 2\",\n",
    "                    \"count\": len(filtered) })\n",
    "\n",
    "filtered.shape"
   ]
  },
  {
   "cell_type": "code",
   "execution_count": null,
   "metadata": {},
   "outputs": [],
   "source": []
  },
  {
   "cell_type": "code",
   "execution_count": 38,
   "metadata": {},
   "outputs": [
    {
     "data": {
      "image/png": "[encoded data removed]",
      "text/plain": [
       "<Figure size 360x360 with 1 Axes>"
      ]
     },
     "metadata": {
      "needs_background": "light"
     },
     "output_type": "display_data"
    }
   ],
   "source": [
    "import matplotlib.ticker as mtick\n",
    "\n",
    "\n",
    "fig, ax = plt.subplots( 1,1, figsize=(15,5))\n",
    "\n",
    "\n",
    "\n",
    "c_ax= ax\n",
    "c_ax.yaxis.set_major_formatter(mtick.PercentFormatter())\n",
    "filtered['participants_count'].hist (bins=50, figsize=(5,5), ax=c_ax, color = 'blue',  weights = np.ones_like(filtered['participants_count'].index)*100 / len(filtered['participants_count'].index))\n",
    "plt.title(\"Participants count per interaction\")\n",
    "plt.xlabel('Number of participants per interaction')\n",
    "plt.ylabel('Percentage of interactions')\n",
    "plt.savefig(\"ParticipantsPerInteraction.eps\")\n",
    "plt.show()"
   ]
  },
  {
   "cell_type": "markdown",
   "metadata": {},
   "source": [
    "###  Flatten partcipants into participant 1 and particpiant 2"
   ]
  },
  {
   "cell_type": "code",
   "execution_count": 39,
   "metadata": {},
   "outputs": [],
   "source": [
    "from datatransformer.jsonPPIFlattenTransformer import IntactJsonPpiFlattenTransformer\n",
    " \n",
    "\n",
    "sut = IntactJsonPpiFlattenTransformer()\n",
    "\n",
    "data_transformed = sut.transform(filtered)\n"
   ]
  },
  {
   "cell_type": "code",
   "execution_count": 40,
   "metadata": {
    "scrolled": true
   },
   "outputs": [
    {
     "data": {
      "text/html": [
       "<div>\n",
       "<style scoped>\n",
       "    .dataframe tbody tr th:only-of-type {\n",
       "        vertical-align: middle;\n",
       "    }\n",
       "\n",
       "    .dataframe tbody tr th {\n",
       "        vertical-align: top;\n",
       "    }\n",
       "\n",
       "    .dataframe thead th {\n",
       "        text-align: right;\n",
       "    }\n",
       "</style>\n",
       "<table border=\"1\" class=\"dataframe\">\n",
       "  <thead>\n",
       "    <tr style=\"text-align: right;\">\n",
       "      <th></th>\n",
       "      <th>interactionId</th>\n",
       "      <th>interactionType</th>\n",
       "      <th>pubmedId</th>\n",
       "      <th>pubmedTitle</th>\n",
       "      <th>pubmedabstract</th>\n",
       "      <th>isValid</th>\n",
       "      <th>flatparticpants</th>\n",
       "      <th>participants_count</th>\n",
       "      <th>hasTriggerWord</th>\n",
       "      <th>entityMentionsCount</th>\n",
       "      <th>participant1Id</th>\n",
       "      <th>participant2Id</th>\n",
       "      <th>participant1Alias</th>\n",
       "      <th>participant2Alias</th>\n",
       "    </tr>\n",
       "  </thead>\n",
       "  <tbody>\n",
       "    <tr>\n",
       "      <th>0</th>\n",
       "      <td>1585513</td>\n",
       "      <td>phosphorylation</td>\n",
       "      <td>17126281</td>\n",
       "      <td>None</td>\n",
       "      <td>Zipper-interacting protein kinase (ZIP kinase) has been thought to be involved in apoptosis and the C-terminal leucine zipper motif is important for its function. Recent studies have revealed that ZIP kinase also plays a role in regulating myosin phosphorylation. Here, we found novel ZIP kinase isoform in which the C-terminal non-kinase domain containing a leucine zipper is eliminated (hZIPK-S). hZIPK-S binds to myosin phosphatase targeting subunit 1(MYPT1) similar to the long isoform (hZIPK-L). In addition, we found that hZIPK-S as well as hZIPK-L bind to myosin. These results indicate that a leucine zipper is not critical for the binding of ZIP kinase to MYPT1 and myosin. Consistently, hZIPK-S localized with stress-fibers where they co-localized with myosin. The residues 278-311, the C-terminal side of the kinase domain common to the both isoforms, is involved in the binding to MYPT1, while the myosin binding domain is within the kinase domain. These results suggest that the newly found hZIPK-S as well as the long isoform play an important role in the regulation of myosin phosphorylation.</td>\n",
       "      <td>True</td>\n",
       "      <td>[Q10728, O43293-2]</td>\n",
       "      <td>2</td>\n",
       "      <td>True</td>\n",
       "      <td>9</td>\n",
       "      <td>Q10728</td>\n",
       "      <td>O43293-2</td>\n",
       "      <td>[[mypt1_rat], [Protein phosphatase 1 regulatory subunit 12A], [Ppp1r12a], [Mbs], [Mypt1], [Myosin phosphatase-targeting subunit 1], [Protein phosphatase myosin-binding subunit], [MBSP], [Serine/threonine protein phosphatase PP1 smooth muscle regulatory subunit M110], [Protein phosphatase subunit 1M]]</td>\n",
       "      <td>[[o43293-2], [Death-associated protein kinase 3], [ZIPK-S], [DAPK3], [ZIPK], [DAP-like kinase], [MYPT1 kinase], [Zipper-interacting protein kinase]]</td>\n",
       "    </tr>\n",
       "    <tr>\n",
       "      <th>1</th>\n",
       "      <td>1585516</td>\n",
       "      <td>phosphorylation</td>\n",
       "      <td>17126281</td>\n",
       "      <td>None</td>\n",
       "      <td>Zipper-interacting protein kinase (ZIP kinase) has been thought to be involved in apoptosis and the C-terminal leucine zipper motif is important for its function. Recent studies have revealed that ZIP kinase also plays a role in regulating myosin phosphorylation. Here, we found novel ZIP kinase isoform in which the C-terminal non-kinase domain containing a leucine zipper is eliminated (hZIPK-S). hZIPK-S binds to myosin phosphatase targeting subunit 1(MYPT1) similar to the long isoform (hZIPK-L). In addition, we found that hZIPK-S as well as hZIPK-L bind to myosin. These results indicate that a leucine zipper is not critical for the binding of ZIP kinase to MYPT1 and myosin. Consistently, hZIPK-S localized with stress-fibers where they co-localized with myosin. The residues 278-311, the C-terminal side of the kinase domain common to the both isoforms, is involved in the binding to MYPT1, while the myosin binding domain is within the kinase domain. These results suggest that the newly found hZIPK-S as well as the long isoform play an important role in the regulation of myosin phosphorylation.</td>\n",
       "      <td>True</td>\n",
       "      <td>[Q10728, O43293-1]</td>\n",
       "      <td>2</td>\n",
       "      <td>True</td>\n",
       "      <td>9</td>\n",
       "      <td>O43293-1</td>\n",
       "      <td>Q10728</td>\n",
       "      <td>[[o43293-1], [Death-associated protein kinase 3], [ZIPK-L], [DAPK3], [ZIPK], [DAP-like kinase], [MYPT1 kinase], [Zipper-interacting protein kinase]]</td>\n",
       "      <td>[[mypt1_rat], [Protein phosphatase 1 regulatory subunit 12A], [Ppp1r12a], [Mbs], [Mypt1], [Myosin phosphatase-targeting subunit 1], [Protein phosphatase myosin-binding subunit], [MBSP], [Serine/threonine protein phosphatase PP1 smooth muscle regulatory subunit M110], [Protein phosphatase subunit 1M]]</td>\n",
       "    </tr>\n",
       "  </tbody>\n",
       "</table>\n",
       "</div>"
      ],
      "text/plain": [
       "  interactionId  interactionType  pubmedId pubmedTitle  \\\n",
       "0       1585513  phosphorylation  17126281        None   \n",
       "1       1585516  phosphorylation  17126281        None   \n",
       "\n",
       "                                                                                                                                                                                                                                                                                                                                                                                                                                                                                                                                                                                                                                                                                                                                                                                                                                                                                                                                                                                                                                                                                                                                        pubmedabstract  \\\n",
       "0  Zipper-interacting protein kinase (ZIP kinase) has been thought to be involved in apoptosis and the C-terminal leucine zipper motif is important for its function. Recent studies have revealed that ZIP kinase also plays a role in regulating myosin phosphorylation. Here, we found novel ZIP kinase isoform in which the C-terminal non-kinase domain containing a leucine zipper is eliminated (hZIPK-S). hZIPK-S binds to myosin phosphatase targeting subunit 1(MYPT1) similar to the long isoform (hZIPK-L). In addition, we found that hZIPK-S as well as hZIPK-L bind to myosin. These results indicate that a leucine zipper is not critical for the binding of ZIP kinase to MYPT1 and myosin. Consistently, hZIPK-S localized with stress-fibers where they co-localized with myosin. The residues 278-311, the C-terminal side of the kinase domain common to the both isoforms, is involved in the binding to MYPT1, while the myosin binding domain is within the kinase domain. These results suggest that the newly found hZIPK-S as well as the long isoform play an important role in the regulation of myosin phosphorylation.   \n",
       "1  Zipper-interacting protein kinase (ZIP kinase) has been thought to be involved in apoptosis and the C-terminal leucine zipper motif is important for its function. Recent studies have revealed that ZIP kinase also plays a role in regulating myosin phosphorylation. Here, we found novel ZIP kinase isoform in which the C-terminal non-kinase domain containing a leucine zipper is eliminated (hZIPK-S). hZIPK-S binds to myosin phosphatase targeting subunit 1(MYPT1) similar to the long isoform (hZIPK-L). In addition, we found that hZIPK-S as well as hZIPK-L bind to myosin. These results indicate that a leucine zipper is not critical for the binding of ZIP kinase to MYPT1 and myosin. Consistently, hZIPK-S localized with stress-fibers where they co-localized with myosin. The residues 278-311, the C-terminal side of the kinase domain common to the both isoforms, is involved in the binding to MYPT1, while the myosin binding domain is within the kinase domain. These results suggest that the newly found hZIPK-S as well as the long isoform play an important role in the regulation of myosin phosphorylation.   \n",
       "\n",
       "   isValid     flatparticpants  participants_count  hasTriggerWord  \\\n",
       "0     True  [Q10728, O43293-2]                   2            True   \n",
       "1     True  [Q10728, O43293-1]                   2            True   \n",
       "\n",
       "   entityMentionsCount participant1Id participant2Id  \\\n",
       "0                    9         Q10728       O43293-2   \n",
       "1                    9       O43293-1         Q10728   \n",
       "\n",
       "                                                                                                                                                                                                                                                                                               participant1Alias  \\\n",
       "0  [[mypt1_rat], [Protein phosphatase 1 regulatory subunit 12A], [Ppp1r12a], [Mbs], [Mypt1], [Myosin phosphatase-targeting subunit 1], [Protein phosphatase myosin-binding subunit], [MBSP], [Serine/threonine protein phosphatase PP1 smooth muscle regulatory subunit M110], [Protein phosphatase subunit 1M]]   \n",
       "1                                                                                                                                                           [[o43293-1], [Death-associated protein kinase 3], [ZIPK-L], [DAPK3], [ZIPK], [DAP-like kinase], [MYPT1 kinase], [Zipper-interacting protein kinase]]   \n",
       "\n",
       "                                                                                                                                                                                                                                                                                               participant2Alias  \n",
       "0                                                                                                                                                           [[o43293-2], [Death-associated protein kinase 3], [ZIPK-S], [DAPK3], [ZIPK], [DAP-like kinase], [MYPT1 kinase], [Zipper-interacting protein kinase]]  \n",
       "1  [[mypt1_rat], [Protein phosphatase 1 regulatory subunit 12A], [Ppp1r12a], [Mbs], [Mypt1], [Myosin phosphatase-targeting subunit 1], [Protein phosphatase myosin-binding subunit], [MBSP], [Serine/threonine protein phosphatase PP1 smooth muscle regulatory subunit M110], [Protein phosphatase subunit 1M]]  "
      ]
     },
     "execution_count": 40,
     "metadata": {},
     "output_type": "execute_result"
    }
   ],
   "source": [
    "data_transformed.head(n=2)"
   ]
  },
  {
   "cell_type": "code",
   "execution_count": 41,
   "metadata": {},
   "outputs": [
    {
     "data": {
      "text/plain": [
       "(2217, 14)"
      ]
     },
     "execution_count": 41,
     "metadata": {},
     "output_type": "execute_result"
    }
   ],
   "source": [
    "data_transformed.shape"
   ]
  },
  {
   "cell_type": "markdown",
   "metadata": {},
   "source": [
    "### Remove records where the participantId is null"
   ]
  },
  {
   "cell_type": "code",
   "execution_count": 42,
   "metadata": {},
   "outputs": [
    {
     "data": {
      "text/plain": [
       "(2217, 14)"
      ]
     },
     "execution_count": 42,
     "metadata": {},
     "output_type": "execute_result"
    }
   ],
   "source": [
    "data_transformed.shape"
   ]
  },
  {
   "cell_type": "code",
   "execution_count": 43,
   "metadata": {},
   "outputs": [
    {
     "data": {
      "text/plain": [
       "(2155, 14)"
      ]
     },
     "execution_count": 43,
     "metadata": {},
     "output_type": "execute_result"
    }
   ],
   "source": [
    "data_filtered = data_transformed[data_transformed.participant1Id.notnull() & data_transformed.participant2Id.notnull() ]\n",
    "process_map.append({\"name\": \"Drop interactions where participant Unitprot identifiers are null\",\n",
    "                    \"count\": len(data_filtered) })\n",
    "data_filtered.shape"
   ]
  },
  {
   "cell_type": "code",
   "execution_count": 44,
   "metadata": {},
   "outputs": [
    {
     "data": {
      "text/html": [
       "<div>\n",
       "<style scoped>\n",
       "    .dataframe tbody tr th:only-of-type {\n",
       "        vertical-align: middle;\n",
       "    }\n",
       "\n",
       "    .dataframe tbody tr th {\n",
       "        vertical-align: top;\n",
       "    }\n",
       "\n",
       "    .dataframe thead th {\n",
       "        text-align: right;\n",
       "    }\n",
       "</style>\n",
       "<table border=\"1\" class=\"dataframe\">\n",
       "  <thead>\n",
       "    <tr style=\"text-align: right;\">\n",
       "      <th></th>\n",
       "      <th>interactionId</th>\n",
       "      <th>interactionType</th>\n",
       "      <th>pubmedId</th>\n",
       "      <th>pubmedTitle</th>\n",
       "      <th>pubmedabstract</th>\n",
       "      <th>isValid</th>\n",
       "      <th>flatparticpants</th>\n",
       "      <th>participants_count</th>\n",
       "      <th>hasTriggerWord</th>\n",
       "      <th>entityMentionsCount</th>\n",
       "      <th>participant1Id</th>\n",
       "      <th>participant2Id</th>\n",
       "      <th>participant1Alias</th>\n",
       "      <th>participant2Alias</th>\n",
       "    </tr>\n",
       "  </thead>\n",
       "  <tbody>\n",
       "    <tr>\n",
       "      <th>0</th>\n",
       "      <td>1585513</td>\n",
       "      <td>phosphorylation</td>\n",
       "      <td>17126281</td>\n",
       "      <td>None</td>\n",
       "      <td>Zipper-interacting protein kinase (ZIP kinase) has been thought to be involved in apoptosis and the C-terminal leucine zipper motif is important for its function. Recent studies have revealed that ZIP kinase also plays a role in regulating myosin phosphorylation. Here, we found novel ZIP kinase isoform in which the C-terminal non-kinase domain containing a leucine zipper is eliminated (hZIPK-S). hZIPK-S binds to myosin phosphatase targeting subunit 1(MYPT1) similar to the long isoform (hZIPK-L). In addition, we found that hZIPK-S as well as hZIPK-L bind to myosin. These results indicate that a leucine zipper is not critical for the binding of ZIP kinase to MYPT1 and myosin. Consistently, hZIPK-S localized with stress-fibers where they co-localized with myosin. The residues 278-311, the C-terminal side of the kinase domain common to the both isoforms, is involved in the binding to MYPT1, while the myosin binding domain is within the kinase domain. These results suggest that the newly found hZIPK-S as well as the long isoform play an important role in the regulation of myosin phosphorylation.</td>\n",
       "      <td>True</td>\n",
       "      <td>[Q10728, O43293-2]</td>\n",
       "      <td>2</td>\n",
       "      <td>True</td>\n",
       "      <td>9</td>\n",
       "      <td>Q10728</td>\n",
       "      <td>O43293-2</td>\n",
       "      <td>[[mypt1_rat], [Protein phosphatase 1 regulatory subunit 12A], [Ppp1r12a], [Mbs], [Mypt1], [Myosin phosphatase-targeting subunit 1], [Protein phosphatase myosin-binding subunit], [MBSP], [Serine/threonine protein phosphatase PP1 smooth muscle regulatory subunit M110], [Protein phosphatase subunit 1M]]</td>\n",
       "      <td>[[o43293-2], [Death-associated protein kinase 3], [ZIPK-S], [DAPK3], [ZIPK], [DAP-like kinase], [MYPT1 kinase], [Zipper-interacting protein kinase]]</td>\n",
       "    </tr>\n",
       "    <tr>\n",
       "      <th>1</th>\n",
       "      <td>1585516</td>\n",
       "      <td>phosphorylation</td>\n",
       "      <td>17126281</td>\n",
       "      <td>None</td>\n",
       "      <td>Zipper-interacting protein kinase (ZIP kinase) has been thought to be involved in apoptosis and the C-terminal leucine zipper motif is important for its function. Recent studies have revealed that ZIP kinase also plays a role in regulating myosin phosphorylation. Here, we found novel ZIP kinase isoform in which the C-terminal non-kinase domain containing a leucine zipper is eliminated (hZIPK-S). hZIPK-S binds to myosin phosphatase targeting subunit 1(MYPT1) similar to the long isoform (hZIPK-L). In addition, we found that hZIPK-S as well as hZIPK-L bind to myosin. These results indicate that a leucine zipper is not critical for the binding of ZIP kinase to MYPT1 and myosin. Consistently, hZIPK-S localized with stress-fibers where they co-localized with myosin. The residues 278-311, the C-terminal side of the kinase domain common to the both isoforms, is involved in the binding to MYPT1, while the myosin binding domain is within the kinase domain. These results suggest that the newly found hZIPK-S as well as the long isoform play an important role in the regulation of myosin phosphorylation.</td>\n",
       "      <td>True</td>\n",
       "      <td>[Q10728, O43293-1]</td>\n",
       "      <td>2</td>\n",
       "      <td>True</td>\n",
       "      <td>9</td>\n",
       "      <td>O43293-1</td>\n",
       "      <td>Q10728</td>\n",
       "      <td>[[o43293-1], [Death-associated protein kinase 3], [ZIPK-L], [DAPK3], [ZIPK], [DAP-like kinase], [MYPT1 kinase], [Zipper-interacting protein kinase]]</td>\n",
       "      <td>[[mypt1_rat], [Protein phosphatase 1 regulatory subunit 12A], [Ppp1r12a], [Mbs], [Mypt1], [Myosin phosphatase-targeting subunit 1], [Protein phosphatase myosin-binding subunit], [MBSP], [Serine/threonine protein phosphatase PP1 smooth muscle regulatory subunit M110], [Protein phosphatase subunit 1M]]</td>\n",
       "    </tr>\n",
       "  </tbody>\n",
       "</table>\n",
       "</div>"
      ],
      "text/plain": [
       "  interactionId  interactionType  pubmedId pubmedTitle  \\\n",
       "0       1585513  phosphorylation  17126281        None   \n",
       "1       1585516  phosphorylation  17126281        None   \n",
       "\n",
       "                                                                                                                                                                                                                                                                                                                                                                                                                                                                                                                                                                                                                                                                                                                                                                                                                                                                                                                                                                                                                                                                                                                                        pubmedabstract  \\\n",
       "0  Zipper-interacting protein kinase (ZIP kinase) has been thought to be involved in apoptosis and the C-terminal leucine zipper motif is important for its function. Recent studies have revealed that ZIP kinase also plays a role in regulating myosin phosphorylation. Here, we found novel ZIP kinase isoform in which the C-terminal non-kinase domain containing a leucine zipper is eliminated (hZIPK-S). hZIPK-S binds to myosin phosphatase targeting subunit 1(MYPT1) similar to the long isoform (hZIPK-L). In addition, we found that hZIPK-S as well as hZIPK-L bind to myosin. These results indicate that a leucine zipper is not critical for the binding of ZIP kinase to MYPT1 and myosin. Consistently, hZIPK-S localized with stress-fibers where they co-localized with myosin. The residues 278-311, the C-terminal side of the kinase domain common to the both isoforms, is involved in the binding to MYPT1, while the myosin binding domain is within the kinase domain. These results suggest that the newly found hZIPK-S as well as the long isoform play an important role in the regulation of myosin phosphorylation.   \n",
       "1  Zipper-interacting protein kinase (ZIP kinase) has been thought to be involved in apoptosis and the C-terminal leucine zipper motif is important for its function. Recent studies have revealed that ZIP kinase also plays a role in regulating myosin phosphorylation. Here, we found novel ZIP kinase isoform in which the C-terminal non-kinase domain containing a leucine zipper is eliminated (hZIPK-S). hZIPK-S binds to myosin phosphatase targeting subunit 1(MYPT1) similar to the long isoform (hZIPK-L). In addition, we found that hZIPK-S as well as hZIPK-L bind to myosin. These results indicate that a leucine zipper is not critical for the binding of ZIP kinase to MYPT1 and myosin. Consistently, hZIPK-S localized with stress-fibers where they co-localized with myosin. The residues 278-311, the C-terminal side of the kinase domain common to the both isoforms, is involved in the binding to MYPT1, while the myosin binding domain is within the kinase domain. These results suggest that the newly found hZIPK-S as well as the long isoform play an important role in the regulation of myosin phosphorylation.   \n",
       "\n",
       "   isValid     flatparticpants  participants_count  hasTriggerWord  \\\n",
       "0     True  [Q10728, O43293-2]                   2            True   \n",
       "1     True  [Q10728, O43293-1]                   2            True   \n",
       "\n",
       "   entityMentionsCount participant1Id participant2Id  \\\n",
       "0                    9         Q10728       O43293-2   \n",
       "1                    9       O43293-1         Q10728   \n",
       "\n",
       "                                                                                                                                                                                                                                                                                               participant1Alias  \\\n",
       "0  [[mypt1_rat], [Protein phosphatase 1 regulatory subunit 12A], [Ppp1r12a], [Mbs], [Mypt1], [Myosin phosphatase-targeting subunit 1], [Protein phosphatase myosin-binding subunit], [MBSP], [Serine/threonine protein phosphatase PP1 smooth muscle regulatory subunit M110], [Protein phosphatase subunit 1M]]   \n",
       "1                                                                                                                                                           [[o43293-1], [Death-associated protein kinase 3], [ZIPK-L], [DAPK3], [ZIPK], [DAP-like kinase], [MYPT1 kinase], [Zipper-interacting protein kinase]]   \n",
       "\n",
       "                                                                                                                                                                                                                                                                                               participant2Alias  \n",
       "0                                                                                                                                                           [[o43293-2], [Death-associated protein kinase 3], [ZIPK-S], [DAPK3], [ZIPK], [DAP-like kinase], [MYPT1 kinase], [Zipper-interacting protein kinase]]  \n",
       "1  [[mypt1_rat], [Protein phosphatase 1 regulatory subunit 12A], [Ppp1r12a], [Mbs], [Mypt1], [Myosin phosphatase-targeting subunit 1], [Protein phosphatase myosin-binding subunit], [MBSP], [Serine/threonine protein phosphatase PP1 smooth muscle regulatory subunit M110], [Protein phosphatase subunit 1M]]  "
      ]
     },
     "execution_count": 44,
     "metadata": {},
     "output_type": "execute_result"
    }
   ],
   "source": [
    "data_filtered.head(n=2)"
   ]
  },
  {
   "cell_type": "markdown",
   "metadata": {},
   "source": [
    "### Normalise abstract"
   ]
  },
  {
   "cell_type": "code",
   "execution_count": 45,
   "metadata": {},
   "outputs": [],
   "source": [
    "\n",
    "def normalise_absract(data, enity_annotations_file):\n",
    "    from datatransformer.abstractGeneNormaliser import AbstractGeneNormaliser\n",
    "    from datatransformer.ncbiGeneUniprotLocalDbMapper import NcbiGeneUniprotLocalDbMapper\n",
    "    from datatransformer.ncbiGeneUniprotMapper import NcbiGeneUniprotMapper\n",
    "\n",
    "\n",
    "    from dataformatters.gnormplusPubtatorReader import GnormplusPubtatorReader\n",
    "    from datatransformer.textGeneNormaliser import TextGeneNormaliser\n",
    "\n",
    "\n",
    "    import os\n",
    "    \n",
    " \n",
    "    localdb = idmapping_dat\n",
    "    with open(localdb, \"r\") as dbhandle:\n",
    "        mapper = NcbiGeneUniprotLocalDbMapper(dbhandle, \"GeneID\") \n",
    "        \n",
    "        #Read gnormplus identified entities\n",
    "        reader = GnormplusPubtatorReader()\n",
    "        with open(enity_annotations_file,\"r\") as handle:\n",
    "            annotations_json = list(reader(handle))\n",
    "        \n",
    "        \n",
    "        # \n",
    "        normaliser = AbstractGeneNormaliser(annotations_json)\n",
    "        normaliser.text_gene_normaliser = TextGeneNormaliser(geneIdConverter = mapper) \n",
    "        result = normaliser.transform(data)\n",
    "        \n",
    "       \n",
    "\n",
    "        return result"
   ]
  },
  {
   "cell_type": "code",
   "execution_count": 46,
   "metadata": {},
   "outputs": [
    {
     "name": "stdout",
     "output_type": "stream",
     "text": [
      "2021-02-20 18:52:46,918 - datatransformer.abstractGeneNormaliser - INFO - Starting transformation..\n",
      "2021-02-20 18:52:50,200 - datatransformer.abstractGeneNormaliser - INFO - Completed normalised abstract...\n",
      "2021-02-20 18:52:50,201 - datatransformer.abstractGeneNormaliser - INFO - Adding annotations ...\n",
      "2021-02-20 18:52:50,380 - datatransformer.abstractGeneNormaliser - INFO - Adding annotations_abstract...\n",
      "2021-02-20 18:52:50,410 - datatransformer.abstractGeneNormaliser - INFO - Adding num_unique_gene_normalised_id...\n",
      "2021-02-20 18:52:50,420 - datatransformer.abstractGeneNormaliser - INFO - Adding num_gene_normalised_id...\n",
      "2021-02-20 18:52:50,427 - datatransformer.abstractGeneNormaliser - INFO - Gene Id links...\n",
      "2021-02-20 18:52:50,445 - datatransformer.abstractGeneNormaliser - INFO - Completed transformation\n",
      "CPU times: user 3.51 s, sys: 43.3 ms, total: 3.56 s\n",
      "Wall time: 3.56 s\n"
     ]
    }
   ],
   "source": [
    "%%time\n",
    "\n",
    "data_filtered = normalise_absract(data_filtered.copy(deep=True), annotations_file)"
   ]
  },
  {
   "cell_type": "code",
   "execution_count": 47,
   "metadata": {},
   "outputs": [
    {
     "data": {
      "text/plain": [
       "(2155, 20)"
      ]
     },
     "execution_count": 47,
     "metadata": {},
     "output_type": "execute_result"
    }
   ],
   "source": [
    "data_filtered.shape"
   ]
  },
  {
   "cell_type": "code",
   "execution_count": 48,
   "metadata": {},
   "outputs": [
    {
     "data": {
      "text/html": [
       "<div>\n",
       "<style scoped>\n",
       "    .dataframe tbody tr th:only-of-type {\n",
       "        vertical-align: middle;\n",
       "    }\n",
       "\n",
       "    .dataframe tbody tr th {\n",
       "        vertical-align: top;\n",
       "    }\n",
       "\n",
       "    .dataframe thead th {\n",
       "        text-align: right;\n",
       "    }\n",
       "</style>\n",
       "<table border=\"1\" class=\"dataframe\">\n",
       "  <thead>\n",
       "    <tr style=\"text-align: right;\">\n",
       "      <th></th>\n",
       "      <th>interactionId</th>\n",
       "      <th>interactionType</th>\n",
       "      <th>pubmedId</th>\n",
       "      <th>pubmedTitle</th>\n",
       "      <th>pubmedabstract</th>\n",
       "      <th>isValid</th>\n",
       "      <th>flatparticpants</th>\n",
       "      <th>participants_count</th>\n",
       "      <th>hasTriggerWord</th>\n",
       "      <th>entityMentionsCount</th>\n",
       "      <th>participant1Id</th>\n",
       "      <th>participant2Id</th>\n",
       "      <th>participant1Alias</th>\n",
       "      <th>participant2Alias</th>\n",
       "      <th>normalised_abstract</th>\n",
       "      <th>annotations</th>\n",
       "      <th>annotations_abstract</th>\n",
       "      <th>num_unique_gene_normalised_id</th>\n",
       "      <th>num_gene_normalised_id</th>\n",
       "      <th>gene_to_uniprot_map</th>\n",
       "    </tr>\n",
       "  </thead>\n",
       "  <tbody>\n",
       "    <tr>\n",
       "      <th>0</th>\n",
       "      <td>1585513</td>\n",
       "      <td>phosphorylation</td>\n",
       "      <td>17126281</td>\n",
       "      <td>None</td>\n",
       "      <td>Zipper-interacting protein kinase (ZIP kinase) has been thought to be involved in apoptosis and the C-terminal leucine zipper motif is important for its function. Recent studies have revealed that ZIP kinase also plays a role in regulating myosin phosphorylation. Here, we found novel ZIP kinase isoform in which the C-terminal non-kinase domain containing a leucine zipper is eliminated (hZIPK-S). hZIPK-S binds to myosin phosphatase targeting subunit 1(MYPT1) similar to the long isoform (hZIPK-L). In addition, we found that hZIPK-S as well as hZIPK-L bind to myosin. These results indicate that a leucine zipper is not critical for the binding of ZIP kinase to MYPT1 and myosin. Consistently, hZIPK-S localized with stress-fibers where they co-localized with myosin. The residues 278-311, the C-terminal side of the kinase domain common to the both isoforms, is involved in the binding to MYPT1, while the myosin binding domain is within the kinase domain. These results suggest that the newly found hZIPK-S as well as the long isoform play an important role in the regulation of myosin phosphorylation.</td>\n",
       "      <td>True</td>\n",
       "      <td>[Q10728, O43293-2]</td>\n",
       "      <td>2</td>\n",
       "      <td>True</td>\n",
       "      <td>9</td>\n",
       "      <td>Q10728</td>\n",
       "      <td>O43293-2</td>\n",
       "      <td>[[mypt1_rat], [Protein phosphatase 1 regulatory subunit 12A], [Ppp1r12a], [Mbs], [Mypt1], [Myosin phosphatase-targeting subunit 1], [Protein phosphatase myosin-binding subunit], [MBSP], [Serine/threonine protein phosphatase PP1 smooth muscle regulatory subunit M110], [Protein phosphatase subunit 1M]]</td>\n",
       "      <td>[[o43293-2], [Death-associated protein kinase 3], [ZIPK-S], [DAPK3], [ZIPK], [DAP-like kinase], [MYPT1 kinase], [Zipper-interacting protein kinase]]</td>\n",
       "      <td>O43293 (O43293) has been thought to be involved in apoptosis and the C-terminal leucine zipper motif is important for its function. Recent studies have revealed that O43293 also plays a role in regulating Q7Z406 phosphorylation. Here, we found novel O43293 isoform in which the C-terminal non-kinase domain containing a leucine zipper is eliminated (hZIPK-S). hZIPK-S binds to O14974(O14974) similar to the long isoform (hZIPK-L). In addition, we found that hZIPK-S as well as hZIPK-L bind to Q7Z406. These results indicate that a leucine zipper is not critical for the binding of O43293 to O14974 and Q7Z406. Consistently, hZIPK-S localized with stress-fibers where they co-localized with Q7Z406. The residues 278-311, the C-terminal side of the kinase domain common to the both isoforms, is involved in the binding to O14974, while the Q7Z406 binding domain is within the kinase domain. These results suggest that the newly found hZIPK-S as well as the long isoform play an important role in the regulation of Q7Z406 phosphorylation.</td>\n",
       "      <td>[{'start': '0', 'end': '33', 'name': 'Zipper-interacting protein kinase', 'type': 'Gene', 'normalised_id': '1613'}, {'start': '35', 'end': '45', 'name': 'ZIP kinase', 'type': 'Gene', 'normalised_id': '1613'}, {'start': '197', 'end': '207', 'name': 'ZIP kinase', 'type': 'Gene', 'normalised_id': '1613'}, {'start': '240', 'end': '246', 'name': 'myosin', 'type': 'Gene', 'normalised_id': '79784'}, {'start': '285', 'end': '295', 'name': 'ZIP kinase', 'type': 'Gene', 'normalised_id': '1613'}, {'start': '416', 'end': '454', 'name': 'myosin phosphatase targeting subunit 1', 'type': 'Gene', 'normalised_id': '4659'}, {'start': '455', 'end': '460', 'name': 'MYPT1', 'type': 'Gene', 'normalised_id': '4659'}, {'start': '563', 'end': '569', 'name': 'myosin', 'type': 'Gene', 'normalised_id': '79784'}, {'start': '651', 'end': '661', 'name': 'ZIP kinase', 'type': 'Gene', 'normalised_id': '1613'}, {'start': '665', 'end': '670', 'name': 'MYPT1', 'type': 'Gene', 'normalised_id': '4659'}, {'start': '675', 'end': '681', 'name': 'myosin', 'type': 'Gene', 'normalised_id': '79784'}, {'start': '763', 'end': '769', 'name': 'myosin', 'type': 'Gene', 'normalised_id': '79784'}, {'start': '893', 'end': '898', 'name': 'MYPT1', 'type': 'Gene', 'normalised_id': '4659'}, {'start': '910', 'end': '916', 'name': 'myosin', 'type': 'Gene', 'normalised_id': '79784'}, {'start': '1084', 'end': '1090', 'name': 'myosin', 'type': 'Gene', 'normalised_id': '79784'}]</td>\n",
       "      <td>Zipper-interacting protein kinase (ZIP kinase) has been thought to be involved in apoptosis and the C-terminal leucine zipper motif is important for its function. Recent studies have revealed that ZIP kinase also plays a role in regulating myosin phosphorylation. Here, we found novel ZIP kinase isoform in which the C-terminal non-kinase domain containing a leucine zipper is eliminated (hZIPK-S). hZIPK-S binds to myosin phosphatase targeting subunit 1(MYPT1) similar to the long isoform (hZIPK-L). In addition, we found that hZIPK-S as well as hZIPK-L bind to myosin. These results indicate that a leucine zipper is not critical for the binding of ZIP kinase to MYPT1 and myosin. Consistently, hZIPK-S localized with stress-fibers where they co-localized with myosin. The residues 278-311, the C-terminal side of the kinase domain common to the both isoforms, is involved in the binding to MYPT1, while the myosin binding domain is within the kinase domain. These results suggest that the newly found hZIPK-S as well as the long isoform play an important role in the regulation of myosin phosphorylation.</td>\n",
       "      <td>3</td>\n",
       "      <td>15</td>\n",
       "      <td>{'79784': ['Q7Z406', 'A1L2Z2', 'B3KWH4'], '1613': ['O43293', 'B3KNJ3'], '4659': ['O14974', 'B2RAH5']}</td>\n",
       "    </tr>\n",
       "    <tr>\n",
       "      <th>1</th>\n",
       "      <td>1585516</td>\n",
       "      <td>phosphorylation</td>\n",
       "      <td>17126281</td>\n",
       "      <td>None</td>\n",
       "      <td>Zipper-interacting protein kinase (ZIP kinase) has been thought to be involved in apoptosis and the C-terminal leucine zipper motif is important for its function. Recent studies have revealed that ZIP kinase also plays a role in regulating myosin phosphorylation. Here, we found novel ZIP kinase isoform in which the C-terminal non-kinase domain containing a leucine zipper is eliminated (hZIPK-S). hZIPK-S binds to myosin phosphatase targeting subunit 1(MYPT1) similar to the long isoform (hZIPK-L). In addition, we found that hZIPK-S as well as hZIPK-L bind to myosin. These results indicate that a leucine zipper is not critical for the binding of ZIP kinase to MYPT1 and myosin. Consistently, hZIPK-S localized with stress-fibers where they co-localized with myosin. The residues 278-311, the C-terminal side of the kinase domain common to the both isoforms, is involved in the binding to MYPT1, while the myosin binding domain is within the kinase domain. These results suggest that the newly found hZIPK-S as well as the long isoform play an important role in the regulation of myosin phosphorylation.</td>\n",
       "      <td>True</td>\n",
       "      <td>[Q10728, O43293-1]</td>\n",
       "      <td>2</td>\n",
       "      <td>True</td>\n",
       "      <td>9</td>\n",
       "      <td>O43293-1</td>\n",
       "      <td>Q10728</td>\n",
       "      <td>[[o43293-1], [Death-associated protein kinase 3], [ZIPK-L], [DAPK3], [ZIPK], [DAP-like kinase], [MYPT1 kinase], [Zipper-interacting protein kinase]]</td>\n",
       "      <td>[[mypt1_rat], [Protein phosphatase 1 regulatory subunit 12A], [Ppp1r12a], [Mbs], [Mypt1], [Myosin phosphatase-targeting subunit 1], [Protein phosphatase myosin-binding subunit], [MBSP], [Serine/threonine protein phosphatase PP1 smooth muscle regulatory subunit M110], [Protein phosphatase subunit 1M]]</td>\n",
       "      <td>O43293 (O43293) has been thought to be involved in apoptosis and the C-terminal leucine zipper motif is important for its function. Recent studies have revealed that O43293 also plays a role in regulating Q7Z406 phosphorylation. Here, we found novel O43293 isoform in which the C-terminal non-kinase domain containing a leucine zipper is eliminated (hZIPK-S). hZIPK-S binds to O14974(O14974) similar to the long isoform (hZIPK-L). In addition, we found that hZIPK-S as well as hZIPK-L bind to Q7Z406. These results indicate that a leucine zipper is not critical for the binding of O43293 to O14974 and Q7Z406. Consistently, hZIPK-S localized with stress-fibers where they co-localized with Q7Z406. The residues 278-311, the C-terminal side of the kinase domain common to the both isoforms, is involved in the binding to O14974, while the Q7Z406 binding domain is within the kinase domain. These results suggest that the newly found hZIPK-S as well as the long isoform play an important role in the regulation of Q7Z406 phosphorylation.</td>\n",
       "      <td>[{'start': '0', 'end': '33', 'name': 'Zipper-interacting protein kinase', 'type': 'Gene', 'normalised_id': '1613'}, {'start': '35', 'end': '45', 'name': 'ZIP kinase', 'type': 'Gene', 'normalised_id': '1613'}, {'start': '197', 'end': '207', 'name': 'ZIP kinase', 'type': 'Gene', 'normalised_id': '1613'}, {'start': '240', 'end': '246', 'name': 'myosin', 'type': 'Gene', 'normalised_id': '79784'}, {'start': '285', 'end': '295', 'name': 'ZIP kinase', 'type': 'Gene', 'normalised_id': '1613'}, {'start': '416', 'end': '454', 'name': 'myosin phosphatase targeting subunit 1', 'type': 'Gene', 'normalised_id': '4659'}, {'start': '455', 'end': '460', 'name': 'MYPT1', 'type': 'Gene', 'normalised_id': '4659'}, {'start': '563', 'end': '569', 'name': 'myosin', 'type': 'Gene', 'normalised_id': '79784'}, {'start': '651', 'end': '661', 'name': 'ZIP kinase', 'type': 'Gene', 'normalised_id': '1613'}, {'start': '665', 'end': '670', 'name': 'MYPT1', 'type': 'Gene', 'normalised_id': '4659'}, {'start': '675', 'end': '681', 'name': 'myosin', 'type': 'Gene', 'normalised_id': '79784'}, {'start': '763', 'end': '769', 'name': 'myosin', 'type': 'Gene', 'normalised_id': '79784'}, {'start': '893', 'end': '898', 'name': 'MYPT1', 'type': 'Gene', 'normalised_id': '4659'}, {'start': '910', 'end': '916', 'name': 'myosin', 'type': 'Gene', 'normalised_id': '79784'}, {'start': '1084', 'end': '1090', 'name': 'myosin', 'type': 'Gene', 'normalised_id': '79784'}]</td>\n",
       "      <td>Zipper-interacting protein kinase (ZIP kinase) has been thought to be involved in apoptosis and the C-terminal leucine zipper motif is important for its function. Recent studies have revealed that ZIP kinase also plays a role in regulating myosin phosphorylation. Here, we found novel ZIP kinase isoform in which the C-terminal non-kinase domain containing a leucine zipper is eliminated (hZIPK-S). hZIPK-S binds to myosin phosphatase targeting subunit 1(MYPT1) similar to the long isoform (hZIPK-L). In addition, we found that hZIPK-S as well as hZIPK-L bind to myosin. These results indicate that a leucine zipper is not critical for the binding of ZIP kinase to MYPT1 and myosin. Consistently, hZIPK-S localized with stress-fibers where they co-localized with myosin. The residues 278-311, the C-terminal side of the kinase domain common to the both isoforms, is involved in the binding to MYPT1, while the myosin binding domain is within the kinase domain. These results suggest that the newly found hZIPK-S as well as the long isoform play an important role in the regulation of myosin phosphorylation.</td>\n",
       "      <td>3</td>\n",
       "      <td>15</td>\n",
       "      <td>{'79784': ['Q7Z406', 'A1L2Z2', 'B3KWH4'], '1613': ['O43293', 'B3KNJ3'], '4659': ['O14974', 'B2RAH5']}</td>\n",
       "    </tr>\n",
       "    <tr>\n",
       "      <th>2</th>\n",
       "      <td>1585519</td>\n",
       "      <td>phosphorylation</td>\n",
       "      <td>17126281</td>\n",
       "      <td>None</td>\n",
       "      <td>Zipper-interacting protein kinase (ZIP kinase) has been thought to be involved in apoptosis and the C-terminal leucine zipper motif is important for its function. Recent studies have revealed that ZIP kinase also plays a role in regulating myosin phosphorylation. Here, we found novel ZIP kinase isoform in which the C-terminal non-kinase domain containing a leucine zipper is eliminated (hZIPK-S). hZIPK-S binds to myosin phosphatase targeting subunit 1(MYPT1) similar to the long isoform (hZIPK-L). In addition, we found that hZIPK-S as well as hZIPK-L bind to myosin. These results indicate that a leucine zipper is not critical for the binding of ZIP kinase to MYPT1 and myosin. Consistently, hZIPK-S localized with stress-fibers where they co-localized with myosin. The residues 278-311, the C-terminal side of the kinase domain common to the both isoforms, is involved in the binding to MYPT1, while the myosin binding domain is within the kinase domain. These results suggest that the newly found hZIPK-S as well as the long isoform play an important role in the regulation of myosin phosphorylation.</td>\n",
       "      <td>True</td>\n",
       "      <td>[O43293-2]</td>\n",
       "      <td>1</td>\n",
       "      <td>True</td>\n",
       "      <td>5</td>\n",
       "      <td>O43293-2</td>\n",
       "      <td>O43293-2</td>\n",
       "      <td>[[o43293-2], [Death-associated protein kinase 3], [ZIPK-S], [DAPK3], [ZIPK], [DAP-like kinase], [MYPT1 kinase], [Zipper-interacting protein kinase]]</td>\n",
       "      <td>[[o43293-2], [Death-associated protein kinase 3], [ZIPK-S], [DAPK3], [ZIPK], [DAP-like kinase], [MYPT1 kinase], [Zipper-interacting protein kinase]]</td>\n",
       "      <td>O43293 (O43293) has been thought to be involved in apoptosis and the C-terminal leucine zipper motif is important for its function. Recent studies have revealed that O43293 also plays a role in regulating Q7Z406 phosphorylation. Here, we found novel O43293 isoform in which the C-terminal non-kinase domain containing a leucine zipper is eliminated (hZIPK-S). hZIPK-S binds to O14974(O14974) similar to the long isoform (hZIPK-L). In addition, we found that hZIPK-S as well as hZIPK-L bind to Q7Z406. These results indicate that a leucine zipper is not critical for the binding of O43293 to O14974 and Q7Z406. Consistently, hZIPK-S localized with stress-fibers where they co-localized with Q7Z406. The residues 278-311, the C-terminal side of the kinase domain common to the both isoforms, is involved in the binding to O14974, while the Q7Z406 binding domain is within the kinase domain. These results suggest that the newly found hZIPK-S as well as the long isoform play an important role in the regulation of Q7Z406 phosphorylation.</td>\n",
       "      <td>[{'start': '0', 'end': '33', 'name': 'Zipper-interacting protein kinase', 'type': 'Gene', 'normalised_id': '1613'}, {'start': '35', 'end': '45', 'name': 'ZIP kinase', 'type': 'Gene', 'normalised_id': '1613'}, {'start': '197', 'end': '207', 'name': 'ZIP kinase', 'type': 'Gene', 'normalised_id': '1613'}, {'start': '240', 'end': '246', 'name': 'myosin', 'type': 'Gene', 'normalised_id': '79784'}, {'start': '285', 'end': '295', 'name': 'ZIP kinase', 'type': 'Gene', 'normalised_id': '1613'}, {'start': '416', 'end': '454', 'name': 'myosin phosphatase targeting subunit 1', 'type': 'Gene', 'normalised_id': '4659'}, {'start': '455', 'end': '460', 'name': 'MYPT1', 'type': 'Gene', 'normalised_id': '4659'}, {'start': '563', 'end': '569', 'name': 'myosin', 'type': 'Gene', 'normalised_id': '79784'}, {'start': '651', 'end': '661', 'name': 'ZIP kinase', 'type': 'Gene', 'normalised_id': '1613'}, {'start': '665', 'end': '670', 'name': 'MYPT1', 'type': 'Gene', 'normalised_id': '4659'}, {'start': '675', 'end': '681', 'name': 'myosin', 'type': 'Gene', 'normalised_id': '79784'}, {'start': '763', 'end': '769', 'name': 'myosin', 'type': 'Gene', 'normalised_id': '79784'}, {'start': '893', 'end': '898', 'name': 'MYPT1', 'type': 'Gene', 'normalised_id': '4659'}, {'start': '910', 'end': '916', 'name': 'myosin', 'type': 'Gene', 'normalised_id': '79784'}, {'start': '1084', 'end': '1090', 'name': 'myosin', 'type': 'Gene', 'normalised_id': '79784'}]</td>\n",
       "      <td>Zipper-interacting protein kinase (ZIP kinase) has been thought to be involved in apoptosis and the C-terminal leucine zipper motif is important for its function. Recent studies have revealed that ZIP kinase also plays a role in regulating myosin phosphorylation. Here, we found novel ZIP kinase isoform in which the C-terminal non-kinase domain containing a leucine zipper is eliminated (hZIPK-S). hZIPK-S binds to myosin phosphatase targeting subunit 1(MYPT1) similar to the long isoform (hZIPK-L). In addition, we found that hZIPK-S as well as hZIPK-L bind to myosin. These results indicate that a leucine zipper is not critical for the binding of ZIP kinase to MYPT1 and myosin. Consistently, hZIPK-S localized with stress-fibers where they co-localized with myosin. The residues 278-311, the C-terminal side of the kinase domain common to the both isoforms, is involved in the binding to MYPT1, while the myosin binding domain is within the kinase domain. These results suggest that the newly found hZIPK-S as well as the long isoform play an important role in the regulation of myosin phosphorylation.</td>\n",
       "      <td>3</td>\n",
       "      <td>15</td>\n",
       "      <td>{'79784': ['Q7Z406', 'A1L2Z2', 'B3KWH4'], '1613': ['O43293', 'B3KNJ3'], '4659': ['O14974', 'B2RAH5']}</td>\n",
       "    </tr>\n",
       "  </tbody>\n",
       "</table>\n",
       "</div>"
      ],
      "text/plain": [
       "  interactionId  interactionType  pubmedId pubmedTitle  \\\n",
       "0       1585513  phosphorylation  17126281        None   \n",
       "1       1585516  phosphorylation  17126281        None   \n",
       "2       1585519  phosphorylation  17126281        None   \n",
       "\n",
       "                                                                                                                                                                                                                                                                                                                                                                                                                                                                                                                                                                                                                                                                                                                                                                                                                                                                                                                                                                                                                                                                                                                                        pubmedabstract  \\\n",
       "0  Zipper-interacting protein kinase (ZIP kinase) has been thought to be involved in apoptosis and the C-terminal leucine zipper motif is important for its function. Recent studies have revealed that ZIP kinase also plays a role in regulating myosin phosphorylation. Here, we found novel ZIP kinase isoform in which the C-terminal non-kinase domain containing a leucine zipper is eliminated (hZIPK-S). hZIPK-S binds to myosin phosphatase targeting subunit 1(MYPT1) similar to the long isoform (hZIPK-L). In addition, we found that hZIPK-S as well as hZIPK-L bind to myosin. These results indicate that a leucine zipper is not critical for the binding of ZIP kinase to MYPT1 and myosin. Consistently, hZIPK-S localized with stress-fibers where they co-localized with myosin. The residues 278-311, the C-terminal side of the kinase domain common to the both isoforms, is involved in the binding to MYPT1, while the myosin binding domain is within the kinase domain. These results suggest that the newly found hZIPK-S as well as the long isoform play an important role in the regulation of myosin phosphorylation.   \n",
       "1  Zipper-interacting protein kinase (ZIP kinase) has been thought to be involved in apoptosis and the C-terminal leucine zipper motif is important for its function. Recent studies have revealed that ZIP kinase also plays a role in regulating myosin phosphorylation. Here, we found novel ZIP kinase isoform in which the C-terminal non-kinase domain containing a leucine zipper is eliminated (hZIPK-S). hZIPK-S binds to myosin phosphatase targeting subunit 1(MYPT1) similar to the long isoform (hZIPK-L). In addition, we found that hZIPK-S as well as hZIPK-L bind to myosin. These results indicate that a leucine zipper is not critical for the binding of ZIP kinase to MYPT1 and myosin. Consistently, hZIPK-S localized with stress-fibers where they co-localized with myosin. The residues 278-311, the C-terminal side of the kinase domain common to the both isoforms, is involved in the binding to MYPT1, while the myosin binding domain is within the kinase domain. These results suggest that the newly found hZIPK-S as well as the long isoform play an important role in the regulation of myosin phosphorylation.   \n",
       "2  Zipper-interacting protein kinase (ZIP kinase) has been thought to be involved in apoptosis and the C-terminal leucine zipper motif is important for its function. Recent studies have revealed that ZIP kinase also plays a role in regulating myosin phosphorylation. Here, we found novel ZIP kinase isoform in which the C-terminal non-kinase domain containing a leucine zipper is eliminated (hZIPK-S). hZIPK-S binds to myosin phosphatase targeting subunit 1(MYPT1) similar to the long isoform (hZIPK-L). In addition, we found that hZIPK-S as well as hZIPK-L bind to myosin. These results indicate that a leucine zipper is not critical for the binding of ZIP kinase to MYPT1 and myosin. Consistently, hZIPK-S localized with stress-fibers where they co-localized with myosin. The residues 278-311, the C-terminal side of the kinase domain common to the both isoforms, is involved in the binding to MYPT1, while the myosin binding domain is within the kinase domain. These results suggest that the newly found hZIPK-S as well as the long isoform play an important role in the regulation of myosin phosphorylation.   \n",
       "\n",
       "   isValid     flatparticpants  participants_count  hasTriggerWord  \\\n",
       "0     True  [Q10728, O43293-2]                   2            True   \n",
       "1     True  [Q10728, O43293-1]                   2            True   \n",
       "2     True          [O43293-2]                   1            True   \n",
       "\n",
       "   entityMentionsCount participant1Id participant2Id  \\\n",
       "0                    9         Q10728       O43293-2   \n",
       "1                    9       O43293-1         Q10728   \n",
       "2                    5       O43293-2       O43293-2   \n",
       "\n",
       "                                                                                                                                                                                                                                                                                               participant1Alias  \\\n",
       "0  [[mypt1_rat], [Protein phosphatase 1 regulatory subunit 12A], [Ppp1r12a], [Mbs], [Mypt1], [Myosin phosphatase-targeting subunit 1], [Protein phosphatase myosin-binding subunit], [MBSP], [Serine/threonine protein phosphatase PP1 smooth muscle regulatory subunit M110], [Protein phosphatase subunit 1M]]   \n",
       "1                                                                                                                                                           [[o43293-1], [Death-associated protein kinase 3], [ZIPK-L], [DAPK3], [ZIPK], [DAP-like kinase], [MYPT1 kinase], [Zipper-interacting protein kinase]]   \n",
       "2                                                                                                                                                           [[o43293-2], [Death-associated protein kinase 3], [ZIPK-S], [DAPK3], [ZIPK], [DAP-like kinase], [MYPT1 kinase], [Zipper-interacting protein kinase]]   \n",
       "\n",
       "                                                                                                                                                                                                                                                                                               participant2Alias  \\\n",
       "0                                                                                                                                                           [[o43293-2], [Death-associated protein kinase 3], [ZIPK-S], [DAPK3], [ZIPK], [DAP-like kinase], [MYPT1 kinase], [Zipper-interacting protein kinase]]   \n",
       "1  [[mypt1_rat], [Protein phosphatase 1 regulatory subunit 12A], [Ppp1r12a], [Mbs], [Mypt1], [Myosin phosphatase-targeting subunit 1], [Protein phosphatase myosin-binding subunit], [MBSP], [Serine/threonine protein phosphatase PP1 smooth muscle regulatory subunit M110], [Protein phosphatase subunit 1M]]   \n",
       "2                                                                                                                                                           [[o43293-2], [Death-associated protein kinase 3], [ZIPK-S], [DAPK3], [ZIPK], [DAP-like kinase], [MYPT1 kinase], [Zipper-interacting protein kinase]]   \n",
       "\n",
       "                                                                                                                                                                                                                                                                                                                                                                                                                                                                                                                                                                                                                                                                                                                                                                                                                                                                                                                                                                                                                                                           normalised_abstract  \\\n",
       "0  O43293 (O43293) has been thought to be involved in apoptosis and the C-terminal leucine zipper motif is important for its function. Recent studies have revealed that O43293 also plays a role in regulating Q7Z406 phosphorylation. Here, we found novel O43293 isoform in which the C-terminal non-kinase domain containing a leucine zipper is eliminated (hZIPK-S). hZIPK-S binds to O14974(O14974) similar to the long isoform (hZIPK-L). In addition, we found that hZIPK-S as well as hZIPK-L bind to Q7Z406. These results indicate that a leucine zipper is not critical for the binding of O43293 to O14974 and Q7Z406. Consistently, hZIPK-S localized with stress-fibers where they co-localized with Q7Z406. The residues 278-311, the C-terminal side of the kinase domain common to the both isoforms, is involved in the binding to O14974, while the Q7Z406 binding domain is within the kinase domain. These results suggest that the newly found hZIPK-S as well as the long isoform play an important role in the regulation of Q7Z406 phosphorylation.   \n",
       "1  O43293 (O43293) has been thought to be involved in apoptosis and the C-terminal leucine zipper motif is important for its function. Recent studies have revealed that O43293 also plays a role in regulating Q7Z406 phosphorylation. Here, we found novel O43293 isoform in which the C-terminal non-kinase domain containing a leucine zipper is eliminated (hZIPK-S). hZIPK-S binds to O14974(O14974) similar to the long isoform (hZIPK-L). In addition, we found that hZIPK-S as well as hZIPK-L bind to Q7Z406. These results indicate that a leucine zipper is not critical for the binding of O43293 to O14974 and Q7Z406. Consistently, hZIPK-S localized with stress-fibers where they co-localized with Q7Z406. The residues 278-311, the C-terminal side of the kinase domain common to the both isoforms, is involved in the binding to O14974, while the Q7Z406 binding domain is within the kinase domain. These results suggest that the newly found hZIPK-S as well as the long isoform play an important role in the regulation of Q7Z406 phosphorylation.   \n",
       "2  O43293 (O43293) has been thought to be involved in apoptosis and the C-terminal leucine zipper motif is important for its function. Recent studies have revealed that O43293 also plays a role in regulating Q7Z406 phosphorylation. Here, we found novel O43293 isoform in which the C-terminal non-kinase domain containing a leucine zipper is eliminated (hZIPK-S). hZIPK-S binds to O14974(O14974) similar to the long isoform (hZIPK-L). In addition, we found that hZIPK-S as well as hZIPK-L bind to Q7Z406. These results indicate that a leucine zipper is not critical for the binding of O43293 to O14974 and Q7Z406. Consistently, hZIPK-S localized with stress-fibers where they co-localized with Q7Z406. The residues 278-311, the C-terminal side of the kinase domain common to the both isoforms, is involved in the binding to O14974, while the Q7Z406 binding domain is within the kinase domain. These results suggest that the newly found hZIPK-S as well as the long isoform play an important role in the regulation of Q7Z406 phosphorylation.   \n",
       "\n",
       "                                                                                                                                                                                                                                                                                                                                                                                                                                                                                                                                                                                                                                                                                                                                                                                                                                                                                                                                                                                                                                                                                                                                                                                                                                                                                                                                                                                                                                                                                        annotations  \\\n",
       "0  [{'start': '0', 'end': '33', 'name': 'Zipper-interacting protein kinase', 'type': 'Gene', 'normalised_id': '1613'}, {'start': '35', 'end': '45', 'name': 'ZIP kinase', 'type': 'Gene', 'normalised_id': '1613'}, {'start': '197', 'end': '207', 'name': 'ZIP kinase', 'type': 'Gene', 'normalised_id': '1613'}, {'start': '240', 'end': '246', 'name': 'myosin', 'type': 'Gene', 'normalised_id': '79784'}, {'start': '285', 'end': '295', 'name': 'ZIP kinase', 'type': 'Gene', 'normalised_id': '1613'}, {'start': '416', 'end': '454', 'name': 'myosin phosphatase targeting subunit 1', 'type': 'Gene', 'normalised_id': '4659'}, {'start': '455', 'end': '460', 'name': 'MYPT1', 'type': 'Gene', 'normalised_id': '4659'}, {'start': '563', 'end': '569', 'name': 'myosin', 'type': 'Gene', 'normalised_id': '79784'}, {'start': '651', 'end': '661', 'name': 'ZIP kinase', 'type': 'Gene', 'normalised_id': '1613'}, {'start': '665', 'end': '670', 'name': 'MYPT1', 'type': 'Gene', 'normalised_id': '4659'}, {'start': '675', 'end': '681', 'name': 'myosin', 'type': 'Gene', 'normalised_id': '79784'}, {'start': '763', 'end': '769', 'name': 'myosin', 'type': 'Gene', 'normalised_id': '79784'}, {'start': '893', 'end': '898', 'name': 'MYPT1', 'type': 'Gene', 'normalised_id': '4659'}, {'start': '910', 'end': '916', 'name': 'myosin', 'type': 'Gene', 'normalised_id': '79784'}, {'start': '1084', 'end': '1090', 'name': 'myosin', 'type': 'Gene', 'normalised_id': '79784'}]   \n",
       "1  [{'start': '0', 'end': '33', 'name': 'Zipper-interacting protein kinase', 'type': 'Gene', 'normalised_id': '1613'}, {'start': '35', 'end': '45', 'name': 'ZIP kinase', 'type': 'Gene', 'normalised_id': '1613'}, {'start': '197', 'end': '207', 'name': 'ZIP kinase', 'type': 'Gene', 'normalised_id': '1613'}, {'start': '240', 'end': '246', 'name': 'myosin', 'type': 'Gene', 'normalised_id': '79784'}, {'start': '285', 'end': '295', 'name': 'ZIP kinase', 'type': 'Gene', 'normalised_id': '1613'}, {'start': '416', 'end': '454', 'name': 'myosin phosphatase targeting subunit 1', 'type': 'Gene', 'normalised_id': '4659'}, {'start': '455', 'end': '460', 'name': 'MYPT1', 'type': 'Gene', 'normalised_id': '4659'}, {'start': '563', 'end': '569', 'name': 'myosin', 'type': 'Gene', 'normalised_id': '79784'}, {'start': '651', 'end': '661', 'name': 'ZIP kinase', 'type': 'Gene', 'normalised_id': '1613'}, {'start': '665', 'end': '670', 'name': 'MYPT1', 'type': 'Gene', 'normalised_id': '4659'}, {'start': '675', 'end': '681', 'name': 'myosin', 'type': 'Gene', 'normalised_id': '79784'}, {'start': '763', 'end': '769', 'name': 'myosin', 'type': 'Gene', 'normalised_id': '79784'}, {'start': '893', 'end': '898', 'name': 'MYPT1', 'type': 'Gene', 'normalised_id': '4659'}, {'start': '910', 'end': '916', 'name': 'myosin', 'type': 'Gene', 'normalised_id': '79784'}, {'start': '1084', 'end': '1090', 'name': 'myosin', 'type': 'Gene', 'normalised_id': '79784'}]   \n",
       "2  [{'start': '0', 'end': '33', 'name': 'Zipper-interacting protein kinase', 'type': 'Gene', 'normalised_id': '1613'}, {'start': '35', 'end': '45', 'name': 'ZIP kinase', 'type': 'Gene', 'normalised_id': '1613'}, {'start': '197', 'end': '207', 'name': 'ZIP kinase', 'type': 'Gene', 'normalised_id': '1613'}, {'start': '240', 'end': '246', 'name': 'myosin', 'type': 'Gene', 'normalised_id': '79784'}, {'start': '285', 'end': '295', 'name': 'ZIP kinase', 'type': 'Gene', 'normalised_id': '1613'}, {'start': '416', 'end': '454', 'name': 'myosin phosphatase targeting subunit 1', 'type': 'Gene', 'normalised_id': '4659'}, {'start': '455', 'end': '460', 'name': 'MYPT1', 'type': 'Gene', 'normalised_id': '4659'}, {'start': '563', 'end': '569', 'name': 'myosin', 'type': 'Gene', 'normalised_id': '79784'}, {'start': '651', 'end': '661', 'name': 'ZIP kinase', 'type': 'Gene', 'normalised_id': '1613'}, {'start': '665', 'end': '670', 'name': 'MYPT1', 'type': 'Gene', 'normalised_id': '4659'}, {'start': '675', 'end': '681', 'name': 'myosin', 'type': 'Gene', 'normalised_id': '79784'}, {'start': '763', 'end': '769', 'name': 'myosin', 'type': 'Gene', 'normalised_id': '79784'}, {'start': '893', 'end': '898', 'name': 'MYPT1', 'type': 'Gene', 'normalised_id': '4659'}, {'start': '910', 'end': '916', 'name': 'myosin', 'type': 'Gene', 'normalised_id': '79784'}, {'start': '1084', 'end': '1090', 'name': 'myosin', 'type': 'Gene', 'normalised_id': '79784'}]   \n",
       "\n",
       "                                                                                                                                                                                                                                                                                                                                                                                                                                                                                                                                                                                                                                                                                                                                                                                                                                                                                                                                                                                                                                                                                                                                  annotations_abstract  \\\n",
       "0  Zipper-interacting protein kinase (ZIP kinase) has been thought to be involved in apoptosis and the C-terminal leucine zipper motif is important for its function. Recent studies have revealed that ZIP kinase also plays a role in regulating myosin phosphorylation. Here, we found novel ZIP kinase isoform in which the C-terminal non-kinase domain containing a leucine zipper is eliminated (hZIPK-S). hZIPK-S binds to myosin phosphatase targeting subunit 1(MYPT1) similar to the long isoform (hZIPK-L). In addition, we found that hZIPK-S as well as hZIPK-L bind to myosin. These results indicate that a leucine zipper is not critical for the binding of ZIP kinase to MYPT1 and myosin. Consistently, hZIPK-S localized with stress-fibers where they co-localized with myosin. The residues 278-311, the C-terminal side of the kinase domain common to the both isoforms, is involved in the binding to MYPT1, while the myosin binding domain is within the kinase domain. These results suggest that the newly found hZIPK-S as well as the long isoform play an important role in the regulation of myosin phosphorylation.   \n",
       "1  Zipper-interacting protein kinase (ZIP kinase) has been thought to be involved in apoptosis and the C-terminal leucine zipper motif is important for its function. Recent studies have revealed that ZIP kinase also plays a role in regulating myosin phosphorylation. Here, we found novel ZIP kinase isoform in which the C-terminal non-kinase domain containing a leucine zipper is eliminated (hZIPK-S). hZIPK-S binds to myosin phosphatase targeting subunit 1(MYPT1) similar to the long isoform (hZIPK-L). In addition, we found that hZIPK-S as well as hZIPK-L bind to myosin. These results indicate that a leucine zipper is not critical for the binding of ZIP kinase to MYPT1 and myosin. Consistently, hZIPK-S localized with stress-fibers where they co-localized with myosin. The residues 278-311, the C-terminal side of the kinase domain common to the both isoforms, is involved in the binding to MYPT1, while the myosin binding domain is within the kinase domain. These results suggest that the newly found hZIPK-S as well as the long isoform play an important role in the regulation of myosin phosphorylation.   \n",
       "2  Zipper-interacting protein kinase (ZIP kinase) has been thought to be involved in apoptosis and the C-terminal leucine zipper motif is important for its function. Recent studies have revealed that ZIP kinase also plays a role in regulating myosin phosphorylation. Here, we found novel ZIP kinase isoform in which the C-terminal non-kinase domain containing a leucine zipper is eliminated (hZIPK-S). hZIPK-S binds to myosin phosphatase targeting subunit 1(MYPT1) similar to the long isoform (hZIPK-L). In addition, we found that hZIPK-S as well as hZIPK-L bind to myosin. These results indicate that a leucine zipper is not critical for the binding of ZIP kinase to MYPT1 and myosin. Consistently, hZIPK-S localized with stress-fibers where they co-localized with myosin. The residues 278-311, the C-terminal side of the kinase domain common to the both isoforms, is involved in the binding to MYPT1, while the myosin binding domain is within the kinase domain. These results suggest that the newly found hZIPK-S as well as the long isoform play an important role in the regulation of myosin phosphorylation.   \n",
       "\n",
       "   num_unique_gene_normalised_id  num_gene_normalised_id  \\\n",
       "0                              3                      15   \n",
       "1                              3                      15   \n",
       "2                              3                      15   \n",
       "\n",
       "                                                                                     gene_to_uniprot_map  \n",
       "0  {'79784': ['Q7Z406', 'A1L2Z2', 'B3KWH4'], '1613': ['O43293', 'B3KNJ3'], '4659': ['O14974', 'B2RAH5']}  \n",
       "1  {'79784': ['Q7Z406', 'A1L2Z2', 'B3KWH4'], '1613': ['O43293', 'B3KNJ3'], '4659': ['O14974', 'B2RAH5']}  \n",
       "2  {'79784': ['Q7Z406', 'A1L2Z2', 'B3KWH4'], '1613': ['O43293', 'B3KNJ3'], '4659': ['O14974', 'B2RAH5']}  "
      ]
     },
     "execution_count": 48,
     "metadata": {},
     "output_type": "execute_result"
    }
   ],
   "source": [
    "data_filtered.head(n=3)"
   ]
  },
  {
   "cell_type": "code",
   "execution_count": 49,
   "metadata": {},
   "outputs": [
    {
     "data": {
      "text/plain": [
       "(41, 20)"
      ]
     },
     "execution_count": 49,
     "metadata": {},
     "output_type": "execute_result"
    }
   ],
   "source": [
    "data_filtered.query(\"interactionType == 'acetylation'\").shape"
   ]
  },
  {
   "cell_type": "code",
   "execution_count": 50,
   "metadata": {},
   "outputs": [
    {
     "data": {
      "text/plain": [
       "<matplotlib.axes._subplots.AxesSubplot at 0x7fb730119d90>"
      ]
     },
     "execution_count": 50,
     "metadata": {},
     "output_type": "execute_result"
    },
    {
     "data": {
      "image/png": "[encoded data removed]",
      "text/plain": [
       "<Figure size 1080x360 with 4 Axes>"
      ]
     },
     "metadata": {},
     "output_type": "display_data"
    }
   ],
   "source": [
    "\n",
    "fig, ax =  plt.subplots( 1,4, figsize=(15,5))\n",
    "\n",
    "tmp = pd.DataFrame()\n",
    "\n",
    "data_filtered[\"particpant1Exists\"] = data_filtered.apply(lambda r: r[\"participant1Id\"] in r[\"normalised_abstract\"]   , 1)\n",
    "data_filtered[\"particpant1Exists\"].value_counts().plot.pie(ax=ax[0], autopct='%.2f')\n",
    "\n",
    "data_filtered[\"particpant2Exists\"] = data_filtered.apply(lambda r: r[\"participant2Id\"] in r[\"normalised_abstract\"]   , 1)\n",
    "data_filtered[\"particpant2Exists\"].value_counts().plot.pie(ax=ax[1], autopct='%.2f')\n",
    "\n",
    "\n",
    "data_filtered[\"bothParticpantsExist\"] = data_filtered.apply(lambda r: r[\"particpant2Exists\"] and r[\"particpant1Exists\"]   , 1)\n",
    "data_filtered[\"bothParticpantsExist\"].value_counts().plot.pie(ax=ax[2], autopct='%.2f')\n",
    "\n",
    "data_filtered[\"noParticpantsExist\"] = data_filtered.apply(lambda r: not (r[\"particpant2Exists\"] or r[\"particpant1Exists\"])   , 1)\n",
    "data_filtered[\"noParticpantsExist\"].value_counts().plot.pie(ax=ax[3], autopct='%.2f')\n"
   ]
  },
  {
   "cell_type": "code",
   "execution_count": 51,
   "metadata": {},
   "outputs": [
    {
     "data": {
      "image/png": "[encoded data removed]",
      "text/plain": [
       "<Figure size 1440x360 with 7 Axes>"
      ]
     },
     "metadata": {
      "needs_background": "light"
     },
     "output_type": "display_data"
    }
   ],
   "source": [
    "fig, ax = plt.subplots(1,7, figsize=(20,5))\n",
    "\n",
    "data_filtered.groupby([ \"bothParticpantsExist\", 'interactionType']).size().unstack().plot.bar(subplots=True, ax=ax)\n",
    "plt.show()"
   ]
  },
  {
   "cell_type": "code",
   "execution_count": 52,
   "metadata": {},
   "outputs": [
    {
     "data": {
      "text/html": [
       "<div>\n",
       "<style scoped>\n",
       "    .dataframe tbody tr th:only-of-type {\n",
       "        vertical-align: middle;\n",
       "    }\n",
       "\n",
       "    .dataframe tbody tr th {\n",
       "        vertical-align: top;\n",
       "    }\n",
       "\n",
       "    .dataframe thead th {\n",
       "        text-align: right;\n",
       "    }\n",
       "</style>\n",
       "<table border=\"1\" class=\"dataframe\">\n",
       "  <thead>\n",
       "    <tr style=\"text-align: right;\">\n",
       "      <th></th>\n",
       "      <th>interactionId</th>\n",
       "      <th>interactionType</th>\n",
       "      <th>pubmedId</th>\n",
       "      <th>pubmedTitle</th>\n",
       "      <th>pubmedabstract</th>\n",
       "      <th>isValid</th>\n",
       "      <th>flatparticpants</th>\n",
       "      <th>participants_count</th>\n",
       "      <th>hasTriggerWord</th>\n",
       "      <th>entityMentionsCount</th>\n",
       "      <th>participant1Id</th>\n",
       "      <th>participant2Id</th>\n",
       "      <th>participant1Alias</th>\n",
       "      <th>participant2Alias</th>\n",
       "      <th>normalised_abstract</th>\n",
       "      <th>annotations</th>\n",
       "      <th>annotations_abstract</th>\n",
       "      <th>num_unique_gene_normalised_id</th>\n",
       "      <th>num_gene_normalised_id</th>\n",
       "      <th>gene_to_uniprot_map</th>\n",
       "      <th>particpant1Exists</th>\n",
       "      <th>particpant2Exists</th>\n",
       "      <th>bothParticpantsExist</th>\n",
       "      <th>noParticpantsExist</th>\n",
       "    </tr>\n",
       "  </thead>\n",
       "  <tbody>\n",
       "    <tr>\n",
       "      <th>2098</th>\n",
       "      <td>2595032</td>\n",
       "      <td>phosphorylation</td>\n",
       "      <td>16641105</td>\n",
       "      <td>Phosphorylation of TNF-alpha converting enzyme by gastrin-releasing peptide induces amphiregulin release and EGF receptor activation.</td>\n",
       "      <td>G protein-coupled receptors induce EGF receptor (EGFR) signaling, leading to the proliferation and invasion of cancer cells. Elucidation of the mechanism of EGFR activation by G protein-coupled receptors may identify new signaling paradigms. A gastrin-releasing peptide (GRP)/GRP receptor-mediated autocrine pathway was previously described in squamous cell carcinoma of head and neck. In the present study, we demonstrate that TNF-alpha converting enzyme (TACE), a disintegrin and metalloproteinse-17, undergoes a Src-dependent phosphorylation that regulates release of the EGFR ligand amphiregulin upon GRP treatment. Further investigation reveals the phosphatidylinositol 3-kinase (PI3-K) as the intermediate of c-Src and TACE, contributing to their association and TACE phosphorylation. Phosphoinositide-dependent kinase 1 (PDK1), a downstream target of PI3-K, has been identified as the previously undescribed kinase to directly phosphorylate TACE upon GRP treatment. These findings suggest a signaling cascade of GRP-Src-PI3-K-PDK1-TACE-amphiregulin-EGFR with multiple points of interaction, translocation, and phosphorylation. Furthermore, knockdown of PDK1 augmented the antitumor effects of the EGFR inhibitor erlotinib, indicating PDK1 as a therapeutic target to improve the clinical response to EGFR inhibitors.</td>\n",
       "      <td>True</td>\n",
       "      <td>[P78536-1, O15530]</td>\n",
       "      <td>2</td>\n",
       "      <td>True</td>\n",
       "      <td>5</td>\n",
       "      <td>P78536-1</td>\n",
       "      <td>O15530</td>\n",
       "      <td>[[p78536-1], [Disintegrin and metalloproteinase domain-containing protein 17], [ADAM17], [CSVP], [Snake venom-like protease], [TACE], [TNF-alpha convertase], [TNF-alpha-converting enzyme]]</td>\n",
       "      <td>[[pdpk1_human], [3-phosphoinositide-dependent protein kinase 1], [PDPK1], [PDK1]]</td>\n",
       "      <td>G protein-coupled receptors induce P00533 (P00533) signaling, leading to the proliferation and invasion of cancer cells. Elucidation of the mechanism of P00533 activation by G protein-coupled receptors may identify new signaling paradigms. A P07492 (P07492)/P07492 receptor-mediated autocrine pathway was previously described in squamous cell carcinoma of head and neck. In the present study, we demonstrate that P78536 (P78536), a disintegrin and metalloproteinse-17, undergoes a Src-dependent phosphorylation that regulates release of the P00533 ligand amphiregulin upon P07492 treatment. Further investigation reveals the P42336 (P42336) as the intermediate of P12931 and P78536, contributing to their association and P78536 phosphorylation. Q15118 (Q15118), a downstream target of P42336, has been identified as the previously undescribed kinase to directly phosphorylate P78536 upon P07492 treatment. These findings suggest a signaling cascade of P07492-Src-P42336-Q15118-P78536-amphiregulin-P00533 with multiple points of interaction, translocation, and phosphorylation. Furthermore, knockdown of Q15118 augmented the antitumor effects of the P00533 inhibitor erlotinib, indicating Q15118 as a therapeutic target to improve the clinical response to P00533 inhibitors.</td>\n",
       "      <td>[{'start': '35', 'end': '47', 'name': 'EGF receptor', 'type': 'Gene', 'normalised_id': '1956'}, {'start': '49', 'end': '53', 'name': 'EGFR', 'type': 'Gene', 'normalised_id': '1956'}, {'start': '157', 'end': '161', 'name': 'EGFR', 'type': 'Gene', 'normalised_id': '1956'}, {'start': '244', 'end': '269', 'name': 'gastrin-releasing peptide', 'type': 'Gene', 'normalised_id': '2922'}, {'start': '271', 'end': '274', 'name': 'GRP', 'type': 'Gene', 'normalised_id': '2922'}, {'start': '276', 'end': '279', 'name': 'GRP', 'type': 'Gene', 'normalised_id': '2922'}, {'start': '428', 'end': '455', 'name': 'TNF-alpha converting enzyme', 'type': 'Gene', 'normalised_id': '6868'}, {'start': '457', 'end': '461', 'name': 'TACE', 'type': 'Gene', 'normalised_id': '6868'}, {'start': '575', 'end': '579', 'name': 'EGFR', 'type': 'Gene', 'normalised_id': '1956'}, {'start': '605', 'end': '608', 'name': 'GRP', 'type': 'Gene', 'normalised_id': '2922'}, {'start': '654', 'end': '683', 'name': 'phosphatidylinositol 3-kinase', 'type': 'Gene', 'normalised_id': '5290'}, {'start': '685', 'end': '690', 'name': 'PI3-K', 'type': 'Gene', 'normalised_id': '5290'}, {'start': '715', 'end': '720', 'name': 'c-Src', 'type': 'Gene', 'normalised_id': '6714'}, {'start': '725', 'end': '729', 'name': 'TACE', 'type': 'Gene', 'normalised_id': '6868'}, {'start': '769', 'end': '773', 'name': 'TACE', 'type': 'Gene', 'normalised_id': '6868'}, {'start': '791', 'end': '826', 'name': 'Phosphoinositide-dependent kinase 1', 'type': 'Gene', 'normalised_id': '5163'}, {'start': '828', 'end': '832', 'name': 'PDK1', 'type': 'Gene', 'normalised_id': '5163'}, {'start': '858', 'end': '863', 'name': 'PI3-K', 'type': 'Gene', 'normalised_id': '5290'}, {'start': '948', 'end': '952', 'name': 'TACE', 'type': 'Gene', 'normalised_id': '6868'}, {'start': '958', 'end': '961', 'name': 'GRP', 'type': 'Gene', 'normalised_id': '2922'}, {'start': '1019', 'end': '1022', 'name': 'GRP', 'type': 'Gene', 'normalised_id': '2922'}, {'start': '1027', 'end': '1032', 'name': 'PI3-K', 'type': 'Gene', 'normalised_id': '5290'}, {'start': '1033', 'end': '1037', 'name': 'PDK1', 'type': 'Gene', 'normalised_id': '5163'}, {'start': '1038', 'end': '1042', 'name': 'TACE', 'type': 'Gene', 'normalised_id': '6868'}, {'start': '1056', 'end': '1060', 'name': 'EGFR', 'type': 'Gene', 'normalised_id': '1956'}, {'start': '1160', 'end': '1164', 'name': 'PDK1', 'type': 'Gene', 'normalised_id': '5163'}, {'start': '1204', 'end': '1208', 'name': 'EGFR', 'type': 'Gene', 'normalised_id': '1956'}, {'start': '1241', 'end': '1245', 'name': 'PDK1', 'type': 'Gene', 'normalised_id': '5163'}, {'start': '1306', 'end': '1310', 'name': 'EGFR', 'type': 'Gene', 'normalised_id': '1956'}]</td>\n",
       "      <td>G protein-coupled receptors induce EGF receptor (EGFR) signaling, leading to the proliferation and invasion of cancer cells. Elucidation of the mechanism of EGFR activation by G protein-coupled receptors may identify new signaling paradigms. A gastrin-releasing peptide (GRP)/GRP receptor-mediated autocrine pathway was previously described in squamous cell carcinoma of head and neck. In the present study, we demonstrate that TNF-alpha converting enzyme (TACE), a disintegrin and metalloproteinse-17, undergoes a Src-dependent phosphorylation that regulates release of the EGFR ligand amphiregulin upon GRP treatment. Further investigation reveals the phosphatidylinositol 3-kinase (PI3-K) as the intermediate of c-Src and TACE, contributing to their association and TACE phosphorylation. Phosphoinositide-dependent kinase 1 (PDK1), a downstream target of PI3-K, has been identified as the previously undescribed kinase to directly phosphorylate TACE upon GRP treatment. These findings suggest a signaling cascade of GRP-Src-PI3-K-PDK1-TACE-amphiregulin-EGFR with multiple points of interaction, translocation, and phosphorylation. Furthermore, knockdown of PDK1 augmented the antitumor effects of the EGFR inhibitor erlotinib, indicating PDK1 as a therapeutic target to improve the clinical response to EGFR inhibitors.</td>\n",
       "      <td>6</td>\n",
       "      <td>29</td>\n",
       "      <td>{'5290': ['P42336', 'Q4LE51'], '6868': ['P78536', 'B2RNB2'], '6714': ['P12931'], '5163': ['Q15118', 'B7Z7N6'], '2922': ['P07492', 'A0A140VJM7'], '1956': ['P00533', 'Q504U8', 'F2YGG7', 'E9PFD7', 'E7BSV0', 'B7Z2I3']}</td>\n",
       "      <td>False</td>\n",
       "      <td>False</td>\n",
       "      <td>False</td>\n",
       "      <td>True</td>\n",
       "    </tr>\n",
       "    <tr>\n",
       "      <th>1368</th>\n",
       "      <td>1500335</td>\n",
       "      <td>phosphorylation</td>\n",
       "      <td>24412932</td>\n",
       "      <td>None</td>\n",
       "      <td>Increasing evidence suggests that the c-Abl protein tyrosine kinase could play a role in the pathogenesis of Parkinson's disease (PD) and other neurodegenerative disorders. c-Abl has been shown to regulate the degradation of two proteins implicated in the pathogenesis of PD, parkin and α-synuclein (α-syn). The inhibition of parkin's neuroprotective functions is regulated by c-Abl-mediated phosphorylation of parkin. However, the molecular mechanisms by which c-Abl activity regulates α-syn toxicity and clearance remain unknown. Herein, using NMR spectroscopy, mass spectrometry, in vitro enzymatic assays and cell-based studies, we established that α-syn is a bona fide substrate for c-Abl. In vitro studies demonstrate that c-Abl directly interacts with α-syn and catalyzes its phosphorylation mainly at tyrosine 39 (pY39) and to a lesser extent at tyrosine 125 (pY125). Analysis of human brain tissues showed that pY39 α-syn is detected in the brains of healthy individuals and those with PD. However, only c-Abl protein levels were found to be upregulated in PD brains. Interestingly, nilotinib, a specific inhibitor of c-Abl kinase activity, induces α-syn protein degradation via the autophagy and proteasome pathways, whereas the overexpression of α-syn in the rat midbrains enhances c-Abl expression. Together, these data suggest that changes in c-Abl expression, activation and/or c-Abl-mediated phosphorylation of Y39 play a role in regulating α-syn clearance and contribute to the pathogenesis of PD.</td>\n",
       "      <td>True</td>\n",
       "      <td>[P00519-1, P46108-1]</td>\n",
       "      <td>2</td>\n",
       "      <td>True</td>\n",
       "      <td>2</td>\n",
       "      <td>P46108-1</td>\n",
       "      <td>P00519-1</td>\n",
       "      <td>[[p46108-1], [Adapter molecule crk], [CRK], [p38], [Proto-oncogene c-Crk]]</td>\n",
       "      <td>[[p00519-1], [Tyrosine-protein kinase ABL1], [ABL1], [ABL], [JTK7], [Abelson murine leukemia viral oncogene homolog 1], [Abelson tyrosine-protein kinase 1], [Proto-oncogene c-Abl], [p150]]</td>\n",
       "      <td>Increasing evidence suggests that the P00519 protein tyrosine kinase could play a role in the pathogenesis of Parkinson's disease (PD) and other neurodegenerative disorders. P00519 has been shown to regulate the degradation of two proteins implicated in the pathogenesis of PD, parkin and -synuclein (-O15061). The inhibition of parkin's neuroprotective functions is regulated by P00519-mediated phosphorylation of parkin. However, the molecular mechanisms by which P00519 activity regulates -O15061 toxicity and clearance remain unknown. Herein, using NMR spectroscopy, mass spectrometry, in vitro enzymatic assays and cell-based studies, we established that -O15061 is a bona fide substrate for P00519. In vitro studies demonstrate that P00519 directly interacts with -O15061 and catalyzes its phosphorylation mainly at tyrosine 39 (pY39) and to a lesser extent at tyrosine 125 (pY125). Analysis of human brain tissues showed that pY39 -O15061 is detected in the brains of healthy individuals and those with PD. However, only P00519 protein levels were found to be upregulated in PD brains. Interestingly, nilotinib, a specific inhibitor of P00519 kinase activity, induces -O15061 protein degradation via the autophagy and proteasome pathways, whereas the overexpression of -O15061 in the rat midbrains enhances P00519 expression. Together, these data suggest that changes in P00519 expression, activation and/or P00519-mediated phosphorylation of Y39 play a role in regulating -O15061 clearance and contribute to the pathogenesis of PD.</td>\n",
       "      <td>[{'start': '38', 'end': '43', 'name': 'c-Abl', 'type': 'Gene', 'normalised_id': '25'}, {'start': '173', 'end': '178', 'name': 'c-Abl', 'type': 'Gene', 'normalised_id': '25'}, {'start': '300', 'end': '303', 'name': 'syn', 'type': 'Gene', 'normalised_id': '23336'}, {'start': '375', 'end': '380', 'name': 'c-Abl', 'type': 'Gene', 'normalised_id': '25'}, {'start': '460', 'end': '465', 'name': 'c-Abl', 'type': 'Gene', 'normalised_id': '25'}, {'start': '486', 'end': '489', 'name': 'syn', 'type': 'Gene', 'normalised_id': '23336'}, {'start': '651', 'end': '654', 'name': 'syn', 'type': 'Gene', 'normalised_id': '23336'}, {'start': '684', 'end': '689', 'name': 'c-Abl', 'type': 'Gene', 'normalised_id': '25'}, {'start': '725', 'end': '730', 'name': 'c-Abl', 'type': 'Gene', 'normalised_id': '25'}, {'start': '756', 'end': '759', 'name': 'syn', 'type': 'Gene', 'normalised_id': '23336'}, {'start': '883', 'end': '888', 'name': 'human', 'type': 'Species', 'normalised_id': '9606'}, {'start': '921', 'end': '924', 'name': 'syn', 'type': 'Gene', 'normalised_id': '23336'}, {'start': '1007', 'end': '1012', 'name': 'c-Abl', 'type': 'Gene', 'normalised_id': '25'}, {'start': '1121', 'end': '1126', 'name': 'c-Abl', 'type': 'Gene', 'normalised_id': '25'}, {'start': '1153', 'end': '1156', 'name': 'syn', 'type': 'Gene', 'normalised_id': '23336'}, {'start': '1251', 'end': '1254', 'name': 'syn', 'type': 'Gene', 'normalised_id': '23336'}, {'start': '1262', 'end': '1265', 'name': 'rat', 'type': 'Species', 'normalised_id': '10116'}, {'start': '1285', 'end': '1290', 'name': 'c-Abl', 'type': 'Gene', 'normalised_id': '25'}, {'start': '1348', 'end': '1353', 'name': 'c-Abl', 'type': 'Gene', 'normalised_id': '25'}, {'start': '1384', 'end': '1389', 'name': 'c-Abl', 'type': 'Gene', 'normalised_id': '25'}, {'start': '1449', 'end': '1452', 'name': 'syn', 'type': 'Gene', 'normalised_id': '23336'}]</td>\n",
       "      <td>Increasing evidence suggests that the c-Abl protein tyrosine kinase could play a role in the pathogenesis of Parkinson's disease (PD) and other neurodegenerative disorders. c-Abl has been shown to regulate the degradation of two proteins implicated in the pathogenesis of PD, parkin and -synuclein (-syn). The inhibition of parkin's neuroprotective functions is regulated by c-Abl-mediated phosphorylation of parkin. However, the molecular mechanisms by which c-Abl activity regulates -syn toxicity and clearance remain unknown. Herein, using NMR spectroscopy, mass spectrometry, in vitro enzymatic assays and cell-based studies, we established that -syn is a bona fide substrate for c-Abl. In vitro studies demonstrate that c-Abl directly interacts with -syn and catalyzes its phosphorylation mainly at tyrosine 39 (pY39) and to a lesser extent at tyrosine 125 (pY125). Analysis of human brain tissues showed that pY39 -syn is detected in the brains of healthy individuals and those with PD. However, only c-Abl protein levels were found to be upregulated in PD brains. Interestingly, nilotinib, a specific inhibitor of c-Abl kinase activity, induces -syn protein degradation via the autophagy and proteasome pathways, whereas the overexpression of -syn in the rat midbrains enhances c-Abl expression. Together, these data suggest that changes in c-Abl expression, activation and/or c-Abl-mediated phosphorylation of Y39 play a role in regulating -syn clearance and contribute to the pathogenesis of PD.</td>\n",
       "      <td>2</td>\n",
       "      <td>19</td>\n",
       "      <td>{'23336': ['O15061', 'A0A075B7B1'], '25': ['P00519', 'A0A024R8E2', 'Q59FK4']}</td>\n",
       "      <td>False</td>\n",
       "      <td>False</td>\n",
       "      <td>False</td>\n",
       "      <td>True</td>\n",
       "    </tr>\n",
       "    <tr>\n",
       "      <th>1950</th>\n",
       "      <td>1354223</td>\n",
       "      <td>phosphorylation</td>\n",
       "      <td>23602568</td>\n",
       "      <td>None</td>\n",
       "      <td>Cellular information processing via reversible protein phosphorylation requires tight control of the localization, activity, and substrate specificity of protein kinases, which to a large extent is accomplished by complex formation with other proteins. Despite their critical role in cellular regulation and pathogenesis, protein interaction information is available for only a subset of the 518 human protein kinases. Here we present a global proteomic analysis of complexes of the human CMGC kinase group. In addition to subgroup-specific functional enrichment and modularity, the identified 652 high-confidence kinase-protein interactions provide a specific biochemical context for many poorly studied CMGC kinases. Furthermore, the analysis revealed a kinase-kinase subnetwork and candidate substrates for CMGC kinases. Finally, the presented interaction proteome uncovered a large set of interactions with proteins genetically linked to a range of human diseases, including cancer, suggesting additional routes for analyzing the role of CMGC kinases in controlling human disease pathways.</td>\n",
       "      <td>True</td>\n",
       "      <td>[Q96SB4, Q6ZRI6-3]</td>\n",
       "      <td>2</td>\n",
       "      <td>True</td>\n",
       "      <td>2</td>\n",
       "      <td>Q6ZRI6-3</td>\n",
       "      <td>Q96SB4</td>\n",
       "      <td>[[q6zri6-3], [Uncharacterized protein C15orf39], [C15orf39], [FP6578]]</td>\n",
       "      <td>[[srpk1_human], [SRSF protein kinase 1], [Serine/arginine-rich protein-specific kinase 1], [SFRS protein kinase 1], [SRPK1]]</td>\n",
       "      <td>Cellular information processing via reversible protein phosphorylation requires tight control of the localization, activity, and substrate specificity of protein kinases, which to a large extent is accomplished by complex formation with other proteins. Despite their critical role in cellular regulation and pathogenesis, protein interaction information is available for only a subset of the 518 human protein kinases. Here we present a global proteomic analysis of complexes of the human CMGC kinase group. In addition to subgroup-specific functional enrichment and modularity, the identified 652 high-confidence kinase-protein interactions provide a specific biochemical context for many poorly studied CMGC kinases. Furthermore, the analysis revealed a kinase-kinase subnetwork and candidate substrates for CMGC kinases. Finally, the presented interaction proteome uncovered a large set of interactions with proteins genetically linked to a range of human diseases, including cancer, suggesting additional routes for analyzing the role of CMGC kinases in controlling human disease pathways.</td>\n",
       "      <td>[{'start': '396', 'end': '401', 'name': 'human', 'type': 'Species', 'normalised_id': '9606'}, {'start': '483', 'end': '488', 'name': 'human', 'type': 'Species', 'normalised_id': '9606'}, {'start': '953', 'end': '958', 'name': 'human', 'type': 'Species', 'normalised_id': '9606'}, {'start': '1070', 'end': '1075', 'name': 'human', 'type': 'Species', 'normalised_id': '9606'}]</td>\n",
       "      <td>Cellular information processing via reversible protein phosphorylation requires tight control of the localization, activity, and substrate specificity of protein kinases, which to a large extent is accomplished by complex formation with other proteins. Despite their critical role in cellular regulation and pathogenesis, protein interaction information is available for only a subset of the 518 human protein kinases. Here we present a global proteomic analysis of complexes of the human CMGC kinase group. In addition to subgroup-specific functional enrichment and modularity, the identified 652 high-confidence kinase-protein interactions provide a specific biochemical context for many poorly studied CMGC kinases. Furthermore, the analysis revealed a kinase-kinase subnetwork and candidate substrates for CMGC kinases. Finally, the presented interaction proteome uncovered a large set of interactions with proteins genetically linked to a range of human diseases, including cancer, suggesting additional routes for analyzing the role of CMGC kinases in controlling human disease pathways.</td>\n",
       "      <td>0</td>\n",
       "      <td>0</td>\n",
       "      <td>{}</td>\n",
       "      <td>False</td>\n",
       "      <td>False</td>\n",
       "      <td>False</td>\n",
       "      <td>True</td>\n",
       "    </tr>\n",
       "    <tr>\n",
       "      <th>1124</th>\n",
       "      <td>1163823</td>\n",
       "      <td>phosphorylation</td>\n",
       "      <td>21399639</td>\n",
       "      <td>None</td>\n",
       "      <td>NF-κB is a major gene regulator in immune responses, and ribosomal protein S3 (RPS3) is an NF-κB subunit that directs specific gene transcription. However, it is unknown how nuclear translocation of RPS3 is regulated. Here we report that phosphorylation of RPS3 Ser209 by the kinase IKKβ was crucial for nuclear localization of RPS3 in response to activating stimuli. Moreover, virulence protein NleH1 of the foodborne pathogen Escherichia coli strain O157:H7 specifically inhibited phosphorylation of RPS3 Ser209 and blocked RPS3 function, thereby promoting bacterial colonization and diarrhea but resulting in less mortality in a gnotobiotic piglet-infection model. Thus, the IKKβ-dependent modification of a specific amino acid in RPS3 promoted specific NF-κB functions that underlie the molecular pathogenetic mechanisms of E. coli O157:H7.</td>\n",
       "      <td>True</td>\n",
       "      <td>[P25963, O14920]</td>\n",
       "      <td>2</td>\n",
       "      <td>True</td>\n",
       "      <td>1</td>\n",
       "      <td>P25963</td>\n",
       "      <td>O14920</td>\n",
       "      <td>[[ikba_human], [NF-kappa-B inhibitor alpha], [NFKBIA], [IKBA], [MAD3], [NFKBI], [I-kappa-B-alpha], [Major histocompatibility complex enhancer-binding protein MAD3]]</td>\n",
       "      <td>[[ikkb_human], [Inhibitor of nuclear factor kappa-B kinase subunit beta], [IKBKB], [IKKB], [I-kappa-B kinase 2], [Nuclear factor NF-kappa-B inhibitor kinase beta]]</td>\n",
       "      <td>NF-B is a major gene regulator in immune responses, and P23396 (P23396) is an NF-B subunit that directs specific gene transcription. However, it is unknown how nuclear translocation of P23396 is regulated. Here we report that phosphorylation of P23396 Ser209 by the kinase IKK was crucial for nuclear localization of P23396 in response to activating stimuli. Moreover, virulence protein NleH1 of the foodborne pathogen Escherichia coli strain O157:H7 specifically inhibited phosphorylation of P23396 Ser209 and blocked P23396 function, thereby promoting bacterial colonization and diarrhea but resulting in less mortality in a gnotobiotic piglet-infection model. Thus, the IKK-dependent modification of a specific amino acid in P23396 promoted specific NF-B functions that underlie the molecular pathogenetic mechanisms of E. coli O157:H7.</td>\n",
       "      <td>[{'start': '56', 'end': '76', 'name': 'ribosomal protein S3', 'type': 'Gene', 'normalised_id': '6188'}, {'start': '78', 'end': '82', 'name': 'RPS3', 'type': 'Gene', 'normalised_id': '6188'}, {'start': '197', 'end': '201', 'name': 'RPS3', 'type': 'Gene', 'normalised_id': '6188'}, {'start': '255', 'end': '259', 'name': 'RPS3', 'type': 'Gene', 'normalised_id': '6188'}, {'start': '325', 'end': '329', 'name': 'RPS3', 'type': 'Gene', 'normalised_id': '6188'}, {'start': '425', 'end': '448', 'name': 'Escherichia coli strain', 'type': 'Species', 'normalised_id': '562'}, {'start': '499', 'end': '503', 'name': 'RPS3', 'type': 'Gene', 'normalised_id': '6188'}, {'start': '523', 'end': '527', 'name': 'RPS3', 'type': 'Gene', 'normalised_id': '6188'}, {'start': '730', 'end': '734', 'name': 'RPS3', 'type': 'Gene', 'normalised_id': '6188'}, {'start': '823', 'end': '830', 'name': 'E. coli', 'type': 'Species', 'normalised_id': '562'}]</td>\n",
       "      <td>NF-B is a major gene regulator in immune responses, and ribosomal protein S3 (RPS3) is an NF-B subunit that directs specific gene transcription. However, it is unknown how nuclear translocation of RPS3 is regulated. Here we report that phosphorylation of RPS3 Ser209 by the kinase IKK was crucial for nuclear localization of RPS3 in response to activating stimuli. Moreover, virulence protein NleH1 of the foodborne pathogen Escherichia coli strain O157:H7 specifically inhibited phosphorylation of RPS3 Ser209 and blocked RPS3 function, thereby promoting bacterial colonization and diarrhea but resulting in less mortality in a gnotobiotic piglet-infection model. Thus, the IKK-dependent modification of a specific amino acid in RPS3 promoted specific NF-B functions that underlie the molecular pathogenetic mechanisms of E. coli O157:H7.</td>\n",
       "      <td>1</td>\n",
       "      <td>8</td>\n",
       "      <td>{'6188': ['P23396']}</td>\n",
       "      <td>False</td>\n",
       "      <td>False</td>\n",
       "      <td>False</td>\n",
       "      <td>True</td>\n",
       "    </tr>\n",
       "  </tbody>\n",
       "</table>\n",
       "</div>"
      ],
      "text/plain": [
       "     interactionId  interactionType  pubmedId  \\\n",
       "2098       2595032  phosphorylation  16641105   \n",
       "1368       1500335  phosphorylation  24412932   \n",
       "1950       1354223  phosphorylation  23602568   \n",
       "1124       1163823  phosphorylation  21399639   \n",
       "\n",
       "                                                                                                                                pubmedTitle  \\\n",
       "2098  Phosphorylation of TNF-alpha converting enzyme by gastrin-releasing peptide induces amphiregulin release and EGF receptor activation.   \n",
       "1368                                                                                                                                   None   \n",
       "1950                                                                                                                                   None   \n",
       "1124                                                                                                                                   None   \n",
       "\n",
       "                                                                                                                                                                                                                                                                                                                                                                                                                                                                                                                                                                                                                                                                                                                                                                                                                                                                                                                                                                                                                                                                                                                                                                                                                                                                                                                                                                                                                                                                                                                                                                  pubmedabstract  \\\n",
       "2098                                                                                                                                                                                                  G protein-coupled receptors induce EGF receptor (EGFR) signaling, leading to the proliferation and invasion of cancer cells. Elucidation of the mechanism of EGFR activation by G protein-coupled receptors may identify new signaling paradigms. A gastrin-releasing peptide (GRP)/GRP receptor-mediated autocrine pathway was previously described in squamous cell carcinoma of head and neck. In the present study, we demonstrate that TNF-alpha converting enzyme (TACE), a disintegrin and metalloproteinse-17, undergoes a Src-dependent phosphorylation that regulates release of the EGFR ligand amphiregulin upon GRP treatment. Further investigation reveals the phosphatidylinositol 3-kinase (PI3-K) as the intermediate of c-Src and TACE, contributing to their association and TACE phosphorylation. Phosphoinositide-dependent kinase 1 (PDK1), a downstream target of PI3-K, has been identified as the previously undescribed kinase to directly phosphorylate TACE upon GRP treatment. These findings suggest a signaling cascade of GRP-Src-PI3-K-PDK1-TACE-amphiregulin-EGFR with multiple points of interaction, translocation, and phosphorylation. Furthermore, knockdown of PDK1 augmented the antitumor effects of the EGFR inhibitor erlotinib, indicating PDK1 as a therapeutic target to improve the clinical response to EGFR inhibitors.   \n",
       "1368  Increasing evidence suggests that the c-Abl protein tyrosine kinase could play a role in the pathogenesis of Parkinson's disease (PD) and other neurodegenerative disorders. c-Abl has been shown to regulate the degradation of two proteins implicated in the pathogenesis of PD, parkin and α-synuclein (α-syn). The inhibition of parkin's neuroprotective functions is regulated by c-Abl-mediated phosphorylation of parkin. However, the molecular mechanisms by which c-Abl activity regulates α-syn toxicity and clearance remain unknown. Herein, using NMR spectroscopy, mass spectrometry, in vitro enzymatic assays and cell-based studies, we established that α-syn is a bona fide substrate for c-Abl. In vitro studies demonstrate that c-Abl directly interacts with α-syn and catalyzes its phosphorylation mainly at tyrosine 39 (pY39) and to a lesser extent at tyrosine 125 (pY125). Analysis of human brain tissues showed that pY39 α-syn is detected in the brains of healthy individuals and those with PD. However, only c-Abl protein levels were found to be upregulated in PD brains. Interestingly, nilotinib, a specific inhibitor of c-Abl kinase activity, induces α-syn protein degradation via the autophagy and proteasome pathways, whereas the overexpression of α-syn in the rat midbrains enhances c-Abl expression. Together, these data suggest that changes in c-Abl expression, activation and/or c-Abl-mediated phosphorylation of Y39 play a role in regulating α-syn clearance and contribute to the pathogenesis of PD.    \n",
       "1950                                                                                                                                                                                                                                                                                                                                                                                                                                       Cellular information processing via reversible protein phosphorylation requires tight control of the localization, activity, and substrate specificity of protein kinases, which to a large extent is accomplished by complex formation with other proteins. Despite their critical role in cellular regulation and pathogenesis, protein interaction information is available for only a subset of the 518 human protein kinases. Here we present a global proteomic analysis of complexes of the human CMGC kinase group. In addition to subgroup-specific functional enrichment and modularity, the identified 652 high-confidence kinase-protein interactions provide a specific biochemical context for many poorly studied CMGC kinases. Furthermore, the analysis revealed a kinase-kinase subnetwork and candidate substrates for CMGC kinases. Finally, the presented interaction proteome uncovered a large set of interactions with proteins genetically linked to a range of human diseases, including cancer, suggesting additional routes for analyzing the role of CMGC kinases in controlling human disease pathways.   \n",
       "1124                                                                                                                                                                                                                                                                                                                                                                                                                                                                                                                                                                                                                                                                                                NF-κB is a major gene regulator in immune responses, and ribosomal protein S3 (RPS3) is an NF-κB subunit that directs specific gene transcription. However, it is unknown how nuclear translocation of RPS3 is regulated. Here we report that phosphorylation of RPS3 Ser209 by the kinase IKKβ was crucial for nuclear localization of RPS3 in response to activating stimuli. Moreover, virulence protein NleH1 of the foodborne pathogen Escherichia coli strain O157:H7 specifically inhibited phosphorylation of RPS3 Ser209 and blocked RPS3 function, thereby promoting bacterial colonization and diarrhea but resulting in less mortality in a gnotobiotic piglet-infection model. Thus, the IKKβ-dependent modification of a specific amino acid in RPS3 promoted specific NF-κB functions that underlie the molecular pathogenetic mechanisms of E. coli O157:H7.   \n",
       "\n",
       "      isValid       flatparticpants  participants_count  hasTriggerWord  \\\n",
       "2098     True    [P78536-1, O15530]                   2            True   \n",
       "1368     True  [P00519-1, P46108-1]                   2            True   \n",
       "1950     True    [Q96SB4, Q6ZRI6-3]                   2            True   \n",
       "1124     True      [P25963, O14920]                   2            True   \n",
       "\n",
       "      entityMentionsCount participant1Id participant2Id  \\\n",
       "2098                    5       P78536-1         O15530   \n",
       "1368                    2       P46108-1       P00519-1   \n",
       "1950                    2       Q6ZRI6-3         Q96SB4   \n",
       "1124                    1         P25963         O14920   \n",
       "\n",
       "                                                                                                                                                                                 participant1Alias  \\\n",
       "2098  [[p78536-1], [Disintegrin and metalloproteinase domain-containing protein 17], [ADAM17], [CSVP], [Snake venom-like protease], [TACE], [TNF-alpha convertase], [TNF-alpha-converting enzyme]]   \n",
       "1368                                                                                                                    [[p46108-1], [Adapter molecule crk], [CRK], [p38], [Proto-oncogene c-Crk]]   \n",
       "1950                                                                                                                        [[q6zri6-3], [Uncharacterized protein C15orf39], [C15orf39], [FP6578]]   \n",
       "1124                          [[ikba_human], [NF-kappa-B inhibitor alpha], [NFKBIA], [IKBA], [MAD3], [NFKBI], [I-kappa-B-alpha], [Major histocompatibility complex enhancer-binding protein MAD3]]   \n",
       "\n",
       "                                                                                                                                                                                 participant2Alias  \\\n",
       "2098                                                                                                             [[pdpk1_human], [3-phosphoinositide-dependent protein kinase 1], [PDPK1], [PDK1]]   \n",
       "1368  [[p00519-1], [Tyrosine-protein kinase ABL1], [ABL1], [ABL], [JTK7], [Abelson murine leukemia viral oncogene homolog 1], [Abelson tyrosine-protein kinase 1], [Proto-oncogene c-Abl], [p150]]   \n",
       "1950                                                                  [[srpk1_human], [SRSF protein kinase 1], [Serine/arginine-rich protein-specific kinase 1], [SFRS protein kinase 1], [SRPK1]]   \n",
       "1124                           [[ikkb_human], [Inhibitor of nuclear factor kappa-B kinase subunit beta], [IKBKB], [IKKB], [I-kappa-B kinase 2], [Nuclear factor NF-kappa-B inhibitor kinase beta]]   \n",
       "\n",
       "                                                                                                                                                                                                                                                                                                                                                                                                                                                                                                                                                                                                                                                                                                                                                                                                                                                                                                                                                                                                                                                                                                                                                                                                                                                                                                                                                                                                                                                                                                                                                                                       normalised_abstract  \\\n",
       "2098                                                                                                                                                                                                                                                                             G protein-coupled receptors induce P00533 (P00533) signaling, leading to the proliferation and invasion of cancer cells. Elucidation of the mechanism of P00533 activation by G protein-coupled receptors may identify new signaling paradigms. A P07492 (P07492)/P07492 receptor-mediated autocrine pathway was previously described in squamous cell carcinoma of head and neck. In the present study, we demonstrate that P78536 (P78536), a disintegrin and metalloproteinse-17, undergoes a Src-dependent phosphorylation that regulates release of the P00533 ligand amphiregulin upon P07492 treatment. Further investigation reveals the P42336 (P42336) as the intermediate of P12931 and P78536, contributing to their association and P78536 phosphorylation. Q15118 (Q15118), a downstream target of P42336, has been identified as the previously undescribed kinase to directly phosphorylate P78536 upon P07492 treatment. These findings suggest a signaling cascade of P07492-Src-P42336-Q15118-P78536-amphiregulin-P00533 with multiple points of interaction, translocation, and phosphorylation. Furthermore, knockdown of Q15118 augmented the antitumor effects of the P00533 inhibitor erlotinib, indicating Q15118 as a therapeutic target to improve the clinical response to P00533 inhibitors.   \n",
       "1368  Increasing evidence suggests that the P00519 protein tyrosine kinase could play a role in the pathogenesis of Parkinson's disease (PD) and other neurodegenerative disorders. P00519 has been shown to regulate the degradation of two proteins implicated in the pathogenesis of PD, parkin and -synuclein (-O15061). The inhibition of parkin's neuroprotective functions is regulated by P00519-mediated phosphorylation of parkin. However, the molecular mechanisms by which P00519 activity regulates -O15061 toxicity and clearance remain unknown. Herein, using NMR spectroscopy, mass spectrometry, in vitro enzymatic assays and cell-based studies, we established that -O15061 is a bona fide substrate for P00519. In vitro studies demonstrate that P00519 directly interacts with -O15061 and catalyzes its phosphorylation mainly at tyrosine 39 (pY39) and to a lesser extent at tyrosine 125 (pY125). Analysis of human brain tissues showed that pY39 -O15061 is detected in the brains of healthy individuals and those with PD. However, only P00519 protein levels were found to be upregulated in PD brains. Interestingly, nilotinib, a specific inhibitor of P00519 kinase activity, induces -O15061 protein degradation via the autophagy and proteasome pathways, whereas the overexpression of -O15061 in the rat midbrains enhances P00519 expression. Together, these data suggest that changes in P00519 expression, activation and/or P00519-mediated phosphorylation of Y39 play a role in regulating -O15061 clearance and contribute to the pathogenesis of PD.    \n",
       "1950                                                                                                                                                                                                                                                                                                                                                                                                                                                                 Cellular information processing via reversible protein phosphorylation requires tight control of the localization, activity, and substrate specificity of protein kinases, which to a large extent is accomplished by complex formation with other proteins. Despite their critical role in cellular regulation and pathogenesis, protein interaction information is available for only a subset of the 518 human protein kinases. Here we present a global proteomic analysis of complexes of the human CMGC kinase group. In addition to subgroup-specific functional enrichment and modularity, the identified 652 high-confidence kinase-protein interactions provide a specific biochemical context for many poorly studied CMGC kinases. Furthermore, the analysis revealed a kinase-kinase subnetwork and candidate substrates for CMGC kinases. Finally, the presented interaction proteome uncovered a large set of interactions with proteins genetically linked to a range of human diseases, including cancer, suggesting additional routes for analyzing the role of CMGC kinases in controlling human disease pathways.   \n",
       "1124                                                                                                                                                                                                                                                                                                                                                                                                                                                                                                                                                                                                                                                                                                                               NF-B is a major gene regulator in immune responses, and P23396 (P23396) is an NF-B subunit that directs specific gene transcription. However, it is unknown how nuclear translocation of P23396 is regulated. Here we report that phosphorylation of P23396 Ser209 by the kinase IKK was crucial for nuclear localization of P23396 in response to activating stimuli. Moreover, virulence protein NleH1 of the foodborne pathogen Escherichia coli strain O157:H7 specifically inhibited phosphorylation of P23396 Ser209 and blocked P23396 function, thereby promoting bacterial colonization and diarrhea but resulting in less mortality in a gnotobiotic piglet-infection model. Thus, the IKK-dependent modification of a specific amino acid in P23396 promoted specific NF-B functions that underlie the molecular pathogenetic mechanisms of E. coli O157:H7.   \n",
       "\n",
       "                                                                                                                                                                                                                                                                                                                                                                                                                                                                                                                                                                                                                                                                                                                                                                                                                                                                                                                                                                                                                                                                                                                                                                                                                                                                                                                                                                                                                                                                                                                                                                                                                                                                                                                                                                                                                                                                                                                                                                                                                                                                                                                                                                                                                                                                                                                                                                                                                                                                                                                                                                                                                                                                                                                                                                                                         annotations  \\\n",
       "2098  [{'start': '35', 'end': '47', 'name': 'EGF receptor', 'type': 'Gene', 'normalised_id': '1956'}, {'start': '49', 'end': '53', 'name': 'EGFR', 'type': 'Gene', 'normalised_id': '1956'}, {'start': '157', 'end': '161', 'name': 'EGFR', 'type': 'Gene', 'normalised_id': '1956'}, {'start': '244', 'end': '269', 'name': 'gastrin-releasing peptide', 'type': 'Gene', 'normalised_id': '2922'}, {'start': '271', 'end': '274', 'name': 'GRP', 'type': 'Gene', 'normalised_id': '2922'}, {'start': '276', 'end': '279', 'name': 'GRP', 'type': 'Gene', 'normalised_id': '2922'}, {'start': '428', 'end': '455', 'name': 'TNF-alpha converting enzyme', 'type': 'Gene', 'normalised_id': '6868'}, {'start': '457', 'end': '461', 'name': 'TACE', 'type': 'Gene', 'normalised_id': '6868'}, {'start': '575', 'end': '579', 'name': 'EGFR', 'type': 'Gene', 'normalised_id': '1956'}, {'start': '605', 'end': '608', 'name': 'GRP', 'type': 'Gene', 'normalised_id': '2922'}, {'start': '654', 'end': '683', 'name': 'phosphatidylinositol 3-kinase', 'type': 'Gene', 'normalised_id': '5290'}, {'start': '685', 'end': '690', 'name': 'PI3-K', 'type': 'Gene', 'normalised_id': '5290'}, {'start': '715', 'end': '720', 'name': 'c-Src', 'type': 'Gene', 'normalised_id': '6714'}, {'start': '725', 'end': '729', 'name': 'TACE', 'type': 'Gene', 'normalised_id': '6868'}, {'start': '769', 'end': '773', 'name': 'TACE', 'type': 'Gene', 'normalised_id': '6868'}, {'start': '791', 'end': '826', 'name': 'Phosphoinositide-dependent kinase 1', 'type': 'Gene', 'normalised_id': '5163'}, {'start': '828', 'end': '832', 'name': 'PDK1', 'type': 'Gene', 'normalised_id': '5163'}, {'start': '858', 'end': '863', 'name': 'PI3-K', 'type': 'Gene', 'normalised_id': '5290'}, {'start': '948', 'end': '952', 'name': 'TACE', 'type': 'Gene', 'normalised_id': '6868'}, {'start': '958', 'end': '961', 'name': 'GRP', 'type': 'Gene', 'normalised_id': '2922'}, {'start': '1019', 'end': '1022', 'name': 'GRP', 'type': 'Gene', 'normalised_id': '2922'}, {'start': '1027', 'end': '1032', 'name': 'PI3-K', 'type': 'Gene', 'normalised_id': '5290'}, {'start': '1033', 'end': '1037', 'name': 'PDK1', 'type': 'Gene', 'normalised_id': '5163'}, {'start': '1038', 'end': '1042', 'name': 'TACE', 'type': 'Gene', 'normalised_id': '6868'}, {'start': '1056', 'end': '1060', 'name': 'EGFR', 'type': 'Gene', 'normalised_id': '1956'}, {'start': '1160', 'end': '1164', 'name': 'PDK1', 'type': 'Gene', 'normalised_id': '5163'}, {'start': '1204', 'end': '1208', 'name': 'EGFR', 'type': 'Gene', 'normalised_id': '1956'}, {'start': '1241', 'end': '1245', 'name': 'PDK1', 'type': 'Gene', 'normalised_id': '5163'}, {'start': '1306', 'end': '1310', 'name': 'EGFR', 'type': 'Gene', 'normalised_id': '1956'}]   \n",
       "1368                                                                                                                                                                                                                                                                                                                                                                                                                                                                                                                                                                                                                                                                                                                                                                                                                                                       [{'start': '38', 'end': '43', 'name': 'c-Abl', 'type': 'Gene', 'normalised_id': '25'}, {'start': '173', 'end': '178', 'name': 'c-Abl', 'type': 'Gene', 'normalised_id': '25'}, {'start': '300', 'end': '303', 'name': 'syn', 'type': 'Gene', 'normalised_id': '23336'}, {'start': '375', 'end': '380', 'name': 'c-Abl', 'type': 'Gene', 'normalised_id': '25'}, {'start': '460', 'end': '465', 'name': 'c-Abl', 'type': 'Gene', 'normalised_id': '25'}, {'start': '486', 'end': '489', 'name': 'syn', 'type': 'Gene', 'normalised_id': '23336'}, {'start': '651', 'end': '654', 'name': 'syn', 'type': 'Gene', 'normalised_id': '23336'}, {'start': '684', 'end': '689', 'name': 'c-Abl', 'type': 'Gene', 'normalised_id': '25'}, {'start': '725', 'end': '730', 'name': 'c-Abl', 'type': 'Gene', 'normalised_id': '25'}, {'start': '756', 'end': '759', 'name': 'syn', 'type': 'Gene', 'normalised_id': '23336'}, {'start': '883', 'end': '888', 'name': 'human', 'type': 'Species', 'normalised_id': '9606'}, {'start': '921', 'end': '924', 'name': 'syn', 'type': 'Gene', 'normalised_id': '23336'}, {'start': '1007', 'end': '1012', 'name': 'c-Abl', 'type': 'Gene', 'normalised_id': '25'}, {'start': '1121', 'end': '1126', 'name': 'c-Abl', 'type': 'Gene', 'normalised_id': '25'}, {'start': '1153', 'end': '1156', 'name': 'syn', 'type': 'Gene', 'normalised_id': '23336'}, {'start': '1251', 'end': '1254', 'name': 'syn', 'type': 'Gene', 'normalised_id': '23336'}, {'start': '1262', 'end': '1265', 'name': 'rat', 'type': 'Species', 'normalised_id': '10116'}, {'start': '1285', 'end': '1290', 'name': 'c-Abl', 'type': 'Gene', 'normalised_id': '25'}, {'start': '1348', 'end': '1353', 'name': 'c-Abl', 'type': 'Gene', 'normalised_id': '25'}, {'start': '1384', 'end': '1389', 'name': 'c-Abl', 'type': 'Gene', 'normalised_id': '25'}, {'start': '1449', 'end': '1452', 'name': 'syn', 'type': 'Gene', 'normalised_id': '23336'}]   \n",
       "1950                                                                                                                                                                                                                                                                                                                                                                                                                                                                                                                                                                                                                                                                                                                                                                                                                                                                                                                                                                                                                                                                                                                                                                                                                                                                                                                                                                                                                                                                                                                                                                                                                                                                                                                                                                                                                                                                                                                                                                                                                                                                                                                                                                                                                                                                                                                                                                                                                          [{'start': '396', 'end': '401', 'name': 'human', 'type': 'Species', 'normalised_id': '9606'}, {'start': '483', 'end': '488', 'name': 'human', 'type': 'Species', 'normalised_id': '9606'}, {'start': '953', 'end': '958', 'name': 'human', 'type': 'Species', 'normalised_id': '9606'}, {'start': '1070', 'end': '1075', 'name': 'human', 'type': 'Species', 'normalised_id': '9606'}]   \n",
       "1124                                                                                                                                                                                                                                                                                                                                                                                                                                                                                                                                                                                                                                                                                                                                                                                                                                                                                                                                                                                                                                                                                                                                                                                                                                                                                                                                                                                                                                                                                                                                                                                                                                                                                                                                                                                                                                                [{'start': '56', 'end': '76', 'name': 'ribosomal protein S3', 'type': 'Gene', 'normalised_id': '6188'}, {'start': '78', 'end': '82', 'name': 'RPS3', 'type': 'Gene', 'normalised_id': '6188'}, {'start': '197', 'end': '201', 'name': 'RPS3', 'type': 'Gene', 'normalised_id': '6188'}, {'start': '255', 'end': '259', 'name': 'RPS3', 'type': 'Gene', 'normalised_id': '6188'}, {'start': '325', 'end': '329', 'name': 'RPS3', 'type': 'Gene', 'normalised_id': '6188'}, {'start': '425', 'end': '448', 'name': 'Escherichia coli strain', 'type': 'Species', 'normalised_id': '562'}, {'start': '499', 'end': '503', 'name': 'RPS3', 'type': 'Gene', 'normalised_id': '6188'}, {'start': '523', 'end': '527', 'name': 'RPS3', 'type': 'Gene', 'normalised_id': '6188'}, {'start': '730', 'end': '734', 'name': 'RPS3', 'type': 'Gene', 'normalised_id': '6188'}, {'start': '823', 'end': '830', 'name': 'E. coli', 'type': 'Species', 'normalised_id': '562'}]   \n",
       "\n",
       "                                                                                                                                                                                                                                                                                                                                                                                                                                                                                                                                                                                                                                                                                                                                                                                                                                                                                                                                                                                                                                                                                                                                                                                                                                                                                                                                                                                                                                                                                                                                                   annotations_abstract  \\\n",
       "2098                                                                                                                                                                                         G protein-coupled receptors induce EGF receptor (EGFR) signaling, leading to the proliferation and invasion of cancer cells. Elucidation of the mechanism of EGFR activation by G protein-coupled receptors may identify new signaling paradigms. A gastrin-releasing peptide (GRP)/GRP receptor-mediated autocrine pathway was previously described in squamous cell carcinoma of head and neck. In the present study, we demonstrate that TNF-alpha converting enzyme (TACE), a disintegrin and metalloproteinse-17, undergoes a Src-dependent phosphorylation that regulates release of the EGFR ligand amphiregulin upon GRP treatment. Further investigation reveals the phosphatidylinositol 3-kinase (PI3-K) as the intermediate of c-Src and TACE, contributing to their association and TACE phosphorylation. Phosphoinositide-dependent kinase 1 (PDK1), a downstream target of PI3-K, has been identified as the previously undescribed kinase to directly phosphorylate TACE upon GRP treatment. These findings suggest a signaling cascade of GRP-Src-PI3-K-PDK1-TACE-amphiregulin-EGFR with multiple points of interaction, translocation, and phosphorylation. Furthermore, knockdown of PDK1 augmented the antitumor effects of the EGFR inhibitor erlotinib, indicating PDK1 as a therapeutic target to improve the clinical response to EGFR inhibitors.   \n",
       "1368  Increasing evidence suggests that the c-Abl protein tyrosine kinase could play a role in the pathogenesis of Parkinson's disease (PD) and other neurodegenerative disorders. c-Abl has been shown to regulate the degradation of two proteins implicated in the pathogenesis of PD, parkin and -synuclein (-syn). The inhibition of parkin's neuroprotective functions is regulated by c-Abl-mediated phosphorylation of parkin. However, the molecular mechanisms by which c-Abl activity regulates -syn toxicity and clearance remain unknown. Herein, using NMR spectroscopy, mass spectrometry, in vitro enzymatic assays and cell-based studies, we established that -syn is a bona fide substrate for c-Abl. In vitro studies demonstrate that c-Abl directly interacts with -syn and catalyzes its phosphorylation mainly at tyrosine 39 (pY39) and to a lesser extent at tyrosine 125 (pY125). Analysis of human brain tissues showed that pY39 -syn is detected in the brains of healthy individuals and those with PD. However, only c-Abl protein levels were found to be upregulated in PD brains. Interestingly, nilotinib, a specific inhibitor of c-Abl kinase activity, induces -syn protein degradation via the autophagy and proteasome pathways, whereas the overexpression of -syn in the rat midbrains enhances c-Abl expression. Together, these data suggest that changes in c-Abl expression, activation and/or c-Abl-mediated phosphorylation of Y39 play a role in regulating -syn clearance and contribute to the pathogenesis of PD.    \n",
       "1950                                                                                                                                                                                                                                                                                                                                                                                                                              Cellular information processing via reversible protein phosphorylation requires tight control of the localization, activity, and substrate specificity of protein kinases, which to a large extent is accomplished by complex formation with other proteins. Despite their critical role in cellular regulation and pathogenesis, protein interaction information is available for only a subset of the 518 human protein kinases. Here we present a global proteomic analysis of complexes of the human CMGC kinase group. In addition to subgroup-specific functional enrichment and modularity, the identified 652 high-confidence kinase-protein interactions provide a specific biochemical context for many poorly studied CMGC kinases. Furthermore, the analysis revealed a kinase-kinase subnetwork and candidate substrates for CMGC kinases. Finally, the presented interaction proteome uncovered a large set of interactions with proteins genetically linked to a range of human diseases, including cancer, suggesting additional routes for analyzing the role of CMGC kinases in controlling human disease pathways.   \n",
       "1124                                                                                                                                                                                                                                                                                                                                                                                                                                                                                                                                                                                                                                                                                            NF-B is a major gene regulator in immune responses, and ribosomal protein S3 (RPS3) is an NF-B subunit that directs specific gene transcription. However, it is unknown how nuclear translocation of RPS3 is regulated. Here we report that phosphorylation of RPS3 Ser209 by the kinase IKK was crucial for nuclear localization of RPS3 in response to activating stimuli. Moreover, virulence protein NleH1 of the foodborne pathogen Escherichia coli strain O157:H7 specifically inhibited phosphorylation of RPS3 Ser209 and blocked RPS3 function, thereby promoting bacterial colonization and diarrhea but resulting in less mortality in a gnotobiotic piglet-infection model. Thus, the IKK-dependent modification of a specific amino acid in RPS3 promoted specific NF-B functions that underlie the molecular pathogenetic mechanisms of E. coli O157:H7.   \n",
       "\n",
       "      num_unique_gene_normalised_id  num_gene_normalised_id  \\\n",
       "2098                              6                      29   \n",
       "1368                              2                      19   \n",
       "1950                              0                       0   \n",
       "1124                              1                       8   \n",
       "\n",
       "                                                                                                                                                                                                         gene_to_uniprot_map  \\\n",
       "2098  {'5290': ['P42336', 'Q4LE51'], '6868': ['P78536', 'B2RNB2'], '6714': ['P12931'], '5163': ['Q15118', 'B7Z7N6'], '2922': ['P07492', 'A0A140VJM7'], '1956': ['P00533', 'Q504U8', 'F2YGG7', 'E9PFD7', 'E7BSV0', 'B7Z2I3']}   \n",
       "1368                                                                                                                                           {'23336': ['O15061', 'A0A075B7B1'], '25': ['P00519', 'A0A024R8E2', 'Q59FK4']}   \n",
       "1950                                                                                                                                                                                                                      {}   \n",
       "1124                                                                                                                                                                                                    {'6188': ['P23396']}   \n",
       "\n",
       "      particpant1Exists  particpant2Exists  bothParticpantsExist  \\\n",
       "2098              False              False                 False   \n",
       "1368              False              False                 False   \n",
       "1950              False              False                 False   \n",
       "1124              False              False                 False   \n",
       "\n",
       "      noParticpantsExist  \n",
       "2098                True  \n",
       "1368                True  \n",
       "1950                True  \n",
       "1124                True  "
      ]
     },
     "execution_count": 52,
     "metadata": {},
     "output_type": "execute_result"
    }
   ],
   "source": [
    "data_filtered.query(\"particpant2Exists == False\").sample(4)"
   ]
  },
  {
   "cell_type": "markdown",
   "metadata": {},
   "source": [
    "### Remove abstracts where both participants do not exists"
   ]
  },
  {
   "cell_type": "code",
   "execution_count": 53,
   "metadata": {},
   "outputs": [
    {
     "data": {
      "text/plain": [
       "(422, 24)"
      ]
     },
     "execution_count": 53,
     "metadata": {},
     "output_type": "execute_result"
    }
   ],
   "source": [
    "data_filtered =  data_filtered.query('bothParticpantsExist == True')\n",
    "process_map.append({\"name\": \"Drop interactions where the participant UniprotID does not exist in abstract\",\n",
    "                    \"count\": len(data_filtered) })\n",
    "data_filtered.shape"
   ]
  },
  {
   "cell_type": "code",
   "execution_count": 54,
   "metadata": {},
   "outputs": [
    {
     "data": {
      "text/plain": [
       "(11, 24)"
      ]
     },
     "execution_count": 54,
     "metadata": {},
     "output_type": "execute_result"
    }
   ],
   "source": [
    "data_filtered.query(\"interactionType == 'acetylation'\").shape"
   ]
  },
  {
   "cell_type": "code",
   "execution_count": 55,
   "metadata": {},
   "outputs": [
    {
     "data": {
      "text/plain": [
       "[{'name': 'Initial', 'count': 3381},\n",
       " {'name': 'Drop duplicates (pubmedId, participant uniprots, interactionType)',\n",
       "  'count': 2797},\n",
       " {'name': 'Drop abstracts that have n-ary relationship n > 2', 'count': 2217},\n",
       " {'name': 'Drop interactions where participant Unitprot identifiers are null',\n",
       "  'count': 2155},\n",
       " {'name': 'Drop interactions where the participant UniprotID does not exist in abstract',\n",
       "  'count': 422}]"
      ]
     },
     "execution_count": 55,
     "metadata": {},
     "output_type": "execute_result"
    }
   ],
   "source": [
    "process_map"
   ]
  },
  {
   "cell_type": "markdown",
   "metadata": {},
   "source": [
    "### Remove self relations"
   ]
  },
  {
   "cell_type": "code",
   "execution_count": 56,
   "metadata": {},
   "outputs": [
    {
     "data": {
      "text/plain": [
       "(302, 24)"
      ]
     },
     "execution_count": 56,
     "metadata": {},
     "output_type": "execute_result"
    }
   ],
   "source": [
    "data_filtered =  data_filtered.query('participant1Id != participant2Id')\n",
    "process_map.append({\"name\": \"Drop interactions where participant1 = participant2 (self relations)\",\n",
    "                    \"count\": len(data_filtered) })\n",
    "\n",
    "data_filtered.shape"
   ]
  },
  {
   "cell_type": "code",
   "execution_count": 57,
   "metadata": {},
   "outputs": [
    {
     "data": {
      "text/plain": [
       "[{'name': 'Initial', 'count': 3381},\n",
       " {'name': 'Drop duplicates (pubmedId, participant uniprots, interactionType)',\n",
       "  'count': 2797},\n",
       " {'name': 'Drop abstracts that have n-ary relationship n > 2', 'count': 2217},\n",
       " {'name': 'Drop interactions where participant Unitprot identifiers are null',\n",
       "  'count': 2155},\n",
       " {'name': 'Drop interactions where the participant UniprotID does not exist in abstract',\n",
       "  'count': 422},\n",
       " {'name': 'Drop interactions where participant1 = participant2 (self relations)',\n",
       "  'count': 302}]"
      ]
     },
     "execution_count": 57,
     "metadata": {},
     "output_type": "execute_result"
    }
   ],
   "source": [
    "process_map"
   ]
  },
  {
   "cell_type": "code",
   "execution_count": 58,
   "metadata": {},
   "outputs": [
    {
     "data": {
      "text/plain": [
       "(8, 24)"
      ]
     },
     "execution_count": 58,
     "metadata": {},
     "output_type": "execute_result"
    }
   ],
   "source": [
    "data_filtered.query(\"interactionType == 'acetylation'\").shape"
   ]
  },
  {
   "cell_type": "code",
   "execution_count": 59,
   "metadata": {},
   "outputs": [
    {
     "data": {
      "image/png": "[encoded data removed]",
      "text/plain": [
       "<Figure size 288x360 with 1 Axes>"
      ]
     },
     "metadata": {
      "needs_background": "light"
     },
     "output_type": "display_data"
    }
   ],
   "source": [
    "fig, ax = plt.subplots( 1,1, figsize=(4,5))\n",
    "\n",
    "c_ax= ax\n",
    "c_ax.set_title('Overall distribution post filter {}'.format(data_filtered.shape[0]))\n",
    "c_ax.yaxis.set_major_formatter(mtick.PercentFormatter())\n",
    "c_ax.yaxis.set_major_locator(plt.FixedLocator(range(0,100, 10)))\n",
    "\n",
    "data_filtered.groupby(['interactionType']).size().apply(lambda x: 100 * x / float(len(data_filtered.interactionType))).plot.bar(ax=c_ax, color='gray')\n",
    "\n",
    "\n",
    "plt.savefig(\"Interactiontype_postfilter.eps\", bbox_inches='tight')\n",
    "plt.savefig(\"Interactiontype_postfilter.png\", bbox_inches='tight')\n",
    "\n",
    "\n",
    "plt.show()"
   ]
  },
  {
   "cell_type": "code",
   "execution_count": 60,
   "metadata": {},
   "outputs": [
    {
     "data": {
      "text/plain": [
       "interactionType\n",
       "acetylation            8\n",
       "dephosphorylation     54\n",
       "deubiquitination       2\n",
       "methylation           15\n",
       "phosphorylation      216\n",
       "ubiquitination         7\n",
       "dtype: int64"
      ]
     },
     "execution_count": 60,
     "metadata": {},
     "output_type": "execute_result"
    }
   ],
   "source": [
    "data_filtered.groupby(['interactionType']).size()"
   ]
  },
  {
   "cell_type": "markdown",
   "metadata": {},
   "source": [
    "#### Check how many contain the trigger word"
   ]
  },
  {
   "cell_type": "code",
   "execution_count": 61,
   "metadata": {},
   "outputs": [
    {
     "data": {
      "text/html": [
       "<div>\n",
       "<style scoped>\n",
       "    .dataframe tbody tr th:only-of-type {\n",
       "        vertical-align: middle;\n",
       "    }\n",
       "\n",
       "    .dataframe tbody tr th {\n",
       "        vertical-align: top;\n",
       "    }\n",
       "\n",
       "    .dataframe thead th {\n",
       "        text-align: right;\n",
       "    }\n",
       "</style>\n",
       "<table border=\"1\" class=\"dataframe\">\n",
       "  <thead>\n",
       "    <tr style=\"text-align: right;\">\n",
       "      <th>hasTriggerWord</th>\n",
       "      <th>False</th>\n",
       "      <th>True</th>\n",
       "    </tr>\n",
       "    <tr>\n",
       "      <th>interactionType</th>\n",
       "      <th></th>\n",
       "      <th></th>\n",
       "    </tr>\n",
       "  </thead>\n",
       "  <tbody>\n",
       "    <tr>\n",
       "      <th>acetylation</th>\n",
       "      <td>1</td>\n",
       "      <td>7</td>\n",
       "    </tr>\n",
       "    <tr>\n",
       "      <th>dephosphorylation</th>\n",
       "      <td>10</td>\n",
       "      <td>44</td>\n",
       "    </tr>\n",
       "    <tr>\n",
       "      <th>deubiquitination</th>\n",
       "      <td>0</td>\n",
       "      <td>2</td>\n",
       "    </tr>\n",
       "    <tr>\n",
       "      <th>methylation</th>\n",
       "      <td>0</td>\n",
       "      <td>15</td>\n",
       "    </tr>\n",
       "    <tr>\n",
       "      <th>phosphorylation</th>\n",
       "      <td>12</td>\n",
       "      <td>204</td>\n",
       "    </tr>\n",
       "    <tr>\n",
       "      <th>ubiquitination</th>\n",
       "      <td>0</td>\n",
       "      <td>7</td>\n",
       "    </tr>\n",
       "  </tbody>\n",
       "</table>\n",
       "</div>"
      ],
      "text/plain": [
       "hasTriggerWord     False  True \n",
       "interactionType                \n",
       "acetylation            1      7\n",
       "dephosphorylation     10     44\n",
       "deubiquitination       0      2\n",
       "methylation            0     15\n",
       "phosphorylation       12    204\n",
       "ubiquitination         0      7"
      ]
     },
     "execution_count": 61,
     "metadata": {},
     "output_type": "execute_result"
    }
   ],
   "source": [
    "data_filtered.groupby([ 'interactionType','hasTriggerWord']).size().unstack(fill_value = 0)"
   ]
  },
  {
   "cell_type": "code",
   "execution_count": 62,
   "metadata": {},
   "outputs": [
    {
     "data": {
      "text/html": [
       "<div>\n",
       "<style scoped>\n",
       "    .dataframe tbody tr th:only-of-type {\n",
       "        vertical-align: middle;\n",
       "    }\n",
       "\n",
       "    .dataframe tbody tr th {\n",
       "        vertical-align: top;\n",
       "    }\n",
       "\n",
       "    .dataframe thead th {\n",
       "        text-align: right;\n",
       "    }\n",
       "</style>\n",
       "<table border=\"1\" class=\"dataframe\">\n",
       "  <thead>\n",
       "    <tr style=\"text-align: right;\">\n",
       "      <th>hasTriggerWord</th>\n",
       "      <th>False</th>\n",
       "      <th>True</th>\n",
       "    </tr>\n",
       "    <tr>\n",
       "      <th>interactionType</th>\n",
       "      <th></th>\n",
       "      <th></th>\n",
       "    </tr>\n",
       "  </thead>\n",
       "  <tbody>\n",
       "    <tr>\n",
       "      <th>acetylation</th>\n",
       "      <td>12.5</td>\n",
       "      <td>87.5</td>\n",
       "    </tr>\n",
       "    <tr>\n",
       "      <th>dephosphorylation</th>\n",
       "      <td>18.5</td>\n",
       "      <td>81.5</td>\n",
       "    </tr>\n",
       "    <tr>\n",
       "      <th>deubiquitination</th>\n",
       "      <td>0.0</td>\n",
       "      <td>100.0</td>\n",
       "    </tr>\n",
       "    <tr>\n",
       "      <th>methylation</th>\n",
       "      <td>0.0</td>\n",
       "      <td>100.0</td>\n",
       "    </tr>\n",
       "    <tr>\n",
       "      <th>phosphorylation</th>\n",
       "      <td>5.6</td>\n",
       "      <td>94.4</td>\n",
       "    </tr>\n",
       "    <tr>\n",
       "      <th>ubiquitination</th>\n",
       "      <td>0.0</td>\n",
       "      <td>100.0</td>\n",
       "    </tr>\n",
       "  </tbody>\n",
       "</table>\n",
       "</div>"
      ],
      "text/plain": [
       "hasTriggerWord     False  True \n",
       "interactionType                \n",
       "acetylation         12.5   87.5\n",
       "dephosphorylation   18.5   81.5\n",
       "deubiquitination     0.0  100.0\n",
       "methylation          0.0  100.0\n",
       "phosphorylation      5.6   94.4\n",
       "ubiquitination       0.0  100.0"
      ]
     },
     "execution_count": 62,
     "metadata": {},
     "output_type": "execute_result"
    }
   ],
   "source": [
    "data_filtered.groupby([ 'interactionType','hasTriggerWord']).size().unstack(fill_value = 0).apply(lambda x: round(x/sum(x),3)*100, axis=1)\n"
   ]
  },
  {
   "cell_type": "code",
   "execution_count": 63,
   "metadata": {},
   "outputs": [
    {
     "data": {
      "text/html": [
       "<div>\n",
       "<style scoped>\n",
       "    .dataframe tbody tr th:only-of-type {\n",
       "        vertical-align: middle;\n",
       "    }\n",
       "\n",
       "    .dataframe tbody tr th {\n",
       "        vertical-align: top;\n",
       "    }\n",
       "\n",
       "    .dataframe thead th {\n",
       "        text-align: right;\n",
       "    }\n",
       "</style>\n",
       "<table border=\"1\" class=\"dataframe\">\n",
       "  <thead>\n",
       "    <tr style=\"text-align: right;\">\n",
       "      <th></th>\n",
       "      <th>interactionId</th>\n",
       "      <th>interactionType</th>\n",
       "      <th>pubmedId</th>\n",
       "      <th>pubmedTitle</th>\n",
       "      <th>pubmedabstract</th>\n",
       "      <th>isValid</th>\n",
       "      <th>flatparticpants</th>\n",
       "      <th>participants_count</th>\n",
       "      <th>hasTriggerWord</th>\n",
       "      <th>entityMentionsCount</th>\n",
       "      <th>participant1Id</th>\n",
       "      <th>participant2Id</th>\n",
       "      <th>participant1Alias</th>\n",
       "      <th>participant2Alias</th>\n",
       "      <th>normalised_abstract</th>\n",
       "      <th>annotations</th>\n",
       "      <th>annotations_abstract</th>\n",
       "      <th>num_unique_gene_normalised_id</th>\n",
       "      <th>num_gene_normalised_id</th>\n",
       "      <th>gene_to_uniprot_map</th>\n",
       "      <th>particpant1Exists</th>\n",
       "      <th>particpant2Exists</th>\n",
       "      <th>bothParticpantsExist</th>\n",
       "      <th>noParticpantsExist</th>\n",
       "    </tr>\n",
       "  </thead>\n",
       "  <tbody>\n",
       "  </tbody>\n",
       "</table>\n",
       "</div>"
      ],
      "text/plain": [
       "Empty DataFrame\n",
       "Columns: [interactionId, interactionType, pubmedId, pubmedTitle, pubmedabstract, isValid, flatparticpants, participants_count, hasTriggerWord, entityMentionsCount, participant1Id, participant2Id, participant1Alias, participant2Alias, normalised_abstract, annotations, annotations_abstract, num_unique_gene_normalised_id, num_gene_normalised_id, gene_to_uniprot_map, particpant1Exists, particpant2Exists, bothParticpantsExist, noParticpantsExist]\n",
       "Index: []"
      ]
     },
     "execution_count": 63,
     "metadata": {},
     "output_type": "execute_result"
    }
   ],
   "source": [
    "data_filtered.query('pubmedId == \"17126281\"')"
   ]
  },
  {
   "cell_type": "code",
   "execution_count": 64,
   "metadata": {},
   "outputs": [
    {
     "data": {
      "text/html": [
       "<div>\n",
       "<style scoped>\n",
       "    .dataframe tbody tr th:only-of-type {\n",
       "        vertical-align: middle;\n",
       "    }\n",
       "\n",
       "    .dataframe tbody tr th {\n",
       "        vertical-align: top;\n",
       "    }\n",
       "\n",
       "    .dataframe thead th {\n",
       "        text-align: right;\n",
       "    }\n",
       "</style>\n",
       "<table border=\"1\" class=\"dataframe\">\n",
       "  <thead>\n",
       "    <tr style=\"text-align: right;\">\n",
       "      <th></th>\n",
       "      <th>interactionType</th>\n",
       "      <th>pubmedId</th>\n",
       "      <th>pubmedTitle</th>\n",
       "      <th>participant1Id</th>\n",
       "      <th>participant2Id</th>\n",
       "    </tr>\n",
       "  </thead>\n",
       "  <tbody>\n",
       "    <tr>\n",
       "      <th>715</th>\n",
       "      <td>acetylation</td>\n",
       "      <td>20856196</td>\n",
       "      <td>None</td>\n",
       "      <td>Q09472</td>\n",
       "      <td>P27695</td>\n",
       "    </tr>\n",
       "    <tr>\n",
       "      <th>797</th>\n",
       "      <td>acetylation</td>\n",
       "      <td>26829474</td>\n",
       "      <td>Acetylation of Aurora B by TIP60 ensures accurate chromosomal segregation.</td>\n",
       "      <td>Q96GD4</td>\n",
       "      <td>Q92993</td>\n",
       "    </tr>\n",
       "    <tr>\n",
       "      <th>1228</th>\n",
       "      <td>acetylation</td>\n",
       "      <td>22771473</td>\n",
       "      <td>None</td>\n",
       "      <td>Q92831</td>\n",
       "      <td>P63241</td>\n",
       "    </tr>\n",
       "    <tr>\n",
       "      <th>1298</th>\n",
       "      <td>acetylation</td>\n",
       "      <td>12471024</td>\n",
       "      <td>None</td>\n",
       "      <td>P13569</td>\n",
       "      <td>Q5T2W1</td>\n",
       "    </tr>\n",
       "    <tr>\n",
       "      <th>1415</th>\n",
       "      <td>acetylation</td>\n",
       "      <td>19407811</td>\n",
       "      <td>None</td>\n",
       "      <td>O60566</td>\n",
       "      <td>Q92831</td>\n",
       "    </tr>\n",
       "    <tr>\n",
       "      <th>1557</th>\n",
       "      <td>acetylation</td>\n",
       "      <td>21157427</td>\n",
       "      <td>None</td>\n",
       "      <td>Q01130</td>\n",
       "      <td>Q92993</td>\n",
       "    </tr>\n",
       "    <tr>\n",
       "      <th>1573</th>\n",
       "      <td>acetylation</td>\n",
       "      <td>23441852</td>\n",
       "      <td>None</td>\n",
       "      <td>Q09472</td>\n",
       "      <td>P61201</td>\n",
       "    </tr>\n",
       "    <tr>\n",
       "      <th>1632</th>\n",
       "      <td>acetylation</td>\n",
       "      <td>11804596</td>\n",
       "      <td>None</td>\n",
       "      <td>O15350</td>\n",
       "      <td>Q09472</td>\n",
       "    </tr>\n",
       "  </tbody>\n",
       "</table>\n",
       "</div>"
      ],
      "text/plain": [
       "     interactionType  pubmedId  \\\n",
       "715      acetylation  20856196   \n",
       "797      acetylation  26829474   \n",
       "1228     acetylation  22771473   \n",
       "1298     acetylation  12471024   \n",
       "1415     acetylation  19407811   \n",
       "1557     acetylation  21157427   \n",
       "1573     acetylation  23441852   \n",
       "1632     acetylation  11804596   \n",
       "\n",
       "                                                                     pubmedTitle  \\\n",
       "715                                                                         None   \n",
       "797   Acetylation of Aurora B by TIP60 ensures accurate chromosomal segregation.   \n",
       "1228                                                                        None   \n",
       "1298                                                                        None   \n",
       "1415                                                                        None   \n",
       "1557                                                                        None   \n",
       "1573                                                                        None   \n",
       "1632                                                                        None   \n",
       "\n",
       "     participant1Id participant2Id  \n",
       "715          Q09472         P27695  \n",
       "797          Q96GD4         Q92993  \n",
       "1228         Q92831         P63241  \n",
       "1298         P13569         Q5T2W1  \n",
       "1415         O60566         Q92831  \n",
       "1557         Q01130         Q92993  \n",
       "1573         Q09472         P61201  \n",
       "1632         O15350         Q09472  "
      ]
     },
     "execution_count": 64,
     "metadata": {},
     "output_type": "execute_result"
    }
   ],
   "source": [
    "data_filtered.query(\"interactionType == 'acetylation'\")[[\"interactionType\", \"pubmedId\", \"pubmedTitle\",\n",
    "                                                         \"participant1Id\", \"participant2Id\" ]]"
   ]
  },
  {
   "cell_type": "markdown",
   "metadata": {},
   "source": [
    "### Verify no duplicates"
   ]
  },
  {
   "cell_type": "code",
   "execution_count": 65,
   "metadata": {},
   "outputs": [],
   "source": [
    "duplicates = data_filtered.groupby([\"interactionType\", \"pubmedId\", \"participant1Id\", \"participant2Id\"])\\\n",
    "    .filter(lambda x: len(x) > 1)\\\n",
    "    .groupby([\"interactionType\", \"pubmedId\", \"participant1Id\", \"participant2Id\"]).size()\n",
    "\n",
    "assert len(duplicates)==0"
   ]
  },
  {
   "cell_type": "code",
   "execution_count": 66,
   "metadata": {},
   "outputs": [
    {
     "data": {
      "text/plain": [
       "[{'name': 'Initial', 'count': 3381},\n",
       " {'name': 'Drop duplicates (pubmedId, participant uniprots, interactionType)',\n",
       "  'count': 2797},\n",
       " {'name': 'Drop abstracts that have n-ary relationship n > 2', 'count': 2217},\n",
       " {'name': 'Drop interactions where participant Unitprot identifiers are null',\n",
       "  'count': 2155},\n",
       " {'name': 'Drop interactions where the participant UniprotID does not exist in abstract',\n",
       "  'count': 422},\n",
       " {'name': 'Drop interactions where participant1 = participant2 (self relations)',\n",
       "  'count': 302}]"
      ]
     },
     "execution_count": 66,
     "metadata": {},
     "output_type": "execute_result"
    }
   ],
   "source": [
    "process_map"
   ]
  },
  {
   "cell_type": "markdown",
   "metadata": {},
   "source": [
    "### Split Train/Test/validation"
   ]
  },
  {
   "cell_type": "code",
   "execution_count": 67,
   "metadata": {},
   "outputs": [
    {
     "name": "stderr",
     "output_type": "stream",
     "text": [
      "/Users/aeg/venv/PPI-typed-relation-extractor/lib/python3.7/site-packages/sklearn/utils/__init__.py:806: DeprecationWarning: `np.int` is a deprecated alias for the builtin `int`. To silence this warning, use `int` by itself. Doing this will not modify any behavior and is safe. When replacing `np.int`, you may wish to use e.g. `np.int64` or `np.int32` to specify the precision. If you wish to review your current use, check the release note link for additional information.\n",
      "Deprecated in NumPy 1.20; for more details and guidance: https://numpy.org/devdocs/release/1.20.0-notes.html#deprecations\n",
      "  return floored.astype(np.int)\n",
      "/Users/aeg/venv/PPI-typed-relation-extractor/lib/python3.7/site-packages/sklearn/utils/__init__.py:806: DeprecationWarning: `np.int` is a deprecated alias for the builtin `int`. To silence this warning, use `int` by itself. Doing this will not modify any behavior and is safe. When replacing `np.int`, you may wish to use e.g. `np.int64` or `np.int32` to specify the precision. If you wish to review your current use, check the release note link for additional information.\n",
      "Deprecated in NumPy 1.20; for more details and guidance: https://numpy.org/devdocs/release/1.20.0-notes.html#deprecations\n",
      "  return floored.astype(np.int)\n",
      "/Users/aeg/venv/PPI-typed-relation-extractor/lib/python3.7/site-packages/sklearn/utils/__init__.py:806: DeprecationWarning: `np.int` is a deprecated alias for the builtin `int`. To silence this warning, use `int` by itself. Doing this will not modify any behavior and is safe. When replacing `np.int`, you may wish to use e.g. `np.int64` or `np.int32` to specify the precision. If you wish to review your current use, check the release note link for additional information.\n",
      "Deprecated in NumPy 1.20; for more details and guidance: https://numpy.org/devdocs/release/1.20.0-notes.html#deprecations\n",
      "  return floored.astype(np.int)\n",
      "/Users/aeg/venv/PPI-typed-relation-extractor/lib/python3.7/site-packages/sklearn/utils/__init__.py:806: DeprecationWarning: `np.int` is a deprecated alias for the builtin `int`. To silence this warning, use `int` by itself. Doing this will not modify any behavior and is safe. When replacing `np.int`, you may wish to use e.g. `np.int64` or `np.int32` to specify the precision. If you wish to review your current use, check the release note link for additional information.\n",
      "Deprecated in NumPy 1.20; for more details and guidance: https://numpy.org/devdocs/release/1.20.0-notes.html#deprecations\n",
      "  return floored.astype(np.int)\n"
     ]
    }
   ],
   "source": [
    "from sklearn.model_selection import train_test_split\n",
    "from sklearn.model_selection import train_test_split\n",
    "\n",
    "unique_pubmed = data_filtered.pubmedId.unique()\n",
    "stratified =  [ data_filtered.query(\"pubmedId == '{}'\".format(p))['interactionType'].iloc[0] for p in unique_pubmed]\n",
    "trainpubmed, valpubmed  = train_test_split(unique_pubmed,  test_size=.1,\n",
    "                                                        random_state=777, stratify=stratified)\n",
    "\n",
    "\n",
    "stratified =  [data_filtered.query(\"pubmedId == '{}'\".format(p))['interactionType'].iloc[0] for p in trainpubmed]\n",
    "trainpubmed, testpubmed = train_test_split(trainpubmed,  test_size=.2,\n",
    "                                                        random_state=777, stratify=stratified)"
   ]
  },
  {
   "cell_type": "code",
   "execution_count": 68,
   "metadata": {},
   "outputs": [
    {
     "data": {
      "text/plain": [
       "array([], dtype=object)"
      ]
     },
     "execution_count": 68,
     "metadata": {},
     "output_type": "execute_result"
    }
   ],
   "source": [
    "data_filtered.query(\"interactionType == 'demethylation'\")['pubmedId'].unique()"
   ]
  },
  {
   "cell_type": "code",
   "execution_count": 69,
   "metadata": {},
   "outputs": [
    {
     "data": {
      "text/plain": [
       "array(['15103385', '16213503', '14603323', '11894096', '11882901',\n",
       "       '16601676', '11027293'], dtype=object)"
      ]
     },
     "execution_count": 69,
     "metadata": {},
     "output_type": "execute_result"
    }
   ],
   "source": [
    "data_filtered.query(\"interactionType == 'ubiquitination'\")['pubmedId'].unique()"
   ]
  },
  {
   "cell_type": "code",
   "execution_count": 70,
   "metadata": {},
   "outputs": [],
   "source": [
    "train = data_filtered[data_filtered['pubmedId'].isin(trainpubmed)]\n",
    "test = data_filtered[data_filtered['pubmedId'].isin(testpubmed)]\n",
    "val = data_filtered[data_filtered['pubmedId'].isin(valpubmed)]\n",
    "\n",
    "\n"
   ]
  },
  {
   "cell_type": "code",
   "execution_count": 71,
   "metadata": {},
   "outputs": [
    {
     "data": {
      "text/plain": [
       "array(['16213503', '11894096', '11882901', '16601676', '11027293'],\n",
       "      dtype=object)"
      ]
     },
     "execution_count": 71,
     "metadata": {},
     "output_type": "execute_result"
    }
   ],
   "source": [
    "train.query(\"interactionType == 'ubiquitination'\")['pubmedId'].unique()"
   ]
  },
  {
   "cell_type": "code",
   "execution_count": 72,
   "metadata": {},
   "outputs": [
    {
     "data": {
      "text/html": [
       "<div>\n",
       "<style scoped>\n",
       "    .dataframe tbody tr th:only-of-type {\n",
       "        vertical-align: middle;\n",
       "    }\n",
       "\n",
       "    .dataframe tbody tr th {\n",
       "        vertical-align: top;\n",
       "    }\n",
       "\n",
       "    .dataframe thead th {\n",
       "        text-align: right;\n",
       "    }\n",
       "</style>\n",
       "<table border=\"1\" class=\"dataframe\">\n",
       "  <thead>\n",
       "    <tr style=\"text-align: right;\">\n",
       "      <th></th>\n",
       "      <th>interactionId</th>\n",
       "      <th>interactionType</th>\n",
       "      <th>pubmedId</th>\n",
       "      <th>pubmedTitle</th>\n",
       "      <th>pubmedabstract</th>\n",
       "      <th>isValid</th>\n",
       "      <th>flatparticpants</th>\n",
       "      <th>participants_count</th>\n",
       "      <th>hasTriggerWord</th>\n",
       "      <th>entityMentionsCount</th>\n",
       "      <th>participant1Id</th>\n",
       "      <th>participant2Id</th>\n",
       "      <th>participant1Alias</th>\n",
       "      <th>participant2Alias</th>\n",
       "      <th>normalised_abstract</th>\n",
       "      <th>annotations</th>\n",
       "      <th>annotations_abstract</th>\n",
       "      <th>num_unique_gene_normalised_id</th>\n",
       "      <th>num_gene_normalised_id</th>\n",
       "      <th>gene_to_uniprot_map</th>\n",
       "      <th>particpant1Exists</th>\n",
       "      <th>particpant2Exists</th>\n",
       "      <th>bothParticpantsExist</th>\n",
       "      <th>noParticpantsExist</th>\n",
       "    </tr>\n",
       "  </thead>\n",
       "  <tbody>\n",
       "    <tr>\n",
       "      <th>974</th>\n",
       "      <td>130690</td>\n",
       "      <td>ubiquitination</td>\n",
       "      <td>15103385</td>\n",
       "      <td>None</td>\n",
       "      <td>COP1 (constitutively photomorphogenic 1) is a RING-finger-containing protein that functions to repress plant photomorphogenesis, the light-mediated programme of plant development. Mutants of COP1 are constitutively photomorphogenic, and this has been attributed to their inability to negatively regulate the proteins LAF1 (ref. 1) and HY5 (ref. 2). The role of COP1 in mammalian cells is less well characterized. Here we identify the tumour-suppressor protein p53 as a COP1-interacting protein. COP1 increases p53 turnover by targeting it for degradation by the proteasome in a ubiquitin-dependent fashion, independently of MDM2 or Pirh2, which are known to interact with and negatively regulate p53. Moreover, COP1 serves as an E3 ubiquitin ligase for p53 in vitro and in vivo, and inhibits p53-dependent transcription and apoptosis. Depletion of COP1 by short interfering RNA (siRNA) stabilizes p53 and arrests cells in the G1 phase of the cell cycle. Furthermore, we identify COP1 as a p53-inducible gene, and show that the depletion of COP1 and MDM2 by siRNA cooperatively sensitizes U2-OS cells to ionizing-radiation-induced cell death. Overall, these results indicate that COP1 is a critical negative regulator of p53 and represents a new pathway for maintaining p53 at low levels in unstressed cells.</td>\n",
       "      <td>True</td>\n",
       "      <td>[P04637, Q8NHY2]</td>\n",
       "      <td>2</td>\n",
       "      <td>True</td>\n",
       "      <td>5</td>\n",
       "      <td>Q8NHY2</td>\n",
       "      <td>P04637</td>\n",
       "      <td>[[cop1_human], [E3 ubiquitin-protein ligase COP1], [COP1], [Constitutive photomorphogenesis protein 1 homolog], [RFWD2], [RING finger and WD repeat domain protein 2], [RING finger protein 200], [RING-type E3 ubiquitin transferase RFWD2], [RNF200]]</td>\n",
       "      <td>[[p53_human], [Cellular tumor antigen p53], [TP53], [P53], [Tumor suppressor p53], [Phosphoprotein p53], [Antigen NY-CO-13]]</td>\n",
       "      <td>Q8NHY2 (Q8NHY2) is a RING-finger-containing protein that functions to repress plant photomorphogenesis, the light-mediated programme of plant development. Mutants of Q8NHY2 are constitutively photomorphogenic, and this has been attributed to their inability to negatively regulate the proteins LAF1 (ref. 1) and HY5 (ref. 2). The role of Q8NHY2 in mammalian cells is less well characterized. Here we identify the tumour-suppressor protein P04637 as a Q8NHY2-interacting protein. Q8NHY2 increases P04637 turnover by targeting it for degradation by the proteasome in a ubiquitin-dependent fashion, independently of Q00987 or Q96PM5, which are known to interact with and negatively regulate P04637. Moreover, Q8NHY2 serves as an E3 ubiquitin ligase for P04637 in vitro and in vivo, and inhibits P04637-dependent transcription and apoptosis. Depletion of Q8NHY2 by short interfering RNA (siRNA) stabilizes P04637 and arrests cells in the G1 phase of the cell cycle. Furthermore, we identify Q8NHY2 as a P04637-inducible gene, and show that the depletion of Q8NHY2 and Q00987 by siRNA cooperatively sensitizes U2-OS cells to ionizing-radiation-induced cell death. Overall, these results indicate that Q8NHY2 is a critical negative regulator of P04637 and represents a new pathway for maintaining P04637 at low levels in unstressed cells.</td>\n",
       "      <td>[{'start': '0', 'end': '4', 'name': 'COP1', 'type': 'Gene', 'normalised_id': '64326'}, {'start': '6', 'end': '39', 'name': 'constitutively photomorphogenic 1', 'type': 'Gene', 'normalised_id': '64326'}, {'start': '191', 'end': '195', 'name': 'COP1', 'type': 'Gene', 'normalised_id': '64326'}, {'start': '361', 'end': '365', 'name': 'COP1', 'type': 'Gene', 'normalised_id': '64326'}, {'start': '369', 'end': '378', 'name': 'mammalian', 'type': 'Species', 'normalised_id': '9606'}, {'start': '460', 'end': '463', 'name': 'p53', 'type': 'Gene', 'normalised_id': '7157'}, {'start': '469', 'end': '473', 'name': 'COP1', 'type': 'Gene', 'normalised_id': '64326'}, {'start': '495', 'end': '499', 'name': 'COP1', 'type': 'Gene', 'normalised_id': '64326'}, {'start': '510', 'end': '513', 'name': 'p53', 'type': 'Gene', 'normalised_id': '7157'}, {'start': '624', 'end': '628', 'name': 'MDM2', 'type': 'Gene', 'normalised_id': '4193'}, {'start': '632', 'end': '637', 'name': 'Pirh2', 'type': 'Gene', 'normalised_id': '25898'}, {'start': '696', 'end': '699', 'name': 'p53', 'type': 'Gene', 'normalised_id': '7157'}, {'start': '711', 'end': '715', 'name': 'COP1', 'type': 'Gene', 'normalised_id': '64326'}, {'start': '753', 'end': '756', 'name': 'p53', 'type': 'Gene', 'normalised_id': '7157'}, {'start': '792', 'end': '795', 'name': 'p53', 'type': 'Gene', 'normalised_id': '7157'}, {'start': '848', 'end': '852', 'name': 'COP1', 'type': 'Gene', 'normalised_id': '64326'}, {'start': '897', 'end': '900', 'name': 'p53', 'type': 'Gene', 'normalised_id': '7157'}, {'start': '979', 'end': '983', 'name': 'COP1', 'type': 'Gene', 'normalised_id': '64326'}, {'start': '989', 'end': '992', 'name': 'p53', 'type': 'Gene', 'normalised_id': '7157'}, {'start': '1040', 'end': '1044', 'name': 'COP1', 'type': 'Gene', 'normalised_id': '64326'}, {'start': '1049', 'end': '1053', 'name': 'MDM2', 'type': 'Gene', 'normalised_id': '4193'}, {'start': '1088', 'end': '1093', 'name': 'U2-OS', 'type': 'Species', 'normalised_id': '9606'}, {'start': '1179', 'end': '1183', 'name': 'COP1', 'type': 'Gene', 'normalised_id': '64326'}, {'start': '1220', 'end': '1223', 'name': 'p53', 'type': 'Gene', 'normalised_id': '7157'}, {'start': '1269', 'end': '1272', 'name': 'p53', 'type': 'Gene', 'normalised_id': '7157'}]</td>\n",
       "      <td>COP1 (constitutively photomorphogenic 1) is a RING-finger-containing protein that functions to repress plant photomorphogenesis, the light-mediated programme of plant development. Mutants of COP1 are constitutively photomorphogenic, and this has been attributed to their inability to negatively regulate the proteins LAF1 (ref. 1) and HY5 (ref. 2). The role of COP1 in mammalian cells is less well characterized. Here we identify the tumour-suppressor protein p53 as a COP1-interacting protein. COP1 increases p53 turnover by targeting it for degradation by the proteasome in a ubiquitin-dependent fashion, independently of MDM2 or Pirh2, which are known to interact with and negatively regulate p53. Moreover, COP1 serves as an E3 ubiquitin ligase for p53 in vitro and in vivo, and inhibits p53-dependent transcription and apoptosis. Depletion of COP1 by short interfering RNA (siRNA) stabilizes p53 and arrests cells in the G1 phase of the cell cycle. Furthermore, we identify COP1 as a p53-inducible gene, and show that the depletion of COP1 and MDM2 by siRNA cooperatively sensitizes U2-OS cells to ionizing-radiation-induced cell death. Overall, these results indicate that COP1 is a critical negative regulator of p53 and represents a new pathway for maintaining p53 at low levels in unstressed cells.</td>\n",
       "      <td>4</td>\n",
       "      <td>23</td>\n",
       "      <td>{'25898': ['Q96PM5'], '4193': ['Q00987', 'A7UKX8', 'G3XA89', 'A7UKX9', 'Q96DS0', 'A0A0A8KB75', 'A7UKX7'], '7157': ['P04637', 'K7PPA8', 'A0A087WT22', 'H2EHT1', 'Q53GA5', 'A0A087WXZ1', 'A0A087X1Q1'], '64326': ['Q8NHY2', 'X5DNY7', 'X5D7N8']}</td>\n",
       "      <td>True</td>\n",
       "      <td>True</td>\n",
       "      <td>True</td>\n",
       "      <td>False</td>\n",
       "    </tr>\n",
       "  </tbody>\n",
       "</table>\n",
       "</div>"
      ],
      "text/plain": [
       "    interactionId interactionType  pubmedId pubmedTitle  \\\n",
       "974        130690  ubiquitination  15103385        None   \n",
       "\n",
       "                                                                                                                                                                                                                                                                                                                                                                                                                                                                                                                                                                                                                                                                                                                                                                                                                                                                                                                                                                                                                                                                                                                                                                                                                                                                                                                                                  pubmedabstract  \\\n",
       "974  COP1 (constitutively photomorphogenic 1) is a RING-finger-containing protein that functions to repress plant photomorphogenesis, the light-mediated programme of plant development. Mutants of COP1 are constitutively photomorphogenic, and this has been attributed to their inability to negatively regulate the proteins LAF1 (ref. 1) and HY5 (ref. 2). The role of COP1 in mammalian cells is less well characterized. Here we identify the tumour-suppressor protein p53 as a COP1-interacting protein. COP1 increases p53 turnover by targeting it for degradation by the proteasome in a ubiquitin-dependent fashion, independently of MDM2 or Pirh2, which are known to interact with and negatively regulate p53. Moreover, COP1 serves as an E3 ubiquitin ligase for p53 in vitro and in vivo, and inhibits p53-dependent transcription and apoptosis. Depletion of COP1 by short interfering RNA (siRNA) stabilizes p53 and arrests cells in the G1 phase of the cell cycle. Furthermore, we identify COP1 as a p53-inducible gene, and show that the depletion of COP1 and MDM2 by siRNA cooperatively sensitizes U2-OS cells to ionizing-radiation-induced cell death. Overall, these results indicate that COP1 is a critical negative regulator of p53 and represents a new pathway for maintaining p53 at low levels in unstressed cells.   \n",
       "\n",
       "     isValid   flatparticpants  participants_count  hasTriggerWord  \\\n",
       "974     True  [P04637, Q8NHY2]                   2            True   \n",
       "\n",
       "     entityMentionsCount participant1Id participant2Id  \\\n",
       "974                    5         Q8NHY2         P04637   \n",
       "\n",
       "                                                                                                                                                                                                                                           participant1Alias  \\\n",
       "974  [[cop1_human], [E3 ubiquitin-protein ligase COP1], [COP1], [Constitutive photomorphogenesis protein 1 homolog], [RFWD2], [RING finger and WD repeat domain protein 2], [RING finger protein 200], [RING-type E3 ubiquitin transferase RFWD2], [RNF200]]   \n",
       "\n",
       "                                                                                                                participant2Alias  \\\n",
       "974  [[p53_human], [Cellular tumor antigen p53], [TP53], [P53], [Tumor suppressor p53], [Phosphoprotein p53], [Antigen NY-CO-13]]   \n",
       "\n",
       "                                                                                                                                                                                                                                                                                                                                                                                                                                                                                                                                                                                                                                                                                                                                                                                                                                                                                                                                                                                                                                                                                                                                                                                                                                                                                                                                                                      normalised_abstract  \\\n",
       "974  Q8NHY2 (Q8NHY2) is a RING-finger-containing protein that functions to repress plant photomorphogenesis, the light-mediated programme of plant development. Mutants of Q8NHY2 are constitutively photomorphogenic, and this has been attributed to their inability to negatively regulate the proteins LAF1 (ref. 1) and HY5 (ref. 2). The role of Q8NHY2 in mammalian cells is less well characterized. Here we identify the tumour-suppressor protein P04637 as a Q8NHY2-interacting protein. Q8NHY2 increases P04637 turnover by targeting it for degradation by the proteasome in a ubiquitin-dependent fashion, independently of Q00987 or Q96PM5, which are known to interact with and negatively regulate P04637. Moreover, Q8NHY2 serves as an E3 ubiquitin ligase for P04637 in vitro and in vivo, and inhibits P04637-dependent transcription and apoptosis. Depletion of Q8NHY2 by short interfering RNA (siRNA) stabilizes P04637 and arrests cells in the G1 phase of the cell cycle. Furthermore, we identify Q8NHY2 as a P04637-inducible gene, and show that the depletion of Q8NHY2 and Q00987 by siRNA cooperatively sensitizes U2-OS cells to ionizing-radiation-induced cell death. Overall, these results indicate that Q8NHY2 is a critical negative regulator of P04637 and represents a new pathway for maintaining P04637 at low levels in unstressed cells.   \n",
       "\n",
       "                                                                                                                                                                                                                                                                                                                                                                                                                                                                                                                                                                                                                                                                                                                                                                                                                                                                                                                                                                                                                                                                                                                                                                                                                                                                                                                                                                                                                                                                                                                                                                                                                                                                                                                                                                                                                                                                                                                                                                                                                                                                                                                                                                                                                                                                                                                                                             annotations  \\\n",
       "974  [{'start': '0', 'end': '4', 'name': 'COP1', 'type': 'Gene', 'normalised_id': '64326'}, {'start': '6', 'end': '39', 'name': 'constitutively photomorphogenic 1', 'type': 'Gene', 'normalised_id': '64326'}, {'start': '191', 'end': '195', 'name': 'COP1', 'type': 'Gene', 'normalised_id': '64326'}, {'start': '361', 'end': '365', 'name': 'COP1', 'type': 'Gene', 'normalised_id': '64326'}, {'start': '369', 'end': '378', 'name': 'mammalian', 'type': 'Species', 'normalised_id': '9606'}, {'start': '460', 'end': '463', 'name': 'p53', 'type': 'Gene', 'normalised_id': '7157'}, {'start': '469', 'end': '473', 'name': 'COP1', 'type': 'Gene', 'normalised_id': '64326'}, {'start': '495', 'end': '499', 'name': 'COP1', 'type': 'Gene', 'normalised_id': '64326'}, {'start': '510', 'end': '513', 'name': 'p53', 'type': 'Gene', 'normalised_id': '7157'}, {'start': '624', 'end': '628', 'name': 'MDM2', 'type': 'Gene', 'normalised_id': '4193'}, {'start': '632', 'end': '637', 'name': 'Pirh2', 'type': 'Gene', 'normalised_id': '25898'}, {'start': '696', 'end': '699', 'name': 'p53', 'type': 'Gene', 'normalised_id': '7157'}, {'start': '711', 'end': '715', 'name': 'COP1', 'type': 'Gene', 'normalised_id': '64326'}, {'start': '753', 'end': '756', 'name': 'p53', 'type': 'Gene', 'normalised_id': '7157'}, {'start': '792', 'end': '795', 'name': 'p53', 'type': 'Gene', 'normalised_id': '7157'}, {'start': '848', 'end': '852', 'name': 'COP1', 'type': 'Gene', 'normalised_id': '64326'}, {'start': '897', 'end': '900', 'name': 'p53', 'type': 'Gene', 'normalised_id': '7157'}, {'start': '979', 'end': '983', 'name': 'COP1', 'type': 'Gene', 'normalised_id': '64326'}, {'start': '989', 'end': '992', 'name': 'p53', 'type': 'Gene', 'normalised_id': '7157'}, {'start': '1040', 'end': '1044', 'name': 'COP1', 'type': 'Gene', 'normalised_id': '64326'}, {'start': '1049', 'end': '1053', 'name': 'MDM2', 'type': 'Gene', 'normalised_id': '4193'}, {'start': '1088', 'end': '1093', 'name': 'U2-OS', 'type': 'Species', 'normalised_id': '9606'}, {'start': '1179', 'end': '1183', 'name': 'COP1', 'type': 'Gene', 'normalised_id': '64326'}, {'start': '1220', 'end': '1223', 'name': 'p53', 'type': 'Gene', 'normalised_id': '7157'}, {'start': '1269', 'end': '1272', 'name': 'p53', 'type': 'Gene', 'normalised_id': '7157'}]   \n",
       "\n",
       "                                                                                                                                                                                                                                                                                                                                                                                                                                                                                                                                                                                                                                                                                                                                                                                                                                                                                                                                                                                                                                                                                                                                                                                                                                                                                                                                            annotations_abstract  \\\n",
       "974  COP1 (constitutively photomorphogenic 1) is a RING-finger-containing protein that functions to repress plant photomorphogenesis, the light-mediated programme of plant development. Mutants of COP1 are constitutively photomorphogenic, and this has been attributed to their inability to negatively regulate the proteins LAF1 (ref. 1) and HY5 (ref. 2). The role of COP1 in mammalian cells is less well characterized. Here we identify the tumour-suppressor protein p53 as a COP1-interacting protein. COP1 increases p53 turnover by targeting it for degradation by the proteasome in a ubiquitin-dependent fashion, independently of MDM2 or Pirh2, which are known to interact with and negatively regulate p53. Moreover, COP1 serves as an E3 ubiquitin ligase for p53 in vitro and in vivo, and inhibits p53-dependent transcription and apoptosis. Depletion of COP1 by short interfering RNA (siRNA) stabilizes p53 and arrests cells in the G1 phase of the cell cycle. Furthermore, we identify COP1 as a p53-inducible gene, and show that the depletion of COP1 and MDM2 by siRNA cooperatively sensitizes U2-OS cells to ionizing-radiation-induced cell death. Overall, these results indicate that COP1 is a critical negative regulator of p53 and represents a new pathway for maintaining p53 at low levels in unstressed cells.   \n",
       "\n",
       "     num_unique_gene_normalised_id  num_gene_normalised_id  \\\n",
       "974                              4                      23   \n",
       "\n",
       "                                                                                                                                                                                                                                gene_to_uniprot_map  \\\n",
       "974  {'25898': ['Q96PM5'], '4193': ['Q00987', 'A7UKX8', 'G3XA89', 'A7UKX9', 'Q96DS0', 'A0A0A8KB75', 'A7UKX7'], '7157': ['P04637', 'K7PPA8', 'A0A087WT22', 'H2EHT1', 'Q53GA5', 'A0A087WXZ1', 'A0A087X1Q1'], '64326': ['Q8NHY2', 'X5DNY7', 'X5D7N8']}   \n",
       "\n",
       "     particpant1Exists  particpant2Exists  bothParticpantsExist  \\\n",
       "974               True               True                  True   \n",
       "\n",
       "     noParticpantsExist  \n",
       "974               False  "
      ]
     },
     "execution_count": 72,
     "metadata": {},
     "output_type": "execute_result"
    }
   ],
   "source": [
    "val.query(\"interactionType == 'ubiquitination'\")\n"
   ]
  },
  {
   "cell_type": "code",
   "execution_count": 73,
   "metadata": {},
   "outputs": [
    {
     "data": {
      "image/png": "[encoded data removed]",
      "text/plain": [
       "<Figure size 864x360 with 3 Axes>"
      ]
     },
     "metadata": {
      "needs_background": "light"
     },
     "output_type": "display_data"
    }
   ],
   "source": [
    "import matplotlib.pyplot as plt\n",
    "import matplotlib\n",
    "import matplotlib.ticker as mtick\n",
    "\n",
    "\n",
    "fig, ax = plt.subplots( 1,3, figsize=(12,5))\n",
    "\n",
    "\n",
    "\n",
    "#fig, ax = plt.subplots( 7,1, figsize=(45,30))\n",
    "c_ax= ax[0]\n",
    "c_ax.set_title('Train set {}'.format(train.shape[0]))\n",
    "c_ax.yaxis.set_major_formatter(mtick.PercentFormatter())\n",
    "c_ax.yaxis.set_major_locator(plt.FixedLocator(range(0,100, 5)))\n",
    "train.groupby(['interactionType']).size().apply(lambda x: 100 * x / float(len(train.interactionType))).plot.bar(ax=c_ax, color='gray')\n",
    "\n",
    "\n",
    "\n",
    "\n",
    "c_ax = ax[1] \n",
    "c_ax.set_title('Validation set {}'.format(val.shape[0]))\n",
    "c_ax.yaxis.set_major_formatter(mtick.PercentFormatter())\n",
    "c_ax.yaxis.set_major_locator(plt.FixedLocator(range(0,100, 5)))\n",
    "val.groupby(['interactionType']).size().apply(lambda x: 100 * x / float(len(val.interactionType))).plot.bar(ax=c_ax, color='gray')\n",
    "\n",
    "\n",
    "\n",
    "c_ax = ax[2] \n",
    "c_ax.set_title('Test set {}'.format(test.shape[0]))\n",
    "c_ax.yaxis.set_major_formatter(mtick.PercentFormatter())\n",
    "c_ax.yaxis.set_major_locator(plt.FixedLocator(range(0,100, 5)))\n",
    "test.groupby(['interactionType']).size().apply(lambda x: 100 * x / float(len(test.interactionType))).plot.bar(ax=c_ax, color='gray')\n",
    "\n",
    "\n",
    "\n",
    "\n",
    "plt.savefig(\"split_dataset_postfilter.eps\", bbox_inches='tight')\n",
    "plt.savefig(\"split_dataset_postfilter.png\", bbox_inches='tight')\n",
    "\n",
    "plt.show()"
   ]
  },
  {
   "cell_type": "code",
   "execution_count": 74,
   "metadata": {},
   "outputs": [
    {
     "data": {
      "image/png": "[encoded data removed]",
      "text/plain": [
       "<Figure size 1080x360 with 3 Axes>"
      ]
     },
     "metadata": {
      "needs_background": "light"
     },
     "output_type": "display_data"
    }
   ],
   "source": [
    "import matplotlib.pyplot as plt\n",
    "import matplotlib\n",
    "import matplotlib.ticker as mtick\n",
    "\n",
    "\n",
    "fig, ax = plt.subplots( 1,3, figsize=(15,5))\n",
    "\n",
    "\n",
    "\n",
    "#fig, ax = plt.subplots( 7,1, figsize=(45,30))\n",
    "c_ax= ax[0]\n",
    "c_ax.set_title('Train set total positive class {}'.format(train.shape[0]))\n",
    "c_ax.yaxis.set_major_locator(plt.MaxNLocator( prune='both'))\n",
    "train.interactionType.value_counts().sort_index().plot.bar(ax=c_ax, color='gray')\n",
    "\n",
    "\n",
    "\n",
    "\n",
    "c_ax = ax[1] \n",
    "c_ax.set_title('Validation set total positive class {}'.format(val.shape[0]))\n",
    "c_ax.yaxis.set_major_locator(plt.MaxNLocator( prune='both'))\n",
    "val.interactionType.value_counts().sort_index().plot.bar(ax=c_ax, color='gray')\n",
    "\n",
    "c_ax = ax[2] \n",
    "c_ax.set_title('Test set total positive class {}'.format(test.shape[0]))\n",
    "c_ax.yaxis.set_major_locator(plt.MaxNLocator( prune='both'))\n",
    "test.interactionType.value_counts().sort_index().plot.bar(ax=c_ax,  color='gray')\n",
    "\n",
    "\n",
    "plt.savefig('TrainTestValidationInteractionDistribution.eps', bbox_inches='tight')\n",
    "plt.savefig('TrainTestValidationInteractionDistribution.png', bbox_inches='tight')\n",
    "\n",
    "\n",
    "plt.show()"
   ]
  },
  {
   "cell_type": "markdown",
   "metadata": {},
   "source": [
    "### Sample network"
   ]
  },
  {
   "cell_type": "code",
   "execution_count": 75,
   "metadata": {},
   "outputs": [
    {
     "name": "stderr",
     "output_type": "stream",
     "text": [
      "/Users/aeg/venv/PPI-typed-relation-extractor/lib/python3.7/site-packages/matplotlib/font_manager.py:1238: UserWarning: findfont: Font family ['sans-serif'] not found. Falling back to DejaVu Sans.\n",
      "  (prop.get_family(), self.defaultFamily[fontext]))\n"
     ]
    },
    {
     "data": {
      "image/png": "[encoded data removed]",
      "text/plain": [
       "<Figure size 1296x576 with 2 Axes>"
      ]
     },
     "metadata": {},
     "output_type": "display_data"
    }
   ],
   "source": [
    "import networkx as nx\n",
    "import matplotlib.pyplot as plt\n",
    "import random\n",
    "\n",
    "random.seed(a=78, version=2)\n",
    "\n",
    "fig,ax=plt.subplots(1,2, figsize=(18,8))\n",
    "\n",
    "G=nx.Graph()\n",
    "# Add nodes and edges\n",
    "G.add_edges_from(train.query(\" participant2Id =='Q5S007' and participant1Id != participant2Id\")\n",
    "                 .apply(lambda x: ( x[\"participant1Id\"],x[\"participant2Id\"], {\"type\": x['interactionType']}), axis=1))\n",
    "\n",
    "\n",
    "pos = nx.spring_layout(G,  seed=80)\n",
    "\n",
    "nx.draw(G, node_color='lightgrey', pos=pos, node_size=1000, with_labels = True, ax=ax[0])\n",
    "\n",
    "\n",
    "edge_label = nx.get_edge_attributes(G,'type')\n",
    "\n",
    "colors = {i:random.randint(0, 50) for i in train['interactionType'].unique()}\n",
    "edge_colors = [ colors[l]  for _,l in edge_label.items()]\n",
    "\n",
    "cmap=plt.cm.get_cmap(\"rainbow\")\n",
    "vmin = min(edge_colors)\n",
    "vmax = max(edge_colors)\n",
    "\n",
    "nx.draw(G, node_color='lightgrey', pos=pos, node_size=1000, with_labels = True, ax=ax[1])\n",
    "nx.draw_networkx_edges(G, pos,  width=1.0, edge_color=edge_colors, edge_cmap=cmap, edge_vmin=vmin, edge_vmax=vmax)\n",
    "\n",
    "nx.draw_networkx_edge_labels(G, pos=pos,alpha=1, edge_labels = nx.get_edge_attributes(G,'type'), ax=ax[1])\n",
    "\n",
    "plt.savefig('network.pdf', bbox_inches=\"tight\")\n",
    "\n",
    "\n",
    "\n",
    "plt.show()"
   ]
  },
  {
   "cell_type": "markdown",
   "metadata": {},
   "source": [
    "### Generate negative samples"
   ]
  },
  {
   "cell_type": "code",
   "execution_count": 76,
   "metadata": {},
   "outputs": [],
   "source": [
    "\n",
    "# def generate_negative_old(data):\n",
    "#     import uuid\n",
    "#     unique_pubmeds = data[\"pubmedId\"].unique()\n",
    "#     data_fake = pd.DataFrame(columns=data.columns)\n",
    "\n",
    "#     num_fake_records = int( .50 * len(data))\n",
    "#     #TODO: Randomise this, biased via\n",
    "#     for u in unique_pubmeds:\n",
    "#         fake_records = pd.DataFrame(data[ data.pubmedId != u]  ).sample(n=1) \n",
    "#         fake_records.loc[:, \"interactionId\"] =  fake_records.interactionId.astype(str) + \"_\" + str(uuid.uuid4() ) + \"_\" + \"fake\"\n",
    "#         fake_records.loc[:,\"isValid\"] = 'False' \n",
    "#         ## Copy of the pubmeid abtract and the title from a id\n",
    "#         fake_records.loc[:,\"pubmedId\"] = u\n",
    "#         fake_records.loc[:, \"pubmedTitle\"] =  data[ data.pubmedId == u].iloc[0][\"pubmedTitle\"]\n",
    "#         fake_records.loc[:, \"pubmedabstract\"] =  data[ data.pubmedId == u].iloc[0][\"pubmedabstract\"]\n",
    "\n",
    "\n",
    "#         data_fake = data_fake.append(fake_records, ignore_index=True)\n",
    "#         if len(data_fake) > num_fake_records:\n",
    "#             break\n",
    "            \n",
    "#     return data_fake\n",
    "  \n",
    "    "
   ]
  },
  {
   "cell_type": "code",
   "execution_count": 77,
   "metadata": {},
   "outputs": [],
   "source": [
    "\n",
    "def generate_negative_entity(data, enity_annotations_file):\n",
    "    from dataformatters.gnormplusPubtatorReader import GnormplusPubtatorReader\n",
    "    from datatransformer.gnormplusNegativeSamplesAugmentor import GnormplusNegativeSamplesAugmentor\n",
    "    from datatransformer.ncbiGeneUniprotLocalDbMapper import NcbiGeneUniprotLocalDbMapper\n",
    "\n",
    "    import os\n",
    "    \n",
    " \n",
    "    localdb = human_idmapping_dat\n",
    "    with open(localdb, \"r\") as dbhandle:\n",
    "        mapper = NcbiGeneUniprotLocalDbMapper(dbhandle, \"GeneID\") \n",
    "            \n",
    "        #Read gnormplus identified entities\n",
    "        reader = GnormplusPubtatorReader()\n",
    "        with open(enity_annotations_file,\"r\") as handle:\n",
    "            annotations_json = list(reader(handle))\n",
    "\n",
    "        negative_samples_generator = GnormplusNegativeSamplesAugmentor(annotations_json, mapper)\n",
    "        result = negative_samples_generator.transform(data)\n",
    "        \n",
    "        \n",
    "\n",
    "        return result"
   ]
  },
  {
   "cell_type": "code",
   "execution_count": 78,
   "metadata": {},
   "outputs": [],
   "source": [
    "\n",
    "def generate_negative_interaction(data):\n",
    "\n",
    "    from datatransformer.interactionTypeNegativeSamplesAugmentor import InteractionTypeNegativeSamplesAugmentor\n",
    "\n",
    "    import os\n",
    "    \n",
    "    negative_samples_generator = InteractionTypeNegativeSamplesAugmentor()\n",
    "    result = negative_samples_generator.transform(data)\n",
    "\n",
    "\n",
    "    return result"
   ]
  },
  {
   "cell_type": "code",
   "execution_count": 79,
   "metadata": {},
   "outputs": [],
   "source": [
    "def generate_negative_missing_participant(data):\n",
    "\n",
    "\n",
    "    import os\n",
    "    \n",
    "    data['isValid'] = data['isValid'].mask( (data['bothParticpantsExist'] == False) & (data['isValid'] == True) , False)\n",
    "\n",
    "\n",
    "    return data"
   ]
  },
  {
   "cell_type": "code",
   "execution_count": 80,
   "metadata": {
    "scrolled": true
   },
   "outputs": [],
   "source": [
    "def plot_negative_distribution(train,val, test, heading, fig, ax  ):\n",
    "    import matplotlib.pyplot as plt\n",
    "    import matplotlib.ticker as mtick\n",
    "    fig.suptitle(heading)\n",
    "    #fig, ax = plt.subplots( 7,1, figsize=(45,30))\n",
    "    c_ax= ax[0]\n",
    "    c_ax.set_facecolor('xkcd:white')\n",
    "    c_ax.yaxis.set_major_formatter(mtick.PercentFormatter())\n",
    "    c_ax.set_title( \"Training PPI {}\".format( train.shape[0]))\n",
    "    c_ax.yaxis.set_major_locator(plt.FixedLocator(range(0,100, 10)))\n",
    "    train.groupby(['interactionType', 'isValid']).size().groupby( level=0).apply(lambda x:\n",
    "                                                     100 * x / float(x.sum())).unstack().plot.bar(ax=c_ax, hatch = '/')\n",
    "\n",
    "\n",
    "\n",
    "    c_ax= ax[1]\n",
    "    c_ax.set_facecolor('xkcd:white')\n",
    "    c_ax.yaxis.set_major_formatter(mtick.PercentFormatter())\n",
    "    c_ax.set_title( \"Validation PPI {}\".format(val.shape[0]))\n",
    "    c_ax.yaxis.set_major_locator(plt.FixedLocator(range(0,100, 10)))\n",
    "    val.groupby(['interactionType', 'isValid']).size().groupby( level=0).apply(lambda x:\n",
    "                                                     100 * x / float(x.sum())).unstack().plot.bar(ax=c_ax, hatch = '/')\n",
    "\n",
    "\n",
    "\n",
    "    c_ax= ax[2]\n",
    "    c_ax.set_facecolor('xkcd:white')\n",
    "    c_ax.yaxis.set_major_formatter(mtick.PercentFormatter())\n",
    "    c_ax.set_title( \"Test PPI {}\".format(test.shape[0]))\n",
    "    c_ax.yaxis.set_major_locator(plt.FixedLocator(range(0,100, 10)))\n",
    "    test.groupby(['interactionType', 'isValid']).size().groupby( level=0).apply(lambda x:\n",
    "                                                     100 * x / float(x.sum())).unstack().plot.bar(ax=c_ax, hatch = '/')\n",
    "\n",
    "\n",
    "\n",
    "   "
   ]
  },
  {
   "cell_type": "markdown",
   "metadata": {},
   "source": [
    "#### Step1: Add negative entity pairs"
   ]
  },
  {
   "cell_type": "code",
   "execution_count": 81,
   "metadata": {
    "scrolled": true
   },
   "outputs": [],
   "source": [
    "\n",
    "train = generate_negative_entity(train, annotations_file)\n",
    "test = generate_negative_entity(test,  annotations_file)\n",
    "val = generate_negative_entity(val, annotations_file)\n",
    "\n"
   ]
  },
  {
   "cell_type": "code",
   "execution_count": 82,
   "metadata": {},
   "outputs": [
    {
     "data": {
      "image/png": "[encoded data removed]",
      "text/plain": [
       "<Figure size 1080x360 with 3 Axes>"
      ]
     },
     "metadata": {
      "needs_background": "light"
     },
     "output_type": "display_data"
    }
   ],
   "source": [
    "fig, ax = plt.subplots( 1,3, figsize=(15,5))\n",
    "\n",
    "plt.style.use('grayscale')\n",
    "\n",
    "plot_negative_distribution(train,  val, test, \"Distribution after adding negative entity pairs\",fig, ax)\n",
    "plt.savefig(\"EntityNegativeSample.eps\",bbox_inches = \"tight\")\n",
    "plt.savefig(\"EntityNegativeSample.svg\",bbox_inches = \"tight\")\n",
    "plt.show()"
   ]
  },
  {
   "cell_type": "code",
   "execution_count": 83,
   "metadata": {},
   "outputs": [
    {
     "data": {
      "image/png": "[encoded data removed]",
      "text/plain": [
       "<Figure size 1080x1440 with 3 Axes>"
      ]
     },
     "metadata": {},
     "output_type": "display_data"
    }
   ],
   "source": [
    "import matplotlib.pyplot as plt\n",
    "fig, ax = plt.subplots(1,3, figsize=(15,20))\n",
    "\n",
    "ax[0].set_title('Train class distribution: negative entities only')\n",
    "train.isValid.value_counts().plot.pie(autopct='%.2f',  ax=ax[0])\n",
    "\n",
    "ax[1].set_title('Validation class distribution: negative entities only')\n",
    "val.isValid.value_counts().plot.pie(autopct='%.2f',  ax=ax[1])\n",
    "\n",
    "\n",
    "ax[2].set_title('Test class distribution: negative entities only')\n",
    "test.isValid.value_counts().plot.pie(autopct='%.2f',  ax=ax[2])\n",
    "\n",
    "\n",
    "\n",
    "plt.savefig(\"PositiveVsNegative_EntityOnly.png\")"
   ]
  },
  {
   "cell_type": "code",
   "execution_count": 84,
   "metadata": {},
   "outputs": [],
   "source": [
    "train_file =\"train_unique_negative_entity_only.json\"\n",
    "train.to_json(train_file)\n",
    "\n",
    "test_file =\"test_unique_negative_entity_only.json\"\n",
    "test.to_json(test_file)\n",
    "\n",
    "val_file = \"val_unique_negative_entity_only.json\"\n",
    "val.to_json(val_file)\n",
    "\n"
   ]
  },
  {
   "cell_type": "code",
   "execution_count": 85,
   "metadata": {},
   "outputs": [
    {
     "name": "stdout",
     "output_type": "stream",
     "text": [
      "2021-02-20 18:53:19,583 - helpers.s3_util - INFO - Uploading file train_unique_negative_entity_only.json s3://aegovan-data/processed_dataset/train_unique_negative_entity_only.json\n",
      "2021-02-20 18:53:31,510 - helpers.s3_util - INFO - Uploading file test_unique_negative_entity_only.json s3://aegovan-data/processed_dataset/test_unique_negative_entity_only.json\n",
      "2021-02-20 18:53:39,250 - helpers.s3_util - INFO - Uploading file val_unique_negative_entity_only.json s3://aegovan-data/processed_dataset/val_unique_negative_entity_only.json\n"
     ]
    }
   ],
   "source": [
    "\n",
    "\n",
    "from helpers.s3_util import S3Util\n",
    "\n",
    "S3Util().uploadfile(train_file, \"{}/\".format( s3_results_prefix.rstrip(\"/\")) )\n",
    "S3Util().uploadfile(test_file, \"{}/\".format( s3_results_prefix.rstrip(\"/\")) )\n",
    "S3Util().uploadfile(val_file, \"{}/\".format( s3_results_prefix.rstrip(\"/\")) )"
   ]
  },
  {
   "cell_type": "code",
   "execution_count": 86,
   "metadata": {},
   "outputs": [
    {
     "data": {
      "text/html": [
       "<div>\n",
       "<style scoped>\n",
       "    .dataframe tbody tr th:only-of-type {\n",
       "        vertical-align: middle;\n",
       "    }\n",
       "\n",
       "    .dataframe tbody tr th {\n",
       "        vertical-align: top;\n",
       "    }\n",
       "\n",
       "    .dataframe thead th {\n",
       "        text-align: right;\n",
       "    }\n",
       "</style>\n",
       "<table border=\"1\" class=\"dataframe\">\n",
       "  <thead>\n",
       "    <tr style=\"text-align: right;\">\n",
       "      <th>isValid</th>\n",
       "      <th>False</th>\n",
       "      <th>True</th>\n",
       "    </tr>\n",
       "    <tr>\n",
       "      <th>interactionType</th>\n",
       "      <th></th>\n",
       "      <th></th>\n",
       "    </tr>\n",
       "  </thead>\n",
       "  <tbody>\n",
       "    <tr>\n",
       "      <th>acetylation</th>\n",
       "      <td>37</td>\n",
       "      <td>6</td>\n",
       "    </tr>\n",
       "    <tr>\n",
       "      <th>dephosphorylation</th>\n",
       "      <td>198</td>\n",
       "      <td>40</td>\n",
       "    </tr>\n",
       "    <tr>\n",
       "      <th>deubiquitination</th>\n",
       "      <td>4</td>\n",
       "      <td>2</td>\n",
       "    </tr>\n",
       "    <tr>\n",
       "      <th>methylation</th>\n",
       "      <td>33</td>\n",
       "      <td>11</td>\n",
       "    </tr>\n",
       "    <tr>\n",
       "      <th>phosphorylation</th>\n",
       "      <td>953</td>\n",
       "      <td>151</td>\n",
       "    </tr>\n",
       "    <tr>\n",
       "      <th>ubiquitination</th>\n",
       "      <td>21</td>\n",
       "      <td>5</td>\n",
       "    </tr>\n",
       "  </tbody>\n",
       "</table>\n",
       "</div>"
      ],
      "text/plain": [
       "isValid            False  True \n",
       "interactionType                \n",
       "acetylation           37      6\n",
       "dephosphorylation    198     40\n",
       "deubiquitination       4      2\n",
       "methylation           33     11\n",
       "phosphorylation      953    151\n",
       "ubiquitination        21      5"
      ]
     },
     "execution_count": 86,
     "metadata": {},
     "output_type": "execute_result"
    }
   ],
   "source": [
    "train.groupby(['interactionType', 'isValid']).size().unstack()"
   ]
  },
  {
   "cell_type": "code",
   "execution_count": 87,
   "metadata": {},
   "outputs": [
    {
     "data": {
      "text/html": [
       "<div>\n",
       "<style scoped>\n",
       "    .dataframe tbody tr th:only-of-type {\n",
       "        vertical-align: middle;\n",
       "    }\n",
       "\n",
       "    .dataframe tbody tr th {\n",
       "        vertical-align: top;\n",
       "    }\n",
       "\n",
       "    .dataframe thead th {\n",
       "        text-align: right;\n",
       "    }\n",
       "</style>\n",
       "<table border=\"1\" class=\"dataframe\">\n",
       "  <thead>\n",
       "    <tr style=\"text-align: right;\">\n",
       "      <th>isValid</th>\n",
       "      <th>False</th>\n",
       "      <th>True</th>\n",
       "    </tr>\n",
       "    <tr>\n",
       "      <th>interactionType</th>\n",
       "      <th></th>\n",
       "      <th></th>\n",
       "    </tr>\n",
       "  </thead>\n",
       "  <tbody>\n",
       "    <tr>\n",
       "      <th>acetylation</th>\n",
       "      <td>9</td>\n",
       "      <td>1</td>\n",
       "    </tr>\n",
       "    <tr>\n",
       "      <th>dephosphorylation</th>\n",
       "      <td>60</td>\n",
       "      <td>7</td>\n",
       "    </tr>\n",
       "    <tr>\n",
       "      <th>methylation</th>\n",
       "      <td>9</td>\n",
       "      <td>1</td>\n",
       "    </tr>\n",
       "    <tr>\n",
       "      <th>phosphorylation</th>\n",
       "      <td>149</td>\n",
       "      <td>21</td>\n",
       "    </tr>\n",
       "    <tr>\n",
       "      <th>ubiquitination</th>\n",
       "      <td>5</td>\n",
       "      <td>1</td>\n",
       "    </tr>\n",
       "  </tbody>\n",
       "</table>\n",
       "</div>"
      ],
      "text/plain": [
       "isValid            False  True \n",
       "interactionType                \n",
       "acetylation            9      1\n",
       "dephosphorylation     60      7\n",
       "methylation            9      1\n",
       "phosphorylation      149     21\n",
       "ubiquitination         5      1"
      ]
     },
     "execution_count": 87,
     "metadata": {},
     "output_type": "execute_result"
    }
   ],
   "source": [
    "val.groupby(['interactionType', 'isValid']).size().unstack()"
   ]
  },
  {
   "cell_type": "code",
   "execution_count": 88,
   "metadata": {},
   "outputs": [
    {
     "data": {
      "text/html": [
       "<div>\n",
       "<style scoped>\n",
       "    .dataframe tbody tr th:only-of-type {\n",
       "        vertical-align: middle;\n",
       "    }\n",
       "\n",
       "    .dataframe tbody tr th {\n",
       "        vertical-align: top;\n",
       "    }\n",
       "\n",
       "    .dataframe thead th {\n",
       "        text-align: right;\n",
       "    }\n",
       "</style>\n",
       "<table border=\"1\" class=\"dataframe\">\n",
       "  <thead>\n",
       "    <tr style=\"text-align: right;\">\n",
       "      <th>isValid</th>\n",
       "      <th>False</th>\n",
       "      <th>True</th>\n",
       "    </tr>\n",
       "    <tr>\n",
       "      <th>interactionType</th>\n",
       "      <th></th>\n",
       "      <th></th>\n",
       "    </tr>\n",
       "  </thead>\n",
       "  <tbody>\n",
       "    <tr>\n",
       "      <th>acetylation</th>\n",
       "      <td>5</td>\n",
       "      <td>1</td>\n",
       "    </tr>\n",
       "    <tr>\n",
       "      <th>dephosphorylation</th>\n",
       "      <td>27</td>\n",
       "      <td>7</td>\n",
       "    </tr>\n",
       "    <tr>\n",
       "      <th>methylation</th>\n",
       "      <td>7</td>\n",
       "      <td>3</td>\n",
       "    </tr>\n",
       "    <tr>\n",
       "      <th>phosphorylation</th>\n",
       "      <td>192</td>\n",
       "      <td>44</td>\n",
       "    </tr>\n",
       "    <tr>\n",
       "      <th>ubiquitination</th>\n",
       "      <td>14</td>\n",
       "      <td>1</td>\n",
       "    </tr>\n",
       "  </tbody>\n",
       "</table>\n",
       "</div>"
      ],
      "text/plain": [
       "isValid            False  True \n",
       "interactionType                \n",
       "acetylation            5      1\n",
       "dephosphorylation     27      7\n",
       "methylation            7      3\n",
       "phosphorylation      192     44\n",
       "ubiquitination        14      1"
      ]
     },
     "execution_count": 88,
     "metadata": {},
     "output_type": "execute_result"
    }
   ],
   "source": [
    "test.groupby(['interactionType', 'isValid']).size().unstack()"
   ]
  },
  {
   "cell_type": "code",
   "execution_count": 89,
   "metadata": {},
   "outputs": [
    {
     "data": {
      "text/html": [
       "<div>\n",
       "<style scoped>\n",
       "    .dataframe tbody tr th:only-of-type {\n",
       "        vertical-align: middle;\n",
       "    }\n",
       "\n",
       "    .dataframe tbody tr th {\n",
       "        vertical-align: top;\n",
       "    }\n",
       "\n",
       "    .dataframe thead th {\n",
       "        text-align: right;\n",
       "    }\n",
       "</style>\n",
       "<table border=\"1\" class=\"dataframe\">\n",
       "  <thead>\n",
       "    <tr style=\"text-align: right;\">\n",
       "      <th>isValid</th>\n",
       "      <th>False</th>\n",
       "      <th>True</th>\n",
       "    </tr>\n",
       "    <tr>\n",
       "      <th>interactionType</th>\n",
       "      <th></th>\n",
       "      <th></th>\n",
       "    </tr>\n",
       "  </thead>\n",
       "  <tbody>\n",
       "    <tr>\n",
       "      <th>acetylation</th>\n",
       "      <td>37</td>\n",
       "      <td>6</td>\n",
       "    </tr>\n",
       "    <tr>\n",
       "      <th>dephosphorylation</th>\n",
       "      <td>198</td>\n",
       "      <td>40</td>\n",
       "    </tr>\n",
       "    <tr>\n",
       "      <th>deubiquitination</th>\n",
       "      <td>4</td>\n",
       "      <td>2</td>\n",
       "    </tr>\n",
       "    <tr>\n",
       "      <th>methylation</th>\n",
       "      <td>33</td>\n",
       "      <td>11</td>\n",
       "    </tr>\n",
       "    <tr>\n",
       "      <th>phosphorylation</th>\n",
       "      <td>953</td>\n",
       "      <td>151</td>\n",
       "    </tr>\n",
       "    <tr>\n",
       "      <th>ubiquitination</th>\n",
       "      <td>21</td>\n",
       "      <td>5</td>\n",
       "    </tr>\n",
       "  </tbody>\n",
       "</table>\n",
       "</div>"
      ],
      "text/plain": [
       "isValid            False  True \n",
       "interactionType                \n",
       "acetylation           37      6\n",
       "dephosphorylation    198     40\n",
       "deubiquitination       4      2\n",
       "methylation           33     11\n",
       "phosphorylation      953    151\n",
       "ubiquitination        21      5"
      ]
     },
     "execution_count": 89,
     "metadata": {},
     "output_type": "execute_result"
    }
   ],
   "source": [
    "pd.DataFrame(train.groupby(['interactionType', 'isValid']).size().unstack())"
   ]
  },
  {
   "cell_type": "code",
   "execution_count": 90,
   "metadata": {},
   "outputs": [
    {
     "name": "stdout",
     "output_type": "stream",
     "text": [
      "\\begin{tabular}{lrrrrrrrr}\n",
      "\\toprule\n",
      "{} &  False\\_train &  True\\_train &  False\\_val &  True\\_val &  False &  True &  TotalFalse &  TotalTrue \\\\\n",
      "interactionType   &              &             &            &           &        &       &             &            \\\\\n",
      "\\midrule\n",
      "acetylation       &           37 &           6 &          9 &         1 &      5 &     1 &          51 &          8 \\\\\n",
      "dephosphorylation &          198 &          40 &         60 &         7 &     27 &     7 &         285 &         54 \\\\\n",
      "deubiquitination  &            4 &           2 &          0 &         0 &      0 &     0 &           4 &          2 \\\\\n",
      "methylation       &           33 &          11 &          9 &         1 &      7 &     3 &          49 &         15 \\\\\n",
      "phosphorylation   &          953 &         151 &        149 &        21 &    192 &    44 &        1294 &        216 \\\\\n",
      "ubiquitination    &           21 &           5 &          5 &         1 &     14 &     1 &          40 &          7 \\\\\n",
      "Total             &         1246 &         215 &        232 &        31 &    245 &    56 &        1723 &        302 \\\\\n",
      "\\bottomrule\n",
      "\\end{tabular}\n",
      "\n"
     ]
    }
   ],
   "source": [
    "t = pd.DataFrame(train.groupby(['interactionType', 'isValid']).size().unstack())\n",
    "t.columns =[\"False\", \"True\"]\n",
    "\n",
    "v = pd.DataFrame(val.groupby(['interactionType', 'isValid']).size().unstack())\n",
    "v.columns = [\"False\", \"True\"]\n",
    "\n",
    "b = pd.DataFrame(test.groupby(['interactionType', 'isValid']).size().unstack())\n",
    "b.columns = [\"False\", \"True\"]\n",
    "\n",
    "m = t.merge(v, left_index = True, right_index=True, how=\"left\", suffixes=('_train', '_val'))\\\n",
    "       .merge(b, left_index = True, right_index=True, how=\"left\")\\\n",
    "\n",
    "m=m.fillna(0)\n",
    "\n",
    "m.loc[\"Total\"] = m.apply(lambda x: sum(x))\n",
    "\n",
    "m[\"TotalFalse\"] =  m.apply(lambda x: sum( [ v for k,v in x.items() if 'false' in k.lower()]), axis=1)\n",
    "m[\"TotalTrue\"] =  m.apply(lambda x: sum( [ v for k,v in x.items() if 'true' in k.lower()]), axis=1)\n",
    "\n",
    "\n",
    "\n",
    "print(m.astype('int32').to_latex())\n",
    "    "
   ]
  },
  {
   "cell_type": "code",
   "execution_count": 91,
   "metadata": {},
   "outputs": [],
   "source": [
    "feature_cols = [\"pubmedId\",\"pubmedabstract\",\"annotations\", \"num_unique_gene_normalised_id\", \"num_gene_normalised_id\", \"normalised_abstract\", \"participant1Id\", \"participant2Id\", \"gene_to_uniprot_map\"]\n",
    "\n",
    "derive_class_func = lambda r: r[\"interactionType\"] if r[\"isValid\"] else \"other\"\n"
   ]
  },
  {
   "cell_type": "code",
   "execution_count": 92,
   "metadata": {},
   "outputs": [
    {
     "name": "stderr",
     "output_type": "stream",
     "text": [
      "/Users/aeg/venv/PPI-typed-relation-extractor/lib/python3.7/site-packages/ipykernel_launcher.py:2: SettingWithCopyWarning: \n",
      "A value is trying to be set on a copy of a slice from a DataFrame.\n",
      "Try using .loc[row_indexer,col_indexer] = value instead\n",
      "\n",
      "See the caveats in the documentation: https://pandas.pydata.org/pandas-docs/stable/user_guide/indexing.html#returning-a-view-versus-a-copy\n",
      "  \n",
      "/Users/aeg/venv/PPI-typed-relation-extractor/lib/python3.7/site-packages/ipykernel_launcher.py:5: SettingWithCopyWarning: \n",
      "A value is trying to be set on a copy of a slice from a DataFrame.\n",
      "Try using .loc[row_indexer,col_indexer] = value instead\n",
      "\n",
      "See the caveats in the documentation: https://pandas.pydata.org/pandas-docs/stable/user_guide/indexing.html#returning-a-view-versus-a-copy\n",
      "  \"\"\"\n",
      "/Users/aeg/venv/PPI-typed-relation-extractor/lib/python3.7/site-packages/ipykernel_launcher.py:8: SettingWithCopyWarning: \n",
      "A value is trying to be set on a copy of a slice from a DataFrame.\n",
      "Try using .loc[row_indexer,col_indexer] = value instead\n",
      "\n",
      "See the caveats in the documentation: https://pandas.pydata.org/pandas-docs/stable/user_guide/indexing.html#returning-a-view-versus-a-copy\n",
      "  \n"
     ]
    }
   ],
   "source": [
    "\n",
    "train_multiclass = train[ feature_cols]\n",
    "train_multiclass[\"class\"] = train.apply( derive_class_func, axis=1)\n",
    "\n",
    "test_multiclass =  test[ feature_cols]\n",
    "test_multiclass[\"class\"] = test.apply( derive_class_func, axis=1)\n",
    "\n",
    "val_multiclass =  val[ feature_cols]\n",
    "val_multiclass[\"class\"] = val.apply( derive_class_func, axis=1)"
   ]
  },
  {
   "cell_type": "code",
   "execution_count": 93,
   "metadata": {},
   "outputs": [],
   "source": [
    "feature_cols = [\"pubmedId\",\"pubmedabstract\", \"annotations\", \"num_unique_gene_normalised_id\", \"num_gene_normalised_id\",\"normalised_abstract\", \"participant1Id\", \"participant2Id\",\"gene_to_uniprot_map\", \"class\"]\n",
    "\n",
    "\n",
    "train_multiclass = train_multiclass[ feature_cols]\n",
    "test_multiclass = test_multiclass[ feature_cols]\n",
    "val_multiclass = val_multiclass[ feature_cols]\n",
    "\n",
    "\n"
   ]
  },
  {
   "cell_type": "code",
   "execution_count": 94,
   "metadata": {},
   "outputs": [
    {
     "data": {
      "text/plain": [
       "other                1246\n",
       "phosphorylation       151\n",
       "dephosphorylation      40\n",
       "methylation            11\n",
       "acetylation             6\n",
       "ubiquitination          5\n",
       "deubiquitination        2\n",
       "Name: class, dtype: int64"
      ]
     },
     "execution_count": 94,
     "metadata": {},
     "output_type": "execute_result"
    }
   ],
   "source": [
    "train_multiclass[\"class\"].value_counts()"
   ]
  },
  {
   "cell_type": "code",
   "execution_count": 95,
   "metadata": {},
   "outputs": [
    {
     "data": {
      "text/plain": [
       "other                245\n",
       "phosphorylation       44\n",
       "dephosphorylation      7\n",
       "methylation            3\n",
       "ubiquitination         1\n",
       "acetylation            1\n",
       "Name: class, dtype: int64"
      ]
     },
     "execution_count": 95,
     "metadata": {},
     "output_type": "execute_result"
    }
   ],
   "source": [
    "test_multiclass[\"class\"].value_counts()"
   ]
  },
  {
   "cell_type": "code",
   "execution_count": 96,
   "metadata": {},
   "outputs": [
    {
     "data": {
      "text/plain": [
       "other                232\n",
       "phosphorylation       21\n",
       "dephosphorylation      7\n",
       "methylation            1\n",
       "ubiquitination         1\n",
       "acetylation            1\n",
       "Name: class, dtype: int64"
      ]
     },
     "execution_count": 96,
     "metadata": {},
     "output_type": "execute_result"
    }
   ],
   "source": [
    "val_multiclass[\"class\"].value_counts()"
   ]
  },
  {
   "cell_type": "code",
   "execution_count": 97,
   "metadata": {},
   "outputs": [],
   "source": [
    "train_multi_file=\"train_multiclass.json\"\n",
    "train_multiclass.to_json(train_multi_file)\n",
    "\n",
    "test_multi_file=\"test_multiclass.json\"\n",
    "test_multiclass.to_json(test_multi_file)\n",
    "\n",
    "val_multi_file=\"val_multiclass.json\"\n",
    "val_multiclass.to_json(val_multi_file)"
   ]
  },
  {
   "cell_type": "code",
   "execution_count": 98,
   "metadata": {},
   "outputs": [
    {
     "data": {
      "text/html": [
       "<div>\n",
       "<style scoped>\n",
       "    .dataframe tbody tr th:only-of-type {\n",
       "        vertical-align: middle;\n",
       "    }\n",
       "\n",
       "    .dataframe tbody tr th {\n",
       "        vertical-align: top;\n",
       "    }\n",
       "\n",
       "    .dataframe thead th {\n",
       "        text-align: right;\n",
       "    }\n",
       "</style>\n",
       "<table border=\"1\" class=\"dataframe\">\n",
       "  <thead>\n",
       "    <tr style=\"text-align: right;\">\n",
       "      <th></th>\n",
       "      <th>pubmedId</th>\n",
       "      <th>pubmedabstract</th>\n",
       "      <th>annotations</th>\n",
       "      <th>num_unique_gene_normalised_id</th>\n",
       "      <th>num_gene_normalised_id</th>\n",
       "      <th>normalised_abstract</th>\n",
       "      <th>participant1Id</th>\n",
       "      <th>participant2Id</th>\n",
       "      <th>gene_to_uniprot_map</th>\n",
       "      <th>class</th>\n",
       "    </tr>\n",
       "  </thead>\n",
       "  <tbody>\n",
       "    <tr>\n",
       "      <th>0</th>\n",
       "      <td>17141222</td>\n",
       "      <td>Regulation of growth factor dependent cell survival is crucial for development and disease progression. Here, we report a novel function of Src kinases as a negative regulator of platelet-derived growth factor (PDGF) dependent cell survival. We characterized a series of PDGF alpha receptor (PDGFRA) mutants, which lack the binding sites for Src, phosphatidylinositol 3'-kinase (PI3K), SHP-2 or phospholipase C-gamma. We found that PDGFRA-dependent cell survival was mainly mediated through activation of PI3K, and was negatively regulated by Src. Characterization of the downstream signaling events revealed that PI3K activates the protein kinase Akt, which in turn phosphorylates and thus inactivates proapoptotic Forkhead transcription factors. Src phosphorylates the ubiquitin-ligase c-Cbl, which is required for degradation of the activated receptor. Consequently, overexpression of c-Cbl prevented PDGFRA-mediated cell survival, whereas it did not affect this response, when Src was unable to associate with the receptor. This novel function of Src in antiapoptotic signaling introduces Src kinases as an interesting therapeutic target in apoptosis related diseases.</td>\n",
       "      <td>[{'start': '140', 'end': '143', 'name': 'Src', 'type': 'Gene', 'normalised_id': '6714'}, {'start': '292', 'end': '298', 'name': 'PDGFRA', 'type': 'Gene', 'normalised_id': '5156'}, {'start': '342', 'end': '345', 'name': 'Src', 'type': 'Gene', 'normalised_id': '6714'}, {'start': '347', 'end': '377', 'name': 'phosphatidylinositol 3'-kinase', 'type': 'Gene', 'normalised_id': '5294'}, {'start': '379', 'end': '383', 'name': 'PI3K', 'type': 'Gene', 'normalised_id': '5294'}, {'start': '386', 'end': '391', 'name': 'SHP-2', 'type': 'Gene', 'normalised_id': '5781'}, {'start': '432', 'end': '438', 'name': 'PDGFRA', 'type': 'Gene', 'normalised_id': '5156'}, {'start': '505', 'end': '509', 'name': 'PI3K', 'type': 'Gene', 'normalised_id': '5294'}, {'start': '543', 'end': '546', 'name': 'Src', 'type': 'Gene', 'normalised_id': '6714'}, {'start': '614', 'end': '618', 'name': 'PI3K', 'type': 'Gene', 'normalised_id': '5294'}, {'start': '748', 'end': '751', 'name': 'Src', 'type': 'Gene', 'normalised_id': '6714'}, {'start': '788', 'end': '793', 'name': 'c-Cbl', 'type': 'Gene', 'normalised_id': '867'}, {'start': '888', 'end': '893', 'name': 'c-Cbl', 'type': 'Gene', 'normalised_id': '867'}, {'start': '904', 'end': '910', 'name': 'PDGFRA', 'type': 'Gene', 'normalised_id': '5156'}, {'start': '981', 'end': '984', 'name': 'Src', 'type': 'Gene', 'normalised_id': '6714'}, {'start': '1051', 'end': '1054', 'name': 'Src', 'type': 'Gene', 'normalised_id': '6714'}, {'start': '1093', 'end': '1096', 'name': 'Src', 'type': 'Gene', 'normalised_id': '6714'}]</td>\n",
       "      <td>5</td>\n",
       "      <td>17</td>\n",
       "      <td>Regulation of growth factor dependent cell survival is crucial for development and disease progression. Here, we report a novel function of P12931 kinases as a negative regulator of platelet-derived growth factor (PDGF) dependent cell survival. We characterized a series of PDGF alpha receptor (P16234) mutants, which lack the binding sites for P12931, P48736 (P48736), Q06124 or phospholipase C-gamma. We found that P16234-dependent cell survival was mainly mediated through activation of P48736, and was negatively regulated by P12931. Characterization of the downstream signaling events revealed that P48736 activates the protein kinase Akt, which in turn phosphorylates and thus inactivates proapoptotic Forkhead transcription factors. P12931 phosphorylates the ubiquitin-ligase P22681, which is required for degradation of the activated receptor. Consequently, overexpression of P22681 prevented P16234-mediated cell survival, whereas it did not affect this response, when P12931 was unable to associate with the receptor. This novel function of P12931 in antiapoptotic signaling introduces P12931 kinases as an interesting therapeutic target in apoptosis related diseases.</td>\n",
       "      <td>P22681</td>\n",
       "      <td>P12931</td>\n",
       "      <td>{'6714': ['P12931'], '5294': ['P48736', 'A0A024R720', 'A8K9G9'], '867': ['P22681'], '5156': ['P16234'], '5781': ['Q06124']}</td>\n",
       "      <td>phosphorylation</td>\n",
       "    </tr>\n",
       "  </tbody>\n",
       "</table>\n",
       "</div>"
      ],
      "text/plain": [
       "   pubmedId  \\\n",
       "0  17141222   \n",
       "\n",
       "                                                                                                                                                                                                                                                                                                                                                                                                                                                                                                                                                                                                                                                                                                                                                                                                                                                                                                                                                                                                                                                                                                                                                                                                         pubmedabstract  \\\n",
       "0  Regulation of growth factor dependent cell survival is crucial for development and disease progression. Here, we report a novel function of Src kinases as a negative regulator of platelet-derived growth factor (PDGF) dependent cell survival. We characterized a series of PDGF alpha receptor (PDGFRA) mutants, which lack the binding sites for Src, phosphatidylinositol 3'-kinase (PI3K), SHP-2 or phospholipase C-gamma. We found that PDGFRA-dependent cell survival was mainly mediated through activation of PI3K, and was negatively regulated by Src. Characterization of the downstream signaling events revealed that PI3K activates the protein kinase Akt, which in turn phosphorylates and thus inactivates proapoptotic Forkhead transcription factors. Src phosphorylates the ubiquitin-ligase c-Cbl, which is required for degradation of the activated receptor. Consequently, overexpression of c-Cbl prevented PDGFRA-mediated cell survival, whereas it did not affect this response, when Src was unable to associate with the receptor. This novel function of Src in antiapoptotic signaling introduces Src kinases as an interesting therapeutic target in apoptosis related diseases.   \n",
       "\n",
       "                                                                                                                                                                                                                                                                                                                                                                                                                                                                                                                                                                                                                                                                                                                                                                                                                                                                                                                                                                                                                                                                                                                                                                                                                                                                                                                                                                                                                                                                                                                                                                                               annotations  \\\n",
       "0  [{'start': '140', 'end': '143', 'name': 'Src', 'type': 'Gene', 'normalised_id': '6714'}, {'start': '292', 'end': '298', 'name': 'PDGFRA', 'type': 'Gene', 'normalised_id': '5156'}, {'start': '342', 'end': '345', 'name': 'Src', 'type': 'Gene', 'normalised_id': '6714'}, {'start': '347', 'end': '377', 'name': 'phosphatidylinositol 3'-kinase', 'type': 'Gene', 'normalised_id': '5294'}, {'start': '379', 'end': '383', 'name': 'PI3K', 'type': 'Gene', 'normalised_id': '5294'}, {'start': '386', 'end': '391', 'name': 'SHP-2', 'type': 'Gene', 'normalised_id': '5781'}, {'start': '432', 'end': '438', 'name': 'PDGFRA', 'type': 'Gene', 'normalised_id': '5156'}, {'start': '505', 'end': '509', 'name': 'PI3K', 'type': 'Gene', 'normalised_id': '5294'}, {'start': '543', 'end': '546', 'name': 'Src', 'type': 'Gene', 'normalised_id': '6714'}, {'start': '614', 'end': '618', 'name': 'PI3K', 'type': 'Gene', 'normalised_id': '5294'}, {'start': '748', 'end': '751', 'name': 'Src', 'type': 'Gene', 'normalised_id': '6714'}, {'start': '788', 'end': '793', 'name': 'c-Cbl', 'type': 'Gene', 'normalised_id': '867'}, {'start': '888', 'end': '893', 'name': 'c-Cbl', 'type': 'Gene', 'normalised_id': '867'}, {'start': '904', 'end': '910', 'name': 'PDGFRA', 'type': 'Gene', 'normalised_id': '5156'}, {'start': '981', 'end': '984', 'name': 'Src', 'type': 'Gene', 'normalised_id': '6714'}, {'start': '1051', 'end': '1054', 'name': 'Src', 'type': 'Gene', 'normalised_id': '6714'}, {'start': '1093', 'end': '1096', 'name': 'Src', 'type': 'Gene', 'normalised_id': '6714'}]   \n",
       "\n",
       "   num_unique_gene_normalised_id  num_gene_normalised_id  \\\n",
       "0                              5                      17   \n",
       "\n",
       "                                                                                                                                                                                                                                                                                                                                                                                                                                                                                                                                                                                                                                                                                                                                                                                                                                                                                                                                                                                                                                                                                                                                                                                                          normalised_abstract  \\\n",
       "0  Regulation of growth factor dependent cell survival is crucial for development and disease progression. Here, we report a novel function of P12931 kinases as a negative regulator of platelet-derived growth factor (PDGF) dependent cell survival. We characterized a series of PDGF alpha receptor (P16234) mutants, which lack the binding sites for P12931, P48736 (P48736), Q06124 or phospholipase C-gamma. We found that P16234-dependent cell survival was mainly mediated through activation of P48736, and was negatively regulated by P12931. Characterization of the downstream signaling events revealed that P48736 activates the protein kinase Akt, which in turn phosphorylates and thus inactivates proapoptotic Forkhead transcription factors. P12931 phosphorylates the ubiquitin-ligase P22681, which is required for degradation of the activated receptor. Consequently, overexpression of P22681 prevented P16234-mediated cell survival, whereas it did not affect this response, when P12931 was unable to associate with the receptor. This novel function of P12931 in antiapoptotic signaling introduces P12931 kinases as an interesting therapeutic target in apoptosis related diseases.   \n",
       "\n",
       "  participant1Id participant2Id  \\\n",
       "0         P22681         P12931   \n",
       "\n",
       "                                                                                                           gene_to_uniprot_map  \\\n",
       "0  {'6714': ['P12931'], '5294': ['P48736', 'A0A024R720', 'A8K9G9'], '867': ['P22681'], '5156': ['P16234'], '5781': ['Q06124']}   \n",
       "\n",
       "             class  \n",
       "0  phosphorylation  "
      ]
     },
     "execution_count": 98,
     "metadata": {},
     "output_type": "execute_result"
    }
   ],
   "source": [
    "val_multiclass.head(n=1)"
   ]
  },
  {
   "cell_type": "code",
   "execution_count": 99,
   "metadata": {},
   "outputs": [
    {
     "name": "stdout",
     "output_type": "stream",
     "text": [
      "2021-02-20 18:53:47,705 - helpers.s3_util - INFO - Uploading file val_multiclass.json s3://aegovan-data/processed_dataset/val_multiclass.json\n",
      "2021-02-20 18:53:54,865 - helpers.s3_util - INFO - Uploading file test_multiclass.json s3://aegovan-data/processed_dataset/test_multiclass.json\n",
      "2021-02-20 18:54:05,167 - helpers.s3_util - INFO - Uploading file train_multiclass.json s3://aegovan-data/processed_dataset/train_multiclass.json\n"
     ]
    }
   ],
   "source": [
    "from helpers.s3_util import S3Util\n",
    "\n",
    "S3Util().uploadfile(val_multi_file, \"{}/\".format( s3_results_prefix.rstrip(\"/\")) )\n",
    "S3Util().uploadfile(test_multi_file, \"{}/\".format( s3_results_prefix.rstrip(\"/\")) )\n",
    "S3Util().uploadfile(train_multi_file, \"{}/\".format( s3_results_prefix.rstrip(\"/\")) )"
   ]
  },
  {
   "cell_type": "code",
   "execution_count": 100,
   "metadata": {},
   "outputs": [],
   "source": [
    "train_multiclass.sample(n=50).to_json(\"sample_train_multiclass.json\")"
   ]
  }
 ],
 "metadata": {
  "kernelspec": {
   "display_name": "Python 3",
   "language": "python",
   "name": "python3"
  },
  "language_info": {
   "codemirror_mode": {
    "name": "ipython",
    "version": 3
   },
   "file_extension": ".py",
   "mimetype": "text/x-python",
   "name": "python",
   "nbconvert_exporter": "python",
   "pygments_lexer": "ipython3",
   "version": "3.7.4"
  }
 },
 "nbformat": 4,
 "nbformat_minor": 1
}
