{
 "cells": [
  {
   "cell_type": "markdown",
   "metadata": {
    "collapsed": true
   },
   "source": [
    "## Data Exploration"
   ]
  },
  {
   "cell_type": "code",
   "execution_count": 1,
   "metadata": {},
   "outputs": [],
   "source": [
    "\n",
    "s3_data =\"s3://aegovan-data/human_output/human_interactions_ppi_v2.json\"\n",
    "s3_annotations =\"s3://aegovan-data/processed_dataset/input_data_pubtator_annotated_human.txt\"\n",
    "s3_results_prefix = \"s3://aegovan-data/processed_dataset/\"\n",
    "human_idmapping_dat = \"/users/aeg/Downloads/HUMAN_9606_idmapping.dat\"\n",
    "idmapping_dat=\"./tmpmap.dat\""
   ]
  },
  {
   "cell_type": "code",
   "execution_count": 2,
   "metadata": {},
   "outputs": [
    {
     "name": "stdout",
     "output_type": "stream",
     "text": [
      "/bin/sh: $idmapping_dat: ambiguous redirect\n",
      " 6050174 ./tmpmap.dat\n"
     ]
    }
   ],
   "source": [
    "!cp $human_idmapping_dat $idmapping_dat\n",
    "!cat $mouse_idmapping_dat >> $idmapping_dat\n",
    "!wc -l $idmapping_dat"
   ]
  },
  {
   "cell_type": "code",
   "execution_count": 3,
   "metadata": {},
   "outputs": [],
   "source": [
    "import logging, sys\n",
    "\n",
    "# Set up logging\n",
    "logging.basicConfig(level=logging.getLevelName(\"INFO\"), handlers=[logging.StreamHandler(sys.stdout)],\n",
    "                        format='%(asctime)s - %(name)s - %(levelname)s - %(message)s')\n"
   ]
  },
  {
   "cell_type": "code",
   "execution_count": 4,
   "metadata": {},
   "outputs": [],
   "source": [
    "import boto3\n",
    "\n",
    "def download_single_file(bucket_name_path, local_path):\n",
    "    index = bucket_name_path.find(\"://\")\n",
    "\n",
    "    # remove the s3:// if present\n",
    "    if index > -1:\n",
    "        bucket_name_path = bucket_name_path[index + 3:]\n",
    "\n",
    "    key_start_index = bucket_name_path.find(\"/\")\n",
    "    bucket_name = bucket_name_path\n",
    "    key = \"/\"\n",
    "    if key_start_index > -1:\n",
    "        bucket_name = bucket_name_path[0:key_start_index]\n",
    "        key = bucket_name_path[key_start_index + 1:]\n",
    "        \n",
    "    client = boto3.resource('s3')\n",
    "    client.Bucket(bucket_name).download_file(key, local_path)\n"
   ]
  },
  {
   "cell_type": "code",
   "execution_count": 5,
   "metadata": {},
   "outputs": [],
   "source": [
    "data_file=\"input_data.json\"\n",
    "annotations_file=\"input_data_annotations.txt\""
   ]
  },
  {
   "cell_type": "code",
   "execution_count": 6,
   "metadata": {},
   "outputs": [
    {
     "name": "stdout",
     "output_type": "stream",
     "text": [
      "2021-01-28 22:32:31,659 - botocore.credentials - INFO - Found credentials in shared credentials file: ~/.aws/credentials\n"
     ]
    }
   ],
   "source": [
    "download_single_file(s3_data, data_file)"
   ]
  },
  {
   "cell_type": "code",
   "execution_count": 7,
   "metadata": {},
   "outputs": [],
   "source": [
    "download_single_file(s3_annotations, annotations_file)"
   ]
  },
  {
   "cell_type": "code",
   "execution_count": 8,
   "metadata": {},
   "outputs": [
    {
     "name": "stdout",
     "output_type": "stream",
     "text": [
      "Total number of records: 3381\n"
     ]
    }
   ],
   "source": [
    "\n",
    "import pandas as pd\n",
    "\n",
    "data = pd.read_json(data_file)\n",
    "\n",
    "print(\"Total number of records: {}\".format(data.shape[0]))"
   ]
  },
  {
   "cell_type": "code",
   "execution_count": 9,
   "metadata": {},
   "outputs": [
    {
     "data": {
      "text/plain": [
       "850"
      ]
     },
     "execution_count": 9,
     "metadata": {},
     "output_type": "execute_result"
    }
   ],
   "source": [
    "data.pubmedId.nunique()"
   ]
  },
  {
   "cell_type": "code",
   "execution_count": 10,
   "metadata": {},
   "outputs": [],
   "source": [
    "\n",
    "pd.set_option('display.max_columns', None)\n",
    "pd.set_option('display.max_colwidth', 10000)\n",
    "pd.set_option('display.max_rows', 100)\n",
    "\n",
    "import matplotlib.pyplot as plt\n",
    "plt.rcParams['font.family'] = 'sans-serif'\n",
    "plt.rcParams['font.sans-serif'] = ['Times']\n",
    "plt.rcParams.update({'font.size': 12})"
   ]
  },
  {
   "cell_type": "markdown",
   "metadata": {},
   "source": [
    "## Preliminary data transformations"
   ]
  },
  {
   "cell_type": "code",
   "execution_count": 11,
   "metadata": {},
   "outputs": [],
   "source": [
    "#TODO: Fix data format\n",
    "data[\"pubmedId\"] = data[\"pubmedId\"].astype(str)\n",
    "data[\"interactionId\"] = data[\"interactionId\"].astype(str)\n",
    "data[\"isValid\"] =  data.isNegative.isin(['false', '0', 'False'])\n",
    "data = data.drop('isNegative', axis=1)"
   ]
  },
  {
   "cell_type": "markdown",
   "metadata": {},
   "source": [
    "### Sneak preview of the data"
   ]
  },
  {
   "cell_type": "code",
   "execution_count": 12,
   "metadata": {},
   "outputs": [
    {
     "data": {
      "text/html": [
       "<div>\n",
       "<style scoped>\n",
       "    .dataframe tbody tr th:only-of-type {\n",
       "        vertical-align: middle;\n",
       "    }\n",
       "\n",
       "    .dataframe tbody tr th {\n",
       "        vertical-align: top;\n",
       "    }\n",
       "\n",
       "    .dataframe thead th {\n",
       "        text-align: right;\n",
       "    }\n",
       "</style>\n",
       "<table border=\"1\" class=\"dataframe\">\n",
       "  <thead>\n",
       "    <tr style=\"text-align: right;\">\n",
       "      <th></th>\n",
       "      <th>interactionId</th>\n",
       "      <th>interactionType</th>\n",
       "      <th>participants</th>\n",
       "      <th>pubmedId</th>\n",
       "      <th>pubmedTitle</th>\n",
       "      <th>pubmedabstract</th>\n",
       "      <th>isValid</th>\n",
       "    </tr>\n",
       "  </thead>\n",
       "  <tbody>\n",
       "    <tr>\n",
       "      <th>0</th>\n",
       "      <td>1585513</td>\n",
       "      <td>phosphorylation</td>\n",
       "      <td>[{'uniprotid': 'Q10728', 'alias': [['mypt1_rat'], ['Protein phosphatase 1 regulatory subunit 12A'], ['Ppp1r12a'], ['Mbs'], ['Mypt1'], ['Myosin phosphatase-targeting subunit 1'], ['Protein phosphatase myosin-binding subunit'], ['MBSP'], ['Serine/threonine protein phosphatase PP1 smooth muscle regulatory subunit M110'], ['Protein phosphatase subunit 1M']], 'alternative_uniprots': ['Q62937', 'Q9WU33']}, {'uniprotid': 'O43293-2', 'alias': [['o43293-2'], ['Death-associated protein kinase 3'], ['ZIPK-S'], ['DAPK3'], ['ZIPK'], ['DAP-like kinase'], ['MYPT1 kinase'], ['Zipper-interacting protein kinase']], 'alternative_uniprots': []}]</td>\n",
       "      <td>17126281</td>\n",
       "      <td>None</td>\n",
       "      <td>Zipper-interacting protein kinase (ZIP kinase) has been thought to be involved in apoptosis and the C-terminal leucine zipper motif is important for its function. Recent studies have revealed that ZIP kinase also plays a role in regulating myosin phosphorylation. Here, we found novel ZIP kinase isoform in which the C-terminal non-kinase domain containing a leucine zipper is eliminated (hZIPK-S). hZIPK-S binds to myosin phosphatase targeting subunit 1(MYPT1) similar to the long isoform (hZIPK-L). In addition, we found that hZIPK-S as well as hZIPK-L bind to myosin. These results indicate that a leucine zipper is not critical for the binding of ZIP kinase to MYPT1 and myosin. Consistently, hZIPK-S localized with stress-fibers where they co-localized with myosin. The residues 278-311, the C-terminal side of the kinase domain common to the both isoforms, is involved in the binding to MYPT1, while the myosin binding domain is within the kinase domain. These results suggest that the newly found hZIPK-S as well as the long isoform play an important role in the regulation of myosin phosphorylation.</td>\n",
       "      <td>True</td>\n",
       "    </tr>\n",
       "    <tr>\n",
       "      <th>1</th>\n",
       "      <td>1585516</td>\n",
       "      <td>phosphorylation</td>\n",
       "      <td>[{'uniprotid': 'O43293-1', 'alias': [['o43293-1'], ['Death-associated protein kinase 3'], ['ZIPK-L'], ['DAPK3'], ['ZIPK'], ['DAP-like kinase'], ['MYPT1 kinase'], ['Zipper-interacting protein kinase']], 'alternative_uniprots': []}, {'uniprotid': 'Q10728', 'alias': [['mypt1_rat'], ['Protein phosphatase 1 regulatory subunit 12A'], ['Ppp1r12a'], ['Mbs'], ['Mypt1'], ['Myosin phosphatase-targeting subunit 1'], ['Protein phosphatase myosin-binding subunit'], ['MBSP'], ['Serine/threonine protein phosphatase PP1 smooth muscle regulatory subunit M110'], ['Protein phosphatase subunit 1M']], 'alternative_uniprots': ['Q62937', 'Q9WU33']}]</td>\n",
       "      <td>17126281</td>\n",
       "      <td>None</td>\n",
       "      <td>Zipper-interacting protein kinase (ZIP kinase) has been thought to be involved in apoptosis and the C-terminal leucine zipper motif is important for its function. Recent studies have revealed that ZIP kinase also plays a role in regulating myosin phosphorylation. Here, we found novel ZIP kinase isoform in which the C-terminal non-kinase domain containing a leucine zipper is eliminated (hZIPK-S). hZIPK-S binds to myosin phosphatase targeting subunit 1(MYPT1) similar to the long isoform (hZIPK-L). In addition, we found that hZIPK-S as well as hZIPK-L bind to myosin. These results indicate that a leucine zipper is not critical for the binding of ZIP kinase to MYPT1 and myosin. Consistently, hZIPK-S localized with stress-fibers where they co-localized with myosin. The residues 278-311, the C-terminal side of the kinase domain common to the both isoforms, is involved in the binding to MYPT1, while the myosin binding domain is within the kinase domain. These results suggest that the newly found hZIPK-S as well as the long isoform play an important role in the regulation of myosin phosphorylation.</td>\n",
       "      <td>True</td>\n",
       "    </tr>\n",
       "    <tr>\n",
       "      <th>10</th>\n",
       "      <td>575312</td>\n",
       "      <td>phosphorylation</td>\n",
       "      <td>[{'uniprotid': 'P02686-1', 'alias': [['p02686-1'], ['Myelin basic protein'], ['MBP'], ['Myelin A1 protein'], ['Myelin membrane encephalitogenic protein'], ['Golli-MBP1'], ['HOG7']], 'alternative_uniprots': []}, {'uniprotid': 'Q8I629', 'alias': [['q8i629_plaf7'], ['PF3D7_1201600']], 'alternative_uniprots': []}]</td>\n",
       "      <td>17064692</td>\n",
       "      <td>None</td>\n",
       "      <td>The canonical mitogen-activated protein kinase (MAPK) signal cascade was previously suggested to be atypical in the malaria parasite. This raises queries on the existence of alternative mediators of plasmodial MAPK pathways. This study describes, Pfnek3, a malarial protein kinase belonging to the NIMA (Never in Mitosis, Aspergillus) family. Endogenous Pfnek3 is expressed during late asexual to gametocyte stages and lacks some classical protein kinase sequence motifs. Moreover, Pfnek3 is phylogenetically distant from mammalian NIMA-kinases. Recombinant Pfnek3 was able to phosphorylate and stimulate a malarial MAPK (Pfmap2). Contrastingly, this was not observed with two other kinases, Pfmap1 and human MAPK1, suggesting that the Pfnek3-Pfmap2 interaction may be specific for Pfmap2 regulation. In summary, our data reveal a malarial NIMA-kinase with the potential to regulate a MAPK. Possessing biochemical properties divergent from classical mammalian NIMA-kinases, Pfnek3 could potentially be an attractive target for parasite-selective anti-malarials.</td>\n",
       "      <td>True</td>\n",
       "    </tr>\n",
       "  </tbody>\n",
       "</table>\n",
       "</div>"
      ],
      "text/plain": [
       "   interactionId  interactionType  \\\n",
       "0        1585513  phosphorylation   \n",
       "1        1585516  phosphorylation   \n",
       "10        575312  phosphorylation   \n",
       "\n",
       "                                                                                                                                                                                                                                                                                                                                                                                                                                                                                                                                                                                                                                                 participants  \\\n",
       "0   [{'uniprotid': 'Q10728', 'alias': [['mypt1_rat'], ['Protein phosphatase 1 regulatory subunit 12A'], ['Ppp1r12a'], ['Mbs'], ['Mypt1'], ['Myosin phosphatase-targeting subunit 1'], ['Protein phosphatase myosin-binding subunit'], ['MBSP'], ['Serine/threonine protein phosphatase PP1 smooth muscle regulatory subunit M110'], ['Protein phosphatase subunit 1M']], 'alternative_uniprots': ['Q62937', 'Q9WU33']}, {'uniprotid': 'O43293-2', 'alias': [['o43293-2'], ['Death-associated protein kinase 3'], ['ZIPK-S'], ['DAPK3'], ['ZIPK'], ['DAP-like kinase'], ['MYPT1 kinase'], ['Zipper-interacting protein kinase']], 'alternative_uniprots': []}]   \n",
       "1   [{'uniprotid': 'O43293-1', 'alias': [['o43293-1'], ['Death-associated protein kinase 3'], ['ZIPK-L'], ['DAPK3'], ['ZIPK'], ['DAP-like kinase'], ['MYPT1 kinase'], ['Zipper-interacting protein kinase']], 'alternative_uniprots': []}, {'uniprotid': 'Q10728', 'alias': [['mypt1_rat'], ['Protein phosphatase 1 regulatory subunit 12A'], ['Ppp1r12a'], ['Mbs'], ['Mypt1'], ['Myosin phosphatase-targeting subunit 1'], ['Protein phosphatase myosin-binding subunit'], ['MBSP'], ['Serine/threonine protein phosphatase PP1 smooth muscle regulatory subunit M110'], ['Protein phosphatase subunit 1M']], 'alternative_uniprots': ['Q62937', 'Q9WU33']}]   \n",
       "10                                                                                                                                                                                                                                                                                                                                    [{'uniprotid': 'P02686-1', 'alias': [['p02686-1'], ['Myelin basic protein'], ['MBP'], ['Myelin A1 protein'], ['Myelin membrane encephalitogenic protein'], ['Golli-MBP1'], ['HOG7']], 'alternative_uniprots': []}, {'uniprotid': 'Q8I629', 'alias': [['q8i629_plaf7'], ['PF3D7_1201600']], 'alternative_uniprots': []}]   \n",
       "\n",
       "    pubmedId pubmedTitle  \\\n",
       "0   17126281        None   \n",
       "1   17126281        None   \n",
       "10  17064692        None   \n",
       "\n",
       "                                                                                                                                                                                                                                                                                                                                                                                                                                                                                                                                                                                                                                                                                                                                                                                                                                                                                                                                                                                                                                                                                                                                         pubmedabstract  \\\n",
       "0   Zipper-interacting protein kinase (ZIP kinase) has been thought to be involved in apoptosis and the C-terminal leucine zipper motif is important for its function. Recent studies have revealed that ZIP kinase also plays a role in regulating myosin phosphorylation. Here, we found novel ZIP kinase isoform in which the C-terminal non-kinase domain containing a leucine zipper is eliminated (hZIPK-S). hZIPK-S binds to myosin phosphatase targeting subunit 1(MYPT1) similar to the long isoform (hZIPK-L). In addition, we found that hZIPK-S as well as hZIPK-L bind to myosin. These results indicate that a leucine zipper is not critical for the binding of ZIP kinase to MYPT1 and myosin. Consistently, hZIPK-S localized with stress-fibers where they co-localized with myosin. The residues 278-311, the C-terminal side of the kinase domain common to the both isoforms, is involved in the binding to MYPT1, while the myosin binding domain is within the kinase domain. These results suggest that the newly found hZIPK-S as well as the long isoform play an important role in the regulation of myosin phosphorylation.   \n",
       "1   Zipper-interacting protein kinase (ZIP kinase) has been thought to be involved in apoptosis and the C-terminal leucine zipper motif is important for its function. Recent studies have revealed that ZIP kinase also plays a role in regulating myosin phosphorylation. Here, we found novel ZIP kinase isoform in which the C-terminal non-kinase domain containing a leucine zipper is eliminated (hZIPK-S). hZIPK-S binds to myosin phosphatase targeting subunit 1(MYPT1) similar to the long isoform (hZIPK-L). In addition, we found that hZIPK-S as well as hZIPK-L bind to myosin. These results indicate that a leucine zipper is not critical for the binding of ZIP kinase to MYPT1 and myosin. Consistently, hZIPK-S localized with stress-fibers where they co-localized with myosin. The residues 278-311, the C-terminal side of the kinase domain common to the both isoforms, is involved in the binding to MYPT1, while the myosin binding domain is within the kinase domain. These results suggest that the newly found hZIPK-S as well as the long isoform play an important role in the regulation of myosin phosphorylation.   \n",
       "10                                                The canonical mitogen-activated protein kinase (MAPK) signal cascade was previously suggested to be atypical in the malaria parasite. This raises queries on the existence of alternative mediators of plasmodial MAPK pathways. This study describes, Pfnek3, a malarial protein kinase belonging to the NIMA (Never in Mitosis, Aspergillus) family. Endogenous Pfnek3 is expressed during late asexual to gametocyte stages and lacks some classical protein kinase sequence motifs. Moreover, Pfnek3 is phylogenetically distant from mammalian NIMA-kinases. Recombinant Pfnek3 was able to phosphorylate and stimulate a malarial MAPK (Pfmap2). Contrastingly, this was not observed with two other kinases, Pfmap1 and human MAPK1, suggesting that the Pfnek3-Pfmap2 interaction may be specific for Pfmap2 regulation. In summary, our data reveal a malarial NIMA-kinase with the potential to regulate a MAPK. Possessing biochemical properties divergent from classical mammalian NIMA-kinases, Pfnek3 could potentially be an attractive target for parasite-selective anti-malarials.   \n",
       "\n",
       "    isValid  \n",
       "0      True  \n",
       "1      True  \n",
       "10     True  "
      ]
     },
     "execution_count": 12,
     "metadata": {},
     "output_type": "execute_result"
    }
   ],
   "source": [
    "data.head(n=3)"
   ]
  },
  {
   "cell_type": "code",
   "execution_count": 13,
   "metadata": {},
   "outputs": [
    {
     "data": {
      "text/plain": [
       "(3381, 7)"
      ]
     },
     "execution_count": 13,
     "metadata": {},
     "output_type": "execute_result"
    }
   ],
   "source": [
    "data.shape"
   ]
  },
  {
   "cell_type": "code",
   "execution_count": 14,
   "metadata": {},
   "outputs": [],
   "source": [
    "def to_percent(y, position):\n",
    "    # Ignore the passed in position. This has the effect of scaling the default\n",
    "    # tick locations.\n",
    "    s = str(100 * y)\n",
    "\n",
    "    # The percent symbol needs escaping in latex\n",
    "    if matplotlib.rcParams['text.usetex'] is True:\n",
    "        return s + r'$\\%$'\n",
    "    else:\n",
    "        return s + '%'"
   ]
  },
  {
   "cell_type": "markdown",
   "metadata": {},
   "source": [
    "### Number of interactions per paper\n",
    "**Note: The number of interactions per paper only takes the filtered interactions extracted from the Intact database**"
   ]
  },
  {
   "cell_type": "code",
   "execution_count": 15,
   "metadata": {},
   "outputs": [
    {
     "name": "stderr",
     "output_type": "stream",
     "text": [
      "/Users/aeg/miniconda/envs/kegg_env/lib/python3.7/site-packages/matplotlib/font_manager.py:1238: UserWarning: findfont: Font family ['sans-serif'] not found. Falling back to DejaVu Sans.\n",
      "  (prop.get_family(), self.defaultFamily[fontext]))\n"
     ]
    },
    {
     "data": {
      "image/png": "[encoded data removed]",
      "text/plain": [
       "<Figure size 720x360 with 1 Axes>"
      ]
     },
     "metadata": {
      "needs_background": "light"
     },
     "output_type": "display_data"
    }
   ],
   "source": [
    "import matplotlib.pyplot as plt\n",
    "import numpy as np \n",
    "\n",
    "ax = plt.axes( yscale='log')\n",
    "ax.xaxis.set_major_locator(plt.MaxNLocator(10, prune='lower'))\n",
    "\n",
    "#sns.distplot(data.pubmedId.value_counts().tolist(), bins=100, kde=False, norm_hist=True)\n",
    "\n",
    "data.pubmedId.value_counts().plot.hist (bins=250,figsize=(10,5), ax=ax, color='dodgerblue')\n",
    "plt.title('Histogram - number of interactions per pubmed')\n",
    "plt.xlabel('Number of interactions per Pubmed paper')\n",
    "plt.ylabel('Frequency')\n",
    "#plt.show()\n",
    "plt.savefig('PaperVsInteractions.eps', bbox_inches='tight')\n",
    "plt.savefig('PaperVsInteractions.png', bbox_inches='tight')\n",
    "plt.show()"
   ]
  },
  {
   "cell_type": "code",
   "execution_count": 16,
   "metadata": {},
   "outputs": [
    {
     "data": {
      "image/png": "[encoded data removed]",
      "text/plain": [
       "<Figure size 1080x360 with 1 Axes>"
      ]
     },
     "metadata": {
      "needs_background": "light"
     },
     "output_type": "display_data"
    }
   ],
   "source": [
    "df = data.pubmedId.value_counts().hist (bins=range(1, 30), figsize=(15,5), color = 'red')\n",
    "\n",
    "plt.title('Papers vs number of interactions distribution ( Filtered distribution of interactions between 1 to 30)')\n",
    "plt.xlabel('Number of interactions per paper')\n",
    "plt.ylabel('Total number of papers')\n",
    "\n",
    "plt.show()"
   ]
  },
  {
   "cell_type": "markdown",
   "metadata": {},
   "source": [
    "### Interaction Types distribution"
   ]
  },
  {
   "cell_type": "code",
   "execution_count": 17,
   "metadata": {},
   "outputs": [
    {
     "data": {
      "image/png": "[encoded data removed]",
      "text/plain": [
       "<Figure size 576x576 with 1 Axes>"
      ]
     },
     "metadata": {},
     "output_type": "display_data"
    }
   ],
   "source": [
    "data.interactionType.value_counts().plot.pie(autopct='%.2f',figsize=(8, 8))\n",
    "plt.title('Interaction Type Distribution')\n",
    "plt.savefig(\"Interactiontype.svg\")\n",
    "plt.show()"
   ]
  },
  {
   "cell_type": "code",
   "execution_count": 18,
   "metadata": {},
   "outputs": [
    {
     "data": {
      "text/html": [
       "<div>\n",
       "<style scoped>\n",
       "    .dataframe tbody tr th:only-of-type {\n",
       "        vertical-align: middle;\n",
       "    }\n",
       "\n",
       "    .dataframe tbody tr th {\n",
       "        vertical-align: top;\n",
       "    }\n",
       "\n",
       "    .dataframe thead th {\n",
       "        text-align: right;\n",
       "    }\n",
       "</style>\n",
       "<table border=\"1\" class=\"dataframe\">\n",
       "  <thead>\n",
       "    <tr style=\"text-align: right;\">\n",
       "      <th></th>\n",
       "      <th>interactionType</th>\n",
       "    </tr>\n",
       "  </thead>\n",
       "  <tbody>\n",
       "    <tr>\n",
       "      <th>phosphorylation</th>\n",
       "      <td>2446</td>\n",
       "    </tr>\n",
       "    <tr>\n",
       "      <th>dephosphorylation</th>\n",
       "      <td>437</td>\n",
       "    </tr>\n",
       "    <tr>\n",
       "      <th>ubiquitination</th>\n",
       "      <td>226</td>\n",
       "    </tr>\n",
       "    <tr>\n",
       "      <th>methylation</th>\n",
       "      <td>134</td>\n",
       "    </tr>\n",
       "    <tr>\n",
       "      <th>acetylation</th>\n",
       "      <td>70</td>\n",
       "    </tr>\n",
       "    <tr>\n",
       "      <th>demethylation</th>\n",
       "      <td>37</td>\n",
       "    </tr>\n",
       "    <tr>\n",
       "      <th>deubiquitination</th>\n",
       "      <td>31</td>\n",
       "    </tr>\n",
       "  </tbody>\n",
       "</table>\n",
       "</div>"
      ],
      "text/plain": [
       "                   interactionType\n",
       "phosphorylation               2446\n",
       "dephosphorylation              437\n",
       "ubiquitination                 226\n",
       "methylation                    134\n",
       "acetylation                     70\n",
       "demethylation                   37\n",
       "deubiquitination                31"
      ]
     },
     "execution_count": 18,
     "metadata": {},
     "output_type": "execute_result"
    }
   ],
   "source": [
    "data.interactionType.value_counts().to_frame()"
   ]
  },
  {
   "cell_type": "markdown",
   "metadata": {},
   "source": [
    "### Distinct interaction types per paper"
   ]
  },
  {
   "cell_type": "code",
   "execution_count": 19,
   "metadata": {},
   "outputs": [
    {
     "data": {
      "image/png": "[encoded data removed]",
      "text/plain": [
       "<Figure size 432x288 with 1 Axes>"
      ]
     },
     "metadata": {
      "needs_background": "light"
     },
     "output_type": "display_data"
    }
   ],
   "source": [
    "import numpy as np\n",
    "\n",
    "distinct_no_papers = data['pubmedId'].nunique()\n",
    "\n",
    "data.groupby('pubmedId')['interactionType'].nunique().hist(bins=100, density=1)\n",
    "plt.title(\"Number of unique interaction types per paper\")\n",
    "plt.xlabel('Number of unique interaction types')\n",
    "plt.ylabel('Percentage of Pubmed papers'.format(distinct_no_papers))\n",
    "plt.show()\n"
   ]
  },
  {
   "cell_type": "markdown",
   "metadata": {},
   "source": [
    "### Postive vs Negative Relationships"
   ]
  },
  {
   "cell_type": "code",
   "execution_count": 20,
   "metadata": {},
   "outputs": [
    {
     "data": {
      "image/png": "[encoded data removed]",
      "text/plain": [
       "<Figure size 360x360 with 1 Axes>"
      ]
     },
     "metadata": {},
     "output_type": "display_data"
    }
   ],
   "source": [
    "data.isValid.value_counts().plot.pie(autopct='%.2f',figsize=(5, 5))\n",
    "plt.title('Is Valid relationship')\n",
    "plt.show()"
   ]
  },
  {
   "cell_type": "markdown",
   "metadata": {},
   "source": [
    "### Number of participants per interaction"
   ]
  },
  {
   "cell_type": "code",
   "execution_count": 21,
   "metadata": {
    "scrolled": true
   },
   "outputs": [
    {
     "data": {
      "image/png": "[encoded data removed]",
      "text/plain": [
       "<Figure size 360x360 with 1 Axes>"
      ]
     },
     "metadata": {
      "needs_background": "light"
     },
     "output_type": "display_data"
    }
   ],
   "source": [
    "import numpy as np\n",
    "import matplotlib.ticker as mtick\n",
    "\n",
    "\n",
    "fig, ax = plt.subplots( 1,1, figsize=(15,5))\n",
    "\n",
    "\n",
    "\n",
    "#fig, ax = plt.subplots( 7,1, figsize=(45,30))\n",
    "c_ax= ax\n",
    "c_ax.yaxis.set_major_formatter(mtick.PercentFormatter())\n",
    "\n",
    "data['participants_count'] = data[\"participants\"].apply(lambda x: len(x))\n",
    "\n",
    "data['participants_count'].hist (bins=50, ax=c_ax, figsize=(5,5), color = 'dodgerblue',  weights = np.ones_like(data['participants_count'].index)*100 / len(data['participants_count'].index))\n",
    "plt.title(\"Participants count per interaction\")\n",
    "plt.xlabel('Number of participants per interaction')\n",
    "plt.ylabel('Percentage of interactions')\n",
    "plt.savefig(\"ParticipantsPerInteraction.eps\")\n",
    "plt.show()"
   ]
  },
  {
   "cell_type": "markdown",
   "metadata": {},
   "source": [
    "### Explore if the abstract contains the trigger word"
   ]
  },
  {
   "cell_type": "code",
   "execution_count": 22,
   "metadata": {},
   "outputs": [
    {
     "name": "stdout",
     "output_type": "stream",
     "text": [
      "Requirement already satisfied: nltk==3.4.5 in /Users/aeg/miniconda/envs/kegg_env/lib/python3.7/site-packages (3.4.5)\n",
      "Requirement already satisfied: six in /Users/aeg/miniconda/envs/kegg_env/lib/python3.7/site-packages (from nltk==3.4.5) (1.13.0)\n",
      "\u001b[33mWARNING: You are using pip version 19.3.1; however, version 21.0 is available.\n",
      "You should consider upgrading via the 'pip install --upgrade pip' command.\u001b[0m\n"
     ]
    }
   ],
   "source": [
    "!pip install nltk==3.4.5"
   ]
  },
  {
   "cell_type": "code",
   "execution_count": 23,
   "metadata": {},
   "outputs": [
    {
     "name": "stdout",
     "output_type": "stream",
     "text": [
      "0      phosphoryl\n",
      "1     deubiquitin\n",
      "2          methyl\n",
      "3        demethyl\n",
      "4          acetyl\n",
      "5       ubiquitin\n",
      "6    dephosphoryl\n",
      "dtype: object\n"
     ]
    }
   ],
   "source": [
    "from nltk.stem import PorterStemmer\n",
    "from nltk.tokenize import sent_tokenize, word_tokenize\n",
    "\n",
    "stemmer = PorterStemmer()\n",
    "print(pd.DataFrame(data.interactionType.unique()).apply(lambda r: stemmer.stem(r.iloc[0].lower()), axis=1))\n",
    "\n",
    "data[\"hasTriggerWord\"] = data.apply(lambda r: stemmer.stem(r[\"interactionType\"].lower()) in r[\"pubmedabstract\"].lower() , 1)"
   ]
  },
  {
   "cell_type": "code",
   "execution_count": 24,
   "metadata": {},
   "outputs": [
    {
     "data": {
      "image/png": "[encoded data removed]",
      "text/plain": [
       "<Figure size 360x360 with 1 Axes>"
      ]
     },
     "metadata": {},
     "output_type": "display_data"
    }
   ],
   "source": [
    "data.hasTriggerWord.value_counts().plot.pie(autopct='%.2f',figsize=(5, 5))\n",
    "plt.title('Has trigger word')\n",
    "plt.show()"
   ]
  },
  {
   "cell_type": "code",
   "execution_count": 25,
   "metadata": {},
   "outputs": [
    {
     "data": {
      "text/html": [
       "<div>\n",
       "<style scoped>\n",
       "    .dataframe tbody tr th:only-of-type {\n",
       "        vertical-align: middle;\n",
       "    }\n",
       "\n",
       "    .dataframe tbody tr th {\n",
       "        vertical-align: top;\n",
       "    }\n",
       "\n",
       "    .dataframe thead th {\n",
       "        text-align: right;\n",
       "    }\n",
       "</style>\n",
       "<table border=\"1\" class=\"dataframe\">\n",
       "  <thead>\n",
       "    <tr style=\"text-align: right;\">\n",
       "      <th>hasTriggerWord</th>\n",
       "      <th>False</th>\n",
       "      <th>True</th>\n",
       "    </tr>\n",
       "    <tr>\n",
       "      <th>interactionType</th>\n",
       "      <th></th>\n",
       "      <th></th>\n",
       "    </tr>\n",
       "  </thead>\n",
       "  <tbody>\n",
       "    <tr>\n",
       "      <th>acetylation</th>\n",
       "      <td>7.1</td>\n",
       "      <td>92.9</td>\n",
       "    </tr>\n",
       "    <tr>\n",
       "      <th>demethylation</th>\n",
       "      <td>2.7</td>\n",
       "      <td>97.3</td>\n",
       "    </tr>\n",
       "    <tr>\n",
       "      <th>dephosphorylation</th>\n",
       "      <td>11.4</td>\n",
       "      <td>88.6</td>\n",
       "    </tr>\n",
       "    <tr>\n",
       "      <th>deubiquitination</th>\n",
       "      <td>22.6</td>\n",
       "      <td>77.4</td>\n",
       "    </tr>\n",
       "    <tr>\n",
       "      <th>methylation</th>\n",
       "      <td>0.7</td>\n",
       "      <td>99.3</td>\n",
       "    </tr>\n",
       "    <tr>\n",
       "      <th>phosphorylation</th>\n",
       "      <td>10.1</td>\n",
       "      <td>89.9</td>\n",
       "    </tr>\n",
       "    <tr>\n",
       "      <th>ubiquitination</th>\n",
       "      <td>1.8</td>\n",
       "      <td>98.2</td>\n",
       "    </tr>\n",
       "  </tbody>\n",
       "</table>\n",
       "</div>"
      ],
      "text/plain": [
       "hasTriggerWord     False  True \n",
       "interactionType                \n",
       "acetylation          7.1   92.9\n",
       "demethylation        2.7   97.3\n",
       "dephosphorylation   11.4   88.6\n",
       "deubiquitination    22.6   77.4\n",
       "methylation          0.7   99.3\n",
       "phosphorylation     10.1   89.9\n",
       "ubiquitination       1.8   98.2"
      ]
     },
     "execution_count": 25,
     "metadata": {},
     "output_type": "execute_result"
    }
   ],
   "source": [
    "data.groupby([ 'interactionType','hasTriggerWord']).size().unstack().apply(lambda x: round(x/sum(x),3)*100, axis=1)\n"
   ]
  },
  {
   "cell_type": "markdown",
   "metadata": {},
   "source": [
    "### Explore how many of the entity alias are mentioned in the abstract"
   ]
  },
  {
   "cell_type": "code",
   "execution_count": 26,
   "metadata": {},
   "outputs": [
    {
     "name": "stdout",
     "output_type": "stream",
     "text": [
      "CPU times: user 25.3 s, sys: 164 ms, total: 25.4 s\n",
      "Wall time: 27.4 s\n"
     ]
    }
   ],
   "source": [
    "%%time \n",
    "\n",
    "from difflib import SequenceMatcher\n",
    "def getEntityMentionsCount(r):\n",
    "    count = 0\n",
    "    abstract = r[\"pubmedabstract\"].lower()\n",
    "    abstract_len= len(abstract)\n",
    "    for p in r[\"participants\"]:\n",
    "        if p is None or p['alias'] is None : continue\n",
    "        \n",
    "        for a in p['alias']:\n",
    "            alias = a[0].lower()\n",
    "            s = SequenceMatcher(None, abstract, alias)\n",
    "            _,_,match_size = s.find_longest_match(0, len(abstract), 0, len(alias))\n",
    "            if match_size >= 3 and match_size >= len(alias)/2 :\n",
    "                count += 1\n",
    "        \n",
    "    return count\n",
    "        \n",
    "\n",
    "data[\"entityMentionsCount\"] = data.apply(lambda r: getEntityMentionsCount(r)  , 1)"
   ]
  },
  {
   "cell_type": "code",
   "execution_count": 27,
   "metadata": {},
   "outputs": [
    {
     "data": {
      "image/png": "[encoded data removed]",
      "text/plain": [
       "<Figure size 1080x360 with 1 Axes>"
      ]
     },
     "metadata": {
      "needs_background": "light"
     },
     "output_type": "display_data"
    }
   ],
   "source": [
    "data['entityMentionsCount'].hist ( bins=150, figsize=(15,5), color = 'red')\n",
    "plt.title('Entity mentions count distribution')\n",
    "plt.xlabel('Entity name mentions count in abstract')\n",
    "plt.ylabel('Total number of interactions')\n",
    "\n",
    "plt.show()"
   ]
  },
  {
   "cell_type": "code",
   "execution_count": 28,
   "metadata": {},
   "outputs": [
    {
     "data": {
      "image/png": "[encoded data removed]",
      "text/plain": [
       "<Figure size 432x288 with 1 Axes>"
      ]
     },
     "metadata": {},
     "output_type": "display_data"
    }
   ],
   "source": [
    "(data['entityMentionsCount'] > 0).value_counts().plot.pie(autopct='%.2f')\n",
    "plt.title(\"Percentage of interactions with entity mentions \")\n",
    "plt.ylabel(\"Entity mentions > 0\")\n",
    "plt.show()"
   ]
  },
  {
   "cell_type": "markdown",
   "metadata": {},
   "source": [
    "### Randomly eye ball interactions with no entity mentions"
   ]
  },
  {
   "cell_type": "code",
   "execution_count": 29,
   "metadata": {},
   "outputs": [
    {
     "data": {
      "text/html": [
       "<div>\n",
       "<style scoped>\n",
       "    .dataframe tbody tr th:only-of-type {\n",
       "        vertical-align: middle;\n",
       "    }\n",
       "\n",
       "    .dataframe tbody tr th {\n",
       "        vertical-align: top;\n",
       "    }\n",
       "\n",
       "    .dataframe thead th {\n",
       "        text-align: right;\n",
       "    }\n",
       "</style>\n",
       "<table border=\"1\" class=\"dataframe\">\n",
       "  <thead>\n",
       "    <tr style=\"text-align: right;\">\n",
       "      <th></th>\n",
       "      <th>participants</th>\n",
       "      <th>pubmedabstract</th>\n",
       "    </tr>\n",
       "  </thead>\n",
       "  <tbody>\n",
       "    <tr>\n",
       "      <th>719</th>\n",
       "      <td>[{'uniprotid': 'Q14011', 'alias': [['cirbp_human'], ['Cold-inducible RNA-binding protein'], ['Glycine-rich RNA-binding protein CIRP'], ['A18 hnRNP'], ['CIRBP'], ['A18HNRNP'], ['CIRP']], 'alternative_uniprots': ['B4E2X2', 'B3KT17']}, {'uniprotid': 'P68400', 'alias': [['csk21_human'], ['Casein kinase II subunit alpha'], ['CSNK2A1'], ['CK2A1']], 'alternative_uniprots': ['Q5U065', 'Q14013', 'P19138', 'B4DYS6', 'P20426', 'D3DVV8']}]</td>\n",
       "      <td>Deciphering the kinase-substrate relationship is vital for the study of phosphorylation network. The use of immobilized proteins on protein chip as the library for screening of potential kinase substrates is a tried-and-tested method. However, information on phosphorylation sites is lacking and the creation of the library with proteins of whole proteome by recombinant expression is costly and difficult. In this study, a new solid-phase approach by immobilization of proteins from cell lysate onto beads as a protein library for kinase substrate screening was developed. It was found that consensus phosphorylation sites motif for kinase substrates could be accurately determined and hundreds of in vitro kinase substrates and their phosphorylation sites could be identified by using this method.</td>\n",
       "    </tr>\n",
       "    <tr>\n",
       "      <th>751</th>\n",
       "      <td>[{'uniprotid': 'P68400', 'alias': [['csk21_human'], ['Casein kinase II subunit alpha'], ['CSNK2A1'], ['CK2A1']], 'alternative_uniprots': ['Q5U065', 'Q14013', 'P19138', 'B4DYS6', 'P20426', 'D3DVV8']}, {'uniprotid': 'Q92841-4', 'alias': [['q92841-4'], ['Probable ATP-dependent RNA helicase DDX17'], ['DEAD box protein p82'], ['DDX17'], ['DEAD box protein 17'], ['DEAD box protein p72'], ['RNA-dependent helicase p72'], ['p82']], 'alternative_uniprots': []}]</td>\n",
       "      <td>Deciphering the kinase-substrate relationship is vital for the study of phosphorylation network. The use of immobilized proteins on protein chip as the library for screening of potential kinase substrates is a tried-and-tested method. However, information on phosphorylation sites is lacking and the creation of the library with proteins of whole proteome by recombinant expression is costly and difficult. In this study, a new solid-phase approach by immobilization of proteins from cell lysate onto beads as a protein library for kinase substrate screening was developed. It was found that consensus phosphorylation sites motif for kinase substrates could be accurately determined and hundreds of in vitro kinase substrates and their phosphorylation sites could be identified by using this method.</td>\n",
       "    </tr>\n",
       "    <tr>\n",
       "      <th>698</th>\n",
       "      <td>[{'uniprotid': 'Q13547', 'alias': [['hdac1_human'], ['Histone deacetylase 1'], ['HDAC1'], ['RPD3L1']], 'alternative_uniprots': ['Q92534']}, {'uniprotid': 'P68400', 'alias': [['csk21_human'], ['Casein kinase II subunit alpha'], ['CSNK2A1'], ['CK2A1']], 'alternative_uniprots': ['Q5U065', 'Q14013', 'P19138', 'B4DYS6', 'P20426', 'D3DVV8']}]</td>\n",
       "      <td>Deciphering the kinase-substrate relationship is vital for the study of phosphorylation network. The use of immobilized proteins on protein chip as the library for screening of potential kinase substrates is a tried-and-tested method. However, information on phosphorylation sites is lacking and the creation of the library with proteins of whole proteome by recombinant expression is costly and difficult. In this study, a new solid-phase approach by immobilization of proteins from cell lysate onto beads as a protein library for kinase substrate screening was developed. It was found that consensus phosphorylation sites motif for kinase substrates could be accurately determined and hundreds of in vitro kinase substrates and their phosphorylation sites could be identified by using this method.</td>\n",
       "    </tr>\n",
       "  </tbody>\n",
       "</table>\n",
       "</div>"
      ],
      "text/plain": [
       "                                                                                                                                                                                                                                                                                                                                                                                                                                                                participants  \\\n",
       "719                          [{'uniprotid': 'Q14011', 'alias': [['cirbp_human'], ['Cold-inducible RNA-binding protein'], ['Glycine-rich RNA-binding protein CIRP'], ['A18 hnRNP'], ['CIRBP'], ['A18HNRNP'], ['CIRP']], 'alternative_uniprots': ['B4E2X2', 'B3KT17']}, {'uniprotid': 'P68400', 'alias': [['csk21_human'], ['Casein kinase II subunit alpha'], ['CSNK2A1'], ['CK2A1']], 'alternative_uniprots': ['Q5U065', 'Q14013', 'P19138', 'B4DYS6', 'P20426', 'D3DVV8']}]   \n",
       "751  [{'uniprotid': 'P68400', 'alias': [['csk21_human'], ['Casein kinase II subunit alpha'], ['CSNK2A1'], ['CK2A1']], 'alternative_uniprots': ['Q5U065', 'Q14013', 'P19138', 'B4DYS6', 'P20426', 'D3DVV8']}, {'uniprotid': 'Q92841-4', 'alias': [['q92841-4'], ['Probable ATP-dependent RNA helicase DDX17'], ['DEAD box protein p82'], ['DDX17'], ['DEAD box protein 17'], ['DEAD box protein p72'], ['RNA-dependent helicase p72'], ['p82']], 'alternative_uniprots': []}]   \n",
       "698                                                                                                                       [{'uniprotid': 'Q13547', 'alias': [['hdac1_human'], ['Histone deacetylase 1'], ['HDAC1'], ['RPD3L1']], 'alternative_uniprots': ['Q92534']}, {'uniprotid': 'P68400', 'alias': [['csk21_human'], ['Casein kinase II subunit alpha'], ['CSNK2A1'], ['CK2A1']], 'alternative_uniprots': ['Q5U065', 'Q14013', 'P19138', 'B4DYS6', 'P20426', 'D3DVV8']}]   \n",
       "\n",
       "                                                                                                                                                                                                                                                                                                                                                                                                                                                                                                                                                                                                                                                                                                                                                                                                                      pubmedabstract  \n",
       "719  Deciphering the kinase-substrate relationship is vital for the study of phosphorylation network. The use of immobilized proteins on protein chip as the library for screening of potential kinase substrates is a tried-and-tested method. However, information on phosphorylation sites is lacking and the creation of the library with proteins of whole proteome by recombinant expression is costly and difficult. In this study, a new solid-phase approach by immobilization of proteins from cell lysate onto beads as a protein library for kinase substrate screening was developed. It was found that consensus phosphorylation sites motif for kinase substrates could be accurately determined and hundreds of in vitro kinase substrates and their phosphorylation sites could be identified by using this method.  \n",
       "751  Deciphering the kinase-substrate relationship is vital for the study of phosphorylation network. The use of immobilized proteins on protein chip as the library for screening of potential kinase substrates is a tried-and-tested method. However, information on phosphorylation sites is lacking and the creation of the library with proteins of whole proteome by recombinant expression is costly and difficult. In this study, a new solid-phase approach by immobilization of proteins from cell lysate onto beads as a protein library for kinase substrate screening was developed. It was found that consensus phosphorylation sites motif for kinase substrates could be accurately determined and hundreds of in vitro kinase substrates and their phosphorylation sites could be identified by using this method.  \n",
       "698  Deciphering the kinase-substrate relationship is vital for the study of phosphorylation network. The use of immobilized proteins on protein chip as the library for screening of potential kinase substrates is a tried-and-tested method. However, information on phosphorylation sites is lacking and the creation of the library with proteins of whole proteome by recombinant expression is costly and difficult. In this study, a new solid-phase approach by immobilization of proteins from cell lysate onto beads as a protein library for kinase substrate screening was developed. It was found that consensus phosphorylation sites motif for kinase substrates could be accurately determined and hundreds of in vitro kinase substrates and their phosphorylation sites could be identified by using this method.  "
      ]
     },
     "execution_count": 29,
     "metadata": {},
     "output_type": "execute_result"
    }
   ],
   "source": [
    "\n",
    "data.query('entityMentionsCount == 0')[['participants','pubmedabstract' ]].sample(n=3)\n"
   ]
  },
  {
   "cell_type": "code",
   "execution_count": 30,
   "metadata": {},
   "outputs": [
    {
     "data": {
      "text/html": [
       "<div>\n",
       "<style scoped>\n",
       "    .dataframe tbody tr th:only-of-type {\n",
       "        vertical-align: middle;\n",
       "    }\n",
       "\n",
       "    .dataframe tbody tr th {\n",
       "        vertical-align: top;\n",
       "    }\n",
       "\n",
       "    .dataframe thead th {\n",
       "        text-align: right;\n",
       "    }\n",
       "</style>\n",
       "<table border=\"1\" class=\"dataframe\">\n",
       "  <thead>\n",
       "    <tr style=\"text-align: right;\">\n",
       "      <th></th>\n",
       "      <th>interactionId</th>\n",
       "      <th>interactionType</th>\n",
       "      <th>participants</th>\n",
       "      <th>pubmedId</th>\n",
       "      <th>pubmedTitle</th>\n",
       "      <th>pubmedabstract</th>\n",
       "      <th>isValid</th>\n",
       "      <th>participants_count</th>\n",
       "      <th>hasTriggerWord</th>\n",
       "      <th>entityMentionsCount</th>\n",
       "    </tr>\n",
       "  </thead>\n",
       "  <tbody>\n",
       "    <tr>\n",
       "      <th>0</th>\n",
       "      <td>1585513</td>\n",
       "      <td>phosphorylation</td>\n",
       "      <td>[{'uniprotid': 'Q10728', 'alias': [['mypt1_rat'], ['Protein phosphatase 1 regulatory subunit 12A'], ['Ppp1r12a'], ['Mbs'], ['Mypt1'], ['Myosin phosphatase-targeting subunit 1'], ['Protein phosphatase myosin-binding subunit'], ['MBSP'], ['Serine/threonine protein phosphatase PP1 smooth muscle regulatory subunit M110'], ['Protein phosphatase subunit 1M']], 'alternative_uniprots': ['Q62937', 'Q9WU33']}, {'uniprotid': 'O43293-2', 'alias': [['o43293-2'], ['Death-associated protein kinase 3'], ['ZIPK-S'], ['DAPK3'], ['ZIPK'], ['DAP-like kinase'], ['MYPT1 kinase'], ['Zipper-interacting protein kinase']], 'alternative_uniprots': []}]</td>\n",
       "      <td>17126281</td>\n",
       "      <td>None</td>\n",
       "      <td>Zipper-interacting protein kinase (ZIP kinase) has been thought to be involved in apoptosis and the C-terminal leucine zipper motif is important for its function. Recent studies have revealed that ZIP kinase also plays a role in regulating myosin phosphorylation. Here, we found novel ZIP kinase isoform in which the C-terminal non-kinase domain containing a leucine zipper is eliminated (hZIPK-S). hZIPK-S binds to myosin phosphatase targeting subunit 1(MYPT1) similar to the long isoform (hZIPK-L). In addition, we found that hZIPK-S as well as hZIPK-L bind to myosin. These results indicate that a leucine zipper is not critical for the binding of ZIP kinase to MYPT1 and myosin. Consistently, hZIPK-S localized with stress-fibers where they co-localized with myosin. The residues 278-311, the C-terminal side of the kinase domain common to the both isoforms, is involved in the binding to MYPT1, while the myosin binding domain is within the kinase domain. These results suggest that the newly found hZIPK-S as well as the long isoform play an important role in the regulation of myosin phosphorylation.</td>\n",
       "      <td>True</td>\n",
       "      <td>2</td>\n",
       "      <td>True</td>\n",
       "      <td>9</td>\n",
       "    </tr>\n",
       "    <tr>\n",
       "      <th>1</th>\n",
       "      <td>1585516</td>\n",
       "      <td>phosphorylation</td>\n",
       "      <td>[{'uniprotid': 'O43293-1', 'alias': [['o43293-1'], ['Death-associated protein kinase 3'], ['ZIPK-L'], ['DAPK3'], ['ZIPK'], ['DAP-like kinase'], ['MYPT1 kinase'], ['Zipper-interacting protein kinase']], 'alternative_uniprots': []}, {'uniprotid': 'Q10728', 'alias': [['mypt1_rat'], ['Protein phosphatase 1 regulatory subunit 12A'], ['Ppp1r12a'], ['Mbs'], ['Mypt1'], ['Myosin phosphatase-targeting subunit 1'], ['Protein phosphatase myosin-binding subunit'], ['MBSP'], ['Serine/threonine protein phosphatase PP1 smooth muscle regulatory subunit M110'], ['Protein phosphatase subunit 1M']], 'alternative_uniprots': ['Q62937', 'Q9WU33']}]</td>\n",
       "      <td>17126281</td>\n",
       "      <td>None</td>\n",
       "      <td>Zipper-interacting protein kinase (ZIP kinase) has been thought to be involved in apoptosis and the C-terminal leucine zipper motif is important for its function. Recent studies have revealed that ZIP kinase also plays a role in regulating myosin phosphorylation. Here, we found novel ZIP kinase isoform in which the C-terminal non-kinase domain containing a leucine zipper is eliminated (hZIPK-S). hZIPK-S binds to myosin phosphatase targeting subunit 1(MYPT1) similar to the long isoform (hZIPK-L). In addition, we found that hZIPK-S as well as hZIPK-L bind to myosin. These results indicate that a leucine zipper is not critical for the binding of ZIP kinase to MYPT1 and myosin. Consistently, hZIPK-S localized with stress-fibers where they co-localized with myosin. The residues 278-311, the C-terminal side of the kinase domain common to the both isoforms, is involved in the binding to MYPT1, while the myosin binding domain is within the kinase domain. These results suggest that the newly found hZIPK-S as well as the long isoform play an important role in the regulation of myosin phosphorylation.</td>\n",
       "      <td>True</td>\n",
       "      <td>2</td>\n",
       "      <td>True</td>\n",
       "      <td>9</td>\n",
       "    </tr>\n",
       "  </tbody>\n",
       "</table>\n",
       "</div>"
      ],
      "text/plain": [
       "  interactionId  interactionType  \\\n",
       "0       1585513  phosphorylation   \n",
       "1       1585516  phosphorylation   \n",
       "\n",
       "                                                                                                                                                                                                                                                                                                                                                                                                                                                                                                                                                                                                                                                participants  \\\n",
       "0  [{'uniprotid': 'Q10728', 'alias': [['mypt1_rat'], ['Protein phosphatase 1 regulatory subunit 12A'], ['Ppp1r12a'], ['Mbs'], ['Mypt1'], ['Myosin phosphatase-targeting subunit 1'], ['Protein phosphatase myosin-binding subunit'], ['MBSP'], ['Serine/threonine protein phosphatase PP1 smooth muscle regulatory subunit M110'], ['Protein phosphatase subunit 1M']], 'alternative_uniprots': ['Q62937', 'Q9WU33']}, {'uniprotid': 'O43293-2', 'alias': [['o43293-2'], ['Death-associated protein kinase 3'], ['ZIPK-S'], ['DAPK3'], ['ZIPK'], ['DAP-like kinase'], ['MYPT1 kinase'], ['Zipper-interacting protein kinase']], 'alternative_uniprots': []}]   \n",
       "1  [{'uniprotid': 'O43293-1', 'alias': [['o43293-1'], ['Death-associated protein kinase 3'], ['ZIPK-L'], ['DAPK3'], ['ZIPK'], ['DAP-like kinase'], ['MYPT1 kinase'], ['Zipper-interacting protein kinase']], 'alternative_uniprots': []}, {'uniprotid': 'Q10728', 'alias': [['mypt1_rat'], ['Protein phosphatase 1 regulatory subunit 12A'], ['Ppp1r12a'], ['Mbs'], ['Mypt1'], ['Myosin phosphatase-targeting subunit 1'], ['Protein phosphatase myosin-binding subunit'], ['MBSP'], ['Serine/threonine protein phosphatase PP1 smooth muscle regulatory subunit M110'], ['Protein phosphatase subunit 1M']], 'alternative_uniprots': ['Q62937', 'Q9WU33']}]   \n",
       "\n",
       "   pubmedId pubmedTitle  \\\n",
       "0  17126281        None   \n",
       "1  17126281        None   \n",
       "\n",
       "                                                                                                                                                                                                                                                                                                                                                                                                                                                                                                                                                                                                                                                                                                                                                                                                                                                                                                                                                                                                                                                                                                                                        pubmedabstract  \\\n",
       "0  Zipper-interacting protein kinase (ZIP kinase) has been thought to be involved in apoptosis and the C-terminal leucine zipper motif is important for its function. Recent studies have revealed that ZIP kinase also plays a role in regulating myosin phosphorylation. Here, we found novel ZIP kinase isoform in which the C-terminal non-kinase domain containing a leucine zipper is eliminated (hZIPK-S). hZIPK-S binds to myosin phosphatase targeting subunit 1(MYPT1) similar to the long isoform (hZIPK-L). In addition, we found that hZIPK-S as well as hZIPK-L bind to myosin. These results indicate that a leucine zipper is not critical for the binding of ZIP kinase to MYPT1 and myosin. Consistently, hZIPK-S localized with stress-fibers where they co-localized with myosin. The residues 278-311, the C-terminal side of the kinase domain common to the both isoforms, is involved in the binding to MYPT1, while the myosin binding domain is within the kinase domain. These results suggest that the newly found hZIPK-S as well as the long isoform play an important role in the regulation of myosin phosphorylation.   \n",
       "1  Zipper-interacting protein kinase (ZIP kinase) has been thought to be involved in apoptosis and the C-terminal leucine zipper motif is important for its function. Recent studies have revealed that ZIP kinase also plays a role in regulating myosin phosphorylation. Here, we found novel ZIP kinase isoform in which the C-terminal non-kinase domain containing a leucine zipper is eliminated (hZIPK-S). hZIPK-S binds to myosin phosphatase targeting subunit 1(MYPT1) similar to the long isoform (hZIPK-L). In addition, we found that hZIPK-S as well as hZIPK-L bind to myosin. These results indicate that a leucine zipper is not critical for the binding of ZIP kinase to MYPT1 and myosin. Consistently, hZIPK-S localized with stress-fibers where they co-localized with myosin. The residues 278-311, the C-terminal side of the kinase domain common to the both isoforms, is involved in the binding to MYPT1, while the myosin binding domain is within the kinase domain. These results suggest that the newly found hZIPK-S as well as the long isoform play an important role in the regulation of myosin phosphorylation.   \n",
       "\n",
       "   isValid  participants_count  hasTriggerWord  entityMentionsCount  \n",
       "0     True                   2            True                    9  \n",
       "1     True                   2            True                    9  "
      ]
     },
     "execution_count": 30,
     "metadata": {},
     "output_type": "execute_result"
    }
   ],
   "source": [
    "data.head(n=2)"
   ]
  },
  {
   "cell_type": "markdown",
   "metadata": {},
   "source": [
    "## Data Transformation"
   ]
  },
  {
   "cell_type": "markdown",
   "metadata": {},
   "source": [
    "### Filter interactions with more than 2 participants"
   ]
  },
  {
   "cell_type": "code",
   "execution_count": 31,
   "metadata": {},
   "outputs": [
    {
     "data": {
      "text/plain": [
       "(2868, 10)"
      ]
     },
     "execution_count": 31,
     "metadata": {},
     "output_type": "execute_result"
    }
   ],
   "source": [
    "filtered = data.query('participants_count <= 2')\n",
    "filtered.shape"
   ]
  },
  {
   "cell_type": "code",
   "execution_count": 32,
   "metadata": {},
   "outputs": [
    {
     "data": {
      "image/png": "[encoded data removed]",
      "text/plain": [
       "<Figure size 360x360 with 1 Axes>"
      ]
     },
     "metadata": {
      "needs_background": "light"
     },
     "output_type": "display_data"
    }
   ],
   "source": [
    "import matplotlib.ticker as mtick\n",
    "\n",
    "\n",
    "fig, ax = plt.subplots( 1,1, figsize=(15,5))\n",
    "\n",
    "\n",
    "\n",
    "c_ax= ax\n",
    "c_ax.yaxis.set_major_formatter(mtick.PercentFormatter())\n",
    "filtered['participants_count'].hist (bins=50, figsize=(5,5), ax=c_ax, color = 'blue',  weights = np.ones_like(filtered['participants_count'].index)*100 / len(filtered['participants_count'].index))\n",
    "plt.title(\"Participants count per interaction\")\n",
    "plt.xlabel('Number of participants per interaction')\n",
    "plt.ylabel('Percentage of interactions')\n",
    "plt.savefig(\"ParticipantsPerInteraction.eps\")\n",
    "plt.show()"
   ]
  },
  {
   "cell_type": "markdown",
   "metadata": {},
   "source": [
    "### Filter out interactions from paper with more than 15 interactions"
   ]
  },
  {
   "cell_type": "code",
   "execution_count": 33,
   "metadata": {},
   "outputs": [
    {
     "name": "stderr",
     "output_type": "stream",
     "text": [
      "/Users/aeg/miniconda/envs/kegg_env/lib/python3.7/site-packages/ipykernel_launcher.py:5: SettingWithCopyWarning: \n",
      "A value is trying to be set on a copy of a slice from a DataFrame.\n",
      "Try using .loc[row_indexer,col_indexer] = value instead\n",
      "\n",
      "See the caveats in the documentation: http://pandas.pydata.org/pandas-docs/stable/indexing.html#indexing-view-versus-copy\n",
      "  \"\"\"\n"
     ]
    },
    {
     "data": {
      "image/png": "[encoded data removed]",
      "text/plain": [
       "<Figure size 360x360 with 1 Axes>"
      ]
     },
     "metadata": {},
     "output_type": "display_data"
    }
   ],
   "source": [
    "pubmed_interaction_count = filtered.pubmedId.value_counts().to_frame().rename(columns={\"pubmedId\":\"interactionCountPerPubmed\"})\n",
    "\n",
    "\n",
    "#interactions_count= pd.DataFrame()\n",
    "filtered[\"lessThanThreshold\"] = filtered.apply(lambda r: r[\"pubmedId\"] in  pubmed_interaction_count.query('interactionCountPerPubmed <= 15').index , 1)\n",
    "\n",
    "\n",
    "filtered.lessThanThreshold.value_counts().plot.pie(autopct='%.2f',figsize=(5, 5))\n",
    "plt.title('Has less than 15 interactions')\n",
    "plt.show()"
   ]
  },
  {
   "cell_type": "code",
   "execution_count": 34,
   "metadata": {},
   "outputs": [],
   "source": [
    "filtered = filtered.query(\"lessThanThreshold == 1\")"
   ]
  },
  {
   "cell_type": "code",
   "execution_count": 35,
   "metadata": {},
   "outputs": [
    {
     "name": "stdout",
     "output_type": "stream",
     "text": [
      "Total number of records after filter: 1865\n"
     ]
    }
   ],
   "source": [
    "print(\"Total number of records after filter: {}\".format(filtered.shape[0]))"
   ]
  },
  {
   "cell_type": "markdown",
   "metadata": {},
   "source": [
    "###  Flatten partcipants into participant 1 and particpiant 2"
   ]
  },
  {
   "cell_type": "code",
   "execution_count": 36,
   "metadata": {},
   "outputs": [],
   "source": [
    "from datatransformer.jsonPPIFlattenTransformer import IntactJsonPpiFlattenTransformer\n",
    " \n",
    "\n",
    "sut = IntactJsonPpiFlattenTransformer()\n",
    "\n",
    "data_transformed = sut.transform(filtered)\n"
   ]
  },
  {
   "cell_type": "code",
   "execution_count": 37,
   "metadata": {
    "scrolled": true
   },
   "outputs": [
    {
     "data": {
      "text/html": [
       "<div>\n",
       "<style scoped>\n",
       "    .dataframe tbody tr th:only-of-type {\n",
       "        vertical-align: middle;\n",
       "    }\n",
       "\n",
       "    .dataframe tbody tr th {\n",
       "        vertical-align: top;\n",
       "    }\n",
       "\n",
       "    .dataframe thead th {\n",
       "        text-align: right;\n",
       "    }\n",
       "</style>\n",
       "<table border=\"1\" class=\"dataframe\">\n",
       "  <thead>\n",
       "    <tr style=\"text-align: right;\">\n",
       "      <th></th>\n",
       "      <th>entityMentionsCount</th>\n",
       "      <th>hasTriggerWord</th>\n",
       "      <th>interactionId</th>\n",
       "      <th>interactionType</th>\n",
       "      <th>isValid</th>\n",
       "      <th>lessThanThreshold</th>\n",
       "      <th>participant1Alias</th>\n",
       "      <th>participant1Id</th>\n",
       "      <th>participant2Alias</th>\n",
       "      <th>participant2Id</th>\n",
       "      <th>participants_count</th>\n",
       "      <th>pubmedId</th>\n",
       "      <th>pubmedTitle</th>\n",
       "      <th>pubmedabstract</th>\n",
       "    </tr>\n",
       "  </thead>\n",
       "  <tbody>\n",
       "    <tr>\n",
       "      <th>0</th>\n",
       "      <td>9</td>\n",
       "      <td>True</td>\n",
       "      <td>1585513</td>\n",
       "      <td>phosphorylation</td>\n",
       "      <td>True</td>\n",
       "      <td>True</td>\n",
       "      <td>[[mypt1_rat], [Protein phosphatase 1 regulatory subunit 12A], [Ppp1r12a], [Mbs], [Mypt1], [Myosin phosphatase-targeting subunit 1], [Protein phosphatase myosin-binding subunit], [MBSP], [Serine/threonine protein phosphatase PP1 smooth muscle regulatory subunit M110], [Protein phosphatase subunit 1M]]</td>\n",
       "      <td>Q10728</td>\n",
       "      <td>[[o43293-2], [Death-associated protein kinase 3], [ZIPK-S], [DAPK3], [ZIPK], [DAP-like kinase], [MYPT1 kinase], [Zipper-interacting protein kinase]]</td>\n",
       "      <td>O43293-2</td>\n",
       "      <td>2</td>\n",
       "      <td>17126281</td>\n",
       "      <td>None</td>\n",
       "      <td>Zipper-interacting protein kinase (ZIP kinase) has been thought to be involved in apoptosis and the C-terminal leucine zipper motif is important for its function. Recent studies have revealed that ZIP kinase also plays a role in regulating myosin phosphorylation. Here, we found novel ZIP kinase isoform in which the C-terminal non-kinase domain containing a leucine zipper is eliminated (hZIPK-S). hZIPK-S binds to myosin phosphatase targeting subunit 1(MYPT1) similar to the long isoform (hZIPK-L). In addition, we found that hZIPK-S as well as hZIPK-L bind to myosin. These results indicate that a leucine zipper is not critical for the binding of ZIP kinase to MYPT1 and myosin. Consistently, hZIPK-S localized with stress-fibers where they co-localized with myosin. The residues 278-311, the C-terminal side of the kinase domain common to the both isoforms, is involved in the binding to MYPT1, while the myosin binding domain is within the kinase domain. These results suggest that the newly found hZIPK-S as well as the long isoform play an important role in the regulation of myosin phosphorylation.</td>\n",
       "    </tr>\n",
       "    <tr>\n",
       "      <th>1</th>\n",
       "      <td>9</td>\n",
       "      <td>True</td>\n",
       "      <td>1585516</td>\n",
       "      <td>phosphorylation</td>\n",
       "      <td>True</td>\n",
       "      <td>True</td>\n",
       "      <td>[[o43293-1], [Death-associated protein kinase 3], [ZIPK-L], [DAPK3], [ZIPK], [DAP-like kinase], [MYPT1 kinase], [Zipper-interacting protein kinase]]</td>\n",
       "      <td>O43293-1</td>\n",
       "      <td>[[mypt1_rat], [Protein phosphatase 1 regulatory subunit 12A], [Ppp1r12a], [Mbs], [Mypt1], [Myosin phosphatase-targeting subunit 1], [Protein phosphatase myosin-binding subunit], [MBSP], [Serine/threonine protein phosphatase PP1 smooth muscle regulatory subunit M110], [Protein phosphatase subunit 1M]]</td>\n",
       "      <td>Q10728</td>\n",
       "      <td>2</td>\n",
       "      <td>17126281</td>\n",
       "      <td>None</td>\n",
       "      <td>Zipper-interacting protein kinase (ZIP kinase) has been thought to be involved in apoptosis and the C-terminal leucine zipper motif is important for its function. Recent studies have revealed that ZIP kinase also plays a role in regulating myosin phosphorylation. Here, we found novel ZIP kinase isoform in which the C-terminal non-kinase domain containing a leucine zipper is eliminated (hZIPK-S). hZIPK-S binds to myosin phosphatase targeting subunit 1(MYPT1) similar to the long isoform (hZIPK-L). In addition, we found that hZIPK-S as well as hZIPK-L bind to myosin. These results indicate that a leucine zipper is not critical for the binding of ZIP kinase to MYPT1 and myosin. Consistently, hZIPK-S localized with stress-fibers where they co-localized with myosin. The residues 278-311, the C-terminal side of the kinase domain common to the both isoforms, is involved in the binding to MYPT1, while the myosin binding domain is within the kinase domain. These results suggest that the newly found hZIPK-S as well as the long isoform play an important role in the regulation of myosin phosphorylation.</td>\n",
       "    </tr>\n",
       "  </tbody>\n",
       "</table>\n",
       "</div>"
      ],
      "text/plain": [
       "   entityMentionsCount  hasTriggerWord interactionId  interactionType  \\\n",
       "0                    9            True       1585513  phosphorylation   \n",
       "1                    9            True       1585516  phosphorylation   \n",
       "\n",
       "   isValid  lessThanThreshold  \\\n",
       "0     True               True   \n",
       "1     True               True   \n",
       "\n",
       "                                                                                                                                                                                                                                                                                               participant1Alias  \\\n",
       "0  [[mypt1_rat], [Protein phosphatase 1 regulatory subunit 12A], [Ppp1r12a], [Mbs], [Mypt1], [Myosin phosphatase-targeting subunit 1], [Protein phosphatase myosin-binding subunit], [MBSP], [Serine/threonine protein phosphatase PP1 smooth muscle regulatory subunit M110], [Protein phosphatase subunit 1M]]   \n",
       "1                                                                                                                                                           [[o43293-1], [Death-associated protein kinase 3], [ZIPK-L], [DAPK3], [ZIPK], [DAP-like kinase], [MYPT1 kinase], [Zipper-interacting protein kinase]]   \n",
       "\n",
       "  participant1Id  \\\n",
       "0         Q10728   \n",
       "1       O43293-1   \n",
       "\n",
       "                                                                                                                                                                                                                                                                                               participant2Alias  \\\n",
       "0                                                                                                                                                           [[o43293-2], [Death-associated protein kinase 3], [ZIPK-S], [DAPK3], [ZIPK], [DAP-like kinase], [MYPT1 kinase], [Zipper-interacting protein kinase]]   \n",
       "1  [[mypt1_rat], [Protein phosphatase 1 regulatory subunit 12A], [Ppp1r12a], [Mbs], [Mypt1], [Myosin phosphatase-targeting subunit 1], [Protein phosphatase myosin-binding subunit], [MBSP], [Serine/threonine protein phosphatase PP1 smooth muscle regulatory subunit M110], [Protein phosphatase subunit 1M]]   \n",
       "\n",
       "  participant2Id  participants_count  pubmedId pubmedTitle  \\\n",
       "0       O43293-2                   2  17126281        None   \n",
       "1         Q10728                   2  17126281        None   \n",
       "\n",
       "                                                                                                                                                                                                                                                                                                                                                                                                                                                                                                                                                                                                                                                                                                                                                                                                                                                                                                                                                                                                                                                                                                                                        pubmedabstract  \n",
       "0  Zipper-interacting protein kinase (ZIP kinase) has been thought to be involved in apoptosis and the C-terminal leucine zipper motif is important for its function. Recent studies have revealed that ZIP kinase also plays a role in regulating myosin phosphorylation. Here, we found novel ZIP kinase isoform in which the C-terminal non-kinase domain containing a leucine zipper is eliminated (hZIPK-S). hZIPK-S binds to myosin phosphatase targeting subunit 1(MYPT1) similar to the long isoform (hZIPK-L). In addition, we found that hZIPK-S as well as hZIPK-L bind to myosin. These results indicate that a leucine zipper is not critical for the binding of ZIP kinase to MYPT1 and myosin. Consistently, hZIPK-S localized with stress-fibers where they co-localized with myosin. The residues 278-311, the C-terminal side of the kinase domain common to the both isoforms, is involved in the binding to MYPT1, while the myosin binding domain is within the kinase domain. These results suggest that the newly found hZIPK-S as well as the long isoform play an important role in the regulation of myosin phosphorylation.  \n",
       "1  Zipper-interacting protein kinase (ZIP kinase) has been thought to be involved in apoptosis and the C-terminal leucine zipper motif is important for its function. Recent studies have revealed that ZIP kinase also plays a role in regulating myosin phosphorylation. Here, we found novel ZIP kinase isoform in which the C-terminal non-kinase domain containing a leucine zipper is eliminated (hZIPK-S). hZIPK-S binds to myosin phosphatase targeting subunit 1(MYPT1) similar to the long isoform (hZIPK-L). In addition, we found that hZIPK-S as well as hZIPK-L bind to myosin. These results indicate that a leucine zipper is not critical for the binding of ZIP kinase to MYPT1 and myosin. Consistently, hZIPK-S localized with stress-fibers where they co-localized with myosin. The residues 278-311, the C-terminal side of the kinase domain common to the both isoforms, is involved in the binding to MYPT1, while the myosin binding domain is within the kinase domain. These results suggest that the newly found hZIPK-S as well as the long isoform play an important role in the regulation of myosin phosphorylation.  "
      ]
     },
     "execution_count": 37,
     "metadata": {},
     "output_type": "execute_result"
    }
   ],
   "source": [
    "data_transformed.head(n=2)"
   ]
  },
  {
   "cell_type": "code",
   "execution_count": 38,
   "metadata": {},
   "outputs": [
    {
     "data": {
      "text/plain": [
       "(1865, 14)"
      ]
     },
     "execution_count": 38,
     "metadata": {},
     "output_type": "execute_result"
    }
   ],
   "source": [
    "data_transformed.shape"
   ]
  },
  {
   "cell_type": "markdown",
   "metadata": {},
   "source": [
    "### Remove records where the participantId is null"
   ]
  },
  {
   "cell_type": "code",
   "execution_count": 39,
   "metadata": {},
   "outputs": [
    {
     "data": {
      "text/plain": [
       "(1865, 14)"
      ]
     },
     "execution_count": 39,
     "metadata": {},
     "output_type": "execute_result"
    }
   ],
   "source": [
    "data_transformed.shape"
   ]
  },
  {
   "cell_type": "code",
   "execution_count": 40,
   "metadata": {},
   "outputs": [
    {
     "data": {
      "text/plain": [
       "(1795, 14)"
      ]
     },
     "execution_count": 40,
     "metadata": {},
     "output_type": "execute_result"
    }
   ],
   "source": [
    "data_filtered = data_transformed[data_transformed.participant1Id.notnull()]\n",
    "data_filtered.shape"
   ]
  },
  {
   "cell_type": "code",
   "execution_count": 41,
   "metadata": {},
   "outputs": [
    {
     "data": {
      "text/plain": [
       "(1766, 14)"
      ]
     },
     "execution_count": 41,
     "metadata": {},
     "output_type": "execute_result"
    }
   ],
   "source": [
    "data_filtered = data_filtered[data_filtered.participant2Id.notnull()]\n",
    "data_filtered.shape"
   ]
  },
  {
   "cell_type": "code",
   "execution_count": 42,
   "metadata": {},
   "outputs": [
    {
     "data": {
      "text/html": [
       "<div>\n",
       "<style scoped>\n",
       "    .dataframe tbody tr th:only-of-type {\n",
       "        vertical-align: middle;\n",
       "    }\n",
       "\n",
       "    .dataframe tbody tr th {\n",
       "        vertical-align: top;\n",
       "    }\n",
       "\n",
       "    .dataframe thead th {\n",
       "        text-align: right;\n",
       "    }\n",
       "</style>\n",
       "<table border=\"1\" class=\"dataframe\">\n",
       "  <thead>\n",
       "    <tr style=\"text-align: right;\">\n",
       "      <th></th>\n",
       "      <th>entityMentionsCount</th>\n",
       "      <th>hasTriggerWord</th>\n",
       "      <th>interactionId</th>\n",
       "      <th>interactionType</th>\n",
       "      <th>isValid</th>\n",
       "      <th>lessThanThreshold</th>\n",
       "      <th>participant1Alias</th>\n",
       "      <th>participant1Id</th>\n",
       "      <th>participant2Alias</th>\n",
       "      <th>participant2Id</th>\n",
       "      <th>participants_count</th>\n",
       "      <th>pubmedId</th>\n",
       "      <th>pubmedTitle</th>\n",
       "      <th>pubmedabstract</th>\n",
       "    </tr>\n",
       "  </thead>\n",
       "  <tbody>\n",
       "    <tr>\n",
       "      <th>0</th>\n",
       "      <td>9</td>\n",
       "      <td>True</td>\n",
       "      <td>1585513</td>\n",
       "      <td>phosphorylation</td>\n",
       "      <td>True</td>\n",
       "      <td>True</td>\n",
       "      <td>[[mypt1_rat], [Protein phosphatase 1 regulatory subunit 12A], [Ppp1r12a], [Mbs], [Mypt1], [Myosin phosphatase-targeting subunit 1], [Protein phosphatase myosin-binding subunit], [MBSP], [Serine/threonine protein phosphatase PP1 smooth muscle regulatory subunit M110], [Protein phosphatase subunit 1M]]</td>\n",
       "      <td>Q10728</td>\n",
       "      <td>[[o43293-2], [Death-associated protein kinase 3], [ZIPK-S], [DAPK3], [ZIPK], [DAP-like kinase], [MYPT1 kinase], [Zipper-interacting protein kinase]]</td>\n",
       "      <td>O43293-2</td>\n",
       "      <td>2</td>\n",
       "      <td>17126281</td>\n",
       "      <td>None</td>\n",
       "      <td>Zipper-interacting protein kinase (ZIP kinase) has been thought to be involved in apoptosis and the C-terminal leucine zipper motif is important for its function. Recent studies have revealed that ZIP kinase also plays a role in regulating myosin phosphorylation. Here, we found novel ZIP kinase isoform in which the C-terminal non-kinase domain containing a leucine zipper is eliminated (hZIPK-S). hZIPK-S binds to myosin phosphatase targeting subunit 1(MYPT1) similar to the long isoform (hZIPK-L). In addition, we found that hZIPK-S as well as hZIPK-L bind to myosin. These results indicate that a leucine zipper is not critical for the binding of ZIP kinase to MYPT1 and myosin. Consistently, hZIPK-S localized with stress-fibers where they co-localized with myosin. The residues 278-311, the C-terminal side of the kinase domain common to the both isoforms, is involved in the binding to MYPT1, while the myosin binding domain is within the kinase domain. These results suggest that the newly found hZIPK-S as well as the long isoform play an important role in the regulation of myosin phosphorylation.</td>\n",
       "    </tr>\n",
       "    <tr>\n",
       "      <th>1</th>\n",
       "      <td>9</td>\n",
       "      <td>True</td>\n",
       "      <td>1585516</td>\n",
       "      <td>phosphorylation</td>\n",
       "      <td>True</td>\n",
       "      <td>True</td>\n",
       "      <td>[[o43293-1], [Death-associated protein kinase 3], [ZIPK-L], [DAPK3], [ZIPK], [DAP-like kinase], [MYPT1 kinase], [Zipper-interacting protein kinase]]</td>\n",
       "      <td>O43293-1</td>\n",
       "      <td>[[mypt1_rat], [Protein phosphatase 1 regulatory subunit 12A], [Ppp1r12a], [Mbs], [Mypt1], [Myosin phosphatase-targeting subunit 1], [Protein phosphatase myosin-binding subunit], [MBSP], [Serine/threonine protein phosphatase PP1 smooth muscle regulatory subunit M110], [Protein phosphatase subunit 1M]]</td>\n",
       "      <td>Q10728</td>\n",
       "      <td>2</td>\n",
       "      <td>17126281</td>\n",
       "      <td>None</td>\n",
       "      <td>Zipper-interacting protein kinase (ZIP kinase) has been thought to be involved in apoptosis and the C-terminal leucine zipper motif is important for its function. Recent studies have revealed that ZIP kinase also plays a role in regulating myosin phosphorylation. Here, we found novel ZIP kinase isoform in which the C-terminal non-kinase domain containing a leucine zipper is eliminated (hZIPK-S). hZIPK-S binds to myosin phosphatase targeting subunit 1(MYPT1) similar to the long isoform (hZIPK-L). In addition, we found that hZIPK-S as well as hZIPK-L bind to myosin. These results indicate that a leucine zipper is not critical for the binding of ZIP kinase to MYPT1 and myosin. Consistently, hZIPK-S localized with stress-fibers where they co-localized with myosin. The residues 278-311, the C-terminal side of the kinase domain common to the both isoforms, is involved in the binding to MYPT1, while the myosin binding domain is within the kinase domain. These results suggest that the newly found hZIPK-S as well as the long isoform play an important role in the regulation of myosin phosphorylation.</td>\n",
       "    </tr>\n",
       "  </tbody>\n",
       "</table>\n",
       "</div>"
      ],
      "text/plain": [
       "   entityMentionsCount  hasTriggerWord interactionId  interactionType  \\\n",
       "0                    9            True       1585513  phosphorylation   \n",
       "1                    9            True       1585516  phosphorylation   \n",
       "\n",
       "   isValid  lessThanThreshold  \\\n",
       "0     True               True   \n",
       "1     True               True   \n",
       "\n",
       "                                                                                                                                                                                                                                                                                               participant1Alias  \\\n",
       "0  [[mypt1_rat], [Protein phosphatase 1 regulatory subunit 12A], [Ppp1r12a], [Mbs], [Mypt1], [Myosin phosphatase-targeting subunit 1], [Protein phosphatase myosin-binding subunit], [MBSP], [Serine/threonine protein phosphatase PP1 smooth muscle regulatory subunit M110], [Protein phosphatase subunit 1M]]   \n",
       "1                                                                                                                                                           [[o43293-1], [Death-associated protein kinase 3], [ZIPK-L], [DAPK3], [ZIPK], [DAP-like kinase], [MYPT1 kinase], [Zipper-interacting protein kinase]]   \n",
       "\n",
       "  participant1Id  \\\n",
       "0         Q10728   \n",
       "1       O43293-1   \n",
       "\n",
       "                                                                                                                                                                                                                                                                                               participant2Alias  \\\n",
       "0                                                                                                                                                           [[o43293-2], [Death-associated protein kinase 3], [ZIPK-S], [DAPK3], [ZIPK], [DAP-like kinase], [MYPT1 kinase], [Zipper-interacting protein kinase]]   \n",
       "1  [[mypt1_rat], [Protein phosphatase 1 regulatory subunit 12A], [Ppp1r12a], [Mbs], [Mypt1], [Myosin phosphatase-targeting subunit 1], [Protein phosphatase myosin-binding subunit], [MBSP], [Serine/threonine protein phosphatase PP1 smooth muscle regulatory subunit M110], [Protein phosphatase subunit 1M]]   \n",
       "\n",
       "  participant2Id  participants_count  pubmedId pubmedTitle  \\\n",
       "0       O43293-2                   2  17126281        None   \n",
       "1         Q10728                   2  17126281        None   \n",
       "\n",
       "                                                                                                                                                                                                                                                                                                                                                                                                                                                                                                                                                                                                                                                                                                                                                                                                                                                                                                                                                                                                                                                                                                                                        pubmedabstract  \n",
       "0  Zipper-interacting protein kinase (ZIP kinase) has been thought to be involved in apoptosis and the C-terminal leucine zipper motif is important for its function. Recent studies have revealed that ZIP kinase also plays a role in regulating myosin phosphorylation. Here, we found novel ZIP kinase isoform in which the C-terminal non-kinase domain containing a leucine zipper is eliminated (hZIPK-S). hZIPK-S binds to myosin phosphatase targeting subunit 1(MYPT1) similar to the long isoform (hZIPK-L). In addition, we found that hZIPK-S as well as hZIPK-L bind to myosin. These results indicate that a leucine zipper is not critical for the binding of ZIP kinase to MYPT1 and myosin. Consistently, hZIPK-S localized with stress-fibers where they co-localized with myosin. The residues 278-311, the C-terminal side of the kinase domain common to the both isoforms, is involved in the binding to MYPT1, while the myosin binding domain is within the kinase domain. These results suggest that the newly found hZIPK-S as well as the long isoform play an important role in the regulation of myosin phosphorylation.  \n",
       "1  Zipper-interacting protein kinase (ZIP kinase) has been thought to be involved in apoptosis and the C-terminal leucine zipper motif is important for its function. Recent studies have revealed that ZIP kinase also plays a role in regulating myosin phosphorylation. Here, we found novel ZIP kinase isoform in which the C-terminal non-kinase domain containing a leucine zipper is eliminated (hZIPK-S). hZIPK-S binds to myosin phosphatase targeting subunit 1(MYPT1) similar to the long isoform (hZIPK-L). In addition, we found that hZIPK-S as well as hZIPK-L bind to myosin. These results indicate that a leucine zipper is not critical for the binding of ZIP kinase to MYPT1 and myosin. Consistently, hZIPK-S localized with stress-fibers where they co-localized with myosin. The residues 278-311, the C-terminal side of the kinase domain common to the both isoforms, is involved in the binding to MYPT1, while the myosin binding domain is within the kinase domain. These results suggest that the newly found hZIPK-S as well as the long isoform play an important role in the regulation of myosin phosphorylation.  "
      ]
     },
     "execution_count": 42,
     "metadata": {},
     "output_type": "execute_result"
    }
   ],
   "source": [
    "data_filtered.head(n=2)"
   ]
  },
  {
   "cell_type": "markdown",
   "metadata": {},
   "source": [
    "### Normalise abstract"
   ]
  },
  {
   "cell_type": "code",
   "execution_count": 43,
   "metadata": {},
   "outputs": [],
   "source": [
    "\n",
    "def normalise_absract(data, enity_annotations_file):\n",
    "    from datatransformer.abstractGeneNormaliser import AbstractGeneNormaliser\n",
    "    from datatransformer.ncbiGeneUniprotLocalDbMapper import NcbiGeneUniprotLocalDbMapper\n",
    "    from datatransformer.ncbiGeneUniprotMapper import NcbiGeneUniprotMapper\n",
    "\n",
    "\n",
    "    from dataformatters.gnormplusPubtatorReader import GnormplusPubtatorReader\n",
    "    from datatransformer.textGeneNormaliser import TextGeneNormaliser\n",
    "\n",
    "\n",
    "    import os\n",
    "    \n",
    " \n",
    "    localdb = idmapping_dat\n",
    "    with open(localdb, \"r\") as dbhandle:\n",
    "        mapper = NcbiGeneUniprotLocalDbMapper(dbhandle, \"GeneID\") \n",
    "        \n",
    "        #Read gnormplus identified entities\n",
    "        reader = GnormplusPubtatorReader()\n",
    "        with open(enity_annotations_file,\"r\") as handle:\n",
    "            annotations_json = list(reader(handle))\n",
    "        \n",
    "        \n",
    "        # \n",
    "        normaliser = AbstractGeneNormaliser(annotations_json)\n",
    "        normaliser.text_gene_normaliser = TextGeneNormaliser(geneIdConverter = mapper) \n",
    "        result = normaliser.transform(data)\n",
    "        \n",
    "       \n",
    "\n",
    "        return result"
   ]
  },
  {
   "cell_type": "code",
   "execution_count": 44,
   "metadata": {},
   "outputs": [
    {
     "name": "stdout",
     "output_type": "stream",
     "text": [
      "2021-01-28 22:33:38,489 - datatransformer.abstractGeneNormaliser - INFO - Starting transformation..\n",
      "2021-01-28 22:33:44,309 - datatransformer.abstractGeneNormaliser - INFO - Completed normalised abstract...\n",
      "2021-01-28 22:33:44,310 - datatransformer.abstractGeneNormaliser - INFO - Adding annotations ...\n",
      "2021-01-28 22:33:44,458 - datatransformer.abstractGeneNormaliser - INFO - Adding annotations_abstract...\n",
      "2021-01-28 22:33:44,491 - datatransformer.abstractGeneNormaliser - INFO - Adding num_unique_gene_normalised_id...\n",
      "2021-01-28 22:33:44,504 - datatransformer.abstractGeneNormaliser - INFO - Adding num_gene_normalised_id...\n",
      "2021-01-28 22:33:44,522 - datatransformer.abstractGeneNormaliser - INFO - Gene Id links...\n",
      "2021-01-28 22:33:44,546 - datatransformer.abstractGeneNormaliser - INFO - Completed transformation\n",
      "CPU times: user 4.86 s, sys: 165 ms, total: 5.03 s\n",
      "Wall time: 6.13 s\n"
     ]
    }
   ],
   "source": [
    "%%time\n",
    "\n",
    "data_filtered = normalise_absract(data_filtered, annotations_file)"
   ]
  },
  {
   "cell_type": "code",
   "execution_count": 45,
   "metadata": {},
   "outputs": [
    {
     "data": {
      "text/plain": [
       "(1766, 20)"
      ]
     },
     "execution_count": 45,
     "metadata": {},
     "output_type": "execute_result"
    }
   ],
   "source": [
    "data_filtered.shape"
   ]
  },
  {
   "cell_type": "code",
   "execution_count": 46,
   "metadata": {},
   "outputs": [
    {
     "data": {
      "text/html": [
       "<div>\n",
       "<style scoped>\n",
       "    .dataframe tbody tr th:only-of-type {\n",
       "        vertical-align: middle;\n",
       "    }\n",
       "\n",
       "    .dataframe tbody tr th {\n",
       "        vertical-align: top;\n",
       "    }\n",
       "\n",
       "    .dataframe thead th {\n",
       "        text-align: right;\n",
       "    }\n",
       "</style>\n",
       "<table border=\"1\" class=\"dataframe\">\n",
       "  <thead>\n",
       "    <tr style=\"text-align: right;\">\n",
       "      <th></th>\n",
       "      <th>entityMentionsCount</th>\n",
       "      <th>hasTriggerWord</th>\n",
       "      <th>interactionId</th>\n",
       "      <th>interactionType</th>\n",
       "      <th>isValid</th>\n",
       "      <th>lessThanThreshold</th>\n",
       "      <th>participant1Alias</th>\n",
       "      <th>participant1Id</th>\n",
       "      <th>participant2Alias</th>\n",
       "      <th>participant2Id</th>\n",
       "      <th>participants_count</th>\n",
       "      <th>pubmedId</th>\n",
       "      <th>pubmedTitle</th>\n",
       "      <th>pubmedabstract</th>\n",
       "      <th>normalised_abstract</th>\n",
       "      <th>annotations</th>\n",
       "      <th>annotations_abstract</th>\n",
       "      <th>num_unique_gene_normalised_id</th>\n",
       "      <th>num_gene_normalised_id</th>\n",
       "      <th>gene_to_uniprot_map</th>\n",
       "    </tr>\n",
       "  </thead>\n",
       "  <tbody>\n",
       "    <tr>\n",
       "      <th>0</th>\n",
       "      <td>9</td>\n",
       "      <td>True</td>\n",
       "      <td>1585513</td>\n",
       "      <td>phosphorylation</td>\n",
       "      <td>True</td>\n",
       "      <td>True</td>\n",
       "      <td>[[mypt1_rat], [Protein phosphatase 1 regulatory subunit 12A], [Ppp1r12a], [Mbs], [Mypt1], [Myosin phosphatase-targeting subunit 1], [Protein phosphatase myosin-binding subunit], [MBSP], [Serine/threonine protein phosphatase PP1 smooth muscle regulatory subunit M110], [Protein phosphatase subunit 1M]]</td>\n",
       "      <td>Q10728</td>\n",
       "      <td>[[o43293-2], [Death-associated protein kinase 3], [ZIPK-S], [DAPK3], [ZIPK], [DAP-like kinase], [MYPT1 kinase], [Zipper-interacting protein kinase]]</td>\n",
       "      <td>O43293-2</td>\n",
       "      <td>2</td>\n",
       "      <td>17126281</td>\n",
       "      <td>None</td>\n",
       "      <td>Zipper-interacting protein kinase (ZIP kinase) has been thought to be involved in apoptosis and the C-terminal leucine zipper motif is important for its function. Recent studies have revealed that ZIP kinase also plays a role in regulating myosin phosphorylation. Here, we found novel ZIP kinase isoform in which the C-terminal non-kinase domain containing a leucine zipper is eliminated (hZIPK-S). hZIPK-S binds to myosin phosphatase targeting subunit 1(MYPT1) similar to the long isoform (hZIPK-L). In addition, we found that hZIPK-S as well as hZIPK-L bind to myosin. These results indicate that a leucine zipper is not critical for the binding of ZIP kinase to MYPT1 and myosin. Consistently, hZIPK-S localized with stress-fibers where they co-localized with myosin. The residues 278-311, the C-terminal side of the kinase domain common to the both isoforms, is involved in the binding to MYPT1, while the myosin binding domain is within the kinase domain. These results suggest that the newly found hZIPK-S as well as the long isoform play an important role in the regulation of myosin phosphorylation.</td>\n",
       "      <td>O43293 (O43293) has been thought to be involved in apoptosis and the C-terminal leucine zipper motif is important for its function. Recent studies have revealed that O43293 also plays a role in regulating Q7Z406 phosphorylation. Here, we found novel O43293 isoform in which the C-terminal non-kinase domain containing a leucine zipper is eliminated (hZIPK-S). hZIPK-S binds to O14974(O14974) similar to the long isoform (hZIPK-L). In addition, we found that hZIPK-S as well as hZIPK-L bind to Q7Z406. These results indicate that a leucine zipper is not critical for the binding of O43293 to O14974 and Q7Z406. Consistently, hZIPK-S localized with stress-fibers where they co-localized with Q7Z406. The residues 278-311, the C-terminal side of the kinase domain common to the both isoforms, is involved in the binding to O14974, while the Q7Z406 binding domain is within the kinase domain. These results suggest that the newly found hZIPK-S as well as the long isoform play an important role in the regulation of Q7Z406 phosphorylation.</td>\n",
       "      <td>[{'start': '0', 'end': '33', 'name': 'Zipper-interacting protein kinase', 'type': 'Gene', 'normalised_id': '1613'}, {'start': '35', 'end': '45', 'name': 'ZIP kinase', 'type': 'Gene', 'normalised_id': '1613'}, {'start': '197', 'end': '207', 'name': 'ZIP kinase', 'type': 'Gene', 'normalised_id': '1613'}, {'start': '240', 'end': '246', 'name': 'myosin', 'type': 'Gene', 'normalised_id': '79784'}, {'start': '285', 'end': '295', 'name': 'ZIP kinase', 'type': 'Gene', 'normalised_id': '1613'}, {'start': '416', 'end': '454', 'name': 'myosin phosphatase targeting subunit 1', 'type': 'Gene', 'normalised_id': '4659'}, {'start': '455', 'end': '460', 'name': 'MYPT1', 'type': 'Gene', 'normalised_id': '4659'}, {'start': '563', 'end': '569', 'name': 'myosin', 'type': 'Gene', 'normalised_id': '79784'}, {'start': '651', 'end': '661', 'name': 'ZIP kinase', 'type': 'Gene', 'normalised_id': '1613'}, {'start': '665', 'end': '670', 'name': 'MYPT1', 'type': 'Gene', 'normalised_id': '4659'}, {'start': '675', 'end': '681', 'name': 'myosin', 'type': 'Gene', 'normalised_id': '79784'}, {'start': '763', 'end': '769', 'name': 'myosin', 'type': 'Gene', 'normalised_id': '79784'}, {'start': '893', 'end': '898', 'name': 'MYPT1', 'type': 'Gene', 'normalised_id': '4659'}, {'start': '910', 'end': '916', 'name': 'myosin', 'type': 'Gene', 'normalised_id': '79784'}, {'start': '1084', 'end': '1090', 'name': 'myosin', 'type': 'Gene', 'normalised_id': '79784'}]</td>\n",
       "      <td>Zipper-interacting protein kinase (ZIP kinase) has been thought to be involved in apoptosis and the C-terminal leucine zipper motif is important for its function. Recent studies have revealed that ZIP kinase also plays a role in regulating myosin phosphorylation. Here, we found novel ZIP kinase isoform in which the C-terminal non-kinase domain containing a leucine zipper is eliminated (hZIPK-S). hZIPK-S binds to myosin phosphatase targeting subunit 1(MYPT1) similar to the long isoform (hZIPK-L). In addition, we found that hZIPK-S as well as hZIPK-L bind to myosin. These results indicate that a leucine zipper is not critical for the binding of ZIP kinase to MYPT1 and myosin. Consistently, hZIPK-S localized with stress-fibers where they co-localized with myosin. The residues 278-311, the C-terminal side of the kinase domain common to the both isoforms, is involved in the binding to MYPT1, while the myosin binding domain is within the kinase domain. These results suggest that the newly found hZIPK-S as well as the long isoform play an important role in the regulation of myosin phosphorylation.</td>\n",
       "      <td>3</td>\n",
       "      <td>15</td>\n",
       "      <td>{'1613': ['O43293', 'B3KNJ3'], '79784': ['Q7Z406', 'A1L2Z2', 'B3KWH4'], '4659': ['O14974', 'B2RAH5']}</td>\n",
       "    </tr>\n",
       "    <tr>\n",
       "      <th>1</th>\n",
       "      <td>9</td>\n",
       "      <td>True</td>\n",
       "      <td>1585516</td>\n",
       "      <td>phosphorylation</td>\n",
       "      <td>True</td>\n",
       "      <td>True</td>\n",
       "      <td>[[o43293-1], [Death-associated protein kinase 3], [ZIPK-L], [DAPK3], [ZIPK], [DAP-like kinase], [MYPT1 kinase], [Zipper-interacting protein kinase]]</td>\n",
       "      <td>O43293-1</td>\n",
       "      <td>[[mypt1_rat], [Protein phosphatase 1 regulatory subunit 12A], [Ppp1r12a], [Mbs], [Mypt1], [Myosin phosphatase-targeting subunit 1], [Protein phosphatase myosin-binding subunit], [MBSP], [Serine/threonine protein phosphatase PP1 smooth muscle regulatory subunit M110], [Protein phosphatase subunit 1M]]</td>\n",
       "      <td>Q10728</td>\n",
       "      <td>2</td>\n",
       "      <td>17126281</td>\n",
       "      <td>None</td>\n",
       "      <td>Zipper-interacting protein kinase (ZIP kinase) has been thought to be involved in apoptosis and the C-terminal leucine zipper motif is important for its function. Recent studies have revealed that ZIP kinase also plays a role in regulating myosin phosphorylation. Here, we found novel ZIP kinase isoform in which the C-terminal non-kinase domain containing a leucine zipper is eliminated (hZIPK-S). hZIPK-S binds to myosin phosphatase targeting subunit 1(MYPT1) similar to the long isoform (hZIPK-L). In addition, we found that hZIPK-S as well as hZIPK-L bind to myosin. These results indicate that a leucine zipper is not critical for the binding of ZIP kinase to MYPT1 and myosin. Consistently, hZIPK-S localized with stress-fibers where they co-localized with myosin. The residues 278-311, the C-terminal side of the kinase domain common to the both isoforms, is involved in the binding to MYPT1, while the myosin binding domain is within the kinase domain. These results suggest that the newly found hZIPK-S as well as the long isoform play an important role in the regulation of myosin phosphorylation.</td>\n",
       "      <td>O43293 (O43293) has been thought to be involved in apoptosis and the C-terminal leucine zipper motif is important for its function. Recent studies have revealed that O43293 also plays a role in regulating Q7Z406 phosphorylation. Here, we found novel O43293 isoform in which the C-terminal non-kinase domain containing a leucine zipper is eliminated (hZIPK-S). hZIPK-S binds to O14974(O14974) similar to the long isoform (hZIPK-L). In addition, we found that hZIPK-S as well as hZIPK-L bind to Q7Z406. These results indicate that a leucine zipper is not critical for the binding of O43293 to O14974 and Q7Z406. Consistently, hZIPK-S localized with stress-fibers where they co-localized with Q7Z406. The residues 278-311, the C-terminal side of the kinase domain common to the both isoforms, is involved in the binding to O14974, while the Q7Z406 binding domain is within the kinase domain. These results suggest that the newly found hZIPK-S as well as the long isoform play an important role in the regulation of Q7Z406 phosphorylation.</td>\n",
       "      <td>[{'start': '0', 'end': '33', 'name': 'Zipper-interacting protein kinase', 'type': 'Gene', 'normalised_id': '1613'}, {'start': '35', 'end': '45', 'name': 'ZIP kinase', 'type': 'Gene', 'normalised_id': '1613'}, {'start': '197', 'end': '207', 'name': 'ZIP kinase', 'type': 'Gene', 'normalised_id': '1613'}, {'start': '240', 'end': '246', 'name': 'myosin', 'type': 'Gene', 'normalised_id': '79784'}, {'start': '285', 'end': '295', 'name': 'ZIP kinase', 'type': 'Gene', 'normalised_id': '1613'}, {'start': '416', 'end': '454', 'name': 'myosin phosphatase targeting subunit 1', 'type': 'Gene', 'normalised_id': '4659'}, {'start': '455', 'end': '460', 'name': 'MYPT1', 'type': 'Gene', 'normalised_id': '4659'}, {'start': '563', 'end': '569', 'name': 'myosin', 'type': 'Gene', 'normalised_id': '79784'}, {'start': '651', 'end': '661', 'name': 'ZIP kinase', 'type': 'Gene', 'normalised_id': '1613'}, {'start': '665', 'end': '670', 'name': 'MYPT1', 'type': 'Gene', 'normalised_id': '4659'}, {'start': '675', 'end': '681', 'name': 'myosin', 'type': 'Gene', 'normalised_id': '79784'}, {'start': '763', 'end': '769', 'name': 'myosin', 'type': 'Gene', 'normalised_id': '79784'}, {'start': '893', 'end': '898', 'name': 'MYPT1', 'type': 'Gene', 'normalised_id': '4659'}, {'start': '910', 'end': '916', 'name': 'myosin', 'type': 'Gene', 'normalised_id': '79784'}, {'start': '1084', 'end': '1090', 'name': 'myosin', 'type': 'Gene', 'normalised_id': '79784'}]</td>\n",
       "      <td>Zipper-interacting protein kinase (ZIP kinase) has been thought to be involved in apoptosis and the C-terminal leucine zipper motif is important for its function. Recent studies have revealed that ZIP kinase also plays a role in regulating myosin phosphorylation. Here, we found novel ZIP kinase isoform in which the C-terminal non-kinase domain containing a leucine zipper is eliminated (hZIPK-S). hZIPK-S binds to myosin phosphatase targeting subunit 1(MYPT1) similar to the long isoform (hZIPK-L). In addition, we found that hZIPK-S as well as hZIPK-L bind to myosin. These results indicate that a leucine zipper is not critical for the binding of ZIP kinase to MYPT1 and myosin. Consistently, hZIPK-S localized with stress-fibers where they co-localized with myosin. The residues 278-311, the C-terminal side of the kinase domain common to the both isoforms, is involved in the binding to MYPT1, while the myosin binding domain is within the kinase domain. These results suggest that the newly found hZIPK-S as well as the long isoform play an important role in the regulation of myosin phosphorylation.</td>\n",
       "      <td>3</td>\n",
       "      <td>15</td>\n",
       "      <td>{'1613': ['O43293', 'B3KNJ3'], '79784': ['Q7Z406', 'A1L2Z2', 'B3KWH4'], '4659': ['O14974', 'B2RAH5']}</td>\n",
       "    </tr>\n",
       "    <tr>\n",
       "      <th>2</th>\n",
       "      <td>0</td>\n",
       "      <td>True</td>\n",
       "      <td>575312</td>\n",
       "      <td>phosphorylation</td>\n",
       "      <td>True</td>\n",
       "      <td>True</td>\n",
       "      <td>[[p02686-1], [Myelin basic protein], [MBP], [Myelin A1 protein], [Myelin membrane encephalitogenic protein], [Golli-MBP1], [HOG7]]</td>\n",
       "      <td>P02686-1</td>\n",
       "      <td>[[q8i629_plaf7], [PF3D7_1201600]]</td>\n",
       "      <td>Q8I629</td>\n",
       "      <td>2</td>\n",
       "      <td>17064692</td>\n",
       "      <td>None</td>\n",
       "      <td>The canonical mitogen-activated protein kinase (MAPK) signal cascade was previously suggested to be atypical in the malaria parasite. This raises queries on the existence of alternative mediators of plasmodial MAPK pathways. This study describes, Pfnek3, a malarial protein kinase belonging to the NIMA (Never in Mitosis, Aspergillus) family. Endogenous Pfnek3 is expressed during late asexual to gametocyte stages and lacks some classical protein kinase sequence motifs. Moreover, Pfnek3 is phylogenetically distant from mammalian NIMA-kinases. Recombinant Pfnek3 was able to phosphorylate and stimulate a malarial MAPK (Pfmap2). Contrastingly, this was not observed with two other kinases, Pfmap1 and human MAPK1, suggesting that the Pfnek3-Pfmap2 interaction may be specific for Pfmap2 regulation. In summary, our data reveal a malarial NIMA-kinase with the potential to regulate a MAPK. Possessing biochemical properties divergent from classical mammalian NIMA-kinases, Pfnek3 could potentially be an attractive target for parasite-selective anti-malarials.</td>\n",
       "      <td>The canonical mitogen-activated protein kinase (MAPK) signal cascade was previously suggested to be atypical in the malaria parasite. This raises queries on the existence of alternative mediators of plasmodial MAPK pathways. This study describes, Pfnek3, a malarial protein kinase belonging to the NIMA (Never in Mitosis, Aspergillus) family. Endogenous Pfnek3 is expressed during late asexual to gametocyte stages and lacks some classical protein kinase sequence motifs. Moreover, Pfnek3 is phylogenetically distant from mammalian NIMA-kinases. Recombinant Pfnek3 was able to phosphorylate and stimulate a malarial MAPK (Pfmap2). Contrastingly, this was not observed with two other kinases, Pfmap1 and human P28482, suggesting that the Pfnek3-Pfmap2 interaction may be specific for Pfmap2 regulation. In summary, our data reveal a malarial NIMA-kinase with the potential to regulate a MAPK. Possessing biochemical properties divergent from classical mammalian NIMA-kinases, Pfnek3 could potentially be an attractive target for parasite-selective anti-malarials.</td>\n",
       "      <td>[{'start': '522', 'end': '531', 'name': 'mammalian', 'type': 'Species', 'normalised_id': '9606'}, {'start': '703', 'end': '708', 'name': 'human', 'type': 'Species', 'normalised_id': '9606'}, {'start': '709', 'end': '714', 'name': 'MAPK1', 'type': 'Gene', 'normalised_id': '5594'}, {'start': '950', 'end': '959', 'name': 'mammalian', 'type': 'Species', 'normalised_id': '9606'}]</td>\n",
       "      <td>The canonical mitogen-activated protein kinase (MAPK) signal cascade was previously suggested to be atypical in the malaria parasite. This raises queries on the existence of alternative mediators of plasmodial MAPK pathways. This study describes, Pfnek3, a malarial protein kinase belonging to the NIMA (Never in Mitosis, Aspergillus) family. Endogenous Pfnek3 is expressed during late asexual to gametocyte stages and lacks some classical protein kinase sequence motifs. Moreover, Pfnek3 is phylogenetically distant from mammalian NIMA-kinases. Recombinant Pfnek3 was able to phosphorylate and stimulate a malarial MAPK (Pfmap2). Contrastingly, this was not observed with two other kinases, Pfmap1 and human MAPK1, suggesting that the Pfnek3-Pfmap2 interaction may be specific for Pfmap2 regulation. In summary, our data reveal a malarial NIMA-kinase with the potential to regulate a MAPK. Possessing biochemical properties divergent from classical mammalian NIMA-kinases, Pfnek3 could potentially be an attractive target for parasite-selective anti-malarials.</td>\n",
       "      <td>1</td>\n",
       "      <td>1</td>\n",
       "      <td>{'5594': ['P28482', 'Q1HBJ4', 'Q499G7']}</td>\n",
       "    </tr>\n",
       "  </tbody>\n",
       "</table>\n",
       "</div>"
      ],
      "text/plain": [
       "   entityMentionsCount  hasTriggerWord interactionId  interactionType  \\\n",
       "0                    9            True       1585513  phosphorylation   \n",
       "1                    9            True       1585516  phosphorylation   \n",
       "2                    0            True        575312  phosphorylation   \n",
       "\n",
       "   isValid  lessThanThreshold  \\\n",
       "0     True               True   \n",
       "1     True               True   \n",
       "2     True               True   \n",
       "\n",
       "                                                                                                                                                                                                                                                                                               participant1Alias  \\\n",
       "0  [[mypt1_rat], [Protein phosphatase 1 regulatory subunit 12A], [Ppp1r12a], [Mbs], [Mypt1], [Myosin phosphatase-targeting subunit 1], [Protein phosphatase myosin-binding subunit], [MBSP], [Serine/threonine protein phosphatase PP1 smooth muscle regulatory subunit M110], [Protein phosphatase subunit 1M]]   \n",
       "1                                                                                                                                                           [[o43293-1], [Death-associated protein kinase 3], [ZIPK-L], [DAPK3], [ZIPK], [DAP-like kinase], [MYPT1 kinase], [Zipper-interacting protein kinase]]   \n",
       "2                                                                                                                                                                             [[p02686-1], [Myelin basic protein], [MBP], [Myelin A1 protein], [Myelin membrane encephalitogenic protein], [Golli-MBP1], [HOG7]]   \n",
       "\n",
       "  participant1Id  \\\n",
       "0         Q10728   \n",
       "1       O43293-1   \n",
       "2       P02686-1   \n",
       "\n",
       "                                                                                                                                                                                                                                                                                               participant2Alias  \\\n",
       "0                                                                                                                                                           [[o43293-2], [Death-associated protein kinase 3], [ZIPK-S], [DAPK3], [ZIPK], [DAP-like kinase], [MYPT1 kinase], [Zipper-interacting protein kinase]]   \n",
       "1  [[mypt1_rat], [Protein phosphatase 1 regulatory subunit 12A], [Ppp1r12a], [Mbs], [Mypt1], [Myosin phosphatase-targeting subunit 1], [Protein phosphatase myosin-binding subunit], [MBSP], [Serine/threonine protein phosphatase PP1 smooth muscle regulatory subunit M110], [Protein phosphatase subunit 1M]]   \n",
       "2                                                                                                                                                                                                                                                                              [[q8i629_plaf7], [PF3D7_1201600]]   \n",
       "\n",
       "  participant2Id  participants_count  pubmedId pubmedTitle  \\\n",
       "0       O43293-2                   2  17126281        None   \n",
       "1         Q10728                   2  17126281        None   \n",
       "2         Q8I629                   2  17064692        None   \n",
       "\n",
       "                                                                                                                                                                                                                                                                                                                                                                                                                                                                                                                                                                                                                                                                                                                                                                                                                                                                                                                                                                                                                                                                                                                                        pubmedabstract  \\\n",
       "0  Zipper-interacting protein kinase (ZIP kinase) has been thought to be involved in apoptosis and the C-terminal leucine zipper motif is important for its function. Recent studies have revealed that ZIP kinase also plays a role in regulating myosin phosphorylation. Here, we found novel ZIP kinase isoform in which the C-terminal non-kinase domain containing a leucine zipper is eliminated (hZIPK-S). hZIPK-S binds to myosin phosphatase targeting subunit 1(MYPT1) similar to the long isoform (hZIPK-L). In addition, we found that hZIPK-S as well as hZIPK-L bind to myosin. These results indicate that a leucine zipper is not critical for the binding of ZIP kinase to MYPT1 and myosin. Consistently, hZIPK-S localized with stress-fibers where they co-localized with myosin. The residues 278-311, the C-terminal side of the kinase domain common to the both isoforms, is involved in the binding to MYPT1, while the myosin binding domain is within the kinase domain. These results suggest that the newly found hZIPK-S as well as the long isoform play an important role in the regulation of myosin phosphorylation.   \n",
       "1  Zipper-interacting protein kinase (ZIP kinase) has been thought to be involved in apoptosis and the C-terminal leucine zipper motif is important for its function. Recent studies have revealed that ZIP kinase also plays a role in regulating myosin phosphorylation. Here, we found novel ZIP kinase isoform in which the C-terminal non-kinase domain containing a leucine zipper is eliminated (hZIPK-S). hZIPK-S binds to myosin phosphatase targeting subunit 1(MYPT1) similar to the long isoform (hZIPK-L). In addition, we found that hZIPK-S as well as hZIPK-L bind to myosin. These results indicate that a leucine zipper is not critical for the binding of ZIP kinase to MYPT1 and myosin. Consistently, hZIPK-S localized with stress-fibers where they co-localized with myosin. The residues 278-311, the C-terminal side of the kinase domain common to the both isoforms, is involved in the binding to MYPT1, while the myosin binding domain is within the kinase domain. These results suggest that the newly found hZIPK-S as well as the long isoform play an important role in the regulation of myosin phosphorylation.   \n",
       "2                                                The canonical mitogen-activated protein kinase (MAPK) signal cascade was previously suggested to be atypical in the malaria parasite. This raises queries on the existence of alternative mediators of plasmodial MAPK pathways. This study describes, Pfnek3, a malarial protein kinase belonging to the NIMA (Never in Mitosis, Aspergillus) family. Endogenous Pfnek3 is expressed during late asexual to gametocyte stages and lacks some classical protein kinase sequence motifs. Moreover, Pfnek3 is phylogenetically distant from mammalian NIMA-kinases. Recombinant Pfnek3 was able to phosphorylate and stimulate a malarial MAPK (Pfmap2). Contrastingly, this was not observed with two other kinases, Pfmap1 and human MAPK1, suggesting that the Pfnek3-Pfmap2 interaction may be specific for Pfmap2 regulation. In summary, our data reveal a malarial NIMA-kinase with the potential to regulate a MAPK. Possessing biochemical properties divergent from classical mammalian NIMA-kinases, Pfnek3 could potentially be an attractive target for parasite-selective anti-malarials.   \n",
       "\n",
       "                                                                                                                                                                                                                                                                                                                                                                                                                                                                                                                                                                                                                                                                                                                                                                                                                                                                                                                                                                                                                                                                                      normalised_abstract  \\\n",
       "0                             O43293 (O43293) has been thought to be involved in apoptosis and the C-terminal leucine zipper motif is important for its function. Recent studies have revealed that O43293 also plays a role in regulating Q7Z406 phosphorylation. Here, we found novel O43293 isoform in which the C-terminal non-kinase domain containing a leucine zipper is eliminated (hZIPK-S). hZIPK-S binds to O14974(O14974) similar to the long isoform (hZIPK-L). In addition, we found that hZIPK-S as well as hZIPK-L bind to Q7Z406. These results indicate that a leucine zipper is not critical for the binding of O43293 to O14974 and Q7Z406. Consistently, hZIPK-S localized with stress-fibers where they co-localized with Q7Z406. The residues 278-311, the C-terminal side of the kinase domain common to the both isoforms, is involved in the binding to O14974, while the Q7Z406 binding domain is within the kinase domain. These results suggest that the newly found hZIPK-S as well as the long isoform play an important role in the regulation of Q7Z406 phosphorylation.   \n",
       "1                             O43293 (O43293) has been thought to be involved in apoptosis and the C-terminal leucine zipper motif is important for its function. Recent studies have revealed that O43293 also plays a role in regulating Q7Z406 phosphorylation. Here, we found novel O43293 isoform in which the C-terminal non-kinase domain containing a leucine zipper is eliminated (hZIPK-S). hZIPK-S binds to O14974(O14974) similar to the long isoform (hZIPK-L). In addition, we found that hZIPK-S as well as hZIPK-L bind to Q7Z406. These results indicate that a leucine zipper is not critical for the binding of O43293 to O14974 and Q7Z406. Consistently, hZIPK-S localized with stress-fibers where they co-localized with Q7Z406. The residues 278-311, the C-terminal side of the kinase domain common to the both isoforms, is involved in the binding to O14974, while the Q7Z406 binding domain is within the kinase domain. These results suggest that the newly found hZIPK-S as well as the long isoform play an important role in the regulation of Q7Z406 phosphorylation.   \n",
       "2  The canonical mitogen-activated protein kinase (MAPK) signal cascade was previously suggested to be atypical in the malaria parasite. This raises queries on the existence of alternative mediators of plasmodial MAPK pathways. This study describes, Pfnek3, a malarial protein kinase belonging to the NIMA (Never in Mitosis, Aspergillus) family. Endogenous Pfnek3 is expressed during late asexual to gametocyte stages and lacks some classical protein kinase sequence motifs. Moreover, Pfnek3 is phylogenetically distant from mammalian NIMA-kinases. Recombinant Pfnek3 was able to phosphorylate and stimulate a malarial MAPK (Pfmap2). Contrastingly, this was not observed with two other kinases, Pfmap1 and human P28482, suggesting that the Pfnek3-Pfmap2 interaction may be specific for Pfmap2 regulation. In summary, our data reveal a malarial NIMA-kinase with the potential to regulate a MAPK. Possessing biochemical properties divergent from classical mammalian NIMA-kinases, Pfnek3 could potentially be an attractive target for parasite-selective anti-malarials.   \n",
       "\n",
       "                                                                                                                                                                                                                                                                                                                                                                                                                                                                                                                                                                                                                                                                                                                                                                                                                                                                                                                                                                                                                                                                                                                                                                                                                                                                                                                                                                                                                                                                                        annotations  \\\n",
       "0  [{'start': '0', 'end': '33', 'name': 'Zipper-interacting protein kinase', 'type': 'Gene', 'normalised_id': '1613'}, {'start': '35', 'end': '45', 'name': 'ZIP kinase', 'type': 'Gene', 'normalised_id': '1613'}, {'start': '197', 'end': '207', 'name': 'ZIP kinase', 'type': 'Gene', 'normalised_id': '1613'}, {'start': '240', 'end': '246', 'name': 'myosin', 'type': 'Gene', 'normalised_id': '79784'}, {'start': '285', 'end': '295', 'name': 'ZIP kinase', 'type': 'Gene', 'normalised_id': '1613'}, {'start': '416', 'end': '454', 'name': 'myosin phosphatase targeting subunit 1', 'type': 'Gene', 'normalised_id': '4659'}, {'start': '455', 'end': '460', 'name': 'MYPT1', 'type': 'Gene', 'normalised_id': '4659'}, {'start': '563', 'end': '569', 'name': 'myosin', 'type': 'Gene', 'normalised_id': '79784'}, {'start': '651', 'end': '661', 'name': 'ZIP kinase', 'type': 'Gene', 'normalised_id': '1613'}, {'start': '665', 'end': '670', 'name': 'MYPT1', 'type': 'Gene', 'normalised_id': '4659'}, {'start': '675', 'end': '681', 'name': 'myosin', 'type': 'Gene', 'normalised_id': '79784'}, {'start': '763', 'end': '769', 'name': 'myosin', 'type': 'Gene', 'normalised_id': '79784'}, {'start': '893', 'end': '898', 'name': 'MYPT1', 'type': 'Gene', 'normalised_id': '4659'}, {'start': '910', 'end': '916', 'name': 'myosin', 'type': 'Gene', 'normalised_id': '79784'}, {'start': '1084', 'end': '1090', 'name': 'myosin', 'type': 'Gene', 'normalised_id': '79784'}]   \n",
       "1  [{'start': '0', 'end': '33', 'name': 'Zipper-interacting protein kinase', 'type': 'Gene', 'normalised_id': '1613'}, {'start': '35', 'end': '45', 'name': 'ZIP kinase', 'type': 'Gene', 'normalised_id': '1613'}, {'start': '197', 'end': '207', 'name': 'ZIP kinase', 'type': 'Gene', 'normalised_id': '1613'}, {'start': '240', 'end': '246', 'name': 'myosin', 'type': 'Gene', 'normalised_id': '79784'}, {'start': '285', 'end': '295', 'name': 'ZIP kinase', 'type': 'Gene', 'normalised_id': '1613'}, {'start': '416', 'end': '454', 'name': 'myosin phosphatase targeting subunit 1', 'type': 'Gene', 'normalised_id': '4659'}, {'start': '455', 'end': '460', 'name': 'MYPT1', 'type': 'Gene', 'normalised_id': '4659'}, {'start': '563', 'end': '569', 'name': 'myosin', 'type': 'Gene', 'normalised_id': '79784'}, {'start': '651', 'end': '661', 'name': 'ZIP kinase', 'type': 'Gene', 'normalised_id': '1613'}, {'start': '665', 'end': '670', 'name': 'MYPT1', 'type': 'Gene', 'normalised_id': '4659'}, {'start': '675', 'end': '681', 'name': 'myosin', 'type': 'Gene', 'normalised_id': '79784'}, {'start': '763', 'end': '769', 'name': 'myosin', 'type': 'Gene', 'normalised_id': '79784'}, {'start': '893', 'end': '898', 'name': 'MYPT1', 'type': 'Gene', 'normalised_id': '4659'}, {'start': '910', 'end': '916', 'name': 'myosin', 'type': 'Gene', 'normalised_id': '79784'}, {'start': '1084', 'end': '1090', 'name': 'myosin', 'type': 'Gene', 'normalised_id': '79784'}]   \n",
       "2                                                                                                                                                                                                                                                                                                                                                                                                                                                                                                                                                                                                                                                                                                                                                                                                                                                                                                                                                                                                                                                                                                         [{'start': '522', 'end': '531', 'name': 'mammalian', 'type': 'Species', 'normalised_id': '9606'}, {'start': '703', 'end': '708', 'name': 'human', 'type': 'Species', 'normalised_id': '9606'}, {'start': '709', 'end': '714', 'name': 'MAPK1', 'type': 'Gene', 'normalised_id': '5594'}, {'start': '950', 'end': '959', 'name': 'mammalian', 'type': 'Species', 'normalised_id': '9606'}]   \n",
       "\n",
       "                                                                                                                                                                                                                                                                                                                                                                                                                                                                                                                                                                                                                                                                                                                                                                                                                                                                                                                                                                                                                                                                                                                                  annotations_abstract  \\\n",
       "0  Zipper-interacting protein kinase (ZIP kinase) has been thought to be involved in apoptosis and the C-terminal leucine zipper motif is important for its function. Recent studies have revealed that ZIP kinase also plays a role in regulating myosin phosphorylation. Here, we found novel ZIP kinase isoform in which the C-terminal non-kinase domain containing a leucine zipper is eliminated (hZIPK-S). hZIPK-S binds to myosin phosphatase targeting subunit 1(MYPT1) similar to the long isoform (hZIPK-L). In addition, we found that hZIPK-S as well as hZIPK-L bind to myosin. These results indicate that a leucine zipper is not critical for the binding of ZIP kinase to MYPT1 and myosin. Consistently, hZIPK-S localized with stress-fibers where they co-localized with myosin. The residues 278-311, the C-terminal side of the kinase domain common to the both isoforms, is involved in the binding to MYPT1, while the myosin binding domain is within the kinase domain. These results suggest that the newly found hZIPK-S as well as the long isoform play an important role in the regulation of myosin phosphorylation.   \n",
       "1  Zipper-interacting protein kinase (ZIP kinase) has been thought to be involved in apoptosis and the C-terminal leucine zipper motif is important for its function. Recent studies have revealed that ZIP kinase also plays a role in regulating myosin phosphorylation. Here, we found novel ZIP kinase isoform in which the C-terminal non-kinase domain containing a leucine zipper is eliminated (hZIPK-S). hZIPK-S binds to myosin phosphatase targeting subunit 1(MYPT1) similar to the long isoform (hZIPK-L). In addition, we found that hZIPK-S as well as hZIPK-L bind to myosin. These results indicate that a leucine zipper is not critical for the binding of ZIP kinase to MYPT1 and myosin. Consistently, hZIPK-S localized with stress-fibers where they co-localized with myosin. The residues 278-311, the C-terminal side of the kinase domain common to the both isoforms, is involved in the binding to MYPT1, while the myosin binding domain is within the kinase domain. These results suggest that the newly found hZIPK-S as well as the long isoform play an important role in the regulation of myosin phosphorylation.   \n",
       "2                                                The canonical mitogen-activated protein kinase (MAPK) signal cascade was previously suggested to be atypical in the malaria parasite. This raises queries on the existence of alternative mediators of plasmodial MAPK pathways. This study describes, Pfnek3, a malarial protein kinase belonging to the NIMA (Never in Mitosis, Aspergillus) family. Endogenous Pfnek3 is expressed during late asexual to gametocyte stages and lacks some classical protein kinase sequence motifs. Moreover, Pfnek3 is phylogenetically distant from mammalian NIMA-kinases. Recombinant Pfnek3 was able to phosphorylate and stimulate a malarial MAPK (Pfmap2). Contrastingly, this was not observed with two other kinases, Pfmap1 and human MAPK1, suggesting that the Pfnek3-Pfmap2 interaction may be specific for Pfmap2 regulation. In summary, our data reveal a malarial NIMA-kinase with the potential to regulate a MAPK. Possessing biochemical properties divergent from classical mammalian NIMA-kinases, Pfnek3 could potentially be an attractive target for parasite-selective anti-malarials.   \n",
       "\n",
       "   num_unique_gene_normalised_id  num_gene_normalised_id  \\\n",
       "0                              3                      15   \n",
       "1                              3                      15   \n",
       "2                              1                       1   \n",
       "\n",
       "                                                                                     gene_to_uniprot_map  \n",
       "0  {'1613': ['O43293', 'B3KNJ3'], '79784': ['Q7Z406', 'A1L2Z2', 'B3KWH4'], '4659': ['O14974', 'B2RAH5']}  \n",
       "1  {'1613': ['O43293', 'B3KNJ3'], '79784': ['Q7Z406', 'A1L2Z2', 'B3KWH4'], '4659': ['O14974', 'B2RAH5']}  \n",
       "2                                                               {'5594': ['P28482', 'Q1HBJ4', 'Q499G7']}  "
      ]
     },
     "execution_count": 46,
     "metadata": {},
     "output_type": "execute_result"
    }
   ],
   "source": [
    "data_filtered.head(n=3)"
   ]
  },
  {
   "cell_type": "code",
   "execution_count": 47,
   "metadata": {},
   "outputs": [
    {
     "data": {
      "text/plain": [
       "<matplotlib.axes._subplots.AxesSubplot at 0x127e869d0>"
      ]
     },
     "execution_count": 47,
     "metadata": {},
     "output_type": "execute_result"
    },
    {
     "data": {
      "image/png": "[encoded data removed]",
      "text/plain": [
       "<Figure size 1080x360 with 4 Axes>"
      ]
     },
     "metadata": {},
     "output_type": "display_data"
    }
   ],
   "source": [
    "\n",
    "fig, ax =  plt.subplots( 1,4, figsize=(15,5))\n",
    "\n",
    "tmp = pd.DataFrame()\n",
    "\n",
    "data_filtered[\"particpant1Exists\"] = data_filtered.apply(lambda r: r[\"participant1Id\"] in r[\"normalised_abstract\"]   , 1)\n",
    "data_filtered[\"particpant1Exists\"].value_counts().plot.pie(ax=ax[0], autopct='%.2f')\n",
    "\n",
    "data_filtered[\"particpant2Exists\"] = data_filtered.apply(lambda r: r[\"participant2Id\"] in r[\"normalised_abstract\"]   , 1)\n",
    "data_filtered[\"particpant2Exists\"].value_counts().plot.pie(ax=ax[1], autopct='%.2f')\n",
    "\n",
    "\n",
    "data_filtered[\"bothParticpantsExist\"] = data_filtered.apply(lambda r: r[\"particpant2Exists\"] and r[\"particpant1Exists\"]   , 1)\n",
    "data_filtered[\"bothParticpantsExist\"].value_counts().plot.pie(ax=ax[2], autopct='%.2f')\n",
    "\n",
    "data_filtered[\"noParticpantsExist\"] = data_filtered.apply(lambda r: not (r[\"particpant2Exists\"] or r[\"particpant1Exists\"])   , 1)\n",
    "data_filtered[\"noParticpantsExist\"].value_counts().plot.pie(ax=ax[3], autopct='%.2f')\n"
   ]
  },
  {
   "cell_type": "code",
   "execution_count": 48,
   "metadata": {},
   "outputs": [
    {
     "data": {
      "image/png": "[encoded data removed]",
      "text/plain": [
       "<Figure size 1440x360 with 7 Axes>"
      ]
     },
     "metadata": {
      "needs_background": "light"
     },
     "output_type": "display_data"
    }
   ],
   "source": [
    "fig, ax = plt.subplots(1,7, figsize=(20,5))\n",
    "\n",
    "data_filtered.groupby([ \"bothParticpantsExist\", 'interactionType']).size().unstack().plot.bar(subplots=True, ax=ax)\n",
    "plt.show()"
   ]
  },
  {
   "cell_type": "code",
   "execution_count": 49,
   "metadata": {},
   "outputs": [
    {
     "data": {
      "text/html": [
       "<div>\n",
       "<style scoped>\n",
       "    .dataframe tbody tr th:only-of-type {\n",
       "        vertical-align: middle;\n",
       "    }\n",
       "\n",
       "    .dataframe tbody tr th {\n",
       "        vertical-align: top;\n",
       "    }\n",
       "\n",
       "    .dataframe thead th {\n",
       "        text-align: right;\n",
       "    }\n",
       "</style>\n",
       "<table border=\"1\" class=\"dataframe\">\n",
       "  <thead>\n",
       "    <tr style=\"text-align: right;\">\n",
       "      <th></th>\n",
       "      <th>entityMentionsCount</th>\n",
       "      <th>hasTriggerWord</th>\n",
       "      <th>interactionId</th>\n",
       "      <th>interactionType</th>\n",
       "      <th>isValid</th>\n",
       "      <th>lessThanThreshold</th>\n",
       "      <th>participant1Alias</th>\n",
       "      <th>participant1Id</th>\n",
       "      <th>participant2Alias</th>\n",
       "      <th>participant2Id</th>\n",
       "      <th>participants_count</th>\n",
       "      <th>pubmedId</th>\n",
       "      <th>pubmedTitle</th>\n",
       "      <th>pubmedabstract</th>\n",
       "      <th>normalised_abstract</th>\n",
       "      <th>annotations</th>\n",
       "      <th>annotations_abstract</th>\n",
       "      <th>num_unique_gene_normalised_id</th>\n",
       "      <th>num_gene_normalised_id</th>\n",
       "      <th>gene_to_uniprot_map</th>\n",
       "      <th>particpant1Exists</th>\n",
       "      <th>particpant2Exists</th>\n",
       "      <th>bothParticpantsExist</th>\n",
       "      <th>noParticpantsExist</th>\n",
       "    </tr>\n",
       "  </thead>\n",
       "  <tbody>\n",
       "    <tr>\n",
       "      <th>1695</th>\n",
       "      <td>2</td>\n",
       "      <td>True</td>\n",
       "      <td>573749</td>\n",
       "      <td>phosphorylation</td>\n",
       "      <td>True</td>\n",
       "      <td>True</td>\n",
       "      <td>[[pdk1_human], [[Pyruvate dehydrogenase (acetyl-transferring)] kinase isozyme 1, mitochondrial], [PDK1], [PDHK1], [Pyruvate dehydrogenase kinase isoform 1]]</td>\n",
       "      <td>Q15118</td>\n",
       "      <td>[[pkn2_human], [Serine/threonine-protein kinase N2], [PKN2], [PRK2], [PRKCL2], [Protein kinase C-like 2], [Protein-kinase C-related kinase 2], [PKN gamma]]</td>\n",
       "      <td>Q16513</td>\n",
       "      <td>2</td>\n",
       "      <td>17110931</td>\n",
       "      <td>None</td>\n",
       "      <td>Organisms rely heavily on protein phosphorylation to transduce intracellular signals. The phosphorylation of a protein often induces conformational changes, which are responsible for triggering downstream cellular events. Protein kinases are themselves frequently regulated by phosphorylation. Recently, we and others proposed the molecular mechanism by which phosphorylation at a hydrophobic motif (HM) regulates the conformation and activity of many members of the AGC group of protein kinases. Here we have developed specific, low molecular weight compounds, which target the HM/PIF-pocket and have the ability to allosterically activate phosphoinositide-dependent protein kinase 1 (PDK1) by modulating the phosphorylation-dependent conformational transition. The mechanism of action of these compounds was characterized by mutagenesis of PDK1, synthesis of compound analogs, interaction-displacement studies and isothermal titration calorimetry experiments. Our results raise the possibility of developing drugs that target the AGC kinases via a novel mode of action and may inspire future rational development of compounds with the ability to modulate phosphorylation-dependent conformational transitions in other proteins.</td>\n",
       "      <td>Organisms rely heavily on protein phosphorylation to transduce intracellular signals. The phosphorylation of a protein often induces conformational changes, which are responsible for triggering downstream cellular events. Protein kinases are themselves frequently regulated by phosphorylation. Recently, we and others proposed the molecular mechanism by which phosphorylation at a hydrophobic motif (HM) regulates the conformation and activity of many members of the AGC group of protein kinases. Here we have developed specific, low molecular weight compounds, which target the HM/Q9H611-pocket and have the ability to allosterically activate Q15118 (Q15118) by modulating the phosphorylation-dependent conformational transition. The mechanism of action of these compounds was characterized by mutagenesis of Q15118, synthesis of compound analogs, interaction-displacement studies and isothermal titration calorimetry experiments. Our results raise the possibility of developing drugs that target the AGC kinases via a novel mode of action and may inspire future rational development of compounds with the ability to modulate phosphorylation-dependent conformational transitions in other proteins.</td>\n",
       "      <td>[{'start': '582', 'end': '585', 'name': 'PIF', 'type': 'Gene', 'normalised_id': '80119'}, {'start': '641', 'end': '684', 'name': 'phosphoinositide-dependent protein kinase 1', 'type': 'Gene', 'normalised_id': '5163'}, {'start': '686', 'end': '690', 'name': 'PDK1', 'type': 'Gene', 'normalised_id': '5163'}, {'start': '842', 'end': '846', 'name': 'PDK1', 'type': 'Gene', 'normalised_id': '5163'}]</td>\n",
       "      <td>Organisms rely heavily on protein phosphorylation to transduce intracellular signals. The phosphorylation of a protein often induces conformational changes, which are responsible for triggering downstream cellular events. Protein kinases are themselves frequently regulated by phosphorylation. Recently, we and others proposed the molecular mechanism by which phosphorylation at a hydrophobic motif (HM) regulates the conformation and activity of many members of the AGC group of protein kinases. Here we have developed specific, low molecular weight compounds, which target the HM/PIF-pocket and have the ability to allosterically activate phosphoinositide-dependent protein kinase 1 (PDK1) by modulating the phosphorylation-dependent conformational transition. The mechanism of action of these compounds was characterized by mutagenesis of PDK1, synthesis of compound analogs, interaction-displacement studies and isothermal titration calorimetry experiments. Our results raise the possibility of developing drugs that target the AGC kinases via a novel mode of action and may inspire future rational development of compounds with the ability to modulate phosphorylation-dependent conformational transitions in other proteins.</td>\n",
       "      <td>2</td>\n",
       "      <td>4</td>\n",
       "      <td>{'5163': ['Q15118', 'B7Z7N6'], '80119': ['Q9H611']}</td>\n",
       "      <td>True</td>\n",
       "      <td>False</td>\n",
       "      <td>False</td>\n",
       "      <td>False</td>\n",
       "    </tr>\n",
       "    <tr>\n",
       "      <th>1163</th>\n",
       "      <td>4</td>\n",
       "      <td>True</td>\n",
       "      <td>1297149</td>\n",
       "      <td>dephosphorylation</td>\n",
       "      <td>True</td>\n",
       "      <td>True</td>\n",
       "      <td>[[ptpra_human], [Receptor-type tyrosine-protein phosphatase alpha], [PTPRA], [PTPA], [PTPRL2]]</td>\n",
       "      <td>P18433</td>\n",
       "      <td>[[src_chick], [Proto-oncogene tyrosine-protein kinase Src], [SRC], [pp60c-src], [Proto-oncogene c-Src]]</td>\n",
       "      <td>P00523</td>\n",
       "      <td>2</td>\n",
       "      <td>11923305</td>\n",
       "      <td>None</td>\n",
       "      <td>During mitosis, the catalytic activity of protein-tyrosine phosphatase (PTP) alpha is enhanced, and its inhibitory binding to Grb2, which specifically blocks Src dephosphorylation, is decreased. These effects act synergistically to activate Src in mitosis. We show here that these effects are abrogated by mutation of Ser180 and/or Ser204, the sites of protein kinase C-mediated phosphorylation within PTPalpha. Moreover, either a Ser-to-Ala substitution or serine dephosphorylation specifically eliminated the ability of PTPalpha to dephosphorylate and activate Src even during interphase. This explains why the substitutions eliminated PTPalpha transforming activity, even though PTPalpha interphase dephosphorylation of nonspecific substrates was only slightly decreased. This occurred without change in the phosphorylation of PTPalpha at Tyr789, which is required for \"phosphotyrosine displacement\" during Src dephosphorylation. Thus, in addition to increasing PTPalpha nonspecific catalytic activity, Ser180 and Ser204 phosphorylation (along with Tyr789 phosphorylation) regulates PTPalpha substrate specificity. This involves serine phosphorylation-dependent differential modulation of the affinity of Tyr(P)789 for the Src and Grb2 SH2 domains. The results suggest that protein kinase C may participate in the mitotic activation of PTPalpha and Src and that there are intramolecular interactions between the PTPalpha C-terminal and membrane-proximal regions that are regulated, at least in part, by serine phosphorylation.</td>\n",
       "      <td>During mitosis, the catalytic activity of protein-tyrosine phosphatase (PTP) alpha is enhanced, and its inhibitory binding to P62993, which specifically blocks P12931 dephosphorylation, is decreased. These effects act synergistically to activate P12931 in mitosis. We show here that these effects are abrogated by mutation of Ser180 and/or Ser204, the sites of protein kinase C-mediated phosphorylation within P18433. Moreover, either a Ser-to-Ala substitution or serine dephosphorylation specifically eliminated the ability of P18433 to dephosphorylate and activate P12931 even during interphase. This explains why the substitutions eliminated P18433 transforming activity, even though P18433 interphase dephosphorylation of nonspecific substrates was only slightly decreased. This occurred without change in the phosphorylation of P18433 at Tyr789, which is required for \"phosphotyrosine displacement\" during P12931 dephosphorylation. Thus, in addition to increasing P18433 nonspecific catalytic activity, Ser180 and Ser204 phosphorylation (along with Tyr789 phosphorylation) regulates P18433 substrate specificity. This involves serine phosphorylation-dependent differential modulation of the affinity of Tyr(P)789 for the P12931 and P62993 SH2 domains. The results suggest that protein kinase C may participate in the mitotic activation of P18433 and P12931 and that there are intramolecular interactions between the P18433 C-terminal and membrane-proximal regions that are regulated, at least in part, by serine phosphorylation.</td>\n",
       "      <td>[{'start': '126', 'end': '130', 'name': 'Grb2', 'type': 'Gene', 'normalised_id': '2885'}, {'start': '158', 'end': '161', 'name': 'Src', 'type': 'Gene', 'normalised_id': '6714'}, {'start': '241', 'end': '244', 'name': 'Src', 'type': 'Gene', 'normalised_id': '6714'}, {'start': '402', 'end': '410', 'name': 'PTPalpha', 'type': 'Gene', 'normalised_id': '5786'}, {'start': '522', 'end': '530', 'name': 'PTPalpha', 'type': 'Gene', 'normalised_id': '5786'}, {'start': '563', 'end': '566', 'name': 'Src', 'type': 'Gene', 'normalised_id': '6714'}, {'start': '638', 'end': '646', 'name': 'PTPalpha', 'type': 'Gene', 'normalised_id': '5786'}, {'start': '682', 'end': '690', 'name': 'PTPalpha', 'type': 'Gene', 'normalised_id': '5786'}, {'start': '830', 'end': '838', 'name': 'PTPalpha', 'type': 'Gene', 'normalised_id': '5786'}, {'start': '910', 'end': '913', 'name': 'Src', 'type': 'Gene', 'normalised_id': '6714'}, {'start': '965', 'end': '973', 'name': 'PTPalpha', 'type': 'Gene', 'normalised_id': '5786'}, {'start': '1086', 'end': '1094', 'name': 'PTPalpha', 'type': 'Gene', 'normalised_id': '5786'}, {'start': '1226', 'end': '1229', 'name': 'Src', 'type': 'Gene', 'normalised_id': '6714'}, {'start': '1234', 'end': '1238', 'name': 'Grb2', 'type': 'Gene', 'normalised_id': '2885'}, {'start': '1339', 'end': '1347', 'name': 'PTPalpha', 'type': 'Gene', 'normalised_id': '5786'}, {'start': '1352', 'end': '1355', 'name': 'Src', 'type': 'Gene', 'normalised_id': '6714'}, {'start': '1415', 'end': '1423', 'name': 'PTPalpha', 'type': 'Gene', 'normalised_id': '5786'}]</td>\n",
       "      <td>During mitosis, the catalytic activity of protein-tyrosine phosphatase (PTP) alpha is enhanced, and its inhibitory binding to Grb2, which specifically blocks Src dephosphorylation, is decreased. These effects act synergistically to activate Src in mitosis. We show here that these effects are abrogated by mutation of Ser180 and/or Ser204, the sites of protein kinase C-mediated phosphorylation within PTPalpha. Moreover, either a Ser-to-Ala substitution or serine dephosphorylation specifically eliminated the ability of PTPalpha to dephosphorylate and activate Src even during interphase. This explains why the substitutions eliminated PTPalpha transforming activity, even though PTPalpha interphase dephosphorylation of nonspecific substrates was only slightly decreased. This occurred without change in the phosphorylation of PTPalpha at Tyr789, which is required for \"phosphotyrosine displacement\" during Src dephosphorylation. Thus, in addition to increasing PTPalpha nonspecific catalytic activity, Ser180 and Ser204 phosphorylation (along with Tyr789 phosphorylation) regulates PTPalpha substrate specificity. This involves serine phosphorylation-dependent differential modulation of the affinity of Tyr(P)789 for the Src and Grb2 SH2 domains. The results suggest that protein kinase C may participate in the mitotic activation of PTPalpha and Src and that there are intramolecular interactions between the PTPalpha C-terminal and membrane-proximal regions that are regulated, at least in part, by serine phosphorylation.</td>\n",
       "      <td>3</td>\n",
       "      <td>17</td>\n",
       "      <td>{'2885': ['P62993', 'B0LPF3'], '5786': ['P18433'], '6714': ['P12931']}</td>\n",
       "      <td>True</td>\n",
       "      <td>False</td>\n",
       "      <td>False</td>\n",
       "      <td>False</td>\n",
       "    </tr>\n",
       "    <tr>\n",
       "      <th>370</th>\n",
       "      <td>2</td>\n",
       "      <td>True</td>\n",
       "      <td>9854</td>\n",
       "      <td>phosphorylation</td>\n",
       "      <td>True</td>\n",
       "      <td>True</td>\n",
       "      <td>[[snp23_human], [Synaptosomal-associated protein 23], [Vesicle-membrane fusion protein SNAP-23], [SNAP23]]</td>\n",
       "      <td>O00161</td>\n",
       "      <td>[[tlk1_human], [Serine/threonine-protein kinase tousled-like 1], [Tousled-like kinase 1], [PKU-beta], [TLK1], [KIAA0137]]</td>\n",
       "      <td>Q9UKI8</td>\n",
       "      <td>2</td>\n",
       "      <td>10588641</td>\n",
       "      <td>None</td>\n",
       "      <td>The docking and fusion of cargo-containing vesicles with target membranes of eukaryotic cells is mediated by the interaction of SNARE proteins present on both vesicle and target membranes. In many cases, the target membrane SNARE, or t-SNARE, exists as a complex of syntaxin with a member of the SNAP-25 family of palmitoylated proteins. We have identified a novel human kinase SNAK (SNARE kinase) that specifically phosphorylates the nonneuronal t-SNARE SNAP-23 in vivo. Interestingly, only SNAP-23 that is not assembled into t-SNARE complexes is phosphorylated by SNAK, and phosphorylated SNAP-23 resides exclusively in the cytosol. Coexpression with SNAK significantly enhances the stability of unassembled SNAP-23, and as a consequence, the assembly of newly synthesized SNAP-23 with syntaxin is augmented. These data demonstrate that phosphorylation of SNAP-23 by SNAK enhances the kinetics of t-SNARE assembly in vivo.</td>\n",
       "      <td>The docking and fusion of cargo-containing vesicles with target membranes of eukaryotic cells is mediated by the interaction of SNARE proteins present on both vesicle and target membranes. In many cases, the target membrane SNARE, or t-SNARE, exists as a complex of syntaxin with a member of the P60880 family of palmitoylated proteins. We have identified a novel human kinase SNAK (SNARE kinase) that specifically phosphorylates the nonneuronal t-SNARE O00161 in vivo. Interestingly, only O00161 that is not assembled into t-SNARE complexes is phosphorylated by SNAK, and phosphorylated O00161 resides exclusively in the cytosol. Coexpression with SNAK significantly enhances the stability of unassembled O00161, and as a consequence, the assembly of newly synthesized O00161 with syntaxin is augmented. These data demonstrate that phosphorylation of O00161 by SNAK enhances the kinetics of t-SNARE assembly in vivo.</td>\n",
       "      <td>[{'start': '296', 'end': '303', 'name': 'SNAP-25', 'type': 'Gene', 'normalised_id': '6616'}, {'start': '365', 'end': '370', 'name': 'human', 'type': 'Species', 'normalised_id': '9606'}, {'start': '455', 'end': '462', 'name': 'SNAP-23', 'type': 'Gene', 'normalised_id': '8773'}, {'start': '492', 'end': '499', 'name': 'SNAP-23', 'type': 'Gene', 'normalised_id': '8773'}, {'start': '591', 'end': '598', 'name': 'SNAP-23', 'type': 'Gene', 'normalised_id': '8773'}, {'start': '710', 'end': '717', 'name': 'SNAP-23', 'type': 'Gene', 'normalised_id': '8773'}, {'start': '775', 'end': '782', 'name': 'SNAP-23', 'type': 'Gene', 'normalised_id': '8773'}, {'start': '858', 'end': '865', 'name': 'SNAP-23', 'type': 'Gene', 'normalised_id': '8773'}]</td>\n",
       "      <td>The docking and fusion of cargo-containing vesicles with target membranes of eukaryotic cells is mediated by the interaction of SNARE proteins present on both vesicle and target membranes. In many cases, the target membrane SNARE, or t-SNARE, exists as a complex of syntaxin with a member of the SNAP-25 family of palmitoylated proteins. We have identified a novel human kinase SNAK (SNARE kinase) that specifically phosphorylates the nonneuronal t-SNARE SNAP-23 in vivo. Interestingly, only SNAP-23 that is not assembled into t-SNARE complexes is phosphorylated by SNAK, and phosphorylated SNAP-23 resides exclusively in the cytosol. Coexpression with SNAK significantly enhances the stability of unassembled SNAP-23, and as a consequence, the assembly of newly synthesized SNAP-23 with syntaxin is augmented. These data demonstrate that phosphorylation of SNAP-23 by SNAK enhances the kinetics of t-SNARE assembly in vivo.</td>\n",
       "      <td>2</td>\n",
       "      <td>7</td>\n",
       "      <td>{'8773': ['O00161', 'A8K287', 'A0A024R9R8'], '6616': ['P60880']}</td>\n",
       "      <td>True</td>\n",
       "      <td>False</td>\n",
       "      <td>False</td>\n",
       "      <td>False</td>\n",
       "    </tr>\n",
       "    <tr>\n",
       "      <th>1268</th>\n",
       "      <td>2</td>\n",
       "      <td>True</td>\n",
       "      <td>1271107</td>\n",
       "      <td>dephosphorylation</td>\n",
       "      <td>True</td>\n",
       "      <td>True</td>\n",
       "      <td>[[pp2aa_human], [Serine/threonine-protein phosphatase 2A catalytic subunit alpha isoform], [PPP2CA], [Replication protein C]]</td>\n",
       "      <td>P67775</td>\n",
       "      <td>[[q86b55_drome], [CG33174], [CG11096], [CG11102], [CG11104], [CG15761], [CG32630], [DAGL], [Dmel\\CG33174], [EP(X)1101], [Dmel_CG33174], [inaE]]</td>\n",
       "      <td>Q86B55</td>\n",
       "      <td>2</td>\n",
       "      <td>18256265</td>\n",
       "      <td>None</td>\n",
       "      <td>Drosophila visual signaling, a G-protein-coupled phospholipase Cbeta (PLCbeta)-mediated mechanism, is regulated by eye-protein kinase C (PKC) that promotes light adaptation and fast deactivation, most likely via phosphorylation of inactivation no afterpotential D (INAD) and TRP (transient receptor potential). To reveal the critical phosphatases that dephosphorylate INAD, we used several biochemical analyses and identified protein phosphatase 2A (PP2A) as a candidate. Importantly, the catalytic subunit of PP2A, microtubule star (MTS), is copurified with INAD, and an elevated phosphorylation of INAD by eye-PKC was observed in three mts heterozygotes. To explore whether PP2A (MTS) regulates dephosphorylation of INAD by counteracting eye-PKC [INAC (inactivation no afterpotential C] in vivo, we performed ERG recordings. We discovered that inaC(P209) was semidominant, because inaC(P209) heterozygotes displayed abnormal light adaptation and slow deactivation. Interestingly, the deactivation defect of inaC(P209) heterozygotes was rescued by the mts(XE2258) heterozygous background. In contrast, mts(XE2258) failed to modify the severe deactivation of norpA(P16), indicating that MTS does not modulate NORPA (no receptor potential A) (PLCbeta). Together, our results strongly indicate that dephosphorylation of INAD is catalyzed by PP2A, and a reduction of PP2A can compensate for a partial loss of function in eye-PKC, restoring the fast deactivation kinetics in vivo. We thus propose that the fast deactivation of the visual response is modulated in part by the phosphorylation of INAD.</td>\n",
       "      <td>Drosophila visual signaling, a G-protein-coupled phospholipase Cbeta (PLCbeta)-mediated mechanism, is regulated by eye-protein kinase C (PKC) that promotes light adaptation and fast deactivation, most likely via phosphorylation of inactivation no afterpotential D (INAD) and TRP (transient receptor potential). To reveal the critical phosphatases that dephosphorylate INAD, we used several biochemical analyses and identified protein Q15257 (Q15257) as a candidate. Importantly, the catalytic subunit of Q15257, microtubule star (MTS), is copurified with INAD, and an elevated phosphorylation of INAD by eye-PKC was observed in three mts heterozygotes. To explore whether Q15257 (MTS) regulates dephosphorylation of INAD by counteracting eye-PKC [Q9NY37 (inactivation no afterpotential C] in vivo, we performed ERG recordings. We discovered that Q9NY37(P209) was semidominant, because Q9NY37(P209) heterozygotes displayed abnormal light adaptation and slow deactivation. Interestingly, the deactivation defect of Q9NY37(P209) heterozygotes was rescued by the mts(XE2258) heterozygous background. In contrast, mts(XE2258) failed to modify the severe deactivation of Q8N726), indicating that MTS does not modulate NORPA (no receptor potential A) (PLCbeta). Together, our results strongly indicate that dephosphorylation of INAD is catalyzed by Q15257, and a reduction of Q15257 can compensate for a partial loss of function in eye-PKC, restoring the fast deactivation kinetics in vivo. We thus propose that the fast deactivation of the visual response is modulated in part by the phosphorylation of INAD.</td>\n",
       "      <td>[{'start': '434', 'end': '448', 'name': 'phosphatase 2A', 'type': 'Gene', 'normalised_id': '5524'}, {'start': '450', 'end': '454', 'name': 'PP2A', 'type': 'Gene', 'normalised_id': '5524'}, {'start': '510', 'end': '514', 'name': 'PP2A', 'type': 'Gene', 'normalised_id': '5524'}, {'start': '676', 'end': '680', 'name': 'PP2A', 'type': 'Gene', 'normalised_id': '5524'}, {'start': '749', 'end': '753', 'name': 'INAC', 'type': 'Gene', 'normalised_id': '51802'}, {'start': '846', 'end': '850', 'name': 'inaC', 'type': 'Gene', 'normalised_id': '51802'}, {'start': '883', 'end': '887', 'name': 'inaC', 'type': 'Gene', 'normalised_id': '51802'}, {'start': '1009', 'end': '1013', 'name': 'inaC', 'type': 'Gene', 'normalised_id': '51802'}, {'start': '1159', 'end': '1168', 'name': 'norpA(P16', 'type': 'Gene', 'normalised_id': '1029'}, {'start': '1339', 'end': '1343', 'name': 'PP2A', 'type': 'Gene', 'normalised_id': '5524'}, {'start': '1364', 'end': '1368', 'name': 'PP2A', 'type': 'Gene', 'normalised_id': '5524'}]</td>\n",
       "      <td>Drosophila visual signaling, a G-protein-coupled phospholipase Cbeta (PLCbeta)-mediated mechanism, is regulated by eye-protein kinase C (PKC) that promotes light adaptation and fast deactivation, most likely via phosphorylation of inactivation no afterpotential D (INAD) and TRP (transient receptor potential). To reveal the critical phosphatases that dephosphorylate INAD, we used several biochemical analyses and identified protein phosphatase 2A (PP2A) as a candidate. Importantly, the catalytic subunit of PP2A, microtubule star (MTS), is copurified with INAD, and an elevated phosphorylation of INAD by eye-PKC was observed in three mts heterozygotes. To explore whether PP2A (MTS) regulates dephosphorylation of INAD by counteracting eye-PKC [INAC (inactivation no afterpotential C] in vivo, we performed ERG recordings. We discovered that inaC(P209) was semidominant, because inaC(P209) heterozygotes displayed abnormal light adaptation and slow deactivation. Interestingly, the deactivation defect of inaC(P209) heterozygotes was rescued by the mts(XE2258) heterozygous background. In contrast, mts(XE2258) failed to modify the severe deactivation of norpA(P16), indicating that MTS does not modulate NORPA (no receptor potential A) (PLCbeta). Together, our results strongly indicate that dephosphorylation of INAD is catalyzed by PP2A, and a reduction of PP2A can compensate for a partial loss of function in eye-PKC, restoring the fast deactivation kinetics in vivo. We thus propose that the fast deactivation of the visual response is modulated in part by the phosphorylation of INAD.</td>\n",
       "      <td>3</td>\n",
       "      <td>11</td>\n",
       "      <td>{'51802': ['Q9NY37'], '5524': ['Q15257', 'F6WIT2', 'B4DZF8'], '1029': ['Q8N726', 'P42771', 'K7PML8']}</td>\n",
       "      <td>False</td>\n",
       "      <td>False</td>\n",
       "      <td>False</td>\n",
       "      <td>True</td>\n",
       "    </tr>\n",
       "  </tbody>\n",
       "</table>\n",
       "</div>"
      ],
      "text/plain": [
       "      entityMentionsCount  hasTriggerWord interactionId    interactionType  \\\n",
       "1695                    2            True        573749    phosphorylation   \n",
       "1163                    4            True       1297149  dephosphorylation   \n",
       "370                     2            True          9854    phosphorylation   \n",
       "1268                    2            True       1271107  dephosphorylation   \n",
       "\n",
       "      isValid  lessThanThreshold  \\\n",
       "1695     True               True   \n",
       "1163     True               True   \n",
       "370      True               True   \n",
       "1268     True               True   \n",
       "\n",
       "                                                                                                                                                 participant1Alias  \\\n",
       "1695  [[pdk1_human], [[Pyruvate dehydrogenase (acetyl-transferring)] kinase isozyme 1, mitochondrial], [PDK1], [PDHK1], [Pyruvate dehydrogenase kinase isoform 1]]   \n",
       "1163                                                                [[ptpra_human], [Receptor-type tyrosine-protein phosphatase alpha], [PTPRA], [PTPA], [PTPRL2]]   \n",
       "370                                                     [[snp23_human], [Synaptosomal-associated protein 23], [Vesicle-membrane fusion protein SNAP-23], [SNAP23]]   \n",
       "1268                                 [[pp2aa_human], [Serine/threonine-protein phosphatase 2A catalytic subunit alpha isoform], [PPP2CA], [Replication protein C]]   \n",
       "\n",
       "     participant1Id  \\\n",
       "1695         Q15118   \n",
       "1163         P18433   \n",
       "370          O00161   \n",
       "1268         P67775   \n",
       "\n",
       "                                                                                                                                                participant2Alias  \\\n",
       "1695  [[pkn2_human], [Serine/threonine-protein kinase N2], [PKN2], [PRK2], [PRKCL2], [Protein kinase C-like 2], [Protein-kinase C-related kinase 2], [PKN gamma]]   \n",
       "1163                                                      [[src_chick], [Proto-oncogene tyrosine-protein kinase Src], [SRC], [pp60c-src], [Proto-oncogene c-Src]]   \n",
       "370                                     [[tlk1_human], [Serine/threonine-protein kinase tousled-like 1], [Tousled-like kinase 1], [PKU-beta], [TLK1], [KIAA0137]]   \n",
       "1268              [[q86b55_drome], [CG33174], [CG11096], [CG11102], [CG11104], [CG15761], [CG32630], [DAGL], [Dmel\\CG33174], [EP(X)1101], [Dmel_CG33174], [inaE]]   \n",
       "\n",
       "     participant2Id  participants_count  pubmedId pubmedTitle  \\\n",
       "1695         Q16513                   2  17110931        None   \n",
       "1163         P00523                   2  11923305        None   \n",
       "370          Q9UKI8                   2  10588641        None   \n",
       "1268         Q86B55                   2  18256265        None   \n",
       "\n",
       "                                                                                                                                                                                                                                                                                                                                                                                                                                                                                                                                                                                                                                                                                                                                                                                                                                                                                                                                                                                                                                                                                                                                                                                                                                                                                                                                                                                                                                                                                                                                                                                                                                                   pubmedabstract  \\\n",
       "1695                                                                                                                                                                                                                                                                                                                                                                                 Organisms rely heavily on protein phosphorylation to transduce intracellular signals. The phosphorylation of a protein often induces conformational changes, which are responsible for triggering downstream cellular events. Protein kinases are themselves frequently regulated by phosphorylation. Recently, we and others proposed the molecular mechanism by which phosphorylation at a hydrophobic motif (HM) regulates the conformation and activity of many members of the AGC group of protein kinases. Here we have developed specific, low molecular weight compounds, which target the HM/PIF-pocket and have the ability to allosterically activate phosphoinositide-dependent protein kinase 1 (PDK1) by modulating the phosphorylation-dependent conformational transition. The mechanism of action of these compounds was characterized by mutagenesis of PDK1, synthesis of compound analogs, interaction-displacement studies and isothermal titration calorimetry experiments. Our results raise the possibility of developing drugs that target the AGC kinases via a novel mode of action and may inspire future rational development of compounds with the ability to modulate phosphorylation-dependent conformational transitions in other proteins.   \n",
       "1163                                                                    During mitosis, the catalytic activity of protein-tyrosine phosphatase (PTP) alpha is enhanced, and its inhibitory binding to Grb2, which specifically blocks Src dephosphorylation, is decreased. These effects act synergistically to activate Src in mitosis. We show here that these effects are abrogated by mutation of Ser180 and/or Ser204, the sites of protein kinase C-mediated phosphorylation within PTPalpha. Moreover, either a Ser-to-Ala substitution or serine dephosphorylation specifically eliminated the ability of PTPalpha to dephosphorylate and activate Src even during interphase. This explains why the substitutions eliminated PTPalpha transforming activity, even though PTPalpha interphase dephosphorylation of nonspecific substrates was only slightly decreased. This occurred without change in the phosphorylation of PTPalpha at Tyr789, which is required for \"phosphotyrosine displacement\" during Src dephosphorylation. Thus, in addition to increasing PTPalpha nonspecific catalytic activity, Ser180 and Ser204 phosphorylation (along with Tyr789 phosphorylation) regulates PTPalpha substrate specificity. This involves serine phosphorylation-dependent differential modulation of the affinity of Tyr(P)789 for the Src and Grb2 SH2 domains. The results suggest that protein kinase C may participate in the mitotic activation of PTPalpha and Src and that there are intramolecular interactions between the PTPalpha C-terminal and membrane-proximal regions that are regulated, at least in part, by serine phosphorylation.   \n",
       "370                                                                                                                                                                                                                                                                                                                                                                                                                                                                                                                                                                                                                                                                                                  The docking and fusion of cargo-containing vesicles with target membranes of eukaryotic cells is mediated by the interaction of SNARE proteins present on both vesicle and target membranes. In many cases, the target membrane SNARE, or t-SNARE, exists as a complex of syntaxin with a member of the SNAP-25 family of palmitoylated proteins. We have identified a novel human kinase SNAK (SNARE kinase) that specifically phosphorylates the nonneuronal t-SNARE SNAP-23 in vivo. Interestingly, only SNAP-23 that is not assembled into t-SNARE complexes is phosphorylated by SNAK, and phosphorylated SNAP-23 resides exclusively in the cytosol. Coexpression with SNAK significantly enhances the stability of unassembled SNAP-23, and as a consequence, the assembly of newly synthesized SNAP-23 with syntaxin is augmented. These data demonstrate that phosphorylation of SNAP-23 by SNAK enhances the kinetics of t-SNARE assembly in vivo.   \n",
       "1268  Drosophila visual signaling, a G-protein-coupled phospholipase Cbeta (PLCbeta)-mediated mechanism, is regulated by eye-protein kinase C (PKC) that promotes light adaptation and fast deactivation, most likely via phosphorylation of inactivation no afterpotential D (INAD) and TRP (transient receptor potential). To reveal the critical phosphatases that dephosphorylate INAD, we used several biochemical analyses and identified protein phosphatase 2A (PP2A) as a candidate. Importantly, the catalytic subunit of PP2A, microtubule star (MTS), is copurified with INAD, and an elevated phosphorylation of INAD by eye-PKC was observed in three mts heterozygotes. To explore whether PP2A (MTS) regulates dephosphorylation of INAD by counteracting eye-PKC [INAC (inactivation no afterpotential C] in vivo, we performed ERG recordings. We discovered that inaC(P209) was semidominant, because inaC(P209) heterozygotes displayed abnormal light adaptation and slow deactivation. Interestingly, the deactivation defect of inaC(P209) heterozygotes was rescued by the mts(XE2258) heterozygous background. In contrast, mts(XE2258) failed to modify the severe deactivation of norpA(P16), indicating that MTS does not modulate NORPA (no receptor potential A) (PLCbeta). Together, our results strongly indicate that dephosphorylation of INAD is catalyzed by PP2A, and a reduction of PP2A can compensate for a partial loss of function in eye-PKC, restoring the fast deactivation kinetics in vivo. We thus propose that the fast deactivation of the visual response is modulated in part by the phosphorylation of INAD.   \n",
       "\n",
       "                                                                                                                                                                                                                                                                                                                                                                                                                                                                                                                                                                                                                                                                                                                                                                                                                                                                                                                                                                                                                                                                                                                                                                                                                                                                                                                                                                                                                                                                                                                                                                                                                                                     normalised_abstract  \\\n",
       "1695                                                                                                                                                                                                                                                                                                                                                                                                                      Organisms rely heavily on protein phosphorylation to transduce intracellular signals. The phosphorylation of a protein often induces conformational changes, which are responsible for triggering downstream cellular events. Protein kinases are themselves frequently regulated by phosphorylation. Recently, we and others proposed the molecular mechanism by which phosphorylation at a hydrophobic motif (HM) regulates the conformation and activity of many members of the AGC group of protein kinases. Here we have developed specific, low molecular weight compounds, which target the HM/Q9H611-pocket and have the ability to allosterically activate Q15118 (Q15118) by modulating the phosphorylation-dependent conformational transition. The mechanism of action of these compounds was characterized by mutagenesis of Q15118, synthesis of compound analogs, interaction-displacement studies and isothermal titration calorimetry experiments. Our results raise the possibility of developing drugs that target the AGC kinases via a novel mode of action and may inspire future rational development of compounds with the ability to modulate phosphorylation-dependent conformational transitions in other proteins.   \n",
       "1163                                                                       During mitosis, the catalytic activity of protein-tyrosine phosphatase (PTP) alpha is enhanced, and its inhibitory binding to P62993, which specifically blocks P12931 dephosphorylation, is decreased. These effects act synergistically to activate P12931 in mitosis. We show here that these effects are abrogated by mutation of Ser180 and/or Ser204, the sites of protein kinase C-mediated phosphorylation within P18433. Moreover, either a Ser-to-Ala substitution or serine dephosphorylation specifically eliminated the ability of P18433 to dephosphorylate and activate P12931 even during interphase. This explains why the substitutions eliminated P18433 transforming activity, even though P18433 interphase dephosphorylation of nonspecific substrates was only slightly decreased. This occurred without change in the phosphorylation of P18433 at Tyr789, which is required for \"phosphotyrosine displacement\" during P12931 dephosphorylation. Thus, in addition to increasing P18433 nonspecific catalytic activity, Ser180 and Ser204 phosphorylation (along with Tyr789 phosphorylation) regulates P18433 substrate specificity. This involves serine phosphorylation-dependent differential modulation of the affinity of Tyr(P)789 for the P12931 and P62993 SH2 domains. The results suggest that protein kinase C may participate in the mitotic activation of P18433 and P12931 and that there are intramolecular interactions between the P18433 C-terminal and membrane-proximal regions that are regulated, at least in part, by serine phosphorylation.   \n",
       "370                                                                                                                                                                                                                                                                                                                                                                                                                                                                                                                                                                                                                                                                                                                The docking and fusion of cargo-containing vesicles with target membranes of eukaryotic cells is mediated by the interaction of SNARE proteins present on both vesicle and target membranes. In many cases, the target membrane SNARE, or t-SNARE, exists as a complex of syntaxin with a member of the P60880 family of palmitoylated proteins. We have identified a novel human kinase SNAK (SNARE kinase) that specifically phosphorylates the nonneuronal t-SNARE O00161 in vivo. Interestingly, only O00161 that is not assembled into t-SNARE complexes is phosphorylated by SNAK, and phosphorylated O00161 resides exclusively in the cytosol. Coexpression with SNAK significantly enhances the stability of unassembled O00161, and as a consequence, the assembly of newly synthesized O00161 with syntaxin is augmented. These data demonstrate that phosphorylation of O00161 by SNAK enhances the kinetics of t-SNARE assembly in vivo.   \n",
       "1268  Drosophila visual signaling, a G-protein-coupled phospholipase Cbeta (PLCbeta)-mediated mechanism, is regulated by eye-protein kinase C (PKC) that promotes light adaptation and fast deactivation, most likely via phosphorylation of inactivation no afterpotential D (INAD) and TRP (transient receptor potential). To reveal the critical phosphatases that dephosphorylate INAD, we used several biochemical analyses and identified protein Q15257 (Q15257) as a candidate. Importantly, the catalytic subunit of Q15257, microtubule star (MTS), is copurified with INAD, and an elevated phosphorylation of INAD by eye-PKC was observed in three mts heterozygotes. To explore whether Q15257 (MTS) regulates dephosphorylation of INAD by counteracting eye-PKC [Q9NY37 (inactivation no afterpotential C] in vivo, we performed ERG recordings. We discovered that Q9NY37(P209) was semidominant, because Q9NY37(P209) heterozygotes displayed abnormal light adaptation and slow deactivation. Interestingly, the deactivation defect of Q9NY37(P209) heterozygotes was rescued by the mts(XE2258) heterozygous background. In contrast, mts(XE2258) failed to modify the severe deactivation of Q8N726), indicating that MTS does not modulate NORPA (no receptor potential A) (PLCbeta). Together, our results strongly indicate that dephosphorylation of INAD is catalyzed by Q15257, and a reduction of Q15257 can compensate for a partial loss of function in eye-PKC, restoring the fast deactivation kinetics in vivo. We thus propose that the fast deactivation of the visual response is modulated in part by the phosphorylation of INAD.   \n",
       "\n",
       "                                                                                                                                                                                                                                                                                                                                                                                                                                                                                                                                                                                                                                                                                                                                                                                                                                                                                                                                                                                                                                                                                                                                                                                                                                                                                                                                                                                                                                                                                                                                                                                                              annotations  \\\n",
       "1695                                                                                                                                                                                                                                                                                                                                                                                                                                                                                                                                                                                                                                                                                                                                                                                                                                                                                                                                                                                                                                                                                                                                                                                                          [{'start': '582', 'end': '585', 'name': 'PIF', 'type': 'Gene', 'normalised_id': '80119'}, {'start': '641', 'end': '684', 'name': 'phosphoinositide-dependent protein kinase 1', 'type': 'Gene', 'normalised_id': '5163'}, {'start': '686', 'end': '690', 'name': 'PDK1', 'type': 'Gene', 'normalised_id': '5163'}, {'start': '842', 'end': '846', 'name': 'PDK1', 'type': 'Gene', 'normalised_id': '5163'}]   \n",
       "1163  [{'start': '126', 'end': '130', 'name': 'Grb2', 'type': 'Gene', 'normalised_id': '2885'}, {'start': '158', 'end': '161', 'name': 'Src', 'type': 'Gene', 'normalised_id': '6714'}, {'start': '241', 'end': '244', 'name': 'Src', 'type': 'Gene', 'normalised_id': '6714'}, {'start': '402', 'end': '410', 'name': 'PTPalpha', 'type': 'Gene', 'normalised_id': '5786'}, {'start': '522', 'end': '530', 'name': 'PTPalpha', 'type': 'Gene', 'normalised_id': '5786'}, {'start': '563', 'end': '566', 'name': 'Src', 'type': 'Gene', 'normalised_id': '6714'}, {'start': '638', 'end': '646', 'name': 'PTPalpha', 'type': 'Gene', 'normalised_id': '5786'}, {'start': '682', 'end': '690', 'name': 'PTPalpha', 'type': 'Gene', 'normalised_id': '5786'}, {'start': '830', 'end': '838', 'name': 'PTPalpha', 'type': 'Gene', 'normalised_id': '5786'}, {'start': '910', 'end': '913', 'name': 'Src', 'type': 'Gene', 'normalised_id': '6714'}, {'start': '965', 'end': '973', 'name': 'PTPalpha', 'type': 'Gene', 'normalised_id': '5786'}, {'start': '1086', 'end': '1094', 'name': 'PTPalpha', 'type': 'Gene', 'normalised_id': '5786'}, {'start': '1226', 'end': '1229', 'name': 'Src', 'type': 'Gene', 'normalised_id': '6714'}, {'start': '1234', 'end': '1238', 'name': 'Grb2', 'type': 'Gene', 'normalised_id': '2885'}, {'start': '1339', 'end': '1347', 'name': 'PTPalpha', 'type': 'Gene', 'normalised_id': '5786'}, {'start': '1352', 'end': '1355', 'name': 'Src', 'type': 'Gene', 'normalised_id': '6714'}, {'start': '1415', 'end': '1423', 'name': 'PTPalpha', 'type': 'Gene', 'normalised_id': '5786'}]   \n",
       "370                                                                                                                                                                                                                                                                                                                                                                                                                                                                                                                                                                                                                                                                                                                                                                                                                                                     [{'start': '296', 'end': '303', 'name': 'SNAP-25', 'type': 'Gene', 'normalised_id': '6616'}, {'start': '365', 'end': '370', 'name': 'human', 'type': 'Species', 'normalised_id': '9606'}, {'start': '455', 'end': '462', 'name': 'SNAP-23', 'type': 'Gene', 'normalised_id': '8773'}, {'start': '492', 'end': '499', 'name': 'SNAP-23', 'type': 'Gene', 'normalised_id': '8773'}, {'start': '591', 'end': '598', 'name': 'SNAP-23', 'type': 'Gene', 'normalised_id': '8773'}, {'start': '710', 'end': '717', 'name': 'SNAP-23', 'type': 'Gene', 'normalised_id': '8773'}, {'start': '775', 'end': '782', 'name': 'SNAP-23', 'type': 'Gene', 'normalised_id': '8773'}, {'start': '858', 'end': '865', 'name': 'SNAP-23', 'type': 'Gene', 'normalised_id': '8773'}]   \n",
       "1268                                                                                                                                                                                                                                                                                                                                                                                                                                                                                                                                                                       [{'start': '434', 'end': '448', 'name': 'phosphatase 2A', 'type': 'Gene', 'normalised_id': '5524'}, {'start': '450', 'end': '454', 'name': 'PP2A', 'type': 'Gene', 'normalised_id': '5524'}, {'start': '510', 'end': '514', 'name': 'PP2A', 'type': 'Gene', 'normalised_id': '5524'}, {'start': '676', 'end': '680', 'name': 'PP2A', 'type': 'Gene', 'normalised_id': '5524'}, {'start': '749', 'end': '753', 'name': 'INAC', 'type': 'Gene', 'normalised_id': '51802'}, {'start': '846', 'end': '850', 'name': 'inaC', 'type': 'Gene', 'normalised_id': '51802'}, {'start': '883', 'end': '887', 'name': 'inaC', 'type': 'Gene', 'normalised_id': '51802'}, {'start': '1009', 'end': '1013', 'name': 'inaC', 'type': 'Gene', 'normalised_id': '51802'}, {'start': '1159', 'end': '1168', 'name': 'norpA(P16', 'type': 'Gene', 'normalised_id': '1029'}, {'start': '1339', 'end': '1343', 'name': 'PP2A', 'type': 'Gene', 'normalised_id': '5524'}, {'start': '1364', 'end': '1368', 'name': 'PP2A', 'type': 'Gene', 'normalised_id': '5524'}]   \n",
       "\n",
       "                                                                                                                                                                                                                                                                                                                                                                                                                                                                                                                                                                                                                                                                                                                                                                                                                                                                                                                                                                                                                                                                                                                                                                                                                                                                                                                                                                                                                                                                                                                                                                                                                                             annotations_abstract  \\\n",
       "1695                                                                                                                                                                                                                                                                                                                                                                                 Organisms rely heavily on protein phosphorylation to transduce intracellular signals. The phosphorylation of a protein often induces conformational changes, which are responsible for triggering downstream cellular events. Protein kinases are themselves frequently regulated by phosphorylation. Recently, we and others proposed the molecular mechanism by which phosphorylation at a hydrophobic motif (HM) regulates the conformation and activity of many members of the AGC group of protein kinases. Here we have developed specific, low molecular weight compounds, which target the HM/PIF-pocket and have the ability to allosterically activate phosphoinositide-dependent protein kinase 1 (PDK1) by modulating the phosphorylation-dependent conformational transition. The mechanism of action of these compounds was characterized by mutagenesis of PDK1, synthesis of compound analogs, interaction-displacement studies and isothermal titration calorimetry experiments. Our results raise the possibility of developing drugs that target the AGC kinases via a novel mode of action and may inspire future rational development of compounds with the ability to modulate phosphorylation-dependent conformational transitions in other proteins.   \n",
       "1163                                                                    During mitosis, the catalytic activity of protein-tyrosine phosphatase (PTP) alpha is enhanced, and its inhibitory binding to Grb2, which specifically blocks Src dephosphorylation, is decreased. These effects act synergistically to activate Src in mitosis. We show here that these effects are abrogated by mutation of Ser180 and/or Ser204, the sites of protein kinase C-mediated phosphorylation within PTPalpha. Moreover, either a Ser-to-Ala substitution or serine dephosphorylation specifically eliminated the ability of PTPalpha to dephosphorylate and activate Src even during interphase. This explains why the substitutions eliminated PTPalpha transforming activity, even though PTPalpha interphase dephosphorylation of nonspecific substrates was only slightly decreased. This occurred without change in the phosphorylation of PTPalpha at Tyr789, which is required for \"phosphotyrosine displacement\" during Src dephosphorylation. Thus, in addition to increasing PTPalpha nonspecific catalytic activity, Ser180 and Ser204 phosphorylation (along with Tyr789 phosphorylation) regulates PTPalpha substrate specificity. This involves serine phosphorylation-dependent differential modulation of the affinity of Tyr(P)789 for the Src and Grb2 SH2 domains. The results suggest that protein kinase C may participate in the mitotic activation of PTPalpha and Src and that there are intramolecular interactions between the PTPalpha C-terminal and membrane-proximal regions that are regulated, at least in part, by serine phosphorylation.   \n",
       "370                                                                                                                                                                                                                                                                                                                                                                                                                                                                                                                                                                                                                                                                                                  The docking and fusion of cargo-containing vesicles with target membranes of eukaryotic cells is mediated by the interaction of SNARE proteins present on both vesicle and target membranes. In many cases, the target membrane SNARE, or t-SNARE, exists as a complex of syntaxin with a member of the SNAP-25 family of palmitoylated proteins. We have identified a novel human kinase SNAK (SNARE kinase) that specifically phosphorylates the nonneuronal t-SNARE SNAP-23 in vivo. Interestingly, only SNAP-23 that is not assembled into t-SNARE complexes is phosphorylated by SNAK, and phosphorylated SNAP-23 resides exclusively in the cytosol. Coexpression with SNAK significantly enhances the stability of unassembled SNAP-23, and as a consequence, the assembly of newly synthesized SNAP-23 with syntaxin is augmented. These data demonstrate that phosphorylation of SNAP-23 by SNAK enhances the kinetics of t-SNARE assembly in vivo.   \n",
       "1268  Drosophila visual signaling, a G-protein-coupled phospholipase Cbeta (PLCbeta)-mediated mechanism, is regulated by eye-protein kinase C (PKC) that promotes light adaptation and fast deactivation, most likely via phosphorylation of inactivation no afterpotential D (INAD) and TRP (transient receptor potential). To reveal the critical phosphatases that dephosphorylate INAD, we used several biochemical analyses and identified protein phosphatase 2A (PP2A) as a candidate. Importantly, the catalytic subunit of PP2A, microtubule star (MTS), is copurified with INAD, and an elevated phosphorylation of INAD by eye-PKC was observed in three mts heterozygotes. To explore whether PP2A (MTS) regulates dephosphorylation of INAD by counteracting eye-PKC [INAC (inactivation no afterpotential C] in vivo, we performed ERG recordings. We discovered that inaC(P209) was semidominant, because inaC(P209) heterozygotes displayed abnormal light adaptation and slow deactivation. Interestingly, the deactivation defect of inaC(P209) heterozygotes was rescued by the mts(XE2258) heterozygous background. In contrast, mts(XE2258) failed to modify the severe deactivation of norpA(P16), indicating that MTS does not modulate NORPA (no receptor potential A) (PLCbeta). Together, our results strongly indicate that dephosphorylation of INAD is catalyzed by PP2A, and a reduction of PP2A can compensate for a partial loss of function in eye-PKC, restoring the fast deactivation kinetics in vivo. We thus propose that the fast deactivation of the visual response is modulated in part by the phosphorylation of INAD.   \n",
       "\n",
       "      num_unique_gene_normalised_id  num_gene_normalised_id  \\\n",
       "1695                              2                       4   \n",
       "1163                              3                      17   \n",
       "370                               2                       7   \n",
       "1268                              3                      11   \n",
       "\n",
       "                                                                                        gene_to_uniprot_map  \\\n",
       "1695                                                    {'5163': ['Q15118', 'B7Z7N6'], '80119': ['Q9H611']}   \n",
       "1163                                 {'2885': ['P62993', 'B0LPF3'], '5786': ['P18433'], '6714': ['P12931']}   \n",
       "370                                        {'8773': ['O00161', 'A8K287', 'A0A024R9R8'], '6616': ['P60880']}   \n",
       "1268  {'51802': ['Q9NY37'], '5524': ['Q15257', 'F6WIT2', 'B4DZF8'], '1029': ['Q8N726', 'P42771', 'K7PML8']}   \n",
       "\n",
       "      particpant1Exists  particpant2Exists  bothParticpantsExist  \\\n",
       "1695               True              False                 False   \n",
       "1163               True              False                 False   \n",
       "370                True              False                 False   \n",
       "1268              False              False                 False   \n",
       "\n",
       "      noParticpantsExist  \n",
       "1695               False  \n",
       "1163               False  \n",
       "370                False  \n",
       "1268                True  "
      ]
     },
     "execution_count": 49,
     "metadata": {},
     "output_type": "execute_result"
    }
   ],
   "source": [
    "data_filtered.query(\"particpant2Exists == False\").sample(4)"
   ]
  },
  {
   "cell_type": "markdown",
   "metadata": {},
   "source": [
    "### Remove abstracts where both participants do not exists"
   ]
  },
  {
   "cell_type": "code",
   "execution_count": 50,
   "metadata": {},
   "outputs": [
    {
     "data": {
      "text/plain": [
       "(609, 24)"
      ]
     },
     "execution_count": 50,
     "metadata": {},
     "output_type": "execute_result"
    }
   ],
   "source": [
    "data_filtered =  data_filtered.query('bothParticpantsExist == True')\n",
    "data_filtered.shape"
   ]
  },
  {
   "cell_type": "markdown",
   "metadata": {},
   "source": [
    "### Remove self relations"
   ]
  },
  {
   "cell_type": "code",
   "execution_count": 51,
   "metadata": {},
   "outputs": [
    {
     "data": {
      "text/plain": [
       "(436, 24)"
      ]
     },
     "execution_count": 51,
     "metadata": {},
     "output_type": "execute_result"
    }
   ],
   "source": [
    "data_filtered =  data_filtered.query('participant1Id != participant2Id')\n",
    "data_filtered.shape"
   ]
  },
  {
   "cell_type": "code",
   "execution_count": 52,
   "metadata": {},
   "outputs": [
    {
     "data": {
      "image/png": "[encoded data removed]",
      "text/plain": [
       "<Figure size 288x360 with 1 Axes>"
      ]
     },
     "metadata": {
      "needs_background": "light"
     },
     "output_type": "display_data"
    }
   ],
   "source": [
    "fig, ax = plt.subplots( 1,1, figsize=(4,5))\n",
    "\n",
    "c_ax= ax\n",
    "c_ax.set_title('Overall distribution post filter {}'.format(data_filtered.shape[0]))\n",
    "c_ax.yaxis.set_major_formatter(mtick.PercentFormatter())\n",
    "c_ax.yaxis.set_major_locator(plt.FixedLocator(range(0,100, 10)))\n",
    "\n",
    "data_filtered.groupby(['interactionType']).size().apply(lambda x: 100 * x / float(len(data_filtered.interactionType))).plot.bar(ax=c_ax, color='gray')\n",
    "\n",
    "\n",
    "plt.savefig(\"Interactiontype_postfilter.eps\", bbox_inches='tight')\n",
    "plt.savefig(\"Interactiontype_postfilter.png\", bbox_inches='tight')\n",
    "\n",
    "\n",
    "plt.show()"
   ]
  },
  {
   "cell_type": "markdown",
   "metadata": {},
   "source": [
    "#### Check how many contain the trigger word"
   ]
  },
  {
   "cell_type": "code",
   "execution_count": 53,
   "metadata": {},
   "outputs": [
    {
     "data": {
      "text/html": [
       "<div>\n",
       "<style scoped>\n",
       "    .dataframe tbody tr th:only-of-type {\n",
       "        vertical-align: middle;\n",
       "    }\n",
       "\n",
       "    .dataframe tbody tr th {\n",
       "        vertical-align: top;\n",
       "    }\n",
       "\n",
       "    .dataframe thead th {\n",
       "        text-align: right;\n",
       "    }\n",
       "</style>\n",
       "<table border=\"1\" class=\"dataframe\">\n",
       "  <thead>\n",
       "    <tr style=\"text-align: right;\">\n",
       "      <th>hasTriggerWord</th>\n",
       "      <th>False</th>\n",
       "      <th>True</th>\n",
       "    </tr>\n",
       "    <tr>\n",
       "      <th>interactionType</th>\n",
       "      <th></th>\n",
       "      <th></th>\n",
       "    </tr>\n",
       "  </thead>\n",
       "  <tbody>\n",
       "    <tr>\n",
       "      <th>acetylation</th>\n",
       "      <td>2</td>\n",
       "      <td>18</td>\n",
       "    </tr>\n",
       "    <tr>\n",
       "      <th>dephosphorylation</th>\n",
       "      <td>10</td>\n",
       "      <td>50</td>\n",
       "    </tr>\n",
       "    <tr>\n",
       "      <th>deubiquitination</th>\n",
       "      <td>0</td>\n",
       "      <td>3</td>\n",
       "    </tr>\n",
       "    <tr>\n",
       "      <th>methylation</th>\n",
       "      <td>0</td>\n",
       "      <td>30</td>\n",
       "    </tr>\n",
       "    <tr>\n",
       "      <th>phosphorylation</th>\n",
       "      <td>15</td>\n",
       "      <td>300</td>\n",
       "    </tr>\n",
       "    <tr>\n",
       "      <th>ubiquitination</th>\n",
       "      <td>0</td>\n",
       "      <td>8</td>\n",
       "    </tr>\n",
       "  </tbody>\n",
       "</table>\n",
       "</div>"
      ],
      "text/plain": [
       "hasTriggerWord     False  True \n",
       "interactionType                \n",
       "acetylation            2     18\n",
       "dephosphorylation     10     50\n",
       "deubiquitination       0      3\n",
       "methylation            0     30\n",
       "phosphorylation       15    300\n",
       "ubiquitination         0      8"
      ]
     },
     "execution_count": 53,
     "metadata": {},
     "output_type": "execute_result"
    }
   ],
   "source": [
    "data_filtered.groupby([ 'interactionType','hasTriggerWord']).size().unstack(fill_value = 0)"
   ]
  },
  {
   "cell_type": "code",
   "execution_count": 54,
   "metadata": {},
   "outputs": [
    {
     "data": {
      "text/html": [
       "<div>\n",
       "<style scoped>\n",
       "    .dataframe tbody tr th:only-of-type {\n",
       "        vertical-align: middle;\n",
       "    }\n",
       "\n",
       "    .dataframe tbody tr th {\n",
       "        vertical-align: top;\n",
       "    }\n",
       "\n",
       "    .dataframe thead th {\n",
       "        text-align: right;\n",
       "    }\n",
       "</style>\n",
       "<table border=\"1\" class=\"dataframe\">\n",
       "  <thead>\n",
       "    <tr style=\"text-align: right;\">\n",
       "      <th>hasTriggerWord</th>\n",
       "      <th>False</th>\n",
       "      <th>True</th>\n",
       "    </tr>\n",
       "    <tr>\n",
       "      <th>interactionType</th>\n",
       "      <th></th>\n",
       "      <th></th>\n",
       "    </tr>\n",
       "  </thead>\n",
       "  <tbody>\n",
       "    <tr>\n",
       "      <th>acetylation</th>\n",
       "      <td>10.0</td>\n",
       "      <td>90.0</td>\n",
       "    </tr>\n",
       "    <tr>\n",
       "      <th>dephosphorylation</th>\n",
       "      <td>16.7</td>\n",
       "      <td>83.3</td>\n",
       "    </tr>\n",
       "    <tr>\n",
       "      <th>deubiquitination</th>\n",
       "      <td>0.0</td>\n",
       "      <td>100.0</td>\n",
       "    </tr>\n",
       "    <tr>\n",
       "      <th>methylation</th>\n",
       "      <td>0.0</td>\n",
       "      <td>100.0</td>\n",
       "    </tr>\n",
       "    <tr>\n",
       "      <th>phosphorylation</th>\n",
       "      <td>4.8</td>\n",
       "      <td>95.2</td>\n",
       "    </tr>\n",
       "    <tr>\n",
       "      <th>ubiquitination</th>\n",
       "      <td>0.0</td>\n",
       "      <td>100.0</td>\n",
       "    </tr>\n",
       "  </tbody>\n",
       "</table>\n",
       "</div>"
      ],
      "text/plain": [
       "hasTriggerWord     False  True \n",
       "interactionType                \n",
       "acetylation         10.0   90.0\n",
       "dephosphorylation   16.7   83.3\n",
       "deubiquitination     0.0  100.0\n",
       "methylation          0.0  100.0\n",
       "phosphorylation      4.8   95.2\n",
       "ubiquitination       0.0  100.0"
      ]
     },
     "execution_count": 54,
     "metadata": {},
     "output_type": "execute_result"
    }
   ],
   "source": [
    "data_filtered.groupby([ 'interactionType','hasTriggerWord']).size().unstack(fill_value = 0).apply(lambda x: round(x/sum(x),3)*100, axis=1)\n"
   ]
  },
  {
   "cell_type": "code",
   "execution_count": 55,
   "metadata": {},
   "outputs": [
    {
     "data": {
      "text/html": [
       "<div>\n",
       "<style scoped>\n",
       "    .dataframe tbody tr th:only-of-type {\n",
       "        vertical-align: middle;\n",
       "    }\n",
       "\n",
       "    .dataframe tbody tr th {\n",
       "        vertical-align: top;\n",
       "    }\n",
       "\n",
       "    .dataframe thead th {\n",
       "        text-align: right;\n",
       "    }\n",
       "</style>\n",
       "<table border=\"1\" class=\"dataframe\">\n",
       "  <thead>\n",
       "    <tr style=\"text-align: right;\">\n",
       "      <th></th>\n",
       "      <th>entityMentionsCount</th>\n",
       "      <th>hasTriggerWord</th>\n",
       "      <th>interactionId</th>\n",
       "      <th>interactionType</th>\n",
       "      <th>isValid</th>\n",
       "      <th>lessThanThreshold</th>\n",
       "      <th>participant1Alias</th>\n",
       "      <th>participant1Id</th>\n",
       "      <th>participant2Alias</th>\n",
       "      <th>participant2Id</th>\n",
       "      <th>participants_count</th>\n",
       "      <th>pubmedId</th>\n",
       "      <th>pubmedTitle</th>\n",
       "      <th>pubmedabstract</th>\n",
       "      <th>normalised_abstract</th>\n",
       "      <th>annotations</th>\n",
       "      <th>annotations_abstract</th>\n",
       "      <th>num_unique_gene_normalised_id</th>\n",
       "      <th>num_gene_normalised_id</th>\n",
       "      <th>gene_to_uniprot_map</th>\n",
       "      <th>particpant1Exists</th>\n",
       "      <th>particpant2Exists</th>\n",
       "      <th>bothParticpantsExist</th>\n",
       "      <th>noParticpantsExist</th>\n",
       "    </tr>\n",
       "  </thead>\n",
       "  <tbody>\n",
       "  </tbody>\n",
       "</table>\n",
       "</div>"
      ],
      "text/plain": [
       "Empty DataFrame\n",
       "Columns: [entityMentionsCount, hasTriggerWord, interactionId, interactionType, isValid, lessThanThreshold, participant1Alias, participant1Id, participant2Alias, participant2Id, participants_count, pubmedId, pubmedTitle, pubmedabstract, normalised_abstract, annotations, annotations_abstract, num_unique_gene_normalised_id, num_gene_normalised_id, gene_to_uniprot_map, particpant1Exists, particpant2Exists, bothParticpantsExist, noParticpantsExist]\n",
       "Index: []"
      ]
     },
     "execution_count": 55,
     "metadata": {},
     "output_type": "execute_result"
    }
   ],
   "source": [
    "data_filtered.query('pubmedId == \"17126281\"')"
   ]
  },
  {
   "cell_type": "markdown",
   "metadata": {},
   "source": [
    "### Split Train/Test/validation"
   ]
  },
  {
   "cell_type": "code",
   "execution_count": 56,
   "metadata": {},
   "outputs": [],
   "source": [
    "from sklearn.model_selection import train_test_split\n",
    "from sklearn.model_selection import train_test_split\n",
    "\n",
    "unique_pubmed = data_filtered.pubmedId.unique()\n",
    "stratified =  [ data_filtered.query(\"pubmedId == '{}'\".format(p))['interactionType'].iloc[0] for p in unique_pubmed]\n",
    "trainpubmed, valpubmed  = train_test_split(unique_pubmed,  test_size=.1,\n",
    "                                                        random_state=777, stratify=stratified)\n",
    "\n",
    "\n",
    "stratified =  [data_filtered.query(\"pubmedId == '{}'\".format(p))['interactionType'].iloc[0] for p in trainpubmed]\n",
    "trainpubmed, testpubmed = train_test_split(trainpubmed,  test_size=.2,\n",
    "                                                        random_state=777, stratify=stratified)"
   ]
  },
  {
   "cell_type": "code",
   "execution_count": 57,
   "metadata": {},
   "outputs": [
    {
     "data": {
      "text/plain": [
       "array([], dtype=object)"
      ]
     },
     "execution_count": 57,
     "metadata": {},
     "output_type": "execute_result"
    }
   ],
   "source": [
    "data_filtered.query(\"interactionType == 'demethylation'\")['pubmedId'].unique()"
   ]
  },
  {
   "cell_type": "code",
   "execution_count": 58,
   "metadata": {},
   "outputs": [
    {
     "data": {
      "text/plain": [
       "array(['15103385', '16213503', '14603323', '11894096', '11882901',\n",
       "       '19656744', '16601676', '11027293'], dtype=object)"
      ]
     },
     "execution_count": 58,
     "metadata": {},
     "output_type": "execute_result"
    }
   ],
   "source": [
    "data_filtered.query(\"interactionType == 'ubiquitination'\")['pubmedId'].unique()"
   ]
  },
  {
   "cell_type": "code",
   "execution_count": 59,
   "metadata": {},
   "outputs": [],
   "source": [
    "train = data_filtered[data_filtered['pubmedId'].isin(trainpubmed)]\n",
    "test = data_filtered[data_filtered['pubmedId'].isin(testpubmed)]\n",
    "val = data_filtered[data_filtered['pubmedId'].isin(valpubmed)]\n",
    "\n",
    "\n"
   ]
  },
  {
   "cell_type": "code",
   "execution_count": 60,
   "metadata": {},
   "outputs": [
    {
     "data": {
      "text/plain": [
       "array(['16213503', '11894096', '11882901', '19656744', '16601676',\n",
       "       '11027293'], dtype=object)"
      ]
     },
     "execution_count": 60,
     "metadata": {},
     "output_type": "execute_result"
    }
   ],
   "source": [
    "train.query(\"interactionType == 'ubiquitination'\")['pubmedId'].unique()"
   ]
  },
  {
   "cell_type": "code",
   "execution_count": 61,
   "metadata": {},
   "outputs": [
    {
     "data": {
      "text/html": [
       "<div>\n",
       "<style scoped>\n",
       "    .dataframe tbody tr th:only-of-type {\n",
       "        vertical-align: middle;\n",
       "    }\n",
       "\n",
       "    .dataframe tbody tr th {\n",
       "        vertical-align: top;\n",
       "    }\n",
       "\n",
       "    .dataframe thead th {\n",
       "        text-align: right;\n",
       "    }\n",
       "</style>\n",
       "<table border=\"1\" class=\"dataframe\">\n",
       "  <thead>\n",
       "    <tr style=\"text-align: right;\">\n",
       "      <th></th>\n",
       "      <th>entityMentionsCount</th>\n",
       "      <th>hasTriggerWord</th>\n",
       "      <th>interactionId</th>\n",
       "      <th>interactionType</th>\n",
       "      <th>isValid</th>\n",
       "      <th>lessThanThreshold</th>\n",
       "      <th>participant1Alias</th>\n",
       "      <th>participant1Id</th>\n",
       "      <th>participant2Alias</th>\n",
       "      <th>participant2Id</th>\n",
       "      <th>participants_count</th>\n",
       "      <th>pubmedId</th>\n",
       "      <th>pubmedTitle</th>\n",
       "      <th>pubmedabstract</th>\n",
       "      <th>normalised_abstract</th>\n",
       "      <th>annotations</th>\n",
       "      <th>annotations_abstract</th>\n",
       "      <th>num_unique_gene_normalised_id</th>\n",
       "      <th>num_gene_normalised_id</th>\n",
       "      <th>gene_to_uniprot_map</th>\n",
       "      <th>particpant1Exists</th>\n",
       "      <th>particpant2Exists</th>\n",
       "      <th>bothParticpantsExist</th>\n",
       "      <th>noParticpantsExist</th>\n",
       "    </tr>\n",
       "  </thead>\n",
       "  <tbody>\n",
       "    <tr>\n",
       "      <th>1093</th>\n",
       "      <td>3</td>\n",
       "      <td>True</td>\n",
       "      <td>131488</td>\n",
       "      <td>ubiquitination</td>\n",
       "      <td>True</td>\n",
       "      <td>True</td>\n",
       "      <td>[[fbw1a_human], [F-box/WD repeat-containing protein 1A], [BTRC], [BTRCP], [FBW1A], [FBXW1A], [F-box and WD repeats protein beta-TrCP], [E3RSIkappaB], [pIkappaBalpha-E3 receptor subunit], [Epididymis tissue protein Li 2a]]</td>\n",
       "      <td>Q9Y297</td>\n",
       "      <td>[[mpip1_human], [M-phase inducer phosphatase 1], [Dual specificity phosphatase Cdc25A], [CDC25A]]</td>\n",
       "      <td>P30304</td>\n",
       "      <td>2</td>\n",
       "      <td>14603323</td>\n",
       "      <td>None</td>\n",
       "      <td>The Cdc25A phosphatase is essential for cell-cycle progression because of its function in dephosphorylating cyclin-dependent kinases. In response to DNA damage or stalled replication, the ATM and ATR protein kinases activate the checkpoint kinases Chk1 and Chk2, which leads to hyperphosphorylation of Cdc25A. These events stimulate the ubiquitin-mediated proteolysis of Cdc25A and contribute to delaying cell-cycle progression, thereby preventing genomic instability. Here we report that beta-TrCP is the F-box protein that targets phosphorylated Cdc25A for degradation by the Skp1/Cul1/F-box protein complex. Downregulation of beta-TrCP1 and beta-TrCP2 expression by short interfering RNAs causes an accumulation of Cdc25A in cells progressing through S phase and prevents the degradation of Cdc25A induced by ionizing radiation, indicating that beta-TrCP may function in the intra-S-phase checkpoint. Consistent with this hypothesis, suppression of beta-TrCP expression results in radioresistant DNA synthesis in response to DNA damage--a phenotype indicative of a defect in the intra-S-phase checkpoint that is associated with an inability to regulate Cdc25A properly. Our results show that beta-TrCP has a crucial role in mediating the response to DNA damage through Cdc25A degradation.</td>\n",
       "      <td>The P30304 phosphatase is essential for cell-cycle progression because of its function in dephosphorylating cyclin-dependent kinases. In response to DNA damage or stalled replication, the ATM and ATR protein kinases activate the checkpoint kinases O14757 and O96017, which leads to hyperphosphorylation of P30304. These events stimulate the ubiquitin-mediated proteolysis of P30304 and contribute to delaying cell-cycle progression, thereby preventing genomic instability. Here we report that Q9Y297 is the F-box protein that targets phosphorylated P30304 for degradation by the P63208/Q13616/F-box protein complex. Downregulation of Q9Y297 and beta-TrCP2 expression by short interfering RNAs causes an accumulation of P30304 in cells progressing through S phase and prevents the degradation of P30304 induced by ionizing radiation, indicating that Q9Y297 may function in the intra-S-phase checkpoint. Consistent with this hypothesis, suppression of Q9Y297 expression results in radioresistant DNA synthesis in response to DNA damage--a phenotype indicative of a defect in the intra-S-phase checkpoint that is associated with an inability to regulate P30304 properly. Our results show that Q9Y297 has a crucial role in mediating the response to DNA damage through P30304 degradation.</td>\n",
       "      <td>[{'start': '4', 'end': '10', 'name': 'Cdc25A', 'type': 'Gene', 'normalised_id': '993'}, {'start': '248', 'end': '252', 'name': 'Chk1', 'type': 'Gene', 'normalised_id': '1111'}, {'start': '257', 'end': '261', 'name': 'Chk2', 'type': 'Gene', 'normalised_id': '11200'}, {'start': '302', 'end': '308', 'name': 'Cdc25A', 'type': 'Gene', 'normalised_id': '993'}, {'start': '371', 'end': '377', 'name': 'Cdc25A', 'type': 'Gene', 'normalised_id': '993'}, {'start': '489', 'end': '498', 'name': 'beta-TrCP', 'type': 'Gene', 'normalised_id': '8945'}, {'start': '548', 'end': '554', 'name': 'Cdc25A', 'type': 'Gene', 'normalised_id': '993'}, {'start': '578', 'end': '582', 'name': 'Skp1', 'type': 'Gene', 'normalised_id': '6500'}, {'start': '583', 'end': '587', 'name': 'Cul1', 'type': 'Gene', 'normalised_id': '8454'}, {'start': '629', 'end': '639', 'name': 'beta-TrCP1', 'type': 'Gene', 'normalised_id': '8945'}, {'start': '718', 'end': '724', 'name': 'Cdc25A', 'type': 'Gene', 'normalised_id': '993'}, {'start': '794', 'end': '800', 'name': 'Cdc25A', 'type': 'Gene', 'normalised_id': '993'}, {'start': '848', 'end': '857', 'name': 'beta-TrCP', 'type': 'Gene', 'normalised_id': '8945'}, {'start': '952', 'end': '961', 'name': 'beta-TrCP', 'type': 'Gene', 'normalised_id': '8945'}, {'start': '1156', 'end': '1162', 'name': 'Cdc25A', 'type': 'Gene', 'normalised_id': '993'}, {'start': '1195', 'end': '1204', 'name': 'beta-TrCP', 'type': 'Gene', 'normalised_id': '8945'}, {'start': '1272', 'end': '1278', 'name': 'Cdc25A', 'type': 'Gene', 'normalised_id': '993'}]</td>\n",
       "      <td>The Cdc25A phosphatase is essential for cell-cycle progression because of its function in dephosphorylating cyclin-dependent kinases. In response to DNA damage or stalled replication, the ATM and ATR protein kinases activate the checkpoint kinases Chk1 and Chk2, which leads to hyperphosphorylation of Cdc25A. These events stimulate the ubiquitin-mediated proteolysis of Cdc25A and contribute to delaying cell-cycle progression, thereby preventing genomic instability. Here we report that beta-TrCP is the F-box protein that targets phosphorylated Cdc25A for degradation by the Skp1/Cul1/F-box protein complex. Downregulation of beta-TrCP1 and beta-TrCP2 expression by short interfering RNAs causes an accumulation of Cdc25A in cells progressing through S phase and prevents the degradation of Cdc25A induced by ionizing radiation, indicating that beta-TrCP may function in the intra-S-phase checkpoint. Consistent with this hypothesis, suppression of beta-TrCP expression results in radioresistant DNA synthesis in response to DNA damage--a phenotype indicative of a defect in the intra-S-phase checkpoint that is associated with an inability to regulate Cdc25A properly. Our results show that beta-TrCP has a crucial role in mediating the response to DNA damage through Cdc25A degradation.</td>\n",
       "      <td>6</td>\n",
       "      <td>17</td>\n",
       "      <td>{'11200': ['O96017'], '1111': ['O14757', 'B4DT73', 'E7EPP6'], '8945': ['Q9Y297', 'B7Z3H4', 'A0A0S2Z4P6', 'Q68DS0', 'B2R8L3'], '6500': ['P63208'], '8454': ['Q13616', 'A0A090N7U0', 'B3KTW0'], '993': ['P30304', 'A0A024R2R6', 'K7N7S0', 'D8KXX0']}</td>\n",
       "      <td>True</td>\n",
       "      <td>True</td>\n",
       "      <td>True</td>\n",
       "      <td>False</td>\n",
       "    </tr>\n",
       "  </tbody>\n",
       "</table>\n",
       "</div>"
      ],
      "text/plain": [
       "      entityMentionsCount  hasTriggerWord interactionId interactionType  \\\n",
       "1093                    3            True        131488  ubiquitination   \n",
       "\n",
       "      isValid  lessThanThreshold  \\\n",
       "1093     True               True   \n",
       "\n",
       "                                                                                                                                                                                                                  participant1Alias  \\\n",
       "1093  [[fbw1a_human], [F-box/WD repeat-containing protein 1A], [BTRC], [BTRCP], [FBW1A], [FBXW1A], [F-box and WD repeats protein beta-TrCP], [E3RSIkappaB], [pIkappaBalpha-E3 receptor subunit], [Epididymis tissue protein Li 2a]]   \n",
       "\n",
       "     participant1Id  \\\n",
       "1093         Q9Y297   \n",
       "\n",
       "                                                                                      participant2Alias  \\\n",
       "1093  [[mpip1_human], [M-phase inducer phosphatase 1], [Dual specificity phosphatase Cdc25A], [CDC25A]]   \n",
       "\n",
       "     participant2Id  participants_count  pubmedId pubmedTitle  \\\n",
       "1093         P30304                   2  14603323        None   \n",
       "\n",
       "                                                                                                                                                                                                                                                                                                                                                                                                                                                                                                                                                                                                                                                                                                                                                                                                                                                                                                                                                                                                                                                                                                                                                                                                                                                                                                                                   pubmedabstract  \\\n",
       "1093  The Cdc25A phosphatase is essential for cell-cycle progression because of its function in dephosphorylating cyclin-dependent kinases. In response to DNA damage or stalled replication, the ATM and ATR protein kinases activate the checkpoint kinases Chk1 and Chk2, which leads to hyperphosphorylation of Cdc25A. These events stimulate the ubiquitin-mediated proteolysis of Cdc25A and contribute to delaying cell-cycle progression, thereby preventing genomic instability. Here we report that beta-TrCP is the F-box protein that targets phosphorylated Cdc25A for degradation by the Skp1/Cul1/F-box protein complex. Downregulation of beta-TrCP1 and beta-TrCP2 expression by short interfering RNAs causes an accumulation of Cdc25A in cells progressing through S phase and prevents the degradation of Cdc25A induced by ionizing radiation, indicating that beta-TrCP may function in the intra-S-phase checkpoint. Consistent with this hypothesis, suppression of beta-TrCP expression results in radioresistant DNA synthesis in response to DNA damage--a phenotype indicative of a defect in the intra-S-phase checkpoint that is associated with an inability to regulate Cdc25A properly. Our results show that beta-TrCP has a crucial role in mediating the response to DNA damage through Cdc25A degradation.   \n",
       "\n",
       "                                                                                                                                                                                                                                                                                                                                                                                                                                                                                                                                                                                                                                                                                                                                                                                                                                                                                                                                                                                                                                                                                                                                                                                                                                                                                                                      normalised_abstract  \\\n",
       "1093  The P30304 phosphatase is essential for cell-cycle progression because of its function in dephosphorylating cyclin-dependent kinases. In response to DNA damage or stalled replication, the ATM and ATR protein kinases activate the checkpoint kinases O14757 and O96017, which leads to hyperphosphorylation of P30304. These events stimulate the ubiquitin-mediated proteolysis of P30304 and contribute to delaying cell-cycle progression, thereby preventing genomic instability. Here we report that Q9Y297 is the F-box protein that targets phosphorylated P30304 for degradation by the P63208/Q13616/F-box protein complex. Downregulation of Q9Y297 and beta-TrCP2 expression by short interfering RNAs causes an accumulation of P30304 in cells progressing through S phase and prevents the degradation of P30304 induced by ionizing radiation, indicating that Q9Y297 may function in the intra-S-phase checkpoint. Consistent with this hypothesis, suppression of Q9Y297 expression results in radioresistant DNA synthesis in response to DNA damage--a phenotype indicative of a defect in the intra-S-phase checkpoint that is associated with an inability to regulate P30304 properly. Our results show that Q9Y297 has a crucial role in mediating the response to DNA damage through P30304 degradation.   \n",
       "\n",
       "                                                                                                                                                                                                                                                                                                                                                                                                                                                                                                                                                                                                                                                                                                                                                                                                                                                                                                                                                                                                                                                                                                                                                                                                                                                                                                                                                                                                                                                                                                                                                                                                          annotations  \\\n",
       "1093  [{'start': '4', 'end': '10', 'name': 'Cdc25A', 'type': 'Gene', 'normalised_id': '993'}, {'start': '248', 'end': '252', 'name': 'Chk1', 'type': 'Gene', 'normalised_id': '1111'}, {'start': '257', 'end': '261', 'name': 'Chk2', 'type': 'Gene', 'normalised_id': '11200'}, {'start': '302', 'end': '308', 'name': 'Cdc25A', 'type': 'Gene', 'normalised_id': '993'}, {'start': '371', 'end': '377', 'name': 'Cdc25A', 'type': 'Gene', 'normalised_id': '993'}, {'start': '489', 'end': '498', 'name': 'beta-TrCP', 'type': 'Gene', 'normalised_id': '8945'}, {'start': '548', 'end': '554', 'name': 'Cdc25A', 'type': 'Gene', 'normalised_id': '993'}, {'start': '578', 'end': '582', 'name': 'Skp1', 'type': 'Gene', 'normalised_id': '6500'}, {'start': '583', 'end': '587', 'name': 'Cul1', 'type': 'Gene', 'normalised_id': '8454'}, {'start': '629', 'end': '639', 'name': 'beta-TrCP1', 'type': 'Gene', 'normalised_id': '8945'}, {'start': '718', 'end': '724', 'name': 'Cdc25A', 'type': 'Gene', 'normalised_id': '993'}, {'start': '794', 'end': '800', 'name': 'Cdc25A', 'type': 'Gene', 'normalised_id': '993'}, {'start': '848', 'end': '857', 'name': 'beta-TrCP', 'type': 'Gene', 'normalised_id': '8945'}, {'start': '952', 'end': '961', 'name': 'beta-TrCP', 'type': 'Gene', 'normalised_id': '8945'}, {'start': '1156', 'end': '1162', 'name': 'Cdc25A', 'type': 'Gene', 'normalised_id': '993'}, {'start': '1195', 'end': '1204', 'name': 'beta-TrCP', 'type': 'Gene', 'normalised_id': '8945'}, {'start': '1272', 'end': '1278', 'name': 'Cdc25A', 'type': 'Gene', 'normalised_id': '993'}]   \n",
       "\n",
       "                                                                                                                                                                                                                                                                                                                                                                                                                                                                                                                                                                                                                                                                                                                                                                                                                                                                                                                                                                                                                                                                                                                                                                                                                                                                                                                             annotations_abstract  \\\n",
       "1093  The Cdc25A phosphatase is essential for cell-cycle progression because of its function in dephosphorylating cyclin-dependent kinases. In response to DNA damage or stalled replication, the ATM and ATR protein kinases activate the checkpoint kinases Chk1 and Chk2, which leads to hyperphosphorylation of Cdc25A. These events stimulate the ubiquitin-mediated proteolysis of Cdc25A and contribute to delaying cell-cycle progression, thereby preventing genomic instability. Here we report that beta-TrCP is the F-box protein that targets phosphorylated Cdc25A for degradation by the Skp1/Cul1/F-box protein complex. Downregulation of beta-TrCP1 and beta-TrCP2 expression by short interfering RNAs causes an accumulation of Cdc25A in cells progressing through S phase and prevents the degradation of Cdc25A induced by ionizing radiation, indicating that beta-TrCP may function in the intra-S-phase checkpoint. Consistent with this hypothesis, suppression of beta-TrCP expression results in radioresistant DNA synthesis in response to DNA damage--a phenotype indicative of a defect in the intra-S-phase checkpoint that is associated with an inability to regulate Cdc25A properly. Our results show that beta-TrCP has a crucial role in mediating the response to DNA damage through Cdc25A degradation.   \n",
       "\n",
       "      num_unique_gene_normalised_id  num_gene_normalised_id  \\\n",
       "1093                              6                      17   \n",
       "\n",
       "                                                                                                                                                                                                                                     gene_to_uniprot_map  \\\n",
       "1093  {'11200': ['O96017'], '1111': ['O14757', 'B4DT73', 'E7EPP6'], '8945': ['Q9Y297', 'B7Z3H4', 'A0A0S2Z4P6', 'Q68DS0', 'B2R8L3'], '6500': ['P63208'], '8454': ['Q13616', 'A0A090N7U0', 'B3KTW0'], '993': ['P30304', 'A0A024R2R6', 'K7N7S0', 'D8KXX0']}   \n",
       "\n",
       "      particpant1Exists  particpant2Exists  bothParticpantsExist  \\\n",
       "1093               True               True                  True   \n",
       "\n",
       "      noParticpantsExist  \n",
       "1093               False  "
      ]
     },
     "execution_count": 61,
     "metadata": {},
     "output_type": "execute_result"
    }
   ],
   "source": [
    "val.query(\"interactionType == 'ubiquitination'\")\n"
   ]
  },
  {
   "cell_type": "code",
   "execution_count": 62,
   "metadata": {},
   "outputs": [
    {
     "data": {
      "text/html": [
       "<div>\n",
       "<style scoped>\n",
       "    .dataframe tbody tr th:only-of-type {\n",
       "        vertical-align: middle;\n",
       "    }\n",
       "\n",
       "    .dataframe tbody tr th {\n",
       "        vertical-align: top;\n",
       "    }\n",
       "\n",
       "    .dataframe thead th {\n",
       "        text-align: right;\n",
       "    }\n",
       "</style>\n",
       "<table border=\"1\" class=\"dataframe\">\n",
       "  <thead>\n",
       "    <tr style=\"text-align: right;\">\n",
       "      <th></th>\n",
       "      <th>pubmedId</th>\n",
       "      <th>interactionType</th>\n",
       "      <th>participant1Id</th>\n",
       "      <th>participant2Id</th>\n",
       "      <th>pubmedabstract</th>\n",
       "      <th>normalised_abstract</th>\n",
       "      <th>annotations</th>\n",
       "      <th>gene_to_uniprot_map</th>\n",
       "    </tr>\n",
       "  </thead>\n",
       "  <tbody>\n",
       "    <tr>\n",
       "      <th>738</th>\n",
       "      <td>24291004</td>\n",
       "      <td>phosphorylation</td>\n",
       "      <td>P04150</td>\n",
       "      <td>P31749</td>\n",
       "      <td>Glucocorticoid resistance is a major driver of therapeutic failure in T cell acute lymphoblastic leukemia (T-ALL). Here, we identify the AKT1 kinase as a major negative regulator of the NR3C1 glucocorticoid receptor protein activity driving glucocorticoid resistance in T-ALL. Mechanistically, AKT1 impairs glucocorticoid-induced gene expression by direct phosphorylation of NR3C1 at position S134 and blocking glucocorticoid-induced NR3C1 translocation to the nucleus. Moreover, we demonstrate that loss of PTEN and consequent AKT1 activation can effectively block glucocorticoid-induced apoptosis and induce resistance to glucocorticoid therapy. Conversely, pharmacologic inhibition of AKT with MK2206 effectively restores glucocorticoid-induced NR3C1 translocation to the nucleus, increases the response of T-ALL cells to glucocorticoid therapy, and effectively reverses glucocorticoid resistance in vitro and in vivo.</td>\n",
       "      <td>Glucocorticoid resistance is a major driver of therapeutic failure in T cell acute lymphoblastic leukemia (T-ALL). Here, we identify the P31749 kinase as a major negative regulator of the P04150 glucocorticoid receptor protein activity driving glucocorticoid resistance in T-ALL. Mechanistically, P31749 impairs glucocorticoid-induced gene expression by direct phosphorylation of P04150 at position S134 and blocking glucocorticoid-induced P04150 translocation to the nucleus. Moreover, we demonstrate that loss of P60484 and consequent P31749 activation can effectively block glucocorticoid-induced apoptosis and induce resistance to glucocorticoid therapy. Conversely, pharmacologic inhibition of AKT with MK2206 effectively restores glucocorticoid-induced P04150 translocation to the nucleus, increases the response of T-ALL cells to glucocorticoid therapy, and effectively reverses glucocorticoid resistance in vitro and in vivo.</td>\n",
       "      <td>[{'start': '137', 'end': '141', 'name': 'AKT1', 'type': 'Gene', 'normalised_id': '207'}, {'start': '186', 'end': '191', 'name': 'NR3C1', 'type': 'Gene', 'normalised_id': '2908'}, {'start': '294', 'end': '298', 'name': 'AKT1', 'type': 'Gene', 'normalised_id': '207'}, {'start': '375', 'end': '380', 'name': 'NR3C1', 'type': 'Gene', 'normalised_id': '2908'}, {'start': '434', 'end': '439', 'name': 'NR3C1', 'type': 'Gene', 'normalised_id': '2908'}, {'start': '508', 'end': '512', 'name': 'PTEN', 'type': 'Gene', 'normalised_id': '5728'}, {'start': '528', 'end': '532', 'name': 'AKT1', 'type': 'Gene', 'normalised_id': '207'}, {'start': '748', 'end': '753', 'name': 'NR3C1', 'type': 'Gene', 'normalised_id': '2908'}]</td>\n",
       "      <td>{'2908': ['P04150', 'E5KQF5', 'E5KQF6', 'F1D8N4', 'B7Z7I2'], '207': ['P31749', 'B0LPE5', 'B3KVH4'], '5728': ['P60484', 'F6KD01']}</td>\n",
       "    </tr>\n",
       "  </tbody>\n",
       "</table>\n",
       "</div>"
      ],
      "text/plain": [
       "     pubmedId  interactionType participant1Id participant2Id  \\\n",
       "738  24291004  phosphorylation         P04150         P31749   \n",
       "\n",
       "                                                                                                                                                                                                                                                                                                                                                                                                                                                                                                                                                                                                                                                                                                                                                                                                                                                                                                                                                pubmedabstract  \\\n",
       "738  Glucocorticoid resistance is a major driver of therapeutic failure in T cell acute lymphoblastic leukemia (T-ALL). Here, we identify the AKT1 kinase as a major negative regulator of the NR3C1 glucocorticoid receptor protein activity driving glucocorticoid resistance in T-ALL. Mechanistically, AKT1 impairs glucocorticoid-induced gene expression by direct phosphorylation of NR3C1 at position S134 and blocking glucocorticoid-induced NR3C1 translocation to the nucleus. Moreover, we demonstrate that loss of PTEN and consequent AKT1 activation can effectively block glucocorticoid-induced apoptosis and induce resistance to glucocorticoid therapy. Conversely, pharmacologic inhibition of AKT with MK2206 effectively restores glucocorticoid-induced NR3C1 translocation to the nucleus, increases the response of T-ALL cells to glucocorticoid therapy, and effectively reverses glucocorticoid resistance in vitro and in vivo.   \n",
       "\n",
       "                                                                                                                                                                                                                                                                                                                                                                                                                                                                                                                                                                                                                                                                                                                                                                                                                                                                                                                                                       normalised_abstract  \\\n",
       "738  Glucocorticoid resistance is a major driver of therapeutic failure in T cell acute lymphoblastic leukemia (T-ALL). Here, we identify the P31749 kinase as a major negative regulator of the P04150 glucocorticoid receptor protein activity driving glucocorticoid resistance in T-ALL. Mechanistically, P31749 impairs glucocorticoid-induced gene expression by direct phosphorylation of P04150 at position S134 and blocking glucocorticoid-induced P04150 translocation to the nucleus. Moreover, we demonstrate that loss of P60484 and consequent P31749 activation can effectively block glucocorticoid-induced apoptosis and induce resistance to glucocorticoid therapy. Conversely, pharmacologic inhibition of AKT with MK2206 effectively restores glucocorticoid-induced P04150 translocation to the nucleus, increases the response of T-ALL cells to glucocorticoid therapy, and effectively reverses glucocorticoid resistance in vitro and in vivo.   \n",
       "\n",
       "                                                                                                                                                                                                                                                                                                                                                                                                                                                                                                                                                                                                                                                                                                                                   annotations  \\\n",
       "738  [{'start': '137', 'end': '141', 'name': 'AKT1', 'type': 'Gene', 'normalised_id': '207'}, {'start': '186', 'end': '191', 'name': 'NR3C1', 'type': 'Gene', 'normalised_id': '2908'}, {'start': '294', 'end': '298', 'name': 'AKT1', 'type': 'Gene', 'normalised_id': '207'}, {'start': '375', 'end': '380', 'name': 'NR3C1', 'type': 'Gene', 'normalised_id': '2908'}, {'start': '434', 'end': '439', 'name': 'NR3C1', 'type': 'Gene', 'normalised_id': '2908'}, {'start': '508', 'end': '512', 'name': 'PTEN', 'type': 'Gene', 'normalised_id': '5728'}, {'start': '528', 'end': '532', 'name': 'AKT1', 'type': 'Gene', 'normalised_id': '207'}, {'start': '748', 'end': '753', 'name': 'NR3C1', 'type': 'Gene', 'normalised_id': '2908'}]   \n",
       "\n",
       "                                                                                                                   gene_to_uniprot_map  \n",
       "738  {'2908': ['P04150', 'E5KQF5', 'E5KQF6', 'F1D8N4', 'B7Z7I2'], '207': ['P31749', 'B0LPE5', 'B3KVH4'], '5728': ['P60484', 'F6KD01']}  "
      ]
     },
     "execution_count": 62,
     "metadata": {},
     "output_type": "execute_result"
    }
   ],
   "source": [
    "#train.sample(n=10)\n",
    "train.query(\"pubmedId == '24291004' and isValid==True\")[ [\"pubmedId\",\"interactionType\", \"participant1Id\", \"participant2Id\", \"pubmedabstract\", \"normalised_abstract\", \"annotations\", \"gene_to_uniprot_map\"]]"
   ]
  },
  {
   "cell_type": "code",
   "execution_count": null,
   "metadata": {},
   "outputs": [],
   "source": []
  },
  {
   "cell_type": "code",
   "execution_count": 63,
   "metadata": {},
   "outputs": [
    {
     "data": {
      "image/png": "[encoded data removed]",
      "text/plain": [
       "<Figure size 864x360 with 3 Axes>"
      ]
     },
     "metadata": {
      "needs_background": "light"
     },
     "output_type": "display_data"
    }
   ],
   "source": [
    "import matplotlib.pyplot as plt\n",
    "import matplotlib\n",
    "import matplotlib.ticker as mtick\n",
    "\n",
    "\n",
    "fig, ax = plt.subplots( 1,3, figsize=(12,5))\n",
    "\n",
    "\n",
    "\n",
    "#fig, ax = plt.subplots( 7,1, figsize=(45,30))\n",
    "c_ax= ax[0]\n",
    "c_ax.set_title('Train set {}'.format(train.shape[0]))\n",
    "c_ax.yaxis.set_major_formatter(mtick.PercentFormatter())\n",
    "c_ax.yaxis.set_major_locator(plt.FixedLocator(range(0,100, 5)))\n",
    "train.groupby(['interactionType']).size().apply(lambda x: 100 * x / float(len(train.interactionType))).plot.bar(ax=c_ax, color='gray')\n",
    "\n",
    "\n",
    "\n",
    "\n",
    "c_ax = ax[1] \n",
    "c_ax.set_title('Validation set {}'.format(val.shape[0]))\n",
    "c_ax.yaxis.set_major_formatter(mtick.PercentFormatter())\n",
    "c_ax.yaxis.set_major_locator(plt.FixedLocator(range(0,100, 5)))\n",
    "val.groupby(['interactionType']).size().apply(lambda x: 100 * x / float(len(val.interactionType))).plot.bar(ax=c_ax, color='gray')\n",
    "\n",
    "\n",
    "\n",
    "c_ax = ax[2] \n",
    "c_ax.set_title('Test set {}'.format(test.shape[0]))\n",
    "c_ax.yaxis.set_major_formatter(mtick.PercentFormatter())\n",
    "c_ax.yaxis.set_major_locator(plt.FixedLocator(range(0,100, 5)))\n",
    "test.groupby(['interactionType']).size().apply(lambda x: 100 * x / float(len(test.interactionType))).plot.bar(ax=c_ax, color='gray')\n",
    "\n",
    "\n",
    "\n",
    "\n",
    "plt.savefig(\"split_dataset_postfilter.eps\", bbox_inches='tight')\n",
    "plt.savefig(\"split_dataset_postfilter.png\", bbox_inches='tight')\n",
    "\n",
    "plt.show()"
   ]
  },
  {
   "cell_type": "code",
   "execution_count": 64,
   "metadata": {},
   "outputs": [
    {
     "data": {
      "image/png": "[encoded data removed]",
      "text/plain": [
       "<Figure size 1080x360 with 3 Axes>"
      ]
     },
     "metadata": {
      "needs_background": "light"
     },
     "output_type": "display_data"
    }
   ],
   "source": [
    "import matplotlib.pyplot as plt\n",
    "import matplotlib\n",
    "import matplotlib.ticker as mtick\n",
    "\n",
    "\n",
    "fig, ax = plt.subplots( 1,3, figsize=(15,5))\n",
    "\n",
    "\n",
    "\n",
    "#fig, ax = plt.subplots( 7,1, figsize=(45,30))\n",
    "c_ax= ax[0]\n",
    "c_ax.set_title('Train set total positive class {}'.format(train.shape[0]))\n",
    "c_ax.yaxis.set_major_locator(plt.MaxNLocator( prune='both'))\n",
    "train.interactionType.value_counts().sort_index().plot.bar(ax=c_ax, color='gray')\n",
    "\n",
    "\n",
    "\n",
    "\n",
    "c_ax = ax[1] \n",
    "c_ax.set_title('Validation set total positive class {}'.format(val.shape[0]))\n",
    "c_ax.yaxis.set_major_locator(plt.MaxNLocator( prune='both'))\n",
    "val.interactionType.value_counts().sort_index().plot.bar(ax=c_ax, color='gray')\n",
    "\n",
    "c_ax = ax[2] \n",
    "c_ax.set_title('Test set total positive class {}'.format(test.shape[0]))\n",
    "c_ax.yaxis.set_major_locator(plt.MaxNLocator( prune='both'))\n",
    "test.interactionType.value_counts().sort_index().plot.bar(ax=c_ax,  color='gray')\n",
    "\n",
    "\n",
    "plt.savefig('TrainTestValidationInteractionDistribution.eps', bbox_inches='tight')\n",
    "plt.savefig('TrainTestValidationInteractionDistribution.png', bbox_inches='tight')\n",
    "\n",
    "\n",
    "plt.show()"
   ]
  },
  {
   "cell_type": "markdown",
   "metadata": {},
   "source": [
    "### Sample network"
   ]
  },
  {
   "cell_type": "code",
   "execution_count": 65,
   "metadata": {},
   "outputs": [
    {
     "data": {
      "image/png": "[encoded data removed]",
      "text/plain": [
       "<Figure size 1296x576 with 2 Axes>"
      ]
     },
     "metadata": {},
     "output_type": "display_data"
    }
   ],
   "source": [
    "import networkx as nx\n",
    "import matplotlib.pyplot as plt\n",
    "import random\n",
    "\n",
    "random.seed(a=78, version=2)\n",
    "\n",
    "fig,ax=plt.subplots(1,2, figsize=(18,8))\n",
    "\n",
    "G=nx.Graph()\n",
    "# Add nodes and edges\n",
    "G.add_edges_from(train.query(\" participant2Id =='Q5S007' and participant1Id != participant2Id\")\n",
    "                 .apply(lambda x: ( x[\"participant1Id\"],x[\"participant2Id\"], {\"type\": x['interactionType']}), axis=1))\n",
    "\n",
    "\n",
    "pos = nx.spring_layout(G,  seed=80)\n",
    "\n",
    "nx.draw(G, node_color='lightgrey', pos=pos, node_size=1000, with_labels = True, ax=ax[0])\n",
    "\n",
    "\n",
    "edge_label = nx.get_edge_attributes(G,'type')\n",
    "\n",
    "colors = {i:random.randint(0, 50) for i in train['interactionType'].unique()}\n",
    "edge_colors = [ colors[l]  for _,l in edge_label.items()]\n",
    "\n",
    "cmap=plt.cm.get_cmap(\"rainbow\")\n",
    "vmin = min(edge_colors)\n",
    "vmax = max(edge_colors)\n",
    "\n",
    "nx.draw(G, node_color='lightgrey', pos=pos, node_size=1000, with_labels = True, ax=ax[1])\n",
    "nx.draw_networkx_edges(G, pos,  width=1.0, edge_color=edge_colors, edge_cmap=cmap, edge_vmin=vmin, edge_vmax=vmax)\n",
    "\n",
    "nx.draw_networkx_edge_labels(G, pos=pos,alpha=1, edge_labels = nx.get_edge_attributes(G,'type'), ax=ax[1])\n",
    "\n",
    "plt.savefig('network.pdf', bbox_inches=\"tight\")\n",
    "\n",
    "\n",
    "\n",
    "plt.show()"
   ]
  },
  {
   "cell_type": "markdown",
   "metadata": {},
   "source": [
    "### Generate negative samples"
   ]
  },
  {
   "cell_type": "code",
   "execution_count": 66,
   "metadata": {},
   "outputs": [],
   "source": [
    "\n",
    "# def generate_negative_old(data):\n",
    "#     import uuid\n",
    "#     unique_pubmeds = data[\"pubmedId\"].unique()\n",
    "#     data_fake = pd.DataFrame(columns=data.columns)\n",
    "\n",
    "#     num_fake_records = int( .50 * len(data))\n",
    "#     #TODO: Randomise this, biased via\n",
    "#     for u in unique_pubmeds:\n",
    "#         fake_records = pd.DataFrame(data[ data.pubmedId != u]  ).sample(n=1) \n",
    "#         fake_records.loc[:, \"interactionId\"] =  fake_records.interactionId.astype(str) + \"_\" + str(uuid.uuid4() ) + \"_\" + \"fake\"\n",
    "#         fake_records.loc[:,\"isValid\"] = 'False' \n",
    "#         ## Copy of the pubmeid abtract and the title from a id\n",
    "#         fake_records.loc[:,\"pubmedId\"] = u\n",
    "#         fake_records.loc[:, \"pubmedTitle\"] =  data[ data.pubmedId == u].iloc[0][\"pubmedTitle\"]\n",
    "#         fake_records.loc[:, \"pubmedabstract\"] =  data[ data.pubmedId == u].iloc[0][\"pubmedabstract\"]\n",
    "\n",
    "\n",
    "#         data_fake = data_fake.append(fake_records, ignore_index=True)\n",
    "#         if len(data_fake) > num_fake_records:\n",
    "#             break\n",
    "            \n",
    "#     return data_fake\n",
    "  \n",
    "    "
   ]
  },
  {
   "cell_type": "code",
   "execution_count": 67,
   "metadata": {},
   "outputs": [],
   "source": [
    "\n",
    "def generate_negative_entity(data, enity_annotations_file):\n",
    "    from dataformatters.gnormplusPubtatorReader import GnormplusPubtatorReader\n",
    "    from datatransformer.gnormplusNegativeSamplesAugmentor import GnormplusNegativeSamplesAugmentor\n",
    "    from datatransformer.ncbiGeneUniprotLocalDbMapper import NcbiGeneUniprotLocalDbMapper\n",
    "\n",
    "    import os\n",
    "    \n",
    " \n",
    "    localdb = human_idmapping_dat\n",
    "    with open(localdb, \"r\") as dbhandle:\n",
    "        mapper = NcbiGeneUniprotLocalDbMapper(dbhandle, \"GeneID\") \n",
    "            \n",
    "        #Read gnormplus identified entities\n",
    "        reader = GnormplusPubtatorReader()\n",
    "        with open(enity_annotations_file,\"r\") as handle:\n",
    "            annotations_json = list(reader(handle))\n",
    "\n",
    "        negative_samples_generator = GnormplusNegativeSamplesAugmentor(annotations_json, mapper)\n",
    "        result = negative_samples_generator.transform(data)\n",
    "        \n",
    "        \n",
    "\n",
    "        return result"
   ]
  },
  {
   "cell_type": "code",
   "execution_count": 68,
   "metadata": {},
   "outputs": [],
   "source": [
    "\n",
    "def generate_negative_interaction(data):\n",
    "\n",
    "    from datatransformer.interactionTypeNegativeSamplesAugmentor import InteractionTypeNegativeSamplesAugmentor\n",
    "\n",
    "    import os\n",
    "    \n",
    "    negative_samples_generator = InteractionTypeNegativeSamplesAugmentor()\n",
    "    result = negative_samples_generator.transform(data)\n",
    "\n",
    "\n",
    "    return result"
   ]
  },
  {
   "cell_type": "code",
   "execution_count": 69,
   "metadata": {},
   "outputs": [],
   "source": [
    "def generate_negative_missing_participant(data):\n",
    "\n",
    "\n",
    "    import os\n",
    "    \n",
    "    data['isValid'] = data['isValid'].mask( (data['bothParticpantsExist'] == False) & (data['isValid'] == True) , False)\n",
    "\n",
    "\n",
    "    return data"
   ]
  },
  {
   "cell_type": "code",
   "execution_count": 70,
   "metadata": {
    "scrolled": true
   },
   "outputs": [],
   "source": [
    "def plot_negative_distribution(train,val, test, heading, fig, ax  ):\n",
    "    import matplotlib.pyplot as plt\n",
    "    import matplotlib.ticker as mtick\n",
    "    fig.suptitle(heading)\n",
    "    #fig, ax = plt.subplots( 7,1, figsize=(45,30))\n",
    "    c_ax= ax[0]\n",
    "    c_ax.set_facecolor('xkcd:white')\n",
    "    c_ax.yaxis.set_major_formatter(mtick.PercentFormatter())\n",
    "    c_ax.set_title( \"Training PPI {}\".format( train.shape[0]))\n",
    "    c_ax.yaxis.set_major_locator(plt.FixedLocator(range(0,100, 10)))\n",
    "    train.groupby(['interactionType', 'isValid']).size().groupby( level=0).apply(lambda x:\n",
    "                                                     100 * x / float(x.sum())).unstack().plot.bar(ax=c_ax, hatch = '/')\n",
    "\n",
    "\n",
    "\n",
    "    c_ax= ax[1]\n",
    "    c_ax.set_facecolor('xkcd:white')\n",
    "    c_ax.yaxis.set_major_formatter(mtick.PercentFormatter())\n",
    "    c_ax.set_title( \"Validation PPI {}\".format(val.shape[0]))\n",
    "    c_ax.yaxis.set_major_locator(plt.FixedLocator(range(0,100, 10)))\n",
    "    val.groupby(['interactionType', 'isValid']).size().groupby( level=0).apply(lambda x:\n",
    "                                                     100 * x / float(x.sum())).unstack().plot.bar(ax=c_ax, hatch = '/')\n",
    "\n",
    "\n",
    "\n",
    "    c_ax= ax[2]\n",
    "    c_ax.set_facecolor('xkcd:white')\n",
    "    c_ax.yaxis.set_major_formatter(mtick.PercentFormatter())\n",
    "    c_ax.set_title( \"Test PPI {}\".format(test.shape[0]))\n",
    "    c_ax.yaxis.set_major_locator(plt.FixedLocator(range(0,100, 10)))\n",
    "    test.groupby(['interactionType', 'isValid']).size().groupby( level=0).apply(lambda x:\n",
    "                                                     100 * x / float(x.sum())).unstack().plot.bar(ax=c_ax, hatch = '/')\n",
    "\n",
    "\n",
    "\n",
    "   "
   ]
  },
  {
   "cell_type": "markdown",
   "metadata": {},
   "source": [
    "#### Step1: Add negative entity pairs"
   ]
  },
  {
   "cell_type": "code",
   "execution_count": 71,
   "metadata": {
    "scrolled": true
   },
   "outputs": [],
   "source": [
    "\n",
    "train = generate_negative_entity(train, annotations_file)\n",
    "test = generate_negative_entity(test,  annotations_file)\n",
    "val = generate_negative_entity(val, annotations_file)\n",
    "\n"
   ]
  },
  {
   "cell_type": "code",
   "execution_count": 72,
   "metadata": {},
   "outputs": [
    {
     "data": {
      "image/png": "[encoded data removed]",
      "text/plain": [
       "<Figure size 1080x360 with 3 Axes>"
      ]
     },
     "metadata": {
      "needs_background": "light"
     },
     "output_type": "display_data"
    }
   ],
   "source": [
    "fig, ax = plt.subplots( 1,3, figsize=(15,5))\n",
    "\n",
    "plt.style.use('grayscale')\n",
    "\n",
    "plot_negative_distribution(train,  val, test, \"Distribution after adding negative entity pairs\",fig, ax)\n",
    "plt.savefig(\"EntityNegativeSample.eps\",bbox_inches = \"tight\")\n",
    "plt.savefig(\"EntityNegativeSample.svg\",bbox_inches = \"tight\")\n",
    "plt.show()"
   ]
  },
  {
   "cell_type": "code",
   "execution_count": 73,
   "metadata": {},
   "outputs": [
    {
     "data": {
      "image/png": "[encoded data removed]",
      "text/plain": [
       "<Figure size 1080x1440 with 3 Axes>"
      ]
     },
     "metadata": {},
     "output_type": "display_data"
    }
   ],
   "source": [
    "import matplotlib.pyplot as plt\n",
    "fig, ax = plt.subplots(1,3, figsize=(15,20))\n",
    "\n",
    "ax[0].set_title('Train class distribution: negative entities only')\n",
    "train.isValid.value_counts().plot.pie(autopct='%.2f',  ax=ax[0])\n",
    "\n",
    "ax[1].set_title('Validation class distribution: negative entities only')\n",
    "val.isValid.value_counts().plot.pie(autopct='%.2f',  ax=ax[1])\n",
    "\n",
    "\n",
    "ax[2].set_title('Test class distribution: negative entities only')\n",
    "test.isValid.value_counts().plot.pie(autopct='%.2f',  ax=ax[2])\n",
    "\n",
    "\n",
    "\n",
    "plt.savefig(\"PositiveVsNegative_EntityOnly.png\")"
   ]
  },
  {
   "cell_type": "code",
   "execution_count": 74,
   "metadata": {},
   "outputs": [
    {
     "data": {
      "text/html": [
       "<div>\n",
       "<style scoped>\n",
       "    .dataframe tbody tr th:only-of-type {\n",
       "        vertical-align: middle;\n",
       "    }\n",
       "\n",
       "    .dataframe tbody tr th {\n",
       "        vertical-align: top;\n",
       "    }\n",
       "\n",
       "    .dataframe thead th {\n",
       "        text-align: right;\n",
       "    }\n",
       "</style>\n",
       "<table border=\"1\" class=\"dataframe\">\n",
       "  <thead>\n",
       "    <tr style=\"text-align: right;\">\n",
       "      <th></th>\n",
       "      <th>pubmedId</th>\n",
       "      <th>interactionType</th>\n",
       "      <th>participant1Id</th>\n",
       "      <th>participant2Id</th>\n",
       "      <th>pubmedabstract</th>\n",
       "      <th>normalised_abstract</th>\n",
       "      <th>annotations</th>\n",
       "      <th>gene_to_uniprot_map</th>\n",
       "    </tr>\n",
       "  </thead>\n",
       "  <tbody>\n",
       "    <tr>\n",
       "      <th>497</th>\n",
       "      <td>24291004</td>\n",
       "      <td>phosphorylation</td>\n",
       "      <td>P04150</td>\n",
       "      <td>P60484</td>\n",
       "      <td>Glucocorticoid resistance is a major driver of therapeutic failure in T cell acute lymphoblastic leukemia (T-ALL). Here, we identify the AKT1 kinase as a major negative regulator of the NR3C1 glucocorticoid receptor protein activity driving glucocorticoid resistance in T-ALL. Mechanistically, AKT1 impairs glucocorticoid-induced gene expression by direct phosphorylation of NR3C1 at position S134 and blocking glucocorticoid-induced NR3C1 translocation to the nucleus. Moreover, we demonstrate that loss of PTEN and consequent AKT1 activation can effectively block glucocorticoid-induced apoptosis and induce resistance to glucocorticoid therapy. Conversely, pharmacologic inhibition of AKT with MK2206 effectively restores glucocorticoid-induced NR3C1 translocation to the nucleus, increases the response of T-ALL cells to glucocorticoid therapy, and effectively reverses glucocorticoid resistance in vitro and in vivo.</td>\n",
       "      <td>Glucocorticoid resistance is a major driver of therapeutic failure in T cell acute lymphoblastic leukemia (T-ALL). Here, we identify the P31749 kinase as a major negative regulator of the P04150 glucocorticoid receptor protein activity driving glucocorticoid resistance in T-ALL. Mechanistically, P31749 impairs glucocorticoid-induced gene expression by direct phosphorylation of P04150 at position S134 and blocking glucocorticoid-induced P04150 translocation to the nucleus. Moreover, we demonstrate that loss of P60484 and consequent P31749 activation can effectively block glucocorticoid-induced apoptosis and induce resistance to glucocorticoid therapy. Conversely, pharmacologic inhibition of AKT with MK2206 effectively restores glucocorticoid-induced P04150 translocation to the nucleus, increases the response of T-ALL cells to glucocorticoid therapy, and effectively reverses glucocorticoid resistance in vitro and in vivo.</td>\n",
       "      <td>[{'start': '137', 'end': '141', 'name': 'AKT1', 'type': 'Gene', 'normalised_id': '207'}, {'start': '186', 'end': '191', 'name': 'NR3C1', 'type': 'Gene', 'normalised_id': '2908'}, {'start': '294', 'end': '298', 'name': 'AKT1', 'type': 'Gene', 'normalised_id': '207'}, {'start': '375', 'end': '380', 'name': 'NR3C1', 'type': 'Gene', 'normalised_id': '2908'}, {'start': '434', 'end': '439', 'name': 'NR3C1', 'type': 'Gene', 'normalised_id': '2908'}, {'start': '508', 'end': '512', 'name': 'PTEN', 'type': 'Gene', 'normalised_id': '5728'}, {'start': '528', 'end': '532', 'name': 'AKT1', 'type': 'Gene', 'normalised_id': '207'}, {'start': '748', 'end': '753', 'name': 'NR3C1', 'type': 'Gene', 'normalised_id': '2908'}]</td>\n",
       "      <td>{'2908': ['P04150', 'E5KQF5', 'E5KQF6', 'F1D8N4', 'B7Z7I2'], '207': ['P31749', 'B0LPE5', 'B3KVH4'], '5728': ['P60484', 'F6KD01']}</td>\n",
       "    </tr>\n",
       "    <tr>\n",
       "      <th>498</th>\n",
       "      <td>24291004</td>\n",
       "      <td>phosphorylation</td>\n",
       "      <td>P31749</td>\n",
       "      <td>P60484</td>\n",
       "      <td>Glucocorticoid resistance is a major driver of therapeutic failure in T cell acute lymphoblastic leukemia (T-ALL). Here, we identify the AKT1 kinase as a major negative regulator of the NR3C1 glucocorticoid receptor protein activity driving glucocorticoid resistance in T-ALL. Mechanistically, AKT1 impairs glucocorticoid-induced gene expression by direct phosphorylation of NR3C1 at position S134 and blocking glucocorticoid-induced NR3C1 translocation to the nucleus. Moreover, we demonstrate that loss of PTEN and consequent AKT1 activation can effectively block glucocorticoid-induced apoptosis and induce resistance to glucocorticoid therapy. Conversely, pharmacologic inhibition of AKT with MK2206 effectively restores glucocorticoid-induced NR3C1 translocation to the nucleus, increases the response of T-ALL cells to glucocorticoid therapy, and effectively reverses glucocorticoid resistance in vitro and in vivo.</td>\n",
       "      <td>Glucocorticoid resistance is a major driver of therapeutic failure in T cell acute lymphoblastic leukemia (T-ALL). Here, we identify the P31749 kinase as a major negative regulator of the P04150 glucocorticoid receptor protein activity driving glucocorticoid resistance in T-ALL. Mechanistically, P31749 impairs glucocorticoid-induced gene expression by direct phosphorylation of P04150 at position S134 and blocking glucocorticoid-induced P04150 translocation to the nucleus. Moreover, we demonstrate that loss of P60484 and consequent P31749 activation can effectively block glucocorticoid-induced apoptosis and induce resistance to glucocorticoid therapy. Conversely, pharmacologic inhibition of AKT with MK2206 effectively restores glucocorticoid-induced P04150 translocation to the nucleus, increases the response of T-ALL cells to glucocorticoid therapy, and effectively reverses glucocorticoid resistance in vitro and in vivo.</td>\n",
       "      <td>[{'start': '137', 'end': '141', 'name': 'AKT1', 'type': 'Gene', 'normalised_id': '207'}, {'start': '186', 'end': '191', 'name': 'NR3C1', 'type': 'Gene', 'normalised_id': '2908'}, {'start': '294', 'end': '298', 'name': 'AKT1', 'type': 'Gene', 'normalised_id': '207'}, {'start': '375', 'end': '380', 'name': 'NR3C1', 'type': 'Gene', 'normalised_id': '2908'}, {'start': '434', 'end': '439', 'name': 'NR3C1', 'type': 'Gene', 'normalised_id': '2908'}, {'start': '508', 'end': '512', 'name': 'PTEN', 'type': 'Gene', 'normalised_id': '5728'}, {'start': '528', 'end': '532', 'name': 'AKT1', 'type': 'Gene', 'normalised_id': '207'}, {'start': '748', 'end': '753', 'name': 'NR3C1', 'type': 'Gene', 'normalised_id': '2908'}]</td>\n",
       "      <td>{'2908': ['P04150', 'E5KQF5', 'E5KQF6', 'F1D8N4', 'B7Z7I2'], '207': ['P31749', 'B0LPE5', 'B3KVH4'], '5728': ['P60484', 'F6KD01']}</td>\n",
       "    </tr>\n",
       "  </tbody>\n",
       "</table>\n",
       "</div>"
      ],
      "text/plain": [
       "     pubmedId  interactionType participant1Id participant2Id  \\\n",
       "497  24291004  phosphorylation         P04150         P60484   \n",
       "498  24291004  phosphorylation         P31749         P60484   \n",
       "\n",
       "                                                                                                                                                                                                                                                                                                                                                                                                                                                                                                                                                                                                                                                                                                                                                                                                                                                                                                                                                pubmedabstract  \\\n",
       "497  Glucocorticoid resistance is a major driver of therapeutic failure in T cell acute lymphoblastic leukemia (T-ALL). Here, we identify the AKT1 kinase as a major negative regulator of the NR3C1 glucocorticoid receptor protein activity driving glucocorticoid resistance in T-ALL. Mechanistically, AKT1 impairs glucocorticoid-induced gene expression by direct phosphorylation of NR3C1 at position S134 and blocking glucocorticoid-induced NR3C1 translocation to the nucleus. Moreover, we demonstrate that loss of PTEN and consequent AKT1 activation can effectively block glucocorticoid-induced apoptosis and induce resistance to glucocorticoid therapy. Conversely, pharmacologic inhibition of AKT with MK2206 effectively restores glucocorticoid-induced NR3C1 translocation to the nucleus, increases the response of T-ALL cells to glucocorticoid therapy, and effectively reverses glucocorticoid resistance in vitro and in vivo.   \n",
       "498  Glucocorticoid resistance is a major driver of therapeutic failure in T cell acute lymphoblastic leukemia (T-ALL). Here, we identify the AKT1 kinase as a major negative regulator of the NR3C1 glucocorticoid receptor protein activity driving glucocorticoid resistance in T-ALL. Mechanistically, AKT1 impairs glucocorticoid-induced gene expression by direct phosphorylation of NR3C1 at position S134 and blocking glucocorticoid-induced NR3C1 translocation to the nucleus. Moreover, we demonstrate that loss of PTEN and consequent AKT1 activation can effectively block glucocorticoid-induced apoptosis and induce resistance to glucocorticoid therapy. Conversely, pharmacologic inhibition of AKT with MK2206 effectively restores glucocorticoid-induced NR3C1 translocation to the nucleus, increases the response of T-ALL cells to glucocorticoid therapy, and effectively reverses glucocorticoid resistance in vitro and in vivo.   \n",
       "\n",
       "                                                                                                                                                                                                                                                                                                                                                                                                                                                                                                                                                                                                                                                                                                                                                                                                                                                                                                                                                       normalised_abstract  \\\n",
       "497  Glucocorticoid resistance is a major driver of therapeutic failure in T cell acute lymphoblastic leukemia (T-ALL). Here, we identify the P31749 kinase as a major negative regulator of the P04150 glucocorticoid receptor protein activity driving glucocorticoid resistance in T-ALL. Mechanistically, P31749 impairs glucocorticoid-induced gene expression by direct phosphorylation of P04150 at position S134 and blocking glucocorticoid-induced P04150 translocation to the nucleus. Moreover, we demonstrate that loss of P60484 and consequent P31749 activation can effectively block glucocorticoid-induced apoptosis and induce resistance to glucocorticoid therapy. Conversely, pharmacologic inhibition of AKT with MK2206 effectively restores glucocorticoid-induced P04150 translocation to the nucleus, increases the response of T-ALL cells to glucocorticoid therapy, and effectively reverses glucocorticoid resistance in vitro and in vivo.   \n",
       "498  Glucocorticoid resistance is a major driver of therapeutic failure in T cell acute lymphoblastic leukemia (T-ALL). Here, we identify the P31749 kinase as a major negative regulator of the P04150 glucocorticoid receptor protein activity driving glucocorticoid resistance in T-ALL. Mechanistically, P31749 impairs glucocorticoid-induced gene expression by direct phosphorylation of P04150 at position S134 and blocking glucocorticoid-induced P04150 translocation to the nucleus. Moreover, we demonstrate that loss of P60484 and consequent P31749 activation can effectively block glucocorticoid-induced apoptosis and induce resistance to glucocorticoid therapy. Conversely, pharmacologic inhibition of AKT with MK2206 effectively restores glucocorticoid-induced P04150 translocation to the nucleus, increases the response of T-ALL cells to glucocorticoid therapy, and effectively reverses glucocorticoid resistance in vitro and in vivo.   \n",
       "\n",
       "                                                                                                                                                                                                                                                                                                                                                                                                                                                                                                                                                                                                                                                                                                                                   annotations  \\\n",
       "497  [{'start': '137', 'end': '141', 'name': 'AKT1', 'type': 'Gene', 'normalised_id': '207'}, {'start': '186', 'end': '191', 'name': 'NR3C1', 'type': 'Gene', 'normalised_id': '2908'}, {'start': '294', 'end': '298', 'name': 'AKT1', 'type': 'Gene', 'normalised_id': '207'}, {'start': '375', 'end': '380', 'name': 'NR3C1', 'type': 'Gene', 'normalised_id': '2908'}, {'start': '434', 'end': '439', 'name': 'NR3C1', 'type': 'Gene', 'normalised_id': '2908'}, {'start': '508', 'end': '512', 'name': 'PTEN', 'type': 'Gene', 'normalised_id': '5728'}, {'start': '528', 'end': '532', 'name': 'AKT1', 'type': 'Gene', 'normalised_id': '207'}, {'start': '748', 'end': '753', 'name': 'NR3C1', 'type': 'Gene', 'normalised_id': '2908'}]   \n",
       "498  [{'start': '137', 'end': '141', 'name': 'AKT1', 'type': 'Gene', 'normalised_id': '207'}, {'start': '186', 'end': '191', 'name': 'NR3C1', 'type': 'Gene', 'normalised_id': '2908'}, {'start': '294', 'end': '298', 'name': 'AKT1', 'type': 'Gene', 'normalised_id': '207'}, {'start': '375', 'end': '380', 'name': 'NR3C1', 'type': 'Gene', 'normalised_id': '2908'}, {'start': '434', 'end': '439', 'name': 'NR3C1', 'type': 'Gene', 'normalised_id': '2908'}, {'start': '508', 'end': '512', 'name': 'PTEN', 'type': 'Gene', 'normalised_id': '5728'}, {'start': '528', 'end': '532', 'name': 'AKT1', 'type': 'Gene', 'normalised_id': '207'}, {'start': '748', 'end': '753', 'name': 'NR3C1', 'type': 'Gene', 'normalised_id': '2908'}]   \n",
       "\n",
       "                                                                                                                   gene_to_uniprot_map  \n",
       "497  {'2908': ['P04150', 'E5KQF5', 'E5KQF6', 'F1D8N4', 'B7Z7I2'], '207': ['P31749', 'B0LPE5', 'B3KVH4'], '5728': ['P60484', 'F6KD01']}  \n",
       "498  {'2908': ['P04150', 'E5KQF5', 'E5KQF6', 'F1D8N4', 'B7Z7I2'], '207': ['P31749', 'B0LPE5', 'B3KVH4'], '5728': ['P60484', 'F6KD01']}  "
      ]
     },
     "execution_count": 74,
     "metadata": {},
     "output_type": "execute_result"
    }
   ],
   "source": [
    "train.query(\"pubmedId == '24291004' and isValid==False\")[ [\"pubmedId\",\"interactionType\", \"participant1Id\", \"participant2Id\", \"pubmedabstract\", \"normalised_abstract\", \"annotations\", \"gene_to_uniprot_map\"]]"
   ]
  },
  {
   "cell_type": "code",
   "execution_count": 75,
   "metadata": {},
   "outputs": [],
   "source": [
    "train_file =\"train_unique_negative_entity_only.json\"\n",
    "train.to_json(train_file)\n",
    "\n",
    "test_file =\"test_unique_negative_entity_only.json\"\n",
    "test.to_json(test_file)\n",
    "\n",
    "val_file = \"val_unique_negative_entity_only.json\"\n",
    "val.to_json(val_file)\n",
    "\n"
   ]
  },
  {
   "cell_type": "code",
   "execution_count": 76,
   "metadata": {},
   "outputs": [
    {
     "name": "stdout",
     "output_type": "stream",
     "text": [
      "2021-01-28 22:34:27,929 - helpers.s3_util - INFO - Uploading file train_unique_negative_entity_only.json s3://aegovan-data/processed_dataset/train_unique_negative_entity_only.json\n",
      "2021-01-28 22:34:55,541 - helpers.s3_util - INFO - Uploading file test_unique_negative_entity_only.json s3://aegovan-data/processed_dataset/test_unique_negative_entity_only.json\n",
      "2021-01-28 22:35:06,297 - helpers.s3_util - INFO - Uploading file val_unique_negative_entity_only.json s3://aegovan-data/processed_dataset/val_unique_negative_entity_only.json\n"
     ]
    }
   ],
   "source": [
    "\n",
    "\n",
    "from helpers.s3_util import S3Util\n",
    "\n",
    "S3Util().uploadfile(train_file, \"{}/\".format( s3_results_prefix.rstrip(\"/\")) )\n",
    "S3Util().uploadfile(test_file, \"{}/\".format( s3_results_prefix.rstrip(\"/\")) )\n",
    "S3Util().uploadfile(val_file, \"{}/\".format( s3_results_prefix.rstrip(\"/\")) )"
   ]
  },
  {
   "cell_type": "code",
   "execution_count": 77,
   "metadata": {},
   "outputs": [
    {
     "data": {
      "text/html": [
       "<div>\n",
       "<style scoped>\n",
       "    .dataframe tbody tr th:only-of-type {\n",
       "        vertical-align: middle;\n",
       "    }\n",
       "\n",
       "    .dataframe tbody tr th {\n",
       "        vertical-align: top;\n",
       "    }\n",
       "\n",
       "    .dataframe thead th {\n",
       "        text-align: right;\n",
       "    }\n",
       "</style>\n",
       "<table border=\"1\" class=\"dataframe\">\n",
       "  <thead>\n",
       "    <tr style=\"text-align: right;\">\n",
       "      <th>isValid</th>\n",
       "      <th>False</th>\n",
       "      <th>True</th>\n",
       "    </tr>\n",
       "    <tr>\n",
       "      <th>interactionType</th>\n",
       "      <th></th>\n",
       "      <th></th>\n",
       "    </tr>\n",
       "  </thead>\n",
       "  <tbody>\n",
       "    <tr>\n",
       "      <th>acetylation</th>\n",
       "      <td>37</td>\n",
       "      <td>17</td>\n",
       "    </tr>\n",
       "    <tr>\n",
       "      <th>dephosphorylation</th>\n",
       "      <td>211</td>\n",
       "      <td>45</td>\n",
       "    </tr>\n",
       "    <tr>\n",
       "      <th>deubiquitination</th>\n",
       "      <td>4</td>\n",
       "      <td>3</td>\n",
       "    </tr>\n",
       "    <tr>\n",
       "      <th>methylation</th>\n",
       "      <td>33</td>\n",
       "      <td>16</td>\n",
       "    </tr>\n",
       "    <tr>\n",
       "      <th>phosphorylation</th>\n",
       "      <td>1085</td>\n",
       "      <td>222</td>\n",
       "    </tr>\n",
       "    <tr>\n",
       "      <th>ubiquitination</th>\n",
       "      <td>23</td>\n",
       "      <td>6</td>\n",
       "    </tr>\n",
       "  </tbody>\n",
       "</table>\n",
       "</div>"
      ],
      "text/plain": [
       "isValid            False  True \n",
       "interactionType                \n",
       "acetylation           37     17\n",
       "dephosphorylation    211     45\n",
       "deubiquitination       4      3\n",
       "methylation           33     16\n",
       "phosphorylation     1085    222\n",
       "ubiquitination        23      6"
      ]
     },
     "execution_count": 77,
     "metadata": {},
     "output_type": "execute_result"
    }
   ],
   "source": [
    "train.groupby(['interactionType', 'isValid']).size().unstack()"
   ]
  },
  {
   "cell_type": "code",
   "execution_count": 78,
   "metadata": {},
   "outputs": [
    {
     "data": {
      "text/html": [
       "<div>\n",
       "<style scoped>\n",
       "    .dataframe tbody tr th:only-of-type {\n",
       "        vertical-align: middle;\n",
       "    }\n",
       "\n",
       "    .dataframe tbody tr th {\n",
       "        vertical-align: top;\n",
       "    }\n",
       "\n",
       "    .dataframe thead th {\n",
       "        text-align: right;\n",
       "    }\n",
       "</style>\n",
       "<table border=\"1\" class=\"dataframe\">\n",
       "  <thead>\n",
       "    <tr style=\"text-align: right;\">\n",
       "      <th>isValid</th>\n",
       "      <th>False</th>\n",
       "      <th>True</th>\n",
       "    </tr>\n",
       "    <tr>\n",
       "      <th>interactionType</th>\n",
       "      <th></th>\n",
       "      <th></th>\n",
       "    </tr>\n",
       "  </thead>\n",
       "  <tbody>\n",
       "    <tr>\n",
       "      <th>acetylation</th>\n",
       "      <td>9</td>\n",
       "      <td>1</td>\n",
       "    </tr>\n",
       "    <tr>\n",
       "      <th>dephosphorylation</th>\n",
       "      <td>30</td>\n",
       "      <td>4</td>\n",
       "    </tr>\n",
       "    <tr>\n",
       "      <th>methylation</th>\n",
       "      <td>2</td>\n",
       "      <td>4</td>\n",
       "    </tr>\n",
       "    <tr>\n",
       "      <th>phosphorylation</th>\n",
       "      <td>146</td>\n",
       "      <td>27</td>\n",
       "    </tr>\n",
       "    <tr>\n",
       "      <th>ubiquitination</th>\n",
       "      <td>14</td>\n",
       "      <td>1</td>\n",
       "    </tr>\n",
       "  </tbody>\n",
       "</table>\n",
       "</div>"
      ],
      "text/plain": [
       "isValid            False  True \n",
       "interactionType                \n",
       "acetylation            9      1\n",
       "dephosphorylation     30      4\n",
       "methylation            2      4\n",
       "phosphorylation      146     27\n",
       "ubiquitination        14      1"
      ]
     },
     "execution_count": 78,
     "metadata": {},
     "output_type": "execute_result"
    }
   ],
   "source": [
    "val.groupby(['interactionType', 'isValid']).size().unstack()"
   ]
  },
  {
   "cell_type": "code",
   "execution_count": 79,
   "metadata": {},
   "outputs": [
    {
     "data": {
      "text/html": [
       "<div>\n",
       "<style scoped>\n",
       "    .dataframe tbody tr th:only-of-type {\n",
       "        vertical-align: middle;\n",
       "    }\n",
       "\n",
       "    .dataframe tbody tr th {\n",
       "        vertical-align: top;\n",
       "    }\n",
       "\n",
       "    .dataframe thead th {\n",
       "        text-align: right;\n",
       "    }\n",
       "</style>\n",
       "<table border=\"1\" class=\"dataframe\">\n",
       "  <thead>\n",
       "    <tr style=\"text-align: right;\">\n",
       "      <th>isValid</th>\n",
       "      <th>False</th>\n",
       "      <th>True</th>\n",
       "    </tr>\n",
       "    <tr>\n",
       "      <th>interactionType</th>\n",
       "      <th></th>\n",
       "      <th></th>\n",
       "    </tr>\n",
       "  </thead>\n",
       "  <tbody>\n",
       "    <tr>\n",
       "      <th>acetylation</th>\n",
       "      <td>19</td>\n",
       "      <td>2</td>\n",
       "    </tr>\n",
       "    <tr>\n",
       "      <th>dephosphorylation</th>\n",
       "      <td>42</td>\n",
       "      <td>11</td>\n",
       "    </tr>\n",
       "    <tr>\n",
       "      <th>methylation</th>\n",
       "      <td>14</td>\n",
       "      <td>10</td>\n",
       "    </tr>\n",
       "    <tr>\n",
       "      <th>phosphorylation</th>\n",
       "      <td>164</td>\n",
       "      <td>66</td>\n",
       "    </tr>\n",
       "    <tr>\n",
       "      <th>ubiquitination</th>\n",
       "      <td>5</td>\n",
       "      <td>1</td>\n",
       "    </tr>\n",
       "  </tbody>\n",
       "</table>\n",
       "</div>"
      ],
      "text/plain": [
       "isValid            False  True \n",
       "interactionType                \n",
       "acetylation           19      2\n",
       "dephosphorylation     42     11\n",
       "methylation           14     10\n",
       "phosphorylation      164     66\n",
       "ubiquitination         5      1"
      ]
     },
     "execution_count": 79,
     "metadata": {},
     "output_type": "execute_result"
    }
   ],
   "source": [
    "test.groupby(['interactionType', 'isValid']).size().unstack()"
   ]
  },
  {
   "cell_type": "code",
   "execution_count": 80,
   "metadata": {},
   "outputs": [
    {
     "data": {
      "text/html": [
       "<div>\n",
       "<style scoped>\n",
       "    .dataframe tbody tr th:only-of-type {\n",
       "        vertical-align: middle;\n",
       "    }\n",
       "\n",
       "    .dataframe tbody tr th {\n",
       "        vertical-align: top;\n",
       "    }\n",
       "\n",
       "    .dataframe thead th {\n",
       "        text-align: right;\n",
       "    }\n",
       "</style>\n",
       "<table border=\"1\" class=\"dataframe\">\n",
       "  <thead>\n",
       "    <tr style=\"text-align: right;\">\n",
       "      <th>isValid</th>\n",
       "      <th>False</th>\n",
       "      <th>True</th>\n",
       "    </tr>\n",
       "    <tr>\n",
       "      <th>interactionType</th>\n",
       "      <th></th>\n",
       "      <th></th>\n",
       "    </tr>\n",
       "  </thead>\n",
       "  <tbody>\n",
       "    <tr>\n",
       "      <th>acetylation</th>\n",
       "      <td>37</td>\n",
       "      <td>17</td>\n",
       "    </tr>\n",
       "    <tr>\n",
       "      <th>dephosphorylation</th>\n",
       "      <td>211</td>\n",
       "      <td>45</td>\n",
       "    </tr>\n",
       "    <tr>\n",
       "      <th>deubiquitination</th>\n",
       "      <td>4</td>\n",
       "      <td>3</td>\n",
       "    </tr>\n",
       "    <tr>\n",
       "      <th>methylation</th>\n",
       "      <td>33</td>\n",
       "      <td>16</td>\n",
       "    </tr>\n",
       "    <tr>\n",
       "      <th>phosphorylation</th>\n",
       "      <td>1085</td>\n",
       "      <td>222</td>\n",
       "    </tr>\n",
       "    <tr>\n",
       "      <th>ubiquitination</th>\n",
       "      <td>23</td>\n",
       "      <td>6</td>\n",
       "    </tr>\n",
       "  </tbody>\n",
       "</table>\n",
       "</div>"
      ],
      "text/plain": [
       "isValid            False  True \n",
       "interactionType                \n",
       "acetylation           37     17\n",
       "dephosphorylation    211     45\n",
       "deubiquitination       4      3\n",
       "methylation           33     16\n",
       "phosphorylation     1085    222\n",
       "ubiquitination        23      6"
      ]
     },
     "execution_count": 80,
     "metadata": {},
     "output_type": "execute_result"
    }
   ],
   "source": [
    "pd.DataFrame(train.groupby(['interactionType', 'isValid']).size().unstack())"
   ]
  },
  {
   "cell_type": "code",
   "execution_count": 81,
   "metadata": {},
   "outputs": [
    {
     "name": "stdout",
     "output_type": "stream",
     "text": [
      "\\begin{tabular}{lrrrrrrrr}\n",
      "\\toprule\n",
      "{} &  False\\_train &  True\\_train &  False\\_val &  True\\_val &  False &  True &  TotalFalse &  TotalTrue \\\\\n",
      "interactionType   &              &             &            &           &        &       &             &            \\\\\n",
      "\\midrule\n",
      "acetylation       &           37 &          17 &          9 &         1 &     19 &     2 &          65 &         20 \\\\\n",
      "dephosphorylation &          211 &          45 &         30 &         4 &     42 &    11 &         283 &         60 \\\\\n",
      "deubiquitination  &            4 &           3 &          0 &         0 &      0 &     0 &           4 &          3 \\\\\n",
      "methylation       &           33 &          16 &          2 &         4 &     14 &    10 &          49 &         30 \\\\\n",
      "phosphorylation   &         1085 &         222 &        146 &        27 &    164 &    66 &        1395 &        315 \\\\\n",
      "ubiquitination    &           23 &           6 &         14 &         1 &      5 &     1 &          42 &          8 \\\\\n",
      "Total             &         1393 &         309 &        201 &        37 &    244 &    90 &        1838 &        436 \\\\\n",
      "\\bottomrule\n",
      "\\end{tabular}\n",
      "\n"
     ]
    }
   ],
   "source": [
    "t = pd.DataFrame(train.groupby(['interactionType', 'isValid']).size().unstack())\n",
    "t.columns =[\"False\", \"True\"]\n",
    "\n",
    "v = pd.DataFrame(val.groupby(['interactionType', 'isValid']).size().unstack())\n",
    "v.columns = [\"False\", \"True\"]\n",
    "\n",
    "b = pd.DataFrame(test.groupby(['interactionType', 'isValid']).size().unstack())\n",
    "b.columns = [\"False\", \"True\"]\n",
    "\n",
    "m = t.merge(v, left_index = True, right_index=True, how=\"left\", suffixes=('_train', '_val'))\\\n",
    "       .merge(b, left_index = True, right_index=True, how=\"left\")\\\n",
    "\n",
    "m=m.fillna(0)\n",
    "\n",
    "m.loc[\"Total\"] = m.apply(lambda x: sum(x))\n",
    "\n",
    "m[\"TotalFalse\"] =  m.apply(lambda x: sum( [ v for k,v in x.items() if 'false' in k.lower()]), axis=1)\n",
    "m[\"TotalTrue\"] =  m.apply(lambda x: sum( [ v for k,v in x.items() if 'true' in k.lower()]), axis=1)\n",
    "\n",
    "\n",
    "\n",
    "print(m.astype('int32').to_latex())\n",
    "    "
   ]
  },
  {
   "cell_type": "code",
   "execution_count": 82,
   "metadata": {},
   "outputs": [],
   "source": [
    "feature_cols = [\"pubmedId\",\"pubmedabstract\",\"annotations\", \"num_unique_gene_normalised_id\", \"num_gene_normalised_id\", \"normalised_abstract\", \"participant1Id\", \"participant2Id\", \"gene_to_uniprot_map\"]\n",
    "\n",
    "derive_class_func = lambda r: r[\"interactionType\"] if r[\"isValid\"] else \"other\"\n"
   ]
  },
  {
   "cell_type": "code",
   "execution_count": 83,
   "metadata": {},
   "outputs": [
    {
     "name": "stderr",
     "output_type": "stream",
     "text": [
      "/Users/aeg/miniconda/envs/kegg_env/lib/python3.7/site-packages/ipykernel_launcher.py:2: SettingWithCopyWarning: \n",
      "A value is trying to be set on a copy of a slice from a DataFrame.\n",
      "Try using .loc[row_indexer,col_indexer] = value instead\n",
      "\n",
      "See the caveats in the documentation: http://pandas.pydata.org/pandas-docs/stable/indexing.html#indexing-view-versus-copy\n",
      "  \n",
      "/Users/aeg/miniconda/envs/kegg_env/lib/python3.7/site-packages/ipykernel_launcher.py:5: SettingWithCopyWarning: \n",
      "A value is trying to be set on a copy of a slice from a DataFrame.\n",
      "Try using .loc[row_indexer,col_indexer] = value instead\n",
      "\n",
      "See the caveats in the documentation: http://pandas.pydata.org/pandas-docs/stable/indexing.html#indexing-view-versus-copy\n",
      "  \"\"\"\n",
      "/Users/aeg/miniconda/envs/kegg_env/lib/python3.7/site-packages/ipykernel_launcher.py:8: SettingWithCopyWarning: \n",
      "A value is trying to be set on a copy of a slice from a DataFrame.\n",
      "Try using .loc[row_indexer,col_indexer] = value instead\n",
      "\n",
      "See the caveats in the documentation: http://pandas.pydata.org/pandas-docs/stable/indexing.html#indexing-view-versus-copy\n",
      "  \n"
     ]
    }
   ],
   "source": [
    "\n",
    "train_multiclass = train[ feature_cols]\n",
    "train_multiclass[\"class\"] = train.apply( derive_class_func, axis=1)\n",
    "\n",
    "test_multiclass =  test[ feature_cols]\n",
    "test_multiclass[\"class\"] = test.apply( derive_class_func, axis=1)\n",
    "\n",
    "val_multiclass =  val[ feature_cols]\n",
    "val_multiclass[\"class\"] = val.apply( derive_class_func, axis=1)"
   ]
  },
  {
   "cell_type": "code",
   "execution_count": 84,
   "metadata": {},
   "outputs": [],
   "source": [
    "feature_cols = [\"pubmedId\",\"pubmedabstract\", \"annotations\", \"num_unique_gene_normalised_id\", \"num_gene_normalised_id\",\"normalised_abstract\", \"participant1Id\", \"participant2Id\",\"gene_to_uniprot_map\", \"class\"]\n",
    "\n",
    "\n",
    "train_multiclass = train_multiclass[ feature_cols]\n",
    "test_multiclass = test_multiclass[ feature_cols]\n",
    "val_multiclass = val_multiclass[ feature_cols]\n",
    "\n",
    "\n"
   ]
  },
  {
   "cell_type": "code",
   "execution_count": 85,
   "metadata": {},
   "outputs": [
    {
     "data": {
      "text/plain": [
       "other                1393\n",
       "phosphorylation       222\n",
       "dephosphorylation      45\n",
       "acetylation            17\n",
       "methylation            16\n",
       "ubiquitination          6\n",
       "deubiquitination        3\n",
       "Name: class, dtype: int64"
      ]
     },
     "execution_count": 85,
     "metadata": {},
     "output_type": "execute_result"
    }
   ],
   "source": [
    "train_multiclass[\"class\"].value_counts()"
   ]
  },
  {
   "cell_type": "code",
   "execution_count": 86,
   "metadata": {},
   "outputs": [
    {
     "data": {
      "text/plain": [
       "other                244\n",
       "phosphorylation       66\n",
       "dephosphorylation     11\n",
       "methylation           10\n",
       "acetylation            2\n",
       "ubiquitination         1\n",
       "Name: class, dtype: int64"
      ]
     },
     "execution_count": 86,
     "metadata": {},
     "output_type": "execute_result"
    }
   ],
   "source": [
    "test_multiclass[\"class\"].value_counts()"
   ]
  },
  {
   "cell_type": "code",
   "execution_count": 87,
   "metadata": {},
   "outputs": [
    {
     "data": {
      "text/plain": [
       "other                201\n",
       "phosphorylation       27\n",
       "methylation            4\n",
       "dephosphorylation      4\n",
       "ubiquitination         1\n",
       "acetylation            1\n",
       "Name: class, dtype: int64"
      ]
     },
     "execution_count": 87,
     "metadata": {},
     "output_type": "execute_result"
    }
   ],
   "source": [
    "val_multiclass[\"class\"].value_counts()"
   ]
  },
  {
   "cell_type": "code",
   "execution_count": 88,
   "metadata": {},
   "outputs": [],
   "source": [
    "train_multi_file=\"train_multiclass.json\"\n",
    "train_multiclass.to_json(train_multi_file)\n",
    "\n",
    "test_multi_file=\"test_multiclass.json\"\n",
    "test_multiclass.to_json(test_multi_file)\n",
    "\n",
    "val_multi_file=\"val_multiclass.json\"\n",
    "val_multiclass.to_json(val_multi_file)"
   ]
  },
  {
   "cell_type": "code",
   "execution_count": 89,
   "metadata": {},
   "outputs": [
    {
     "data": {
      "text/html": [
       "<div>\n",
       "<style scoped>\n",
       "    .dataframe tbody tr th:only-of-type {\n",
       "        vertical-align: middle;\n",
       "    }\n",
       "\n",
       "    .dataframe tbody tr th {\n",
       "        vertical-align: top;\n",
       "    }\n",
       "\n",
       "    .dataframe thead th {\n",
       "        text-align: right;\n",
       "    }\n",
       "</style>\n",
       "<table border=\"1\" class=\"dataframe\">\n",
       "  <thead>\n",
       "    <tr style=\"text-align: right;\">\n",
       "      <th></th>\n",
       "      <th>pubmedId</th>\n",
       "      <th>pubmedabstract</th>\n",
       "      <th>annotations</th>\n",
       "      <th>num_unique_gene_normalised_id</th>\n",
       "      <th>num_gene_normalised_id</th>\n",
       "      <th>normalised_abstract</th>\n",
       "      <th>participant1Id</th>\n",
       "      <th>participant2Id</th>\n",
       "      <th>gene_to_uniprot_map</th>\n",
       "      <th>class</th>\n",
       "    </tr>\n",
       "  </thead>\n",
       "  <tbody>\n",
       "    <tr>\n",
       "      <th>0</th>\n",
       "      <td>26869104</td>\n",
       "      <td>NBS1 is an early component in DNA-Damage Response (DDR) that participates in the initiation of the responses aiming to repair double-strand breaks caused by different mechanisms. Early steps in DDR have to react to local alterations in chromatin that are induced by DNA damage. NBS1 participates in the early detection of DNA damage and functions as a platform for the recruitment and assembly of components that are sequentially required for the repair process. In this work we have studied whether the VRK1 chromatin kinase can affect the activation of NBS1 in response to DNA damage induced by ionizing radiation. VRK1 is forming a basal preassembled complex with NBS1 in non-damaged cells. Knockdown of VRK1 resulted in the loss of NBS1 foci induced by ionizing radiation, an effect that was also detected in cell-cycle arrested cells and in ATM (-/-) cells. The phosphorylation of NBS1 in Ser343 by VRK1 is induced by either doxorubicin or IR in ATM (-/-) cells. Phosphorylated NBS1 is also complexed with VRK1. NBS1 phosphorylation by VRK1 cooperates with ATM. This phosphorylation of NBS1 by VRK1 contributes to the stability of NBS1 in ATM (-/-) cells, and the consequence of its loss can be prevented by treatment with the MG132 proteasome inhibitor of RNF8. We conclude that VRK1 regulation of NBS1 contributes to the stability of the repair complex and permits the sequential steps in DDR.</td>\n",
       "      <td>[{'start': '0', 'end': '4', 'name': 'NBS1', 'type': 'Gene', 'normalised_id': '4683'}, {'start': '278', 'end': '282', 'name': 'NBS1', 'type': 'Gene', 'normalised_id': '4683'}, {'start': '504', 'end': '508', 'name': 'VRK1', 'type': 'Gene', 'normalised_id': '7443'}, {'start': '555', 'end': '559', 'name': 'NBS1', 'type': 'Gene', 'normalised_id': '4683'}, {'start': '617', 'end': '621', 'name': 'VRK1', 'type': 'Gene', 'normalised_id': '7443'}, {'start': '667', 'end': '671', 'name': 'NBS1', 'type': 'Gene', 'normalised_id': '4683'}, {'start': '707', 'end': '711', 'name': 'VRK1', 'type': 'Gene', 'normalised_id': '7443'}, {'start': '736', 'end': '740', 'name': 'NBS1', 'type': 'Gene', 'normalised_id': '4683'}, {'start': '846', 'end': '849', 'name': 'ATM', 'type': 'Gene', 'normalised_id': '472'}, {'start': '886', 'end': '890', 'name': 'NBS1', 'type': 'Gene', 'normalised_id': '4683'}, {'start': '904', 'end': '908', 'name': 'VRK1', 'type': 'Gene', 'normalised_id': '7443'}, {'start': '951', 'end': '954', 'name': 'ATM', 'type': 'Gene', 'normalised_id': '472'}, {'start': '983', 'end': '987', 'name': 'NBS1', 'type': 'Gene', 'normalised_id': '4683'}, {'start': '1011', 'end': '1015', 'name': 'VRK1', 'type': 'Gene', 'normalised_id': '7443'}, {'start': '1017', 'end': '1021', 'name': 'NBS1', 'type': 'Gene', 'normalised_id': '4683'}, {'start': '1041', 'end': '1045', 'name': 'VRK1', 'type': 'Gene', 'normalised_id': '7443'}, {'start': '1062', 'end': '1065', 'name': 'ATM', 'type': 'Gene', 'normalised_id': '472'}, {'start': '1091', 'end': '1095', 'name': 'NBS1', 'type': 'Gene', 'normalised_id': '4683'}, {'start': '1099', 'end': '1103', 'name': 'VRK1', 'type': 'Gene', 'normalised_id': '7443'}, {'start': '1136', 'end': '1140', 'name': 'NBS1', 'type': 'Gene', 'normalised_id': '4683'}, {'start': '1144', 'end': '1147', 'name': 'ATM', 'type': 'Gene', 'normalised_id': '472'}, {'start': '1232', 'end': '1237', 'name': 'MG132', 'type': 'Gene', 'normalised_id': '875581'}, {'start': '1262', 'end': '1266', 'name': 'RNF8', 'type': 'Gene', 'normalised_id': '9025'}, {'start': '1285', 'end': '1289', 'name': 'VRK1', 'type': 'Gene', 'normalised_id': '7443'}, {'start': '1304', 'end': '1308', 'name': 'NBS1', 'type': 'Gene', 'normalised_id': '4683'}]</td>\n",
       "      <td>5</td>\n",
       "      <td>25</td>\n",
       "      <td>O60934 is an early component in DNA-Damage Response (DDR) that participates in the initiation of the responses aiming to repair double-strand breaks caused by different mechanisms. Early steps in DDR have to react to local alterations in chromatin that are induced by DNA damage. O60934 participates in the early detection of DNA damage and functions as a platform for the recruitment and assembly of components that are sequentially required for the repair process. In this work we have studied whether the Q99986 chromatin kinase can affect the activation of O60934 in response to DNA damage induced by ionizing radiation. Q99986 is forming a basal preassembled complex with O60934 in non-damaged cells. Knockdown of Q99986 resulted in the loss of O60934 foci induced by ionizing radiation, an effect that was also detected in cell-cycle arrested cells and in Q13315 (-/-) cells. The phosphorylation of O60934 in Ser343 by Q99986 is induced by either doxorubicin or IR in Q13315 (-/-) cells. Phosphorylated O60934 is also complexed with Q99986. O60934 phosphorylation by Q99986 cooperates with Q13315. This phosphorylation of O60934 by Q99986 contributes to the stability of O60934 in Q13315 (-/-) cells, and the consequence of its loss can be prevented by treatment with the 875581 proteasome inhibitor of O76064. We conclude that Q99986 regulation of O60934 contributes to the stability of the repair complex and permits the sequential steps in DDR.</td>\n",
       "      <td>O60934</td>\n",
       "      <td>O76064</td>\n",
       "      <td>{'9025': ['O76064'], '472': ['Q13315', 'A0A024R3C7'], '4683': ['O60934', 'A0A0C4DG07'], '875581': [], '7443': ['Q99986']}</td>\n",
       "      <td>other</td>\n",
       "    </tr>\n",
       "  </tbody>\n",
       "</table>\n",
       "</div>"
      ],
      "text/plain": [
       "   pubmedId  \\\n",
       "0  26869104   \n",
       "\n",
       "                                                                                                                                                                                                                                                                                                                                                                                                                                                                                                                                                                                                                                                                                                                                                                                                                                                                                                                                                                                                                                                                                                                                                                                                                                                                                                                                                                                                                                              pubmedabstract  \\\n",
       "0  NBS1 is an early component in DNA-Damage Response (DDR) that participates in the initiation of the responses aiming to repair double-strand breaks caused by different mechanisms. Early steps in DDR have to react to local alterations in chromatin that are induced by DNA damage. NBS1 participates in the early detection of DNA damage and functions as a platform for the recruitment and assembly of components that are sequentially required for the repair process. In this work we have studied whether the VRK1 chromatin kinase can affect the activation of NBS1 in response to DNA damage induced by ionizing radiation. VRK1 is forming a basal preassembled complex with NBS1 in non-damaged cells. Knockdown of VRK1 resulted in the loss of NBS1 foci induced by ionizing radiation, an effect that was also detected in cell-cycle arrested cells and in ATM (-/-) cells. The phosphorylation of NBS1 in Ser343 by VRK1 is induced by either doxorubicin or IR in ATM (-/-) cells. Phosphorylated NBS1 is also complexed with VRK1. NBS1 phosphorylation by VRK1 cooperates with ATM. This phosphorylation of NBS1 by VRK1 contributes to the stability of NBS1 in ATM (-/-) cells, and the consequence of its loss can be prevented by treatment with the MG132 proteasome inhibitor of RNF8. We conclude that VRK1 regulation of NBS1 contributes to the stability of the repair complex and permits the sequential steps in DDR.    \n",
       "\n",
       "                                                                                                                                                                                                                                                                                                                                                                                                                                                                                                                                                                                                                                                                                                                                                                                                                                                                                                                                                                                                                                                                                                                                                                                                                                                                                                                                                                                                                                                                                                                                                                                                                                                                                                                                                                                                                                                                                                                                                                                                                                                                                                                                                                                                                                                                                                                        annotations  \\\n",
       "0  [{'start': '0', 'end': '4', 'name': 'NBS1', 'type': 'Gene', 'normalised_id': '4683'}, {'start': '278', 'end': '282', 'name': 'NBS1', 'type': 'Gene', 'normalised_id': '4683'}, {'start': '504', 'end': '508', 'name': 'VRK1', 'type': 'Gene', 'normalised_id': '7443'}, {'start': '555', 'end': '559', 'name': 'NBS1', 'type': 'Gene', 'normalised_id': '4683'}, {'start': '617', 'end': '621', 'name': 'VRK1', 'type': 'Gene', 'normalised_id': '7443'}, {'start': '667', 'end': '671', 'name': 'NBS1', 'type': 'Gene', 'normalised_id': '4683'}, {'start': '707', 'end': '711', 'name': 'VRK1', 'type': 'Gene', 'normalised_id': '7443'}, {'start': '736', 'end': '740', 'name': 'NBS1', 'type': 'Gene', 'normalised_id': '4683'}, {'start': '846', 'end': '849', 'name': 'ATM', 'type': 'Gene', 'normalised_id': '472'}, {'start': '886', 'end': '890', 'name': 'NBS1', 'type': 'Gene', 'normalised_id': '4683'}, {'start': '904', 'end': '908', 'name': 'VRK1', 'type': 'Gene', 'normalised_id': '7443'}, {'start': '951', 'end': '954', 'name': 'ATM', 'type': 'Gene', 'normalised_id': '472'}, {'start': '983', 'end': '987', 'name': 'NBS1', 'type': 'Gene', 'normalised_id': '4683'}, {'start': '1011', 'end': '1015', 'name': 'VRK1', 'type': 'Gene', 'normalised_id': '7443'}, {'start': '1017', 'end': '1021', 'name': 'NBS1', 'type': 'Gene', 'normalised_id': '4683'}, {'start': '1041', 'end': '1045', 'name': 'VRK1', 'type': 'Gene', 'normalised_id': '7443'}, {'start': '1062', 'end': '1065', 'name': 'ATM', 'type': 'Gene', 'normalised_id': '472'}, {'start': '1091', 'end': '1095', 'name': 'NBS1', 'type': 'Gene', 'normalised_id': '4683'}, {'start': '1099', 'end': '1103', 'name': 'VRK1', 'type': 'Gene', 'normalised_id': '7443'}, {'start': '1136', 'end': '1140', 'name': 'NBS1', 'type': 'Gene', 'normalised_id': '4683'}, {'start': '1144', 'end': '1147', 'name': 'ATM', 'type': 'Gene', 'normalised_id': '472'}, {'start': '1232', 'end': '1237', 'name': 'MG132', 'type': 'Gene', 'normalised_id': '875581'}, {'start': '1262', 'end': '1266', 'name': 'RNF8', 'type': 'Gene', 'normalised_id': '9025'}, {'start': '1285', 'end': '1289', 'name': 'VRK1', 'type': 'Gene', 'normalised_id': '7443'}, {'start': '1304', 'end': '1308', 'name': 'NBS1', 'type': 'Gene', 'normalised_id': '4683'}]   \n",
       "\n",
       "  num_unique_gene_normalised_id num_gene_normalised_id  \\\n",
       "0                             5                     25   \n",
       "\n",
       "                                                                                                                                                                                                                                                                                                                                                                                                                                                                                                                                                                                                                                                                                                                                                                                                                                                                                                                                                                                                                                                                                                                                                                                                                                                                                                                                                                                                                                                                                              normalised_abstract  \\\n",
       "0  O60934 is an early component in DNA-Damage Response (DDR) that participates in the initiation of the responses aiming to repair double-strand breaks caused by different mechanisms. Early steps in DDR have to react to local alterations in chromatin that are induced by DNA damage. O60934 participates in the early detection of DNA damage and functions as a platform for the recruitment and assembly of components that are sequentially required for the repair process. In this work we have studied whether the Q99986 chromatin kinase can affect the activation of O60934 in response to DNA damage induced by ionizing radiation. Q99986 is forming a basal preassembled complex with O60934 in non-damaged cells. Knockdown of Q99986 resulted in the loss of O60934 foci induced by ionizing radiation, an effect that was also detected in cell-cycle arrested cells and in Q13315 (-/-) cells. The phosphorylation of O60934 in Ser343 by Q99986 is induced by either doxorubicin or IR in Q13315 (-/-) cells. Phosphorylated O60934 is also complexed with Q99986. O60934 phosphorylation by Q99986 cooperates with Q13315. This phosphorylation of O60934 by Q99986 contributes to the stability of O60934 in Q13315 (-/-) cells, and the consequence of its loss can be prevented by treatment with the 875581 proteasome inhibitor of O76064. We conclude that Q99986 regulation of O60934 contributes to the stability of the repair complex and permits the sequential steps in DDR.    \n",
       "\n",
       "  participant1Id participant2Id  \\\n",
       "0         O60934         O76064   \n",
       "\n",
       "                                                                                                         gene_to_uniprot_map  \\\n",
       "0  {'9025': ['O76064'], '472': ['Q13315', 'A0A024R3C7'], '4683': ['O60934', 'A0A0C4DG07'], '875581': [], '7443': ['Q99986']}   \n",
       "\n",
       "   class  \n",
       "0  other  "
      ]
     },
     "execution_count": 89,
     "metadata": {},
     "output_type": "execute_result"
    }
   ],
   "source": [
    "val_multiclass.head(n=1)"
   ]
  },
  {
   "cell_type": "code",
   "execution_count": 90,
   "metadata": {},
   "outputs": [
    {
     "name": "stdout",
     "output_type": "stream",
     "text": [
      "2021-01-28 22:35:24,705 - helpers.s3_util - INFO - Uploading file val_multiclass.json s3://aegovan-data/processed_dataset/val_multiclass.json\n",
      "2021-01-28 22:35:34,338 - helpers.s3_util - INFO - Uploading file test_multiclass.json s3://aegovan-data/processed_dataset/test_multiclass.json\n",
      "2021-01-28 22:35:43,058 - helpers.s3_util - INFO - Uploading file train_multiclass.json s3://aegovan-data/processed_dataset/train_multiclass.json\n"
     ]
    }
   ],
   "source": [
    "from helpers.s3_util import S3Util\n",
    "\n",
    "S3Util().uploadfile(val_multi_file, \"{}/\".format( s3_results_prefix.rstrip(\"/\")) )\n",
    "S3Util().uploadfile(test_multi_file, \"{}/\".format( s3_results_prefix.rstrip(\"/\")) )\n",
    "S3Util().uploadfile(train_multi_file, \"{}/\".format( s3_results_prefix.rstrip(\"/\")) )"
   ]
  },
  {
   "cell_type": "code",
   "execution_count": 91,
   "metadata": {},
   "outputs": [],
   "source": [
    "train_multiclass.sample(n=50).to_json(\"sample_train_multiclass.json\")"
   ]
  },
  {
   "cell_type": "markdown",
   "metadata": {},
   "source": [
    "#### Step 2: Add negative interaction types"
   ]
  },
  {
   "cell_type": "code",
   "execution_count": 92,
   "metadata": {},
   "outputs": [],
   "source": [
    "\n",
    "# train = generate_negative_interaction(train)\n",
    "# test = generate_negative_interaction(test)\n",
    "# val = generate_negative_interaction(val)\n"
   ]
  },
  {
   "cell_type": "code",
   "execution_count": 93,
   "metadata": {},
   "outputs": [
    {
     "data": {
      "image/png": "[encoded data removed]",
      "text/plain": [
       "<Figure size 1080x360 with 3 Axes>"
      ]
     },
     "metadata": {},
     "output_type": "display_data"
    }
   ],
   "source": [
    "\n",
    "fig, ax = plt.subplots( 1,3, figsize=(15,5))\n",
    "\n",
    "plot_negative_distribution(train,  val, test, \"Distribution after adding negative entities and interaction types\",fig, ax)\n",
    "plt.savefig(\"EntityInteractionNegativeSample.png\",bbox_inches = \"tight\")\n",
    "plt.savefig(\"EntityInteractionNegativeSample.svg\",bbox_inches = \"tight\")\n",
    "plt.show()"
   ]
  },
  {
   "cell_type": "code",
   "execution_count": 94,
   "metadata": {},
   "outputs": [
    {
     "data": {
      "image/png": "[encoded data removed]",
      "text/plain": [
       "<Figure size 1080x1440 with 3 Axes>"
      ]
     },
     "metadata": {},
     "output_type": "display_data"
    }
   ],
   "source": [
    "import matplotlib.pyplot as plt\n",
    "fig, ax = plt.subplots(1,3, figsize=(15,20))\n",
    "\n",
    "ax[0].set_title('Train class distribution')\n",
    "train.isValid.value_counts().plot.pie(autopct='%.2f',  ax=ax[0])\n",
    "\n",
    "ax[1].set_title('Validation class distribution')\n",
    "val.isValid.value_counts().plot.pie(autopct='%.2f',  ax=ax[1])\n",
    "\n",
    "\n",
    "ax[2].set_title('Test class distribution')\n",
    "test.isValid.value_counts().plot.pie(autopct='%.2f',  ax=ax[2])\n",
    "\n",
    "\n",
    "\n",
    "plt.savefig(\"Interaction.png\")"
   ]
  },
  {
   "cell_type": "code",
   "execution_count": 95,
   "metadata": {},
   "outputs": [
    {
     "data": {
      "text/html": [
       "<div>\n",
       "<style scoped>\n",
       "    .dataframe tbody tr th:only-of-type {\n",
       "        vertical-align: middle;\n",
       "    }\n",
       "\n",
       "    .dataframe tbody tr th {\n",
       "        vertical-align: top;\n",
       "    }\n",
       "\n",
       "    .dataframe thead th {\n",
       "        text-align: right;\n",
       "    }\n",
       "</style>\n",
       "<table border=\"1\" class=\"dataframe\">\n",
       "  <thead>\n",
       "    <tr style=\"text-align: right;\">\n",
       "      <th>isValid</th>\n",
       "      <th>False</th>\n",
       "      <th>True</th>\n",
       "    </tr>\n",
       "    <tr>\n",
       "      <th>interactionType</th>\n",
       "      <th></th>\n",
       "      <th></th>\n",
       "    </tr>\n",
       "  </thead>\n",
       "  <tbody>\n",
       "    <tr>\n",
       "      <th>acetylation</th>\n",
       "      <td>37</td>\n",
       "      <td>17</td>\n",
       "    </tr>\n",
       "    <tr>\n",
       "      <th>dephosphorylation</th>\n",
       "      <td>211</td>\n",
       "      <td>45</td>\n",
       "    </tr>\n",
       "    <tr>\n",
       "      <th>deubiquitination</th>\n",
       "      <td>4</td>\n",
       "      <td>3</td>\n",
       "    </tr>\n",
       "    <tr>\n",
       "      <th>methylation</th>\n",
       "      <td>33</td>\n",
       "      <td>16</td>\n",
       "    </tr>\n",
       "    <tr>\n",
       "      <th>phosphorylation</th>\n",
       "      <td>1085</td>\n",
       "      <td>222</td>\n",
       "    </tr>\n",
       "    <tr>\n",
       "      <th>ubiquitination</th>\n",
       "      <td>23</td>\n",
       "      <td>6</td>\n",
       "    </tr>\n",
       "  </tbody>\n",
       "</table>\n",
       "</div>"
      ],
      "text/plain": [
       "isValid            False  True \n",
       "interactionType                \n",
       "acetylation           37     17\n",
       "dephosphorylation    211     45\n",
       "deubiquitination       4      3\n",
       "methylation           33     16\n",
       "phosphorylation     1085    222\n",
       "ubiquitination        23      6"
      ]
     },
     "execution_count": 95,
     "metadata": {},
     "output_type": "execute_result"
    }
   ],
   "source": [
    "train.groupby(['interactionType', 'isValid']).size().unstack()"
   ]
  },
  {
   "cell_type": "code",
   "execution_count": 96,
   "metadata": {},
   "outputs": [
    {
     "data": {
      "text/html": [
       "<div>\n",
       "<style scoped>\n",
       "    .dataframe tbody tr th:only-of-type {\n",
       "        vertical-align: middle;\n",
       "    }\n",
       "\n",
       "    .dataframe tbody tr th {\n",
       "        vertical-align: top;\n",
       "    }\n",
       "\n",
       "    .dataframe thead th {\n",
       "        text-align: right;\n",
       "    }\n",
       "</style>\n",
       "<table border=\"1\" class=\"dataframe\">\n",
       "  <thead>\n",
       "    <tr style=\"text-align: right;\">\n",
       "      <th>isValid</th>\n",
       "      <th>False</th>\n",
       "      <th>True</th>\n",
       "    </tr>\n",
       "    <tr>\n",
       "      <th>interactionType</th>\n",
       "      <th></th>\n",
       "      <th></th>\n",
       "    </tr>\n",
       "  </thead>\n",
       "  <tbody>\n",
       "    <tr>\n",
       "      <th>acetylation</th>\n",
       "      <td>19</td>\n",
       "      <td>2</td>\n",
       "    </tr>\n",
       "    <tr>\n",
       "      <th>dephosphorylation</th>\n",
       "      <td>42</td>\n",
       "      <td>11</td>\n",
       "    </tr>\n",
       "    <tr>\n",
       "      <th>methylation</th>\n",
       "      <td>14</td>\n",
       "      <td>10</td>\n",
       "    </tr>\n",
       "    <tr>\n",
       "      <th>phosphorylation</th>\n",
       "      <td>164</td>\n",
       "      <td>66</td>\n",
       "    </tr>\n",
       "    <tr>\n",
       "      <th>ubiquitination</th>\n",
       "      <td>5</td>\n",
       "      <td>1</td>\n",
       "    </tr>\n",
       "  </tbody>\n",
       "</table>\n",
       "</div>"
      ],
      "text/plain": [
       "isValid            False  True \n",
       "interactionType                \n",
       "acetylation           19      2\n",
       "dephosphorylation     42     11\n",
       "methylation           14     10\n",
       "phosphorylation      164     66\n",
       "ubiquitination         5      1"
      ]
     },
     "execution_count": 96,
     "metadata": {},
     "output_type": "execute_result"
    }
   ],
   "source": [
    "test.groupby(['interactionType', 'isValid']).size().unstack()"
   ]
  },
  {
   "cell_type": "code",
   "execution_count": 97,
   "metadata": {},
   "outputs": [
    {
     "data": {
      "text/html": [
       "<div>\n",
       "<style scoped>\n",
       "    .dataframe tbody tr th:only-of-type {\n",
       "        vertical-align: middle;\n",
       "    }\n",
       "\n",
       "    .dataframe tbody tr th {\n",
       "        vertical-align: top;\n",
       "    }\n",
       "\n",
       "    .dataframe thead th {\n",
       "        text-align: right;\n",
       "    }\n",
       "</style>\n",
       "<table border=\"1\" class=\"dataframe\">\n",
       "  <thead>\n",
       "    <tr style=\"text-align: right;\">\n",
       "      <th>isValid</th>\n",
       "      <th>False</th>\n",
       "      <th>True</th>\n",
       "    </tr>\n",
       "    <tr>\n",
       "      <th>interactionType</th>\n",
       "      <th></th>\n",
       "      <th></th>\n",
       "    </tr>\n",
       "  </thead>\n",
       "  <tbody>\n",
       "    <tr>\n",
       "      <th>acetylation</th>\n",
       "      <td>9</td>\n",
       "      <td>1</td>\n",
       "    </tr>\n",
       "    <tr>\n",
       "      <th>dephosphorylation</th>\n",
       "      <td>30</td>\n",
       "      <td>4</td>\n",
       "    </tr>\n",
       "    <tr>\n",
       "      <th>methylation</th>\n",
       "      <td>2</td>\n",
       "      <td>4</td>\n",
       "    </tr>\n",
       "    <tr>\n",
       "      <th>phosphorylation</th>\n",
       "      <td>146</td>\n",
       "      <td>27</td>\n",
       "    </tr>\n",
       "    <tr>\n",
       "      <th>ubiquitination</th>\n",
       "      <td>14</td>\n",
       "      <td>1</td>\n",
       "    </tr>\n",
       "  </tbody>\n",
       "</table>\n",
       "</div>"
      ],
      "text/plain": [
       "isValid            False  True \n",
       "interactionType                \n",
       "acetylation            9      1\n",
       "dephosphorylation     30      4\n",
       "methylation            2      4\n",
       "phosphorylation      146     27\n",
       "ubiquitination        14      1"
      ]
     },
     "execution_count": 97,
     "metadata": {},
     "output_type": "execute_result"
    }
   ],
   "source": [
    "val.groupby(['interactionType', 'isValid']).size().unstack()"
   ]
  },
  {
   "cell_type": "code",
   "execution_count": 98,
   "metadata": {},
   "outputs": [
    {
     "data": {
      "text/html": [
       "<div>\n",
       "<style scoped>\n",
       "    .dataframe tbody tr th:only-of-type {\n",
       "        vertical-align: middle;\n",
       "    }\n",
       "\n",
       "    .dataframe tbody tr th {\n",
       "        vertical-align: top;\n",
       "    }\n",
       "\n",
       "    .dataframe thead th {\n",
       "        text-align: right;\n",
       "    }\n",
       "</style>\n",
       "<table border=\"1\" class=\"dataframe\">\n",
       "  <thead>\n",
       "    <tr style=\"text-align: right;\">\n",
       "      <th>isValid</th>\n",
       "      <th>False</th>\n",
       "      <th>True</th>\n",
       "    </tr>\n",
       "    <tr>\n",
       "      <th>interactionType</th>\n",
       "      <th></th>\n",
       "      <th></th>\n",
       "    </tr>\n",
       "  </thead>\n",
       "  <tbody>\n",
       "    <tr>\n",
       "      <th>acetylation</th>\n",
       "      <td>19</td>\n",
       "      <td>2</td>\n",
       "    </tr>\n",
       "    <tr>\n",
       "      <th>dephosphorylation</th>\n",
       "      <td>42</td>\n",
       "      <td>11</td>\n",
       "    </tr>\n",
       "    <tr>\n",
       "      <th>methylation</th>\n",
       "      <td>14</td>\n",
       "      <td>10</td>\n",
       "    </tr>\n",
       "    <tr>\n",
       "      <th>phosphorylation</th>\n",
       "      <td>164</td>\n",
       "      <td>66</td>\n",
       "    </tr>\n",
       "    <tr>\n",
       "      <th>ubiquitination</th>\n",
       "      <td>5</td>\n",
       "      <td>1</td>\n",
       "    </tr>\n",
       "  </tbody>\n",
       "</table>\n",
       "</div>"
      ],
      "text/plain": [
       "isValid            False  True \n",
       "interactionType                \n",
       "acetylation           19      2\n",
       "dephosphorylation     42     11\n",
       "methylation           14     10\n",
       "phosphorylation      164     66\n",
       "ubiquitination         5      1"
      ]
     },
     "execution_count": 98,
     "metadata": {},
     "output_type": "execute_result"
    }
   ],
   "source": [
    "test.groupby(['interactionType', 'isValid']).size().unstack()"
   ]
  },
  {
   "cell_type": "code",
   "execution_count": 99,
   "metadata": {},
   "outputs": [
    {
     "data": {
      "text/html": [
       "<div>\n",
       "<style scoped>\n",
       "    .dataframe tbody tr th:only-of-type {\n",
       "        vertical-align: middle;\n",
       "    }\n",
       "\n",
       "    .dataframe tbody tr th {\n",
       "        vertical-align: top;\n",
       "    }\n",
       "\n",
       "    .dataframe thead th {\n",
       "        text-align: right;\n",
       "    }\n",
       "</style>\n",
       "<table border=\"1\" class=\"dataframe\">\n",
       "  <thead>\n",
       "    <tr style=\"text-align: right;\">\n",
       "      <th>isValid</th>\n",
       "      <th>False</th>\n",
       "      <th>True</th>\n",
       "    </tr>\n",
       "    <tr>\n",
       "      <th>interactionType</th>\n",
       "      <th></th>\n",
       "      <th></th>\n",
       "    </tr>\n",
       "  </thead>\n",
       "  <tbody>\n",
       "    <tr>\n",
       "      <th>acetylation</th>\n",
       "      <td>9</td>\n",
       "      <td>1</td>\n",
       "    </tr>\n",
       "    <tr>\n",
       "      <th>dephosphorylation</th>\n",
       "      <td>30</td>\n",
       "      <td>4</td>\n",
       "    </tr>\n",
       "    <tr>\n",
       "      <th>methylation</th>\n",
       "      <td>2</td>\n",
       "      <td>4</td>\n",
       "    </tr>\n",
       "    <tr>\n",
       "      <th>phosphorylation</th>\n",
       "      <td>146</td>\n",
       "      <td>27</td>\n",
       "    </tr>\n",
       "    <tr>\n",
       "      <th>ubiquitination</th>\n",
       "      <td>14</td>\n",
       "      <td>1</td>\n",
       "    </tr>\n",
       "  </tbody>\n",
       "</table>\n",
       "</div>"
      ],
      "text/plain": [
       "isValid            False  True \n",
       "interactionType                \n",
       "acetylation            9      1\n",
       "dephosphorylation     30      4\n",
       "methylation            2      4\n",
       "phosphorylation      146     27\n",
       "ubiquitination        14      1"
      ]
     },
     "execution_count": 99,
     "metadata": {},
     "output_type": "execute_result"
    }
   ],
   "source": [
    "val.groupby(['interactionType', 'isValid']).size().unstack()"
   ]
  },
  {
   "cell_type": "code",
   "execution_count": 100,
   "metadata": {},
   "outputs": [
    {
     "data": {
      "image/png": "[encoded data removed]",
      "text/plain": [
       "<Figure size 1080x360 with 3 Axes>"
      ]
     },
     "metadata": {},
     "output_type": "display_data"
    }
   ],
   "source": [
    "import matplotlib.pyplot as plt\n",
    "fig, ax = plt.subplots(1,3, figsize=(15,5))\n",
    "\n",
    "ax[0].set_title('Train class distribution')\n",
    "train.isValid.value_counts().plot.bar( ax=ax[0])\n",
    "\n",
    "ax[1].set_title('Validation class distribution')\n",
    "val.isValid.value_counts().plot.bar( ax=ax[1])\n",
    "\n",
    "\n",
    "ax[2].set_title('Test class distribution')\n",
    "test.isValid.value_counts().plot.bar( ax=ax[2])\n",
    "\n",
    "\n",
    "\n",
    "plt.savefig(\"Interaction.png\")"
   ]
  },
  {
   "cell_type": "code",
   "execution_count": 101,
   "metadata": {},
   "outputs": [],
   "source": [
    "train.to_json(\"train_unique_pub_v6_max_neg.json\")\n",
    "test.to_json(\"test_unique_pub_v6_max_neg.json\")\n",
    "val.to_json(\"val_unique_pub_v6_max_neg.json\")"
   ]
  },
  {
   "cell_type": "code",
   "execution_count": 102,
   "metadata": {},
   "outputs": [],
   "source": [
    "train.sample(n=20).to_json(\"sample_train.json\")"
   ]
  },
  {
   "cell_type": "code",
   "execution_count": 103,
   "metadata": {},
   "outputs": [
    {
     "data": {
      "text/html": [
       "<div>\n",
       "<style scoped>\n",
       "    .dataframe tbody tr th:only-of-type {\n",
       "        vertical-align: middle;\n",
       "    }\n",
       "\n",
       "    .dataframe tbody tr th {\n",
       "        vertical-align: top;\n",
       "    }\n",
       "\n",
       "    .dataframe thead th {\n",
       "        text-align: right;\n",
       "    }\n",
       "</style>\n",
       "<table border=\"1\" class=\"dataframe\">\n",
       "  <thead>\n",
       "    <tr style=\"text-align: right;\">\n",
       "      <th></th>\n",
       "      <th>entityMentionsCount</th>\n",
       "      <th>hasTriggerWord</th>\n",
       "      <th>interactionId</th>\n",
       "      <th>interactionType</th>\n",
       "      <th>isValid</th>\n",
       "      <th>lessThanThreshold</th>\n",
       "      <th>participant1Alias</th>\n",
       "      <th>participant1Id</th>\n",
       "      <th>participant2Alias</th>\n",
       "      <th>participant2Id</th>\n",
       "      <th>participants_count</th>\n",
       "      <th>pubmedId</th>\n",
       "      <th>pubmedTitle</th>\n",
       "      <th>pubmedabstract</th>\n",
       "      <th>normalised_abstract</th>\n",
       "      <th>annotations</th>\n",
       "      <th>annotations_abstract</th>\n",
       "      <th>num_unique_gene_normalised_id</th>\n",
       "      <th>num_gene_normalised_id</th>\n",
       "      <th>gene_to_uniprot_map</th>\n",
       "      <th>particpant1Exists</th>\n",
       "      <th>particpant2Exists</th>\n",
       "      <th>bothParticpantsExist</th>\n",
       "      <th>noParticpantsExist</th>\n",
       "    </tr>\n",
       "  </thead>\n",
       "  <tbody>\n",
       "    <tr>\n",
       "      <th>1533</th>\n",
       "      <td>9</td>\n",
       "      <td>True</td>\n",
       "      <td>637098</td>\n",
       "      <td>phosphorylation</td>\n",
       "      <td>True</td>\n",
       "      <td>True</td>\n",
       "      <td>[[prp4b_human], [Serine/threonine-protein kinase PRP4 homolog], [PRPF4B], [KIAA0536], [PRP4], [PRP4H], [PRP4K], [PRP4 pre-mRNA-processing factor 4 homolog], [PRP4 kinase]]</td>\n",
       "      <td>Q13523</td>\n",
       "      <td>[[klf13_human], [Krueppel-like factor 13], [KLF13], [BTEB3], [NSLP1], [Transcription factor BTEB3], [Basic transcription element-binding protein 3], [RANTES factor of late activated T-lymphocytes 1], [Transcription factor NSLP1], [Novel Sp1-like zinc finger transcription factor 1]]</td>\n",
       "      <td>Q9Y2Y9</td>\n",
       "      <td>2</td>\n",
       "      <td>17513757</td>\n",
       "      <td>None</td>\n",
       "      <td>Activation of resting T lymphocytes initiates differentiation into mature effector cells over 3-7 days. The chemokine CCL5 (RANTES) and its major transcriptional regulator, Krüppel-like factor 13 (KLF13), are expressed late (3-5 days) after activation in T lymphocytes. Using yeast two-hybrid screening of a human thymus cDNA library, PRP4, a serine/threonine protein kinase, was identified as a KLF13-binding protein. Specific interaction of KLF13 and PRP4 was confirmed by reciprocal coimmunoprecipitation. PRP4 is expressed in PHA-stimulated human T lymphocytes from days 1 and 7 with a peak at day 3. Using an in vitro kinase assay, it was found that PRP4 phosphorylates KLF13. Furthermore, although phosphorylation of KLF13 by PRP4 results in lower binding affinity to the A/B site of the CCL5 promoter, coexpression of PRP4 and KLF13 increases nuclear localization of KLF13 and CCL5 transcription. Finally, knock-down of PRP4 by small interfering RNA markedly decreases CCL5 expression in T lymphocytes. Thus, PRP4-mediated phosphorylation of KLF13 plays a role in the regulation of CCL5 expression in T lymphocytes.</td>\n",
       "      <td>Activation of resting T lymphocytes initiates differentiation into mature effector cells over 3-7 days. The chemokine P13501 (P13501) and its major transcriptional regulator, Q9Y2Y9 (Q9Y2Y9), are expressed late (3-5 days) after activation in T lymphocytes. Using yeast two-hybrid screening of a human thymus cDNA library, Q13523, a serine/threonine protein kinase, was identified as a Q9Y2Y9-binding protein. Specific interaction of Q9Y2Y9 and Q13523 was confirmed by reciprocal coimmunoprecipitation. Q13523 is expressed in PHA-stimulated human T lymphocytes from days 1 and 7 with a peak at day 3. Using an in vitro kinase assay, it was found that Q13523 phosphorylates Q9Y2Y9. Furthermore, although phosphorylation of Q9Y2Y9 by Q13523 results in lower binding affinity to the A/B site of the P13501 promoter, coexpression of Q13523 and Q9Y2Y9 increases nuclear localization of Q9Y2Y9 and P13501 transcription. Finally, knock-down of Q13523 by small interfering RNA markedly decreases P13501 expression in T lymphocytes. Thus, Q13523-mediated phosphorylation of Q9Y2Y9 plays a role in the regulation of P13501 expression in T lymphocytes.</td>\n",
       "      <td>[{'start': '118', 'end': '122', 'name': 'CCL5', 'type': 'Gene', 'normalised_id': '6352'}, {'start': '124', 'end': '130', 'name': 'RANTES', 'type': 'Gene', 'normalised_id': '6352'}, {'start': '173', 'end': '194', 'name': 'Krppel-like factor 13', 'type': 'Gene', 'normalised_id': '51621'}, {'start': '196', 'end': '201', 'name': 'KLF13', 'type': 'Gene', 'normalised_id': '51621'}, {'start': '307', 'end': '312', 'name': 'human', 'type': 'Species', 'normalised_id': '9606'}, {'start': '334', 'end': '338', 'name': 'PRP4', 'type': 'Gene', 'normalised_id': '8899'}, {'start': '395', 'end': '400', 'name': 'KLF13', 'type': 'Gene', 'normalised_id': '51621'}, {'start': '442', 'end': '447', 'name': 'KLF13', 'type': 'Gene', 'normalised_id': '51621'}, {'start': '452', 'end': '456', 'name': 'PRP4', 'type': 'Gene', 'normalised_id': '8899'}, {'start': '508', 'end': '512', 'name': 'PRP4', 'type': 'Gene', 'normalised_id': '8899'}, {'start': '544', 'end': '549', 'name': 'human', 'type': 'Species', 'normalised_id': '9606'}, {'start': '654', 'end': '658', 'name': 'PRP4', 'type': 'Gene', 'normalised_id': '8899'}, {'start': '674', 'end': '679', 'name': 'KLF13', 'type': 'Gene', 'normalised_id': '51621'}, {'start': '722', 'end': '727', 'name': 'KLF13', 'type': 'Gene', 'normalised_id': '51621'}, {'start': '731', 'end': '735', 'name': 'PRP4', 'type': 'Gene', 'normalised_id': '8899'}, {'start': '793', 'end': '797', 'name': 'CCL5', 'type': 'Gene', 'normalised_id': '6352'}, {'start': '824', 'end': '828', 'name': 'PRP4', 'type': 'Gene', 'normalised_id': '8899'}, {'start': '833', 'end': '838', 'name': 'KLF13', 'type': 'Gene', 'normalised_id': '51621'}, {'start': '873', 'end': '878', 'name': 'KLF13', 'type': 'Gene', 'normalised_id': '51621'}, {'start': '883', 'end': '887', 'name': 'CCL5', 'type': 'Gene', 'normalised_id': '6352'}, {'start': '926', 'end': '930', 'name': 'PRP4', 'type': 'Gene', 'normalised_id': '8899'}, {'start': '975', 'end': '979', 'name': 'CCL5', 'type': 'Gene', 'normalised_id': '6352'}, {'start': '1015', 'end': '1019', 'name': 'PRP4', 'type': 'Gene', 'normalised_id': '8899'}, {'start': '1048', 'end': '1053', 'name': 'KLF13', 'type': 'Gene', 'normalised_id': '51621'}, {'start': '1088', 'end': '1092', 'name': 'CCL5', 'type': 'Gene', 'normalised_id': '6352'}]</td>\n",
       "      <td>Activation of resting T lymphocytes initiates differentiation into mature effector cells over 3-7 days. The chemokine CCL5 (RANTES) and its major transcriptional regulator, Krppel-like factor 13 (KLF13), are expressed late (3-5 days) after activation in T lymphocytes. Using yeast two-hybrid screening of a human thymus cDNA library, PRP4, a serine/threonine protein kinase, was identified as a KLF13-binding protein. Specific interaction of KLF13 and PRP4 was confirmed by reciprocal coimmunoprecipitation. PRP4 is expressed in PHA-stimulated human T lymphocytes from days 1 and 7 with a peak at day 3. Using an in vitro kinase assay, it was found that PRP4 phosphorylates KLF13. Furthermore, although phosphorylation of KLF13 by PRP4 results in lower binding affinity to the A/B site of the CCL5 promoter, coexpression of PRP4 and KLF13 increases nuclear localization of KLF13 and CCL5 transcription. Finally, knock-down of PRP4 by small interfering RNA markedly decreases CCL5 expression in T lymphocytes. Thus, PRP4-mediated phosphorylation of KLF13 plays a role in the regulation of CCL5 expression in T lymphocytes.</td>\n",
       "      <td>3</td>\n",
       "      <td>23</td>\n",
       "      <td>{'51621': ['Q9Y2Y9', 'X5DNR2'], '6352': ['P13501', 'D0EI67', 'A0A494C1Q1'], '8899': ['Q13523', 'A0A024QZY5']}</td>\n",
       "      <td>True</td>\n",
       "      <td>True</td>\n",
       "      <td>True</td>\n",
       "      <td>False</td>\n",
       "    </tr>\n",
       "    <tr>\n",
       "      <th>1421</th>\n",
       "      <td>8</td>\n",
       "      <td>True</td>\n",
       "      <td>1202060</td>\n",
       "      <td>phosphorylation</td>\n",
       "      <td>True</td>\n",
       "      <td>True</td>\n",
       "      <td>[[hspb1_human], [Heat shock protein beta-1], [HSPB1], [HSP27], [HSP28], [Heat shock 27 kDa protein], [Stress-responsive protein 27], [Estrogen-regulated 24 kDa protein], [28 kDa heat shock protein]]</td>\n",
       "      <td>P04792</td>\n",
       "      <td>[[mapk5_human], [MAP kinase-activated protein kinase 5], [MAPKAPK5], [PRAK], [p38-regulated/activated protein kinase]]</td>\n",
       "      <td>Q8IW41</td>\n",
       "      <td>2</td>\n",
       "      <td>21575178</td>\n",
       "      <td>None</td>\n",
       "      <td>Classical mammalian mitogen-activated protein kinase (MAPK) pathways consist of a cascade of three successive phosphorylation events resulting in the phosphorylation of a variety of substrates, including another class of protein kinases referred to as MAPK-activating protein kinases (MAPKAPKs). The MAPKAPKs MK2, MK3 and MK5 are closely related, but MK2 and MK3 are the major downstream targets of the p38MAPK pathway, while MK5 can be activated by the atypical MAPK ERK3 and ERK4, protein kinase A (PKA), and maybe p38MAPK. MK2, MK3, and MK5 can phosphorylate the common substrate small heat shock protein 27 (HSP27), a modification that regulates the role of HSP27 in actin polymerization. Both stress and cAMP elevating stimuli can cause F-actin remodeling, but whereas the in vivo role of p38MAPK-MK2 in stress-triggered HSP27 phosphorylation and actin reorganization is well established, it is not known whether MK2 is involved in cAMP/PKA-induced F-actin rearrangements. On the other hand, MK5 can phosphorylate HSP27 and cause cytoskeletal changes in a cAMP/PKA-dependent manner, but its role as HSP27 kinase in stress-induced F-actin remodeling is disputed. Therefore, we wanted to investigate the implication of MK2 and MK5 in stress- and PKA-induced HSP27 phosphorylation.</td>\n",
       "      <td>Classical mammalian mitogen-activated protein kinase (MAPK) pathways consist of a cascade of three successive phosphorylation events resulting in the phosphorylation of a variety of substrates, including another class of protein kinases referred to as MAPK-activating protein kinases (MAPKAPKs). The MAPKAPKs P49137, Q16644 and Q8IW41 are closely related, but P49137 and Q16644 are the major downstream targets of the p38MAPK pathway, while Q8IW41 can be activated by the atypical MAPK P53778 and P31152, protein kinase A (PKA), and maybe p38MAPK. P49137, Q16644, and Q8IW41 can phosphorylate the common substrate small P04792 (P04792), a modification that regulates the role of P04792 in actin polymerization. Both stress and cAMP elevating stimuli can cause F-actin remodeling, but whereas the in vivo role of p38MAPK-P49137 in stress-triggered P04792 phosphorylation and actin reorganization is well established, it is not known whether P49137 is involved in cAMP/PKA-induced F-actin rearrangements. On the other hand, Q8IW41 can phosphorylate P04792 and cause cytoskeletal changes in a cAMP/PKA-dependent manner, but its role as P04792 kinase in stress-induced F-actin remodeling is disputed. Therefore, we wanted to investigate the implication of P49137 and Q8IW41 in stress- and PKA-induced P04792 phosphorylation.</td>\n",
       "      <td>[{'start': '10', 'end': '19', 'name': 'mammalian', 'type': 'Species', 'normalised_id': '9606'}, {'start': '309', 'end': '312', 'name': 'MK2', 'type': 'Gene', 'normalised_id': '9261'}, {'start': '314', 'end': '317', 'name': 'MK3', 'type': 'Gene', 'normalised_id': '7867'}, {'start': '322', 'end': '325', 'name': 'MK5', 'type': 'Gene', 'normalised_id': '8550'}, {'start': '351', 'end': '354', 'name': 'MK2', 'type': 'Gene', 'normalised_id': '9261'}, {'start': '359', 'end': '362', 'name': 'MK3', 'type': 'Gene', 'normalised_id': '7867'}, {'start': '426', 'end': '429', 'name': 'MK5', 'type': 'Gene', 'normalised_id': '8550'}, {'start': '468', 'end': '472', 'name': 'ERK3', 'type': 'Gene', 'normalised_id': '6300'}, {'start': '477', 'end': '481', 'name': 'ERK4', 'type': 'Gene', 'normalised_id': '5596'}, {'start': '526', 'end': '529', 'name': 'MK2', 'type': 'Gene', 'normalised_id': '9261'}, {'start': '531', 'end': '534', 'name': 'MK3', 'type': 'Gene', 'normalised_id': '7867'}, {'start': '540', 'end': '543', 'name': 'MK5', 'type': 'Gene', 'normalised_id': '8550'}, {'start': '589', 'end': '610', 'name': 'heat shock protein 27', 'type': 'Gene', 'normalised_id': '3315'}, {'start': '612', 'end': '617', 'name': 'HSP27', 'type': 'Gene', 'normalised_id': '3315'}, {'start': '662', 'end': '667', 'name': 'HSP27', 'type': 'Gene', 'normalised_id': '3315'}, {'start': '802', 'end': '805', 'name': 'MK2', 'type': 'Gene', 'normalised_id': '9261'}, {'start': '826', 'end': '831', 'name': 'HSP27', 'type': 'Gene', 'normalised_id': '3315'}, {'start': '918', 'end': '921', 'name': 'MK2', 'type': 'Gene', 'normalised_id': '9261'}, {'start': '997', 'end': '1000', 'name': 'MK5', 'type': 'Gene', 'normalised_id': '8550'}, {'start': '1019', 'end': '1024', 'name': 'HSP27', 'type': 'Gene', 'normalised_id': '3315'}, {'start': '1104', 'end': '1109', 'name': 'HSP27', 'type': 'Gene', 'normalised_id': '3315'}, {'start': '1222', 'end': '1225', 'name': 'MK2', 'type': 'Gene', 'normalised_id': '9261'}, {'start': '1230', 'end': '1233', 'name': 'MK5', 'type': 'Gene', 'normalised_id': '8550'}, {'start': '1261', 'end': '1266', 'name': 'HSP27', 'type': 'Gene', 'normalised_id': '3315'}]</td>\n",
       "      <td>Classical mammalian mitogen-activated protein kinase (MAPK) pathways consist of a cascade of three successive phosphorylation events resulting in the phosphorylation of a variety of substrates, including another class of protein kinases referred to as MAPK-activating protein kinases (MAPKAPKs). The MAPKAPKs MK2, MK3 and MK5 are closely related, but MK2 and MK3 are the major downstream targets of the p38MAPK pathway, while MK5 can be activated by the atypical MAPK ERK3 and ERK4, protein kinase A (PKA), and maybe p38MAPK. MK2, MK3, and MK5 can phosphorylate the common substrate small heat shock protein 27 (HSP27), a modification that regulates the role of HSP27 in actin polymerization. Both stress and cAMP elevating stimuli can cause F-actin remodeling, but whereas the in vivo role of p38MAPK-MK2 in stress-triggered HSP27 phosphorylation and actin reorganization is well established, it is not known whether MK2 is involved in cAMP/PKA-induced F-actin rearrangements. On the other hand, MK5 can phosphorylate HSP27 and cause cytoskeletal changes in a cAMP/PKA-dependent manner, but its role as HSP27 kinase in stress-induced F-actin remodeling is disputed. Therefore, we wanted to investigate the implication of MK2 and MK5 in stress- and PKA-induced HSP27 phosphorylation.</td>\n",
       "      <td>6</td>\n",
       "      <td>23</td>\n",
       "      <td>{'8550': ['Q8IW41'], '5596': ['P31152', 'B4DEW2', 'K7ELV1'], '9261': ['P49137'], '6300': ['P53778', 'Q6N076'], '7867': ['Q16644', 'A0A024R2W7'], '3315': ['P04792', 'V9HW43']}</td>\n",
       "      <td>True</td>\n",
       "      <td>True</td>\n",
       "      <td>True</td>\n",
       "      <td>False</td>\n",
       "    </tr>\n",
       "    <tr>\n",
       "      <th>1651</th>\n",
       "      <td>5</td>\n",
       "      <td>True</td>\n",
       "      <td>1594811</td>\n",
       "      <td>phosphorylation</td>\n",
       "      <td>True</td>\n",
       "      <td>True</td>\n",
       "      <td>[[braf_human], [Serine/threonine-protein kinase B-raf], [BRAF], [BRAF1], [RAFB1], [v-Raf murine sarcoma viral oncogene homolog B1], [p94], [Proto-oncogene B-Raf]]</td>\n",
       "      <td>P15056</td>\n",
       "      <td>[[mp2k1_human], [Dual specificity mitogen-activated protein kinase kinase 1], [ERK activator kinase 1], [MAPK/ERK kinase 1], [MAP2K1], [MEK1], [PRKMK1]]</td>\n",
       "      <td>Q02750</td>\n",
       "      <td>2</td>\n",
       "      <td>25155755</td>\n",
       "      <td>None</td>\n",
       "      <td>Numerous oncogenic mutations occur within the BRAF kinase domain (BRAF(KD)). Here we show that stable BRAF-MEK1 complexes are enriched in BRAF(WT) and KRAS mutant (MT) cells but not in BRAF(MT) cells. The crystal structure of the BRAF(KD) in a complex with MEK1 reveals a face-to-face dimer sensitive to MEK1 phosphorylation but insensitive to BRAF dimerization. Structure-guided studies reveal that oncogenic BRAF mutations function by bypassing the requirement for BRAF dimerization for activity or weakening the interaction with MEK1. Finally, we show that conformation-specific BRAF inhibitors can sequester a dormant BRAF-MEK1 complex resulting in pathway inhibition. Taken together, these findings reveal a regulatory role for BRAF in the MAPK pathway independent of its kinase activity but dependent on interaction with MEK.</td>\n",
       "      <td>Numerous oncogenic mutations occur within the P15056 kinase domain (P15056(KD)). Here we show that stable P15056-Q02750 complexes are enriched in P15056(WT) and P01116 mutant (MT) cells but not in P15056(MT) cells. The crystal structure of the P15056(KD) in a complex with Q02750 reveals a face-to-face dimer sensitive to Q02750 phosphorylation but insensitive to P15056 dimerization. Structure-guided studies reveal that oncogenic P15056 mutations function by bypassing the requirement for P15056 dimerization for activity or weakening the interaction with Q02750. Finally, we show that conformation-specific P15056 inhibitors can sequester a dormant P15056-Q02750 complex resulting in pathway inhibition. Taken together, these findings reveal a regulatory role for P15056 in the MAPK pathway independent of its kinase activity but dependent on interaction with O14733.</td>\n",
       "      <td>[{'start': '46', 'end': '50', 'name': 'BRAF', 'type': 'Gene', 'normalised_id': '673'}, {'start': '66', 'end': '70', 'name': 'BRAF', 'type': 'Gene', 'normalised_id': '673'}, {'start': '102', 'end': '106', 'name': 'BRAF', 'type': 'Gene', 'normalised_id': '673'}, {'start': '107', 'end': '111', 'name': 'MEK1', 'type': 'Gene', 'normalised_id': '5604'}, {'start': '138', 'end': '142', 'name': 'BRAF', 'type': 'Gene', 'normalised_id': '673'}, {'start': '151', 'end': '155', 'name': 'KRAS', 'type': 'Gene', 'normalised_id': '3845'}, {'start': '185', 'end': '189', 'name': 'BRAF', 'type': 'Gene', 'normalised_id': '673'}, {'start': '230', 'end': '234', 'name': 'BRAF', 'type': 'Gene', 'normalised_id': '673'}, {'start': '257', 'end': '261', 'name': 'MEK1', 'type': 'Gene', 'normalised_id': '5604'}, {'start': '304', 'end': '308', 'name': 'MEK1', 'type': 'Gene', 'normalised_id': '5604'}, {'start': '344', 'end': '348', 'name': 'BRAF', 'type': 'Gene', 'normalised_id': '673'}, {'start': '410', 'end': '414', 'name': 'BRAF', 'type': 'Gene', 'normalised_id': '673'}, {'start': '467', 'end': '471', 'name': 'BRAF', 'type': 'Gene', 'normalised_id': '673'}, {'start': '532', 'end': '536', 'name': 'MEK1', 'type': 'Gene', 'normalised_id': '5604'}, {'start': '582', 'end': '586', 'name': 'BRAF', 'type': 'Gene', 'normalised_id': '673'}, {'start': '622', 'end': '626', 'name': 'BRAF', 'type': 'Gene', 'normalised_id': '673'}, {'start': '627', 'end': '631', 'name': 'MEK1', 'type': 'Gene', 'normalised_id': '5604'}, {'start': '733', 'end': '737', 'name': 'BRAF', 'type': 'Gene', 'normalised_id': '673'}, {'start': '827', 'end': '830', 'name': 'MEK', 'type': 'Gene', 'normalised_id': '5609'}]</td>\n",
       "      <td>Numerous oncogenic mutations occur within the BRAF kinase domain (BRAF(KD)). Here we show that stable BRAF-MEK1 complexes are enriched in BRAF(WT) and KRAS mutant (MT) cells but not in BRAF(MT) cells. The crystal structure of the BRAF(KD) in a complex with MEK1 reveals a face-to-face dimer sensitive to MEK1 phosphorylation but insensitive to BRAF dimerization. Structure-guided studies reveal that oncogenic BRAF mutations function by bypassing the requirement for BRAF dimerization for activity or weakening the interaction with MEK1. Finally, we show that conformation-specific BRAF inhibitors can sequester a dormant BRAF-MEK1 complex resulting in pathway inhibition. Taken together, these findings reveal a regulatory role for BRAF in the MAPK pathway independent of its kinase activity but dependent on interaction with MEK.</td>\n",
       "      <td>4</td>\n",
       "      <td>19</td>\n",
       "      <td>{'5604': ['Q02750', 'B4DFY5', 'A4QPA9', 'H3BRW9'], '3845': ['P01116', 'L7RSL8', 'A0A024RAV5', 'I1SRC5'], '673': ['P15056'], '5609': ['O14733', 'B4DV95']}</td>\n",
       "      <td>True</td>\n",
       "      <td>True</td>\n",
       "      <td>True</td>\n",
       "      <td>False</td>\n",
       "    </tr>\n",
       "  </tbody>\n",
       "</table>\n",
       "</div>"
      ],
      "text/plain": [
       "     entityMentionsCount hasTriggerWord interactionId  interactionType  \\\n",
       "1533                   9           True        637098  phosphorylation   \n",
       "1421                   8           True       1202060  phosphorylation   \n",
       "1651                   5           True       1594811  phosphorylation   \n",
       "\n",
       "     isValid lessThanThreshold  \\\n",
       "1533    True              True   \n",
       "1421    True              True   \n",
       "1651    True              True   \n",
       "\n",
       "                                                                                                                                                                                           participant1Alias  \\\n",
       "1533                             [[prp4b_human], [Serine/threonine-protein kinase PRP4 homolog], [PRPF4B], [KIAA0536], [PRP4], [PRP4H], [PRP4K], [PRP4 pre-mRNA-processing factor 4 homolog], [PRP4 kinase]]   \n",
       "1421  [[hspb1_human], [Heat shock protein beta-1], [HSPB1], [HSP27], [HSP28], [Heat shock 27 kDa protein], [Stress-responsive protein 27], [Estrogen-regulated 24 kDa protein], [28 kDa heat shock protein]]   \n",
       "1651                                      [[braf_human], [Serine/threonine-protein kinase B-raf], [BRAF], [BRAF1], [RAFB1], [v-Raf murine sarcoma viral oncogene homolog B1], [p94], [Proto-oncogene B-Raf]]   \n",
       "\n",
       "     participant1Id  \\\n",
       "1533         Q13523   \n",
       "1421         P04792   \n",
       "1651         P15056   \n",
       "\n",
       "                                                                                                                                                                                                                                                                               participant2Alias  \\\n",
       "1533  [[klf13_human], [Krueppel-like factor 13], [KLF13], [BTEB3], [NSLP1], [Transcription factor BTEB3], [Basic transcription element-binding protein 3], [RANTES factor of late activated T-lymphocytes 1], [Transcription factor NSLP1], [Novel Sp1-like zinc finger transcription factor 1]]   \n",
       "1421                                                                                                                                                                      [[mapk5_human], [MAP kinase-activated protein kinase 5], [MAPKAPK5], [PRAK], [p38-regulated/activated protein kinase]]   \n",
       "1651                                                                                                                                    [[mp2k1_human], [Dual specificity mitogen-activated protein kinase kinase 1], [ERK activator kinase 1], [MAPK/ERK kinase 1], [MAP2K1], [MEK1], [PRKMK1]]   \n",
       "\n",
       "     participant2Id participants_count  pubmedId pubmedTitle  \\\n",
       "1533         Q9Y2Y9                  2  17513757        None   \n",
       "1421         Q8IW41                  2  21575178        None   \n",
       "1651         Q02750                  2  25155755        None   \n",
       "\n",
       "                                                                                                                                                                                                                                                                                                                                                                                                                                                                                                                                                                                                                                                                                                                                                                                                                                                                                                                                                                                                                                                                                                                                                                                                                                                                                                                           pubmedabstract  \\\n",
       "1533                                                                                                                                                                   Activation of resting T lymphocytes initiates differentiation into mature effector cells over 3-7 days. The chemokine CCL5 (RANTES) and its major transcriptional regulator, Krüppel-like factor 13 (KLF13), are expressed late (3-5 days) after activation in T lymphocytes. Using yeast two-hybrid screening of a human thymus cDNA library, PRP4, a serine/threonine protein kinase, was identified as a KLF13-binding protein. Specific interaction of KLF13 and PRP4 was confirmed by reciprocal coimmunoprecipitation. PRP4 is expressed in PHA-stimulated human T lymphocytes from days 1 and 7 with a peak at day 3. Using an in vitro kinase assay, it was found that PRP4 phosphorylates KLF13. Furthermore, although phosphorylation of KLF13 by PRP4 results in lower binding affinity to the A/B site of the CCL5 promoter, coexpression of PRP4 and KLF13 increases nuclear localization of KLF13 and CCL5 transcription. Finally, knock-down of PRP4 by small interfering RNA markedly decreases CCL5 expression in T lymphocytes. Thus, PRP4-mediated phosphorylation of KLF13 plays a role in the regulation of CCL5 expression in T lymphocytes.   \n",
       "1421  Classical mammalian mitogen-activated protein kinase (MAPK) pathways consist of a cascade of three successive phosphorylation events resulting in the phosphorylation of a variety of substrates, including another class of protein kinases referred to as MAPK-activating protein kinases (MAPKAPKs). The MAPKAPKs MK2, MK3 and MK5 are closely related, but MK2 and MK3 are the major downstream targets of the p38MAPK pathway, while MK5 can be activated by the atypical MAPK ERK3 and ERK4, protein kinase A (PKA), and maybe p38MAPK. MK2, MK3, and MK5 can phosphorylate the common substrate small heat shock protein 27 (HSP27), a modification that regulates the role of HSP27 in actin polymerization. Both stress and cAMP elevating stimuli can cause F-actin remodeling, but whereas the in vivo role of p38MAPK-MK2 in stress-triggered HSP27 phosphorylation and actin reorganization is well established, it is not known whether MK2 is involved in cAMP/PKA-induced F-actin rearrangements. On the other hand, MK5 can phosphorylate HSP27 and cause cytoskeletal changes in a cAMP/PKA-dependent manner, but its role as HSP27 kinase in stress-induced F-actin remodeling is disputed. Therefore, we wanted to investigate the implication of MK2 and MK5 in stress- and PKA-induced HSP27 phosphorylation.   \n",
       "1651                                                                                                                                                                                                                                                                                                                                                                                                                                                                     Numerous oncogenic mutations occur within the BRAF kinase domain (BRAF(KD)). Here we show that stable BRAF-MEK1 complexes are enriched in BRAF(WT) and KRAS mutant (MT) cells but not in BRAF(MT) cells. The crystal structure of the BRAF(KD) in a complex with MEK1 reveals a face-to-face dimer sensitive to MEK1 phosphorylation but insensitive to BRAF dimerization. Structure-guided studies reveal that oncogenic BRAF mutations function by bypassing the requirement for BRAF dimerization for activity or weakening the interaction with MEK1. Finally, we show that conformation-specific BRAF inhibitors can sequester a dormant BRAF-MEK1 complex resulting in pathway inhibition. Taken together, these findings reveal a regulatory role for BRAF in the MAPK pathway independent of its kinase activity but dependent on interaction with MEK.    \n",
       "\n",
       "                                                                                                                                                                                                                                                                                                                                                                                                                                                                                                                                                                                                                                                                                                                                                                                                                                                                                                                                                                                                                                                                                                                                                                                                                                                                                                                                                           normalised_abstract  \\\n",
       "1533                                                                                                                                                                                      Activation of resting T lymphocytes initiates differentiation into mature effector cells over 3-7 days. The chemokine P13501 (P13501) and its major transcriptional regulator, Q9Y2Y9 (Q9Y2Y9), are expressed late (3-5 days) after activation in T lymphocytes. Using yeast two-hybrid screening of a human thymus cDNA library, Q13523, a serine/threonine protein kinase, was identified as a Q9Y2Y9-binding protein. Specific interaction of Q9Y2Y9 and Q13523 was confirmed by reciprocal coimmunoprecipitation. Q13523 is expressed in PHA-stimulated human T lymphocytes from days 1 and 7 with a peak at day 3. Using an in vitro kinase assay, it was found that Q13523 phosphorylates Q9Y2Y9. Furthermore, although phosphorylation of Q9Y2Y9 by Q13523 results in lower binding affinity to the A/B site of the P13501 promoter, coexpression of Q13523 and Q9Y2Y9 increases nuclear localization of Q9Y2Y9 and P13501 transcription. Finally, knock-down of Q13523 by small interfering RNA markedly decreases P13501 expression in T lymphocytes. Thus, Q13523-mediated phosphorylation of Q9Y2Y9 plays a role in the regulation of P13501 expression in T lymphocytes.   \n",
       "1421  Classical mammalian mitogen-activated protein kinase (MAPK) pathways consist of a cascade of three successive phosphorylation events resulting in the phosphorylation of a variety of substrates, including another class of protein kinases referred to as MAPK-activating protein kinases (MAPKAPKs). The MAPKAPKs P49137, Q16644 and Q8IW41 are closely related, but P49137 and Q16644 are the major downstream targets of the p38MAPK pathway, while Q8IW41 can be activated by the atypical MAPK P53778 and P31152, protein kinase A (PKA), and maybe p38MAPK. P49137, Q16644, and Q8IW41 can phosphorylate the common substrate small P04792 (P04792), a modification that regulates the role of P04792 in actin polymerization. Both stress and cAMP elevating stimuli can cause F-actin remodeling, but whereas the in vivo role of p38MAPK-P49137 in stress-triggered P04792 phosphorylation and actin reorganization is well established, it is not known whether P49137 is involved in cAMP/PKA-induced F-actin rearrangements. On the other hand, Q8IW41 can phosphorylate P04792 and cause cytoskeletal changes in a cAMP/PKA-dependent manner, but its role as P04792 kinase in stress-induced F-actin remodeling is disputed. Therefore, we wanted to investigate the implication of P49137 and Q8IW41 in stress- and PKA-induced P04792 phosphorylation.   \n",
       "1651                                                                                                                                                                                                                                                                                                                                                                                                                                                                   Numerous oncogenic mutations occur within the P15056 kinase domain (P15056(KD)). Here we show that stable P15056-Q02750 complexes are enriched in P15056(WT) and P01116 mutant (MT) cells but not in P15056(MT) cells. The crystal structure of the P15056(KD) in a complex with Q02750 reveals a face-to-face dimer sensitive to Q02750 phosphorylation but insensitive to P15056 dimerization. Structure-guided studies reveal that oncogenic P15056 mutations function by bypassing the requirement for P15056 dimerization for activity or weakening the interaction with Q02750. Finally, we show that conformation-specific P15056 inhibitors can sequester a dormant P15056-Q02750 complex resulting in pathway inhibition. Taken together, these findings reveal a regulatory role for P15056 in the MAPK pathway independent of its kinase activity but dependent on interaction with O14733.    \n",
       "\n",
       "                                                                                                                                                                                                                                                                                                                                                                                                                                                                                                                                                                                                                                                                                                                                                                                                                                                                                                                                                                                                                                                                                                                                                                                                                                                                                                                                                                                                                                                                                                                                                                                                                                                                                                                                                                                                                                                                                                                                                                                                                                                                                                                                                                                                                                                                                                                                                              annotations  \\\n",
       "1533  [{'start': '118', 'end': '122', 'name': 'CCL5', 'type': 'Gene', 'normalised_id': '6352'}, {'start': '124', 'end': '130', 'name': 'RANTES', 'type': 'Gene', 'normalised_id': '6352'}, {'start': '173', 'end': '194', 'name': 'Krppel-like factor 13', 'type': 'Gene', 'normalised_id': '51621'}, {'start': '196', 'end': '201', 'name': 'KLF13', 'type': 'Gene', 'normalised_id': '51621'}, {'start': '307', 'end': '312', 'name': 'human', 'type': 'Species', 'normalised_id': '9606'}, {'start': '334', 'end': '338', 'name': 'PRP4', 'type': 'Gene', 'normalised_id': '8899'}, {'start': '395', 'end': '400', 'name': 'KLF13', 'type': 'Gene', 'normalised_id': '51621'}, {'start': '442', 'end': '447', 'name': 'KLF13', 'type': 'Gene', 'normalised_id': '51621'}, {'start': '452', 'end': '456', 'name': 'PRP4', 'type': 'Gene', 'normalised_id': '8899'}, {'start': '508', 'end': '512', 'name': 'PRP4', 'type': 'Gene', 'normalised_id': '8899'}, {'start': '544', 'end': '549', 'name': 'human', 'type': 'Species', 'normalised_id': '9606'}, {'start': '654', 'end': '658', 'name': 'PRP4', 'type': 'Gene', 'normalised_id': '8899'}, {'start': '674', 'end': '679', 'name': 'KLF13', 'type': 'Gene', 'normalised_id': '51621'}, {'start': '722', 'end': '727', 'name': 'KLF13', 'type': 'Gene', 'normalised_id': '51621'}, {'start': '731', 'end': '735', 'name': 'PRP4', 'type': 'Gene', 'normalised_id': '8899'}, {'start': '793', 'end': '797', 'name': 'CCL5', 'type': 'Gene', 'normalised_id': '6352'}, {'start': '824', 'end': '828', 'name': 'PRP4', 'type': 'Gene', 'normalised_id': '8899'}, {'start': '833', 'end': '838', 'name': 'KLF13', 'type': 'Gene', 'normalised_id': '51621'}, {'start': '873', 'end': '878', 'name': 'KLF13', 'type': 'Gene', 'normalised_id': '51621'}, {'start': '883', 'end': '887', 'name': 'CCL5', 'type': 'Gene', 'normalised_id': '6352'}, {'start': '926', 'end': '930', 'name': 'PRP4', 'type': 'Gene', 'normalised_id': '8899'}, {'start': '975', 'end': '979', 'name': 'CCL5', 'type': 'Gene', 'normalised_id': '6352'}, {'start': '1015', 'end': '1019', 'name': 'PRP4', 'type': 'Gene', 'normalised_id': '8899'}, {'start': '1048', 'end': '1053', 'name': 'KLF13', 'type': 'Gene', 'normalised_id': '51621'}, {'start': '1088', 'end': '1092', 'name': 'CCL5', 'type': 'Gene', 'normalised_id': '6352'}]   \n",
       "1421                                                                                                                   [{'start': '10', 'end': '19', 'name': 'mammalian', 'type': 'Species', 'normalised_id': '9606'}, {'start': '309', 'end': '312', 'name': 'MK2', 'type': 'Gene', 'normalised_id': '9261'}, {'start': '314', 'end': '317', 'name': 'MK3', 'type': 'Gene', 'normalised_id': '7867'}, {'start': '322', 'end': '325', 'name': 'MK5', 'type': 'Gene', 'normalised_id': '8550'}, {'start': '351', 'end': '354', 'name': 'MK2', 'type': 'Gene', 'normalised_id': '9261'}, {'start': '359', 'end': '362', 'name': 'MK3', 'type': 'Gene', 'normalised_id': '7867'}, {'start': '426', 'end': '429', 'name': 'MK5', 'type': 'Gene', 'normalised_id': '8550'}, {'start': '468', 'end': '472', 'name': 'ERK3', 'type': 'Gene', 'normalised_id': '6300'}, {'start': '477', 'end': '481', 'name': 'ERK4', 'type': 'Gene', 'normalised_id': '5596'}, {'start': '526', 'end': '529', 'name': 'MK2', 'type': 'Gene', 'normalised_id': '9261'}, {'start': '531', 'end': '534', 'name': 'MK3', 'type': 'Gene', 'normalised_id': '7867'}, {'start': '540', 'end': '543', 'name': 'MK5', 'type': 'Gene', 'normalised_id': '8550'}, {'start': '589', 'end': '610', 'name': 'heat shock protein 27', 'type': 'Gene', 'normalised_id': '3315'}, {'start': '612', 'end': '617', 'name': 'HSP27', 'type': 'Gene', 'normalised_id': '3315'}, {'start': '662', 'end': '667', 'name': 'HSP27', 'type': 'Gene', 'normalised_id': '3315'}, {'start': '802', 'end': '805', 'name': 'MK2', 'type': 'Gene', 'normalised_id': '9261'}, {'start': '826', 'end': '831', 'name': 'HSP27', 'type': 'Gene', 'normalised_id': '3315'}, {'start': '918', 'end': '921', 'name': 'MK2', 'type': 'Gene', 'normalised_id': '9261'}, {'start': '997', 'end': '1000', 'name': 'MK5', 'type': 'Gene', 'normalised_id': '8550'}, {'start': '1019', 'end': '1024', 'name': 'HSP27', 'type': 'Gene', 'normalised_id': '3315'}, {'start': '1104', 'end': '1109', 'name': 'HSP27', 'type': 'Gene', 'normalised_id': '3315'}, {'start': '1222', 'end': '1225', 'name': 'MK2', 'type': 'Gene', 'normalised_id': '9261'}, {'start': '1230', 'end': '1233', 'name': 'MK5', 'type': 'Gene', 'normalised_id': '8550'}, {'start': '1261', 'end': '1266', 'name': 'HSP27', 'type': 'Gene', 'normalised_id': '3315'}]   \n",
       "1651                                                                                                                                                                                                                                                                                                                                                                                                                                                                                                                                                                                                                           [{'start': '46', 'end': '50', 'name': 'BRAF', 'type': 'Gene', 'normalised_id': '673'}, {'start': '66', 'end': '70', 'name': 'BRAF', 'type': 'Gene', 'normalised_id': '673'}, {'start': '102', 'end': '106', 'name': 'BRAF', 'type': 'Gene', 'normalised_id': '673'}, {'start': '107', 'end': '111', 'name': 'MEK1', 'type': 'Gene', 'normalised_id': '5604'}, {'start': '138', 'end': '142', 'name': 'BRAF', 'type': 'Gene', 'normalised_id': '673'}, {'start': '151', 'end': '155', 'name': 'KRAS', 'type': 'Gene', 'normalised_id': '3845'}, {'start': '185', 'end': '189', 'name': 'BRAF', 'type': 'Gene', 'normalised_id': '673'}, {'start': '230', 'end': '234', 'name': 'BRAF', 'type': 'Gene', 'normalised_id': '673'}, {'start': '257', 'end': '261', 'name': 'MEK1', 'type': 'Gene', 'normalised_id': '5604'}, {'start': '304', 'end': '308', 'name': 'MEK1', 'type': 'Gene', 'normalised_id': '5604'}, {'start': '344', 'end': '348', 'name': 'BRAF', 'type': 'Gene', 'normalised_id': '673'}, {'start': '410', 'end': '414', 'name': 'BRAF', 'type': 'Gene', 'normalised_id': '673'}, {'start': '467', 'end': '471', 'name': 'BRAF', 'type': 'Gene', 'normalised_id': '673'}, {'start': '532', 'end': '536', 'name': 'MEK1', 'type': 'Gene', 'normalised_id': '5604'}, {'start': '582', 'end': '586', 'name': 'BRAF', 'type': 'Gene', 'normalised_id': '673'}, {'start': '622', 'end': '626', 'name': 'BRAF', 'type': 'Gene', 'normalised_id': '673'}, {'start': '627', 'end': '631', 'name': 'MEK1', 'type': 'Gene', 'normalised_id': '5604'}, {'start': '733', 'end': '737', 'name': 'BRAF', 'type': 'Gene', 'normalised_id': '673'}, {'start': '827', 'end': '830', 'name': 'MEK', 'type': 'Gene', 'normalised_id': '5609'}]   \n",
       "\n",
       "                                                                                                                                                                                                                                                                                                                                                                                                                                                                                                                                                                                                                                                                                                                                                                                                                                                                                                                                                                                                                                                                                                                                                                                                                                                                                                                     annotations_abstract  \\\n",
       "1533                                                                                                                                                                    Activation of resting T lymphocytes initiates differentiation into mature effector cells over 3-7 days. The chemokine CCL5 (RANTES) and its major transcriptional regulator, Krppel-like factor 13 (KLF13), are expressed late (3-5 days) after activation in T lymphocytes. Using yeast two-hybrid screening of a human thymus cDNA library, PRP4, a serine/threonine protein kinase, was identified as a KLF13-binding protein. Specific interaction of KLF13 and PRP4 was confirmed by reciprocal coimmunoprecipitation. PRP4 is expressed in PHA-stimulated human T lymphocytes from days 1 and 7 with a peak at day 3. Using an in vitro kinase assay, it was found that PRP4 phosphorylates KLF13. Furthermore, although phosphorylation of KLF13 by PRP4 results in lower binding affinity to the A/B site of the CCL5 promoter, coexpression of PRP4 and KLF13 increases nuclear localization of KLF13 and CCL5 transcription. Finally, knock-down of PRP4 by small interfering RNA markedly decreases CCL5 expression in T lymphocytes. Thus, PRP4-mediated phosphorylation of KLF13 plays a role in the regulation of CCL5 expression in T lymphocytes.   \n",
       "1421  Classical mammalian mitogen-activated protein kinase (MAPK) pathways consist of a cascade of three successive phosphorylation events resulting in the phosphorylation of a variety of substrates, including another class of protein kinases referred to as MAPK-activating protein kinases (MAPKAPKs). The MAPKAPKs MK2, MK3 and MK5 are closely related, but MK2 and MK3 are the major downstream targets of the p38MAPK pathway, while MK5 can be activated by the atypical MAPK ERK3 and ERK4, protein kinase A (PKA), and maybe p38MAPK. MK2, MK3, and MK5 can phosphorylate the common substrate small heat shock protein 27 (HSP27), a modification that regulates the role of HSP27 in actin polymerization. Both stress and cAMP elevating stimuli can cause F-actin remodeling, but whereas the in vivo role of p38MAPK-MK2 in stress-triggered HSP27 phosphorylation and actin reorganization is well established, it is not known whether MK2 is involved in cAMP/PKA-induced F-actin rearrangements. On the other hand, MK5 can phosphorylate HSP27 and cause cytoskeletal changes in a cAMP/PKA-dependent manner, but its role as HSP27 kinase in stress-induced F-actin remodeling is disputed. Therefore, we wanted to investigate the implication of MK2 and MK5 in stress- and PKA-induced HSP27 phosphorylation.   \n",
       "1651                                                                                                                                                                                                                                                                                                                                                                                                                                                                     Numerous oncogenic mutations occur within the BRAF kinase domain (BRAF(KD)). Here we show that stable BRAF-MEK1 complexes are enriched in BRAF(WT) and KRAS mutant (MT) cells but not in BRAF(MT) cells. The crystal structure of the BRAF(KD) in a complex with MEK1 reveals a face-to-face dimer sensitive to MEK1 phosphorylation but insensitive to BRAF dimerization. Structure-guided studies reveal that oncogenic BRAF mutations function by bypassing the requirement for BRAF dimerization for activity or weakening the interaction with MEK1. Finally, we show that conformation-specific BRAF inhibitors can sequester a dormant BRAF-MEK1 complex resulting in pathway inhibition. Taken together, these findings reveal a regulatory role for BRAF in the MAPK pathway independent of its kinase activity but dependent on interaction with MEK.    \n",
       "\n",
       "     num_unique_gene_normalised_id num_gene_normalised_id  \\\n",
       "1533                             3                     23   \n",
       "1421                             6                     23   \n",
       "1651                             4                     19   \n",
       "\n",
       "                                                                                                                                                                 gene_to_uniprot_map  \\\n",
       "1533                                                                   {'51621': ['Q9Y2Y9', 'X5DNR2'], '6352': ['P13501', 'D0EI67', 'A0A494C1Q1'], '8899': ['Q13523', 'A0A024QZY5']}   \n",
       "1421  {'8550': ['Q8IW41'], '5596': ['P31152', 'B4DEW2', 'K7ELV1'], '9261': ['P49137'], '6300': ['P53778', 'Q6N076'], '7867': ['Q16644', 'A0A024R2W7'], '3315': ['P04792', 'V9HW43']}   \n",
       "1651                       {'5604': ['Q02750', 'B4DFY5', 'A4QPA9', 'H3BRW9'], '3845': ['P01116', 'L7RSL8', 'A0A024RAV5', 'I1SRC5'], '673': ['P15056'], '5609': ['O14733', 'B4DV95']}   \n",
       "\n",
       "     particpant1Exists particpant2Exists bothParticpantsExist  \\\n",
       "1533              True              True                 True   \n",
       "1421              True              True                 True   \n",
       "1651              True              True                 True   \n",
       "\n",
       "     noParticpantsExist  \n",
       "1533              False  \n",
       "1421              False  \n",
       "1651              False  "
      ]
     },
     "execution_count": 103,
     "metadata": {},
     "output_type": "execute_result"
    }
   ],
   "source": [
    "train.query('isValid == True').sample(n=3)"
   ]
  }
 ],
 "metadata": {
  "kernelspec": {
   "display_name": "Python 3",
   "language": "python",
   "name": "python3"
  },
  "language_info": {
   "codemirror_mode": {
    "name": "ipython",
    "version": 3
   },
   "file_extension": ".py",
   "mimetype": "text/x-python",
   "name": "python",
   "nbconvert_exporter": "python",
   "pygments_lexer": "ipython3",
   "version": "3.7.4"
  }
 },
 "nbformat": 4,
 "nbformat_minor": 1
}
