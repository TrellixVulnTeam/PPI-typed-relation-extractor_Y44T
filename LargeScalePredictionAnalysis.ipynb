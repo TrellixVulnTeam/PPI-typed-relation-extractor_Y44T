{
 "cells": [
  {
   "cell_type": "code",
   "execution_count": 1,
   "metadata": {},
   "outputs": [],
   "source": [
    "import pandas as pd\n",
    "import os"
   ]
  },
  {
   "cell_type": "code",
   "execution_count": 2,
   "metadata": {},
   "outputs": [],
   "source": [
    "s3_prefix = \"s3://aegovan-data/pubmed_asbtract/predictions_multi_ppi-bert-2021-01-02-08_m_2021010514/\"\n",
    "s3_output_prefix = \"{}_summary/\".format(s3_prefix.rstrip(\"/\"))\n",
    "s3_data =\"s3://aegovan-data/human_output/human_interactions_ppi_v2.json\""
   ]
  },
  {
   "cell_type": "code",
   "execution_count": 3,
   "metadata": {},
   "outputs": [],
   "source": [
    "local_temp = \"temp\"\n",
    "local_temp_pred_dir = os.path.join( local_temp, \"pred_results\")\n",
    "local_temp_wk_dir = os.path.join( local_temp, \"wk\")"
   ]
  },
  {
   "cell_type": "code",
   "execution_count": 4,
   "metadata": {},
   "outputs": [],
   "source": [
    "!rm -rf $local_temp\n",
    "!mkdir -p $local_temp_pred_dir\n",
    "!mkdir -p $local_temp_wk_dir"
   ]
  },
  {
   "cell_type": "code",
   "execution_count": 5,
   "metadata": {},
   "outputs": [],
   "source": [
    "import boto3\n",
    "import glob\n",
    "from multiprocessing.dummy import Pool as ThreadPool\n",
    "import argparse\n",
    "import datetime \n",
    "import os\n",
    "\n",
    "\n",
    "def upload_file(localpath, s3path):\n",
    "        \"\"\"\n",
    "Uploads a file to s3\n",
    "        :param localpath: The local path\n",
    "        :param s3path: The s3 path in format s3://mybucket/mydir/mysample.txt\n",
    "        \"\"\"\n",
    "\n",
    "        bucket, key = get_bucketname_key(s3path)\n",
    "\n",
    "        if key.endswith(\"/\"):\n",
    "            key = \"{}{}\".format(key, os.path.basename(localpath))\n",
    "        \n",
    "        s3 = boto3.client('s3')\n",
    "        \n",
    "        s3.upload_file(localpath, bucket, key)\n",
    "\n",
    "def get_bucketname_key(uripath):\n",
    "    assert uripath.startswith(\"s3://\")\n",
    "\n",
    "    path_without_scheme = uripath[5:]\n",
    "    bucket_end_index = path_without_scheme.find(\"/\")\n",
    "\n",
    "    bucket_name = path_without_scheme\n",
    "    key = \"/\"\n",
    "    if bucket_end_index > -1:\n",
    "        bucket_name = path_without_scheme[0:bucket_end_index]\n",
    "        key = path_without_scheme[bucket_end_index + 1:]\n",
    "\n",
    "    return bucket_name, key\n",
    "\n",
    "\n",
    "def download_file(s3path, local_dir):\n",
    "    bucket, key = get_bucketname_key(s3path)\n",
    "    \n",
    "    s3 = boto3.client('s3')\n",
    "    \n",
    "    local_file = os.path.join(local_dir, s3path.split(\"/\")[-1])\n",
    "    \n",
    "\n",
    "    s3.download_file(bucket, key, local_file)\n",
    "    \n",
    "def download_object(s3path):\n",
    "    bucket, key = get_bucketname_key(s3path)\n",
    "    \n",
    "    s3 = boto3.client('s3')    \n",
    "\n",
    "    s3_response_object = s3.get_object(Bucket=bucket, Key=key)\n",
    "    object_content = s3_response_object['Body'].read()\n",
    "    \n",
    "    return len(object_content)\n",
    "\n",
    "\n",
    "\n",
    "def list_files(s3path_prefix):\n",
    "    assert s3path_prefix.startswith(\"s3://\")\n",
    "    assert s3path_prefix.endswith(\"/\")\n",
    "    \n",
    "    bucket, key = get_bucketname_key(s3path_prefix)\n",
    "    \n",
    "   \n",
    "   \n",
    "    s3 = boto3.resource('s3')\n",
    "    \n",
    "    bucket = s3.Bucket(name=bucket)\n",
    "\n",
    "    return ( (o.bucket_name, o.key) for o in bucket.objects.filter(Prefix=key))\n",
    "\n",
    "\n",
    "\n",
    "\n",
    "\n",
    "def upload_files(local_dir, s3_prefix, num_threads=20):    \n",
    "    input_tuples = ( (f,  s3_prefix) for f in glob.glob(\"{}/*\".format(local_dir)))\n",
    "    \n",
    "    with ThreadPool(num_threads) as pool:\n",
    "        pool.starmap(uploadfile, input_tuples)\n",
    "    \n",
    "\n",
    "\n",
    "def download_files(s3_prefix, local_dir, num_threads=20):    \n",
    "    input_tuples = ( (\"s3://{}/{}\".format(s3_bucket,s3_key),  local_dir) for s3_bucket, s3_key in list_files(s3_prefix))\n",
    "    \n",
    "    with ThreadPool(num_threads) as pool:\n",
    "        results = pool.starmap(download_file, input_tuples)\n",
    "        \n",
    "        \n",
    "\n",
    "def download_objects(s3_prefix, num_threads=20):    \n",
    "    s3_files = ( \"s3://{}/{}\".format(s3_bucket,s3_key) for s3_bucket, s3_key in list_files(s3_prefix))\n",
    "    \n",
    "    with ThreadPool(num_threads) as pool:\n",
    "        results = pool.map(download_object, s3_files)\n",
    "        \n",
    "    return sum(results)/1024\n",
    "        \n",
    "\n",
    "def get_directory_size(start_path):\n",
    "    total_size = 0\n",
    "    for dirpath, dirnames, filenames in os.walk(start_path):\n",
    "        for f in filenames:\n",
    "            fp = os.path.join(dirpath, f)\n",
    "            # skip if it is symbolic link\n",
    "            if not os.path.islink(fp):\n",
    "                total_size += os.path.getsize(fp)\n",
    "    return total_size\n",
    "\n",
    "def get_s3file_size(bucket, key):\n",
    "    s3 = boto3.client('s3')\n",
    "    response = s3.head_object(Bucket=bucket, Key=key)\n",
    "    size = response['ContentLength']\n",
    "    return size\n",
    "    \n",
    "def download_files_min_files(s3_prefix, local_dir, min_file_size=310, num_threads=20):    \n",
    "    input_tuples = ( (\"s3://{}/{}\".format(s3_bucket,s3_key),  local_dir) for s3_bucket, s3_key in list_files(s3_prefix) if get_s3file_size(s3_bucket, s3_key) > min_file_size )\n",
    "    \n",
    "    with ThreadPool(num_threads) as pool:\n",
    "        results = pool.starmap(download_file, input_tuples)\n",
    "        \n"
   ]
  },
  {
   "cell_type": "code",
   "execution_count": 6,
   "metadata": {},
   "outputs": [
    {
     "name": "stdout",
     "output_type": "stream",
     "text": [
      "CPU times: user 5min 51s, sys: 4min 37s, total: 10min 29s\n",
      "Wall time: 6min 12s\n"
     ]
    }
   ],
   "source": [
    "%%time\n",
    "\n",
    "download_files(s3_prefix, local_temp_pred_dir)"
   ]
  },
  {
   "cell_type": "code",
   "execution_count": 7,
   "metadata": {},
   "outputs": [
    {
     "name": "stdout",
     "output_type": "stream",
     "text": [
      "20\r\n"
     ]
    }
   ],
   "source": [
    "!ls -l $local_temp_dir | wc -l"
   ]
  },
  {
   "cell_type": "code",
   "execution_count": 8,
   "metadata": {},
   "outputs": [],
   "source": [
    "threshold_config_array = [{'InteractionType': 'phosphorylation', 'Threshold': 0.73911322481},\n",
    " {'InteractionType': 'dephosphorylation', 'Threshold': 0.96703105569},\n",
    " {'InteractionType': 'acetylation', 'Threshold': 0.8592761814600001},\n",
    " {'InteractionType': 'demethylation', 'Threshold': 0.52774533063},\n",
    " {'InteractionType': 'methylation', 'Threshold': 0.7215910189300001},\n",
    " {'InteractionType': 'ubiquitination', 'Threshold': 0.5717439842500001},\n",
    " {'InteractionType': 'deubiquitination', 'Threshold': 0.36090918539000005}]"
   ]
  },
  {
   "cell_type": "code",
   "execution_count": 9,
   "metadata": {},
   "outputs": [],
   "source": [
    "threshold_config = { r[\"InteractionType\"]:r[\"Threshold\"] for r in threshold_config_array}"
   ]
  },
  {
   "cell_type": "code",
   "execution_count": 10,
   "metadata": {
    "scrolled": false
   },
   "outputs": [
    {
     "name": "stdout",
     "output_type": "stream",
     "text": [
      "CPU times: user 11min 27s, sys: 1min 59s, total: 13min 27s\n",
      "Wall time: 15min 12s\n"
     ]
    }
   ],
   "source": [
    "%%time \n",
    "\n",
    "full_df = None\n",
    "total_counts = {}\n",
    "for f in os.listdir(local_temp_pred_dir):\n",
    "    df = pd.read_json(os.path.join(local_temp_pred_dir, f), orient=\"records\", lines=True )\n",
    "    \n",
    "    count_dict = df.groupby([\"predicted\"])[\"predicted\"].count().to_dict()\n",
    "    min_dict = df.groupby([\"predicted\"])[\"predicted_confidence\"].min().to_dict()\n",
    "    \n",
    "    for k in count_dict:\n",
    "        if k not in total_counts:\n",
    "            total_counts[k] = {}\n",
    "        total_counts[k][\"count\"] = total_counts[k].get(\"count\", 0) + count_dict[k]\n",
    "        total_counts[k][\"min\"] = min(total_counts[k].get(\"min\", 1.0) , min_dict[k])\n",
    "\n",
    "\n",
    "\n",
    "    # Filter below threshold items\n",
    "    high_quality_frames = []\n",
    "    for k,t in threshold_config.items():\n",
    "        high_quality_frames.append(df.query(\"predicted == '{}' and predicted_confidence > {}\".format(k, t)))\n",
    "        \n",
    "    high_quality_df = pd.concat(high_quality_frames)\n",
    "    \n",
    "    \n",
    "    \n",
    "    if full_df is None:\n",
    "        full_df = high_quality_df\n",
    "    else:\n",
    "        full_df = pd.concat([high_quality_df, full_df])\n",
    "        \n",
    "    \n",
    "    \n"
   ]
  },
  {
   "cell_type": "code",
   "execution_count": 11,
   "metadata": {},
   "outputs": [
    {
     "data": {
      "text/plain": [
       "{'acetylation': {'count': 885, 'min': 0.18810680970000002},\n",
       " 'dephosphorylation': {'count': 4169, 'min': 0.1964187006},\n",
       " 'methylation': {'count': 3151, 'min': 0.1840680047},\n",
       " 'other': {'count': 9066267, 'min': 0.18516493380000001},\n",
       " 'phosphorylation': {'count': 88356, 'min': 0.19867934110000002},\n",
       " 'ubiquitination': {'count': 4762, 'min': 0.18264465870000002},\n",
       " 'deubiquitination': {'count': 128, 'min': 0.1857735973}}"
      ]
     },
     "execution_count": 11,
     "metadata": {},
     "output_type": "execute_result"
    }
   ],
   "source": [
    "total_counts"
   ]
  },
  {
   "cell_type": "code",
   "execution_count": 12,
   "metadata": {},
   "outputs": [],
   "source": [
    "df_counts = pd.DataFrame( [ {\"InteractionType\":k, \"Count\": v[\"count\"], \"MinThreshold\":v[\"min\"]}  for k,v in total_counts.items()]) "
   ]
  },
  {
   "cell_type": "code",
   "execution_count": 13,
   "metadata": {},
   "outputs": [
    {
     "data": {
      "text/html": [
       "<div>\n",
       "<style scoped>\n",
       "    .dataframe tbody tr th:only-of-type {\n",
       "        vertical-align: middle;\n",
       "    }\n",
       "\n",
       "    .dataframe tbody tr th {\n",
       "        vertical-align: top;\n",
       "    }\n",
       "\n",
       "    .dataframe thead th {\n",
       "        text-align: right;\n",
       "    }\n",
       "</style>\n",
       "<table border=\"1\" class=\"dataframe\">\n",
       "  <thead>\n",
       "    <tr style=\"text-align: right;\">\n",
       "      <th></th>\n",
       "      <th>InteractionType</th>\n",
       "      <th>Count</th>\n",
       "      <th>MinThreshold</th>\n",
       "    </tr>\n",
       "  </thead>\n",
       "  <tbody>\n",
       "    <tr>\n",
       "      <th>0</th>\n",
       "      <td>acetylation</td>\n",
       "      <td>885</td>\n",
       "      <td>0.188107</td>\n",
       "    </tr>\n",
       "    <tr>\n",
       "      <th>1</th>\n",
       "      <td>dephosphorylation</td>\n",
       "      <td>4169</td>\n",
       "      <td>0.196419</td>\n",
       "    </tr>\n",
       "    <tr>\n",
       "      <th>2</th>\n",
       "      <td>methylation</td>\n",
       "      <td>3151</td>\n",
       "      <td>0.184068</td>\n",
       "    </tr>\n",
       "    <tr>\n",
       "      <th>3</th>\n",
       "      <td>other</td>\n",
       "      <td>9066267</td>\n",
       "      <td>0.185165</td>\n",
       "    </tr>\n",
       "    <tr>\n",
       "      <th>4</th>\n",
       "      <td>phosphorylation</td>\n",
       "      <td>88356</td>\n",
       "      <td>0.198679</td>\n",
       "    </tr>\n",
       "    <tr>\n",
       "      <th>5</th>\n",
       "      <td>ubiquitination</td>\n",
       "      <td>4762</td>\n",
       "      <td>0.182645</td>\n",
       "    </tr>\n",
       "    <tr>\n",
       "      <th>6</th>\n",
       "      <td>deubiquitination</td>\n",
       "      <td>128</td>\n",
       "      <td>0.185774</td>\n",
       "    </tr>\n",
       "  </tbody>\n",
       "</table>\n",
       "</div>"
      ],
      "text/plain": [
       "     InteractionType    Count  MinThreshold\n",
       "0        acetylation      885      0.188107\n",
       "1  dephosphorylation     4169      0.196419\n",
       "2        methylation     3151      0.184068\n",
       "3              other  9066267      0.185165\n",
       "4    phosphorylation    88356      0.198679\n",
       "5     ubiquitination     4762      0.182645\n",
       "6   deubiquitination      128      0.185774"
      ]
     },
     "execution_count": 13,
     "metadata": {},
     "output_type": "execute_result"
    }
   ],
   "source": [
    "df_counts"
   ]
  },
  {
   "cell_type": "code",
   "execution_count": 14,
   "metadata": {},
   "outputs": [
    {
     "data": {
      "text/plain": [
       "{'acetylation': 22,\n",
       " 'dephosphorylation': 16,\n",
       " 'deubiquitination': 28,\n",
       " 'methylation': 300,\n",
       " 'phosphorylation': 11919,\n",
       " 'ubiquitination': 104}"
      ]
     },
     "execution_count": 14,
     "metadata": {},
     "output_type": "execute_result"
    }
   ],
   "source": [
    "full_df.groupby([\"predicted\"])[\"predicted\"].count().to_dict()"
   ]
  },
  {
   "cell_type": "code",
   "execution_count": 15,
   "metadata": {},
   "outputs": [
    {
     "data": {
      "text/html": [
       "<div>\n",
       "<style scoped>\n",
       "    .dataframe tbody tr th:only-of-type {\n",
       "        vertical-align: middle;\n",
       "    }\n",
       "\n",
       "    .dataframe tbody tr th {\n",
       "        vertical-align: top;\n",
       "    }\n",
       "\n",
       "    .dataframe thead th {\n",
       "        text-align: right;\n",
       "    }\n",
       "</style>\n",
       "<table border=\"1\" class=\"dataframe\">\n",
       "  <thead>\n",
       "    <tr style=\"text-align: right;\">\n",
       "      <th></th>\n",
       "      <th>count</th>\n",
       "      <th>mean</th>\n",
       "      <th>std</th>\n",
       "      <th>min</th>\n",
       "      <th>25%</th>\n",
       "      <th>50%</th>\n",
       "      <th>75%</th>\n",
       "      <th>max</th>\n",
       "    </tr>\n",
       "    <tr>\n",
       "      <th>predicted</th>\n",
       "      <th></th>\n",
       "      <th></th>\n",
       "      <th></th>\n",
       "      <th></th>\n",
       "      <th></th>\n",
       "      <th></th>\n",
       "      <th></th>\n",
       "      <th></th>\n",
       "    </tr>\n",
       "  </thead>\n",
       "  <tbody>\n",
       "    <tr>\n",
       "      <th>acetylation</th>\n",
       "      <td>22.0</td>\n",
       "      <td>0.902486</td>\n",
       "      <td>0.026082</td>\n",
       "      <td>0.866076</td>\n",
       "      <td>0.881072</td>\n",
       "      <td>0.904164</td>\n",
       "      <td>0.919227</td>\n",
       "      <td>0.951532</td>\n",
       "    </tr>\n",
       "    <tr>\n",
       "      <th>dephosphorylation</th>\n",
       "      <td>16.0</td>\n",
       "      <td>0.973829</td>\n",
       "      <td>0.003665</td>\n",
       "      <td>0.967915</td>\n",
       "      <td>0.971103</td>\n",
       "      <td>0.972859</td>\n",
       "      <td>0.977132</td>\n",
       "      <td>0.979208</td>\n",
       "    </tr>\n",
       "    <tr>\n",
       "      <th>deubiquitination</th>\n",
       "      <td>28.0</td>\n",
       "      <td>0.455799</td>\n",
       "      <td>0.092871</td>\n",
       "      <td>0.367052</td>\n",
       "      <td>0.391047</td>\n",
       "      <td>0.425471</td>\n",
       "      <td>0.478622</td>\n",
       "      <td>0.763984</td>\n",
       "    </tr>\n",
       "    <tr>\n",
       "      <th>methylation</th>\n",
       "      <td>300.0</td>\n",
       "      <td>0.794552</td>\n",
       "      <td>0.055733</td>\n",
       "      <td>0.722113</td>\n",
       "      <td>0.745691</td>\n",
       "      <td>0.782870</td>\n",
       "      <td>0.827493</td>\n",
       "      <td>0.949326</td>\n",
       "    </tr>\n",
       "    <tr>\n",
       "      <th>phosphorylation</th>\n",
       "      <td>11919.0</td>\n",
       "      <td>0.834559</td>\n",
       "      <td>0.074557</td>\n",
       "      <td>0.739130</td>\n",
       "      <td>0.772317</td>\n",
       "      <td>0.814921</td>\n",
       "      <td>0.885646</td>\n",
       "      <td>0.995965</td>\n",
       "    </tr>\n",
       "    <tr>\n",
       "      <th>ubiquitination</th>\n",
       "      <td>104.0</td>\n",
       "      <td>0.613652</td>\n",
       "      <td>0.038614</td>\n",
       "      <td>0.571816</td>\n",
       "      <td>0.581698</td>\n",
       "      <td>0.599881</td>\n",
       "      <td>0.632836</td>\n",
       "      <td>0.745508</td>\n",
       "    </tr>\n",
       "  </tbody>\n",
       "</table>\n",
       "</div>"
      ],
      "text/plain": [
       "                     count      mean       std       min       25%       50%  \\\n",
       "predicted                                                                      \n",
       "acetylation           22.0  0.902486  0.026082  0.866076  0.881072  0.904164   \n",
       "dephosphorylation     16.0  0.973829  0.003665  0.967915  0.971103  0.972859   \n",
       "deubiquitination      28.0  0.455799  0.092871  0.367052  0.391047  0.425471   \n",
       "methylation          300.0  0.794552  0.055733  0.722113  0.745691  0.782870   \n",
       "phosphorylation    11919.0  0.834559  0.074557  0.739130  0.772317  0.814921   \n",
       "ubiquitination       104.0  0.613652  0.038614  0.571816  0.581698  0.599881   \n",
       "\n",
       "                        75%       max  \n",
       "predicted                              \n",
       "acetylation        0.919227  0.951532  \n",
       "dephosphorylation  0.977132  0.979208  \n",
       "deubiquitination   0.478622  0.763984  \n",
       "methylation        0.827493  0.949326  \n",
       "phosphorylation    0.885646  0.995965  \n",
       "ubiquitination     0.632836  0.745508  "
      ]
     },
     "execution_count": 15,
     "metadata": {},
     "output_type": "execute_result"
    }
   ],
   "source": [
    "full_df.groupby([\"predicted\"])[\"predicted_confidence\"].describe()"
   ]
  },
  {
   "cell_type": "code",
   "execution_count": 16,
   "metadata": {},
   "outputs": [
    {
     "data": {
      "text/plain": [
       "(12389, 18)"
      ]
     },
     "execution_count": 16,
     "metadata": {},
     "output_type": "execute_result"
    }
   ],
   "source": [
    "full_df.shape"
   ]
  },
  {
   "cell_type": "code",
   "execution_count": 17,
   "metadata": {},
   "outputs": [],
   "source": [
    "download_file(s3_data, local_temp_wk_dir)"
   ]
  },
  {
   "cell_type": "code",
   "execution_count": 18,
   "metadata": {},
   "outputs": [],
   "source": [
    "data_file = os.path.join(local_temp_wk_dir, s3_data.split(\"/\")[-1])\n",
    "data_training_full_df = pd.read_json(data_file)"
   ]
  },
  {
   "cell_type": "code",
   "execution_count": 19,
   "metadata": {},
   "outputs": [
    {
     "data": {
      "text/plain": [
       "(3381, 7)"
      ]
     },
     "execution_count": 19,
     "metadata": {},
     "output_type": "execute_result"
    }
   ],
   "source": [
    "data_training_full_df.shape"
   ]
  },
  {
   "cell_type": "code",
   "execution_count": 20,
   "metadata": {},
   "outputs": [
    {
     "data": {
      "text/plain": [
       "(12389, 18)"
      ]
     },
     "execution_count": 20,
     "metadata": {},
     "output_type": "execute_result"
    }
   ],
   "source": [
    "full_df.shape"
   ]
  },
  {
   "cell_type": "code",
   "execution_count": 21,
   "metadata": {},
   "outputs": [
    {
     "data": {
      "text/html": [
       "<div>\n",
       "<style scoped>\n",
       "    .dataframe tbody tr th:only-of-type {\n",
       "        vertical-align: middle;\n",
       "    }\n",
       "\n",
       "    .dataframe tbody tr th {\n",
       "        vertical-align: top;\n",
       "    }\n",
       "\n",
       "    .dataframe thead th {\n",
       "        text-align: right;\n",
       "    }\n",
       "</style>\n",
       "<table border=\"1\" class=\"dataframe\">\n",
       "  <thead>\n",
       "    <tr style=\"text-align: right;\">\n",
       "      <th></th>\n",
       "      <th>interactionId</th>\n",
       "      <th>interactionType</th>\n",
       "      <th>isNegative</th>\n",
       "      <th>participants</th>\n",
       "      <th>pubmedId</th>\n",
       "      <th>pubmedTitle</th>\n",
       "      <th>pubmedabstract</th>\n",
       "    </tr>\n",
       "  </thead>\n",
       "  <tbody>\n",
       "    <tr>\n",
       "      <th>0</th>\n",
       "      <td>1585513</td>\n",
       "      <td>phosphorylation</td>\n",
       "      <td>false</td>\n",
       "      <td>[{'uniprotid': 'Q10728', 'alias': [['mypt1_rat...</td>\n",
       "      <td>17126281</td>\n",
       "      <td>None</td>\n",
       "      <td>Zipper-interacting protein kinase (ZIP kinase)...</td>\n",
       "    </tr>\n",
       "    <tr>\n",
       "      <th>1</th>\n",
       "      <td>1585516</td>\n",
       "      <td>phosphorylation</td>\n",
       "      <td>false</td>\n",
       "      <td>[{'uniprotid': 'O43293-1', 'alias': [['o43293-...</td>\n",
       "      <td>17126281</td>\n",
       "      <td>None</td>\n",
       "      <td>Zipper-interacting protein kinase (ZIP kinase)...</td>\n",
       "    </tr>\n",
       "  </tbody>\n",
       "</table>\n",
       "</div>"
      ],
      "text/plain": [
       "   interactionId  interactionType isNegative  \\\n",
       "0        1585513  phosphorylation      false   \n",
       "1        1585516  phosphorylation      false   \n",
       "\n",
       "                                        participants  pubmedId pubmedTitle  \\\n",
       "0  [{'uniprotid': 'Q10728', 'alias': [['mypt1_rat...  17126281        None   \n",
       "1  [{'uniprotid': 'O43293-1', 'alias': [['o43293-...  17126281        None   \n",
       "\n",
       "                                      pubmedabstract  \n",
       "0  Zipper-interacting protein kinase (ZIP kinase)...  \n",
       "1  Zipper-interacting protein kinase (ZIP kinase)...  "
      ]
     },
     "execution_count": 21,
     "metadata": {},
     "output_type": "execute_result"
    }
   ],
   "source": [
    "data_training_full_df.head(n=2)"
   ]
  },
  {
   "cell_type": "code",
   "execution_count": 22,
   "metadata": {},
   "outputs": [
    {
     "data": {
      "text/plain": [
       "[{'uniprotid': 'Q13224',\n",
       "  'alias': [['nmde2_human'],\n",
       "   ['Glutamate receptor ionotropic, NMDA 2B'],\n",
       "   ['GRIN2B'],\n",
       "   ['NMDAR2B'],\n",
       "   ['N-methyl D-aspartate receptor subtype 2B'],\n",
       "   ['N-methyl-D-aspartate receptor subunit 3'],\n",
       "   ['Glutamate [NMDA] receptor subunit epsilon-2']],\n",
       "  'alternative_uniprots': ['Q13225', 'Q14CU4', 'Q12919', 'Q13220', 'Q9UM56']},\n",
       " {'uniprotid': 'P08575',\n",
       "  'alias': [['ptprc_human'],\n",
       "   ['Receptor-type tyrosine-protein phosphatase C'],\n",
       "   ['PTPRC'],\n",
       "   ['CD45'],\n",
       "   ['T200'],\n",
       "   ['Leukocyte common antigen']],\n",
       "  'alternative_uniprots': ['A0A0A0MT22',\n",
       "   'Q16614',\n",
       "   'X6R433',\n",
       "   'A8K7W6',\n",
       "   'Q9H0Y6']}]"
      ]
     },
     "execution_count": 22,
     "metadata": {},
     "output_type": "execute_result"
    }
   ],
   "source": [
    "data_training_full_df[\"participants\"].sample(n=2).iloc[0]"
   ]
  },
  {
   "cell_type": "code",
   "execution_count": 23,
   "metadata": {},
   "outputs": [],
   "source": [
    "def get_partipants_key_raw(participants):\n",
    "    \"\"\"\n",
    "    Example input\n",
    "    [{'uniprotid': 'P19388',\n",
    "  'alias': [['rpab1_human'],\n",
    "   ['DNA-directed RNA polymerases I, II, and III subunit RPABC1'],\n",
    "   ['POLR2E'],\n",
    "   ['DNA-directed RNA polymerase II subunit E'],\n",
    "   ['RPB5 homolog'],\n",
    "   ['DNA-directed RNA polymerase II 23 kDa polypeptide'],\n",
    "   ['XAP4']],\n",
    "  'alternative_uniprots': ['Q6PIH5', 'Q9BT06', 'O43380', 'B2R6L4', 'D6W5Y1']},\n",
    " {'uniprotid': 'Q96SB4',\n",
    "  'alias': [['srpk1_human'],\n",
    "   ['SRSF protein kinase 1'],\n",
    "   ['Serine/arginine-rich protein-specific kinase 1'],\n",
    "   ['SFRS protein kinase 1'],\n",
    "   ['SRPK1']],\n",
    "  'alternative_uniprots': ['Q5R365', 'Q5R364', 'B4DS61', 'Q8IY12', 'Q12890']}]\n",
    "    \"\"\"\n",
    "    participant_uniprot = []\n",
    "    for p in participants:\n",
    "        \n",
    "        participant_uniprot.append(str(p[\"uniprotid\"]))\n",
    "        \n",
    "        \n",
    "    result = get_partipants_key(participant_uniprot)\n",
    "    \n",
    "    return result\n",
    "\n",
    "def get_partipants_key(list_uniprot):\n",
    "    participant_uniprot=sorted(filter (lambda x: x is not None, list_uniprot))\n",
    "    \n",
    "    result = \"#\".join(participant_uniprot)\n",
    "    \n",
    "    return result\n"
   ]
  },
  {
   "cell_type": "code",
   "execution_count": 24,
   "metadata": {},
   "outputs": [],
   "source": [
    "training_participants = data_training_full_df[\"participants\"].apply(get_partipants_key_raw)"
   ]
  },
  {
   "cell_type": "code",
   "execution_count": 25,
   "metadata": {},
   "outputs": [],
   "source": [
    "full_df_particpiants = full_df[[\"participant2Id\", \"participant1Id\"]].apply(lambda x : get_partipants_key([x[\"participant2Id\"],x[\"participant2Id\"]]), axis=1)"
   ]
  },
  {
   "cell_type": "code",
   "execution_count": 26,
   "metadata": {},
   "outputs": [
    {
     "data": {
      "text/html": [
       "<div>\n",
       "<style scoped>\n",
       "    .dataframe tbody tr th:only-of-type {\n",
       "        vertical-align: middle;\n",
       "    }\n",
       "\n",
       "    .dataframe tbody tr th {\n",
       "        vertical-align: top;\n",
       "    }\n",
       "\n",
       "    .dataframe thead th {\n",
       "        text-align: right;\n",
       "    }\n",
       "</style>\n",
       "<table border=\"1\" class=\"dataframe\">\n",
       "  <thead>\n",
       "    <tr style=\"text-align: right;\">\n",
       "      <th></th>\n",
       "      <th>abstract</th>\n",
       "      <th>annotations</th>\n",
       "      <th>gene_id_map</th>\n",
       "      <th>normalised_abstract</th>\n",
       "      <th>participant1Id</th>\n",
       "      <th>participant2Id</th>\n",
       "      <th>pubmedId</th>\n",
       "      <th>predicted</th>\n",
       "      <th>confidence_scores</th>\n",
       "      <th>acetylation</th>\n",
       "      <th>demethylation</th>\n",
       "      <th>dephosphorylation</th>\n",
       "      <th>deubiquitination</th>\n",
       "      <th>methylation</th>\n",
       "      <th>other</th>\n",
       "      <th>phosphorylation</th>\n",
       "      <th>ubiquitination</th>\n",
       "      <th>predicted_confidence</th>\n",
       "    </tr>\n",
       "  </thead>\n",
       "  <tbody>\n",
       "    <tr>\n",
       "      <th>869</th>\n",
       "      <td>Congenital anomalies of the kidneys and urinar...</td>\n",
       "      <td>[{'start': '380', 'end': '387', 'name': 'patie...</td>\n",
       "      <td>{'23216': 'Q86TI0', '6517': 'P14672'}</td>\n",
       "      <td>Congenital anomalies of the kidneys and urinar...</td>\n",
       "      <td>P14672</td>\n",
       "      <td>Q86TI0</td>\n",
       "      <td>26572137</td>\n",
       "      <td>phosphorylation</td>\n",
       "      <td>{'acetylation': 0.0013321067, 'demethylation':...</td>\n",
       "      <td>0.001332</td>\n",
       "      <td>0.000697</td>\n",
       "      <td>0.103006</td>\n",
       "      <td>0.001065</td>\n",
       "      <td>0.001237</td>\n",
       "      <td>0.019506</td>\n",
       "      <td>0.870871</td>\n",
       "      <td>0.002286</td>\n",
       "      <td>0.870871</td>\n",
       "    </tr>\n",
       "    <tr>\n",
       "      <th>1770</th>\n",
       "      <td>Spinal muscular atrophy (SMA) is a devastating...</td>\n",
       "      <td>[{'start': '101', 'end': '105', 'name': 'SMN1'...</td>\n",
       "      <td>{'6606': 'Q16637', '6607': 'Q16637', '5358': '...</td>\n",
       "      <td>Spinal muscular atrophy (SMA) is a devastating...</td>\n",
       "      <td>Q16637</td>\n",
       "      <td>Q16637</td>\n",
       "      <td>26573968</td>\n",
       "      <td>phosphorylation</td>\n",
       "      <td>{'acetylation': 0.0009106977, 'demethylation':...</td>\n",
       "      <td>0.000911</td>\n",
       "      <td>0.000538</td>\n",
       "      <td>0.009467</td>\n",
       "      <td>0.001097</td>\n",
       "      <td>0.000999</td>\n",
       "      <td>0.189021</td>\n",
       "      <td>0.794962</td>\n",
       "      <td>0.003006</td>\n",
       "      <td>0.794962</td>\n",
       "    </tr>\n",
       "  </tbody>\n",
       "</table>\n",
       "</div>"
      ],
      "text/plain": [
       "                                               abstract  \\\n",
       "869   Congenital anomalies of the kidneys and urinar...   \n",
       "1770  Spinal muscular atrophy (SMA) is a devastating...   \n",
       "\n",
       "                                            annotations  \\\n",
       "869   [{'start': '380', 'end': '387', 'name': 'patie...   \n",
       "1770  [{'start': '101', 'end': '105', 'name': 'SMN1'...   \n",
       "\n",
       "                                            gene_id_map  \\\n",
       "869               {'23216': 'Q86TI0', '6517': 'P14672'}   \n",
       "1770  {'6606': 'Q16637', '6607': 'Q16637', '5358': '...   \n",
       "\n",
       "                                    normalised_abstract participant1Id  \\\n",
       "869   Congenital anomalies of the kidneys and urinar...         P14672   \n",
       "1770  Spinal muscular atrophy (SMA) is a devastating...         Q16637   \n",
       "\n",
       "     participant2Id  pubmedId        predicted  \\\n",
       "869          Q86TI0  26572137  phosphorylation   \n",
       "1770         Q16637  26573968  phosphorylation   \n",
       "\n",
       "                                      confidence_scores  acetylation  \\\n",
       "869   {'acetylation': 0.0013321067, 'demethylation':...     0.001332   \n",
       "1770  {'acetylation': 0.0009106977, 'demethylation':...     0.000911   \n",
       "\n",
       "      demethylation  dephosphorylation  deubiquitination  methylation  \\\n",
       "869        0.000697           0.103006          0.001065     0.001237   \n",
       "1770       0.000538           0.009467          0.001097     0.000999   \n",
       "\n",
       "         other  phosphorylation  ubiquitination  predicted_confidence  \n",
       "869   0.019506         0.870871        0.002286              0.870871  \n",
       "1770  0.189021         0.794962        0.003006              0.794962  "
      ]
     },
     "execution_count": 26,
     "metadata": {},
     "output_type": "execute_result"
    }
   ],
   "source": [
    "full_df.head(n=2)"
   ]
  },
  {
   "cell_type": "code",
   "execution_count": 27,
   "metadata": {},
   "outputs": [
    {
     "data": {
      "text/plain": [
       "(12389, 18)"
      ]
     },
     "execution_count": 27,
     "metadata": {},
     "output_type": "execute_result"
    }
   ],
   "source": [
    "full_df.shape"
   ]
  },
  {
   "cell_type": "code",
   "execution_count": 28,
   "metadata": {},
   "outputs": [
    {
     "data": {
      "text/plain": [
       "(12176, 18)"
      ]
     },
     "execution_count": 28,
     "metadata": {},
     "output_type": "execute_result"
    }
   ],
   "source": [
    "full_df[~full_df_particpiants.isin(training_participants)].shape"
   ]
  },
  {
   "cell_type": "code",
   "execution_count": 29,
   "metadata": {},
   "outputs": [],
   "source": [
    "full_df[\"PubmedInTrainingData\"] = full_df_particpiants.isin(training_participants)"
   ]
  },
  {
   "cell_type": "code",
   "execution_count": 44,
   "metadata": {},
   "outputs": [
    {
     "name": "stdout",
     "output_type": "stream",
     "text": [
      "\\begin{tabular}{lrr}\n",
      "\\toprule\n",
      "   InteractionType &   Count &  predicted \\\\\n",
      "\\midrule\n",
      "       acetylation &     885 &         22 \\\\\n",
      " dephosphorylation &    4169 &         10 \\\\\n",
      "       methylation &    3151 &        299 \\\\\n",
      "   phosphorylation &   88356 &      11714 \\\\\n",
      "    ubiquitination &    4762 &        104 \\\\\n",
      "  deubiquitination &     128 &         27 \\\\\n",
      "             Total &  101451 &      12176 \\\\\n",
      "\\bottomrule\n",
      "\\end{tabular}\n",
      "\n"
     ]
    }
   ],
   "source": [
    "tmp_df = pd.DataFrame(full_df[~full_df.PubmedInTrainingData]\\\n",
    "      .groupby('predicted')[\"predicted\"].count())\\\n",
    "      .merge(df_counts.query(\"InteractionType != 'other'\")[[\"Count\", \"InteractionType\"]], left_index=True, right_on = [\"InteractionType\"], how=\"right\")\\\n",
    "      [[\"InteractionType\", \"Count\", \"predicted\"]]\n",
    "\n",
    "tmp_df.loc[\"Sum\"] =    [\"Total\", tmp_df.Count.sum(), tmp_df.predicted.sum() ]\n",
    "print(tmp_df.to_latex(columns=  [\"InteractionType\", \"Count\", \"predicted\"], index=False)\n",
    "     )"
   ]
  },
  {
   "cell_type": "code",
   "execution_count": 31,
   "metadata": {},
   "outputs": [],
   "source": [
    "\n",
    "pd.set_option('display.max_columns', None)\n",
    "pd.set_option('display.max_rows', 100)\n",
    "\n",
    "import matplotlib.pyplot as plt\n",
    "plt.rcParams.update({'font.size': 12})"
   ]
  },
  {
   "cell_type": "code",
   "execution_count": 32,
   "metadata": {},
   "outputs": [
    {
     "data": {
      "text/html": [
       "<div>\n",
       "<style scoped>\n",
       "    .dataframe tbody tr th:only-of-type {\n",
       "        vertical-align: middle;\n",
       "    }\n",
       "\n",
       "    .dataframe tbody tr th {\n",
       "        vertical-align: top;\n",
       "    }\n",
       "\n",
       "    .dataframe thead th {\n",
       "        text-align: right;\n",
       "    }\n",
       "</style>\n",
       "<table border=\"1\" class=\"dataframe\">\n",
       "  <thead>\n",
       "    <tr style=\"text-align: right;\">\n",
       "      <th></th>\n",
       "      <th>abstract</th>\n",
       "      <th>annotations</th>\n",
       "      <th>gene_id_map</th>\n",
       "      <th>normalised_abstract</th>\n",
       "      <th>participant1Id</th>\n",
       "      <th>participant2Id</th>\n",
       "      <th>pubmedId</th>\n",
       "      <th>predicted</th>\n",
       "      <th>confidence_scores</th>\n",
       "      <th>acetylation</th>\n",
       "      <th>demethylation</th>\n",
       "      <th>dephosphorylation</th>\n",
       "      <th>deubiquitination</th>\n",
       "      <th>methylation</th>\n",
       "      <th>other</th>\n",
       "      <th>phosphorylation</th>\n",
       "      <th>ubiquitination</th>\n",
       "      <th>predicted_confidence</th>\n",
       "      <th>PubmedInTrainingData</th>\n",
       "    </tr>\n",
       "  </thead>\n",
       "  <tbody>\n",
       "    <tr>\n",
       "      <th>3336</th>\n",
       "      <td>Transforming growth factor-beta (TGF-beta ) ha...</td>\n",
       "      <td>[{'start': '0', 'end': '31', 'name': 'Transfor...</td>\n",
       "      <td>{'7040': 'P01137', '6497': 'P12755', '4087': '...</td>\n",
       "      <td>P01137 (P01137 ) has dual and paradoxical func...</td>\n",
       "      <td>P01137</td>\n",
       "      <td>P12755</td>\n",
       "      <td>12793438</td>\n",
       "      <td>phosphorylation</td>\n",
       "      <td>{'acetylation': 0.0006816332, 'demethylation':...</td>\n",
       "      <td>0.000682</td>\n",
       "      <td>0.000387</td>\n",
       "      <td>0.002126</td>\n",
       "      <td>0.000728</td>\n",
       "      <td>0.000510</td>\n",
       "      <td>0.098911</td>\n",
       "      <td>0.895351</td>\n",
       "      <td>0.001305</td>\n",
       "      <td>0.895351</td>\n",
       "      <td>False</td>\n",
       "    </tr>\n",
       "    <tr>\n",
       "      <th>13287</th>\n",
       "      <td>MEF2B encodes a transcriptional activator and ...</td>\n",
       "      <td>[{'start': '0', 'end': '5', 'name': 'MEF2B', '...</td>\n",
       "      <td>{'100271849': 'Q02080', '604': 'P41182', '2352...</td>\n",
       "      <td>Q02080 encodes a transcriptional activator and...</td>\n",
       "      <td>P41182</td>\n",
       "      <td>Q02080</td>\n",
       "      <td>23974956</td>\n",
       "      <td>phosphorylation</td>\n",
       "      <td>{'acetylation': 0.0013243229, 'demethylation':...</td>\n",
       "      <td>0.001324</td>\n",
       "      <td>0.001256</td>\n",
       "      <td>0.001815</td>\n",
       "      <td>0.003152</td>\n",
       "      <td>0.001275</td>\n",
       "      <td>0.031059</td>\n",
       "      <td>0.908271</td>\n",
       "      <td>0.051847</td>\n",
       "      <td>0.908271</td>\n",
       "      <td>False</td>\n",
       "    </tr>\n",
       "  </tbody>\n",
       "</table>\n",
       "</div>"
      ],
      "text/plain": [
       "                                                abstract  \\\n",
       "3336   Transforming growth factor-beta (TGF-beta ) ha...   \n",
       "13287  MEF2B encodes a transcriptional activator and ...   \n",
       "\n",
       "                                             annotations  \\\n",
       "3336   [{'start': '0', 'end': '31', 'name': 'Transfor...   \n",
       "13287  [{'start': '0', 'end': '5', 'name': 'MEF2B', '...   \n",
       "\n",
       "                                             gene_id_map  \\\n",
       "3336   {'7040': 'P01137', '6497': 'P12755', '4087': '...   \n",
       "13287  {'100271849': 'Q02080', '604': 'P41182', '2352...   \n",
       "\n",
       "                                     normalised_abstract participant1Id  \\\n",
       "3336   P01137 (P01137 ) has dual and paradoxical func...         P01137   \n",
       "13287  Q02080 encodes a transcriptional activator and...         P41182   \n",
       "\n",
       "      participant2Id  pubmedId        predicted  \\\n",
       "3336          P12755  12793438  phosphorylation   \n",
       "13287         Q02080  23974956  phosphorylation   \n",
       "\n",
       "                                       confidence_scores  acetylation  \\\n",
       "3336   {'acetylation': 0.0006816332, 'demethylation':...     0.000682   \n",
       "13287  {'acetylation': 0.0013243229, 'demethylation':...     0.001324   \n",
       "\n",
       "       demethylation  dephosphorylation  deubiquitination  methylation  \\\n",
       "3336        0.000387           0.002126          0.000728     0.000510   \n",
       "13287       0.001256           0.001815          0.003152     0.001275   \n",
       "\n",
       "          other  phosphorylation  ubiquitination  predicted_confidence  \\\n",
       "3336   0.098911         0.895351        0.001305              0.895351   \n",
       "13287  0.031059         0.908271        0.051847              0.908271   \n",
       "\n",
       "       PubmedInTrainingData  \n",
       "3336                  False  \n",
       "13287                 False  "
      ]
     },
     "execution_count": 32,
     "metadata": {},
     "output_type": "execute_result"
    }
   ],
   "source": [
    "full_df.sample(n=2)"
   ]
  },
  {
   "cell_type": "code",
   "execution_count": 33,
   "metadata": {},
   "outputs": [],
   "source": [
    "full_df[\"unique_gene_count\"] = full_df[\"gene_id_map\"].apply(lambda x: len(x))"
   ]
  },
  {
   "cell_type": "code",
   "execution_count": 34,
   "metadata": {},
   "outputs": [
    {
     "data": {
      "text/html": [
       "<div>\n",
       "<style scoped>\n",
       "    .dataframe tbody tr th:only-of-type {\n",
       "        vertical-align: middle;\n",
       "    }\n",
       "\n",
       "    .dataframe tbody tr th {\n",
       "        vertical-align: top;\n",
       "    }\n",
       "\n",
       "    .dataframe thead tr th {\n",
       "        text-align: left;\n",
       "    }\n",
       "\n",
       "    .dataframe thead tr:last-of-type th {\n",
       "        text-align: right;\n",
       "    }\n",
       "</style>\n",
       "<table border=\"1\" class=\"dataframe\">\n",
       "  <thead>\n",
       "    <tr>\n",
       "      <th></th>\n",
       "      <th colspan=\"8\" halign=\"left\">predicted_confidence</th>\n",
       "      <th colspan=\"8\" halign=\"left\">unique_gene_count</th>\n",
       "    </tr>\n",
       "    <tr>\n",
       "      <th></th>\n",
       "      <th>count</th>\n",
       "      <th>mean</th>\n",
       "      <th>std</th>\n",
       "      <th>min</th>\n",
       "      <th>25%</th>\n",
       "      <th>50%</th>\n",
       "      <th>75%</th>\n",
       "      <th>max</th>\n",
       "      <th>count</th>\n",
       "      <th>mean</th>\n",
       "      <th>std</th>\n",
       "      <th>min</th>\n",
       "      <th>25%</th>\n",
       "      <th>50%</th>\n",
       "      <th>75%</th>\n",
       "      <th>max</th>\n",
       "    </tr>\n",
       "    <tr>\n",
       "      <th>predicted</th>\n",
       "      <th></th>\n",
       "      <th></th>\n",
       "      <th></th>\n",
       "      <th></th>\n",
       "      <th></th>\n",
       "      <th></th>\n",
       "      <th></th>\n",
       "      <th></th>\n",
       "      <th></th>\n",
       "      <th></th>\n",
       "      <th></th>\n",
       "      <th></th>\n",
       "      <th></th>\n",
       "      <th></th>\n",
       "      <th></th>\n",
       "      <th></th>\n",
       "    </tr>\n",
       "  </thead>\n",
       "  <tbody>\n",
       "    <tr>\n",
       "      <th>acetylation</th>\n",
       "      <td>22.0</td>\n",
       "      <td>0.902486</td>\n",
       "      <td>0.026082</td>\n",
       "      <td>0.866076</td>\n",
       "      <td>0.881072</td>\n",
       "      <td>0.904164</td>\n",
       "      <td>0.919227</td>\n",
       "      <td>0.951532</td>\n",
       "      <td>22.0</td>\n",
       "      <td>3.272727</td>\n",
       "      <td>1.162174</td>\n",
       "      <td>2.0</td>\n",
       "      <td>2.25</td>\n",
       "      <td>3.0</td>\n",
       "      <td>4.00</td>\n",
       "      <td>6.0</td>\n",
       "    </tr>\n",
       "    <tr>\n",
       "      <th>dephosphorylation</th>\n",
       "      <td>16.0</td>\n",
       "      <td>0.973829</td>\n",
       "      <td>0.003665</td>\n",
       "      <td>0.967915</td>\n",
       "      <td>0.971103</td>\n",
       "      <td>0.972859</td>\n",
       "      <td>0.977132</td>\n",
       "      <td>0.979208</td>\n",
       "      <td>16.0</td>\n",
       "      <td>5.625000</td>\n",
       "      <td>2.305790</td>\n",
       "      <td>2.0</td>\n",
       "      <td>3.75</td>\n",
       "      <td>6.0</td>\n",
       "      <td>8.00</td>\n",
       "      <td>8.0</td>\n",
       "    </tr>\n",
       "    <tr>\n",
       "      <th>deubiquitination</th>\n",
       "      <td>28.0</td>\n",
       "      <td>0.455799</td>\n",
       "      <td>0.092871</td>\n",
       "      <td>0.367052</td>\n",
       "      <td>0.391047</td>\n",
       "      <td>0.425471</td>\n",
       "      <td>0.478622</td>\n",
       "      <td>0.763984</td>\n",
       "      <td>28.0</td>\n",
       "      <td>3.000000</td>\n",
       "      <td>1.154701</td>\n",
       "      <td>2.0</td>\n",
       "      <td>2.00</td>\n",
       "      <td>3.0</td>\n",
       "      <td>3.25</td>\n",
       "      <td>6.0</td>\n",
       "    </tr>\n",
       "    <tr>\n",
       "      <th>methylation</th>\n",
       "      <td>300.0</td>\n",
       "      <td>0.794552</td>\n",
       "      <td>0.055733</td>\n",
       "      <td>0.722113</td>\n",
       "      <td>0.745691</td>\n",
       "      <td>0.782870</td>\n",
       "      <td>0.827493</td>\n",
       "      <td>0.949326</td>\n",
       "      <td>300.0</td>\n",
       "      <td>3.130000</td>\n",
       "      <td>1.543061</td>\n",
       "      <td>2.0</td>\n",
       "      <td>2.00</td>\n",
       "      <td>3.0</td>\n",
       "      <td>4.00</td>\n",
       "      <td>14.0</td>\n",
       "    </tr>\n",
       "    <tr>\n",
       "      <th>phosphorylation</th>\n",
       "      <td>11919.0</td>\n",
       "      <td>0.834559</td>\n",
       "      <td>0.074557</td>\n",
       "      <td>0.739130</td>\n",
       "      <td>0.772317</td>\n",
       "      <td>0.814921</td>\n",
       "      <td>0.885646</td>\n",
       "      <td>0.995965</td>\n",
       "      <td>11919.0</td>\n",
       "      <td>4.827922</td>\n",
       "      <td>5.166632</td>\n",
       "      <td>2.0</td>\n",
       "      <td>2.00</td>\n",
       "      <td>4.0</td>\n",
       "      <td>6.00</td>\n",
       "      <td>76.0</td>\n",
       "    </tr>\n",
       "    <tr>\n",
       "      <th>ubiquitination</th>\n",
       "      <td>104.0</td>\n",
       "      <td>0.613652</td>\n",
       "      <td>0.038614</td>\n",
       "      <td>0.571816</td>\n",
       "      <td>0.581698</td>\n",
       "      <td>0.599881</td>\n",
       "      <td>0.632836</td>\n",
       "      <td>0.745508</td>\n",
       "      <td>104.0</td>\n",
       "      <td>2.884615</td>\n",
       "      <td>1.054879</td>\n",
       "      <td>2.0</td>\n",
       "      <td>2.00</td>\n",
       "      <td>3.0</td>\n",
       "      <td>3.00</td>\n",
       "      <td>7.0</td>\n",
       "    </tr>\n",
       "  </tbody>\n",
       "</table>\n",
       "</div>"
      ],
      "text/plain": [
       "                  predicted_confidence                                \\\n",
       "                                 count      mean       std       min   \n",
       "predicted                                                              \n",
       "acetylation                       22.0  0.902486  0.026082  0.866076   \n",
       "dephosphorylation                 16.0  0.973829  0.003665  0.967915   \n",
       "deubiquitination                  28.0  0.455799  0.092871  0.367052   \n",
       "methylation                      300.0  0.794552  0.055733  0.722113   \n",
       "phosphorylation                11919.0  0.834559  0.074557  0.739130   \n",
       "ubiquitination                   104.0  0.613652  0.038614  0.571816   \n",
       "\n",
       "                                                          unique_gene_count  \\\n",
       "                        25%       50%       75%       max             count   \n",
       "predicted                                                                     \n",
       "acetylation        0.881072  0.904164  0.919227  0.951532              22.0   \n",
       "dephosphorylation  0.971103  0.972859  0.977132  0.979208              16.0   \n",
       "deubiquitination   0.391047  0.425471  0.478622  0.763984              28.0   \n",
       "methylation        0.745691  0.782870  0.827493  0.949326             300.0   \n",
       "phosphorylation    0.772317  0.814921  0.885646  0.995965           11919.0   \n",
       "ubiquitination     0.581698  0.599881  0.632836  0.745508             104.0   \n",
       "\n",
       "                                                                   \n",
       "                       mean       std  min   25%  50%   75%   max  \n",
       "predicted                                                          \n",
       "acetylation        3.272727  1.162174  2.0  2.25  3.0  4.00   6.0  \n",
       "dephosphorylation  5.625000  2.305790  2.0  3.75  6.0  8.00   8.0  \n",
       "deubiquitination   3.000000  1.154701  2.0  2.00  3.0  3.25   6.0  \n",
       "methylation        3.130000  1.543061  2.0  2.00  3.0  4.00  14.0  \n",
       "phosphorylation    4.827922  5.166632  2.0  2.00  4.0  6.00  76.0  \n",
       "ubiquitination     2.884615  1.054879  2.0  2.00  3.0  3.00   7.0  "
      ]
     },
     "execution_count": 34,
     "metadata": {},
     "output_type": "execute_result"
    }
   ],
   "source": [
    "full_df.groupby(\"predicted\")[[\"predicted_confidence\",\"unique_gene_count\"]].describe()"
   ]
  },
  {
   "cell_type": "code",
   "execution_count": 35,
   "metadata": {},
   "outputs": [],
   "source": [
    "predictions_above_threshold_file = \"predictions_above_threshold.json\"\n",
    "full_df.to_json(predictions_above_threshold_file, orient='records')"
   ]
  },
  {
   "cell_type": "code",
   "execution_count": 36,
   "metadata": {},
   "outputs": [],
   "source": [
    "upload_file(predictions_above_threshold_file, \"{}/\".format(s3_output_prefix.rstrip(\"/\")))"
   ]
  },
  {
   "cell_type": "code",
   "execution_count": 37,
   "metadata": {},
   "outputs": [
    {
     "data": {
      "text/plain": [
       "predicted\n",
       "acetylation          10\n",
       "dephosphorylation    10\n",
       "deubiquitination     10\n",
       "methylation          10\n",
       "phosphorylation      10\n",
       "ubiquitination       10\n",
       "Name: predicted, dtype: int64"
      ]
     },
     "execution_count": 37,
     "metadata": {},
     "output_type": "execute_result"
    }
   ],
   "source": [
    "samples_subset = full_df.query(\"PubmedInTrainingData == False\")\\\n",
    "                .groupby('predicted', group_keys=False)\\\n",
    "                .apply(lambda x: x.sample(min(len(x), 10),random_state=45))\n",
    "\n",
    "samples_subset.groupby([\"predicted\"])[\"predicted\"].count()"
   ]
  },
  {
   "cell_type": "code",
   "execution_count": 38,
   "metadata": {},
   "outputs": [
    {
     "data": {
      "text/plain": [
       "Index(['abstract', 'annotations', 'gene_id_map', 'normalised_abstract',\n",
       "       'participant1Id', 'participant2Id', 'pubmedId', 'predicted',\n",
       "       'confidence_scores', 'acetylation', 'demethylation',\n",
       "       'dephosphorylation', 'deubiquitination', 'methylation', 'other',\n",
       "       'phosphorylation', 'ubiquitination', 'predicted_confidence',\n",
       "       'PubmedInTrainingData', 'unique_gene_count'],\n",
       "      dtype='object')"
      ]
     },
     "execution_count": 38,
     "metadata": {},
     "output_type": "execute_result"
    }
   ],
   "source": [
    "samples_subset.columns"
   ]
  },
  {
   "cell_type": "code",
   "execution_count": 39,
   "metadata": {},
   "outputs": [],
   "source": [
    "import json\n",
    "import json\n",
    "def create_manifest_file(df, outfile):\n",
    "    items = df.to_dict(orient='records' )\n",
    "    with open(outfile , \"w\") as f:\n",
    "        for item in items:\n",
    "            # Write without new lines\n",
    "            item_m  = {}\n",
    "            item_m[\"source\"] = json.dumps(item)\n",
    "            f.write(json.dumps(item_m).replace(\"\\n\", \"\\t\"))\n",
    "            f.write(\"\\n\")"
   ]
  },
  {
   "cell_type": "code",
   "execution_count": 40,
   "metadata": {},
   "outputs": [],
   "source": [
    "samples_subset_file = \"predictions_sample_subset.json\"\n",
    "samples_subset.to_json(samples_subset_file, orient='records')\n",
    "upload_file(samples_subset_file, \"{}/\".format(s3_output_prefix.rstrip(\"/\")))\n",
    "\n",
    "\n",
    "manifest_file = \"predictions_sample_subset.mainfest\"\n",
    "create_manifest_file(samples_subset, manifest_file)\n",
    "upload_file(manifest_file, \"{}/\".format(s3_output_prefix.rstrip(\"/\")))\n",
    "\n",
    "# Create one manifest file per interaction type\n",
    "for i in list(samples_subset[\"predicted\"].unique()):\n",
    "    manifest_file = \"predictions_sample_subset_{}.mainfest\".format(i)\n",
    "    create_manifest_file( samples_subset.query(\"predicted == '{}'\".format(i)), manifest_file)\n",
    "    upload_file(manifest_file, \"{}/\".format(s3_output_prefix.rstrip(\"/\")))\n",
    "\n"
   ]
  }
 ],
 "metadata": {
  "kernelspec": {
   "display_name": "conda_python3",
   "language": "python",
   "name": "conda_python3"
  },
  "language_info": {
   "codemirror_mode": {
    "name": "ipython",
    "version": 3
   },
   "file_extension": ".py",
   "mimetype": "text/x-python",
   "name": "python",
   "nbconvert_exporter": "python",
   "pygments_lexer": "ipython3",
   "version": "3.6.10"
  }
 },
 "nbformat": 4,
 "nbformat_minor": 1
}
