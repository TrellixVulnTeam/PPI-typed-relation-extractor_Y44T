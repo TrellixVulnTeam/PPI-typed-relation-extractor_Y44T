{
 "cells": [
  {
   "cell_type": "markdown",
   "metadata": {
    "collapsed": true
   },
   "source": [
    "## Data Exploration"
   ]
  },
  {
   "cell_type": "code",
   "execution_count": 1,
   "metadata": {},
   "outputs": [],
   "source": [
    "\n",
    "s3_data =\"s3://aegovan-data/human_output/human_interactions_ppi_v2.json\"\n",
    "s3_annotations =\"s3://aegovan-data/processed_dataset/input_data_pubtator_annotated_human.txt\"\n",
    "s3_results_prefix = \"s3://aegovan-data/processed_dataset/\"\n",
    "human_idmapping_dat = \"./data/HUMAN_9606_idmapping.dat\"\n",
    "idmapping_dat=\"./tmpmap.dat\""
   ]
  },
  {
   "cell_type": "code",
   "execution_count": 2,
   "metadata": {},
   "outputs": [
    {
     "name": "stdout",
     "output_type": "stream",
     "text": [
      " 6069679 ./tmpmap.dat\r\n"
     ]
    }
   ],
   "source": [
    "!cp $human_idmapping_dat $idmapping_dat\n",
    "!wc -l $idmapping_dat"
   ]
  },
  {
   "cell_type": "code",
   "execution_count": 3,
   "metadata": {},
   "outputs": [],
   "source": [
    "import logging, sys\n",
    "\n",
    "# Set up logging\n",
    "logging.basicConfig(level=logging.getLevelName(\"INFO\"), handlers=[logging.StreamHandler(sys.stdout)],\n",
    "                        format='%(asctime)s - %(name)s - %(levelname)s - %(message)s')\n"
   ]
  },
  {
   "cell_type": "code",
   "execution_count": 4,
   "metadata": {},
   "outputs": [],
   "source": [
    "import boto3\n",
    "\n",
    "def download_single_file(bucket_name_path, local_path):\n",
    "    index = bucket_name_path.find(\"://\")\n",
    "\n",
    "    # remove the s3:// if present\n",
    "    if index > -1:\n",
    "        bucket_name_path = bucket_name_path[index + 3:]\n",
    "\n",
    "    key_start_index = bucket_name_path.find(\"/\")\n",
    "    bucket_name = bucket_name_path\n",
    "    key = \"/\"\n",
    "    if key_start_index > -1:\n",
    "        bucket_name = bucket_name_path[0:key_start_index]\n",
    "        key = bucket_name_path[key_start_index + 1:]\n",
    "        \n",
    "    client = boto3.resource('s3')\n",
    "    client.Bucket(bucket_name).download_file(key, local_path)\n"
   ]
  },
  {
   "cell_type": "code",
   "execution_count": 5,
   "metadata": {},
   "outputs": [],
   "source": [
    "data_file=\"input_data.json\"\n",
    "annotations_file=\"input_data_annotations.txt\""
   ]
  },
  {
   "cell_type": "code",
   "execution_count": 6,
   "metadata": {
    "pycharm": {
     "is_executing": true
    }
   },
   "outputs": [
    {
     "name": "stdout",
     "output_type": "stream",
     "text": [
      "2021-05-22 13:50:36,478 - botocore.credentials - INFO - Found credentials in shared credentials file: ~/.aws/credentials\n"
     ]
    }
   ],
   "source": [
    "download_single_file(s3_data, data_file)"
   ]
  },
  {
   "cell_type": "code",
   "execution_count": 7,
   "metadata": {
    "pycharm": {
     "is_executing": true
    }
   },
   "outputs": [],
   "source": [
    "download_single_file(s3_annotations, annotations_file)"
   ]
  },
  {
   "cell_type": "code",
   "execution_count": 8,
   "metadata": {
    "pycharm": {
     "is_executing": true
    }
   },
   "outputs": [
    {
     "name": "stdout",
     "output_type": "stream",
     "text": [
      "Total number of records: 3381\n"
     ]
    }
   ],
   "source": [
    "\n",
    "import pandas as pd\n",
    "\n",
    "data = pd.read_json(data_file)\n",
    "\n",
    "print(\"Total number of records: {}\".format(data.shape[0]))"
   ]
  },
  {
   "cell_type": "code",
   "execution_count": 9,
   "metadata": {
    "pycharm": {
     "is_executing": true
    }
   },
   "outputs": [
    {
     "data": {
      "text/plain": [
       "850"
      ]
     },
     "execution_count": 9,
     "metadata": {},
     "output_type": "execute_result"
    }
   ],
   "source": [
    "data.pubmedId.nunique()"
   ]
  },
  {
   "cell_type": "code",
   "execution_count": 10,
   "metadata": {
    "pycharm": {
     "is_executing": true
    }
   },
   "outputs": [],
   "source": [
    "\n",
    "pd.set_option('display.max_columns', None)\n",
    "pd.set_option('display.max_colwidth', 10000)\n",
    "pd.set_option('display.max_rows', 100)\n",
    "\n",
    "import matplotlib.pyplot as plt\n",
    "plt.rcParams['font.family'] = 'sans-serif'\n",
    "plt.rcParams['font.sans-serif'] = ['Times']\n",
    "plt.rcParams.update({'font.size': 12})"
   ]
  },
  {
   "cell_type": "markdown",
   "metadata": {},
   "source": [
    "## Preliminary data transformations"
   ]
  },
  {
   "cell_type": "code",
   "execution_count": 11,
   "metadata": {
    "pycharm": {
     "is_executing": true
    }
   },
   "outputs": [],
   "source": [
    "#TODO: Fix data format\n",
    "data[\"pubmedId\"] = data[\"pubmedId\"].astype(str)\n",
    "data[\"interactionId\"] = data[\"interactionId\"].astype(str)\n",
    "data[\"isValid\"] =  data.isNegative.isin(['false', '0', 'False'])\n",
    "data = data.drop('isNegative', axis=1)"
   ]
  },
  {
   "cell_type": "markdown",
   "metadata": {},
   "source": [
    "### Sneak preview of the data"
   ]
  },
  {
   "cell_type": "code",
   "execution_count": 12,
   "metadata": {
    "pycharm": {
     "is_executing": true
    }
   },
   "outputs": [
    {
     "data": {
      "text/html": [
       "<div>\n",
       "<style scoped>\n",
       "    .dataframe tbody tr th:only-of-type {\n",
       "        vertical-align: middle;\n",
       "    }\n",
       "\n",
       "    .dataframe tbody tr th {\n",
       "        vertical-align: top;\n",
       "    }\n",
       "\n",
       "    .dataframe thead th {\n",
       "        text-align: right;\n",
       "    }\n",
       "</style>\n",
       "<table border=\"1\" class=\"dataframe\">\n",
       "  <thead>\n",
       "    <tr style=\"text-align: right;\">\n",
       "      <th></th>\n",
       "      <th>interactionId</th>\n",
       "      <th>interactionType</th>\n",
       "      <th>participants</th>\n",
       "      <th>pubmedId</th>\n",
       "      <th>pubmedTitle</th>\n",
       "      <th>pubmedabstract</th>\n",
       "      <th>isValid</th>\n",
       "    </tr>\n",
       "  </thead>\n",
       "  <tbody>\n",
       "    <tr>\n",
       "      <th>0</th>\n",
       "      <td>1585513</td>\n",
       "      <td>phosphorylation</td>\n",
       "      <td>[{'uniprotid': 'Q10728', 'alias': [['mypt1_rat'], ['Protein phosphatase 1 regulatory subunit 12A'], ['Ppp1r12a'], ['Mbs'], ['Mypt1'], ['Myosin phosphatase-targeting subunit 1'], ['Protein phosphatase myosin-binding subunit'], ['MBSP'], ['Serine/threonine protein phosphatase PP1 smooth muscle regulatory subunit M110'], ['Protein phosphatase subunit 1M']], 'alternative_uniprots': ['Q62937', 'Q9WU33']}, {'uniprotid': 'O43293-2', 'alias': [['o43293-2'], ['Death-associated protein kinase 3'], ['ZIPK-S'], ['DAPK3'], ['ZIPK'], ['DAP-like kinase'], ['MYPT1 kinase'], ['Zipper-interacting protein kinase']], 'alternative_uniprots': []}]</td>\n",
       "      <td>17126281</td>\n",
       "      <td>None</td>\n",
       "      <td>Zipper-interacting protein kinase (ZIP kinase) has been thought to be involved in apoptosis and the C-terminal leucine zipper motif is important for its function. Recent studies have revealed that ZIP kinase also plays a role in regulating myosin phosphorylation. Here, we found novel ZIP kinase isoform in which the C-terminal non-kinase domain containing a leucine zipper is eliminated (hZIPK-S). hZIPK-S binds to myosin phosphatase targeting subunit 1(MYPT1) similar to the long isoform (hZIPK-L). In addition, we found that hZIPK-S as well as hZIPK-L bind to myosin. These results indicate that a leucine zipper is not critical for the binding of ZIP kinase to MYPT1 and myosin. Consistently, hZIPK-S localized with stress-fibers where they co-localized with myosin. The residues 278-311, the C-terminal side of the kinase domain common to the both isoforms, is involved in the binding to MYPT1, while the myosin binding domain is within the kinase domain. These results suggest that the newly found hZIPK-S as well as the long isoform play an important role in the regulation of myosin phosphorylation.</td>\n",
       "      <td>True</td>\n",
       "    </tr>\n",
       "    <tr>\n",
       "      <th>1</th>\n",
       "      <td>1585516</td>\n",
       "      <td>phosphorylation</td>\n",
       "      <td>[{'uniprotid': 'O43293-1', 'alias': [['o43293-1'], ['Death-associated protein kinase 3'], ['ZIPK-L'], ['DAPK3'], ['ZIPK'], ['DAP-like kinase'], ['MYPT1 kinase'], ['Zipper-interacting protein kinase']], 'alternative_uniprots': []}, {'uniprotid': 'Q10728', 'alias': [['mypt1_rat'], ['Protein phosphatase 1 regulatory subunit 12A'], ['Ppp1r12a'], ['Mbs'], ['Mypt1'], ['Myosin phosphatase-targeting subunit 1'], ['Protein phosphatase myosin-binding subunit'], ['MBSP'], ['Serine/threonine protein phosphatase PP1 smooth muscle regulatory subunit M110'], ['Protein phosphatase subunit 1M']], 'alternative_uniprots': ['Q62937', 'Q9WU33']}]</td>\n",
       "      <td>17126281</td>\n",
       "      <td>None</td>\n",
       "      <td>Zipper-interacting protein kinase (ZIP kinase) has been thought to be involved in apoptosis and the C-terminal leucine zipper motif is important for its function. Recent studies have revealed that ZIP kinase also plays a role in regulating myosin phosphorylation. Here, we found novel ZIP kinase isoform in which the C-terminal non-kinase domain containing a leucine zipper is eliminated (hZIPK-S). hZIPK-S binds to myosin phosphatase targeting subunit 1(MYPT1) similar to the long isoform (hZIPK-L). In addition, we found that hZIPK-S as well as hZIPK-L bind to myosin. These results indicate that a leucine zipper is not critical for the binding of ZIP kinase to MYPT1 and myosin. Consistently, hZIPK-S localized with stress-fibers where they co-localized with myosin. The residues 278-311, the C-terminal side of the kinase domain common to the both isoforms, is involved in the binding to MYPT1, while the myosin binding domain is within the kinase domain. These results suggest that the newly found hZIPK-S as well as the long isoform play an important role in the regulation of myosin phosphorylation.</td>\n",
       "      <td>True</td>\n",
       "    </tr>\n",
       "    <tr>\n",
       "      <th>2</th>\n",
       "      <td>1585519</td>\n",
       "      <td>phosphorylation</td>\n",
       "      <td>[{'uniprotid': 'O43293-2', 'alias': [['o43293-2'], ['Death-associated protein kinase 3'], ['ZIPK-S'], ['DAPK3'], ['ZIPK'], ['DAP-like kinase'], ['MYPT1 kinase'], ['Zipper-interacting protein kinase']], 'alternative_uniprots': []}]</td>\n",
       "      <td>17126281</td>\n",
       "      <td>None</td>\n",
       "      <td>Zipper-interacting protein kinase (ZIP kinase) has been thought to be involved in apoptosis and the C-terminal leucine zipper motif is important for its function. Recent studies have revealed that ZIP kinase also plays a role in regulating myosin phosphorylation. Here, we found novel ZIP kinase isoform in which the C-terminal non-kinase domain containing a leucine zipper is eliminated (hZIPK-S). hZIPK-S binds to myosin phosphatase targeting subunit 1(MYPT1) similar to the long isoform (hZIPK-L). In addition, we found that hZIPK-S as well as hZIPK-L bind to myosin. These results indicate that a leucine zipper is not critical for the binding of ZIP kinase to MYPT1 and myosin. Consistently, hZIPK-S localized with stress-fibers where they co-localized with myosin. The residues 278-311, the C-terminal side of the kinase domain common to the both isoforms, is involved in the binding to MYPT1, while the myosin binding domain is within the kinase domain. These results suggest that the newly found hZIPK-S as well as the long isoform play an important role in the regulation of myosin phosphorylation.</td>\n",
       "      <td>True</td>\n",
       "    </tr>\n",
       "  </tbody>\n",
       "</table>\n",
       "</div>"
      ],
      "text/plain": [
       "  interactionId  interactionType  \\\n",
       "0       1585513  phosphorylation   \n",
       "1       1585516  phosphorylation   \n",
       "2       1585519  phosphorylation   \n",
       "\n",
       "                                                                                                                                                                                                                                                                                                                                                                                                                                                                                                                                                                                                                                                participants  \\\n",
       "0  [{'uniprotid': 'Q10728', 'alias': [['mypt1_rat'], ['Protein phosphatase 1 regulatory subunit 12A'], ['Ppp1r12a'], ['Mbs'], ['Mypt1'], ['Myosin phosphatase-targeting subunit 1'], ['Protein phosphatase myosin-binding subunit'], ['MBSP'], ['Serine/threonine protein phosphatase PP1 smooth muscle regulatory subunit M110'], ['Protein phosphatase subunit 1M']], 'alternative_uniprots': ['Q62937', 'Q9WU33']}, {'uniprotid': 'O43293-2', 'alias': [['o43293-2'], ['Death-associated protein kinase 3'], ['ZIPK-S'], ['DAPK3'], ['ZIPK'], ['DAP-like kinase'], ['MYPT1 kinase'], ['Zipper-interacting protein kinase']], 'alternative_uniprots': []}]   \n",
       "1  [{'uniprotid': 'O43293-1', 'alias': [['o43293-1'], ['Death-associated protein kinase 3'], ['ZIPK-L'], ['DAPK3'], ['ZIPK'], ['DAP-like kinase'], ['MYPT1 kinase'], ['Zipper-interacting protein kinase']], 'alternative_uniprots': []}, {'uniprotid': 'Q10728', 'alias': [['mypt1_rat'], ['Protein phosphatase 1 regulatory subunit 12A'], ['Ppp1r12a'], ['Mbs'], ['Mypt1'], ['Myosin phosphatase-targeting subunit 1'], ['Protein phosphatase myosin-binding subunit'], ['MBSP'], ['Serine/threonine protein phosphatase PP1 smooth muscle regulatory subunit M110'], ['Protein phosphatase subunit 1M']], 'alternative_uniprots': ['Q62937', 'Q9WU33']}]   \n",
       "2                                                                                                                                                                                                                                                                                                                                                                                                                     [{'uniprotid': 'O43293-2', 'alias': [['o43293-2'], ['Death-associated protein kinase 3'], ['ZIPK-S'], ['DAPK3'], ['ZIPK'], ['DAP-like kinase'], ['MYPT1 kinase'], ['Zipper-interacting protein kinase']], 'alternative_uniprots': []}]   \n",
       "\n",
       "   pubmedId pubmedTitle  \\\n",
       "0  17126281        None   \n",
       "1  17126281        None   \n",
       "2  17126281        None   \n",
       "\n",
       "                                                                                                                                                                                                                                                                                                                                                                                                                                                                                                                                                                                                                                                                                                                                                                                                                                                                                                                                                                                                                                                                                                                                        pubmedabstract  \\\n",
       "0  Zipper-interacting protein kinase (ZIP kinase) has been thought to be involved in apoptosis and the C-terminal leucine zipper motif is important for its function. Recent studies have revealed that ZIP kinase also plays a role in regulating myosin phosphorylation. Here, we found novel ZIP kinase isoform in which the C-terminal non-kinase domain containing a leucine zipper is eliminated (hZIPK-S). hZIPK-S binds to myosin phosphatase targeting subunit 1(MYPT1) similar to the long isoform (hZIPK-L). In addition, we found that hZIPK-S as well as hZIPK-L bind to myosin. These results indicate that a leucine zipper is not critical for the binding of ZIP kinase to MYPT1 and myosin. Consistently, hZIPK-S localized with stress-fibers where they co-localized with myosin. The residues 278-311, the C-terminal side of the kinase domain common to the both isoforms, is involved in the binding to MYPT1, while the myosin binding domain is within the kinase domain. These results suggest that the newly found hZIPK-S as well as the long isoform play an important role in the regulation of myosin phosphorylation.   \n",
       "1  Zipper-interacting protein kinase (ZIP kinase) has been thought to be involved in apoptosis and the C-terminal leucine zipper motif is important for its function. Recent studies have revealed that ZIP kinase also plays a role in regulating myosin phosphorylation. Here, we found novel ZIP kinase isoform in which the C-terminal non-kinase domain containing a leucine zipper is eliminated (hZIPK-S). hZIPK-S binds to myosin phosphatase targeting subunit 1(MYPT1) similar to the long isoform (hZIPK-L). In addition, we found that hZIPK-S as well as hZIPK-L bind to myosin. These results indicate that a leucine zipper is not critical for the binding of ZIP kinase to MYPT1 and myosin. Consistently, hZIPK-S localized with stress-fibers where they co-localized with myosin. The residues 278-311, the C-terminal side of the kinase domain common to the both isoforms, is involved in the binding to MYPT1, while the myosin binding domain is within the kinase domain. These results suggest that the newly found hZIPK-S as well as the long isoform play an important role in the regulation of myosin phosphorylation.   \n",
       "2  Zipper-interacting protein kinase (ZIP kinase) has been thought to be involved in apoptosis and the C-terminal leucine zipper motif is important for its function. Recent studies have revealed that ZIP kinase also plays a role in regulating myosin phosphorylation. Here, we found novel ZIP kinase isoform in which the C-terminal non-kinase domain containing a leucine zipper is eliminated (hZIPK-S). hZIPK-S binds to myosin phosphatase targeting subunit 1(MYPT1) similar to the long isoform (hZIPK-L). In addition, we found that hZIPK-S as well as hZIPK-L bind to myosin. These results indicate that a leucine zipper is not critical for the binding of ZIP kinase to MYPT1 and myosin. Consistently, hZIPK-S localized with stress-fibers where they co-localized with myosin. The residues 278-311, the C-terminal side of the kinase domain common to the both isoforms, is involved in the binding to MYPT1, while the myosin binding domain is within the kinase domain. These results suggest that the newly found hZIPK-S as well as the long isoform play an important role in the regulation of myosin phosphorylation.   \n",
       "\n",
       "   isValid  \n",
       "0     True  \n",
       "1     True  \n",
       "2     True  "
      ]
     },
     "execution_count": 12,
     "metadata": {},
     "output_type": "execute_result"
    }
   ],
   "source": [
    "data.head(n=3)"
   ]
  },
  {
   "cell_type": "code",
   "execution_count": 13,
   "metadata": {
    "pycharm": {
     "is_executing": true
    }
   },
   "outputs": [
    {
     "data": {
      "text/plain": [
       "(3381, 7)"
      ]
     },
     "execution_count": 13,
     "metadata": {},
     "output_type": "execute_result"
    }
   ],
   "source": [
    "data.shape"
   ]
  },
  {
   "cell_type": "code",
   "execution_count": 14,
   "metadata": {
    "pycharm": {
     "is_executing": true
    }
   },
   "outputs": [],
   "source": [
    "def to_percent(y, position):\n",
    "    # Ignore the passed in position. This has the effect of scaling the default\n",
    "    # tick locations.\n",
    "    s = str(100 * y)\n",
    "\n",
    "    # The percent symbol needs escaping in latex\n",
    "    if matplotlib.rcParams['text.usetex'] is True:\n",
    "        return s + r'$\\%$'\n",
    "    else:\n",
    "        return s + '%'"
   ]
  },
  {
   "cell_type": "markdown",
   "metadata": {},
   "source": [
    "## Duplicate interactions"
   ]
  },
  {
   "cell_type": "code",
   "execution_count": 15,
   "metadata": {
    "pycharm": {
     "is_executing": true
    }
   },
   "outputs": [],
   "source": [
    "def flat_participants_list(list_of_uniprot_dict):\n",
    "    return frozenset([item[\"uniprotid\"]  for item in list_of_uniprot_dict])\n",
    "         \n",
    "data[\"flatparticpants\"]= data[\"participants\"].apply(flat_participants_list)"
   ]
  },
  {
   "cell_type": "code",
   "execution_count": 16,
   "metadata": {
    "pycharm": {
     "is_executing": true
    }
   },
   "outputs": [
    {
     "data": {
      "text/plain": [
       "pubmedId  flatparticpants         interactionType  \n",
       "23560844  (P28482, P35813)        dephosphorylation    17\n",
       "22514276  (Q14524, Q13557)        phosphorylation      12\n",
       "19407811  (Q92831, O60566)        acetylation          10\n",
       "20729810  (P43250, P52205)        phosphorylation       9\n",
       "27373337  (Q9HCE5, Q86U44, None)  methylation           9\n",
       "                                                       ..\n",
       "21887822  (P08107, P53350)        phosphorylation       2\n",
       "          (P23588, P53350)        phosphorylation       2\n",
       "21806020  (P18031, P05556)        dephosphorylation     2\n",
       "21782458  (Q9NRG4, P04637)        methylation           2\n",
       "10366608  (P17612, P48058)        phosphorylation       2\n",
       "Length: 353, dtype: int64"
      ]
     },
     "execution_count": 16,
     "metadata": {},
     "output_type": "execute_result"
    }
   ],
   "source": [
    "data.groupby([\"pubmedId\", \"flatparticpants\", \"interactionType\"])\\\n",
    "    .filter(lambda x: len(x) > 1)\\\n",
    "    .groupby([\"pubmedId\", \"flatparticpants\", \"interactionType\"])\\\n",
    "    .size()\\\n",
    "    .sort_values(ascending=False)\n"
   ]
  },
  {
   "cell_type": "code",
   "execution_count": 17,
   "metadata": {
    "pycharm": {
     "is_executing": true
    }
   },
   "outputs": [
    {
     "data": {
      "text/html": [
       "<div>\n",
       "<style scoped>\n",
       "    .dataframe tbody tr th:only-of-type {\n",
       "        vertical-align: middle;\n",
       "    }\n",
       "\n",
       "    .dataframe tbody tr th {\n",
       "        vertical-align: top;\n",
       "    }\n",
       "\n",
       "    .dataframe thead th {\n",
       "        text-align: right;\n",
       "    }\n",
       "</style>\n",
       "<table border=\"1\" class=\"dataframe\">\n",
       "  <thead>\n",
       "    <tr style=\"text-align: right;\">\n",
       "      <th></th>\n",
       "      <th>pubmedId</th>\n",
       "      <th>flatparticpants</th>\n",
       "      <th>interactionType</th>\n",
       "      <th>interactionId</th>\n",
       "    </tr>\n",
       "  </thead>\n",
       "  <tbody>\n",
       "    <tr>\n",
       "      <th>2348</th>\n",
       "      <td>23560844</td>\n",
       "      <td>(P28482, P35813)</td>\n",
       "      <td>dephosphorylation</td>\n",
       "      <td>1403258</td>\n",
       "    </tr>\n",
       "    <tr>\n",
       "      <th>2349</th>\n",
       "      <td>23560844</td>\n",
       "      <td>(P28482, P35813)</td>\n",
       "      <td>dephosphorylation</td>\n",
       "      <td>1403266</td>\n",
       "    </tr>\n",
       "    <tr>\n",
       "      <th>2350</th>\n",
       "      <td>23560844</td>\n",
       "      <td>(Q16539, P35813)</td>\n",
       "      <td>dephosphorylation</td>\n",
       "      <td>1403273</td>\n",
       "    </tr>\n",
       "    <tr>\n",
       "      <th>2351</th>\n",
       "      <td>23560844</td>\n",
       "      <td>(Q16539, P35813)</td>\n",
       "      <td>dephosphorylation</td>\n",
       "      <td>1403280</td>\n",
       "    </tr>\n",
       "    <tr>\n",
       "      <th>2352</th>\n",
       "      <td>23560844</td>\n",
       "      <td>(P28482, P35813)</td>\n",
       "      <td>dephosphorylation</td>\n",
       "      <td>1403286</td>\n",
       "    </tr>\n",
       "    <tr>\n",
       "      <th>2353</th>\n",
       "      <td>23560844</td>\n",
       "      <td>(P28482, P35813)</td>\n",
       "      <td>dephosphorylation</td>\n",
       "      <td>1403295</td>\n",
       "    </tr>\n",
       "    <tr>\n",
       "      <th>2354</th>\n",
       "      <td>23560844</td>\n",
       "      <td>(P28482, P35813)</td>\n",
       "      <td>dephosphorylation</td>\n",
       "      <td>1403303</td>\n",
       "    </tr>\n",
       "    <tr>\n",
       "      <th>2355</th>\n",
       "      <td>23560844</td>\n",
       "      <td>(P28482, P35813)</td>\n",
       "      <td>dephosphorylation</td>\n",
       "      <td>1403312</td>\n",
       "    </tr>\n",
       "    <tr>\n",
       "      <th>2356</th>\n",
       "      <td>23560844</td>\n",
       "      <td>(P28482, P35813)</td>\n",
       "      <td>dephosphorylation</td>\n",
       "      <td>1403321</td>\n",
       "    </tr>\n",
       "    <tr>\n",
       "      <th>2357</th>\n",
       "      <td>23560844</td>\n",
       "      <td>(P28482, P35813)</td>\n",
       "      <td>dephosphorylation</td>\n",
       "      <td>1403330</td>\n",
       "    </tr>\n",
       "    <tr>\n",
       "      <th>2358</th>\n",
       "      <td>23560844</td>\n",
       "      <td>(P28482, P35813)</td>\n",
       "      <td>dephosphorylation</td>\n",
       "      <td>1403339</td>\n",
       "    </tr>\n",
       "    <tr>\n",
       "      <th>2359</th>\n",
       "      <td>23560844</td>\n",
       "      <td>(P28482, P35813)</td>\n",
       "      <td>dephosphorylation</td>\n",
       "      <td>1403347</td>\n",
       "    </tr>\n",
       "    <tr>\n",
       "      <th>2360</th>\n",
       "      <td>23560844</td>\n",
       "      <td>(P28482, P35813)</td>\n",
       "      <td>dephosphorylation</td>\n",
       "      <td>1403355</td>\n",
       "    </tr>\n",
       "    <tr>\n",
       "      <th>2361</th>\n",
       "      <td>23560844</td>\n",
       "      <td>(P28482, P35813)</td>\n",
       "      <td>dephosphorylation</td>\n",
       "      <td>1403363</td>\n",
       "    </tr>\n",
       "    <tr>\n",
       "      <th>2362</th>\n",
       "      <td>23560844</td>\n",
       "      <td>(P28482, P35813)</td>\n",
       "      <td>dephosphorylation</td>\n",
       "      <td>1403372</td>\n",
       "    </tr>\n",
       "    <tr>\n",
       "      <th>2363</th>\n",
       "      <td>23560844</td>\n",
       "      <td>(P28482, P35813)</td>\n",
       "      <td>dephosphorylation</td>\n",
       "      <td>1403381</td>\n",
       "    </tr>\n",
       "    <tr>\n",
       "      <th>2364</th>\n",
       "      <td>23560844</td>\n",
       "      <td>(P28482, P35813)</td>\n",
       "      <td>dephosphorylation</td>\n",
       "      <td>1403390</td>\n",
       "    </tr>\n",
       "    <tr>\n",
       "      <th>2365</th>\n",
       "      <td>23560844</td>\n",
       "      <td>(P28482, P35813)</td>\n",
       "      <td>dephosphorylation</td>\n",
       "      <td>1403398</td>\n",
       "    </tr>\n",
       "    <tr>\n",
       "      <th>2366</th>\n",
       "      <td>23560844</td>\n",
       "      <td>(P28482, P35813)</td>\n",
       "      <td>dephosphorylation</td>\n",
       "      <td>1403406</td>\n",
       "    </tr>\n",
       "  </tbody>\n",
       "</table>\n",
       "</div>"
      ],
      "text/plain": [
       "      pubmedId   flatparticpants    interactionType interactionId\n",
       "2348  23560844  (P28482, P35813)  dephosphorylation       1403258\n",
       "2349  23560844  (P28482, P35813)  dephosphorylation       1403266\n",
       "2350  23560844  (Q16539, P35813)  dephosphorylation       1403273\n",
       "2351  23560844  (Q16539, P35813)  dephosphorylation       1403280\n",
       "2352  23560844  (P28482, P35813)  dephosphorylation       1403286\n",
       "2353  23560844  (P28482, P35813)  dephosphorylation       1403295\n",
       "2354  23560844  (P28482, P35813)  dephosphorylation       1403303\n",
       "2355  23560844  (P28482, P35813)  dephosphorylation       1403312\n",
       "2356  23560844  (P28482, P35813)  dephosphorylation       1403321\n",
       "2357  23560844  (P28482, P35813)  dephosphorylation       1403330\n",
       "2358  23560844  (P28482, P35813)  dephosphorylation       1403339\n",
       "2359  23560844  (P28482, P35813)  dephosphorylation       1403347\n",
       "2360  23560844  (P28482, P35813)  dephosphorylation       1403355\n",
       "2361  23560844  (P28482, P35813)  dephosphorylation       1403363\n",
       "2362  23560844  (P28482, P35813)  dephosphorylation       1403372\n",
       "2363  23560844  (P28482, P35813)  dephosphorylation       1403381\n",
       "2364  23560844  (P28482, P35813)  dephosphorylation       1403390\n",
       "2365  23560844  (P28482, P35813)  dephosphorylation       1403398\n",
       "2366  23560844  (P28482, P35813)  dephosphorylation       1403406"
      ]
     },
     "execution_count": 17,
     "metadata": {},
     "output_type": "execute_result"
    }
   ],
   "source": [
    "data.query(\"pubmedId=='23560844'\")[[\"pubmedId\",  \"flatparticpants\", \"interactionType\",\"interactionId\"]]\\\n",
    "    .sort_values(by=\"interactionId\")"
   ]
  },
  {
   "cell_type": "markdown",
   "metadata": {},
   "source": [
    "### Number of interactions per paper\n",
    "**Note: The number of interactions per paper only takes the filtered interactions extracted from the Intact database**"
   ]
  },
  {
   "cell_type": "code",
   "execution_count": 18,
   "metadata": {
    "pycharm": {
     "is_executing": true
    }
   },
   "outputs": [
    {
     "name": "stderr",
     "output_type": "stream",
     "text": [
      "/Users/aeg/venv/PPI-typed-relation-extractor/lib/python3.7/site-packages/matplotlib/font_manager.py:1238: UserWarning: findfont: Font family ['sans-serif'] not found. Falling back to DejaVu Sans.\n",
      "  (prop.get_family(), self.defaultFamily[fontext]))\n"
     ]
    },
    {
     "data": {
      "image/png": "[encoded data removed]",
      "text/plain": [
       "<Figure size 720x360 with 1 Axes>"
      ]
     },
     "metadata": {
      "needs_background": "light"
     },
     "output_type": "display_data"
    }
   ],
   "source": [
    "import matplotlib.pyplot as plt\n",
    "import numpy as np \n",
    "\n",
    "ax = plt.axes( yscale='log')\n",
    "ax.xaxis.set_major_locator(plt.MaxNLocator(10, prune='lower'))\n",
    "\n",
    "#sns.distplot(data.pubmedId.value_counts().tolist(), bins=100, kde=False, norm_hist=True)\n",
    "\n",
    "data.pubmedId.value_counts().plot.hist (bins=250,figsize=(10,5), ax=ax, color='dodgerblue')\n",
    "plt.title('Histogram - number of interactions per pubmed')\n",
    "plt.xlabel('Number of interactions per Pubmed paper')\n",
    "plt.ylabel('Frequency')\n",
    "#plt.show()\n",
    "plt.savefig('PaperVsInteractions.eps', bbox_inches='tight')\n",
    "plt.savefig('PaperVsInteractions.png', bbox_inches='tight')\n",
    "plt.show()"
   ]
  },
  {
   "cell_type": "code",
   "execution_count": 19,
   "metadata": {
    "pycharm": {
     "is_executing": true
    }
   },
   "outputs": [
    {
     "data": {
      "image/png": "[encoded data removed]",
      "text/plain": [
       "<Figure size 1080x360 with 1 Axes>"
      ]
     },
     "metadata": {
      "needs_background": "light"
     },
     "output_type": "display_data"
    }
   ],
   "source": [
    "df = data.pubmedId.value_counts().hist (bins=range(1, 30), figsize=(15,5), color = 'red')\n",
    "\n",
    "plt.title('Papers vs number of interactions distribution ( Filtered distribution of interactions between 1 to 30)')\n",
    "plt.xlabel('Number of interactions per paper')\n",
    "plt.ylabel('Total number of papers')\n",
    "\n",
    "plt.show()"
   ]
  },
  {
   "cell_type": "markdown",
   "metadata": {},
   "source": [
    "### Interaction Types distribution"
   ]
  },
  {
   "cell_type": "code",
   "execution_count": 20,
   "metadata": {
    "pycharm": {
     "is_executing": true
    }
   },
   "outputs": [
    {
     "data": {
      "image/png": "[encoded data removed]",
      "text/plain": [
       "<Figure size 576x576 with 1 Axes>"
      ]
     },
     "metadata": {},
     "output_type": "display_data"
    }
   ],
   "source": [
    "data.interactionType.value_counts().plot.pie(autopct='%.2f',figsize=(8, 8))\n",
    "plt.title('Interaction Type Distribution')\n",
    "plt.savefig(\"Interactiontype.svg\")\n",
    "plt.show()"
   ]
  },
  {
   "cell_type": "code",
   "execution_count": 21,
   "metadata": {
    "pycharm": {
     "is_executing": true
    }
   },
   "outputs": [
    {
     "data": {
      "text/html": [
       "<div>\n",
       "<style scoped>\n",
       "    .dataframe tbody tr th:only-of-type {\n",
       "        vertical-align: middle;\n",
       "    }\n",
       "\n",
       "    .dataframe tbody tr th {\n",
       "        vertical-align: top;\n",
       "    }\n",
       "\n",
       "    .dataframe thead th {\n",
       "        text-align: right;\n",
       "    }\n",
       "</style>\n",
       "<table border=\"1\" class=\"dataframe\">\n",
       "  <thead>\n",
       "    <tr style=\"text-align: right;\">\n",
       "      <th></th>\n",
       "      <th>interactionType</th>\n",
       "    </tr>\n",
       "  </thead>\n",
       "  <tbody>\n",
       "    <tr>\n",
       "      <th>phosphorylation</th>\n",
       "      <td>2446</td>\n",
       "    </tr>\n",
       "    <tr>\n",
       "      <th>dephosphorylation</th>\n",
       "      <td>437</td>\n",
       "    </tr>\n",
       "    <tr>\n",
       "      <th>ubiquitination</th>\n",
       "      <td>226</td>\n",
       "    </tr>\n",
       "    <tr>\n",
       "      <th>methylation</th>\n",
       "      <td>134</td>\n",
       "    </tr>\n",
       "    <tr>\n",
       "      <th>acetylation</th>\n",
       "      <td>70</td>\n",
       "    </tr>\n",
       "    <tr>\n",
       "      <th>demethylation</th>\n",
       "      <td>37</td>\n",
       "    </tr>\n",
       "    <tr>\n",
       "      <th>deubiquitination</th>\n",
       "      <td>31</td>\n",
       "    </tr>\n",
       "  </tbody>\n",
       "</table>\n",
       "</div>"
      ],
      "text/plain": [
       "                   interactionType\n",
       "phosphorylation               2446\n",
       "dephosphorylation              437\n",
       "ubiquitination                 226\n",
       "methylation                    134\n",
       "acetylation                     70\n",
       "demethylation                   37\n",
       "deubiquitination                31"
      ]
     },
     "execution_count": 21,
     "metadata": {},
     "output_type": "execute_result"
    }
   ],
   "source": [
    "data.interactionType.value_counts().to_frame()"
   ]
  },
  {
   "cell_type": "markdown",
   "metadata": {},
   "source": [
    "### Distinct interaction types per paper"
   ]
  },
  {
   "cell_type": "code",
   "execution_count": 22,
   "metadata": {
    "pycharm": {
     "is_executing": true
    }
   },
   "outputs": [
    {
     "data": {
      "image/png": "[encoded data removed]",
      "text/plain": [
       "<Figure size 432x288 with 1 Axes>"
      ]
     },
     "metadata": {
      "needs_background": "light"
     },
     "output_type": "display_data"
    }
   ],
   "source": [
    "import numpy as np\n",
    "\n",
    "distinct_no_papers = data['pubmedId'].nunique()\n",
    "\n",
    "data.groupby('pubmedId')['interactionType'].nunique().hist(bins=100, density=1)\n",
    "plt.title(\"Number of unique interaction types per paper\")\n",
    "plt.xlabel('Number of unique interaction types')\n",
    "plt.ylabel('Percentage of Pubmed papers'.format(distinct_no_papers))\n",
    "plt.show()\n"
   ]
  },
  {
   "cell_type": "markdown",
   "metadata": {},
   "source": [
    "### Postive vs Negative Relationships"
   ]
  },
  {
   "cell_type": "code",
   "execution_count": 23,
   "metadata": {
    "pycharm": {
     "is_executing": true
    }
   },
   "outputs": [
    {
     "data": {
      "image/png": "[encoded data removed]",
      "text/plain": [
       "<Figure size 360x360 with 1 Axes>"
      ]
     },
     "metadata": {},
     "output_type": "display_data"
    }
   ],
   "source": [
    "data.isValid.value_counts().plot.pie(autopct='%.2f',figsize=(5, 5))\n",
    "plt.title('Is Valid relationship')\n",
    "plt.show()"
   ]
  },
  {
   "cell_type": "markdown",
   "metadata": {},
   "source": [
    "### Number of participants per interaction"
   ]
  },
  {
   "cell_type": "code",
   "execution_count": 24,
   "metadata": {
    "pycharm": {
     "is_executing": true
    },
    "scrolled": true
   },
   "outputs": [
    {
     "data": {
      "image/png": "[encoded data removed]",
      "text/plain": [
       "<Figure size 360x360 with 1 Axes>"
      ]
     },
     "metadata": {
      "needs_background": "light"
     },
     "output_type": "display_data"
    }
   ],
   "source": [
    "import numpy as np\n",
    "import matplotlib.ticker as mtick\n",
    "\n",
    "\n",
    "fig, ax = plt.subplots( 1,1, figsize=(15,5))\n",
    "\n",
    "\n",
    "\n",
    "#fig, ax = plt.subplots( 7,1, figsize=(45,30))\n",
    "c_ax= ax\n",
    "c_ax.yaxis.set_major_formatter(mtick.PercentFormatter())\n",
    "\n",
    "data['participants_count'] = data[\"participants\"].apply(lambda x: len(x))\n",
    "\n",
    "data['participants_count'].hist (bins=50, ax=c_ax, figsize=(5,5), color = 'dodgerblue',  weights = np.ones_like(data['participants_count'].index)*100 / len(data['participants_count'].index))\n",
    "plt.title(\"Participants count per interaction\")\n",
    "plt.xlabel('Number of participants per interaction')\n",
    "plt.ylabel('Percentage of interactions')\n",
    "plt.savefig(\"ParticipantsPerInteraction.eps\")\n",
    "plt.show()"
   ]
  },
  {
   "cell_type": "markdown",
   "metadata": {},
   "source": [
    "### Explore if the abstract contains the trigger word"
   ]
  },
  {
   "cell_type": "code",
   "execution_count": 25,
   "metadata": {
    "pycharm": {
     "is_executing": true
    }
   },
   "outputs": [
    {
     "name": "stdout",
     "output_type": "stream",
     "text": [
      "Requirement already satisfied: nltk==3.4.5 in /Users/aeg/venv/PPI-typed-relation-extractor/lib/python3.7/site-packages (3.4.5)\n",
      "Requirement already satisfied: six in /Users/aeg/venv/PPI-typed-relation-extractor/lib/python3.7/site-packages (from nltk==3.4.5) (1.15.0)\n",
      "\u001b[33mWARNING: You are using pip version 21.0.1; however, version 21.1.1 is available.\n",
      "You should consider upgrading via the '/Users/aeg/venv/PPI-typed-relation-extractor/bin/python -m pip install --upgrade pip' command.\u001b[0m\n"
     ]
    }
   ],
   "source": [
    "!pip install nltk==3.4.5"
   ]
  },
  {
   "cell_type": "code",
   "execution_count": 26,
   "metadata": {
    "pycharm": {
     "is_executing": true
    }
   },
   "outputs": [
    {
     "name": "stdout",
     "output_type": "stream",
     "text": [
      "0      phosphoryl\n",
      "1    dephosphoryl\n",
      "2          methyl\n",
      "3          acetyl\n",
      "4     deubiquitin\n",
      "5       ubiquitin\n",
      "6        demethyl\n",
      "dtype: object\n"
     ]
    }
   ],
   "source": [
    "from nltk.stem import PorterStemmer\n",
    "from nltk.tokenize import sent_tokenize, word_tokenize\n",
    "\n",
    "stemmer = PorterStemmer()\n",
    "print(pd.DataFrame(data.interactionType.unique()).apply(lambda r: stemmer.stem(r.iloc[0].lower()), axis=1))\n",
    "\n",
    "data[\"hasTriggerWord\"] = data.apply(lambda r: stemmer.stem(r[\"interactionType\"].lower()) in r[\"pubmedabstract\"].lower() , 1)"
   ]
  },
  {
   "cell_type": "code",
   "execution_count": 27,
   "metadata": {
    "pycharm": {
     "is_executing": true
    }
   },
   "outputs": [
    {
     "data": {
      "image/png": "[encoded data removed]",
      "text/plain": [
       "<Figure size 360x360 with 1 Axes>"
      ]
     },
     "metadata": {},
     "output_type": "display_data"
    }
   ],
   "source": [
    "data.hasTriggerWord.value_counts().plot.pie(autopct='%.2f',figsize=(5, 5))\n",
    "plt.title('Has trigger word')\n",
    "plt.show()"
   ]
  },
  {
   "cell_type": "code",
   "execution_count": 28,
   "metadata": {
    "pycharm": {
     "is_executing": true
    }
   },
   "outputs": [
    {
     "data": {
      "text/html": [
       "<div>\n",
       "<style scoped>\n",
       "    .dataframe tbody tr th:only-of-type {\n",
       "        vertical-align: middle;\n",
       "    }\n",
       "\n",
       "    .dataframe tbody tr th {\n",
       "        vertical-align: top;\n",
       "    }\n",
       "\n",
       "    .dataframe thead th {\n",
       "        text-align: right;\n",
       "    }\n",
       "</style>\n",
       "<table border=\"1\" class=\"dataframe\">\n",
       "  <thead>\n",
       "    <tr style=\"text-align: right;\">\n",
       "      <th>hasTriggerWord</th>\n",
       "      <th>False</th>\n",
       "      <th>True</th>\n",
       "    </tr>\n",
       "    <tr>\n",
       "      <th>interactionType</th>\n",
       "      <th></th>\n",
       "      <th></th>\n",
       "    </tr>\n",
       "  </thead>\n",
       "  <tbody>\n",
       "    <tr>\n",
       "      <th>acetylation</th>\n",
       "      <td>7.1</td>\n",
       "      <td>92.9</td>\n",
       "    </tr>\n",
       "    <tr>\n",
       "      <th>demethylation</th>\n",
       "      <td>2.7</td>\n",
       "      <td>97.3</td>\n",
       "    </tr>\n",
       "    <tr>\n",
       "      <th>dephosphorylation</th>\n",
       "      <td>11.4</td>\n",
       "      <td>88.6</td>\n",
       "    </tr>\n",
       "    <tr>\n",
       "      <th>deubiquitination</th>\n",
       "      <td>22.6</td>\n",
       "      <td>77.4</td>\n",
       "    </tr>\n",
       "    <tr>\n",
       "      <th>methylation</th>\n",
       "      <td>0.7</td>\n",
       "      <td>99.3</td>\n",
       "    </tr>\n",
       "    <tr>\n",
       "      <th>phosphorylation</th>\n",
       "      <td>10.1</td>\n",
       "      <td>89.9</td>\n",
       "    </tr>\n",
       "    <tr>\n",
       "      <th>ubiquitination</th>\n",
       "      <td>1.8</td>\n",
       "      <td>98.2</td>\n",
       "    </tr>\n",
       "  </tbody>\n",
       "</table>\n",
       "</div>"
      ],
      "text/plain": [
       "hasTriggerWord     False  True \n",
       "interactionType                \n",
       "acetylation          7.1   92.9\n",
       "demethylation        2.7   97.3\n",
       "dephosphorylation   11.4   88.6\n",
       "deubiquitination    22.6   77.4\n",
       "methylation          0.7   99.3\n",
       "phosphorylation     10.1   89.9\n",
       "ubiquitination       1.8   98.2"
      ]
     },
     "execution_count": 28,
     "metadata": {},
     "output_type": "execute_result"
    }
   ],
   "source": [
    "data.groupby([ 'interactionType','hasTriggerWord']).size().unstack().apply(lambda x: round(x/sum(x),3)*100, axis=1)\n"
   ]
  },
  {
   "cell_type": "markdown",
   "metadata": {},
   "source": [
    "### Explore how many of the entity alias are mentioned in the abstract"
   ]
  },
  {
   "cell_type": "code",
   "execution_count": 29,
   "metadata": {
    "pycharm": {
     "is_executing": true
    }
   },
   "outputs": [
    {
     "name": "stdout",
     "output_type": "stream",
     "text": [
      "CPU times: user 19.7 s, sys: 59.8 ms, total: 19.8 s\n",
      "Wall time: 19.6 s\n"
     ]
    }
   ],
   "source": [
    "%%time \n",
    "\n",
    "from difflib import SequenceMatcher\n",
    "def getEntityMentionsCount(r):\n",
    "    count = 0\n",
    "    abstract = r[\"pubmedabstract\"].lower()\n",
    "    abstract_len= len(abstract)\n",
    "    for p in r[\"participants\"]:\n",
    "        if p is None or p['alias'] is None : continue\n",
    "        \n",
    "        for a in p['alias']:\n",
    "            alias = a[0].lower()\n",
    "            s = SequenceMatcher(None, abstract, alias)\n",
    "            _,_,match_size = s.find_longest_match(0, len(abstract), 0, len(alias))\n",
    "            if match_size >= 3 and match_size >= len(alias)/2 :\n",
    "                count += 1\n",
    "        \n",
    "    return count\n",
    "        \n",
    "\n",
    "data[\"entityMentionsCount\"] = data.apply(lambda r: getEntityMentionsCount(r)  , 1)"
   ]
  },
  {
   "cell_type": "code",
   "execution_count": 30,
   "metadata": {
    "pycharm": {
     "is_executing": true
    }
   },
   "outputs": [
    {
     "data": {
      "image/png": "[encoded data removed]",
      "text/plain": [
       "<Figure size 1080x360 with 1 Axes>"
      ]
     },
     "metadata": {
      "needs_background": "light"
     },
     "output_type": "display_data"
    }
   ],
   "source": [
    "data['entityMentionsCount'].hist ( bins=150, figsize=(15,5), color = 'red')\n",
    "plt.title('Entity mentions count distribution')\n",
    "plt.xlabel('Entity name mentions count in abstract')\n",
    "plt.ylabel('Total number of interactions')\n",
    "\n",
    "plt.show()"
   ]
  },
  {
   "cell_type": "code",
   "execution_count": 31,
   "metadata": {
    "pycharm": {
     "is_executing": true
    }
   },
   "outputs": [
    {
     "data": {
      "image/png": "[encoded data removed]",
      "text/plain": [
       "<Figure size 432x288 with 1 Axes>"
      ]
     },
     "metadata": {},
     "output_type": "display_data"
    }
   ],
   "source": [
    "(data['entityMentionsCount'] > 0).value_counts().plot.pie(autopct='%.2f')\n",
    "plt.title(\"Percentage of interactions with entity mentions \")\n",
    "plt.ylabel(\"Entity mentions > 0\")\n",
    "plt.show()"
   ]
  },
  {
   "cell_type": "markdown",
   "metadata": {},
   "source": [
    "### Randomly eye ball interactions with no entity mentions"
   ]
  },
  {
   "cell_type": "code",
   "execution_count": 32,
   "metadata": {
    "pycharm": {
     "is_executing": true
    }
   },
   "outputs": [
    {
     "data": {
      "text/html": [
       "<div>\n",
       "<style scoped>\n",
       "    .dataframe tbody tr th:only-of-type {\n",
       "        vertical-align: middle;\n",
       "    }\n",
       "\n",
       "    .dataframe tbody tr th {\n",
       "        vertical-align: top;\n",
       "    }\n",
       "\n",
       "    .dataframe thead th {\n",
       "        text-align: right;\n",
       "    }\n",
       "</style>\n",
       "<table border=\"1\" class=\"dataframe\">\n",
       "  <thead>\n",
       "    <tr style=\"text-align: right;\">\n",
       "      <th></th>\n",
       "      <th>participants</th>\n",
       "      <th>pubmedabstract</th>\n",
       "    </tr>\n",
       "  </thead>\n",
       "  <tbody>\n",
       "    <tr>\n",
       "      <th>809</th>\n",
       "      <td>[{'uniprotid': 'P68400', 'alias': [['csk21_human'], ['Casein kinase II subunit alpha'], ['CSNK2A1'], ['CK2A1']], 'alternative_uniprots': ['Q5U065', 'Q14013', 'P19138', 'B4DYS6', 'P20426', 'D3DVV8']}, {'uniprotid': 'P08238', 'alias': [['hs90b_human'], ['Heat shock protein HSP 90-beta'], ['HSP90AB1'], ['HSP90B'], ['HSPC2'], ['HSPCB'], ['Heat shock 84 kDa']], 'alternative_uniprots': ['Q9NTK6', 'Q5T9W7', 'B2R5P0', 'Q9NQW0']}]</td>\n",
       "      <td>Deciphering the kinase-substrate relationship is vital for the study of phosphorylation network. The use of immobilized proteins on protein chip as the library for screening of potential kinase substrates is a tried-and-tested method. However, information on phosphorylation sites is lacking and the creation of the library with proteins of whole proteome by recombinant expression is costly and difficult. In this study, a new solid-phase approach by immobilization of proteins from cell lysate onto beads as a protein library for kinase substrate screening was developed. It was found that consensus phosphorylation sites motif for kinase substrates could be accurately determined and hundreds of in vitro kinase substrates and their phosphorylation sites could be identified by using this method.</td>\n",
       "    </tr>\n",
       "    <tr>\n",
       "      <th>774</th>\n",
       "      <td>[{'uniprotid': 'P20042', 'alias': [['if2b_human'], ['Eukaryotic translation initiation factor 2 subunit 2'], ['Eukaryotic translation initiation factor 2 subunit beta'], ['EIF2S2'], ['EIF2B']], 'alternative_uniprots': ['Q9UJE4', 'Q9BVU0']}, {'uniprotid': 'P68400', 'alias': [['csk21_human'], ['Casein kinase II subunit alpha'], ['CSNK2A1'], ['CK2A1']], 'alternative_uniprots': ['Q5U065', 'Q14013', 'P19138', 'B4DYS6', 'P20426', 'D3DVV8']}]</td>\n",
       "      <td>Deciphering the kinase-substrate relationship is vital for the study of phosphorylation network. The use of immobilized proteins on protein chip as the library for screening of potential kinase substrates is a tried-and-tested method. However, information on phosphorylation sites is lacking and the creation of the library with proteins of whole proteome by recombinant expression is costly and difficult. In this study, a new solid-phase approach by immobilization of proteins from cell lysate onto beads as a protein library for kinase substrate screening was developed. It was found that consensus phosphorylation sites motif for kinase substrates could be accurately determined and hundreds of in vitro kinase substrates and their phosphorylation sites could be identified by using this method.</td>\n",
       "    </tr>\n",
       "    <tr>\n",
       "      <th>808</th>\n",
       "      <td>[{'uniprotid': 'P68400', 'alias': [['csk21_human'], ['Casein kinase II subunit alpha'], ['CSNK2A1'], ['CK2A1']], 'alternative_uniprots': ['Q5U065', 'Q14013', 'P19138', 'B4DYS6', 'P20426', 'D3DVV8']}, {'uniprotid': 'Q5JSH3-1', 'alias': [['q5jsh3-1'], ['WD repeat-containing protein 44'], ['WDR44'], ['Rabphilin-11']], 'alternative_uniprots': []}]</td>\n",
       "      <td>Deciphering the kinase-substrate relationship is vital for the study of phosphorylation network. The use of immobilized proteins on protein chip as the library for screening of potential kinase substrates is a tried-and-tested method. However, information on phosphorylation sites is lacking and the creation of the library with proteins of whole proteome by recombinant expression is costly and difficult. In this study, a new solid-phase approach by immobilization of proteins from cell lysate onto beads as a protein library for kinase substrate screening was developed. It was found that consensus phosphorylation sites motif for kinase substrates could be accurately determined and hundreds of in vitro kinase substrates and their phosphorylation sites could be identified by using this method.</td>\n",
       "    </tr>\n",
       "  </tbody>\n",
       "</table>\n",
       "</div>"
      ],
      "text/plain": [
       "                                                                                                                                                                                                                                                                                                                                                                                                                                                participants  \\\n",
       "809                [{'uniprotid': 'P68400', 'alias': [['csk21_human'], ['Casein kinase II subunit alpha'], ['CSNK2A1'], ['CK2A1']], 'alternative_uniprots': ['Q5U065', 'Q14013', 'P19138', 'B4DYS6', 'P20426', 'D3DVV8']}, {'uniprotid': 'P08238', 'alias': [['hs90b_human'], ['Heat shock protein HSP 90-beta'], ['HSP90AB1'], ['HSP90B'], ['HSPC2'], ['HSPCB'], ['Heat shock 84 kDa']], 'alternative_uniprots': ['Q9NTK6', 'Q5T9W7', 'B2R5P0', 'Q9NQW0']}]   \n",
       "774  [{'uniprotid': 'P20042', 'alias': [['if2b_human'], ['Eukaryotic translation initiation factor 2 subunit 2'], ['Eukaryotic translation initiation factor 2 subunit beta'], ['EIF2S2'], ['EIF2B']], 'alternative_uniprots': ['Q9UJE4', 'Q9BVU0']}, {'uniprotid': 'P68400', 'alias': [['csk21_human'], ['Casein kinase II subunit alpha'], ['CSNK2A1'], ['CK2A1']], 'alternative_uniprots': ['Q5U065', 'Q14013', 'P19138', 'B4DYS6', 'P20426', 'D3DVV8']}]   \n",
       "808                                                                                                [{'uniprotid': 'P68400', 'alias': [['csk21_human'], ['Casein kinase II subunit alpha'], ['CSNK2A1'], ['CK2A1']], 'alternative_uniprots': ['Q5U065', 'Q14013', 'P19138', 'B4DYS6', 'P20426', 'D3DVV8']}, {'uniprotid': 'Q5JSH3-1', 'alias': [['q5jsh3-1'], ['WD repeat-containing protein 44'], ['WDR44'], ['Rabphilin-11']], 'alternative_uniprots': []}]   \n",
       "\n",
       "                                                                                                                                                                                                                                                                                                                                                                                                                                                                                                                                                                                                                                                                                                                                                                                                                      pubmedabstract  \n",
       "809  Deciphering the kinase-substrate relationship is vital for the study of phosphorylation network. The use of immobilized proteins on protein chip as the library for screening of potential kinase substrates is a tried-and-tested method. However, information on phosphorylation sites is lacking and the creation of the library with proteins of whole proteome by recombinant expression is costly and difficult. In this study, a new solid-phase approach by immobilization of proteins from cell lysate onto beads as a protein library for kinase substrate screening was developed. It was found that consensus phosphorylation sites motif for kinase substrates could be accurately determined and hundreds of in vitro kinase substrates and their phosphorylation sites could be identified by using this method.  \n",
       "774  Deciphering the kinase-substrate relationship is vital for the study of phosphorylation network. The use of immobilized proteins on protein chip as the library for screening of potential kinase substrates is a tried-and-tested method. However, information on phosphorylation sites is lacking and the creation of the library with proteins of whole proteome by recombinant expression is costly and difficult. In this study, a new solid-phase approach by immobilization of proteins from cell lysate onto beads as a protein library for kinase substrate screening was developed. It was found that consensus phosphorylation sites motif for kinase substrates could be accurately determined and hundreds of in vitro kinase substrates and their phosphorylation sites could be identified by using this method.  \n",
       "808  Deciphering the kinase-substrate relationship is vital for the study of phosphorylation network. The use of immobilized proteins on protein chip as the library for screening of potential kinase substrates is a tried-and-tested method. However, information on phosphorylation sites is lacking and the creation of the library with proteins of whole proteome by recombinant expression is costly and difficult. In this study, a new solid-phase approach by immobilization of proteins from cell lysate onto beads as a protein library for kinase substrate screening was developed. It was found that consensus phosphorylation sites motif for kinase substrates could be accurately determined and hundreds of in vitro kinase substrates and their phosphorylation sites could be identified by using this method.  "
      ]
     },
     "execution_count": 32,
     "metadata": {},
     "output_type": "execute_result"
    }
   ],
   "source": [
    "\n",
    "data.query('entityMentionsCount == 0')[['participants','pubmedabstract' ]].sample(n=3)\n"
   ]
  },
  {
   "cell_type": "code",
   "execution_count": 33,
   "metadata": {
    "pycharm": {
     "is_executing": true
    }
   },
   "outputs": [
    {
     "data": {
      "text/html": [
       "<div>\n",
       "<style scoped>\n",
       "    .dataframe tbody tr th:only-of-type {\n",
       "        vertical-align: middle;\n",
       "    }\n",
       "\n",
       "    .dataframe tbody tr th {\n",
       "        vertical-align: top;\n",
       "    }\n",
       "\n",
       "    .dataframe thead th {\n",
       "        text-align: right;\n",
       "    }\n",
       "</style>\n",
       "<table border=\"1\" class=\"dataframe\">\n",
       "  <thead>\n",
       "    <tr style=\"text-align: right;\">\n",
       "      <th></th>\n",
       "      <th>interactionId</th>\n",
       "      <th>interactionType</th>\n",
       "      <th>participants</th>\n",
       "      <th>pubmedId</th>\n",
       "      <th>pubmedTitle</th>\n",
       "      <th>pubmedabstract</th>\n",
       "      <th>isValid</th>\n",
       "      <th>flatparticpants</th>\n",
       "      <th>participants_count</th>\n",
       "      <th>hasTriggerWord</th>\n",
       "      <th>entityMentionsCount</th>\n",
       "    </tr>\n",
       "  </thead>\n",
       "  <tbody>\n",
       "    <tr>\n",
       "      <th>0</th>\n",
       "      <td>1585513</td>\n",
       "      <td>phosphorylation</td>\n",
       "      <td>[{'uniprotid': 'Q10728', 'alias': [['mypt1_rat'], ['Protein phosphatase 1 regulatory subunit 12A'], ['Ppp1r12a'], ['Mbs'], ['Mypt1'], ['Myosin phosphatase-targeting subunit 1'], ['Protein phosphatase myosin-binding subunit'], ['MBSP'], ['Serine/threonine protein phosphatase PP1 smooth muscle regulatory subunit M110'], ['Protein phosphatase subunit 1M']], 'alternative_uniprots': ['Q62937', 'Q9WU33']}, {'uniprotid': 'O43293-2', 'alias': [['o43293-2'], ['Death-associated protein kinase 3'], ['ZIPK-S'], ['DAPK3'], ['ZIPK'], ['DAP-like kinase'], ['MYPT1 kinase'], ['Zipper-interacting protein kinase']], 'alternative_uniprots': []}]</td>\n",
       "      <td>17126281</td>\n",
       "      <td>None</td>\n",
       "      <td>Zipper-interacting protein kinase (ZIP kinase) has been thought to be involved in apoptosis and the C-terminal leucine zipper motif is important for its function. Recent studies have revealed that ZIP kinase also plays a role in regulating myosin phosphorylation. Here, we found novel ZIP kinase isoform in which the C-terminal non-kinase domain containing a leucine zipper is eliminated (hZIPK-S). hZIPK-S binds to myosin phosphatase targeting subunit 1(MYPT1) similar to the long isoform (hZIPK-L). In addition, we found that hZIPK-S as well as hZIPK-L bind to myosin. These results indicate that a leucine zipper is not critical for the binding of ZIP kinase to MYPT1 and myosin. Consistently, hZIPK-S localized with stress-fibers where they co-localized with myosin. The residues 278-311, the C-terminal side of the kinase domain common to the both isoforms, is involved in the binding to MYPT1, while the myosin binding domain is within the kinase domain. These results suggest that the newly found hZIPK-S as well as the long isoform play an important role in the regulation of myosin phosphorylation.</td>\n",
       "      <td>True</td>\n",
       "      <td>(O43293-2, Q10728)</td>\n",
       "      <td>2</td>\n",
       "      <td>True</td>\n",
       "      <td>9</td>\n",
       "    </tr>\n",
       "    <tr>\n",
       "      <th>1</th>\n",
       "      <td>1585516</td>\n",
       "      <td>phosphorylation</td>\n",
       "      <td>[{'uniprotid': 'O43293-1', 'alias': [['o43293-1'], ['Death-associated protein kinase 3'], ['ZIPK-L'], ['DAPK3'], ['ZIPK'], ['DAP-like kinase'], ['MYPT1 kinase'], ['Zipper-interacting protein kinase']], 'alternative_uniprots': []}, {'uniprotid': 'Q10728', 'alias': [['mypt1_rat'], ['Protein phosphatase 1 regulatory subunit 12A'], ['Ppp1r12a'], ['Mbs'], ['Mypt1'], ['Myosin phosphatase-targeting subunit 1'], ['Protein phosphatase myosin-binding subunit'], ['MBSP'], ['Serine/threonine protein phosphatase PP1 smooth muscle regulatory subunit M110'], ['Protein phosphatase subunit 1M']], 'alternative_uniprots': ['Q62937', 'Q9WU33']}]</td>\n",
       "      <td>17126281</td>\n",
       "      <td>None</td>\n",
       "      <td>Zipper-interacting protein kinase (ZIP kinase) has been thought to be involved in apoptosis and the C-terminal leucine zipper motif is important for its function. Recent studies have revealed that ZIP kinase also plays a role in regulating myosin phosphorylation. Here, we found novel ZIP kinase isoform in which the C-terminal non-kinase domain containing a leucine zipper is eliminated (hZIPK-S). hZIPK-S binds to myosin phosphatase targeting subunit 1(MYPT1) similar to the long isoform (hZIPK-L). In addition, we found that hZIPK-S as well as hZIPK-L bind to myosin. These results indicate that a leucine zipper is not critical for the binding of ZIP kinase to MYPT1 and myosin. Consistently, hZIPK-S localized with stress-fibers where they co-localized with myosin. The residues 278-311, the C-terminal side of the kinase domain common to the both isoforms, is involved in the binding to MYPT1, while the myosin binding domain is within the kinase domain. These results suggest that the newly found hZIPK-S as well as the long isoform play an important role in the regulation of myosin phosphorylation.</td>\n",
       "      <td>True</td>\n",
       "      <td>(O43293-1, Q10728)</td>\n",
       "      <td>2</td>\n",
       "      <td>True</td>\n",
       "      <td>9</td>\n",
       "    </tr>\n",
       "  </tbody>\n",
       "</table>\n",
       "</div>"
      ],
      "text/plain": [
       "  interactionId  interactionType  \\\n",
       "0       1585513  phosphorylation   \n",
       "1       1585516  phosphorylation   \n",
       "\n",
       "                                                                                                                                                                                                                                                                                                                                                                                                                                                                                                                                                                                                                                                participants  \\\n",
       "0  [{'uniprotid': 'Q10728', 'alias': [['mypt1_rat'], ['Protein phosphatase 1 regulatory subunit 12A'], ['Ppp1r12a'], ['Mbs'], ['Mypt1'], ['Myosin phosphatase-targeting subunit 1'], ['Protein phosphatase myosin-binding subunit'], ['MBSP'], ['Serine/threonine protein phosphatase PP1 smooth muscle regulatory subunit M110'], ['Protein phosphatase subunit 1M']], 'alternative_uniprots': ['Q62937', 'Q9WU33']}, {'uniprotid': 'O43293-2', 'alias': [['o43293-2'], ['Death-associated protein kinase 3'], ['ZIPK-S'], ['DAPK3'], ['ZIPK'], ['DAP-like kinase'], ['MYPT1 kinase'], ['Zipper-interacting protein kinase']], 'alternative_uniprots': []}]   \n",
       "1  [{'uniprotid': 'O43293-1', 'alias': [['o43293-1'], ['Death-associated protein kinase 3'], ['ZIPK-L'], ['DAPK3'], ['ZIPK'], ['DAP-like kinase'], ['MYPT1 kinase'], ['Zipper-interacting protein kinase']], 'alternative_uniprots': []}, {'uniprotid': 'Q10728', 'alias': [['mypt1_rat'], ['Protein phosphatase 1 regulatory subunit 12A'], ['Ppp1r12a'], ['Mbs'], ['Mypt1'], ['Myosin phosphatase-targeting subunit 1'], ['Protein phosphatase myosin-binding subunit'], ['MBSP'], ['Serine/threonine protein phosphatase PP1 smooth muscle regulatory subunit M110'], ['Protein phosphatase subunit 1M']], 'alternative_uniprots': ['Q62937', 'Q9WU33']}]   \n",
       "\n",
       "   pubmedId pubmedTitle  \\\n",
       "0  17126281        None   \n",
       "1  17126281        None   \n",
       "\n",
       "                                                                                                                                                                                                                                                                                                                                                                                                                                                                                                                                                                                                                                                                                                                                                                                                                                                                                                                                                                                                                                                                                                                                        pubmedabstract  \\\n",
       "0  Zipper-interacting protein kinase (ZIP kinase) has been thought to be involved in apoptosis and the C-terminal leucine zipper motif is important for its function. Recent studies have revealed that ZIP kinase also plays a role in regulating myosin phosphorylation. Here, we found novel ZIP kinase isoform in which the C-terminal non-kinase domain containing a leucine zipper is eliminated (hZIPK-S). hZIPK-S binds to myosin phosphatase targeting subunit 1(MYPT1) similar to the long isoform (hZIPK-L). In addition, we found that hZIPK-S as well as hZIPK-L bind to myosin. These results indicate that a leucine zipper is not critical for the binding of ZIP kinase to MYPT1 and myosin. Consistently, hZIPK-S localized with stress-fibers where they co-localized with myosin. The residues 278-311, the C-terminal side of the kinase domain common to the both isoforms, is involved in the binding to MYPT1, while the myosin binding domain is within the kinase domain. These results suggest that the newly found hZIPK-S as well as the long isoform play an important role in the regulation of myosin phosphorylation.   \n",
       "1  Zipper-interacting protein kinase (ZIP kinase) has been thought to be involved in apoptosis and the C-terminal leucine zipper motif is important for its function. Recent studies have revealed that ZIP kinase also plays a role in regulating myosin phosphorylation. Here, we found novel ZIP kinase isoform in which the C-terminal non-kinase domain containing a leucine zipper is eliminated (hZIPK-S). hZIPK-S binds to myosin phosphatase targeting subunit 1(MYPT1) similar to the long isoform (hZIPK-L). In addition, we found that hZIPK-S as well as hZIPK-L bind to myosin. These results indicate that a leucine zipper is not critical for the binding of ZIP kinase to MYPT1 and myosin. Consistently, hZIPK-S localized with stress-fibers where they co-localized with myosin. The residues 278-311, the C-terminal side of the kinase domain common to the both isoforms, is involved in the binding to MYPT1, while the myosin binding domain is within the kinase domain. These results suggest that the newly found hZIPK-S as well as the long isoform play an important role in the regulation of myosin phosphorylation.   \n",
       "\n",
       "   isValid     flatparticpants  participants_count  hasTriggerWord  \\\n",
       "0     True  (O43293-2, Q10728)                   2            True   \n",
       "1     True  (O43293-1, Q10728)                   2            True   \n",
       "\n",
       "   entityMentionsCount  \n",
       "0                    9  \n",
       "1                    9  "
      ]
     },
     "execution_count": 33,
     "metadata": {},
     "output_type": "execute_result"
    }
   ],
   "source": [
    "data.head(n=2)"
   ]
  },
  {
   "cell_type": "markdown",
   "metadata": {},
   "source": [
    "## Data Transformation"
   ]
  },
  {
   "cell_type": "markdown",
   "metadata": {},
   "source": [
    "### Drop duplicates by [\"pubmedId\", \"flatparticpants\", \"interactionType\"]"
   ]
  },
  {
   "cell_type": "code",
   "execution_count": 34,
   "metadata": {
    "pycharm": {
     "is_executing": true
    }
   },
   "outputs": [
    {
     "data": {
      "text/plain": [
       "(3381, 11)"
      ]
     },
     "execution_count": 34,
     "metadata": {},
     "output_type": "execute_result"
    }
   ],
   "source": [
    "data.shape"
   ]
  },
  {
   "cell_type": "code",
   "execution_count": 35,
   "metadata": {
    "pycharm": {
     "is_executing": true
    }
   },
   "outputs": [],
   "source": [
    "process_map =[]\n",
    "process_map.append({\"name\": \"Initial\", \"count\": len(data) })"
   ]
  },
  {
   "cell_type": "code",
   "execution_count": 36,
   "metadata": {
    "pycharm": {
     "is_executing": true
    }
   },
   "outputs": [
    {
     "data": {
      "text/plain": [
       "(2797, 11)"
      ]
     },
     "execution_count": 36,
     "metadata": {},
     "output_type": "execute_result"
    }
   ],
   "source": [
    "filtered = data.drop_duplicates(subset=[\"pubmedId\", \"flatparticpants\", \"interactionType\"], keep='last')\n",
    "process_map.append({\"name\": \"Drop duplicates (pubmedId, participant uniprots, interactionType)\", \n",
    "             \"count\": len(filtered) })\n",
    "\n",
    "filtered.shape"
   ]
  },
  {
   "cell_type": "code",
   "execution_count": null,
   "metadata": {
    "pycharm": {
     "is_executing": true
    }
   },
   "outputs": [],
   "source": []
  },
  {
   "cell_type": "markdown",
   "metadata": {},
   "source": [
    "### Filter interactions with  participants != 2"
   ]
  },
  {
   "cell_type": "code",
   "execution_count": 37,
   "metadata": {
    "pycharm": {
     "is_executing": true
    }
   },
   "outputs": [
    {
     "data": {
      "text/plain": [
       "(2217, 11)"
      ]
     },
     "execution_count": 37,
     "metadata": {},
     "output_type": "execute_result"
    }
   ],
   "source": [
    "filtered = filtered[~filtered.pubmedId.isin( filtered.query('participants_count > 2').pubmedId)]\n",
    "\n",
    "process_map.append({\"name\": \"Drop abstracts that have n-ary relationship n > 2\",\n",
    "                    \"count\": len(filtered) })\n",
    "\n",
    "filtered.shape"
   ]
  },
  {
   "cell_type": "code",
   "execution_count": null,
   "metadata": {
    "pycharm": {
     "is_executing": true
    }
   },
   "outputs": [],
   "source": []
  },
  {
   "cell_type": "code",
   "execution_count": 38,
   "metadata": {
    "pycharm": {
     "is_executing": true
    }
   },
   "outputs": [
    {
     "data": {
      "image/png": "[encoded data removed]",
      "text/plain": [
       "<Figure size 360x360 with 1 Axes>"
      ]
     },
     "metadata": {
      "needs_background": "light"
     },
     "output_type": "display_data"
    }
   ],
   "source": [
    "import matplotlib.ticker as mtick\n",
    "\n",
    "\n",
    "fig, ax = plt.subplots( 1,1, figsize=(15,5))\n",
    "\n",
    "\n",
    "\n",
    "c_ax= ax\n",
    "c_ax.yaxis.set_major_formatter(mtick.PercentFormatter())\n",
    "filtered['participants_count'].hist (bins=50, figsize=(5,5), ax=c_ax, color = 'blue',  weights = np.ones_like(filtered['participants_count'].index)*100 / len(filtered['participants_count'].index))\n",
    "plt.title(\"Participants count per interaction\")\n",
    "plt.xlabel('Number of participants per interaction')\n",
    "plt.ylabel('Percentage of interactions')\n",
    "plt.savefig(\"ParticipantsPerInteraction.eps\")\n",
    "plt.show()"
   ]
  },
  {
   "cell_type": "markdown",
   "metadata": {},
   "source": [
    "###  Flatten partcipants into participant 1 and particpiant 2"
   ]
  },
  {
   "cell_type": "code",
   "execution_count": 39,
   "metadata": {
    "pycharm": {
     "is_executing": true
    }
   },
   "outputs": [],
   "source": [
    "from datatransformer.jsonPPIFlattenTransformer import IntactJsonPpiFlattenTransformer\n",
    " \n",
    "\n",
    "sut = IntactJsonPpiFlattenTransformer()\n",
    "\n",
    "data_transformed = sut.transform(filtered)\n"
   ]
  },
  {
   "cell_type": "code",
   "execution_count": 40,
   "metadata": {
    "pycharm": {
     "is_executing": true
    },
    "scrolled": true
   },
   "outputs": [
    {
     "data": {
      "text/html": [
       "<div>\n",
       "<style scoped>\n",
       "    .dataframe tbody tr th:only-of-type {\n",
       "        vertical-align: middle;\n",
       "    }\n",
       "\n",
       "    .dataframe tbody tr th {\n",
       "        vertical-align: top;\n",
       "    }\n",
       "\n",
       "    .dataframe thead th {\n",
       "        text-align: right;\n",
       "    }\n",
       "</style>\n",
       "<table border=\"1\" class=\"dataframe\">\n",
       "  <thead>\n",
       "    <tr style=\"text-align: right;\">\n",
       "      <th></th>\n",
       "      <th>interactionId</th>\n",
       "      <th>interactionType</th>\n",
       "      <th>pubmedId</th>\n",
       "      <th>pubmedTitle</th>\n",
       "      <th>pubmedabstract</th>\n",
       "      <th>isValid</th>\n",
       "      <th>flatparticpants</th>\n",
       "      <th>participants_count</th>\n",
       "      <th>hasTriggerWord</th>\n",
       "      <th>entityMentionsCount</th>\n",
       "      <th>participant1Id</th>\n",
       "      <th>participant2Id</th>\n",
       "      <th>participant1Alias</th>\n",
       "      <th>participant2Alias</th>\n",
       "    </tr>\n",
       "  </thead>\n",
       "  <tbody>\n",
       "    <tr>\n",
       "      <th>0</th>\n",
       "      <td>1585513</td>\n",
       "      <td>phosphorylation</td>\n",
       "      <td>17126281</td>\n",
       "      <td>None</td>\n",
       "      <td>Zipper-interacting protein kinase (ZIP kinase) has been thought to be involved in apoptosis and the C-terminal leucine zipper motif is important for its function. Recent studies have revealed that ZIP kinase also plays a role in regulating myosin phosphorylation. Here, we found novel ZIP kinase isoform in which the C-terminal non-kinase domain containing a leucine zipper is eliminated (hZIPK-S). hZIPK-S binds to myosin phosphatase targeting subunit 1(MYPT1) similar to the long isoform (hZIPK-L). In addition, we found that hZIPK-S as well as hZIPK-L bind to myosin. These results indicate that a leucine zipper is not critical for the binding of ZIP kinase to MYPT1 and myosin. Consistently, hZIPK-S localized with stress-fibers where they co-localized with myosin. The residues 278-311, the C-terminal side of the kinase domain common to the both isoforms, is involved in the binding to MYPT1, while the myosin binding domain is within the kinase domain. These results suggest that the newly found hZIPK-S as well as the long isoform play an important role in the regulation of myosin phosphorylation.</td>\n",
       "      <td>True</td>\n",
       "      <td>[O43293-2, Q10728]</td>\n",
       "      <td>2</td>\n",
       "      <td>True</td>\n",
       "      <td>9</td>\n",
       "      <td>Q10728</td>\n",
       "      <td>O43293-2</td>\n",
       "      <td>[[mypt1_rat], [Protein phosphatase 1 regulatory subunit 12A], [Ppp1r12a], [Mbs], [Mypt1], [Myosin phosphatase-targeting subunit 1], [Protein phosphatase myosin-binding subunit], [MBSP], [Serine/threonine protein phosphatase PP1 smooth muscle regulatory subunit M110], [Protein phosphatase subunit 1M]]</td>\n",
       "      <td>[[o43293-2], [Death-associated protein kinase 3], [ZIPK-S], [DAPK3], [ZIPK], [DAP-like kinase], [MYPT1 kinase], [Zipper-interacting protein kinase]]</td>\n",
       "    </tr>\n",
       "    <tr>\n",
       "      <th>1</th>\n",
       "      <td>1585516</td>\n",
       "      <td>phosphorylation</td>\n",
       "      <td>17126281</td>\n",
       "      <td>None</td>\n",
       "      <td>Zipper-interacting protein kinase (ZIP kinase) has been thought to be involved in apoptosis and the C-terminal leucine zipper motif is important for its function. Recent studies have revealed that ZIP kinase also plays a role in regulating myosin phosphorylation. Here, we found novel ZIP kinase isoform in which the C-terminal non-kinase domain containing a leucine zipper is eliminated (hZIPK-S). hZIPK-S binds to myosin phosphatase targeting subunit 1(MYPT1) similar to the long isoform (hZIPK-L). In addition, we found that hZIPK-S as well as hZIPK-L bind to myosin. These results indicate that a leucine zipper is not critical for the binding of ZIP kinase to MYPT1 and myosin. Consistently, hZIPK-S localized with stress-fibers where they co-localized with myosin. The residues 278-311, the C-terminal side of the kinase domain common to the both isoforms, is involved in the binding to MYPT1, while the myosin binding domain is within the kinase domain. These results suggest that the newly found hZIPK-S as well as the long isoform play an important role in the regulation of myosin phosphorylation.</td>\n",
       "      <td>True</td>\n",
       "      <td>[O43293-1, Q10728]</td>\n",
       "      <td>2</td>\n",
       "      <td>True</td>\n",
       "      <td>9</td>\n",
       "      <td>O43293-1</td>\n",
       "      <td>Q10728</td>\n",
       "      <td>[[o43293-1], [Death-associated protein kinase 3], [ZIPK-L], [DAPK3], [ZIPK], [DAP-like kinase], [MYPT1 kinase], [Zipper-interacting protein kinase]]</td>\n",
       "      <td>[[mypt1_rat], [Protein phosphatase 1 regulatory subunit 12A], [Ppp1r12a], [Mbs], [Mypt1], [Myosin phosphatase-targeting subunit 1], [Protein phosphatase myosin-binding subunit], [MBSP], [Serine/threonine protein phosphatase PP1 smooth muscle regulatory subunit M110], [Protein phosphatase subunit 1M]]</td>\n",
       "    </tr>\n",
       "  </tbody>\n",
       "</table>\n",
       "</div>"
      ],
      "text/plain": [
       "  interactionId  interactionType  pubmedId pubmedTitle  \\\n",
       "0       1585513  phosphorylation  17126281        None   \n",
       "1       1585516  phosphorylation  17126281        None   \n",
       "\n",
       "                                                                                                                                                                                                                                                                                                                                                                                                                                                                                                                                                                                                                                                                                                                                                                                                                                                                                                                                                                                                                                                                                                                                        pubmedabstract  \\\n",
       "0  Zipper-interacting protein kinase (ZIP kinase) has been thought to be involved in apoptosis and the C-terminal leucine zipper motif is important for its function. Recent studies have revealed that ZIP kinase also plays a role in regulating myosin phosphorylation. Here, we found novel ZIP kinase isoform in which the C-terminal non-kinase domain containing a leucine zipper is eliminated (hZIPK-S). hZIPK-S binds to myosin phosphatase targeting subunit 1(MYPT1) similar to the long isoform (hZIPK-L). In addition, we found that hZIPK-S as well as hZIPK-L bind to myosin. These results indicate that a leucine zipper is not critical for the binding of ZIP kinase to MYPT1 and myosin. Consistently, hZIPK-S localized with stress-fibers where they co-localized with myosin. The residues 278-311, the C-terminal side of the kinase domain common to the both isoforms, is involved in the binding to MYPT1, while the myosin binding domain is within the kinase domain. These results suggest that the newly found hZIPK-S as well as the long isoform play an important role in the regulation of myosin phosphorylation.   \n",
       "1  Zipper-interacting protein kinase (ZIP kinase) has been thought to be involved in apoptosis and the C-terminal leucine zipper motif is important for its function. Recent studies have revealed that ZIP kinase also plays a role in regulating myosin phosphorylation. Here, we found novel ZIP kinase isoform in which the C-terminal non-kinase domain containing a leucine zipper is eliminated (hZIPK-S). hZIPK-S binds to myosin phosphatase targeting subunit 1(MYPT1) similar to the long isoform (hZIPK-L). In addition, we found that hZIPK-S as well as hZIPK-L bind to myosin. These results indicate that a leucine zipper is not critical for the binding of ZIP kinase to MYPT1 and myosin. Consistently, hZIPK-S localized with stress-fibers where they co-localized with myosin. The residues 278-311, the C-terminal side of the kinase domain common to the both isoforms, is involved in the binding to MYPT1, while the myosin binding domain is within the kinase domain. These results suggest that the newly found hZIPK-S as well as the long isoform play an important role in the regulation of myosin phosphorylation.   \n",
       "\n",
       "   isValid     flatparticpants  participants_count  hasTriggerWord  \\\n",
       "0     True  [O43293-2, Q10728]                   2            True   \n",
       "1     True  [O43293-1, Q10728]                   2            True   \n",
       "\n",
       "   entityMentionsCount participant1Id participant2Id  \\\n",
       "0                    9         Q10728       O43293-2   \n",
       "1                    9       O43293-1         Q10728   \n",
       "\n",
       "                                                                                                                                                                                                                                                                                               participant1Alias  \\\n",
       "0  [[mypt1_rat], [Protein phosphatase 1 regulatory subunit 12A], [Ppp1r12a], [Mbs], [Mypt1], [Myosin phosphatase-targeting subunit 1], [Protein phosphatase myosin-binding subunit], [MBSP], [Serine/threonine protein phosphatase PP1 smooth muscle regulatory subunit M110], [Protein phosphatase subunit 1M]]   \n",
       "1                                                                                                                                                           [[o43293-1], [Death-associated protein kinase 3], [ZIPK-L], [DAPK3], [ZIPK], [DAP-like kinase], [MYPT1 kinase], [Zipper-interacting protein kinase]]   \n",
       "\n",
       "                                                                                                                                                                                                                                                                                               participant2Alias  \n",
       "0                                                                                                                                                           [[o43293-2], [Death-associated protein kinase 3], [ZIPK-S], [DAPK3], [ZIPK], [DAP-like kinase], [MYPT1 kinase], [Zipper-interacting protein kinase]]  \n",
       "1  [[mypt1_rat], [Protein phosphatase 1 regulatory subunit 12A], [Ppp1r12a], [Mbs], [Mypt1], [Myosin phosphatase-targeting subunit 1], [Protein phosphatase myosin-binding subunit], [MBSP], [Serine/threonine protein phosphatase PP1 smooth muscle regulatory subunit M110], [Protein phosphatase subunit 1M]]  "
      ]
     },
     "execution_count": 40,
     "metadata": {},
     "output_type": "execute_result"
    }
   ],
   "source": [
    "data_transformed.head(n=2)"
   ]
  },
  {
   "cell_type": "code",
   "execution_count": 41,
   "metadata": {
    "pycharm": {
     "is_executing": true
    }
   },
   "outputs": [
    {
     "data": {
      "text/plain": [
       "(2217, 14)"
      ]
     },
     "execution_count": 41,
     "metadata": {},
     "output_type": "execute_result"
    }
   ],
   "source": [
    "data_transformed.shape"
   ]
  },
  {
   "cell_type": "markdown",
   "metadata": {},
   "source": [
    "### Remove records where the participantId is null"
   ]
  },
  {
   "cell_type": "code",
   "execution_count": 42,
   "metadata": {
    "pycharm": {
     "is_executing": true
    }
   },
   "outputs": [
    {
     "data": {
      "text/plain": [
       "(2217, 14)"
      ]
     },
     "execution_count": 42,
     "metadata": {},
     "output_type": "execute_result"
    }
   ],
   "source": [
    "data_transformed.shape"
   ]
  },
  {
   "cell_type": "code",
   "execution_count": 43,
   "metadata": {
    "pycharm": {
     "is_executing": true
    }
   },
   "outputs": [
    {
     "data": {
      "text/plain": [
       "(2155, 14)"
      ]
     },
     "execution_count": 43,
     "metadata": {},
     "output_type": "execute_result"
    }
   ],
   "source": [
    "data_filtered = data_transformed[data_transformed.participant1Id.notnull() & data_transformed.participant2Id.notnull() ]\n",
    "process_map.append({\"name\": \"Drop interactions where participant Unitprot identifiers are null\",\n",
    "                    \"count\": len(data_filtered) })\n",
    "data_filtered.shape"
   ]
  },
  {
   "cell_type": "code",
   "execution_count": 44,
   "metadata": {
    "pycharm": {
     "is_executing": true
    }
   },
   "outputs": [
    {
     "data": {
      "text/html": [
       "<div>\n",
       "<style scoped>\n",
       "    .dataframe tbody tr th:only-of-type {\n",
       "        vertical-align: middle;\n",
       "    }\n",
       "\n",
       "    .dataframe tbody tr th {\n",
       "        vertical-align: top;\n",
       "    }\n",
       "\n",
       "    .dataframe thead th {\n",
       "        text-align: right;\n",
       "    }\n",
       "</style>\n",
       "<table border=\"1\" class=\"dataframe\">\n",
       "  <thead>\n",
       "    <tr style=\"text-align: right;\">\n",
       "      <th></th>\n",
       "      <th>interactionId</th>\n",
       "      <th>interactionType</th>\n",
       "      <th>pubmedId</th>\n",
       "      <th>pubmedTitle</th>\n",
       "      <th>pubmedabstract</th>\n",
       "      <th>isValid</th>\n",
       "      <th>flatparticpants</th>\n",
       "      <th>participants_count</th>\n",
       "      <th>hasTriggerWord</th>\n",
       "      <th>entityMentionsCount</th>\n",
       "      <th>participant1Id</th>\n",
       "      <th>participant2Id</th>\n",
       "      <th>participant1Alias</th>\n",
       "      <th>participant2Alias</th>\n",
       "    </tr>\n",
       "  </thead>\n",
       "  <tbody>\n",
       "    <tr>\n",
       "      <th>0</th>\n",
       "      <td>1585513</td>\n",
       "      <td>phosphorylation</td>\n",
       "      <td>17126281</td>\n",
       "      <td>None</td>\n",
       "      <td>Zipper-interacting protein kinase (ZIP kinase) has been thought to be involved in apoptosis and the C-terminal leucine zipper motif is important for its function. Recent studies have revealed that ZIP kinase also plays a role in regulating myosin phosphorylation. Here, we found novel ZIP kinase isoform in which the C-terminal non-kinase domain containing a leucine zipper is eliminated (hZIPK-S). hZIPK-S binds to myosin phosphatase targeting subunit 1(MYPT1) similar to the long isoform (hZIPK-L). In addition, we found that hZIPK-S as well as hZIPK-L bind to myosin. These results indicate that a leucine zipper is not critical for the binding of ZIP kinase to MYPT1 and myosin. Consistently, hZIPK-S localized with stress-fibers where they co-localized with myosin. The residues 278-311, the C-terminal side of the kinase domain common to the both isoforms, is involved in the binding to MYPT1, while the myosin binding domain is within the kinase domain. These results suggest that the newly found hZIPK-S as well as the long isoform play an important role in the regulation of myosin phosphorylation.</td>\n",
       "      <td>True</td>\n",
       "      <td>[O43293-2, Q10728]</td>\n",
       "      <td>2</td>\n",
       "      <td>True</td>\n",
       "      <td>9</td>\n",
       "      <td>Q10728</td>\n",
       "      <td>O43293-2</td>\n",
       "      <td>[[mypt1_rat], [Protein phosphatase 1 regulatory subunit 12A], [Ppp1r12a], [Mbs], [Mypt1], [Myosin phosphatase-targeting subunit 1], [Protein phosphatase myosin-binding subunit], [MBSP], [Serine/threonine protein phosphatase PP1 smooth muscle regulatory subunit M110], [Protein phosphatase subunit 1M]]</td>\n",
       "      <td>[[o43293-2], [Death-associated protein kinase 3], [ZIPK-S], [DAPK3], [ZIPK], [DAP-like kinase], [MYPT1 kinase], [Zipper-interacting protein kinase]]</td>\n",
       "    </tr>\n",
       "    <tr>\n",
       "      <th>1</th>\n",
       "      <td>1585516</td>\n",
       "      <td>phosphorylation</td>\n",
       "      <td>17126281</td>\n",
       "      <td>None</td>\n",
       "      <td>Zipper-interacting protein kinase (ZIP kinase) has been thought to be involved in apoptosis and the C-terminal leucine zipper motif is important for its function. Recent studies have revealed that ZIP kinase also plays a role in regulating myosin phosphorylation. Here, we found novel ZIP kinase isoform in which the C-terminal non-kinase domain containing a leucine zipper is eliminated (hZIPK-S). hZIPK-S binds to myosin phosphatase targeting subunit 1(MYPT1) similar to the long isoform (hZIPK-L). In addition, we found that hZIPK-S as well as hZIPK-L bind to myosin. These results indicate that a leucine zipper is not critical for the binding of ZIP kinase to MYPT1 and myosin. Consistently, hZIPK-S localized with stress-fibers where they co-localized with myosin. The residues 278-311, the C-terminal side of the kinase domain common to the both isoforms, is involved in the binding to MYPT1, while the myosin binding domain is within the kinase domain. These results suggest that the newly found hZIPK-S as well as the long isoform play an important role in the regulation of myosin phosphorylation.</td>\n",
       "      <td>True</td>\n",
       "      <td>[O43293-1, Q10728]</td>\n",
       "      <td>2</td>\n",
       "      <td>True</td>\n",
       "      <td>9</td>\n",
       "      <td>O43293-1</td>\n",
       "      <td>Q10728</td>\n",
       "      <td>[[o43293-1], [Death-associated protein kinase 3], [ZIPK-L], [DAPK3], [ZIPK], [DAP-like kinase], [MYPT1 kinase], [Zipper-interacting protein kinase]]</td>\n",
       "      <td>[[mypt1_rat], [Protein phosphatase 1 regulatory subunit 12A], [Ppp1r12a], [Mbs], [Mypt1], [Myosin phosphatase-targeting subunit 1], [Protein phosphatase myosin-binding subunit], [MBSP], [Serine/threonine protein phosphatase PP1 smooth muscle regulatory subunit M110], [Protein phosphatase subunit 1M]]</td>\n",
       "    </tr>\n",
       "  </tbody>\n",
       "</table>\n",
       "</div>"
      ],
      "text/plain": [
       "  interactionId  interactionType  pubmedId pubmedTitle  \\\n",
       "0       1585513  phosphorylation  17126281        None   \n",
       "1       1585516  phosphorylation  17126281        None   \n",
       "\n",
       "                                                                                                                                                                                                                                                                                                                                                                                                                                                                                                                                                                                                                                                                                                                                                                                                                                                                                                                                                                                                                                                                                                                                        pubmedabstract  \\\n",
       "0  Zipper-interacting protein kinase (ZIP kinase) has been thought to be involved in apoptosis and the C-terminal leucine zipper motif is important for its function. Recent studies have revealed that ZIP kinase also plays a role in regulating myosin phosphorylation. Here, we found novel ZIP kinase isoform in which the C-terminal non-kinase domain containing a leucine zipper is eliminated (hZIPK-S). hZIPK-S binds to myosin phosphatase targeting subunit 1(MYPT1) similar to the long isoform (hZIPK-L). In addition, we found that hZIPK-S as well as hZIPK-L bind to myosin. These results indicate that a leucine zipper is not critical for the binding of ZIP kinase to MYPT1 and myosin. Consistently, hZIPK-S localized with stress-fibers where they co-localized with myosin. The residues 278-311, the C-terminal side of the kinase domain common to the both isoforms, is involved in the binding to MYPT1, while the myosin binding domain is within the kinase domain. These results suggest that the newly found hZIPK-S as well as the long isoform play an important role in the regulation of myosin phosphorylation.   \n",
       "1  Zipper-interacting protein kinase (ZIP kinase) has been thought to be involved in apoptosis and the C-terminal leucine zipper motif is important for its function. Recent studies have revealed that ZIP kinase also plays a role in regulating myosin phosphorylation. Here, we found novel ZIP kinase isoform in which the C-terminal non-kinase domain containing a leucine zipper is eliminated (hZIPK-S). hZIPK-S binds to myosin phosphatase targeting subunit 1(MYPT1) similar to the long isoform (hZIPK-L). In addition, we found that hZIPK-S as well as hZIPK-L bind to myosin. These results indicate that a leucine zipper is not critical for the binding of ZIP kinase to MYPT1 and myosin. Consistently, hZIPK-S localized with stress-fibers where they co-localized with myosin. The residues 278-311, the C-terminal side of the kinase domain common to the both isoforms, is involved in the binding to MYPT1, while the myosin binding domain is within the kinase domain. These results suggest that the newly found hZIPK-S as well as the long isoform play an important role in the regulation of myosin phosphorylation.   \n",
       "\n",
       "   isValid     flatparticpants  participants_count  hasTriggerWord  \\\n",
       "0     True  [O43293-2, Q10728]                   2            True   \n",
       "1     True  [O43293-1, Q10728]                   2            True   \n",
       "\n",
       "   entityMentionsCount participant1Id participant2Id  \\\n",
       "0                    9         Q10728       O43293-2   \n",
       "1                    9       O43293-1         Q10728   \n",
       "\n",
       "                                                                                                                                                                                                                                                                                               participant1Alias  \\\n",
       "0  [[mypt1_rat], [Protein phosphatase 1 regulatory subunit 12A], [Ppp1r12a], [Mbs], [Mypt1], [Myosin phosphatase-targeting subunit 1], [Protein phosphatase myosin-binding subunit], [MBSP], [Serine/threonine protein phosphatase PP1 smooth muscle regulatory subunit M110], [Protein phosphatase subunit 1M]]   \n",
       "1                                                                                                                                                           [[o43293-1], [Death-associated protein kinase 3], [ZIPK-L], [DAPK3], [ZIPK], [DAP-like kinase], [MYPT1 kinase], [Zipper-interacting protein kinase]]   \n",
       "\n",
       "                                                                                                                                                                                                                                                                                               participant2Alias  \n",
       "0                                                                                                                                                           [[o43293-2], [Death-associated protein kinase 3], [ZIPK-S], [DAPK3], [ZIPK], [DAP-like kinase], [MYPT1 kinase], [Zipper-interacting protein kinase]]  \n",
       "1  [[mypt1_rat], [Protein phosphatase 1 regulatory subunit 12A], [Ppp1r12a], [Mbs], [Mypt1], [Myosin phosphatase-targeting subunit 1], [Protein phosphatase myosin-binding subunit], [MBSP], [Serine/threonine protein phosphatase PP1 smooth muscle regulatory subunit M110], [Protein phosphatase subunit 1M]]  "
      ]
     },
     "execution_count": 44,
     "metadata": {},
     "output_type": "execute_result"
    }
   ],
   "source": [
    "data_filtered.head(n=2)"
   ]
  },
  {
   "cell_type": "markdown",
   "metadata": {},
   "source": [
    "### Normalise abstract"
   ]
  },
  {
   "cell_type": "code",
   "execution_count": 45,
   "metadata": {
    "pycharm": {
     "is_executing": true
    }
   },
   "outputs": [],
   "source": [
    "\n",
    "def normalise_absract(data, enity_annotations_file):\n",
    "    from datatransformer.abstractGeneNormaliser import AbstractGeneNormaliser\n",
    "    from datatransformer.ncbiGeneUniprotLocalDbMapper import NcbiGeneUniprotLocalDbMapper\n",
    "    from datatransformer.ncbiGeneUniprotMapper import NcbiGeneUniprotMapper\n",
    "\n",
    "\n",
    "    from dataformatters.gnormplusPubtatorReader import GnormplusPubtatorReader\n",
    "    from datatransformer.textGeneNormaliser import TextGeneNormaliser\n",
    "\n",
    "\n",
    "    import os\n",
    "    \n",
    " \n",
    "    localdb = idmapping_dat\n",
    "    with open(localdb, \"r\") as dbhandle:\n",
    "        mapper = NcbiGeneUniprotLocalDbMapper(dbhandle, \"GeneID\") \n",
    "        \n",
    "        #Read gnormplus identified entities\n",
    "        reader = GnormplusPubtatorReader()\n",
    "        with open(enity_annotations_file,\"r\") as handle:\n",
    "            annotations_json = list(reader(handle))\n",
    "        \n",
    "        \n",
    "        # \n",
    "        normaliser = AbstractGeneNormaliser(annotations_json)\n",
    "        normaliser.text_gene_normaliser = TextGeneNormaliser(geneIdConverter = mapper) \n",
    "        result = normaliser.transform(data)\n",
    "        \n",
    "       \n",
    "\n",
    "        return result"
   ]
  },
  {
   "cell_type": "code",
   "execution_count": 46,
   "metadata": {
    "pycharm": {
     "is_executing": true
    }
   },
   "outputs": [
    {
     "name": "stdout",
     "output_type": "stream",
     "text": [
      "2021-05-22 13:51:22,306 - datatransformer.abstractGeneNormaliser - INFO - Starting transformation..\n",
      "2021-05-22 13:51:25,897 - datatransformer.abstractGeneNormaliser - INFO - Completed normalised abstract...\n",
      "2021-05-22 13:51:25,898 - datatransformer.abstractGeneNormaliser - INFO - Adding annotations ...\n",
      "2021-05-22 13:51:25,930 - datatransformer.abstractGeneNormaliser - INFO - Adding annotations_abstract...\n",
      "2021-05-22 13:51:25,968 - datatransformer.abstractGeneNormaliser - INFO - Adding num_unique_gene_normalised_id...\n",
      "2021-05-22 13:51:25,979 - datatransformer.abstractGeneNormaliser - INFO - Adding num_gene_normalised_id...\n",
      "2021-05-22 13:51:25,989 - datatransformer.abstractGeneNormaliser - INFO - Gene Id links...\n",
      "2021-05-22 13:51:26,073 - datatransformer.abstractGeneNormaliser - INFO - Completed normalised abstract...\n",
      "2021-05-22 13:51:26,073 - datatransformer.abstractGeneNormaliser - INFO - Completed transformation\n",
      "CPU times: user 3.75 s, sys: 44.2 ms, total: 3.8 s\n",
      "Wall time: 3.8 s\n"
     ]
    }
   ],
   "source": [
    "%%time\n",
    "\n",
    "data_filtered = normalise_absract(data_filtered.copy(deep=True), annotations_file)"
   ]
  },
  {
   "cell_type": "code",
   "execution_count": 47,
   "metadata": {
    "pycharm": {
     "is_executing": true
    }
   },
   "outputs": [
    {
     "data": {
      "text/plain": [
       "(2155, 23)"
      ]
     },
     "execution_count": 47,
     "metadata": {},
     "output_type": "execute_result"
    }
   ],
   "source": [
    "data_filtered.shape"
   ]
  },
  {
   "cell_type": "code",
   "execution_count": 48,
   "metadata": {
    "pycharm": {
     "is_executing": true
    }
   },
   "outputs": [
    {
     "data": {
      "text/html": [
       "<div>\n",
       "<style scoped>\n",
       "    .dataframe tbody tr th:only-of-type {\n",
       "        vertical-align: middle;\n",
       "    }\n",
       "\n",
       "    .dataframe tbody tr th {\n",
       "        vertical-align: top;\n",
       "    }\n",
       "\n",
       "    .dataframe thead th {\n",
       "        text-align: right;\n",
       "    }\n",
       "</style>\n",
       "<table border=\"1\" class=\"dataframe\">\n",
       "  <thead>\n",
       "    <tr style=\"text-align: right;\">\n",
       "      <th></th>\n",
       "      <th>interactionId</th>\n",
       "      <th>interactionType</th>\n",
       "      <th>pubmedId</th>\n",
       "      <th>pubmedTitle</th>\n",
       "      <th>pubmedabstract</th>\n",
       "      <th>isValid</th>\n",
       "      <th>flatparticpants</th>\n",
       "      <th>participants_count</th>\n",
       "      <th>hasTriggerWord</th>\n",
       "      <th>entityMentionsCount</th>\n",
       "      <th>participant1Id</th>\n",
       "      <th>participant2Id</th>\n",
       "      <th>participant1Alias</th>\n",
       "      <th>participant2Alias</th>\n",
       "      <th>normalised_abstract</th>\n",
       "      <th>normalised_abstract_annotations</th>\n",
       "      <th>annotations</th>\n",
       "      <th>annotations_abstract</th>\n",
       "      <th>num_unique_gene_normalised_id</th>\n",
       "      <th>num_gene_normalised_id</th>\n",
       "      <th>gene_to_uniprot_map</th>\n",
       "      <th>participant1Name</th>\n",
       "      <th>participant2Name</th>\n",
       "    </tr>\n",
       "  </thead>\n",
       "  <tbody>\n",
       "    <tr>\n",
       "      <th>0</th>\n",
       "      <td>1585513</td>\n",
       "      <td>phosphorylation</td>\n",
       "      <td>17126281</td>\n",
       "      <td>None</td>\n",
       "      <td>Zipper-interacting protein kinase (ZIP kinase) has been thought to be involved in apoptosis and the C-terminal leucine zipper motif is important for its function. Recent studies have revealed that ZIP kinase also plays a role in regulating myosin phosphorylation. Here, we found novel ZIP kinase isoform in which the C-terminal non-kinase domain containing a leucine zipper is eliminated (hZIPK-S). hZIPK-S binds to myosin phosphatase targeting subunit 1(MYPT1) similar to the long isoform (hZIPK-L). In addition, we found that hZIPK-S as well as hZIPK-L bind to myosin. These results indicate that a leucine zipper is not critical for the binding of ZIP kinase to MYPT1 and myosin. Consistently, hZIPK-S localized with stress-fibers where they co-localized with myosin. The residues 278-311, the C-terminal side of the kinase domain common to the both isoforms, is involved in the binding to MYPT1, while the myosin binding domain is within the kinase domain. These results suggest that the newly found hZIPK-S as well as the long isoform play an important role in the regulation of myosin phosphorylation.</td>\n",
       "      <td>True</td>\n",
       "      <td>[O43293-2, Q10728]</td>\n",
       "      <td>2</td>\n",
       "      <td>True</td>\n",
       "      <td>9</td>\n",
       "      <td>Q10728</td>\n",
       "      <td>O43293-2</td>\n",
       "      <td>[[mypt1_rat], [Protein phosphatase 1 regulatory subunit 12A], [Ppp1r12a], [Mbs], [Mypt1], [Myosin phosphatase-targeting subunit 1], [Protein phosphatase myosin-binding subunit], [MBSP], [Serine/threonine protein phosphatase PP1 smooth muscle regulatory subunit M110], [Protein phosphatase subunit 1M]]</td>\n",
       "      <td>[[o43293-2], [Death-associated protein kinase 3], [ZIPK-S], [DAPK3], [ZIPK], [DAP-like kinase], [MYPT1 kinase], [Zipper-interacting protein kinase]]</td>\n",
       "      <td>O43293 (O43293) has been thought to be involved in apoptosis and the C-terminal leucine zipper motif is important for its function. Recent studies have revealed that O43293 also plays a role in regulating Q7Z406 phosphorylation. Here, we found novel O43293 isoform in which the C-terminal non-kinase domain containing a leucine zipper is eliminated (hZIPK-S). hZIPK-S binds to O14974(O14974) similar to the long isoform (hZIPK-L). In addition, we found that hZIPK-S as well as hZIPK-L bind to Q7Z406. These results indicate that a leucine zipper is not critical for the binding of O43293 to O14974 and Q7Z406. Consistently, hZIPK-S localized with stress-fibers where they co-localized with Q7Z406. The residues 278-311, the C-terminal side of the kinase domain common to the both isoforms, is involved in the binding to O14974, while the Q7Z406 binding domain is within the kinase domain. These results suggest that the newly found hZIPK-S as well as the long isoform play an important role in the regulation of Q7Z406 phosphorylation.</td>\n",
       "      <td>[{'charOffset': 0, 'len': 6, 'text': 'O43293'}, {'charOffset': 8, 'len': 6, 'text': 'O43293'}, {'charOffset': 166, 'len': 6, 'text': 'O43293'}, {'charOffset': 205, 'len': 6, 'text': 'Q7Z406'}, {'charOffset': 250, 'len': 6, 'text': 'O43293'}, {'charOffset': 377, 'len': 6, 'text': 'O14974'}, {'charOffset': 384, 'len': 6, 'text': 'O14974'}, {'charOffset': 493, 'len': 6, 'text': 'Q7Z406'}, {'charOffset': 581, 'len': 6, 'text': 'O43293'}, {'charOffset': 591, 'len': 6, 'text': 'O14974'}, {'charOffset': 602, 'len': 6, 'text': 'Q7Z406'}, {'charOffset': 690, 'len': 6, 'text': 'Q7Z406'}, {'charOffset': 820, 'len': 6, 'text': 'O14974'}, {'charOffset': 838, 'len': 6, 'text': 'Q7Z406'}, {'charOffset': 1012, 'len': 6, 'text': 'Q7Z406'}]</td>\n",
       "      <td>[{'start': '0', 'end': '33', 'name': 'Zipper-interacting protein kinase', 'type': 'Gene', 'normalised_id': '1613'}, {'start': '35', 'end': '45', 'name': 'ZIP kinase', 'type': 'Gene', 'normalised_id': '1613'}, {'start': '197', 'end': '207', 'name': 'ZIP kinase', 'type': 'Gene', 'normalised_id': '1613'}, {'start': '240', 'end': '246', 'name': 'myosin', 'type': 'Gene', 'normalised_id': '79784'}, {'start': '285', 'end': '295', 'name': 'ZIP kinase', 'type': 'Gene', 'normalised_id': '1613'}, {'start': '416', 'end': '454', 'name': 'myosin phosphatase targeting subunit 1', 'type': 'Gene', 'normalised_id': '4659'}, {'start': '455', 'end': '460', 'name': 'MYPT1', 'type': 'Gene', 'normalised_id': '4659'}, {'start': '563', 'end': '569', 'name': 'myosin', 'type': 'Gene', 'normalised_id': '79784'}, {'start': '651', 'end': '661', 'name': 'ZIP kinase', 'type': 'Gene', 'normalised_id': '1613'}, {'start': '665', 'end': '670', 'name': 'MYPT1', 'type': 'Gene', 'normalised_id': '4659'}, {'start': '675', 'end': '681', 'name': 'myosin', 'type': 'Gene', 'normalised_id': '79784'}, {'start': '763', 'end': '769', 'name': 'myosin', 'type': 'Gene', 'normalised_id': '79784'}, {'start': '893', 'end': '898', 'name': 'MYPT1', 'type': 'Gene', 'normalised_id': '4659'}, {'start': '910', 'end': '916', 'name': 'myosin', 'type': 'Gene', 'normalised_id': '79784'}, {'start': '1084', 'end': '1090', 'name': 'myosin', 'type': 'Gene', 'normalised_id': '79784'}]</td>\n",
       "      <td>Zipper-interacting protein kinase (ZIP kinase) has been thought to be involved in apoptosis and the C-terminal leucine zipper motif is important for its function. Recent studies have revealed that ZIP kinase also plays a role in regulating myosin phosphorylation. Here, we found novel ZIP kinase isoform in which the C-terminal non-kinase domain containing a leucine zipper is eliminated (hZIPK-S). hZIPK-S binds to myosin phosphatase targeting subunit 1(MYPT1) similar to the long isoform (hZIPK-L). In addition, we found that hZIPK-S as well as hZIPK-L bind to myosin. These results indicate that a leucine zipper is not critical for the binding of ZIP kinase to MYPT1 and myosin. Consistently, hZIPK-S localized with stress-fibers where they co-localized with myosin. The residues 278-311, the C-terminal side of the kinase domain common to the both isoforms, is involved in the binding to MYPT1, while the myosin binding domain is within the kinase domain. These results suggest that the newly found hZIPK-S as well as the long isoform play an important role in the regulation of myosin phosphorylation.</td>\n",
       "      <td>3</td>\n",
       "      <td>15</td>\n",
       "      <td>{'4659': ['O14974', 'B2RAH5'], '1613': ['O43293', 'B3KNJ3'], '79784': ['Q7Z406', 'A1L2Z2', 'B3KWH4']}</td>\n",
       "      <td>None</td>\n",
       "      <td>None</td>\n",
       "    </tr>\n",
       "    <tr>\n",
       "      <th>1</th>\n",
       "      <td>1585516</td>\n",
       "      <td>phosphorylation</td>\n",
       "      <td>17126281</td>\n",
       "      <td>None</td>\n",
       "      <td>Zipper-interacting protein kinase (ZIP kinase) has been thought to be involved in apoptosis and the C-terminal leucine zipper motif is important for its function. Recent studies have revealed that ZIP kinase also plays a role in regulating myosin phosphorylation. Here, we found novel ZIP kinase isoform in which the C-terminal non-kinase domain containing a leucine zipper is eliminated (hZIPK-S). hZIPK-S binds to myosin phosphatase targeting subunit 1(MYPT1) similar to the long isoform (hZIPK-L). In addition, we found that hZIPK-S as well as hZIPK-L bind to myosin. These results indicate that a leucine zipper is not critical for the binding of ZIP kinase to MYPT1 and myosin. Consistently, hZIPK-S localized with stress-fibers where they co-localized with myosin. The residues 278-311, the C-terminal side of the kinase domain common to the both isoforms, is involved in the binding to MYPT1, while the myosin binding domain is within the kinase domain. These results suggest that the newly found hZIPK-S as well as the long isoform play an important role in the regulation of myosin phosphorylation.</td>\n",
       "      <td>True</td>\n",
       "      <td>[O43293-1, Q10728]</td>\n",
       "      <td>2</td>\n",
       "      <td>True</td>\n",
       "      <td>9</td>\n",
       "      <td>O43293-1</td>\n",
       "      <td>Q10728</td>\n",
       "      <td>[[o43293-1], [Death-associated protein kinase 3], [ZIPK-L], [DAPK3], [ZIPK], [DAP-like kinase], [MYPT1 kinase], [Zipper-interacting protein kinase]]</td>\n",
       "      <td>[[mypt1_rat], [Protein phosphatase 1 regulatory subunit 12A], [Ppp1r12a], [Mbs], [Mypt1], [Myosin phosphatase-targeting subunit 1], [Protein phosphatase myosin-binding subunit], [MBSP], [Serine/threonine protein phosphatase PP1 smooth muscle regulatory subunit M110], [Protein phosphatase subunit 1M]]</td>\n",
       "      <td>O43293 (O43293) has been thought to be involved in apoptosis and the C-terminal leucine zipper motif is important for its function. Recent studies have revealed that O43293 also plays a role in regulating Q7Z406 phosphorylation. Here, we found novel O43293 isoform in which the C-terminal non-kinase domain containing a leucine zipper is eliminated (hZIPK-S). hZIPK-S binds to O14974(O14974) similar to the long isoform (hZIPK-L). In addition, we found that hZIPK-S as well as hZIPK-L bind to Q7Z406. These results indicate that a leucine zipper is not critical for the binding of O43293 to O14974 and Q7Z406. Consistently, hZIPK-S localized with stress-fibers where they co-localized with Q7Z406. The residues 278-311, the C-terminal side of the kinase domain common to the both isoforms, is involved in the binding to O14974, while the Q7Z406 binding domain is within the kinase domain. These results suggest that the newly found hZIPK-S as well as the long isoform play an important role in the regulation of Q7Z406 phosphorylation.</td>\n",
       "      <td>[{'charOffset': 0, 'len': 6, 'text': 'O43293'}, {'charOffset': 8, 'len': 6, 'text': 'O43293'}, {'charOffset': 166, 'len': 6, 'text': 'O43293'}, {'charOffset': 205, 'len': 6, 'text': 'Q7Z406'}, {'charOffset': 250, 'len': 6, 'text': 'O43293'}, {'charOffset': 377, 'len': 6, 'text': 'O14974'}, {'charOffset': 384, 'len': 6, 'text': 'O14974'}, {'charOffset': 493, 'len': 6, 'text': 'Q7Z406'}, {'charOffset': 581, 'len': 6, 'text': 'O43293'}, {'charOffset': 591, 'len': 6, 'text': 'O14974'}, {'charOffset': 602, 'len': 6, 'text': 'Q7Z406'}, {'charOffset': 690, 'len': 6, 'text': 'Q7Z406'}, {'charOffset': 820, 'len': 6, 'text': 'O14974'}, {'charOffset': 838, 'len': 6, 'text': 'Q7Z406'}, {'charOffset': 1012, 'len': 6, 'text': 'Q7Z406'}]</td>\n",
       "      <td>[{'start': '0', 'end': '33', 'name': 'Zipper-interacting protein kinase', 'type': 'Gene', 'normalised_id': '1613'}, {'start': '35', 'end': '45', 'name': 'ZIP kinase', 'type': 'Gene', 'normalised_id': '1613'}, {'start': '197', 'end': '207', 'name': 'ZIP kinase', 'type': 'Gene', 'normalised_id': '1613'}, {'start': '240', 'end': '246', 'name': 'myosin', 'type': 'Gene', 'normalised_id': '79784'}, {'start': '285', 'end': '295', 'name': 'ZIP kinase', 'type': 'Gene', 'normalised_id': '1613'}, {'start': '416', 'end': '454', 'name': 'myosin phosphatase targeting subunit 1', 'type': 'Gene', 'normalised_id': '4659'}, {'start': '455', 'end': '460', 'name': 'MYPT1', 'type': 'Gene', 'normalised_id': '4659'}, {'start': '563', 'end': '569', 'name': 'myosin', 'type': 'Gene', 'normalised_id': '79784'}, {'start': '651', 'end': '661', 'name': 'ZIP kinase', 'type': 'Gene', 'normalised_id': '1613'}, {'start': '665', 'end': '670', 'name': 'MYPT1', 'type': 'Gene', 'normalised_id': '4659'}, {'start': '675', 'end': '681', 'name': 'myosin', 'type': 'Gene', 'normalised_id': '79784'}, {'start': '763', 'end': '769', 'name': 'myosin', 'type': 'Gene', 'normalised_id': '79784'}, {'start': '893', 'end': '898', 'name': 'MYPT1', 'type': 'Gene', 'normalised_id': '4659'}, {'start': '910', 'end': '916', 'name': 'myosin', 'type': 'Gene', 'normalised_id': '79784'}, {'start': '1084', 'end': '1090', 'name': 'myosin', 'type': 'Gene', 'normalised_id': '79784'}]</td>\n",
       "      <td>Zipper-interacting protein kinase (ZIP kinase) has been thought to be involved in apoptosis and the C-terminal leucine zipper motif is important for its function. Recent studies have revealed that ZIP kinase also plays a role in regulating myosin phosphorylation. Here, we found novel ZIP kinase isoform in which the C-terminal non-kinase domain containing a leucine zipper is eliminated (hZIPK-S). hZIPK-S binds to myosin phosphatase targeting subunit 1(MYPT1) similar to the long isoform (hZIPK-L). In addition, we found that hZIPK-S as well as hZIPK-L bind to myosin. These results indicate that a leucine zipper is not critical for the binding of ZIP kinase to MYPT1 and myosin. Consistently, hZIPK-S localized with stress-fibers where they co-localized with myosin. The residues 278-311, the C-terminal side of the kinase domain common to the both isoforms, is involved in the binding to MYPT1, while the myosin binding domain is within the kinase domain. These results suggest that the newly found hZIPK-S as well as the long isoform play an important role in the regulation of myosin phosphorylation.</td>\n",
       "      <td>3</td>\n",
       "      <td>15</td>\n",
       "      <td>{'4659': ['O14974', 'B2RAH5'], '1613': ['O43293', 'B3KNJ3'], '79784': ['Q7Z406', 'A1L2Z2', 'B3KWH4']}</td>\n",
       "      <td>None</td>\n",
       "      <td>None</td>\n",
       "    </tr>\n",
       "    <tr>\n",
       "      <th>2</th>\n",
       "      <td>1585519</td>\n",
       "      <td>phosphorylation</td>\n",
       "      <td>17126281</td>\n",
       "      <td>None</td>\n",
       "      <td>Zipper-interacting protein kinase (ZIP kinase) has been thought to be involved in apoptosis and the C-terminal leucine zipper motif is important for its function. Recent studies have revealed that ZIP kinase also plays a role in regulating myosin phosphorylation. Here, we found novel ZIP kinase isoform in which the C-terminal non-kinase domain containing a leucine zipper is eliminated (hZIPK-S). hZIPK-S binds to myosin phosphatase targeting subunit 1(MYPT1) similar to the long isoform (hZIPK-L). In addition, we found that hZIPK-S as well as hZIPK-L bind to myosin. These results indicate that a leucine zipper is not critical for the binding of ZIP kinase to MYPT1 and myosin. Consistently, hZIPK-S localized with stress-fibers where they co-localized with myosin. The residues 278-311, the C-terminal side of the kinase domain common to the both isoforms, is involved in the binding to MYPT1, while the myosin binding domain is within the kinase domain. These results suggest that the newly found hZIPK-S as well as the long isoform play an important role in the regulation of myosin phosphorylation.</td>\n",
       "      <td>True</td>\n",
       "      <td>[O43293-2]</td>\n",
       "      <td>1</td>\n",
       "      <td>True</td>\n",
       "      <td>5</td>\n",
       "      <td>O43293-2</td>\n",
       "      <td>O43293-2</td>\n",
       "      <td>[[o43293-2], [Death-associated protein kinase 3], [ZIPK-S], [DAPK3], [ZIPK], [DAP-like kinase], [MYPT1 kinase], [Zipper-interacting protein kinase]]</td>\n",
       "      <td>[[o43293-2], [Death-associated protein kinase 3], [ZIPK-S], [DAPK3], [ZIPK], [DAP-like kinase], [MYPT1 kinase], [Zipper-interacting protein kinase]]</td>\n",
       "      <td>O43293 (O43293) has been thought to be involved in apoptosis and the C-terminal leucine zipper motif is important for its function. Recent studies have revealed that O43293 also plays a role in regulating Q7Z406 phosphorylation. Here, we found novel O43293 isoform in which the C-terminal non-kinase domain containing a leucine zipper is eliminated (hZIPK-S). hZIPK-S binds to O14974(O14974) similar to the long isoform (hZIPK-L). In addition, we found that hZIPK-S as well as hZIPK-L bind to Q7Z406. These results indicate that a leucine zipper is not critical for the binding of O43293 to O14974 and Q7Z406. Consistently, hZIPK-S localized with stress-fibers where they co-localized with Q7Z406. The residues 278-311, the C-terminal side of the kinase domain common to the both isoforms, is involved in the binding to O14974, while the Q7Z406 binding domain is within the kinase domain. These results suggest that the newly found hZIPK-S as well as the long isoform play an important role in the regulation of Q7Z406 phosphorylation.</td>\n",
       "      <td>[{'charOffset': 0, 'len': 6, 'text': 'O43293'}, {'charOffset': 8, 'len': 6, 'text': 'O43293'}, {'charOffset': 166, 'len': 6, 'text': 'O43293'}, {'charOffset': 205, 'len': 6, 'text': 'Q7Z406'}, {'charOffset': 250, 'len': 6, 'text': 'O43293'}, {'charOffset': 377, 'len': 6, 'text': 'O14974'}, {'charOffset': 384, 'len': 6, 'text': 'O14974'}, {'charOffset': 493, 'len': 6, 'text': 'Q7Z406'}, {'charOffset': 581, 'len': 6, 'text': 'O43293'}, {'charOffset': 591, 'len': 6, 'text': 'O14974'}, {'charOffset': 602, 'len': 6, 'text': 'Q7Z406'}, {'charOffset': 690, 'len': 6, 'text': 'Q7Z406'}, {'charOffset': 820, 'len': 6, 'text': 'O14974'}, {'charOffset': 838, 'len': 6, 'text': 'Q7Z406'}, {'charOffset': 1012, 'len': 6, 'text': 'Q7Z406'}]</td>\n",
       "      <td>[{'start': '0', 'end': '33', 'name': 'Zipper-interacting protein kinase', 'type': 'Gene', 'normalised_id': '1613'}, {'start': '35', 'end': '45', 'name': 'ZIP kinase', 'type': 'Gene', 'normalised_id': '1613'}, {'start': '197', 'end': '207', 'name': 'ZIP kinase', 'type': 'Gene', 'normalised_id': '1613'}, {'start': '240', 'end': '246', 'name': 'myosin', 'type': 'Gene', 'normalised_id': '79784'}, {'start': '285', 'end': '295', 'name': 'ZIP kinase', 'type': 'Gene', 'normalised_id': '1613'}, {'start': '416', 'end': '454', 'name': 'myosin phosphatase targeting subunit 1', 'type': 'Gene', 'normalised_id': '4659'}, {'start': '455', 'end': '460', 'name': 'MYPT1', 'type': 'Gene', 'normalised_id': '4659'}, {'start': '563', 'end': '569', 'name': 'myosin', 'type': 'Gene', 'normalised_id': '79784'}, {'start': '651', 'end': '661', 'name': 'ZIP kinase', 'type': 'Gene', 'normalised_id': '1613'}, {'start': '665', 'end': '670', 'name': 'MYPT1', 'type': 'Gene', 'normalised_id': '4659'}, {'start': '675', 'end': '681', 'name': 'myosin', 'type': 'Gene', 'normalised_id': '79784'}, {'start': '763', 'end': '769', 'name': 'myosin', 'type': 'Gene', 'normalised_id': '79784'}, {'start': '893', 'end': '898', 'name': 'MYPT1', 'type': 'Gene', 'normalised_id': '4659'}, {'start': '910', 'end': '916', 'name': 'myosin', 'type': 'Gene', 'normalised_id': '79784'}, {'start': '1084', 'end': '1090', 'name': 'myosin', 'type': 'Gene', 'normalised_id': '79784'}]</td>\n",
       "      <td>Zipper-interacting protein kinase (ZIP kinase) has been thought to be involved in apoptosis and the C-terminal leucine zipper motif is important for its function. Recent studies have revealed that ZIP kinase also plays a role in regulating myosin phosphorylation. Here, we found novel ZIP kinase isoform in which the C-terminal non-kinase domain containing a leucine zipper is eliminated (hZIPK-S). hZIPK-S binds to myosin phosphatase targeting subunit 1(MYPT1) similar to the long isoform (hZIPK-L). In addition, we found that hZIPK-S as well as hZIPK-L bind to myosin. These results indicate that a leucine zipper is not critical for the binding of ZIP kinase to MYPT1 and myosin. Consistently, hZIPK-S localized with stress-fibers where they co-localized with myosin. The residues 278-311, the C-terminal side of the kinase domain common to the both isoforms, is involved in the binding to MYPT1, while the myosin binding domain is within the kinase domain. These results suggest that the newly found hZIPK-S as well as the long isoform play an important role in the regulation of myosin phosphorylation.</td>\n",
       "      <td>3</td>\n",
       "      <td>15</td>\n",
       "      <td>{'4659': ['O14974', 'B2RAH5'], '1613': ['O43293', 'B3KNJ3'], '79784': ['Q7Z406', 'A1L2Z2', 'B3KWH4']}</td>\n",
       "      <td>None</td>\n",
       "      <td>None</td>\n",
       "    </tr>\n",
       "  </tbody>\n",
       "</table>\n",
       "</div>"
      ],
      "text/plain": [
       "  interactionId  interactionType  pubmedId pubmedTitle  \\\n",
       "0       1585513  phosphorylation  17126281        None   \n",
       "1       1585516  phosphorylation  17126281        None   \n",
       "2       1585519  phosphorylation  17126281        None   \n",
       "\n",
       "                                                                                                                                                                                                                                                                                                                                                                                                                                                                                                                                                                                                                                                                                                                                                                                                                                                                                                                                                                                                                                                                                                                                        pubmedabstract  \\\n",
       "0  Zipper-interacting protein kinase (ZIP kinase) has been thought to be involved in apoptosis and the C-terminal leucine zipper motif is important for its function. Recent studies have revealed that ZIP kinase also plays a role in regulating myosin phosphorylation. Here, we found novel ZIP kinase isoform in which the C-terminal non-kinase domain containing a leucine zipper is eliminated (hZIPK-S). hZIPK-S binds to myosin phosphatase targeting subunit 1(MYPT1) similar to the long isoform (hZIPK-L). In addition, we found that hZIPK-S as well as hZIPK-L bind to myosin. These results indicate that a leucine zipper is not critical for the binding of ZIP kinase to MYPT1 and myosin. Consistently, hZIPK-S localized with stress-fibers where they co-localized with myosin. The residues 278-311, the C-terminal side of the kinase domain common to the both isoforms, is involved in the binding to MYPT1, while the myosin binding domain is within the kinase domain. These results suggest that the newly found hZIPK-S as well as the long isoform play an important role in the regulation of myosin phosphorylation.   \n",
       "1  Zipper-interacting protein kinase (ZIP kinase) has been thought to be involved in apoptosis and the C-terminal leucine zipper motif is important for its function. Recent studies have revealed that ZIP kinase also plays a role in regulating myosin phosphorylation. Here, we found novel ZIP kinase isoform in which the C-terminal non-kinase domain containing a leucine zipper is eliminated (hZIPK-S). hZIPK-S binds to myosin phosphatase targeting subunit 1(MYPT1) similar to the long isoform (hZIPK-L). In addition, we found that hZIPK-S as well as hZIPK-L bind to myosin. These results indicate that a leucine zipper is not critical for the binding of ZIP kinase to MYPT1 and myosin. Consistently, hZIPK-S localized with stress-fibers where they co-localized with myosin. The residues 278-311, the C-terminal side of the kinase domain common to the both isoforms, is involved in the binding to MYPT1, while the myosin binding domain is within the kinase domain. These results suggest that the newly found hZIPK-S as well as the long isoform play an important role in the regulation of myosin phosphorylation.   \n",
       "2  Zipper-interacting protein kinase (ZIP kinase) has been thought to be involved in apoptosis and the C-terminal leucine zipper motif is important for its function. Recent studies have revealed that ZIP kinase also plays a role in regulating myosin phosphorylation. Here, we found novel ZIP kinase isoform in which the C-terminal non-kinase domain containing a leucine zipper is eliminated (hZIPK-S). hZIPK-S binds to myosin phosphatase targeting subunit 1(MYPT1) similar to the long isoform (hZIPK-L). In addition, we found that hZIPK-S as well as hZIPK-L bind to myosin. These results indicate that a leucine zipper is not critical for the binding of ZIP kinase to MYPT1 and myosin. Consistently, hZIPK-S localized with stress-fibers where they co-localized with myosin. The residues 278-311, the C-terminal side of the kinase domain common to the both isoforms, is involved in the binding to MYPT1, while the myosin binding domain is within the kinase domain. These results suggest that the newly found hZIPK-S as well as the long isoform play an important role in the regulation of myosin phosphorylation.   \n",
       "\n",
       "   isValid     flatparticpants  participants_count  hasTriggerWord  \\\n",
       "0     True  [O43293-2, Q10728]                   2            True   \n",
       "1     True  [O43293-1, Q10728]                   2            True   \n",
       "2     True          [O43293-2]                   1            True   \n",
       "\n",
       "   entityMentionsCount participant1Id participant2Id  \\\n",
       "0                    9         Q10728       O43293-2   \n",
       "1                    9       O43293-1         Q10728   \n",
       "2                    5       O43293-2       O43293-2   \n",
       "\n",
       "                                                                                                                                                                                                                                                                                               participant1Alias  \\\n",
       "0  [[mypt1_rat], [Protein phosphatase 1 regulatory subunit 12A], [Ppp1r12a], [Mbs], [Mypt1], [Myosin phosphatase-targeting subunit 1], [Protein phosphatase myosin-binding subunit], [MBSP], [Serine/threonine protein phosphatase PP1 smooth muscle regulatory subunit M110], [Protein phosphatase subunit 1M]]   \n",
       "1                                                                                                                                                           [[o43293-1], [Death-associated protein kinase 3], [ZIPK-L], [DAPK3], [ZIPK], [DAP-like kinase], [MYPT1 kinase], [Zipper-interacting protein kinase]]   \n",
       "2                                                                                                                                                           [[o43293-2], [Death-associated protein kinase 3], [ZIPK-S], [DAPK3], [ZIPK], [DAP-like kinase], [MYPT1 kinase], [Zipper-interacting protein kinase]]   \n",
       "\n",
       "                                                                                                                                                                                                                                                                                               participant2Alias  \\\n",
       "0                                                                                                                                                           [[o43293-2], [Death-associated protein kinase 3], [ZIPK-S], [DAPK3], [ZIPK], [DAP-like kinase], [MYPT1 kinase], [Zipper-interacting protein kinase]]   \n",
       "1  [[mypt1_rat], [Protein phosphatase 1 regulatory subunit 12A], [Ppp1r12a], [Mbs], [Mypt1], [Myosin phosphatase-targeting subunit 1], [Protein phosphatase myosin-binding subunit], [MBSP], [Serine/threonine protein phosphatase PP1 smooth muscle regulatory subunit M110], [Protein phosphatase subunit 1M]]   \n",
       "2                                                                                                                                                           [[o43293-2], [Death-associated protein kinase 3], [ZIPK-S], [DAPK3], [ZIPK], [DAP-like kinase], [MYPT1 kinase], [Zipper-interacting protein kinase]]   \n",
       "\n",
       "                                                                                                                                                                                                                                                                                                                                                                                                                                                                                                                                                                                                                                                                                                                                                                                                                                                                                                                                                                                                                                                           normalised_abstract  \\\n",
       "0  O43293 (O43293) has been thought to be involved in apoptosis and the C-terminal leucine zipper motif is important for its function. Recent studies have revealed that O43293 also plays a role in regulating Q7Z406 phosphorylation. Here, we found novel O43293 isoform in which the C-terminal non-kinase domain containing a leucine zipper is eliminated (hZIPK-S). hZIPK-S binds to O14974(O14974) similar to the long isoform (hZIPK-L). In addition, we found that hZIPK-S as well as hZIPK-L bind to Q7Z406. These results indicate that a leucine zipper is not critical for the binding of O43293 to O14974 and Q7Z406. Consistently, hZIPK-S localized with stress-fibers where they co-localized with Q7Z406. The residues 278-311, the C-terminal side of the kinase domain common to the both isoforms, is involved in the binding to O14974, while the Q7Z406 binding domain is within the kinase domain. These results suggest that the newly found hZIPK-S as well as the long isoform play an important role in the regulation of Q7Z406 phosphorylation.   \n",
       "1  O43293 (O43293) has been thought to be involved in apoptosis and the C-terminal leucine zipper motif is important for its function. Recent studies have revealed that O43293 also plays a role in regulating Q7Z406 phosphorylation. Here, we found novel O43293 isoform in which the C-terminal non-kinase domain containing a leucine zipper is eliminated (hZIPK-S). hZIPK-S binds to O14974(O14974) similar to the long isoform (hZIPK-L). In addition, we found that hZIPK-S as well as hZIPK-L bind to Q7Z406. These results indicate that a leucine zipper is not critical for the binding of O43293 to O14974 and Q7Z406. Consistently, hZIPK-S localized with stress-fibers where they co-localized with Q7Z406. The residues 278-311, the C-terminal side of the kinase domain common to the both isoforms, is involved in the binding to O14974, while the Q7Z406 binding domain is within the kinase domain. These results suggest that the newly found hZIPK-S as well as the long isoform play an important role in the regulation of Q7Z406 phosphorylation.   \n",
       "2  O43293 (O43293) has been thought to be involved in apoptosis and the C-terminal leucine zipper motif is important for its function. Recent studies have revealed that O43293 also plays a role in regulating Q7Z406 phosphorylation. Here, we found novel O43293 isoform in which the C-terminal non-kinase domain containing a leucine zipper is eliminated (hZIPK-S). hZIPK-S binds to O14974(O14974) similar to the long isoform (hZIPK-L). In addition, we found that hZIPK-S as well as hZIPK-L bind to Q7Z406. These results indicate that a leucine zipper is not critical for the binding of O43293 to O14974 and Q7Z406. Consistently, hZIPK-S localized with stress-fibers where they co-localized with Q7Z406. The residues 278-311, the C-terminal side of the kinase domain common to the both isoforms, is involved in the binding to O14974, while the Q7Z406 binding domain is within the kinase domain. These results suggest that the newly found hZIPK-S as well as the long isoform play an important role in the regulation of Q7Z406 phosphorylation.   \n",
       "\n",
       "                                                                                                                                                                                                                                                                                                                                                                                                                                                                                                                                                                                                                                                                                                                                normalised_abstract_annotations  \\\n",
       "0  [{'charOffset': 0, 'len': 6, 'text': 'O43293'}, {'charOffset': 8, 'len': 6, 'text': 'O43293'}, {'charOffset': 166, 'len': 6, 'text': 'O43293'}, {'charOffset': 205, 'len': 6, 'text': 'Q7Z406'}, {'charOffset': 250, 'len': 6, 'text': 'O43293'}, {'charOffset': 377, 'len': 6, 'text': 'O14974'}, {'charOffset': 384, 'len': 6, 'text': 'O14974'}, {'charOffset': 493, 'len': 6, 'text': 'Q7Z406'}, {'charOffset': 581, 'len': 6, 'text': 'O43293'}, {'charOffset': 591, 'len': 6, 'text': 'O14974'}, {'charOffset': 602, 'len': 6, 'text': 'Q7Z406'}, {'charOffset': 690, 'len': 6, 'text': 'Q7Z406'}, {'charOffset': 820, 'len': 6, 'text': 'O14974'}, {'charOffset': 838, 'len': 6, 'text': 'Q7Z406'}, {'charOffset': 1012, 'len': 6, 'text': 'Q7Z406'}]   \n",
       "1  [{'charOffset': 0, 'len': 6, 'text': 'O43293'}, {'charOffset': 8, 'len': 6, 'text': 'O43293'}, {'charOffset': 166, 'len': 6, 'text': 'O43293'}, {'charOffset': 205, 'len': 6, 'text': 'Q7Z406'}, {'charOffset': 250, 'len': 6, 'text': 'O43293'}, {'charOffset': 377, 'len': 6, 'text': 'O14974'}, {'charOffset': 384, 'len': 6, 'text': 'O14974'}, {'charOffset': 493, 'len': 6, 'text': 'Q7Z406'}, {'charOffset': 581, 'len': 6, 'text': 'O43293'}, {'charOffset': 591, 'len': 6, 'text': 'O14974'}, {'charOffset': 602, 'len': 6, 'text': 'Q7Z406'}, {'charOffset': 690, 'len': 6, 'text': 'Q7Z406'}, {'charOffset': 820, 'len': 6, 'text': 'O14974'}, {'charOffset': 838, 'len': 6, 'text': 'Q7Z406'}, {'charOffset': 1012, 'len': 6, 'text': 'Q7Z406'}]   \n",
       "2  [{'charOffset': 0, 'len': 6, 'text': 'O43293'}, {'charOffset': 8, 'len': 6, 'text': 'O43293'}, {'charOffset': 166, 'len': 6, 'text': 'O43293'}, {'charOffset': 205, 'len': 6, 'text': 'Q7Z406'}, {'charOffset': 250, 'len': 6, 'text': 'O43293'}, {'charOffset': 377, 'len': 6, 'text': 'O14974'}, {'charOffset': 384, 'len': 6, 'text': 'O14974'}, {'charOffset': 493, 'len': 6, 'text': 'Q7Z406'}, {'charOffset': 581, 'len': 6, 'text': 'O43293'}, {'charOffset': 591, 'len': 6, 'text': 'O14974'}, {'charOffset': 602, 'len': 6, 'text': 'Q7Z406'}, {'charOffset': 690, 'len': 6, 'text': 'Q7Z406'}, {'charOffset': 820, 'len': 6, 'text': 'O14974'}, {'charOffset': 838, 'len': 6, 'text': 'Q7Z406'}, {'charOffset': 1012, 'len': 6, 'text': 'Q7Z406'}]   \n",
       "\n",
       "                                                                                                                                                                                                                                                                                                                                                                                                                                                                                                                                                                                                                                                                                                                                                                                                                                                                                                                                                                                                                                                                                                                                                                                                                                                                                                                                                                                                                                                                                        annotations  \\\n",
       "0  [{'start': '0', 'end': '33', 'name': 'Zipper-interacting protein kinase', 'type': 'Gene', 'normalised_id': '1613'}, {'start': '35', 'end': '45', 'name': 'ZIP kinase', 'type': 'Gene', 'normalised_id': '1613'}, {'start': '197', 'end': '207', 'name': 'ZIP kinase', 'type': 'Gene', 'normalised_id': '1613'}, {'start': '240', 'end': '246', 'name': 'myosin', 'type': 'Gene', 'normalised_id': '79784'}, {'start': '285', 'end': '295', 'name': 'ZIP kinase', 'type': 'Gene', 'normalised_id': '1613'}, {'start': '416', 'end': '454', 'name': 'myosin phosphatase targeting subunit 1', 'type': 'Gene', 'normalised_id': '4659'}, {'start': '455', 'end': '460', 'name': 'MYPT1', 'type': 'Gene', 'normalised_id': '4659'}, {'start': '563', 'end': '569', 'name': 'myosin', 'type': 'Gene', 'normalised_id': '79784'}, {'start': '651', 'end': '661', 'name': 'ZIP kinase', 'type': 'Gene', 'normalised_id': '1613'}, {'start': '665', 'end': '670', 'name': 'MYPT1', 'type': 'Gene', 'normalised_id': '4659'}, {'start': '675', 'end': '681', 'name': 'myosin', 'type': 'Gene', 'normalised_id': '79784'}, {'start': '763', 'end': '769', 'name': 'myosin', 'type': 'Gene', 'normalised_id': '79784'}, {'start': '893', 'end': '898', 'name': 'MYPT1', 'type': 'Gene', 'normalised_id': '4659'}, {'start': '910', 'end': '916', 'name': 'myosin', 'type': 'Gene', 'normalised_id': '79784'}, {'start': '1084', 'end': '1090', 'name': 'myosin', 'type': 'Gene', 'normalised_id': '79784'}]   \n",
       "1  [{'start': '0', 'end': '33', 'name': 'Zipper-interacting protein kinase', 'type': 'Gene', 'normalised_id': '1613'}, {'start': '35', 'end': '45', 'name': 'ZIP kinase', 'type': 'Gene', 'normalised_id': '1613'}, {'start': '197', 'end': '207', 'name': 'ZIP kinase', 'type': 'Gene', 'normalised_id': '1613'}, {'start': '240', 'end': '246', 'name': 'myosin', 'type': 'Gene', 'normalised_id': '79784'}, {'start': '285', 'end': '295', 'name': 'ZIP kinase', 'type': 'Gene', 'normalised_id': '1613'}, {'start': '416', 'end': '454', 'name': 'myosin phosphatase targeting subunit 1', 'type': 'Gene', 'normalised_id': '4659'}, {'start': '455', 'end': '460', 'name': 'MYPT1', 'type': 'Gene', 'normalised_id': '4659'}, {'start': '563', 'end': '569', 'name': 'myosin', 'type': 'Gene', 'normalised_id': '79784'}, {'start': '651', 'end': '661', 'name': 'ZIP kinase', 'type': 'Gene', 'normalised_id': '1613'}, {'start': '665', 'end': '670', 'name': 'MYPT1', 'type': 'Gene', 'normalised_id': '4659'}, {'start': '675', 'end': '681', 'name': 'myosin', 'type': 'Gene', 'normalised_id': '79784'}, {'start': '763', 'end': '769', 'name': 'myosin', 'type': 'Gene', 'normalised_id': '79784'}, {'start': '893', 'end': '898', 'name': 'MYPT1', 'type': 'Gene', 'normalised_id': '4659'}, {'start': '910', 'end': '916', 'name': 'myosin', 'type': 'Gene', 'normalised_id': '79784'}, {'start': '1084', 'end': '1090', 'name': 'myosin', 'type': 'Gene', 'normalised_id': '79784'}]   \n",
       "2  [{'start': '0', 'end': '33', 'name': 'Zipper-interacting protein kinase', 'type': 'Gene', 'normalised_id': '1613'}, {'start': '35', 'end': '45', 'name': 'ZIP kinase', 'type': 'Gene', 'normalised_id': '1613'}, {'start': '197', 'end': '207', 'name': 'ZIP kinase', 'type': 'Gene', 'normalised_id': '1613'}, {'start': '240', 'end': '246', 'name': 'myosin', 'type': 'Gene', 'normalised_id': '79784'}, {'start': '285', 'end': '295', 'name': 'ZIP kinase', 'type': 'Gene', 'normalised_id': '1613'}, {'start': '416', 'end': '454', 'name': 'myosin phosphatase targeting subunit 1', 'type': 'Gene', 'normalised_id': '4659'}, {'start': '455', 'end': '460', 'name': 'MYPT1', 'type': 'Gene', 'normalised_id': '4659'}, {'start': '563', 'end': '569', 'name': 'myosin', 'type': 'Gene', 'normalised_id': '79784'}, {'start': '651', 'end': '661', 'name': 'ZIP kinase', 'type': 'Gene', 'normalised_id': '1613'}, {'start': '665', 'end': '670', 'name': 'MYPT1', 'type': 'Gene', 'normalised_id': '4659'}, {'start': '675', 'end': '681', 'name': 'myosin', 'type': 'Gene', 'normalised_id': '79784'}, {'start': '763', 'end': '769', 'name': 'myosin', 'type': 'Gene', 'normalised_id': '79784'}, {'start': '893', 'end': '898', 'name': 'MYPT1', 'type': 'Gene', 'normalised_id': '4659'}, {'start': '910', 'end': '916', 'name': 'myosin', 'type': 'Gene', 'normalised_id': '79784'}, {'start': '1084', 'end': '1090', 'name': 'myosin', 'type': 'Gene', 'normalised_id': '79784'}]   \n",
       "\n",
       "                                                                                                                                                                                                                                                                                                                                                                                                                                                                                                                                                                                                                                                                                                                                                                                                                                                                                                                                                                                                                                                                                                                                  annotations_abstract  \\\n",
       "0  Zipper-interacting protein kinase (ZIP kinase) has been thought to be involved in apoptosis and the C-terminal leucine zipper motif is important for its function. Recent studies have revealed that ZIP kinase also plays a role in regulating myosin phosphorylation. Here, we found novel ZIP kinase isoform in which the C-terminal non-kinase domain containing a leucine zipper is eliminated (hZIPK-S). hZIPK-S binds to myosin phosphatase targeting subunit 1(MYPT1) similar to the long isoform (hZIPK-L). In addition, we found that hZIPK-S as well as hZIPK-L bind to myosin. These results indicate that a leucine zipper is not critical for the binding of ZIP kinase to MYPT1 and myosin. Consistently, hZIPK-S localized with stress-fibers where they co-localized with myosin. The residues 278-311, the C-terminal side of the kinase domain common to the both isoforms, is involved in the binding to MYPT1, while the myosin binding domain is within the kinase domain. These results suggest that the newly found hZIPK-S as well as the long isoform play an important role in the regulation of myosin phosphorylation.   \n",
       "1  Zipper-interacting protein kinase (ZIP kinase) has been thought to be involved in apoptosis and the C-terminal leucine zipper motif is important for its function. Recent studies have revealed that ZIP kinase also plays a role in regulating myosin phosphorylation. Here, we found novel ZIP kinase isoform in which the C-terminal non-kinase domain containing a leucine zipper is eliminated (hZIPK-S). hZIPK-S binds to myosin phosphatase targeting subunit 1(MYPT1) similar to the long isoform (hZIPK-L). In addition, we found that hZIPK-S as well as hZIPK-L bind to myosin. These results indicate that a leucine zipper is not critical for the binding of ZIP kinase to MYPT1 and myosin. Consistently, hZIPK-S localized with stress-fibers where they co-localized with myosin. The residues 278-311, the C-terminal side of the kinase domain common to the both isoforms, is involved in the binding to MYPT1, while the myosin binding domain is within the kinase domain. These results suggest that the newly found hZIPK-S as well as the long isoform play an important role in the regulation of myosin phosphorylation.   \n",
       "2  Zipper-interacting protein kinase (ZIP kinase) has been thought to be involved in apoptosis and the C-terminal leucine zipper motif is important for its function. Recent studies have revealed that ZIP kinase also plays a role in regulating myosin phosphorylation. Here, we found novel ZIP kinase isoform in which the C-terminal non-kinase domain containing a leucine zipper is eliminated (hZIPK-S). hZIPK-S binds to myosin phosphatase targeting subunit 1(MYPT1) similar to the long isoform (hZIPK-L). In addition, we found that hZIPK-S as well as hZIPK-L bind to myosin. These results indicate that a leucine zipper is not critical for the binding of ZIP kinase to MYPT1 and myosin. Consistently, hZIPK-S localized with stress-fibers where they co-localized with myosin. The residues 278-311, the C-terminal side of the kinase domain common to the both isoforms, is involved in the binding to MYPT1, while the myosin binding domain is within the kinase domain. These results suggest that the newly found hZIPK-S as well as the long isoform play an important role in the regulation of myosin phosphorylation.   \n",
       "\n",
       "   num_unique_gene_normalised_id  num_gene_normalised_id  \\\n",
       "0                              3                      15   \n",
       "1                              3                      15   \n",
       "2                              3                      15   \n",
       "\n",
       "                                                                                     gene_to_uniprot_map  \\\n",
       "0  {'4659': ['O14974', 'B2RAH5'], '1613': ['O43293', 'B3KNJ3'], '79784': ['Q7Z406', 'A1L2Z2', 'B3KWH4']}   \n",
       "1  {'4659': ['O14974', 'B2RAH5'], '1613': ['O43293', 'B3KNJ3'], '79784': ['Q7Z406', 'A1L2Z2', 'B3KWH4']}   \n",
       "2  {'4659': ['O14974', 'B2RAH5'], '1613': ['O43293', 'B3KNJ3'], '79784': ['Q7Z406', 'A1L2Z2', 'B3KWH4']}   \n",
       "\n",
       "  participant1Name participant2Name  \n",
       "0             None             None  \n",
       "1             None             None  \n",
       "2             None             None  "
      ]
     },
     "execution_count": 48,
     "metadata": {},
     "output_type": "execute_result"
    }
   ],
   "source": [
    "data_filtered.head(n=3)"
   ]
  },
  {
   "cell_type": "code",
   "execution_count": 49,
   "metadata": {
    "pycharm": {
     "is_executing": true
    }
   },
   "outputs": [
    {
     "data": {
      "text/plain": [
       "(41, 23)"
      ]
     },
     "execution_count": 49,
     "metadata": {},
     "output_type": "execute_result"
    }
   ],
   "source": [
    "data_filtered.query(\"interactionType == 'acetylation'\").shape"
   ]
  },
  {
   "cell_type": "code",
   "execution_count": 50,
   "metadata": {
    "pycharm": {
     "is_executing": true
    }
   },
   "outputs": [
    {
     "data": {
      "text/plain": [
       "<matplotlib.axes._subplots.AxesSubplot at 0x7ff377deb510>"
      ]
     },
     "execution_count": 50,
     "metadata": {},
     "output_type": "execute_result"
    },
    {
     "data": {
      "image/png": "[encoded data removed]",
      "text/plain": [
       "<Figure size 1080x360 with 4 Axes>"
      ]
     },
     "metadata": {},
     "output_type": "display_data"
    }
   ],
   "source": [
    "\n",
    "fig, ax =  plt.subplots( 1,4, figsize=(15,5))\n",
    "\n",
    "tmp = pd.DataFrame()\n",
    "\n",
    "data_filtered[\"particpant1Exists\"] = data_filtered.apply(lambda r: r[\"participant1Id\"] in r[\"normalised_abstract\"]   , 1)\n",
    "data_filtered[\"particpant1Exists\"].value_counts().plot.pie(ax=ax[0], autopct='%.2f')\n",
    "\n",
    "data_filtered[\"particpant2Exists\"] = data_filtered.apply(lambda r: r[\"participant2Id\"] in r[\"normalised_abstract\"]   , 1)\n",
    "data_filtered[\"particpant2Exists\"].value_counts().plot.pie(ax=ax[1], autopct='%.2f')\n",
    "\n",
    "\n",
    "data_filtered[\"bothParticpantsExist\"] = data_filtered.apply(lambda r: r[\"particpant2Exists\"] and r[\"particpant1Exists\"]   , 1)\n",
    "data_filtered[\"bothParticpantsExist\"].value_counts().plot.pie(ax=ax[2], autopct='%.2f')\n",
    "\n",
    "data_filtered[\"noParticpantsExist\"] = data_filtered.apply(lambda r: not (r[\"particpant2Exists\"] or r[\"particpant1Exists\"])   , 1)\n",
    "data_filtered[\"noParticpantsExist\"].value_counts().plot.pie(ax=ax[3], autopct='%.2f')\n"
   ]
  },
  {
   "cell_type": "code",
   "execution_count": 51,
   "metadata": {
    "pycharm": {
     "is_executing": true
    }
   },
   "outputs": [
    {
     "data": {
      "image/png": "[encoded data removed]",
      "text/plain": [
       "<Figure size 1440x360 with 7 Axes>"
      ]
     },
     "metadata": {
      "needs_background": "light"
     },
     "output_type": "display_data"
    }
   ],
   "source": [
    "fig, ax = plt.subplots(1,7, figsize=(20,5))\n",
    "\n",
    "data_filtered.groupby([ \"bothParticpantsExist\", 'interactionType']).size().unstack().plot.bar(subplots=True, ax=ax)\n",
    "plt.show()"
   ]
  },
  {
   "cell_type": "code",
   "execution_count": 52,
   "metadata": {
    "pycharm": {
     "is_executing": true
    }
   },
   "outputs": [
    {
     "data": {
      "text/html": [
       "<div>\n",
       "<style scoped>\n",
       "    .dataframe tbody tr th:only-of-type {\n",
       "        vertical-align: middle;\n",
       "    }\n",
       "\n",
       "    .dataframe tbody tr th {\n",
       "        vertical-align: top;\n",
       "    }\n",
       "\n",
       "    .dataframe thead th {\n",
       "        text-align: right;\n",
       "    }\n",
       "</style>\n",
       "<table border=\"1\" class=\"dataframe\">\n",
       "  <thead>\n",
       "    <tr style=\"text-align: right;\">\n",
       "      <th></th>\n",
       "      <th>interactionId</th>\n",
       "      <th>interactionType</th>\n",
       "      <th>pubmedId</th>\n",
       "      <th>pubmedTitle</th>\n",
       "      <th>pubmedabstract</th>\n",
       "      <th>isValid</th>\n",
       "      <th>flatparticpants</th>\n",
       "      <th>participants_count</th>\n",
       "      <th>hasTriggerWord</th>\n",
       "      <th>entityMentionsCount</th>\n",
       "      <th>participant1Id</th>\n",
       "      <th>participant2Id</th>\n",
       "      <th>participant1Alias</th>\n",
       "      <th>participant2Alias</th>\n",
       "      <th>normalised_abstract</th>\n",
       "      <th>normalised_abstract_annotations</th>\n",
       "      <th>annotations</th>\n",
       "      <th>annotations_abstract</th>\n",
       "      <th>num_unique_gene_normalised_id</th>\n",
       "      <th>num_gene_normalised_id</th>\n",
       "      <th>gene_to_uniprot_map</th>\n",
       "      <th>participant1Name</th>\n",
       "      <th>participant2Name</th>\n",
       "      <th>particpant1Exists</th>\n",
       "      <th>particpant2Exists</th>\n",
       "      <th>bothParticpantsExist</th>\n",
       "      <th>noParticpantsExist</th>\n",
       "    </tr>\n",
       "  </thead>\n",
       "  <tbody>\n",
       "    <tr>\n",
       "      <th>516</th>\n",
       "      <td>1272148</td>\n",
       "      <td>phosphorylation</td>\n",
       "      <td>22094256</td>\n",
       "      <td>None</td>\n",
       "      <td>Cyclin D-dependent kinases (CDK4 and CDK6) are positive regulators of cell cycle entry and they are overactive in the majority of human cancers. However, it is currently not completely understood by which cellular mechanisms CDK4/6 promote tumorigenesis, largely due to the limited number of identified substrates. Here we performed a systematic screen for substrates of cyclin D1-CDK4 and cyclin D3-CDK6. We identified the Forkhead Box M1 (FOXM1) transcription factor as a common critical phosphorylation target. CDK4/6 stabilize and activate FOXM1, thereby maintain expression of G1/S phase genes, suppress the levels of reactive oxygen species (ROS), and protect cancer cells from senescence. Melanoma cells, unlike melanocytes, are highly reliant on CDK4/6-mediated senescence suppression, which makes them particularly susceptible to CDK4/6 inhibition.</td>\n",
       "      <td>True</td>\n",
       "      <td>[Q14814, Q00534]</td>\n",
       "      <td>2</td>\n",
       "      <td>True</td>\n",
       "      <td>4</td>\n",
       "      <td>Q00534</td>\n",
       "      <td>Q14814</td>\n",
       "      <td>[[cdk6_human], [Cyclin-dependent kinase 6], [CDK6], [Serine/threonine-protein kinase PLSTIRE], [Cell division protein kinase 6], [CDKN6]]</td>\n",
       "      <td>[[mef2d_human], [Myocyte-specific enhancer factor 2D], [MEF2D]]</td>\n",
       "      <td>Cyclin D-dependent kinases (P11802 and Q00534) are positive regulators of cell cycle entry and they are overactive in the majority of human cancers. However, it is currently not completely understood by which cellular mechanisms 1019;1021 promote tumorigenesis, largely due to the limited number of identified substrates. Here we performed a systematic screen for substrates of P24385-P11802 and P30281-Q00534. We identified the Q08050 (Q08050) transcription factor as a common critical phosphorylation target. 1019;1021 stabilize and activate Q08050, thereby maintain expression of G1/S phase genes, suppress the levels of reactive oxygen species (ROS), and protect cancer cells from senescence. Melanoma cells, unlike melanocytes, are highly reliant on 1019;1021-mediated senescence suppression, which makes them particularly susceptible to 1019;1021 inhibition.</td>\n",
       "      <td>[{'charOffset': 28, 'len': 6, 'text': 'P11802'}, {'charOffset': 39, 'len': 6, 'text': 'Q00534'}, {'charOffset': 229, 'len': 9, 'text': '1019;1021'}, {'charOffset': 378, 'len': 6, 'text': 'P24385'}, {'charOffset': 385, 'len': 6, 'text': 'P11802'}, {'charOffset': 396, 'len': 6, 'text': 'P30281'}, {'charOffset': 403, 'len': 6, 'text': 'Q00534'}, {'charOffset': 429, 'len': 6, 'text': 'Q08050'}, {'charOffset': 437, 'len': 6, 'text': 'Q08050'}, {'charOffset': 511, 'len': 9, 'text': '1019;1021'}, {'charOffset': 544, 'len': 6, 'text': 'Q08050'}, {'charOffset': 755, 'len': 9, 'text': '1019;1021'}, {'charOffset': 843, 'len': 9, 'text': '1019;1021'}]</td>\n",
       "      <td>[{'start': '28', 'end': '32', 'name': 'CDK4', 'type': 'Gene', 'normalised_id': '1019'}, {'start': '37', 'end': '41', 'name': 'CDK6', 'type': 'Gene', 'normalised_id': '1021'}, {'start': '130', 'end': '135', 'name': 'human', 'type': 'Species', 'normalised_id': '9606'}, {'start': '225', 'end': '231', 'name': 'CDK4/6', 'type': 'Gene', 'normalised_id': '1019;1021'}, {'start': '371', 'end': '380', 'name': 'cyclin D1', 'type': 'Gene', 'normalised_id': '595'}, {'start': '381', 'end': '385', 'name': 'CDK4', 'type': 'Gene', 'normalised_id': '1019'}, {'start': '390', 'end': '399', 'name': 'cyclin D3', 'type': 'Gene', 'normalised_id': '896'}, {'start': '400', 'end': '404', 'name': 'CDK6', 'type': 'Gene', 'normalised_id': '1021'}, {'start': '424', 'end': '439', 'name': 'Forkhead Box M1', 'type': 'Gene', 'normalised_id': '2305'}, {'start': '441', 'end': '446', 'name': 'FOXM1', 'type': 'Gene', 'normalised_id': '2305'}, {'start': '514', 'end': '520', 'name': 'CDK4/6', 'type': 'Gene', 'normalised_id': '1019;1021'}, {'start': '544', 'end': '549', 'name': 'FOXM1', 'type': 'Gene', 'normalised_id': '2305'}, {'start': '754', 'end': '760', 'name': 'CDK4/6', 'type': 'Gene', 'normalised_id': '1019;1021'}, {'start': '839', 'end': '845', 'name': 'CDK4/6', 'type': 'Gene', 'normalised_id': '1019;1021'}]</td>\n",
       "      <td>Cyclin D-dependent kinases (CDK4 and CDK6) are positive regulators of cell cycle entry and they are overactive in the majority of human cancers. However, it is currently not completely understood by which cellular mechanisms CDK4/6 promote tumorigenesis, largely due to the limited number of identified substrates. Here we performed a systematic screen for substrates of cyclin D1-CDK4 and cyclin D3-CDK6. We identified the Forkhead Box M1 (FOXM1) transcription factor as a common critical phosphorylation target. CDK4/6 stabilize and activate FOXM1, thereby maintain expression of G1/S phase genes, suppress the levels of reactive oxygen species (ROS), and protect cancer cells from senescence. Melanoma cells, unlike melanocytes, are highly reliant on CDK4/6-mediated senescence suppression, which makes them particularly susceptible to CDK4/6 inhibition.</td>\n",
       "      <td>6</td>\n",
       "      <td>13</td>\n",
       "      <td>{'1019;1021': [], '896': ['P30281', 'B3KP19', 'D6RI00', 'Q5T8J1'], '1019': ['P11802', 'A0A024RBB6'], '2305': ['Q08050', 'A0A2P9DTZ8', 'A0A2P9DTZ1', 'Q53Y49', 'A0A0D9SFF0', 'A8K591'], '1021': ['Q00534'], '595': ['P24385', 'Q6FI00']}</td>\n",
       "      <td>CDK6</td>\n",
       "      <td>None</td>\n",
       "      <td>True</td>\n",
       "      <td>False</td>\n",
       "      <td>False</td>\n",
       "      <td>False</td>\n",
       "    </tr>\n",
       "    <tr>\n",
       "      <th>550</th>\n",
       "      <td>1272799</td>\n",
       "      <td>phosphorylation</td>\n",
       "      <td>22113938</td>\n",
       "      <td>None</td>\n",
       "      <td>Deciphering the kinase-substrate relationship is vital for the study of phosphorylation network. The use of immobilized proteins on protein chip as the library for screening of potential kinase substrates is a tried-and-tested method. However, information on phosphorylation sites is lacking and the creation of the library with proteins of whole proteome by recombinant expression is costly and difficult. In this study, a new solid-phase approach by immobilization of proteins from cell lysate onto beads as a protein library for kinase substrate screening was developed. It was found that consensus phosphorylation sites motif for kinase substrates could be accurately determined and hundreds of in vitro kinase substrates and their phosphorylation sites could be identified by using this method.</td>\n",
       "      <td>True</td>\n",
       "      <td>[P68400, Q9GZT3]</td>\n",
       "      <td>2</td>\n",
       "      <td>True</td>\n",
       "      <td>0</td>\n",
       "      <td>P68400</td>\n",
       "      <td>Q9GZT3</td>\n",
       "      <td>[[csk21_human], [Casein kinase II subunit alpha], [CSNK2A1], [CK2A1]]</td>\n",
       "      <td>[[slirp_human], [SRA stem-loop-interacting RNA-binding protein, mitochondrial], [SLIRP], [C14orf156], [DC23], [DC50], [PD04872]]</td>\n",
       "      <td>Deciphering the kinase-substrate relationship is vital for the study of phosphorylation network. The use of immobilized proteins on protein chip as the library for screening of potential kinase substrates is a tried-and-tested method. However, information on phosphorylation sites is lacking and the creation of the library with proteins of whole proteome by recombinant expression is costly and difficult. In this study, a new solid-phase approach by immobilization of proteins from cell lysate onto beads as a protein library for kinase substrate screening was developed. It was found that consensus phosphorylation sites motif for kinase substrates could be accurately determined and hundreds of in vitro kinase substrates and their phosphorylation sites could be identified by using this method.</td>\n",
       "      <td>[]</td>\n",
       "      <td>[]</td>\n",
       "      <td>Deciphering the kinase-substrate relationship is vital for the study of phosphorylation network. The use of immobilized proteins on protein chip as the library for screening of potential kinase substrates is a tried-and-tested method. However, information on phosphorylation sites is lacking and the creation of the library with proteins of whole proteome by recombinant expression is costly and difficult. In this study, a new solid-phase approach by immobilization of proteins from cell lysate onto beads as a protein library for kinase substrate screening was developed. It was found that consensus phosphorylation sites motif for kinase substrates could be accurately determined and hundreds of in vitro kinase substrates and their phosphorylation sites could be identified by using this method.</td>\n",
       "      <td>0</td>\n",
       "      <td>0</td>\n",
       "      <td>{}</td>\n",
       "      <td>None</td>\n",
       "      <td>None</td>\n",
       "      <td>False</td>\n",
       "      <td>False</td>\n",
       "      <td>False</td>\n",
       "      <td>True</td>\n",
       "    </tr>\n",
       "    <tr>\n",
       "      <th>488</th>\n",
       "      <td>1272008</td>\n",
       "      <td>phosphorylation</td>\n",
       "      <td>22094256</td>\n",
       "      <td>None</td>\n",
       "      <td>Cyclin D-dependent kinases (CDK4 and CDK6) are positive regulators of cell cycle entry and they are overactive in the majority of human cancers. However, it is currently not completely understood by which cellular mechanisms CDK4/6 promote tumorigenesis, largely due to the limited number of identified substrates. Here we performed a systematic screen for substrates of cyclin D1-CDK4 and cyclin D3-CDK6. We identified the Forkhead Box M1 (FOXM1) transcription factor as a common critical phosphorylation target. CDK4/6 stabilize and activate FOXM1, thereby maintain expression of G1/S phase genes, suppress the levels of reactive oxygen species (ROS), and protect cancer cells from senescence. Melanoma cells, unlike melanocytes, are highly reliant on CDK4/6-mediated senescence suppression, which makes them particularly susceptible to CDK4/6 inhibition.</td>\n",
       "      <td>True</td>\n",
       "      <td>[P61371, Q00534]</td>\n",
       "      <td>2</td>\n",
       "      <td>True</td>\n",
       "      <td>5</td>\n",
       "      <td>Q00534</td>\n",
       "      <td>P61371</td>\n",
       "      <td>[[cdk6_human], [Cyclin-dependent kinase 6], [CDK6], [Serine/threonine-protein kinase PLSTIRE], [Cell division protein kinase 6], [CDKN6]]</td>\n",
       "      <td>[[isl1_human], [Insulin gene enhancer protein ISL-1], [ISL1]]</td>\n",
       "      <td>Cyclin D-dependent kinases (P11802 and Q00534) are positive regulators of cell cycle entry and they are overactive in the majority of human cancers. However, it is currently not completely understood by which cellular mechanisms 1019;1021 promote tumorigenesis, largely due to the limited number of identified substrates. Here we performed a systematic screen for substrates of P24385-P11802 and P30281-Q00534. We identified the Q08050 (Q08050) transcription factor as a common critical phosphorylation target. 1019;1021 stabilize and activate Q08050, thereby maintain expression of G1/S phase genes, suppress the levels of reactive oxygen species (ROS), and protect cancer cells from senescence. Melanoma cells, unlike melanocytes, are highly reliant on 1019;1021-mediated senescence suppression, which makes them particularly susceptible to 1019;1021 inhibition.</td>\n",
       "      <td>[{'charOffset': 28, 'len': 6, 'text': 'P11802'}, {'charOffset': 39, 'len': 6, 'text': 'Q00534'}, {'charOffset': 229, 'len': 9, 'text': '1019;1021'}, {'charOffset': 378, 'len': 6, 'text': 'P24385'}, {'charOffset': 385, 'len': 6, 'text': 'P11802'}, {'charOffset': 396, 'len': 6, 'text': 'P30281'}, {'charOffset': 403, 'len': 6, 'text': 'Q00534'}, {'charOffset': 429, 'len': 6, 'text': 'Q08050'}, {'charOffset': 437, 'len': 6, 'text': 'Q08050'}, {'charOffset': 511, 'len': 9, 'text': '1019;1021'}, {'charOffset': 544, 'len': 6, 'text': 'Q08050'}, {'charOffset': 755, 'len': 9, 'text': '1019;1021'}, {'charOffset': 843, 'len': 9, 'text': '1019;1021'}]</td>\n",
       "      <td>[{'start': '28', 'end': '32', 'name': 'CDK4', 'type': 'Gene', 'normalised_id': '1019'}, {'start': '37', 'end': '41', 'name': 'CDK6', 'type': 'Gene', 'normalised_id': '1021'}, {'start': '130', 'end': '135', 'name': 'human', 'type': 'Species', 'normalised_id': '9606'}, {'start': '225', 'end': '231', 'name': 'CDK4/6', 'type': 'Gene', 'normalised_id': '1019;1021'}, {'start': '371', 'end': '380', 'name': 'cyclin D1', 'type': 'Gene', 'normalised_id': '595'}, {'start': '381', 'end': '385', 'name': 'CDK4', 'type': 'Gene', 'normalised_id': '1019'}, {'start': '390', 'end': '399', 'name': 'cyclin D3', 'type': 'Gene', 'normalised_id': '896'}, {'start': '400', 'end': '404', 'name': 'CDK6', 'type': 'Gene', 'normalised_id': '1021'}, {'start': '424', 'end': '439', 'name': 'Forkhead Box M1', 'type': 'Gene', 'normalised_id': '2305'}, {'start': '441', 'end': '446', 'name': 'FOXM1', 'type': 'Gene', 'normalised_id': '2305'}, {'start': '514', 'end': '520', 'name': 'CDK4/6', 'type': 'Gene', 'normalised_id': '1019;1021'}, {'start': '544', 'end': '549', 'name': 'FOXM1', 'type': 'Gene', 'normalised_id': '2305'}, {'start': '754', 'end': '760', 'name': 'CDK4/6', 'type': 'Gene', 'normalised_id': '1019;1021'}, {'start': '839', 'end': '845', 'name': 'CDK4/6', 'type': 'Gene', 'normalised_id': '1019;1021'}]</td>\n",
       "      <td>Cyclin D-dependent kinases (CDK4 and CDK6) are positive regulators of cell cycle entry and they are overactive in the majority of human cancers. However, it is currently not completely understood by which cellular mechanisms CDK4/6 promote tumorigenesis, largely due to the limited number of identified substrates. Here we performed a systematic screen for substrates of cyclin D1-CDK4 and cyclin D3-CDK6. We identified the Forkhead Box M1 (FOXM1) transcription factor as a common critical phosphorylation target. CDK4/6 stabilize and activate FOXM1, thereby maintain expression of G1/S phase genes, suppress the levels of reactive oxygen species (ROS), and protect cancer cells from senescence. Melanoma cells, unlike melanocytes, are highly reliant on CDK4/6-mediated senescence suppression, which makes them particularly susceptible to CDK4/6 inhibition.</td>\n",
       "      <td>6</td>\n",
       "      <td>13</td>\n",
       "      <td>{'1019;1021': [], '896': ['P30281', 'B3KP19', 'D6RI00', 'Q5T8J1'], '1019': ['P11802', 'A0A024RBB6'], '2305': ['Q08050', 'A0A2P9DTZ8', 'A0A2P9DTZ1', 'Q53Y49', 'A0A0D9SFF0', 'A8K591'], '1021': ['Q00534'], '595': ['P24385', 'Q6FI00']}</td>\n",
       "      <td>CDK6</td>\n",
       "      <td>None</td>\n",
       "      <td>True</td>\n",
       "      <td>False</td>\n",
       "      <td>False</td>\n",
       "      <td>False</td>\n",
       "    </tr>\n",
       "    <tr>\n",
       "      <th>1059</th>\n",
       "      <td>705499</td>\n",
       "      <td>phosphorylation</td>\n",
       "      <td>10733566</td>\n",
       "      <td>None</td>\n",
       "      <td>The activity of the NF-kappaB family of transcription factors is regulated principally by phosphorylation and subsequent degradation of their inhibitory IkappaB subunits. Site-specific serine phosphorylation of IkappaBs by two IkappaB kinases (IKKalpha [also known as CHUK] and IKKbeta) targets them for proteolysis. IKKalpha and -beta have a unique structure, with an amino-terminal serine-threonine kinase catalytic domain and carboxy-proximal helix-loop-helix (HLH) and leucine zipper-like (LZip) amphipathic alpha-helical domains. Here, we describe the properties of two novel cellular isoforms of IKKalpha: IKKalpha-DeltaH and IKKalpha-DeltaLH. IKKalpha-DeltaH and IKKalpha-DeltaLH are differentially spliced isoforms of the IKKalpha mRNA lacking its HLH domain and both its LZip and HLH domains, respectively. IKKalpha is the major RNA species in most murine cells and tissues, except for activated T lymphocytes and the brain, where the alternatively spliced isoforms predominate. Remarkably, IKKalpha-DeltaH and IKKalpha-DeltaLH, like IKKalpha, respond to tumor necrosis factor alpha stimulation to potentiate NF-kappaB activation in HEK293 cells. A mutant, catalytically inactive form of IKKalpha blocked IKKalpha-, IKKalpha-DeltaH-, and IKKalpha-DeltaLH-mediated NF-kappaB activation. Akin to IKKalpha, its carboxy-terminally truncated isoforms associated with the upstream activator NIK (NF-kappaB-inducing kinase). In contrast to IKKalpha, IKKalpha-DeltaLH failed to associate with either itself, IKKalpha, IKKbeta, or NEMO-IKKgamma-IKKAP1, while IKKalpha-DeltaH complexed with IKKbeta and IKKalpha but not with NEMO. Interestingly, each IKKalpha isoform rescued HEK293 cells from the inhibitory effects of a dominant-negative NEMO mutant, while IKKalpha could not. IKKalpha-DeltaCm, a recombinant mutant of IKKalpha structurally akin to IKKalpha-DeltaLH, was equally functional in these assays, but in sharp contrast, IKKbeta-DeltaCm, a structurally analogous mutant of IKKbeta, was inactive. Our results demonstrate that the functional roles of seemingly analogous domains in IKKalpha and IKKbeta need not be equivalent and can also exhibit different contextual dependencies. The existence of cytokine-inducible IKKalpha-DeltaH and IKKalpha-DeltaLH isoforms illustrates potential modes of NF-kappaB activation, which are not subject to the same in vivo regulatory constraints as either IKKalpha or IKKbeta.</td>\n",
       "      <td>True</td>\n",
       "      <td>[P25963, Q60680]</td>\n",
       "      <td>2</td>\n",
       "      <td>True</td>\n",
       "      <td>2</td>\n",
       "      <td>P25963</td>\n",
       "      <td>Q60680</td>\n",
       "      <td>[[ikba_human], [NF-kappa-B inhibitor alpha], [NFKBIA], [IKBA], [MAD3], [NFKBI], [I-kappa-B-alpha], [Major histocompatibility complex enhancer-binding protein MAD3]]</td>\n",
       "      <td>[[ikka_mouse], [Inhibitor of nuclear factor kappa-B kinase subunit alpha], [I-kappa-B kinase 1], [Conserved helix-loop-helix ubiquitous kinase], [Nuclear factor NF-kappa-B inhibitor kinase alpha], [Chuk], [Ikka]]</td>\n",
       "      <td>The activity of the NF-kappaB family of transcription factors is regulated principally by phosphorylation and subsequent degradation of their inhibitory IkappaB subunits. Site-specific serine phosphorylation of IkappaBs by two IkappaB kinases (O15111 [also known as O15111] and O14920) targets them for proteolysis. 1147;3551 have a unique structure, with an amino-terminal serine-threonine kinase catalytic domain and carboxy-proximal helix-loop-helix (HLH) and leucine zipper-like (O43889) amphipathic alpha-helical domains. Here, we describe the properties of two novel cellular isoforms of O15111: O15111-DeltaH and O15111-DeltaLH. O15111-DeltaH and O15111-DeltaLH are differentially spliced isoforms of the O15111 mRNA lacking its HLH domain and both its O43889 and HLH domains, respectively. O15111 is the major RNA species in most murine cells and tissues, except for activated T lymphocytes and the brain, where the alternatively spliced isoforms predominate. Remarkably, O15111-DeltaH and O15111-DeltaLH, like O15111, respond to P01375 stimulation to potentiate NF-kappaB activation in HEK293 cells. A mutant, catalytically inactive form of O15111 blocked O15111-, O15111-DeltaH-, and O15111-DeltaLH-mediated NF-kappaB activation. Akin to O15111, its carboxy-terminally truncated isoforms associated with the upstream activator Q99558 (Q99558). In contrast to O15111, O15111-DeltaLH failed to associate with either itself, O15111, O14920, or Q9Y6K9-Q9Y6K9-Q9Y6K9, while O15111-DeltaH complexed with O14920 and O15111 but not with Q9Y6K9. Interestingly, each O15111 isoform rescued HEK293 cells from the inhibitory effects of a dominant-negative Q9Y6K9 mutant, while O15111 could not. O15111-DeltaCm, a recombinant mutant of O15111 structurally akin to O15111-DeltaLH, was equally functional in these assays, but in sharp contrast, O14920-DeltaCm, a structurally analogous mutant of O14920, was inactive. Our results demonstrate that the functional roles of seemingly analogous domains in O15111 and O14920 need not be equivalent and can also exhibit different contextual dependencies. The existence of cytokine-inducible O15111-DeltaH and O15111-DeltaLH isoforms illustrates potential modes of NF-kappaB activation, which are not subject to the same in vivo regulatory constraints as either O15111 or O14920.</td>\n",
       "      <td>[{'charOffset': 244, 'len': 6, 'text': 'O15111'}, {'charOffset': 266, 'len': 6, 'text': 'O15111'}, {'charOffset': 278, 'len': 6, 'text': 'O14920'}, {'charOffset': 316, 'len': 9, 'text': '1147;3551'}, {'charOffset': 484, 'len': 6, 'text': 'O43889'}, {'charOffset': 594, 'len': 6, 'text': 'O15111'}, {'charOffset': 602, 'len': 6, 'text': 'O15111'}, {'charOffset': 620, 'len': 6, 'text': 'O15111'}, {'charOffset': 636, 'len': 6, 'text': 'O15111'}, {'charOffset': 654, 'len': 6, 'text': 'O15111'}, {'charOffset': 712, 'len': 6, 'text': 'O15111'}, {'charOffset': 760, 'len': 6, 'text': 'O43889'}, {'charOffset': 798, 'len': 6, 'text': 'O15111'}, {'charOffset': 980, 'len': 6, 'text': 'O15111'}, {'charOffset': 998, 'len': 6, 'text': 'O15111'}, {'charOffset': 1019, 'len': 6, 'text': 'O15111'}, {'charOffset': 1038, 'len': 6, 'text': 'P01375'}, {'charOffset': 1150, 'len': 6, 'text': 'O15111'}, {'charOffset': 1165, 'len': 6, 'text': 'O15111'}, {'charOffset': 1174, 'len': 6, 'text': 'O15111'}, {'charOffset': 1194, 'len': 6, 'text': 'O15111'}, {'charOffset': 1248, 'len': 6, 'text': 'O15111'}, {'charOffset': 1337, 'len': 6, 'text': 'Q99558'}, {'charOffset': 1345, 'len': 6, 'text': 'Q99558'}, {'charOffset': 1369, 'len': 6, 'text': 'O15111'}, {'charOffset': 1377, 'len': 6, 'text': 'O15111'}, {'charOffset': 1432, 'len': 6, 'text': 'O15111'}, {'charOffset': 1440, 'len': 6, 'text': 'O14920'}, {'charOffset': 1451, 'len': 6, 'text': 'Q9Y6K9'}, {'charOffset': 1458, 'len': 6, 'text': 'Q9Y6K9'}, {'charOffset': 1465, 'len': 6, 'text': 'Q9Y6K9'}, {'charOffset': 1479, 'len': 6, 'text': 'O15111'}, {'charOffset': 1508, 'len': 6, 'text': 'O14920'}, {'charOffset': 1519, 'len': 6, 'text': 'O15111'}, {'charOffset': 1539, 'len': 6, 'text': 'Q9Y6K9'}, {'charOffset': 1567, 'len': 6, 'text': 'O15111'}, {'charOffset': 1654, 'len': 6, 'text': 'Q9Y6K9'}, {'charOffset': 1675, 'len': 6, 'text': 'O15111'}, {'charOffset': 1693, 'len': 6, 'text': 'O15111'}, {'charOffset': 1733, 'len': 6, 'text': 'O15111'}, {'charOffset': 1761, 'len': 6, 'text': 'O15111'}, {'charOffset': 1840, 'len': 6, 'text': 'O14920'}, {'charOffset': 1891, 'len': 6, 'text': 'O14920'}, {'charOffset': 1997, 'len': 6, 'text': 'O15111'}, {'charOffset': 2008, 'len': 6, 'text': 'O14920'}, {'charOffset': 2130, 'len': 6, 'text': 'O15111'}, {'charOffset': 2148, 'len': 6, 'text': 'O15111'}, {'charOffset': 2300, 'len': 6, 'text': 'O15111'}, {'charOffset': 2310, 'len': 6, 'text': 'O14920'}]</td>\n",
       "      <td>[{'start': '244', 'end': '252', 'name': 'IKKalpha', 'type': 'Gene', 'normalised_id': '1147'}, {'start': '268', 'end': '272', 'name': 'CHUK', 'type': 'Gene', 'normalised_id': '1147'}, {'start': '278', 'end': '285', 'name': 'IKKbeta', 'type': 'Gene', 'normalised_id': '3551'}, {'start': '317', 'end': '335', 'name': 'IKKalpha and -beta', 'type': 'Gene', 'normalised_id': '1147;3551'}, {'start': '494', 'end': '498', 'name': 'LZip', 'type': 'Gene', 'normalised_id': '10488'}, {'start': '602', 'end': '610', 'name': 'IKKalpha', 'type': 'Gene', 'normalised_id': '1147'}, {'start': '612', 'end': '620', 'name': 'IKKalpha', 'type': 'Gene', 'normalised_id': '1147'}, {'start': '632', 'end': '640', 'name': 'IKKalpha', 'type': 'Gene', 'normalised_id': '1147'}, {'start': '650', 'end': '658', 'name': 'IKKalpha', 'type': 'Gene', 'normalised_id': '1147'}, {'start': '670', 'end': '678', 'name': 'IKKalpha', 'type': 'Gene', 'normalised_id': '1147'}, {'start': '730', 'end': '738', 'name': 'IKKalpha', 'type': 'Gene', 'normalised_id': '1147'}, {'start': '780', 'end': '784', 'name': 'LZip', 'type': 'Gene', 'normalised_id': '10488'}, {'start': '816', 'end': '824', 'name': 'IKKalpha', 'type': 'Gene', 'normalised_id': '1147'}, {'start': '858', 'end': '864', 'name': 'murine', 'type': 'Species', 'normalised_id': '10090'}, {'start': '1000', 'end': '1008', 'name': 'IKKalpha', 'type': 'Gene', 'normalised_id': '1147'}, {'start': '1020', 'end': '1028', 'name': 'IKKalpha', 'type': 'Gene', 'normalised_id': '1147'}, {'start': '1043', 'end': '1051', 'name': 'IKKalpha', 'type': 'Gene', 'normalised_id': '1147'}, {'start': '1064', 'end': '1091', 'name': 'tumor necrosis factor alpha', 'type': 'Gene', 'normalised_id': '7124'}, {'start': '1142', 'end': '1148', 'name': 'HEK293', 'type': 'Species', 'normalised_id': '9606'}, {'start': '1197', 'end': '1205', 'name': 'IKKalpha', 'type': 'Gene', 'normalised_id': '1147'}, {'start': '1214', 'end': '1222', 'name': 'IKKalpha', 'type': 'Gene', 'normalised_id': '1147'}, {'start': '1225', 'end': '1233', 'name': 'IKKalpha', 'type': 'Gene', 'normalised_id': '1147'}, {'start': '1247', 'end': '1255', 'name': 'IKKalpha', 'type': 'Gene', 'normalised_id': '1147'}, {'start': '1303', 'end': '1311', 'name': 'IKKalpha', 'type': 'Gene', 'normalised_id': '1147'}, {'start': '1394', 'end': '1397', 'name': 'NIK', 'type': 'Gene', 'normalised_id': '9020'}, {'start': '1399', 'end': '1424', 'name': 'NF-kappaB-inducing kinase', 'type': 'Gene', 'normalised_id': '9020'}, {'start': '1442', 'end': '1450', 'name': 'IKKalpha', 'type': 'Gene', 'normalised_id': '1147'}, {'start': '1452', 'end': '1460', 'name': 'IKKalpha', 'type': 'Gene', 'normalised_id': '1147'}, {'start': '1509', 'end': '1517', 'name': 'IKKalpha', 'type': 'Gene', 'normalised_id': '1147'}, {'start': '1519', 'end': '1526', 'name': 'IKKbeta', 'type': 'Gene', 'normalised_id': '3551'}, {'start': '1531', 'end': '1535', 'name': 'NEMO', 'type': 'Gene', 'normalised_id': '8517'}, {'start': '1536', 'end': '1544', 'name': 'IKKgamma', 'type': 'Gene', 'normalised_id': '8517'}, {'start': '1545', 'end': '1551', 'name': 'IKKAP1', 'type': 'Gene', 'normalised_id': '8517'}, {'start': '1559', 'end': '1567', 'name': 'IKKalpha', 'type': 'Gene', 'normalised_id': '1147'}, {'start': '1590', 'end': '1597', 'name': 'IKKbeta', 'type': 'Gene', 'normalised_id': '3551'}, {'start': '1602', 'end': '1610', 'name': 'IKKalpha', 'type': 'Gene', 'normalised_id': '1147'}, {'start': '1624', 'end': '1628', 'name': 'NEMO', 'type': 'Gene', 'normalised_id': '8517'}, {'start': '1650', 'end': '1658', 'name': 'IKKalpha', 'type': 'Gene', 'normalised_id': '1147'}, {'start': '1675', 'end': '1681', 'name': 'HEK293', 'type': 'Species', 'normalised_id': '9606'}, {'start': '1739', 'end': '1743', 'name': 'NEMO', 'type': 'Gene', 'normalised_id': '8517'}, {'start': '1758', 'end': '1766', 'name': 'IKKalpha', 'type': 'Gene', 'normalised_id': '1147'}, {'start': '1778', 'end': '1786', 'name': 'IKKalpha', 'type': 'Gene', 'normalised_id': '1147'}, {'start': '1820', 'end': '1828', 'name': 'IKKalpha', 'type': 'Gene', 'normalised_id': '1147'}, {'start': '1850', 'end': '1858', 'name': 'IKKalpha', 'type': 'Gene', 'normalised_id': '1147'}, {'start': '1931', 'end': '1938', 'name': 'IKKbeta', 'type': 'Gene', 'normalised_id': '3551'}, {'start': '1983', 'end': '1990', 'name': 'IKKbeta', 'type': 'Gene', 'normalised_id': '3551'}, {'start': '2090', 'end': '2098', 'name': 'IKKalpha', 'type': 'Gene', 'normalised_id': '1147'}, {'start': '2103', 'end': '2110', 'name': 'IKKbeta', 'type': 'Gene', 'normalised_id': '3551'}, {'start': '2226', 'end': '2234', 'name': 'IKKalpha', 'type': 'Gene', 'normalised_id': '1147'}, {'start': '2246', 'end': '2254', 'name': 'IKKalpha', 'type': 'Gene', 'normalised_id': '1147'}, {'start': '2400', 'end': '2408', 'name': 'IKKalpha', 'type': 'Gene', 'normalised_id': '1147'}, {'start': '2412', 'end': '2419', 'name': 'IKKbeta', 'type': 'Gene', 'normalised_id': '3551'}]</td>\n",
       "      <td>The activity of the NF-kappaB family of transcription factors is regulated principally by phosphorylation and subsequent degradation of their inhibitory IkappaB subunits. Site-specific serine phosphorylation of IkappaBs by two IkappaB kinases (IKKalpha [also known as CHUK] and IKKbeta) targets them for proteolysis. IKKalpha and -beta have a unique structure, with an amino-terminal serine-threonine kinase catalytic domain and carboxy-proximal helix-loop-helix (HLH) and leucine zipper-like (LZip) amphipathic alpha-helical domains. Here, we describe the properties of two novel cellular isoforms of IKKalpha: IKKalpha-DeltaH and IKKalpha-DeltaLH. IKKalpha-DeltaH and IKKalpha-DeltaLH are differentially spliced isoforms of the IKKalpha mRNA lacking its HLH domain and both its LZip and HLH domains, respectively. IKKalpha is the major RNA species in most murine cells and tissues, except for activated T lymphocytes and the brain, where the alternatively spliced isoforms predominate. Remarkably, IKKalpha-DeltaH and IKKalpha-DeltaLH, like IKKalpha, respond to tumor necrosis factor alpha stimulation to potentiate NF-kappaB activation in HEK293 cells. A mutant, catalytically inactive form of IKKalpha blocked IKKalpha-, IKKalpha-DeltaH-, and IKKalpha-DeltaLH-mediated NF-kappaB activation. Akin to IKKalpha, its carboxy-terminally truncated isoforms associated with the upstream activator NIK (NF-kappaB-inducing kinase). In contrast to IKKalpha, IKKalpha-DeltaLH failed to associate with either itself, IKKalpha, IKKbeta, or NEMO-IKKgamma-IKKAP1, while IKKalpha-DeltaH complexed with IKKbeta and IKKalpha but not with NEMO. Interestingly, each IKKalpha isoform rescued HEK293 cells from the inhibitory effects of a dominant-negative NEMO mutant, while IKKalpha could not. IKKalpha-DeltaCm, a recombinant mutant of IKKalpha structurally akin to IKKalpha-DeltaLH, was equally functional in these assays, but in sharp contrast, IKKbeta-DeltaCm, a structurally analogous mutant of IKKbeta, was inactive. Our results demonstrate that the functional roles of seemingly analogous domains in IKKalpha and IKKbeta need not be equivalent and can also exhibit different contextual dependencies. The existence of cytokine-inducible IKKalpha-DeltaH and IKKalpha-DeltaLH isoforms illustrates potential modes of NF-kappaB activation, which are not subject to the same in vivo regulatory constraints as either IKKalpha or IKKbeta.</td>\n",
       "      <td>7</td>\n",
       "      <td>49</td>\n",
       "      <td>{'8517': ['Q9Y6K9', 'A0A087X1B1'], '3551': ['O14920'], '9020': ['Q99558', 'Q68D39'], '1147;3551': [], '10488': ['O43889'], '7124': ['P01375', 'Q5STB3'], '1147': ['O15111']}</td>\n",
       "      <td>None</td>\n",
       "      <td>None</td>\n",
       "      <td>False</td>\n",
       "      <td>False</td>\n",
       "      <td>False</td>\n",
       "      <td>True</td>\n",
       "    </tr>\n",
       "  </tbody>\n",
       "</table>\n",
       "</div>"
      ],
      "text/plain": [
       "     interactionId  interactionType  pubmedId pubmedTitle  \\\n",
       "516        1272148  phosphorylation  22094256        None   \n",
       "550        1272799  phosphorylation  22113938        None   \n",
       "488        1272008  phosphorylation  22094256        None   \n",
       "1059        705499  phosphorylation  10733566        None   \n",
       "\n",
       "                                                                                                                                                                                                                                                                                                                                                                                                                                                                                                                                                                                                                                                                                                                                                                                                                                                                                                                                                                                                                                                                                                                                                                                                                                                                                                                                                                                                                                                                                                                                                                                                                                                                                                                                                                                                                                                                                                                                                                                                                                                                                                                                                                                                                                                                                                                                                                                                                                                                                                            pubmedabstract  \\\n",
       "516                                                                                                                                                                                                                                                                                                                                                                                                                                                                                                                                                                                                                                                                                                                                                                                                                                                                                                                                                                                                                                                                                                                                                                                                                                                                                                                                                                                                                                                                                                                                                                                                                              Cyclin D-dependent kinases (CDK4 and CDK6) are positive regulators of cell cycle entry and they are overactive in the majority of human cancers. However, it is currently not completely understood by which cellular mechanisms CDK4/6 promote tumorigenesis, largely due to the limited number of identified substrates. Here we performed a systematic screen for substrates of cyclin D1-CDK4 and cyclin D3-CDK6. We identified the Forkhead Box M1 (FOXM1) transcription factor as a common critical phosphorylation target. CDK4/6 stabilize and activate FOXM1, thereby maintain expression of G1/S phase genes, suppress the levels of reactive oxygen species (ROS), and protect cancer cells from senescence. Melanoma cells, unlike melanocytes, are highly reliant on CDK4/6-mediated senescence suppression, which makes them particularly susceptible to CDK4/6 inhibition.   \n",
       "550                                                                                                                                                                                                                                                                                                                                                                                                                                                                                                                                                                                                                                                                                                                                                                                                                                                                                                                                                                                                                                                                                                                                                                                                                                                                                                                                                                                                                                                                                                                                                                                                                                                                                        Deciphering the kinase-substrate relationship is vital for the study of phosphorylation network. The use of immobilized proteins on protein chip as the library for screening of potential kinase substrates is a tried-and-tested method. However, information on phosphorylation sites is lacking and the creation of the library with proteins of whole proteome by recombinant expression is costly and difficult. In this study, a new solid-phase approach by immobilization of proteins from cell lysate onto beads as a protein library for kinase substrate screening was developed. It was found that consensus phosphorylation sites motif for kinase substrates could be accurately determined and hundreds of in vitro kinase substrates and their phosphorylation sites could be identified by using this method.   \n",
       "488                                                                                                                                                                                                                                                                                                                                                                                                                                                                                                                                                                                                                                                                                                                                                                                                                                                                                                                                                                                                                                                                                                                                                                                                                                                                                                                                                                                                                                                                                                                                                                                                                              Cyclin D-dependent kinases (CDK4 and CDK6) are positive regulators of cell cycle entry and they are overactive in the majority of human cancers. However, it is currently not completely understood by which cellular mechanisms CDK4/6 promote tumorigenesis, largely due to the limited number of identified substrates. Here we performed a systematic screen for substrates of cyclin D1-CDK4 and cyclin D3-CDK6. We identified the Forkhead Box M1 (FOXM1) transcription factor as a common critical phosphorylation target. CDK4/6 stabilize and activate FOXM1, thereby maintain expression of G1/S phase genes, suppress the levels of reactive oxygen species (ROS), and protect cancer cells from senescence. Melanoma cells, unlike melanocytes, are highly reliant on CDK4/6-mediated senescence suppression, which makes them particularly susceptible to CDK4/6 inhibition.   \n",
       "1059  The activity of the NF-kappaB family of transcription factors is regulated principally by phosphorylation and subsequent degradation of their inhibitory IkappaB subunits. Site-specific serine phosphorylation of IkappaBs by two IkappaB kinases (IKKalpha [also known as CHUK] and IKKbeta) targets them for proteolysis. IKKalpha and -beta have a unique structure, with an amino-terminal serine-threonine kinase catalytic domain and carboxy-proximal helix-loop-helix (HLH) and leucine zipper-like (LZip) amphipathic alpha-helical domains. Here, we describe the properties of two novel cellular isoforms of IKKalpha: IKKalpha-DeltaH and IKKalpha-DeltaLH. IKKalpha-DeltaH and IKKalpha-DeltaLH are differentially spliced isoforms of the IKKalpha mRNA lacking its HLH domain and both its LZip and HLH domains, respectively. IKKalpha is the major RNA species in most murine cells and tissues, except for activated T lymphocytes and the brain, where the alternatively spliced isoforms predominate. Remarkably, IKKalpha-DeltaH and IKKalpha-DeltaLH, like IKKalpha, respond to tumor necrosis factor alpha stimulation to potentiate NF-kappaB activation in HEK293 cells. A mutant, catalytically inactive form of IKKalpha blocked IKKalpha-, IKKalpha-DeltaH-, and IKKalpha-DeltaLH-mediated NF-kappaB activation. Akin to IKKalpha, its carboxy-terminally truncated isoforms associated with the upstream activator NIK (NF-kappaB-inducing kinase). In contrast to IKKalpha, IKKalpha-DeltaLH failed to associate with either itself, IKKalpha, IKKbeta, or NEMO-IKKgamma-IKKAP1, while IKKalpha-DeltaH complexed with IKKbeta and IKKalpha but not with NEMO. Interestingly, each IKKalpha isoform rescued HEK293 cells from the inhibitory effects of a dominant-negative NEMO mutant, while IKKalpha could not. IKKalpha-DeltaCm, a recombinant mutant of IKKalpha structurally akin to IKKalpha-DeltaLH, was equally functional in these assays, but in sharp contrast, IKKbeta-DeltaCm, a structurally analogous mutant of IKKbeta, was inactive. Our results demonstrate that the functional roles of seemingly analogous domains in IKKalpha and IKKbeta need not be equivalent and can also exhibit different contextual dependencies. The existence of cytokine-inducible IKKalpha-DeltaH and IKKalpha-DeltaLH isoforms illustrates potential modes of NF-kappaB activation, which are not subject to the same in vivo regulatory constraints as either IKKalpha or IKKbeta.   \n",
       "\n",
       "      isValid   flatparticpants  participants_count  hasTriggerWord  \\\n",
       "516      True  [Q14814, Q00534]                   2            True   \n",
       "550      True  [P68400, Q9GZT3]                   2            True   \n",
       "488      True  [P61371, Q00534]                   2            True   \n",
       "1059     True  [P25963, Q60680]                   2            True   \n",
       "\n",
       "      entityMentionsCount participant1Id participant2Id  \\\n",
       "516                     4         Q00534         Q14814   \n",
       "550                     0         P68400         Q9GZT3   \n",
       "488                     5         Q00534         P61371   \n",
       "1059                    2         P25963         Q60680   \n",
       "\n",
       "                                                                                                                                                         participant1Alias  \\\n",
       "516                              [[cdk6_human], [Cyclin-dependent kinase 6], [CDK6], [Serine/threonine-protein kinase PLSTIRE], [Cell division protein kinase 6], [CDKN6]]   \n",
       "550                                                                                                  [[csk21_human], [Casein kinase II subunit alpha], [CSNK2A1], [CK2A1]]   \n",
       "488                              [[cdk6_human], [Cyclin-dependent kinase 6], [CDK6], [Serine/threonine-protein kinase PLSTIRE], [Cell division protein kinase 6], [CDKN6]]   \n",
       "1059  [[ikba_human], [NF-kappa-B inhibitor alpha], [NFKBIA], [IKBA], [MAD3], [NFKBI], [I-kappa-B-alpha], [Major histocompatibility complex enhancer-binding protein MAD3]]   \n",
       "\n",
       "                                                                                                                                                                                                         participant2Alias  \\\n",
       "516                                                                                                                                                        [[mef2d_human], [Myocyte-specific enhancer factor 2D], [MEF2D]]   \n",
       "550                                                                                       [[slirp_human], [SRA stem-loop-interacting RNA-binding protein, mitochondrial], [SLIRP], [C14orf156], [DC23], [DC50], [PD04872]]   \n",
       "488                                                                                                                                                          [[isl1_human], [Insulin gene enhancer protein ISL-1], [ISL1]]   \n",
       "1059  [[ikka_mouse], [Inhibitor of nuclear factor kappa-B kinase subunit alpha], [I-kappa-B kinase 1], [Conserved helix-loop-helix ubiquitous kinase], [Nuclear factor NF-kappa-B inhibitor kinase alpha], [Chuk], [Ikka]]   \n",
       "\n",
       "                                                                                                                                                                                                                                                                                                                                                                                                                                                                                                                                                                                                                                                                                                                                                                                                                                                                                                                                                                                                                                                                                                                                                                                                                                                                                                                                                                                                                                                                                                                                                                                                                                                                                                                                                                                                                                                                                                                                                                                                                                                                                                                                                                                                                                                                                                                                                                                                normalised_abstract  \\\n",
       "516                                                                                                                                                                                                                                                                                                                                                                                                                                                                                                                                                                                                                                                                                                                                                                                                                                                                                                                                                                                                                                                                                                                                                                                                                                                                                                                                                                                                                                                                                                                Cyclin D-dependent kinases (P11802 and Q00534) are positive regulators of cell cycle entry and they are overactive in the majority of human cancers. However, it is currently not completely understood by which cellular mechanisms 1019;1021 promote tumorigenesis, largely due to the limited number of identified substrates. Here we performed a systematic screen for substrates of P24385-P11802 and P30281-Q00534. We identified the Q08050 (Q08050) transcription factor as a common critical phosphorylation target. 1019;1021 stabilize and activate Q08050, thereby maintain expression of G1/S phase genes, suppress the levels of reactive oxygen species (ROS), and protect cancer cells from senescence. Melanoma cells, unlike melanocytes, are highly reliant on 1019;1021-mediated senescence suppression, which makes them particularly susceptible to 1019;1021 inhibition.   \n",
       "550                                                                                                                                                                                                                                                                                                                                                                                                                                                                                                                                                                                                                                                                                                                                                                                                                                                                                                                                                                                                                                                                                                                                                                                                                                                                                                                                                                                                                                                                                                                                                                                 Deciphering the kinase-substrate relationship is vital for the study of phosphorylation network. The use of immobilized proteins on protein chip as the library for screening of potential kinase substrates is a tried-and-tested method. However, information on phosphorylation sites is lacking and the creation of the library with proteins of whole proteome by recombinant expression is costly and difficult. In this study, a new solid-phase approach by immobilization of proteins from cell lysate onto beads as a protein library for kinase substrate screening was developed. It was found that consensus phosphorylation sites motif for kinase substrates could be accurately determined and hundreds of in vitro kinase substrates and their phosphorylation sites could be identified by using this method.   \n",
       "488                                                                                                                                                                                                                                                                                                                                                                                                                                                                                                                                                                                                                                                                                                                                                                                                                                                                                                                                                                                                                                                                                                                                                                                                                                                                                                                                                                                                                                                                                                                Cyclin D-dependent kinases (P11802 and Q00534) are positive regulators of cell cycle entry and they are overactive in the majority of human cancers. However, it is currently not completely understood by which cellular mechanisms 1019;1021 promote tumorigenesis, largely due to the limited number of identified substrates. Here we performed a systematic screen for substrates of P24385-P11802 and P30281-Q00534. We identified the Q08050 (Q08050) transcription factor as a common critical phosphorylation target. 1019;1021 stabilize and activate Q08050, thereby maintain expression of G1/S phase genes, suppress the levels of reactive oxygen species (ROS), and protect cancer cells from senescence. Melanoma cells, unlike melanocytes, are highly reliant on 1019;1021-mediated senescence suppression, which makes them particularly susceptible to 1019;1021 inhibition.   \n",
       "1059  The activity of the NF-kappaB family of transcription factors is regulated principally by phosphorylation and subsequent degradation of their inhibitory IkappaB subunits. Site-specific serine phosphorylation of IkappaBs by two IkappaB kinases (O15111 [also known as O15111] and O14920) targets them for proteolysis. 1147;3551 have a unique structure, with an amino-terminal serine-threonine kinase catalytic domain and carboxy-proximal helix-loop-helix (HLH) and leucine zipper-like (O43889) amphipathic alpha-helical domains. Here, we describe the properties of two novel cellular isoforms of O15111: O15111-DeltaH and O15111-DeltaLH. O15111-DeltaH and O15111-DeltaLH are differentially spliced isoforms of the O15111 mRNA lacking its HLH domain and both its O43889 and HLH domains, respectively. O15111 is the major RNA species in most murine cells and tissues, except for activated T lymphocytes and the brain, where the alternatively spliced isoforms predominate. Remarkably, O15111-DeltaH and O15111-DeltaLH, like O15111, respond to P01375 stimulation to potentiate NF-kappaB activation in HEK293 cells. A mutant, catalytically inactive form of O15111 blocked O15111-, O15111-DeltaH-, and O15111-DeltaLH-mediated NF-kappaB activation. Akin to O15111, its carboxy-terminally truncated isoforms associated with the upstream activator Q99558 (Q99558). In contrast to O15111, O15111-DeltaLH failed to associate with either itself, O15111, O14920, or Q9Y6K9-Q9Y6K9-Q9Y6K9, while O15111-DeltaH complexed with O14920 and O15111 but not with Q9Y6K9. Interestingly, each O15111 isoform rescued HEK293 cells from the inhibitory effects of a dominant-negative Q9Y6K9 mutant, while O15111 could not. O15111-DeltaCm, a recombinant mutant of O15111 structurally akin to O15111-DeltaLH, was equally functional in these assays, but in sharp contrast, O14920-DeltaCm, a structurally analogous mutant of O14920, was inactive. Our results demonstrate that the functional roles of seemingly analogous domains in O15111 and O14920 need not be equivalent and can also exhibit different contextual dependencies. The existence of cytokine-inducible O15111-DeltaH and O15111-DeltaLH isoforms illustrates potential modes of NF-kappaB activation, which are not subject to the same in vivo regulatory constraints as either O15111 or O14920.   \n",
       "\n",
       "                                                                                                                                                                                                                                                                                                                                                                                                                                                                                                                                                                                                                                                                                                                                                                                                                                                                                                                                                                                                                                                                                                                                                                                                                                                                                                                                                                                                                                                                                                                                                                                                                                                                                                                                                                                                                                                                                                                                                                                                                                                                                                                                                                                                                                                                                                                                                                                                                                                                                                             normalised_abstract_annotations  \\\n",
       "516                                                                                                                                                                                                                                                                                                                                                                                                                                                                                                                                                                                                                                                                                                                                                                                                                                                                                                                                                                                                                                                                                                                                                                                                                                                                                                                                                                                                                                                                                                                                                                                                                                                                                                                                                                                                                                                                  [{'charOffset': 28, 'len': 6, 'text': 'P11802'}, {'charOffset': 39, 'len': 6, 'text': 'Q00534'}, {'charOffset': 229, 'len': 9, 'text': '1019;1021'}, {'charOffset': 378, 'len': 6, 'text': 'P24385'}, {'charOffset': 385, 'len': 6, 'text': 'P11802'}, {'charOffset': 396, 'len': 6, 'text': 'P30281'}, {'charOffset': 403, 'len': 6, 'text': 'Q00534'}, {'charOffset': 429, 'len': 6, 'text': 'Q08050'}, {'charOffset': 437, 'len': 6, 'text': 'Q08050'}, {'charOffset': 511, 'len': 9, 'text': '1019;1021'}, {'charOffset': 544, 'len': 6, 'text': 'Q08050'}, {'charOffset': 755, 'len': 9, 'text': '1019;1021'}, {'charOffset': 843, 'len': 9, 'text': '1019;1021'}]   \n",
       "550                                                                                                                                                                                                                                                                                                                                                                                                                                                                                                                                                                                                                                                                                                                                                                                                                                                                                                                                                                                                                                                                                                                                                                                                                                                                                                                                                                                                                                                                                                                                                                                                                                                                                                                                                                                                                                                                                                                                                                                                                                                                                                                                                                                                                                                                                                                                                                                                                                                                                                                                       []   \n",
       "488                                                                                                                                                                                                                                                                                                                                                                                                                                                                                                                                                                                                                                                                                                                                                                                                                                                                                                                                                                                                                                                                                                                                                                                                                                                                                                                                                                                                                                                                                                                                                                                                                                                                                                                                                                                                                                                                  [{'charOffset': 28, 'len': 6, 'text': 'P11802'}, {'charOffset': 39, 'len': 6, 'text': 'Q00534'}, {'charOffset': 229, 'len': 9, 'text': '1019;1021'}, {'charOffset': 378, 'len': 6, 'text': 'P24385'}, {'charOffset': 385, 'len': 6, 'text': 'P11802'}, {'charOffset': 396, 'len': 6, 'text': 'P30281'}, {'charOffset': 403, 'len': 6, 'text': 'Q00534'}, {'charOffset': 429, 'len': 6, 'text': 'Q08050'}, {'charOffset': 437, 'len': 6, 'text': 'Q08050'}, {'charOffset': 511, 'len': 9, 'text': '1019;1021'}, {'charOffset': 544, 'len': 6, 'text': 'Q08050'}, {'charOffset': 755, 'len': 9, 'text': '1019;1021'}, {'charOffset': 843, 'len': 9, 'text': '1019;1021'}]   \n",
       "1059  [{'charOffset': 244, 'len': 6, 'text': 'O15111'}, {'charOffset': 266, 'len': 6, 'text': 'O15111'}, {'charOffset': 278, 'len': 6, 'text': 'O14920'}, {'charOffset': 316, 'len': 9, 'text': '1147;3551'}, {'charOffset': 484, 'len': 6, 'text': 'O43889'}, {'charOffset': 594, 'len': 6, 'text': 'O15111'}, {'charOffset': 602, 'len': 6, 'text': 'O15111'}, {'charOffset': 620, 'len': 6, 'text': 'O15111'}, {'charOffset': 636, 'len': 6, 'text': 'O15111'}, {'charOffset': 654, 'len': 6, 'text': 'O15111'}, {'charOffset': 712, 'len': 6, 'text': 'O15111'}, {'charOffset': 760, 'len': 6, 'text': 'O43889'}, {'charOffset': 798, 'len': 6, 'text': 'O15111'}, {'charOffset': 980, 'len': 6, 'text': 'O15111'}, {'charOffset': 998, 'len': 6, 'text': 'O15111'}, {'charOffset': 1019, 'len': 6, 'text': 'O15111'}, {'charOffset': 1038, 'len': 6, 'text': 'P01375'}, {'charOffset': 1150, 'len': 6, 'text': 'O15111'}, {'charOffset': 1165, 'len': 6, 'text': 'O15111'}, {'charOffset': 1174, 'len': 6, 'text': 'O15111'}, {'charOffset': 1194, 'len': 6, 'text': 'O15111'}, {'charOffset': 1248, 'len': 6, 'text': 'O15111'}, {'charOffset': 1337, 'len': 6, 'text': 'Q99558'}, {'charOffset': 1345, 'len': 6, 'text': 'Q99558'}, {'charOffset': 1369, 'len': 6, 'text': 'O15111'}, {'charOffset': 1377, 'len': 6, 'text': 'O15111'}, {'charOffset': 1432, 'len': 6, 'text': 'O15111'}, {'charOffset': 1440, 'len': 6, 'text': 'O14920'}, {'charOffset': 1451, 'len': 6, 'text': 'Q9Y6K9'}, {'charOffset': 1458, 'len': 6, 'text': 'Q9Y6K9'}, {'charOffset': 1465, 'len': 6, 'text': 'Q9Y6K9'}, {'charOffset': 1479, 'len': 6, 'text': 'O15111'}, {'charOffset': 1508, 'len': 6, 'text': 'O14920'}, {'charOffset': 1519, 'len': 6, 'text': 'O15111'}, {'charOffset': 1539, 'len': 6, 'text': 'Q9Y6K9'}, {'charOffset': 1567, 'len': 6, 'text': 'O15111'}, {'charOffset': 1654, 'len': 6, 'text': 'Q9Y6K9'}, {'charOffset': 1675, 'len': 6, 'text': 'O15111'}, {'charOffset': 1693, 'len': 6, 'text': 'O15111'}, {'charOffset': 1733, 'len': 6, 'text': 'O15111'}, {'charOffset': 1761, 'len': 6, 'text': 'O15111'}, {'charOffset': 1840, 'len': 6, 'text': 'O14920'}, {'charOffset': 1891, 'len': 6, 'text': 'O14920'}, {'charOffset': 1997, 'len': 6, 'text': 'O15111'}, {'charOffset': 2008, 'len': 6, 'text': 'O14920'}, {'charOffset': 2130, 'len': 6, 'text': 'O15111'}, {'charOffset': 2148, 'len': 6, 'text': 'O15111'}, {'charOffset': 2300, 'len': 6, 'text': 'O15111'}, {'charOffset': 2310, 'len': 6, 'text': 'O14920'}]   \n",
       "\n",
       "                                                                                                                                                                                                                                                                                                                                                                                                                                                                                                                                                                                                                                                                                                                                                                                                                                                                                                                                                                                                                                                                                                                                                                                                                                                                                                                                                                                                                                                                                                                                                                                                                                                                                                                                                                                                                                                                                                                                                                                                                                                                                                                                                                                                                                                                                                                                                                                                                                                                                                                                                                                                                                                                                                                                                                                                                                                                                                                                                                                                                                                                                                                                                                                                                                                                                                                                                                                                                                                                                                                                                                                                                                                                                                                                                                                                                                                                                                                                                                                                                                                                                                                                                                                                                                                                                                                                                                                                                                                                                                                                                                                                                                                                                                                                                                                                                                                                                                                                                                                                                                                                                                                              annotations  \\\n",
       "516                                                                                                                                                                                                                                                                                                                                                                                                                                                                                                                                                                                                                                                                                                                                                                                                                                                                                                                                                                                                                                                                                                                                                                                                                                                                                                                                                                                                                                                                                                                                                                                                                                                                                                                                                                                                                                                                                                                                                                                                                                                                                                                                                                                                                                                                                                                                                                                                                                                                                                                                                                                                                                                                                                                                                                                                                                                                                                                                                                                                                                                                                                                                                                                                                                                                                                                                                                                                                                                                                                                                                                                                                                                                                                                                                                                       [{'start': '28', 'end': '32', 'name': 'CDK4', 'type': 'Gene', 'normalised_id': '1019'}, {'start': '37', 'end': '41', 'name': 'CDK6', 'type': 'Gene', 'normalised_id': '1021'}, {'start': '130', 'end': '135', 'name': 'human', 'type': 'Species', 'normalised_id': '9606'}, {'start': '225', 'end': '231', 'name': 'CDK4/6', 'type': 'Gene', 'normalised_id': '1019;1021'}, {'start': '371', 'end': '380', 'name': 'cyclin D1', 'type': 'Gene', 'normalised_id': '595'}, {'start': '381', 'end': '385', 'name': 'CDK4', 'type': 'Gene', 'normalised_id': '1019'}, {'start': '390', 'end': '399', 'name': 'cyclin D3', 'type': 'Gene', 'normalised_id': '896'}, {'start': '400', 'end': '404', 'name': 'CDK6', 'type': 'Gene', 'normalised_id': '1021'}, {'start': '424', 'end': '439', 'name': 'Forkhead Box M1', 'type': 'Gene', 'normalised_id': '2305'}, {'start': '441', 'end': '446', 'name': 'FOXM1', 'type': 'Gene', 'normalised_id': '2305'}, {'start': '514', 'end': '520', 'name': 'CDK4/6', 'type': 'Gene', 'normalised_id': '1019;1021'}, {'start': '544', 'end': '549', 'name': 'FOXM1', 'type': 'Gene', 'normalised_id': '2305'}, {'start': '754', 'end': '760', 'name': 'CDK4/6', 'type': 'Gene', 'normalised_id': '1019;1021'}, {'start': '839', 'end': '845', 'name': 'CDK4/6', 'type': 'Gene', 'normalised_id': '1019;1021'}]   \n",
       "550                                                                                                                                                                                                                                                                                                                                                                                                                                                                                                                                                                                                                                                                                                                                                                                                                                                                                                                                                                                                                                                                                                                                                                                                                                                                                                                                                                                                                                                                                                                                                                                                                                                                                                                                                                                                                                                                                                                                                                                                                                                                                                                                                                                                                                                                                                                                                                                                                                                                                                                                                                                                                                                                                                                                                                                                                                                                                                                                                                                                                                                                                                                                                                                                                                                                                                                                                                                                                                                                                                                                                                                                                                                                                                                                                                                                                                                                                                                                                                                                                                                                                                                                                                                                                                                                                                                                                                                                                                                                                                                                                                                                                                                                                                                                                                                                                                                                                                                                                                                                                                                                                                                                    []   \n",
       "488                                                                                                                                                                                                                                                                                                                                                                                                                                                                                                                                                                                                                                                                                                                                                                                                                                                                                                                                                                                                                                                                                                                                                                                                                                                                                                                                                                                                                                                                                                                                                                                                                                                                                                                                                                                                                                                                                                                                                                                                                                                                                                                                                                                                                                                                                                                                                                                                                                                                                                                                                                                                                                                                                                                                                                                                                                                                                                                                                                                                                                                                                                                                                                                                                                                                                                                                                                                                                                                                                                                                                                                                                                                                                                                                                                                       [{'start': '28', 'end': '32', 'name': 'CDK4', 'type': 'Gene', 'normalised_id': '1019'}, {'start': '37', 'end': '41', 'name': 'CDK6', 'type': 'Gene', 'normalised_id': '1021'}, {'start': '130', 'end': '135', 'name': 'human', 'type': 'Species', 'normalised_id': '9606'}, {'start': '225', 'end': '231', 'name': 'CDK4/6', 'type': 'Gene', 'normalised_id': '1019;1021'}, {'start': '371', 'end': '380', 'name': 'cyclin D1', 'type': 'Gene', 'normalised_id': '595'}, {'start': '381', 'end': '385', 'name': 'CDK4', 'type': 'Gene', 'normalised_id': '1019'}, {'start': '390', 'end': '399', 'name': 'cyclin D3', 'type': 'Gene', 'normalised_id': '896'}, {'start': '400', 'end': '404', 'name': 'CDK6', 'type': 'Gene', 'normalised_id': '1021'}, {'start': '424', 'end': '439', 'name': 'Forkhead Box M1', 'type': 'Gene', 'normalised_id': '2305'}, {'start': '441', 'end': '446', 'name': 'FOXM1', 'type': 'Gene', 'normalised_id': '2305'}, {'start': '514', 'end': '520', 'name': 'CDK4/6', 'type': 'Gene', 'normalised_id': '1019;1021'}, {'start': '544', 'end': '549', 'name': 'FOXM1', 'type': 'Gene', 'normalised_id': '2305'}, {'start': '754', 'end': '760', 'name': 'CDK4/6', 'type': 'Gene', 'normalised_id': '1019;1021'}, {'start': '839', 'end': '845', 'name': 'CDK4/6', 'type': 'Gene', 'normalised_id': '1019;1021'}]   \n",
       "1059  [{'start': '244', 'end': '252', 'name': 'IKKalpha', 'type': 'Gene', 'normalised_id': '1147'}, {'start': '268', 'end': '272', 'name': 'CHUK', 'type': 'Gene', 'normalised_id': '1147'}, {'start': '278', 'end': '285', 'name': 'IKKbeta', 'type': 'Gene', 'normalised_id': '3551'}, {'start': '317', 'end': '335', 'name': 'IKKalpha and -beta', 'type': 'Gene', 'normalised_id': '1147;3551'}, {'start': '494', 'end': '498', 'name': 'LZip', 'type': 'Gene', 'normalised_id': '10488'}, {'start': '602', 'end': '610', 'name': 'IKKalpha', 'type': 'Gene', 'normalised_id': '1147'}, {'start': '612', 'end': '620', 'name': 'IKKalpha', 'type': 'Gene', 'normalised_id': '1147'}, {'start': '632', 'end': '640', 'name': 'IKKalpha', 'type': 'Gene', 'normalised_id': '1147'}, {'start': '650', 'end': '658', 'name': 'IKKalpha', 'type': 'Gene', 'normalised_id': '1147'}, {'start': '670', 'end': '678', 'name': 'IKKalpha', 'type': 'Gene', 'normalised_id': '1147'}, {'start': '730', 'end': '738', 'name': 'IKKalpha', 'type': 'Gene', 'normalised_id': '1147'}, {'start': '780', 'end': '784', 'name': 'LZip', 'type': 'Gene', 'normalised_id': '10488'}, {'start': '816', 'end': '824', 'name': 'IKKalpha', 'type': 'Gene', 'normalised_id': '1147'}, {'start': '858', 'end': '864', 'name': 'murine', 'type': 'Species', 'normalised_id': '10090'}, {'start': '1000', 'end': '1008', 'name': 'IKKalpha', 'type': 'Gene', 'normalised_id': '1147'}, {'start': '1020', 'end': '1028', 'name': 'IKKalpha', 'type': 'Gene', 'normalised_id': '1147'}, {'start': '1043', 'end': '1051', 'name': 'IKKalpha', 'type': 'Gene', 'normalised_id': '1147'}, {'start': '1064', 'end': '1091', 'name': 'tumor necrosis factor alpha', 'type': 'Gene', 'normalised_id': '7124'}, {'start': '1142', 'end': '1148', 'name': 'HEK293', 'type': 'Species', 'normalised_id': '9606'}, {'start': '1197', 'end': '1205', 'name': 'IKKalpha', 'type': 'Gene', 'normalised_id': '1147'}, {'start': '1214', 'end': '1222', 'name': 'IKKalpha', 'type': 'Gene', 'normalised_id': '1147'}, {'start': '1225', 'end': '1233', 'name': 'IKKalpha', 'type': 'Gene', 'normalised_id': '1147'}, {'start': '1247', 'end': '1255', 'name': 'IKKalpha', 'type': 'Gene', 'normalised_id': '1147'}, {'start': '1303', 'end': '1311', 'name': 'IKKalpha', 'type': 'Gene', 'normalised_id': '1147'}, {'start': '1394', 'end': '1397', 'name': 'NIK', 'type': 'Gene', 'normalised_id': '9020'}, {'start': '1399', 'end': '1424', 'name': 'NF-kappaB-inducing kinase', 'type': 'Gene', 'normalised_id': '9020'}, {'start': '1442', 'end': '1450', 'name': 'IKKalpha', 'type': 'Gene', 'normalised_id': '1147'}, {'start': '1452', 'end': '1460', 'name': 'IKKalpha', 'type': 'Gene', 'normalised_id': '1147'}, {'start': '1509', 'end': '1517', 'name': 'IKKalpha', 'type': 'Gene', 'normalised_id': '1147'}, {'start': '1519', 'end': '1526', 'name': 'IKKbeta', 'type': 'Gene', 'normalised_id': '3551'}, {'start': '1531', 'end': '1535', 'name': 'NEMO', 'type': 'Gene', 'normalised_id': '8517'}, {'start': '1536', 'end': '1544', 'name': 'IKKgamma', 'type': 'Gene', 'normalised_id': '8517'}, {'start': '1545', 'end': '1551', 'name': 'IKKAP1', 'type': 'Gene', 'normalised_id': '8517'}, {'start': '1559', 'end': '1567', 'name': 'IKKalpha', 'type': 'Gene', 'normalised_id': '1147'}, {'start': '1590', 'end': '1597', 'name': 'IKKbeta', 'type': 'Gene', 'normalised_id': '3551'}, {'start': '1602', 'end': '1610', 'name': 'IKKalpha', 'type': 'Gene', 'normalised_id': '1147'}, {'start': '1624', 'end': '1628', 'name': 'NEMO', 'type': 'Gene', 'normalised_id': '8517'}, {'start': '1650', 'end': '1658', 'name': 'IKKalpha', 'type': 'Gene', 'normalised_id': '1147'}, {'start': '1675', 'end': '1681', 'name': 'HEK293', 'type': 'Species', 'normalised_id': '9606'}, {'start': '1739', 'end': '1743', 'name': 'NEMO', 'type': 'Gene', 'normalised_id': '8517'}, {'start': '1758', 'end': '1766', 'name': 'IKKalpha', 'type': 'Gene', 'normalised_id': '1147'}, {'start': '1778', 'end': '1786', 'name': 'IKKalpha', 'type': 'Gene', 'normalised_id': '1147'}, {'start': '1820', 'end': '1828', 'name': 'IKKalpha', 'type': 'Gene', 'normalised_id': '1147'}, {'start': '1850', 'end': '1858', 'name': 'IKKalpha', 'type': 'Gene', 'normalised_id': '1147'}, {'start': '1931', 'end': '1938', 'name': 'IKKbeta', 'type': 'Gene', 'normalised_id': '3551'}, {'start': '1983', 'end': '1990', 'name': 'IKKbeta', 'type': 'Gene', 'normalised_id': '3551'}, {'start': '2090', 'end': '2098', 'name': 'IKKalpha', 'type': 'Gene', 'normalised_id': '1147'}, {'start': '2103', 'end': '2110', 'name': 'IKKbeta', 'type': 'Gene', 'normalised_id': '3551'}, {'start': '2226', 'end': '2234', 'name': 'IKKalpha', 'type': 'Gene', 'normalised_id': '1147'}, {'start': '2246', 'end': '2254', 'name': 'IKKalpha', 'type': 'Gene', 'normalised_id': '1147'}, {'start': '2400', 'end': '2408', 'name': 'IKKalpha', 'type': 'Gene', 'normalised_id': '1147'}, {'start': '2412', 'end': '2419', 'name': 'IKKbeta', 'type': 'Gene', 'normalised_id': '3551'}]   \n",
       "\n",
       "                                                                                                                                                                                                                                                                                                                                                                                                                                                                                                                                                                                                                                                                                                                                                                                                                                                                                                                                                                                                                                                                                                                                                                                                                                                                                                                                                                                                                                                                                                                                                                                                                                                                                                                                                                                                                                                                                                                                                                                                                                                                                                                                                                                                                                                                                                                                                                                                                                                                                                      annotations_abstract  \\\n",
       "516                                                                                                                                                                                                                                                                                                                                                                                                                                                                                                                                                                                                                                                                                                                                                                                                                                                                                                                                                                                                                                                                                                                                                                                                                                                                                                                                                                                                                                                                                                                                                                                                                              Cyclin D-dependent kinases (CDK4 and CDK6) are positive regulators of cell cycle entry and they are overactive in the majority of human cancers. However, it is currently not completely understood by which cellular mechanisms CDK4/6 promote tumorigenesis, largely due to the limited number of identified substrates. Here we performed a systematic screen for substrates of cyclin D1-CDK4 and cyclin D3-CDK6. We identified the Forkhead Box M1 (FOXM1) transcription factor as a common critical phosphorylation target. CDK4/6 stabilize and activate FOXM1, thereby maintain expression of G1/S phase genes, suppress the levels of reactive oxygen species (ROS), and protect cancer cells from senescence. Melanoma cells, unlike melanocytes, are highly reliant on CDK4/6-mediated senescence suppression, which makes them particularly susceptible to CDK4/6 inhibition.   \n",
       "550                                                                                                                                                                                                                                                                                                                                                                                                                                                                                                                                                                                                                                                                                                                                                                                                                                                                                                                                                                                                                                                                                                                                                                                                                                                                                                                                                                                                                                                                                                                                                                                                                                                                                        Deciphering the kinase-substrate relationship is vital for the study of phosphorylation network. The use of immobilized proteins on protein chip as the library for screening of potential kinase substrates is a tried-and-tested method. However, information on phosphorylation sites is lacking and the creation of the library with proteins of whole proteome by recombinant expression is costly and difficult. In this study, a new solid-phase approach by immobilization of proteins from cell lysate onto beads as a protein library for kinase substrate screening was developed. It was found that consensus phosphorylation sites motif for kinase substrates could be accurately determined and hundreds of in vitro kinase substrates and their phosphorylation sites could be identified by using this method.   \n",
       "488                                                                                                                                                                                                                                                                                                                                                                                                                                                                                                                                                                                                                                                                                                                                                                                                                                                                                                                                                                                                                                                                                                                                                                                                                                                                                                                                                                                                                                                                                                                                                                                                                              Cyclin D-dependent kinases (CDK4 and CDK6) are positive regulators of cell cycle entry and they are overactive in the majority of human cancers. However, it is currently not completely understood by which cellular mechanisms CDK4/6 promote tumorigenesis, largely due to the limited number of identified substrates. Here we performed a systematic screen for substrates of cyclin D1-CDK4 and cyclin D3-CDK6. We identified the Forkhead Box M1 (FOXM1) transcription factor as a common critical phosphorylation target. CDK4/6 stabilize and activate FOXM1, thereby maintain expression of G1/S phase genes, suppress the levels of reactive oxygen species (ROS), and protect cancer cells from senescence. Melanoma cells, unlike melanocytes, are highly reliant on CDK4/6-mediated senescence suppression, which makes them particularly susceptible to CDK4/6 inhibition.   \n",
       "1059  The activity of the NF-kappaB family of transcription factors is regulated principally by phosphorylation and subsequent degradation of their inhibitory IkappaB subunits. Site-specific serine phosphorylation of IkappaBs by two IkappaB kinases (IKKalpha [also known as CHUK] and IKKbeta) targets them for proteolysis. IKKalpha and -beta have a unique structure, with an amino-terminal serine-threonine kinase catalytic domain and carboxy-proximal helix-loop-helix (HLH) and leucine zipper-like (LZip) amphipathic alpha-helical domains. Here, we describe the properties of two novel cellular isoforms of IKKalpha: IKKalpha-DeltaH and IKKalpha-DeltaLH. IKKalpha-DeltaH and IKKalpha-DeltaLH are differentially spliced isoforms of the IKKalpha mRNA lacking its HLH domain and both its LZip and HLH domains, respectively. IKKalpha is the major RNA species in most murine cells and tissues, except for activated T lymphocytes and the brain, where the alternatively spliced isoforms predominate. Remarkably, IKKalpha-DeltaH and IKKalpha-DeltaLH, like IKKalpha, respond to tumor necrosis factor alpha stimulation to potentiate NF-kappaB activation in HEK293 cells. A mutant, catalytically inactive form of IKKalpha blocked IKKalpha-, IKKalpha-DeltaH-, and IKKalpha-DeltaLH-mediated NF-kappaB activation. Akin to IKKalpha, its carboxy-terminally truncated isoforms associated with the upstream activator NIK (NF-kappaB-inducing kinase). In contrast to IKKalpha, IKKalpha-DeltaLH failed to associate with either itself, IKKalpha, IKKbeta, or NEMO-IKKgamma-IKKAP1, while IKKalpha-DeltaH complexed with IKKbeta and IKKalpha but not with NEMO. Interestingly, each IKKalpha isoform rescued HEK293 cells from the inhibitory effects of a dominant-negative NEMO mutant, while IKKalpha could not. IKKalpha-DeltaCm, a recombinant mutant of IKKalpha structurally akin to IKKalpha-DeltaLH, was equally functional in these assays, but in sharp contrast, IKKbeta-DeltaCm, a structurally analogous mutant of IKKbeta, was inactive. Our results demonstrate that the functional roles of seemingly analogous domains in IKKalpha and IKKbeta need not be equivalent and can also exhibit different contextual dependencies. The existence of cytokine-inducible IKKalpha-DeltaH and IKKalpha-DeltaLH isoforms illustrates potential modes of NF-kappaB activation, which are not subject to the same in vivo regulatory constraints as either IKKalpha or IKKbeta.   \n",
       "\n",
       "      num_unique_gene_normalised_id  num_gene_normalised_id  \\\n",
       "516                               6                      13   \n",
       "550                               0                       0   \n",
       "488                               6                      13   \n",
       "1059                              7                      49   \n",
       "\n",
       "                                                                                                                                                                                                                          gene_to_uniprot_map  \\\n",
       "516   {'1019;1021': [], '896': ['P30281', 'B3KP19', 'D6RI00', 'Q5T8J1'], '1019': ['P11802', 'A0A024RBB6'], '2305': ['Q08050', 'A0A2P9DTZ8', 'A0A2P9DTZ1', 'Q53Y49', 'A0A0D9SFF0', 'A8K591'], '1021': ['Q00534'], '595': ['P24385', 'Q6FI00']}   \n",
       "550                                                                                                                                                                                                                                        {}   \n",
       "488   {'1019;1021': [], '896': ['P30281', 'B3KP19', 'D6RI00', 'Q5T8J1'], '1019': ['P11802', 'A0A024RBB6'], '2305': ['Q08050', 'A0A2P9DTZ8', 'A0A2P9DTZ1', 'Q53Y49', 'A0A0D9SFF0', 'A8K591'], '1021': ['Q00534'], '595': ['P24385', 'Q6FI00']}   \n",
       "1059                                                             {'8517': ['Q9Y6K9', 'A0A087X1B1'], '3551': ['O14920'], '9020': ['Q99558', 'Q68D39'], '1147;3551': [], '10488': ['O43889'], '7124': ['P01375', 'Q5STB3'], '1147': ['O15111']}   \n",
       "\n",
       "     participant1Name participant2Name  particpant1Exists  particpant2Exists  \\\n",
       "516              CDK6             None               True              False   \n",
       "550              None             None              False              False   \n",
       "488              CDK6             None               True              False   \n",
       "1059             None             None              False              False   \n",
       "\n",
       "      bothParticpantsExist  noParticpantsExist  \n",
       "516                  False               False  \n",
       "550                  False                True  \n",
       "488                  False               False  \n",
       "1059                 False                True  "
      ]
     },
     "execution_count": 52,
     "metadata": {},
     "output_type": "execute_result"
    }
   ],
   "source": [
    "data_filtered.query(\"particpant2Exists == False\").sample(4)"
   ]
  },
  {
   "cell_type": "markdown",
   "metadata": {},
   "source": [
    "### Remove abstracts where both participants do not exists"
   ]
  },
  {
   "cell_type": "code",
   "execution_count": 53,
   "metadata": {
    "pycharm": {
     "is_executing": true
    }
   },
   "outputs": [
    {
     "data": {
      "text/plain": [
       "(422, 27)"
      ]
     },
     "execution_count": 53,
     "metadata": {},
     "output_type": "execute_result"
    }
   ],
   "source": [
    "data_filtered =  data_filtered.query('bothParticpantsExist == True')\n",
    "process_map.append({\"name\": \"Drop interactions where the participant UniprotID does not exist in abstract\",\n",
    "                    \"count\": len(data_filtered) })\n",
    "data_filtered.shape"
   ]
  },
  {
   "cell_type": "code",
   "execution_count": 54,
   "metadata": {
    "pycharm": {
     "is_executing": true
    }
   },
   "outputs": [
    {
     "data": {
      "text/plain": [
       "(11, 27)"
      ]
     },
     "execution_count": 54,
     "metadata": {},
     "output_type": "execute_result"
    }
   ],
   "source": [
    "data_filtered.query(\"interactionType == 'acetylation'\").shape"
   ]
  },
  {
   "cell_type": "code",
   "execution_count": 55,
   "metadata": {
    "pycharm": {
     "is_executing": true
    }
   },
   "outputs": [
    {
     "data": {
      "text/plain": [
       "[{'name': 'Initial', 'count': 3381},\n",
       " {'name': 'Drop duplicates (pubmedId, participant uniprots, interactionType)',\n",
       "  'count': 2797},\n",
       " {'name': 'Drop abstracts that have n-ary relationship n > 2', 'count': 2217},\n",
       " {'name': 'Drop interactions where participant Unitprot identifiers are null',\n",
       "  'count': 2155},\n",
       " {'name': 'Drop interactions where the participant UniprotID does not exist in abstract',\n",
       "  'count': 422}]"
      ]
     },
     "execution_count": 55,
     "metadata": {},
     "output_type": "execute_result"
    }
   ],
   "source": [
    "process_map"
   ]
  },
  {
   "cell_type": "markdown",
   "metadata": {},
   "source": [
    "### Drop PPIs without trigger word"
   ]
  },
  {
   "cell_type": "code",
   "execution_count": 56,
   "metadata": {
    "pycharm": {
     "is_executing": true
    }
   },
   "outputs": [
    {
     "data": {
      "text/plain": [
       "(376, 27)"
      ]
     },
     "execution_count": 56,
     "metadata": {},
     "output_type": "execute_result"
    }
   ],
   "source": [
    "data_filtered =  data_filtered.query('hasTriggerWord == True')\n",
    "process_map.append({\"name\": \"Drop interactions where the abstract does not contain the trigger word\",\n",
    "                    \"count\": len(data_filtered) })\n",
    "data_filtered.shape"
   ]
  },
  {
   "cell_type": "markdown",
   "metadata": {},
   "source": [
    "### Remove self relations"
   ]
  },
  {
   "cell_type": "code",
   "execution_count": 57,
   "metadata": {
    "pycharm": {
     "is_executing": true
    }
   },
   "outputs": [
    {
     "data": {
      "text/plain": [
       "(279, 27)"
      ]
     },
     "execution_count": 57,
     "metadata": {},
     "output_type": "execute_result"
    }
   ],
   "source": [
    "data_filtered =  data_filtered.query('participant1Id != participant2Id')\n",
    "process_map.append({\"name\": \"Drop interactions where participant1 = participant2 (self relations)\",\n",
    "                    \"count\": len(data_filtered) })\n",
    "\n",
    "data_filtered.shape"
   ]
  },
  {
   "cell_type": "code",
   "execution_count": 58,
   "metadata": {
    "pycharm": {
     "is_executing": true
    }
   },
   "outputs": [
    {
     "data": {
      "text/plain": [
       "[{'name': 'Initial', 'count': 3381},\n",
       " {'name': 'Drop duplicates (pubmedId, participant uniprots, interactionType)',\n",
       "  'count': 2797},\n",
       " {'name': 'Drop abstracts that have n-ary relationship n > 2', 'count': 2217},\n",
       " {'name': 'Drop interactions where participant Unitprot identifiers are null',\n",
       "  'count': 2155},\n",
       " {'name': 'Drop interactions where the participant UniprotID does not exist in abstract',\n",
       "  'count': 422},\n",
       " {'name': 'Drop interactions where the abstract does not contain the trigger word',\n",
       "  'count': 376},\n",
       " {'name': 'Drop interactions where participant1 = participant2 (self relations)',\n",
       "  'count': 279}]"
      ]
     },
     "execution_count": 58,
     "metadata": {},
     "output_type": "execute_result"
    }
   ],
   "source": [
    "process_map"
   ]
  },
  {
   "cell_type": "code",
   "execution_count": 59,
   "metadata": {
    "pycharm": {
     "is_executing": true
    }
   },
   "outputs": [
    {
     "data": {
      "text/plain": [
       "(7, 27)"
      ]
     },
     "execution_count": 59,
     "metadata": {},
     "output_type": "execute_result"
    }
   ],
   "source": [
    "data_filtered.query(\"interactionType == 'acetylation'\").shape"
   ]
  },
  {
   "cell_type": "code",
   "execution_count": 60,
   "metadata": {
    "pycharm": {
     "is_executing": true
    }
   },
   "outputs": [
    {
     "data": {
      "image/png": "[encoded data removed]",
      "text/plain": [
       "<Figure size 288x360 with 1 Axes>"
      ]
     },
     "metadata": {
      "needs_background": "light"
     },
     "output_type": "display_data"
    }
   ],
   "source": [
    "fig, ax = plt.subplots( 1,1, figsize=(4,5))\n",
    "\n",
    "c_ax= ax\n",
    "c_ax.set_title('Overall distribution post filter {}'.format(data_filtered.shape[0]))\n",
    "c_ax.yaxis.set_major_formatter(mtick.PercentFormatter())\n",
    "c_ax.yaxis.set_major_locator(plt.FixedLocator(range(0,100, 10)))\n",
    "\n",
    "data_filtered.groupby(['interactionType']).size().apply(lambda x: 100 * x / float(len(data_filtered.interactionType))).plot.bar(ax=c_ax, color='gray')\n",
    "\n",
    "\n",
    "plt.savefig(\"Interactiontype_postfilter.eps\", bbox_inches='tight')\n",
    "plt.savefig(\"Interactiontype_postfilter.png\", bbox_inches='tight')\n",
    "\n",
    "\n",
    "plt.show()"
   ]
  },
  {
   "cell_type": "code",
   "execution_count": 61,
   "metadata": {
    "pycharm": {
     "is_executing": true
    }
   },
   "outputs": [
    {
     "data": {
      "text/plain": [
       "interactionType\n",
       "acetylation            7\n",
       "dephosphorylation     44\n",
       "deubiquitination       2\n",
       "methylation           15\n",
       "phosphorylation      204\n",
       "ubiquitination         7\n",
       "dtype: int64"
      ]
     },
     "execution_count": 61,
     "metadata": {},
     "output_type": "execute_result"
    }
   ],
   "source": [
    "data_filtered.groupby(['interactionType']).size()"
   ]
  },
  {
   "cell_type": "markdown",
   "metadata": {},
   "source": [
    "#### Check how many contain the trigger word"
   ]
  },
  {
   "cell_type": "code",
   "execution_count": 62,
   "metadata": {
    "pycharm": {
     "is_executing": true
    }
   },
   "outputs": [
    {
     "data": {
      "text/html": [
       "<div>\n",
       "<style scoped>\n",
       "    .dataframe tbody tr th:only-of-type {\n",
       "        vertical-align: middle;\n",
       "    }\n",
       "\n",
       "    .dataframe tbody tr th {\n",
       "        vertical-align: top;\n",
       "    }\n",
       "\n",
       "    .dataframe thead th {\n",
       "        text-align: right;\n",
       "    }\n",
       "</style>\n",
       "<table border=\"1\" class=\"dataframe\">\n",
       "  <thead>\n",
       "    <tr style=\"text-align: right;\">\n",
       "      <th>hasTriggerWord</th>\n",
       "      <th>True</th>\n",
       "    </tr>\n",
       "    <tr>\n",
       "      <th>interactionType</th>\n",
       "      <th></th>\n",
       "    </tr>\n",
       "  </thead>\n",
       "  <tbody>\n",
       "    <tr>\n",
       "      <th>acetylation</th>\n",
       "      <td>7</td>\n",
       "    </tr>\n",
       "    <tr>\n",
       "      <th>dephosphorylation</th>\n",
       "      <td>44</td>\n",
       "    </tr>\n",
       "    <tr>\n",
       "      <th>deubiquitination</th>\n",
       "      <td>2</td>\n",
       "    </tr>\n",
       "    <tr>\n",
       "      <th>methylation</th>\n",
       "      <td>15</td>\n",
       "    </tr>\n",
       "    <tr>\n",
       "      <th>phosphorylation</th>\n",
       "      <td>204</td>\n",
       "    </tr>\n",
       "    <tr>\n",
       "      <th>ubiquitination</th>\n",
       "      <td>7</td>\n",
       "    </tr>\n",
       "  </tbody>\n",
       "</table>\n",
       "</div>"
      ],
      "text/plain": [
       "hasTriggerWord     True\n",
       "interactionType        \n",
       "acetylation           7\n",
       "dephosphorylation    44\n",
       "deubiquitination      2\n",
       "methylation          15\n",
       "phosphorylation     204\n",
       "ubiquitination        7"
      ]
     },
     "execution_count": 62,
     "metadata": {},
     "output_type": "execute_result"
    }
   ],
   "source": [
    "data_filtered.groupby([ 'interactionType','hasTriggerWord']).size().unstack(fill_value = 0)"
   ]
  },
  {
   "cell_type": "code",
   "execution_count": 63,
   "metadata": {
    "pycharm": {
     "is_executing": true
    }
   },
   "outputs": [
    {
     "data": {
      "text/html": [
       "<div>\n",
       "<style scoped>\n",
       "    .dataframe tbody tr th:only-of-type {\n",
       "        vertical-align: middle;\n",
       "    }\n",
       "\n",
       "    .dataframe tbody tr th {\n",
       "        vertical-align: top;\n",
       "    }\n",
       "\n",
       "    .dataframe thead th {\n",
       "        text-align: right;\n",
       "    }\n",
       "</style>\n",
       "<table border=\"1\" class=\"dataframe\">\n",
       "  <thead>\n",
       "    <tr style=\"text-align: right;\">\n",
       "      <th>hasTriggerWord</th>\n",
       "      <th>True</th>\n",
       "    </tr>\n",
       "    <tr>\n",
       "      <th>interactionType</th>\n",
       "      <th></th>\n",
       "    </tr>\n",
       "  </thead>\n",
       "  <tbody>\n",
       "    <tr>\n",
       "      <th>acetylation</th>\n",
       "      <td>100.0</td>\n",
       "    </tr>\n",
       "    <tr>\n",
       "      <th>dephosphorylation</th>\n",
       "      <td>100.0</td>\n",
       "    </tr>\n",
       "    <tr>\n",
       "      <th>deubiquitination</th>\n",
       "      <td>100.0</td>\n",
       "    </tr>\n",
       "    <tr>\n",
       "      <th>methylation</th>\n",
       "      <td>100.0</td>\n",
       "    </tr>\n",
       "    <tr>\n",
       "      <th>phosphorylation</th>\n",
       "      <td>100.0</td>\n",
       "    </tr>\n",
       "    <tr>\n",
       "      <th>ubiquitination</th>\n",
       "      <td>100.0</td>\n",
       "    </tr>\n",
       "  </tbody>\n",
       "</table>\n",
       "</div>"
      ],
      "text/plain": [
       "hasTriggerWord      True\n",
       "interactionType         \n",
       "acetylation        100.0\n",
       "dephosphorylation  100.0\n",
       "deubiquitination   100.0\n",
       "methylation        100.0\n",
       "phosphorylation    100.0\n",
       "ubiquitination     100.0"
      ]
     },
     "execution_count": 63,
     "metadata": {},
     "output_type": "execute_result"
    }
   ],
   "source": [
    "data_filtered.groupby([ 'interactionType','hasTriggerWord']).size().unstack(fill_value = 0).apply(lambda x: round(x/sum(x),3)*100, axis=1)\n"
   ]
  },
  {
   "cell_type": "code",
   "execution_count": 64,
   "metadata": {
    "pycharm": {
     "is_executing": true
    }
   },
   "outputs": [
    {
     "data": {
      "text/html": [
       "<div>\n",
       "<style scoped>\n",
       "    .dataframe tbody tr th:only-of-type {\n",
       "        vertical-align: middle;\n",
       "    }\n",
       "\n",
       "    .dataframe tbody tr th {\n",
       "        vertical-align: top;\n",
       "    }\n",
       "\n",
       "    .dataframe thead th {\n",
       "        text-align: right;\n",
       "    }\n",
       "</style>\n",
       "<table border=\"1\" class=\"dataframe\">\n",
       "  <thead>\n",
       "    <tr style=\"text-align: right;\">\n",
       "      <th></th>\n",
       "      <th>interactionId</th>\n",
       "      <th>interactionType</th>\n",
       "      <th>pubmedId</th>\n",
       "      <th>pubmedTitle</th>\n",
       "      <th>pubmedabstract</th>\n",
       "      <th>isValid</th>\n",
       "      <th>flatparticpants</th>\n",
       "      <th>participants_count</th>\n",
       "      <th>hasTriggerWord</th>\n",
       "      <th>entityMentionsCount</th>\n",
       "      <th>participant1Id</th>\n",
       "      <th>participant2Id</th>\n",
       "      <th>participant1Alias</th>\n",
       "      <th>participant2Alias</th>\n",
       "      <th>normalised_abstract</th>\n",
       "      <th>normalised_abstract_annotations</th>\n",
       "      <th>annotations</th>\n",
       "      <th>annotations_abstract</th>\n",
       "      <th>num_unique_gene_normalised_id</th>\n",
       "      <th>num_gene_normalised_id</th>\n",
       "      <th>gene_to_uniprot_map</th>\n",
       "      <th>participant1Name</th>\n",
       "      <th>participant2Name</th>\n",
       "      <th>particpant1Exists</th>\n",
       "      <th>particpant2Exists</th>\n",
       "      <th>bothParticpantsExist</th>\n",
       "      <th>noParticpantsExist</th>\n",
       "    </tr>\n",
       "  </thead>\n",
       "  <tbody>\n",
       "  </tbody>\n",
       "</table>\n",
       "</div>"
      ],
      "text/plain": [
       "Empty DataFrame\n",
       "Columns: [interactionId, interactionType, pubmedId, pubmedTitle, pubmedabstract, isValid, flatparticpants, participants_count, hasTriggerWord, entityMentionsCount, participant1Id, participant2Id, participant1Alias, participant2Alias, normalised_abstract, normalised_abstract_annotations, annotations, annotations_abstract, num_unique_gene_normalised_id, num_gene_normalised_id, gene_to_uniprot_map, participant1Name, participant2Name, particpant1Exists, particpant2Exists, bothParticpantsExist, noParticpantsExist]\n",
       "Index: []"
      ]
     },
     "execution_count": 64,
     "metadata": {},
     "output_type": "execute_result"
    }
   ],
   "source": [
    "data_filtered.query('pubmedId == \"17126281\"')"
   ]
  },
  {
   "cell_type": "code",
   "execution_count": 65,
   "metadata": {
    "pycharm": {
     "is_executing": true
    }
   },
   "outputs": [
    {
     "data": {
      "text/html": [
       "<div>\n",
       "<style scoped>\n",
       "    .dataframe tbody tr th:only-of-type {\n",
       "        vertical-align: middle;\n",
       "    }\n",
       "\n",
       "    .dataframe tbody tr th {\n",
       "        vertical-align: top;\n",
       "    }\n",
       "\n",
       "    .dataframe thead th {\n",
       "        text-align: right;\n",
       "    }\n",
       "</style>\n",
       "<table border=\"1\" class=\"dataframe\">\n",
       "  <thead>\n",
       "    <tr style=\"text-align: right;\">\n",
       "      <th></th>\n",
       "      <th>interactionType</th>\n",
       "      <th>pubmedId</th>\n",
       "      <th>pubmedTitle</th>\n",
       "      <th>participant1Id</th>\n",
       "      <th>participant2Id</th>\n",
       "    </tr>\n",
       "  </thead>\n",
       "  <tbody>\n",
       "    <tr>\n",
       "      <th>715</th>\n",
       "      <td>acetylation</td>\n",
       "      <td>20856196</td>\n",
       "      <td>None</td>\n",
       "      <td>Q09472</td>\n",
       "      <td>P27695</td>\n",
       "    </tr>\n",
       "    <tr>\n",
       "      <th>797</th>\n",
       "      <td>acetylation</td>\n",
       "      <td>26829474</td>\n",
       "      <td>Acetylation of Aurora B by TIP60 ensures accurate chromosomal segregation.</td>\n",
       "      <td>Q96GD4</td>\n",
       "      <td>Q92993</td>\n",
       "    </tr>\n",
       "    <tr>\n",
       "      <th>1228</th>\n",
       "      <td>acetylation</td>\n",
       "      <td>22771473</td>\n",
       "      <td>None</td>\n",
       "      <td>Q92831</td>\n",
       "      <td>P63241</td>\n",
       "    </tr>\n",
       "    <tr>\n",
       "      <th>1415</th>\n",
       "      <td>acetylation</td>\n",
       "      <td>19407811</td>\n",
       "      <td>None</td>\n",
       "      <td>O60566</td>\n",
       "      <td>Q92831</td>\n",
       "    </tr>\n",
       "    <tr>\n",
       "      <th>1557</th>\n",
       "      <td>acetylation</td>\n",
       "      <td>21157427</td>\n",
       "      <td>None</td>\n",
       "      <td>Q01130</td>\n",
       "      <td>Q92993</td>\n",
       "    </tr>\n",
       "    <tr>\n",
       "      <th>1573</th>\n",
       "      <td>acetylation</td>\n",
       "      <td>23441852</td>\n",
       "      <td>None</td>\n",
       "      <td>Q09472</td>\n",
       "      <td>P61201</td>\n",
       "    </tr>\n",
       "    <tr>\n",
       "      <th>1632</th>\n",
       "      <td>acetylation</td>\n",
       "      <td>11804596</td>\n",
       "      <td>None</td>\n",
       "      <td>O15350</td>\n",
       "      <td>Q09472</td>\n",
       "    </tr>\n",
       "  </tbody>\n",
       "</table>\n",
       "</div>"
      ],
      "text/plain": [
       "     interactionType  pubmedId  \\\n",
       "715      acetylation  20856196   \n",
       "797      acetylation  26829474   \n",
       "1228     acetylation  22771473   \n",
       "1415     acetylation  19407811   \n",
       "1557     acetylation  21157427   \n",
       "1573     acetylation  23441852   \n",
       "1632     acetylation  11804596   \n",
       "\n",
       "                                                                     pubmedTitle  \\\n",
       "715                                                                         None   \n",
       "797   Acetylation of Aurora B by TIP60 ensures accurate chromosomal segregation.   \n",
       "1228                                                                        None   \n",
       "1415                                                                        None   \n",
       "1557                                                                        None   \n",
       "1573                                                                        None   \n",
       "1632                                                                        None   \n",
       "\n",
       "     participant1Id participant2Id  \n",
       "715          Q09472         P27695  \n",
       "797          Q96GD4         Q92993  \n",
       "1228         Q92831         P63241  \n",
       "1415         O60566         Q92831  \n",
       "1557         Q01130         Q92993  \n",
       "1573         Q09472         P61201  \n",
       "1632         O15350         Q09472  "
      ]
     },
     "execution_count": 65,
     "metadata": {},
     "output_type": "execute_result"
    }
   ],
   "source": [
    "data_filtered.query(\"interactionType == 'acetylation'\")[[\"interactionType\", \"pubmedId\", \"pubmedTitle\",\n",
    "                                                         \"participant1Id\", \"participant2Id\" ]]"
   ]
  },
  {
   "cell_type": "markdown",
   "metadata": {},
   "source": [
    "### Verify no duplicates"
   ]
  },
  {
   "cell_type": "code",
   "execution_count": 66,
   "metadata": {
    "pycharm": {
     "is_executing": true
    }
   },
   "outputs": [],
   "source": [
    "duplicates = data_filtered.groupby([\"interactionType\", \"pubmedId\", \"participant1Id\", \"participant2Id\"])\\\n",
    "    .filter(lambda x: len(x) > 1)\\\n",
    "    .groupby([\"interactionType\", \"pubmedId\", \"participant1Id\", \"participant2Id\"]).size()\n",
    "\n",
    "assert len(duplicates)==0"
   ]
  },
  {
   "cell_type": "code",
   "execution_count": 67,
   "metadata": {
    "pycharm": {
     "is_executing": true
    }
   },
   "outputs": [
    {
     "data": {
      "text/plain": [
       "[{'name': 'Initial', 'count': 3381},\n",
       " {'name': 'Drop duplicates (pubmedId, participant uniprots, interactionType)',\n",
       "  'count': 2797},\n",
       " {'name': 'Drop abstracts that have n-ary relationship n > 2', 'count': 2217},\n",
       " {'name': 'Drop interactions where participant Unitprot identifiers are null',\n",
       "  'count': 2155},\n",
       " {'name': 'Drop interactions where the participant UniprotID does not exist in abstract',\n",
       "  'count': 422},\n",
       " {'name': 'Drop interactions where the abstract does not contain the trigger word',\n",
       "  'count': 376},\n",
       " {'name': 'Drop interactions where participant1 = participant2 (self relations)',\n",
       "  'count': 279}]"
      ]
     },
     "execution_count": 67,
     "metadata": {},
     "output_type": "execute_result"
    }
   ],
   "source": [
    "process_map"
   ]
  },
  {
   "cell_type": "markdown",
   "metadata": {},
   "source": [
    "### Split Train/Test/validation"
   ]
  },
  {
   "cell_type": "code",
   "execution_count": 68,
   "metadata": {
    "pycharm": {
     "is_executing": true
    }
   },
   "outputs": [],
   "source": [
    "from sklearn.model_selection import train_test_split\n",
    "from sklearn.model_selection import train_test_split\n",
    "\n",
    "unique_pubmed = data_filtered.pubmedId.unique()\n",
    "stratified =  [ data_filtered.query(\"pubmedId == '{}'\".format(p))['interactionType'].iloc[0] for p in unique_pubmed]\n",
    "trainpubmed, valpubmed  = train_test_split(unique_pubmed,  test_size=.1,\n",
    "                                                        random_state=777, stratify=stratified)\n",
    "\n",
    "\n",
    "stratified =  [data_filtered.query(\"pubmedId == '{}'\".format(p))['interactionType'].iloc[0] for p in trainpubmed]\n",
    "trainpubmed, testpubmed = train_test_split(trainpubmed,  test_size=.2,\n",
    "                                                        random_state=777, stratify=stratified)"
   ]
  },
  {
   "cell_type": "code",
   "execution_count": 69,
   "metadata": {
    "pycharm": {
     "is_executing": true
    }
   },
   "outputs": [
    {
     "data": {
      "text/plain": [
       "array([], dtype=object)"
      ]
     },
     "execution_count": 69,
     "metadata": {},
     "output_type": "execute_result"
    }
   ],
   "source": [
    "data_filtered.query(\"interactionType == 'demethylation'\")['pubmedId'].unique()"
   ]
  },
  {
   "cell_type": "code",
   "execution_count": 70,
   "metadata": {
    "pycharm": {
     "is_executing": true
    }
   },
   "outputs": [
    {
     "data": {
      "text/plain": [
       "array(['15103385', '16213503', '14603323', '11894096', '11882901',\n",
       "       '16601676', '11027293'], dtype=object)"
      ]
     },
     "execution_count": 70,
     "metadata": {},
     "output_type": "execute_result"
    }
   ],
   "source": [
    "data_filtered.query(\"interactionType == 'ubiquitination'\")['pubmedId'].unique()"
   ]
  },
  {
   "cell_type": "code",
   "execution_count": 71,
   "metadata": {
    "pycharm": {
     "is_executing": true
    }
   },
   "outputs": [],
   "source": [
    "train = data_filtered[data_filtered['pubmedId'].isin(trainpubmed)]\n",
    "test = data_filtered[data_filtered['pubmedId'].isin(testpubmed)]\n",
    "val = data_filtered[data_filtered['pubmedId'].isin(valpubmed)]\n",
    "\n",
    "\n"
   ]
  },
  {
   "cell_type": "code",
   "execution_count": 72,
   "metadata": {
    "pycharm": {
     "is_executing": true
    }
   },
   "outputs": [
    {
     "data": {
      "text/plain": [
       "array(['15103385', '14603323', '11882901', '16601676', '11027293'],\n",
       "      dtype=object)"
      ]
     },
     "execution_count": 72,
     "metadata": {},
     "output_type": "execute_result"
    }
   ],
   "source": [
    "train.query(\"interactionType == 'ubiquitination'\")['pubmedId'].unique()"
   ]
  },
  {
   "cell_type": "code",
   "execution_count": 73,
   "metadata": {
    "pycharm": {
     "is_executing": true
    }
   },
   "outputs": [
    {
     "data": {
      "text/html": [
       "<div>\n",
       "<style scoped>\n",
       "    .dataframe tbody tr th:only-of-type {\n",
       "        vertical-align: middle;\n",
       "    }\n",
       "\n",
       "    .dataframe tbody tr th {\n",
       "        vertical-align: top;\n",
       "    }\n",
       "\n",
       "    .dataframe thead th {\n",
       "        text-align: right;\n",
       "    }\n",
       "</style>\n",
       "<table border=\"1\" class=\"dataframe\">\n",
       "  <thead>\n",
       "    <tr style=\"text-align: right;\">\n",
       "      <th></th>\n",
       "      <th>interactionId</th>\n",
       "      <th>interactionType</th>\n",
       "      <th>pubmedId</th>\n",
       "      <th>pubmedTitle</th>\n",
       "      <th>pubmedabstract</th>\n",
       "      <th>isValid</th>\n",
       "      <th>flatparticpants</th>\n",
       "      <th>participants_count</th>\n",
       "      <th>hasTriggerWord</th>\n",
       "      <th>entityMentionsCount</th>\n",
       "      <th>participant1Id</th>\n",
       "      <th>participant2Id</th>\n",
       "      <th>participant1Alias</th>\n",
       "      <th>participant2Alias</th>\n",
       "      <th>normalised_abstract</th>\n",
       "      <th>normalised_abstract_annotations</th>\n",
       "      <th>annotations</th>\n",
       "      <th>annotations_abstract</th>\n",
       "      <th>num_unique_gene_normalised_id</th>\n",
       "      <th>num_gene_normalised_id</th>\n",
       "      <th>gene_to_uniprot_map</th>\n",
       "      <th>participant1Name</th>\n",
       "      <th>participant2Name</th>\n",
       "      <th>particpant1Exists</th>\n",
       "      <th>particpant2Exists</th>\n",
       "      <th>bothParticpantsExist</th>\n",
       "      <th>noParticpantsExist</th>\n",
       "    </tr>\n",
       "  </thead>\n",
       "  <tbody>\n",
       "    <tr>\n",
       "      <th>1639</th>\n",
       "      <td>7982</td>\n",
       "      <td>ubiquitination</td>\n",
       "      <td>11894096</td>\n",
       "      <td>None</td>\n",
       "      <td>Ligand-dependent downregulation of tyrosine kinase receptors is a critical step for modulating their activity. Upon ligand binding, hepatocyte growth factor (HGF) receptor (Met) is polyubiquitinated and degraded; however, the mechanisms underlying HGF receptor endocytosis are not yet known. Here we demonstrate that a complex involving endophilins, CIN85 and Cbl controls this process. Endophilins are regulatory components of clathrin-coated vesicle formation. Through their acyl-transferase activity they are thought to modify the membrane phospholipids and induce negative curvature and invagination of the plasma membrane during the early steps of endocytosis. Furthermore, by means of their Src-homology 3 domains, endophilins are able to bind CIN85, a recently identified protein that interacts with the Cbl proto-oncogene. Cbl, in turn, binds and ubiquitinates activated HGF receptor, and by recruiting the endophilin-CIN85 complex, it regulates receptor internalization. Inhibition of complex formation is sufficient to block HGF receptor internalization and to enhance HGF-induced signal transduction and biological responses. These data provide further evidence of a relationship between receptor-mediated signalling and endocytosis, and disclose a novel functional role for Cbl in HGF receptor signalling.</td>\n",
       "      <td>True</td>\n",
       "      <td>[P08581, P22681]</td>\n",
       "      <td>2</td>\n",
       "      <td>True</td>\n",
       "      <td>8</td>\n",
       "      <td>P22681</td>\n",
       "      <td>P08581</td>\n",
       "      <td>[[cbl_human], [E3 ubiquitin-protein ligase CBL], [RING-type E3 ubiquitin transferase CBL], [Signal transduction protein CBL], [Proto-oncogene c-Cbl], [Casitas B-lineage lymphoma proto-oncogene], [RING finger protein 55], [CBL], [CBL2], [RNF55]]</td>\n",
       "      <td>[[met_human], [Hepatocyte growth factor receptor], [MET], [Scatter factor receptor], [HGF/SF receptor], [Tyrosine-protein kinase Met], [Proto-oncogene c-Met]]</td>\n",
       "      <td>Ligand-dependent downregulation of tyrosine kinase receptors is a critical step for modulating their activity. Upon ligand binding, P08581 (Met) is polyubiquitinated and degraded; however, the mechanisms underlying P08581 endocytosis are not yet known. Here we demonstrate that a complex involving endophilins, Q96B97 and P22681 controls this process. Endophilins are regulatory components of clathrin-coated vesicle formation. Through their acyl-transferase activity they are thought to modify the membrane phospholipids and induce negative curvature and invagination of the plasma membrane during the early steps of endocytosis. Furthermore, by means of their Src-homology 3 domains, endophilins are able to bind Q96B97, a recently identified protein that interacts with the P22681 proto-oncogene. P22681, in turn, binds and ubiquitinates activated P08581, and by recruiting the endophilin-Q96B97 complex, it regulates receptor internalization. Inhibition of complex formation is sufficient to block P08581 internalization and to enhance P14210-induced signal transduction and biological responses. These data provide further evidence of a relationship between receptor-mediated signalling and endocytosis, and disclose a novel functional role for P22681 in P08581 signalling.</td>\n",
       "      <td>[{'charOffset': 132, 'len': 6, 'text': 'P08581'}, {'charOffset': 215, 'len': 6, 'text': 'P08581'}, {'charOffset': 311, 'len': 6, 'text': 'Q96B97'}, {'charOffset': 322, 'len': 6, 'text': 'P22681'}, {'charOffset': 715, 'len': 6, 'text': 'Q96B97'}, {'charOffset': 777, 'len': 6, 'text': 'P22681'}, {'charOffset': 800, 'len': 6, 'text': 'P22681'}, {'charOffset': 851, 'len': 6, 'text': 'P08581'}, {'charOffset': 892, 'len': 6, 'text': 'Q96B97'}, {'charOffset': 1002, 'len': 6, 'text': 'P08581'}, {'charOffset': 1040, 'len': 6, 'text': 'P14210'}, {'charOffset': 1250, 'len': 6, 'text': 'P22681'}, {'charOffset': 1260, 'len': 6, 'text': 'P08581'}]</td>\n",
       "      <td>[{'start': '132', 'end': '171', 'name': 'hepatocyte growth factor (HGF) receptor', 'type': 'Gene', 'normalised_id': '4233'}, {'start': '248', 'end': '260', 'name': 'HGF receptor', 'type': 'Gene', 'normalised_id': '4233'}, {'start': '350', 'end': '355', 'name': 'CIN85', 'type': 'Gene', 'normalised_id': '30011'}, {'start': '360', 'end': '363', 'name': 'Cbl', 'type': 'Gene', 'normalised_id': '867'}, {'start': '750', 'end': '755', 'name': 'CIN85', 'type': 'Gene', 'normalised_id': '30011'}, {'start': '811', 'end': '814', 'name': 'Cbl', 'type': 'Gene', 'normalised_id': '867'}, {'start': '831', 'end': '834', 'name': 'Cbl', 'type': 'Gene', 'normalised_id': '867'}, {'start': '879', 'end': '891', 'name': 'HGF receptor', 'type': 'Gene', 'normalised_id': '4233'}, {'start': '926', 'end': '931', 'name': 'CIN85', 'type': 'Gene', 'normalised_id': '30011'}, {'start': '1035', 'end': '1047', 'name': 'HGF receptor', 'type': 'Gene', 'normalised_id': '4233'}, {'start': '1079', 'end': '1082', 'name': 'HGF', 'type': 'Gene', 'normalised_id': '3082'}, {'start': '1286', 'end': '1289', 'name': 'Cbl', 'type': 'Gene', 'normalised_id': '867'}, {'start': '1293', 'end': '1305', 'name': 'HGF receptor', 'type': 'Gene', 'normalised_id': '4233'}]</td>\n",
       "      <td>Ligand-dependent downregulation of tyrosine kinase receptors is a critical step for modulating their activity. Upon ligand binding, hepatocyte growth factor (HGF) receptor (Met) is polyubiquitinated and degraded; however, the mechanisms underlying HGF receptor endocytosis are not yet known. Here we demonstrate that a complex involving endophilins, CIN85 and Cbl controls this process. Endophilins are regulatory components of clathrin-coated vesicle formation. Through their acyl-transferase activity they are thought to modify the membrane phospholipids and induce negative curvature and invagination of the plasma membrane during the early steps of endocytosis. Furthermore, by means of their Src-homology 3 domains, endophilins are able to bind CIN85, a recently identified protein that interacts with the Cbl proto-oncogene. Cbl, in turn, binds and ubiquitinates activated HGF receptor, and by recruiting the endophilin-CIN85 complex, it regulates receptor internalization. Inhibition of complex formation is sufficient to block HGF receptor internalization and to enhance HGF-induced signal transduction and biological responses. These data provide further evidence of a relationship between receptor-mediated signalling and endocytosis, and disclose a novel functional role for Cbl in HGF receptor signalling.</td>\n",
       "      <td>4</td>\n",
       "      <td>13</td>\n",
       "      <td>{'30011': ['Q96B97', 'Q5JPT6', 'B7Z6E8'], '867': ['P22681'], '3082': ['P14210'], '4233': ['P08581', 'A0A024R728', 'B4DLF5', 'E6Y365', 'A0A024R759']}</td>\n",
       "      <td>Cbl</td>\n",
       "      <td>hepatocyte growth factor (HGF) receptor</td>\n",
       "      <td>True</td>\n",
       "      <td>True</td>\n",
       "      <td>True</td>\n",
       "      <td>False</td>\n",
       "    </tr>\n",
       "  </tbody>\n",
       "</table>\n",
       "</div>"
      ],
      "text/plain": [
       "     interactionId interactionType  pubmedId pubmedTitle  \\\n",
       "1639          7982  ubiquitination  11894096        None   \n",
       "\n",
       "                                                                                                                                                                                                                                                                                                                                                                                                                                                                                                                                                                                                                                                                                                                                                                                                                                                                                                                                                                                                                                                                                                                                                                                                                                                                                                                                                             pubmedabstract  \\\n",
       "1639  Ligand-dependent downregulation of tyrosine kinase receptors is a critical step for modulating their activity. Upon ligand binding, hepatocyte growth factor (HGF) receptor (Met) is polyubiquitinated and degraded; however, the mechanisms underlying HGF receptor endocytosis are not yet known. Here we demonstrate that a complex involving endophilins, CIN85 and Cbl controls this process. Endophilins are regulatory components of clathrin-coated vesicle formation. Through their acyl-transferase activity they are thought to modify the membrane phospholipids and induce negative curvature and invagination of the plasma membrane during the early steps of endocytosis. Furthermore, by means of their Src-homology 3 domains, endophilins are able to bind CIN85, a recently identified protein that interacts with the Cbl proto-oncogene. Cbl, in turn, binds and ubiquitinates activated HGF receptor, and by recruiting the endophilin-CIN85 complex, it regulates receptor internalization. Inhibition of complex formation is sufficient to block HGF receptor internalization and to enhance HGF-induced signal transduction and biological responses. These data provide further evidence of a relationship between receptor-mediated signalling and endocytosis, and disclose a novel functional role for Cbl in HGF receptor signalling.   \n",
       "\n",
       "      isValid   flatparticpants  participants_count  hasTriggerWord  \\\n",
       "1639     True  [P08581, P22681]                   2            True   \n",
       "\n",
       "      entityMentionsCount participant1Id participant2Id  \\\n",
       "1639                    8         P22681         P08581   \n",
       "\n",
       "                                                                                                                                                                                                                                         participant1Alias  \\\n",
       "1639  [[cbl_human], [E3 ubiquitin-protein ligase CBL], [RING-type E3 ubiquitin transferase CBL], [Signal transduction protein CBL], [Proto-oncogene c-Cbl], [Casitas B-lineage lymphoma proto-oncogene], [RING finger protein 55], [CBL], [CBL2], [RNF55]]   \n",
       "\n",
       "                                                                                                                                                   participant2Alias  \\\n",
       "1639  [[met_human], [Hepatocyte growth factor receptor], [MET], [Scatter factor receptor], [HGF/SF receptor], [Tyrosine-protein kinase Met], [Proto-oncogene c-Met]]   \n",
       "\n",
       "                                                                                                                                                                                                                                                                                                                                                                                                                                                                                                                                                                                                                                                                                                                                                                                                                                                                                                                                                                                                                                                                                                                                                                                                                                                                                                                 normalised_abstract  \\\n",
       "1639  Ligand-dependent downregulation of tyrosine kinase receptors is a critical step for modulating their activity. Upon ligand binding, P08581 (Met) is polyubiquitinated and degraded; however, the mechanisms underlying P08581 endocytosis are not yet known. Here we demonstrate that a complex involving endophilins, Q96B97 and P22681 controls this process. Endophilins are regulatory components of clathrin-coated vesicle formation. Through their acyl-transferase activity they are thought to modify the membrane phospholipids and induce negative curvature and invagination of the plasma membrane during the early steps of endocytosis. Furthermore, by means of their Src-homology 3 domains, endophilins are able to bind Q96B97, a recently identified protein that interacts with the P22681 proto-oncogene. P22681, in turn, binds and ubiquitinates activated P08581, and by recruiting the endophilin-Q96B97 complex, it regulates receptor internalization. Inhibition of complex formation is sufficient to block P08581 internalization and to enhance P14210-induced signal transduction and biological responses. These data provide further evidence of a relationship between receptor-mediated signalling and endocytosis, and disclose a novel functional role for P22681 in P08581 signalling.   \n",
       "\n",
       "                                                                                                                                                                                                                                                                                                                                                                                                                                                                                                                                                                                                                                        normalised_abstract_annotations  \\\n",
       "1639  [{'charOffset': 132, 'len': 6, 'text': 'P08581'}, {'charOffset': 215, 'len': 6, 'text': 'P08581'}, {'charOffset': 311, 'len': 6, 'text': 'Q96B97'}, {'charOffset': 322, 'len': 6, 'text': 'P22681'}, {'charOffset': 715, 'len': 6, 'text': 'Q96B97'}, {'charOffset': 777, 'len': 6, 'text': 'P22681'}, {'charOffset': 800, 'len': 6, 'text': 'P22681'}, {'charOffset': 851, 'len': 6, 'text': 'P08581'}, {'charOffset': 892, 'len': 6, 'text': 'Q96B97'}, {'charOffset': 1002, 'len': 6, 'text': 'P08581'}, {'charOffset': 1040, 'len': 6, 'text': 'P14210'}, {'charOffset': 1250, 'len': 6, 'text': 'P22681'}, {'charOffset': 1260, 'len': 6, 'text': 'P08581'}]   \n",
       "\n",
       "                                                                                                                                                                                                                                                                                                                                                                                                                                                                                                                                                                                                                                                                                                                                                                                                                                                                                                                                                                                                                                                                                                                                                                                                                                                                        annotations  \\\n",
       "1639  [{'start': '132', 'end': '171', 'name': 'hepatocyte growth factor (HGF) receptor', 'type': 'Gene', 'normalised_id': '4233'}, {'start': '248', 'end': '260', 'name': 'HGF receptor', 'type': 'Gene', 'normalised_id': '4233'}, {'start': '350', 'end': '355', 'name': 'CIN85', 'type': 'Gene', 'normalised_id': '30011'}, {'start': '360', 'end': '363', 'name': 'Cbl', 'type': 'Gene', 'normalised_id': '867'}, {'start': '750', 'end': '755', 'name': 'CIN85', 'type': 'Gene', 'normalised_id': '30011'}, {'start': '811', 'end': '814', 'name': 'Cbl', 'type': 'Gene', 'normalised_id': '867'}, {'start': '831', 'end': '834', 'name': 'Cbl', 'type': 'Gene', 'normalised_id': '867'}, {'start': '879', 'end': '891', 'name': 'HGF receptor', 'type': 'Gene', 'normalised_id': '4233'}, {'start': '926', 'end': '931', 'name': 'CIN85', 'type': 'Gene', 'normalised_id': '30011'}, {'start': '1035', 'end': '1047', 'name': 'HGF receptor', 'type': 'Gene', 'normalised_id': '4233'}, {'start': '1079', 'end': '1082', 'name': 'HGF', 'type': 'Gene', 'normalised_id': '3082'}, {'start': '1286', 'end': '1289', 'name': 'Cbl', 'type': 'Gene', 'normalised_id': '867'}, {'start': '1293', 'end': '1305', 'name': 'HGF receptor', 'type': 'Gene', 'normalised_id': '4233'}]   \n",
       "\n",
       "                                                                                                                                                                                                                                                                                                                                                                                                                                                                                                                                                                                                                                                                                                                                                                                                                                                                                                                                                                                                                                                                                                                                                                                                                                                                                                                                                       annotations_abstract  \\\n",
       "1639  Ligand-dependent downregulation of tyrosine kinase receptors is a critical step for modulating their activity. Upon ligand binding, hepatocyte growth factor (HGF) receptor (Met) is polyubiquitinated and degraded; however, the mechanisms underlying HGF receptor endocytosis are not yet known. Here we demonstrate that a complex involving endophilins, CIN85 and Cbl controls this process. Endophilins are regulatory components of clathrin-coated vesicle formation. Through their acyl-transferase activity they are thought to modify the membrane phospholipids and induce negative curvature and invagination of the plasma membrane during the early steps of endocytosis. Furthermore, by means of their Src-homology 3 domains, endophilins are able to bind CIN85, a recently identified protein that interacts with the Cbl proto-oncogene. Cbl, in turn, binds and ubiquitinates activated HGF receptor, and by recruiting the endophilin-CIN85 complex, it regulates receptor internalization. Inhibition of complex formation is sufficient to block HGF receptor internalization and to enhance HGF-induced signal transduction and biological responses. These data provide further evidence of a relationship between receptor-mediated signalling and endocytosis, and disclose a novel functional role for Cbl in HGF receptor signalling.   \n",
       "\n",
       "      num_unique_gene_normalised_id  num_gene_normalised_id  \\\n",
       "1639                              4                      13   \n",
       "\n",
       "                                                                                                                                       gene_to_uniprot_map  \\\n",
       "1639  {'30011': ['Q96B97', 'Q5JPT6', 'B7Z6E8'], '867': ['P22681'], '3082': ['P14210'], '4233': ['P08581', 'A0A024R728', 'B4DLF5', 'E6Y365', 'A0A024R759']}   \n",
       "\n",
       "     participant1Name                         participant2Name  \\\n",
       "1639              Cbl  hepatocyte growth factor (HGF) receptor   \n",
       "\n",
       "      particpant1Exists  particpant2Exists  bothParticpantsExist  \\\n",
       "1639               True               True                  True   \n",
       "\n",
       "      noParticpantsExist  \n",
       "1639               False  "
      ]
     },
     "execution_count": 73,
     "metadata": {},
     "output_type": "execute_result"
    }
   ],
   "source": [
    "val.query(\"interactionType == 'ubiquitination'\")\n"
   ]
  },
  {
   "cell_type": "code",
   "execution_count": 74,
   "metadata": {
    "pycharm": {
     "is_executing": true
    }
   },
   "outputs": [
    {
     "data": {
      "image/png": "[encoded data removed]",
      "text/plain": [
       "<Figure size 864x360 with 3 Axes>"
      ]
     },
     "metadata": {
      "needs_background": "light"
     },
     "output_type": "display_data"
    }
   ],
   "source": [
    "import matplotlib.pyplot as plt\n",
    "import matplotlib\n",
    "import matplotlib.ticker as mtick\n",
    "\n",
    "\n",
    "fig, ax = plt.subplots( 1,3, figsize=(12,5))\n",
    "\n",
    "\n",
    "\n",
    "#fig, ax = plt.subplots( 7,1, figsize=(45,30))\n",
    "c_ax= ax[0]\n",
    "c_ax.set_title('Train set {}'.format(train.shape[0]))\n",
    "c_ax.yaxis.set_major_formatter(mtick.PercentFormatter())\n",
    "c_ax.yaxis.set_major_locator(plt.FixedLocator(range(0,100, 5)))\n",
    "train.groupby(['interactionType']).size().apply(lambda x: 100 * x / float(len(train.interactionType))).plot.bar(ax=c_ax, color='gray')\n",
    "\n",
    "\n",
    "\n",
    "\n",
    "c_ax = ax[1] \n",
    "c_ax.set_title('Validation set {}'.format(val.shape[0]))\n",
    "c_ax.yaxis.set_major_formatter(mtick.PercentFormatter())\n",
    "c_ax.yaxis.set_major_locator(plt.FixedLocator(range(0,100, 5)))\n",
    "val.groupby(['interactionType']).size().apply(lambda x: 100 * x / float(len(val.interactionType))).plot.bar(ax=c_ax, color='gray')\n",
    "\n",
    "\n",
    "\n",
    "c_ax = ax[2] \n",
    "c_ax.set_title('Test set {}'.format(test.shape[0]))\n",
    "c_ax.yaxis.set_major_formatter(mtick.PercentFormatter())\n",
    "c_ax.yaxis.set_major_locator(plt.FixedLocator(range(0,100, 5)))\n",
    "test.groupby(['interactionType']).size().apply(lambda x: 100 * x / float(len(test.interactionType))).plot.bar(ax=c_ax, color='gray')\n",
    "\n",
    "\n",
    "\n",
    "\n",
    "plt.savefig(\"split_dataset_postfilter.eps\", bbox_inches='tight')\n",
    "plt.savefig(\"split_dataset_postfilter.png\", bbox_inches='tight')\n",
    "\n",
    "plt.show()"
   ]
  },
  {
   "cell_type": "code",
   "execution_count": 75,
   "metadata": {
    "pycharm": {
     "is_executing": true
    }
   },
   "outputs": [
    {
     "data": {
      "image/png": "[encoded data removed]",
      "text/plain": [
       "<Figure size 1080x360 with 3 Axes>"
      ]
     },
     "metadata": {
      "needs_background": "light"
     },
     "output_type": "display_data"
    }
   ],
   "source": [
    "import matplotlib.pyplot as plt\n",
    "import matplotlib\n",
    "import matplotlib.ticker as mtick\n",
    "\n",
    "\n",
    "fig, ax = plt.subplots( 1,3, figsize=(15,5))\n",
    "\n",
    "\n",
    "\n",
    "#fig, ax = plt.subplots( 7,1, figsize=(45,30))\n",
    "c_ax= ax[0]\n",
    "c_ax.set_title('Train set total positive class {}'.format(train.shape[0]))\n",
    "c_ax.yaxis.set_major_locator(plt.MaxNLocator( prune='both'))\n",
    "train.interactionType.value_counts().sort_index().plot.bar(ax=c_ax, color='gray')\n",
    "\n",
    "\n",
    "\n",
    "\n",
    "c_ax = ax[1] \n",
    "c_ax.set_title('Validation set total positive class {}'.format(val.shape[0]))\n",
    "c_ax.yaxis.set_major_locator(plt.MaxNLocator( prune='both'))\n",
    "val.interactionType.value_counts().sort_index().plot.bar(ax=c_ax, color='gray')\n",
    "\n",
    "c_ax = ax[2] \n",
    "c_ax.set_title('Test set total positive class {}'.format(test.shape[0]))\n",
    "c_ax.yaxis.set_major_locator(plt.MaxNLocator( prune='both'))\n",
    "test.interactionType.value_counts().sort_index().plot.bar(ax=c_ax,  color='gray')\n",
    "\n",
    "\n",
    "plt.savefig('TrainTestValidationInteractionDistribution.eps', bbox_inches='tight')\n",
    "plt.savefig('TrainTestValidationInteractionDistribution.png', bbox_inches='tight')\n",
    "\n",
    "\n",
    "plt.show()"
   ]
  },
  {
   "cell_type": "markdown",
   "metadata": {},
   "source": [
    "### Sample network"
   ]
  },
  {
   "cell_type": "code",
   "execution_count": 76,
   "metadata": {
    "pycharm": {
     "is_executing": true
    }
   },
   "outputs": [
    {
     "name": "stderr",
     "output_type": "stream",
     "text": [
      "/Users/aeg/venv/PPI-typed-relation-extractor/lib/python3.7/site-packages/matplotlib/font_manager.py:1238: UserWarning: findfont: Font family ['sans-serif'] not found. Falling back to DejaVu Sans.\n",
      "  (prop.get_family(), self.defaultFamily[fontext]))\n"
     ]
    },
    {
     "data": {
      "image/png": "[encoded data removed]",
      "text/plain": [
       "<Figure size 1296x576 with 2 Axes>"
      ]
     },
     "metadata": {},
     "output_type": "display_data"
    }
   ],
   "source": [
    "import networkx as nx\n",
    "import matplotlib.pyplot as plt\n",
    "import random\n",
    "\n",
    "random.seed(a=78, version=2)\n",
    "\n",
    "fig,ax=plt.subplots(1,2, figsize=(18,8))\n",
    "\n",
    "G=nx.Graph()\n",
    "# Add nodes and edges\n",
    "G.add_edges_from(train.query(\" participant2Id =='Q5S007' and participant1Id != participant2Id\")\n",
    "                 .apply(lambda x: ( x[\"participant1Id\"],x[\"participant2Id\"], {\"type\": x['interactionType']}), axis=1))\n",
    "\n",
    "\n",
    "pos = nx.spring_layout(G,  seed=80)\n",
    "\n",
    "nx.draw(G, node_color='lightgrey', pos=pos, node_size=1000, with_labels = True, ax=ax[0])\n",
    "\n",
    "\n",
    "edge_label = nx.get_edge_attributes(G,'type')\n",
    "\n",
    "colors = {i:random.randint(0, 50) for i in train['interactionType'].unique()}\n",
    "edge_colors = [ colors[l]  for _,l in edge_label.items()]\n",
    "\n",
    "cmap=plt.cm.get_cmap(\"rainbow\")\n",
    "vmin = min(edge_colors)\n",
    "vmax = max(edge_colors)\n",
    "\n",
    "nx.draw(G, node_color='lightgrey', pos=pos, node_size=1000, with_labels = True, ax=ax[1])\n",
    "nx.draw_networkx_edges(G, pos,  width=1.0, edge_color=edge_colors, edge_cmap=cmap, edge_vmin=vmin, edge_vmax=vmax)\n",
    "\n",
    "nx.draw_networkx_edge_labels(G, pos=pos,alpha=1, edge_labels = nx.get_edge_attributes(G,'type'), ax=ax[1])\n",
    "\n",
    "plt.savefig('network.pdf', bbox_inches=\"tight\")\n",
    "\n",
    "\n",
    "\n",
    "plt.show()"
   ]
  },
  {
   "cell_type": "markdown",
   "metadata": {},
   "source": [
    "### Generate negative samples"
   ]
  },
  {
   "cell_type": "code",
   "execution_count": 77,
   "metadata": {
    "pycharm": {
     "is_executing": true
    }
   },
   "outputs": [],
   "source": [
    "\n",
    "# def generate_negative_old(data):\n",
    "#     import uuid\n",
    "#     unique_pubmeds = data[\"pubmedId\"].unique()\n",
    "#     data_fake = pd.DataFrame(columns=data.columns)\n",
    "\n",
    "#     num_fake_records = int( .50 * len(data))\n",
    "#     #TODO: Randomise this, biased via\n",
    "#     for u in unique_pubmeds:\n",
    "#         fake_records = pd.DataFrame(data[ data.pubmedId != u]  ).sample(n=1) \n",
    "#         fake_records.loc[:, \"interactionId\"] =  fake_records.interactionId.astype(str) + \"_\" + str(uuid.uuid4() ) + \"_\" + \"fake\"\n",
    "#         fake_records.loc[:,\"isValid\"] = 'False' \n",
    "#         ## Copy of the pubmeid abtract and the title from a id\n",
    "#         fake_records.loc[:,\"pubmedId\"] = u\n",
    "#         fake_records.loc[:, \"pubmedTitle\"] =  data[ data.pubmedId == u].iloc[0][\"pubmedTitle\"]\n",
    "#         fake_records.loc[:, \"pubmedabstract\"] =  data[ data.pubmedId == u].iloc[0][\"pubmedabstract\"]\n",
    "\n",
    "\n",
    "#         data_fake = data_fake.append(fake_records, ignore_index=True)\n",
    "#         if len(data_fake) > num_fake_records:\n",
    "#             break\n",
    "            \n",
    "#     return data_fake\n",
    "  \n",
    "    "
   ]
  },
  {
   "cell_type": "code",
   "execution_count": 78,
   "metadata": {
    "pycharm": {
     "is_executing": true
    }
   },
   "outputs": [],
   "source": [
    "\n",
    "def generate_negative_entity(data, enity_annotations_file):\n",
    "    from dataformatters.gnormplusPubtatorReader import GnormplusPubtatorReader\n",
    "    from datatransformer.gnormplusNegativeSamplesAugmentor import GnormplusNegativeSamplesAugmentor\n",
    "    from datatransformer.ncbiGeneUniprotLocalDbMapper import NcbiGeneUniprotLocalDbMapper\n",
    "\n",
    "    import os\n",
    "    \n",
    " \n",
    "    localdb = human_idmapping_dat\n",
    "    with open(localdb, \"r\") as dbhandle:\n",
    "        mapper = NcbiGeneUniprotLocalDbMapper(dbhandle, \"GeneID\") \n",
    "            \n",
    "        #Read gnormplus identified entities\n",
    "        reader = GnormplusPubtatorReader()\n",
    "        with open(enity_annotations_file,\"r\") as handle:\n",
    "            annotations_json = list(reader(handle))\n",
    "\n",
    "        negative_samples_generator = GnormplusNegativeSamplesAugmentor(annotations_json, mapper)\n",
    "        result = negative_samples_generator.transform(data)\n",
    "        \n",
    "        \n",
    "\n",
    "        return result"
   ]
  },
  {
   "cell_type": "code",
   "execution_count": 79,
   "metadata": {
    "pycharm": {
     "is_executing": true
    }
   },
   "outputs": [],
   "source": [
    "\n",
    "def generate_negative_interaction(data):\n",
    "\n",
    "    from datatransformer.interactionTypeNegativeSamplesAugmentor import InteractionTypeNegativeSamplesAugmentor\n",
    "\n",
    "    import os\n",
    "    \n",
    "    negative_samples_generator = InteractionTypeNegativeSamplesAugmentor()\n",
    "    result = negative_samples_generator.transform(data)\n",
    "\n",
    "\n",
    "    return result"
   ]
  },
  {
   "cell_type": "code",
   "execution_count": 80,
   "metadata": {
    "pycharm": {
     "is_executing": true
    }
   },
   "outputs": [],
   "source": [
    "def generate_negative_missing_participant(data):\n",
    "\n",
    "\n",
    "    import os\n",
    "    \n",
    "    data['isValid'] = data['isValid'].mask( (data['bothParticpantsExist'] == False) & (data['isValid'] == True) , False)\n",
    "\n",
    "\n",
    "    return data"
   ]
  },
  {
   "cell_type": "code",
   "execution_count": 81,
   "metadata": {
    "pycharm": {
     "is_executing": true
    },
    "scrolled": true
   },
   "outputs": [],
   "source": [
    "def plot_negative_distribution(train,val, test, heading, fig, ax  ):\n",
    "    import matplotlib.pyplot as plt\n",
    "    import matplotlib.ticker as mtick\n",
    "    fig.suptitle(heading)\n",
    "    #fig, ax = plt.subplots( 7,1, figsize=(45,30))\n",
    "    c_ax= ax[0]\n",
    "    c_ax.set_facecolor('xkcd:white')\n",
    "    c_ax.yaxis.set_major_formatter(mtick.PercentFormatter())\n",
    "    c_ax.set_title( \"Training PPI {}\".format( train.shape[0]))\n",
    "    c_ax.yaxis.set_major_locator(plt.FixedLocator(range(0,100, 10)))\n",
    "    train.groupby(['interactionType', 'isValid']).size().groupby( level=0).apply(lambda x:\n",
    "                                                     100 * x / float(x.sum())).unstack().plot.bar(ax=c_ax, hatch = '/')\n",
    "\n",
    "\n",
    "\n",
    "    c_ax= ax[1]\n",
    "    c_ax.set_facecolor('xkcd:white')\n",
    "    c_ax.yaxis.set_major_formatter(mtick.PercentFormatter())\n",
    "    c_ax.set_title( \"Validation PPI {}\".format(val.shape[0]))\n",
    "    c_ax.yaxis.set_major_locator(plt.FixedLocator(range(0,100, 10)))\n",
    "    val.groupby(['interactionType', 'isValid']).size().groupby( level=0).apply(lambda x:\n",
    "                                                     100 * x / float(x.sum())).unstack().plot.bar(ax=c_ax, hatch = '/')\n",
    "\n",
    "\n",
    "\n",
    "    c_ax= ax[2]\n",
    "    c_ax.set_facecolor('xkcd:white')\n",
    "    c_ax.yaxis.set_major_formatter(mtick.PercentFormatter())\n",
    "    c_ax.set_title( \"Test PPI {}\".format(test.shape[0]))\n",
    "    c_ax.yaxis.set_major_locator(plt.FixedLocator(range(0,100, 10)))\n",
    "    test.groupby(['interactionType', 'isValid']).size().groupby( level=0).apply(lambda x:\n",
    "                                                     100 * x / float(x.sum())).unstack().plot.bar(ax=c_ax, hatch = '/')\n",
    "\n",
    "\n",
    "\n",
    "   "
   ]
  },
  {
   "cell_type": "markdown",
   "metadata": {},
   "source": [
    "#### Step1: Add negative entity pairs"
   ]
  },
  {
   "cell_type": "code",
   "execution_count": 82,
   "metadata": {
    "pycharm": {
     "is_executing": true
    },
    "scrolled": true
   },
   "outputs": [],
   "source": [
    "\n",
    "train = generate_negative_entity(train, annotations_file)\n",
    "test = generate_negative_entity(test,  annotations_file)\n",
    "val = generate_negative_entity(val, annotations_file)\n",
    "\n"
   ]
  },
  {
   "cell_type": "code",
   "execution_count": 83,
   "metadata": {
    "pycharm": {
     "is_executing": true
    }
   },
   "outputs": [
    {
     "data": {
      "image/png": "[encoded data removed]",
      "text/plain": [
       "<Figure size 1080x360 with 3 Axes>"
      ]
     },
     "metadata": {
      "needs_background": "light"
     },
     "output_type": "display_data"
    }
   ],
   "source": [
    "fig, ax = plt.subplots( 1,3, figsize=(15,5))\n",
    "\n",
    "plt.style.use('grayscale')\n",
    "\n",
    "plot_negative_distribution(train,  val, test, \"Distribution after adding negative entity pairs\",fig, ax)\n",
    "plt.savefig(\"EntityNegativeSample.eps\",bbox_inches = \"tight\")\n",
    "plt.savefig(\"EntityNegativeSample.svg\",bbox_inches = \"tight\")\n",
    "plt.show()"
   ]
  },
  {
   "cell_type": "code",
   "execution_count": 84,
   "metadata": {
    "pycharm": {
     "is_executing": true
    }
   },
   "outputs": [
    {
     "data": {
      "image/png": "[encoded data removed]",
      "text/plain": [
       "<Figure size 1080x1440 with 3 Axes>"
      ]
     },
     "metadata": {},
     "output_type": "display_data"
    }
   ],
   "source": [
    "import matplotlib.pyplot as plt\n",
    "fig, ax = plt.subplots(1,3, figsize=(15,20))\n",
    "\n",
    "ax[0].set_title('Train class distribution: negative entities only')\n",
    "train.isValid.value_counts().plot.pie(autopct='%.2f',  ax=ax[0])\n",
    "\n",
    "ax[1].set_title('Validation class distribution: negative entities only')\n",
    "val.isValid.value_counts().plot.pie(autopct='%.2f',  ax=ax[1])\n",
    "\n",
    "\n",
    "ax[2].set_title('Test class distribution: negative entities only')\n",
    "test.isValid.value_counts().plot.pie(autopct='%.2f',  ax=ax[2])\n",
    "\n",
    "\n",
    "\n",
    "plt.savefig(\"PositiveVsNegative_EntityOnly.png\")"
   ]
  },
  {
   "cell_type": "code",
   "execution_count": 85,
   "metadata": {
    "pycharm": {
     "is_executing": true
    }
   },
   "outputs": [],
   "source": [
    "train_file =\"train_unique_negative_entity_only.json\"\n",
    "train.to_json(train_file)\n",
    "\n",
    "test_file =\"test_unique_negative_entity_only.json\"\n",
    "test.to_json(test_file)\n",
    "\n",
    "val_file = \"val_unique_negative_entity_only.json\"\n",
    "val.to_json(val_file)\n",
    "\n"
   ]
  },
  {
   "cell_type": "code",
   "execution_count": 86,
   "metadata": {
    "pycharm": {
     "is_executing": true
    }
   },
   "outputs": [
    {
     "name": "stdout",
     "output_type": "stream",
     "text": [
      "2021-05-22 13:51:54,712 - helpers.s3_util - INFO - Uploading file train_unique_negative_entity_only.json s3://aegovan-data/processed_dataset/train_unique_negative_entity_only.json\n",
      "2021-05-22 13:52:38,043 - helpers.s3_util - INFO - Uploading file test_unique_negative_entity_only.json s3://aegovan-data/processed_dataset/test_unique_negative_entity_only.json\n",
      "2021-05-22 13:52:52,092 - helpers.s3_util - INFO - Uploading file val_unique_negative_entity_only.json s3://aegovan-data/processed_dataset/val_unique_negative_entity_only.json\n"
     ]
    }
   ],
   "source": [
    "\n",
    "\n",
    "from helpers.s3_util import S3Util\n",
    "\n",
    "S3Util().uploadfile(train_file, \"{}/\".format( s3_results_prefix.rstrip(\"/\")) )\n",
    "S3Util().uploadfile(test_file, \"{}/\".format( s3_results_prefix.rstrip(\"/\")) )\n",
    "S3Util().uploadfile(val_file, \"{}/\".format( s3_results_prefix.rstrip(\"/\")) )"
   ]
  },
  {
   "cell_type": "code",
   "execution_count": 87,
   "metadata": {
    "pycharm": {
     "is_executing": true
    }
   },
   "outputs": [
    {
     "data": {
      "text/html": [
       "<div>\n",
       "<style scoped>\n",
       "    .dataframe tbody tr th:only-of-type {\n",
       "        vertical-align: middle;\n",
       "    }\n",
       "\n",
       "    .dataframe tbody tr th {\n",
       "        vertical-align: top;\n",
       "    }\n",
       "\n",
       "    .dataframe thead th {\n",
       "        text-align: right;\n",
       "    }\n",
       "</style>\n",
       "<table border=\"1\" class=\"dataframe\">\n",
       "  <thead>\n",
       "    <tr style=\"text-align: right;\">\n",
       "      <th>isValid</th>\n",
       "      <th>False</th>\n",
       "      <th>True</th>\n",
       "    </tr>\n",
       "    <tr>\n",
       "      <th>interactionType</th>\n",
       "      <th></th>\n",
       "      <th></th>\n",
       "    </tr>\n",
       "  </thead>\n",
       "  <tbody>\n",
       "    <tr>\n",
       "      <th>acetylation</th>\n",
       "      <td>31</td>\n",
       "      <td>5</td>\n",
       "    </tr>\n",
       "    <tr>\n",
       "      <th>dephosphorylation</th>\n",
       "      <td>167</td>\n",
       "      <td>28</td>\n",
       "    </tr>\n",
       "    <tr>\n",
       "      <th>deubiquitination</th>\n",
       "      <td>4</td>\n",
       "      <td>2</td>\n",
       "    </tr>\n",
       "    <tr>\n",
       "      <th>methylation</th>\n",
       "      <td>22</td>\n",
       "      <td>10</td>\n",
       "    </tr>\n",
       "    <tr>\n",
       "      <th>phosphorylation</th>\n",
       "      <td>862</td>\n",
       "      <td>139</td>\n",
       "    </tr>\n",
       "    <tr>\n",
       "      <th>ubiquitination</th>\n",
       "      <td>30</td>\n",
       "      <td>5</td>\n",
       "    </tr>\n",
       "  </tbody>\n",
       "</table>\n",
       "</div>"
      ],
      "text/plain": [
       "isValid            False  True \n",
       "interactionType                \n",
       "acetylation           31      5\n",
       "dephosphorylation    167     28\n",
       "deubiquitination       4      2\n",
       "methylation           22     10\n",
       "phosphorylation      862    139\n",
       "ubiquitination        30      5"
      ]
     },
     "execution_count": 87,
     "metadata": {},
     "output_type": "execute_result"
    }
   ],
   "source": [
    "train.groupby(['interactionType', 'isValid']).size().unstack()"
   ]
  },
  {
   "cell_type": "code",
   "execution_count": 88,
   "metadata": {
    "pycharm": {
     "is_executing": true
    }
   },
   "outputs": [
    {
     "data": {
      "text/html": [
       "<div>\n",
       "<style scoped>\n",
       "    .dataframe tbody tr th:only-of-type {\n",
       "        vertical-align: middle;\n",
       "    }\n",
       "\n",
       "    .dataframe tbody tr th {\n",
       "        vertical-align: top;\n",
       "    }\n",
       "\n",
       "    .dataframe thead th {\n",
       "        text-align: right;\n",
       "    }\n",
       "</style>\n",
       "<table border=\"1\" class=\"dataframe\">\n",
       "  <thead>\n",
       "    <tr style=\"text-align: right;\">\n",
       "      <th>isValid</th>\n",
       "      <th>False</th>\n",
       "      <th>True</th>\n",
       "    </tr>\n",
       "    <tr>\n",
       "      <th>interactionType</th>\n",
       "      <th></th>\n",
       "      <th></th>\n",
       "    </tr>\n",
       "  </thead>\n",
       "  <tbody>\n",
       "    <tr>\n",
       "      <th>acetylation</th>\n",
       "      <td>2</td>\n",
       "      <td>1</td>\n",
       "    </tr>\n",
       "    <tr>\n",
       "      <th>dephosphorylation</th>\n",
       "      <td>36</td>\n",
       "      <td>10</td>\n",
       "    </tr>\n",
       "    <tr>\n",
       "      <th>methylation</th>\n",
       "      <td>5</td>\n",
       "      <td>1</td>\n",
       "    </tr>\n",
       "    <tr>\n",
       "      <th>phosphorylation</th>\n",
       "      <td>118</td>\n",
       "      <td>21</td>\n",
       "    </tr>\n",
       "    <tr>\n",
       "      <th>ubiquitination</th>\n",
       "      <td>5</td>\n",
       "      <td>1</td>\n",
       "    </tr>\n",
       "  </tbody>\n",
       "</table>\n",
       "</div>"
      ],
      "text/plain": [
       "isValid            False  True \n",
       "interactionType                \n",
       "acetylation            2      1\n",
       "dephosphorylation     36     10\n",
       "methylation            5      1\n",
       "phosphorylation      118     21\n",
       "ubiquitination         5      1"
      ]
     },
     "execution_count": 88,
     "metadata": {},
     "output_type": "execute_result"
    }
   ],
   "source": [
    "val.groupby(['interactionType', 'isValid']).size().unstack()"
   ]
  },
  {
   "cell_type": "code",
   "execution_count": 89,
   "metadata": {
    "pycharm": {
     "is_executing": true
    }
   },
   "outputs": [
    {
     "data": {
      "text/html": [
       "<div>\n",
       "<style scoped>\n",
       "    .dataframe tbody tr th:only-of-type {\n",
       "        vertical-align: middle;\n",
       "    }\n",
       "\n",
       "    .dataframe tbody tr th {\n",
       "        vertical-align: top;\n",
       "    }\n",
       "\n",
       "    .dataframe thead th {\n",
       "        text-align: right;\n",
       "    }\n",
       "</style>\n",
       "<table border=\"1\" class=\"dataframe\">\n",
       "  <thead>\n",
       "    <tr style=\"text-align: right;\">\n",
       "      <th>isValid</th>\n",
       "      <th>False</th>\n",
       "      <th>True</th>\n",
       "    </tr>\n",
       "    <tr>\n",
       "      <th>interactionType</th>\n",
       "      <th></th>\n",
       "      <th></th>\n",
       "    </tr>\n",
       "  </thead>\n",
       "  <tbody>\n",
       "    <tr>\n",
       "      <th>acetylation</th>\n",
       "      <td>9</td>\n",
       "      <td>1</td>\n",
       "    </tr>\n",
       "    <tr>\n",
       "      <th>dephosphorylation</th>\n",
       "      <td>33</td>\n",
       "      <td>6</td>\n",
       "    </tr>\n",
       "    <tr>\n",
       "      <th>methylation</th>\n",
       "      <td>22</td>\n",
       "      <td>4</td>\n",
       "    </tr>\n",
       "    <tr>\n",
       "      <th>phosphorylation</th>\n",
       "      <td>227</td>\n",
       "      <td>44</td>\n",
       "    </tr>\n",
       "    <tr>\n",
       "      <th>ubiquitination</th>\n",
       "      <td>5</td>\n",
       "      <td>1</td>\n",
       "    </tr>\n",
       "  </tbody>\n",
       "</table>\n",
       "</div>"
      ],
      "text/plain": [
       "isValid            False  True \n",
       "interactionType                \n",
       "acetylation            9      1\n",
       "dephosphorylation     33      6\n",
       "methylation           22      4\n",
       "phosphorylation      227     44\n",
       "ubiquitination         5      1"
      ]
     },
     "execution_count": 89,
     "metadata": {},
     "output_type": "execute_result"
    }
   ],
   "source": [
    "test.groupby(['interactionType', 'isValid']).size().unstack()"
   ]
  },
  {
   "cell_type": "code",
   "execution_count": 90,
   "metadata": {
    "pycharm": {
     "is_executing": true
    }
   },
   "outputs": [
    {
     "data": {
      "text/html": [
       "<div>\n",
       "<style scoped>\n",
       "    .dataframe tbody tr th:only-of-type {\n",
       "        vertical-align: middle;\n",
       "    }\n",
       "\n",
       "    .dataframe tbody tr th {\n",
       "        vertical-align: top;\n",
       "    }\n",
       "\n",
       "    .dataframe thead th {\n",
       "        text-align: right;\n",
       "    }\n",
       "</style>\n",
       "<table border=\"1\" class=\"dataframe\">\n",
       "  <thead>\n",
       "    <tr style=\"text-align: right;\">\n",
       "      <th>isValid</th>\n",
       "      <th>False</th>\n",
       "      <th>True</th>\n",
       "    </tr>\n",
       "    <tr>\n",
       "      <th>interactionType</th>\n",
       "      <th></th>\n",
       "      <th></th>\n",
       "    </tr>\n",
       "  </thead>\n",
       "  <tbody>\n",
       "    <tr>\n",
       "      <th>acetylation</th>\n",
       "      <td>31</td>\n",
       "      <td>5</td>\n",
       "    </tr>\n",
       "    <tr>\n",
       "      <th>dephosphorylation</th>\n",
       "      <td>167</td>\n",
       "      <td>28</td>\n",
       "    </tr>\n",
       "    <tr>\n",
       "      <th>deubiquitination</th>\n",
       "      <td>4</td>\n",
       "      <td>2</td>\n",
       "    </tr>\n",
       "    <tr>\n",
       "      <th>methylation</th>\n",
       "      <td>22</td>\n",
       "      <td>10</td>\n",
       "    </tr>\n",
       "    <tr>\n",
       "      <th>phosphorylation</th>\n",
       "      <td>862</td>\n",
       "      <td>139</td>\n",
       "    </tr>\n",
       "    <tr>\n",
       "      <th>ubiquitination</th>\n",
       "      <td>30</td>\n",
       "      <td>5</td>\n",
       "    </tr>\n",
       "  </tbody>\n",
       "</table>\n",
       "</div>"
      ],
      "text/plain": [
       "isValid            False  True \n",
       "interactionType                \n",
       "acetylation           31      5\n",
       "dephosphorylation    167     28\n",
       "deubiquitination       4      2\n",
       "methylation           22     10\n",
       "phosphorylation      862    139\n",
       "ubiquitination        30      5"
      ]
     },
     "execution_count": 90,
     "metadata": {},
     "output_type": "execute_result"
    }
   ],
   "source": [
    "pd.DataFrame(train.groupby(['interactionType', 'isValid']).size().unstack())"
   ]
  },
  {
   "cell_type": "code",
   "execution_count": 91,
   "metadata": {
    "pycharm": {
     "is_executing": true
    }
   },
   "outputs": [
    {
     "name": "stdout",
     "output_type": "stream",
     "text": [
      "\\begin{tabular}{lrrrrrrrr}\n",
      "\\toprule\n",
      "{} &  False\\_train &  True\\_train &  False\\_val &  True\\_val &  False &  True &  TotalFalse &  TotalTrue \\\\\n",
      "interactionType   &              &             &            &           &        &       &             &            \\\\\n",
      "\\midrule\n",
      "acetylation       &           31 &           5 &          2 &         1 &      9 &     1 &          42 &          7 \\\\\n",
      "dephosphorylation &          167 &          28 &         36 &        10 &     33 &     6 &         236 &         44 \\\\\n",
      "deubiquitination  &            4 &           2 &          0 &         0 &      0 &     0 &           4 &          2 \\\\\n",
      "methylation       &           22 &          10 &          5 &         1 &     22 &     4 &          49 &         15 \\\\\n",
      "phosphorylation   &          862 &         139 &        118 &        21 &    227 &    44 &        1207 &        204 \\\\\n",
      "ubiquitination    &           30 &           5 &          5 &         1 &      5 &     1 &          40 &          7 \\\\\n",
      "Total             &         1116 &         189 &        166 &        34 &    296 &    56 &        1578 &        279 \\\\\n",
      "\\bottomrule\n",
      "\\end{tabular}\n",
      "\n"
     ]
    }
   ],
   "source": [
    "t = pd.DataFrame(train.groupby(['interactionType', 'isValid']).size().unstack())\n",
    "t.columns =[\"False\", \"True\"]\n",
    "\n",
    "v = pd.DataFrame(val.groupby(['interactionType', 'isValid']).size().unstack())\n",
    "v.columns = [\"False\", \"True\"]\n",
    "\n",
    "b = pd.DataFrame(test.groupby(['interactionType', 'isValid']).size().unstack())\n",
    "b.columns = [\"False\", \"True\"]\n",
    "\n",
    "m = t.merge(v, left_index = True, right_index=True, how=\"left\", suffixes=('_train', '_val'))\\\n",
    "       .merge(b, left_index = True, right_index=True, how=\"left\")\\\n",
    "\n",
    "m=m.fillna(0)\n",
    "\n",
    "m.loc[\"Total\"] = m.apply(lambda x: sum(x))\n",
    "\n",
    "m[\"TotalFalse\"] =  m.apply(lambda x: sum( [ v for k,v in x.items() if 'false' in k.lower()]), axis=1)\n",
    "m[\"TotalTrue\"] =  m.apply(lambda x: sum( [ v for k,v in x.items() if 'true' in k.lower()]), axis=1)\n",
    "\n",
    "\n",
    "\n",
    "print(m.astype('int32').to_latex())\n",
    "    "
   ]
  },
  {
   "cell_type": "code",
   "execution_count": 92,
   "metadata": {
    "pycharm": {
     "is_executing": true
    }
   },
   "outputs": [],
   "source": [
    "feature_cols = [\"pubmedId\",\"pubmedabstract\",\"annotations\", \"num_unique_gene_normalised_id\", \"num_gene_normalised_id\", \"normalised_abstract\",\"normalised_abstract_annotations\", \"participant1Id\", \"participant2Id\", \"gene_to_uniprot_map\", \"participant1Name\", \"participant2Name\"]\n",
    "\n",
    "derive_class_func = lambda r: r[\"interactionType\"] if r[\"isValid\"] else \"other\"\n"
   ]
  },
  {
   "cell_type": "code",
   "execution_count": 93,
   "metadata": {
    "pycharm": {
     "is_executing": true
    }
   },
   "outputs": [
    {
     "name": "stderr",
     "output_type": "stream",
     "text": [
      "/Users/aeg/venv/PPI-typed-relation-extractor/lib/python3.7/site-packages/ipykernel_launcher.py:2: SettingWithCopyWarning: \n",
      "A value is trying to be set on a copy of a slice from a DataFrame.\n",
      "Try using .loc[row_indexer,col_indexer] = value instead\n",
      "\n",
      "See the caveats in the documentation: https://pandas.pydata.org/pandas-docs/stable/user_guide/indexing.html#returning-a-view-versus-a-copy\n",
      "  \n",
      "/Users/aeg/venv/PPI-typed-relation-extractor/lib/python3.7/site-packages/ipykernel_launcher.py:5: SettingWithCopyWarning: \n",
      "A value is trying to be set on a copy of a slice from a DataFrame.\n",
      "Try using .loc[row_indexer,col_indexer] = value instead\n",
      "\n",
      "See the caveats in the documentation: https://pandas.pydata.org/pandas-docs/stable/user_guide/indexing.html#returning-a-view-versus-a-copy\n",
      "  \"\"\"\n",
      "/Users/aeg/venv/PPI-typed-relation-extractor/lib/python3.7/site-packages/ipykernel_launcher.py:8: SettingWithCopyWarning: \n",
      "A value is trying to be set on a copy of a slice from a DataFrame.\n",
      "Try using .loc[row_indexer,col_indexer] = value instead\n",
      "\n",
      "See the caveats in the documentation: https://pandas.pydata.org/pandas-docs/stable/user_guide/indexing.html#returning-a-view-versus-a-copy\n",
      "  \n"
     ]
    }
   ],
   "source": [
    "\n",
    "train_multiclass = train[ feature_cols]\n",
    "train_multiclass[\"class\"] = train.apply( derive_class_func, axis=1)\n",
    "\n",
    "test_multiclass =  test[ feature_cols]\n",
    "test_multiclass[\"class\"] = test.apply( derive_class_func, axis=1)\n",
    "\n",
    "val_multiclass =  val[ feature_cols]\n",
    "val_multiclass[\"class\"] = val.apply( derive_class_func, axis=1)"
   ]
  },
  {
   "cell_type": "code",
   "execution_count": 94,
   "metadata": {
    "pycharm": {
     "is_executing": true
    }
   },
   "outputs": [
    {
     "data": {
      "text/plain": [
       "other                1116\n",
       "phosphorylation       139\n",
       "dephosphorylation      28\n",
       "methylation            10\n",
       "acetylation             5\n",
       "ubiquitination          5\n",
       "deubiquitination        2\n",
       "Name: class, dtype: int64"
      ]
     },
     "execution_count": 94,
     "metadata": {},
     "output_type": "execute_result"
    }
   ],
   "source": [
    "train_multiclass[\"class\"].value_counts()"
   ]
  },
  {
   "cell_type": "code",
   "execution_count": 95,
   "metadata": {
    "pycharm": {
     "is_executing": true
    }
   },
   "outputs": [
    {
     "data": {
      "text/plain": [
       "other                296\n",
       "phosphorylation       44\n",
       "dephosphorylation      6\n",
       "methylation            4\n",
       "acetylation            1\n",
       "ubiquitination         1\n",
       "Name: class, dtype: int64"
      ]
     },
     "execution_count": 95,
     "metadata": {},
     "output_type": "execute_result"
    }
   ],
   "source": [
    "test_multiclass[\"class\"].value_counts()"
   ]
  },
  {
   "cell_type": "code",
   "execution_count": 96,
   "metadata": {
    "pycharm": {
     "is_executing": true
    }
   },
   "outputs": [
    {
     "data": {
      "text/plain": [
       "other                166\n",
       "phosphorylation       21\n",
       "dephosphorylation     10\n",
       "acetylation            1\n",
       "ubiquitination         1\n",
       "methylation            1\n",
       "Name: class, dtype: int64"
      ]
     },
     "execution_count": 96,
     "metadata": {},
     "output_type": "execute_result"
    }
   ],
   "source": [
    "val_multiclass[\"class\"].value_counts()"
   ]
  },
  {
   "cell_type": "code",
   "execution_count": 97,
   "metadata": {
    "pycharm": {
     "is_executing": true
    }
   },
   "outputs": [],
   "source": [
    "train_multi_file=\"train_multiclass.json\"\n",
    "train_multiclass.to_json(train_multi_file)\n",
    "\n",
    "test_multi_file=\"test_multiclass.json\"\n",
    "test_multiclass.to_json(test_multi_file)\n",
    "\n",
    "val_multi_file=\"val_multiclass.json\"\n",
    "val_multiclass.to_json(val_multi_file)"
   ]
  },
  {
   "cell_type": "code",
   "execution_count": 98,
   "metadata": {
    "pycharm": {
     "is_executing": true
    }
   },
   "outputs": [
    {
     "data": {
      "text/html": [
       "<div>\n",
       "<style scoped>\n",
       "    .dataframe tbody tr th:only-of-type {\n",
       "        vertical-align: middle;\n",
       "    }\n",
       "\n",
       "    .dataframe tbody tr th {\n",
       "        vertical-align: top;\n",
       "    }\n",
       "\n",
       "    .dataframe thead th {\n",
       "        text-align: right;\n",
       "    }\n",
       "</style>\n",
       "<table border=\"1\" class=\"dataframe\">\n",
       "  <thead>\n",
       "    <tr style=\"text-align: right;\">\n",
       "      <th></th>\n",
       "      <th>pubmedId</th>\n",
       "      <th>pubmedabstract</th>\n",
       "      <th>annotations</th>\n",
       "      <th>num_unique_gene_normalised_id</th>\n",
       "      <th>num_gene_normalised_id</th>\n",
       "      <th>normalised_abstract</th>\n",
       "      <th>normalised_abstract_annotations</th>\n",
       "      <th>participant1Id</th>\n",
       "      <th>participant2Id</th>\n",
       "      <th>gene_to_uniprot_map</th>\n",
       "      <th>participant1Name</th>\n",
       "      <th>participant2Name</th>\n",
       "      <th>class</th>\n",
       "    </tr>\n",
       "  </thead>\n",
       "  <tbody>\n",
       "    <tr>\n",
       "      <th>0</th>\n",
       "      <td>17141222</td>\n",
       "      <td>Regulation of growth factor dependent cell survival is crucial for development and disease progression. Here, we report a novel function of Src kinases as a negative regulator of platelet-derived growth factor (PDGF) dependent cell survival. We characterized a series of PDGF alpha receptor (PDGFRA) mutants, which lack the binding sites for Src, phosphatidylinositol 3'-kinase (PI3K), SHP-2 or phospholipase C-gamma. We found that PDGFRA-dependent cell survival was mainly mediated through activation of PI3K, and was negatively regulated by Src. Characterization of the downstream signaling events revealed that PI3K activates the protein kinase Akt, which in turn phosphorylates and thus inactivates proapoptotic Forkhead transcription factors. Src phosphorylates the ubiquitin-ligase c-Cbl, which is required for degradation of the activated receptor. Consequently, overexpression of c-Cbl prevented PDGFRA-mediated cell survival, whereas it did not affect this response, when Src was unable to associate with the receptor. This novel function of Src in antiapoptotic signaling introduces Src kinases as an interesting therapeutic target in apoptosis related diseases.</td>\n",
       "      <td>[{'start': '140', 'end': '143', 'name': 'Src', 'type': 'Gene', 'normalised_id': '6714'}, {'start': '292', 'end': '298', 'name': 'PDGFRA', 'type': 'Gene', 'normalised_id': '5156'}, {'start': '342', 'end': '345', 'name': 'Src', 'type': 'Gene', 'normalised_id': '6714'}, {'start': '347', 'end': '377', 'name': 'phosphatidylinositol 3'-kinase', 'type': 'Gene', 'normalised_id': '5294'}, {'start': '379', 'end': '383', 'name': 'PI3K', 'type': 'Gene', 'normalised_id': '5294'}, {'start': '386', 'end': '391', 'name': 'SHP-2', 'type': 'Gene', 'normalised_id': '5781'}, {'start': '432', 'end': '438', 'name': 'PDGFRA', 'type': 'Gene', 'normalised_id': '5156'}, {'start': '505', 'end': '509', 'name': 'PI3K', 'type': 'Gene', 'normalised_id': '5294'}, {'start': '543', 'end': '546', 'name': 'Src', 'type': 'Gene', 'normalised_id': '6714'}, {'start': '614', 'end': '618', 'name': 'PI3K', 'type': 'Gene', 'normalised_id': '5294'}, {'start': '748', 'end': '751', 'name': 'Src', 'type': 'Gene', 'normalised_id': '6714'}, {'start': '788', 'end': '793', 'name': 'c-Cbl', 'type': 'Gene', 'normalised_id': '867'}, {'start': '888', 'end': '893', 'name': 'c-Cbl', 'type': 'Gene', 'normalised_id': '867'}, {'start': '904', 'end': '910', 'name': 'PDGFRA', 'type': 'Gene', 'normalised_id': '5156'}, {'start': '981', 'end': '984', 'name': 'Src', 'type': 'Gene', 'normalised_id': '6714'}, {'start': '1051', 'end': '1054', 'name': 'Src', 'type': 'Gene', 'normalised_id': '6714'}, {'start': '1093', 'end': '1096', 'name': 'Src', 'type': 'Gene', 'normalised_id': '6714'}]</td>\n",
       "      <td>5</td>\n",
       "      <td>17</td>\n",
       "      <td>Regulation of growth factor dependent cell survival is crucial for development and disease progression. Here, we report a novel function of P12931 kinases as a negative regulator of platelet-derived growth factor (PDGF) dependent cell survival. We characterized a series of PDGF alpha receptor (P16234) mutants, which lack the binding sites for P12931, P48736 (P48736), Q06124 or phospholipase C-gamma. We found that P16234-dependent cell survival was mainly mediated through activation of P48736, and was negatively regulated by P12931. Characterization of the downstream signaling events revealed that P48736 activates the protein kinase Akt, which in turn phosphorylates and thus inactivates proapoptotic Forkhead transcription factors. P12931 phosphorylates the ubiquitin-ligase P22681, which is required for degradation of the activated receptor. Consequently, overexpression of P22681 prevented P16234-mediated cell survival, whereas it did not affect this response, when P12931 was unable to associate with the receptor. This novel function of P12931 in antiapoptotic signaling introduces P12931 kinases as an interesting therapeutic target in apoptosis related diseases.</td>\n",
       "      <td>[{'charOffset': 140, 'len': 6, 'text': 'P12931'}, {'charOffset': 295, 'len': 6, 'text': 'P16234'}, {'charOffset': 345, 'len': 6, 'text': 'P12931'}, {'charOffset': 353, 'len': 6, 'text': 'P48736'}, {'charOffset': 361, 'len': 6, 'text': 'P48736'}, {'charOffset': 370, 'len': 6, 'text': 'Q06124'}, {'charOffset': 417, 'len': 6, 'text': 'P16234'}, {'charOffset': 490, 'len': 6, 'text': 'P48736'}, {'charOffset': 530, 'len': 6, 'text': 'P12931'}, {'charOffset': 604, 'len': 6, 'text': 'P48736'}, {'charOffset': 740, 'len': 6, 'text': 'P12931'}, {'charOffset': 783, 'len': 6, 'text': 'P22681'}, {'charOffset': 884, 'len': 6, 'text': 'P22681'}, {'charOffset': 901, 'len': 6, 'text': 'P16234'}, {'charOffset': 978, 'len': 6, 'text': 'P12931'}, {'charOffset': 1051, 'len': 6, 'text': 'P12931'}, {'charOffset': 1096, 'len': 6, 'text': 'P12931'}]</td>\n",
       "      <td>P22681</td>\n",
       "      <td>P12931</td>\n",
       "      <td>{'5781': ['Q06124'], '6714': ['P12931'], '5294': ['P48736', 'A0A024R720', 'A8K9G9'], '5156': ['P16234'], '867': ['P22681']}</td>\n",
       "      <td>c-Cbl</td>\n",
       "      <td>Src</td>\n",
       "      <td>phosphorylation</td>\n",
       "    </tr>\n",
       "  </tbody>\n",
       "</table>\n",
       "</div>"
      ],
      "text/plain": [
       "   pubmedId  \\\n",
       "0  17141222   \n",
       "\n",
       "                                                                                                                                                                                                                                                                                                                                                                                                                                                                                                                                                                                                                                                                                                                                                                                                                                                                                                                                                                                                                                                                                                                                                                                                         pubmedabstract  \\\n",
       "0  Regulation of growth factor dependent cell survival is crucial for development and disease progression. Here, we report a novel function of Src kinases as a negative regulator of platelet-derived growth factor (PDGF) dependent cell survival. We characterized a series of PDGF alpha receptor (PDGFRA) mutants, which lack the binding sites for Src, phosphatidylinositol 3'-kinase (PI3K), SHP-2 or phospholipase C-gamma. We found that PDGFRA-dependent cell survival was mainly mediated through activation of PI3K, and was negatively regulated by Src. Characterization of the downstream signaling events revealed that PI3K activates the protein kinase Akt, which in turn phosphorylates and thus inactivates proapoptotic Forkhead transcription factors. Src phosphorylates the ubiquitin-ligase c-Cbl, which is required for degradation of the activated receptor. Consequently, overexpression of c-Cbl prevented PDGFRA-mediated cell survival, whereas it did not affect this response, when Src was unable to associate with the receptor. This novel function of Src in antiapoptotic signaling introduces Src kinases as an interesting therapeutic target in apoptosis related diseases.   \n",
       "\n",
       "                                                                                                                                                                                                                                                                                                                                                                                                                                                                                                                                                                                                                                                                                                                                                                                                                                                                                                                                                                                                                                                                                                                                                                                                                                                                                                                                                                                                                                                                                                                                                                                               annotations  \\\n",
       "0  [{'start': '140', 'end': '143', 'name': 'Src', 'type': 'Gene', 'normalised_id': '6714'}, {'start': '292', 'end': '298', 'name': 'PDGFRA', 'type': 'Gene', 'normalised_id': '5156'}, {'start': '342', 'end': '345', 'name': 'Src', 'type': 'Gene', 'normalised_id': '6714'}, {'start': '347', 'end': '377', 'name': 'phosphatidylinositol 3'-kinase', 'type': 'Gene', 'normalised_id': '5294'}, {'start': '379', 'end': '383', 'name': 'PI3K', 'type': 'Gene', 'normalised_id': '5294'}, {'start': '386', 'end': '391', 'name': 'SHP-2', 'type': 'Gene', 'normalised_id': '5781'}, {'start': '432', 'end': '438', 'name': 'PDGFRA', 'type': 'Gene', 'normalised_id': '5156'}, {'start': '505', 'end': '509', 'name': 'PI3K', 'type': 'Gene', 'normalised_id': '5294'}, {'start': '543', 'end': '546', 'name': 'Src', 'type': 'Gene', 'normalised_id': '6714'}, {'start': '614', 'end': '618', 'name': 'PI3K', 'type': 'Gene', 'normalised_id': '5294'}, {'start': '748', 'end': '751', 'name': 'Src', 'type': 'Gene', 'normalised_id': '6714'}, {'start': '788', 'end': '793', 'name': 'c-Cbl', 'type': 'Gene', 'normalised_id': '867'}, {'start': '888', 'end': '893', 'name': 'c-Cbl', 'type': 'Gene', 'normalised_id': '867'}, {'start': '904', 'end': '910', 'name': 'PDGFRA', 'type': 'Gene', 'normalised_id': '5156'}, {'start': '981', 'end': '984', 'name': 'Src', 'type': 'Gene', 'normalised_id': '6714'}, {'start': '1051', 'end': '1054', 'name': 'Src', 'type': 'Gene', 'normalised_id': '6714'}, {'start': '1093', 'end': '1096', 'name': 'Src', 'type': 'Gene', 'normalised_id': '6714'}]   \n",
       "\n",
       "   num_unique_gene_normalised_id  num_gene_normalised_id  \\\n",
       "0                              5                      17   \n",
       "\n",
       "                                                                                                                                                                                                                                                                                                                                                                                                                                                                                                                                                                                                                                                                                                                                                                                                                                                                                                                                                                                                                                                                                                                                                                                                          normalised_abstract  \\\n",
       "0  Regulation of growth factor dependent cell survival is crucial for development and disease progression. Here, we report a novel function of P12931 kinases as a negative regulator of platelet-derived growth factor (PDGF) dependent cell survival. We characterized a series of PDGF alpha receptor (P16234) mutants, which lack the binding sites for P12931, P48736 (P48736), Q06124 or phospholipase C-gamma. We found that P16234-dependent cell survival was mainly mediated through activation of P48736, and was negatively regulated by P12931. Characterization of the downstream signaling events revealed that P48736 activates the protein kinase Akt, which in turn phosphorylates and thus inactivates proapoptotic Forkhead transcription factors. P12931 phosphorylates the ubiquitin-ligase P22681, which is required for degradation of the activated receptor. Consequently, overexpression of P22681 prevented P16234-mediated cell survival, whereas it did not affect this response, when P12931 was unable to associate with the receptor. This novel function of P12931 in antiapoptotic signaling introduces P12931 kinases as an interesting therapeutic target in apoptosis related diseases.   \n",
       "\n",
       "                                                                                                                                                                                                                                                                                                                                                                                                                                                                                                                                                                                                                                                                                                                                                                                                                                       normalised_abstract_annotations  \\\n",
       "0  [{'charOffset': 140, 'len': 6, 'text': 'P12931'}, {'charOffset': 295, 'len': 6, 'text': 'P16234'}, {'charOffset': 345, 'len': 6, 'text': 'P12931'}, {'charOffset': 353, 'len': 6, 'text': 'P48736'}, {'charOffset': 361, 'len': 6, 'text': 'P48736'}, {'charOffset': 370, 'len': 6, 'text': 'Q06124'}, {'charOffset': 417, 'len': 6, 'text': 'P16234'}, {'charOffset': 490, 'len': 6, 'text': 'P48736'}, {'charOffset': 530, 'len': 6, 'text': 'P12931'}, {'charOffset': 604, 'len': 6, 'text': 'P48736'}, {'charOffset': 740, 'len': 6, 'text': 'P12931'}, {'charOffset': 783, 'len': 6, 'text': 'P22681'}, {'charOffset': 884, 'len': 6, 'text': 'P22681'}, {'charOffset': 901, 'len': 6, 'text': 'P16234'}, {'charOffset': 978, 'len': 6, 'text': 'P12931'}, {'charOffset': 1051, 'len': 6, 'text': 'P12931'}, {'charOffset': 1096, 'len': 6, 'text': 'P12931'}]   \n",
       "\n",
       "  participant1Id participant2Id  \\\n",
       "0         P22681         P12931   \n",
       "\n",
       "                                                                                                           gene_to_uniprot_map  \\\n",
       "0  {'5781': ['Q06124'], '6714': ['P12931'], '5294': ['P48736', 'A0A024R720', 'A8K9G9'], '5156': ['P16234'], '867': ['P22681']}   \n",
       "\n",
       "  participant1Name participant2Name            class  \n",
       "0            c-Cbl              Src  phosphorylation  "
      ]
     },
     "execution_count": 98,
     "metadata": {},
     "output_type": "execute_result"
    }
   ],
   "source": [
    "val_multiclass.head(n=1)"
   ]
  },
  {
   "cell_type": "code",
   "execution_count": 99,
   "metadata": {},
   "outputs": [
    {
     "data": {
      "text/html": [
       "<div>\n",
       "<style scoped>\n",
       "    .dataframe tbody tr th:only-of-type {\n",
       "        vertical-align: middle;\n",
       "    }\n",
       "\n",
       "    .dataframe tbody tr th {\n",
       "        vertical-align: top;\n",
       "    }\n",
       "\n",
       "    .dataframe thead th {\n",
       "        text-align: right;\n",
       "    }\n",
       "</style>\n",
       "<table border=\"1\" class=\"dataframe\">\n",
       "  <thead>\n",
       "    <tr style=\"text-align: right;\">\n",
       "      <th></th>\n",
       "      <th>pubmedId</th>\n",
       "      <th>pubmedabstract</th>\n",
       "      <th>annotations</th>\n",
       "      <th>num_unique_gene_normalised_id</th>\n",
       "      <th>num_gene_normalised_id</th>\n",
       "      <th>normalised_abstract</th>\n",
       "      <th>normalised_abstract_annotations</th>\n",
       "      <th>participant1Id</th>\n",
       "      <th>participant2Id</th>\n",
       "      <th>gene_to_uniprot_map</th>\n",
       "      <th>participant1Name</th>\n",
       "      <th>participant2Name</th>\n",
       "      <th>class</th>\n",
       "    </tr>\n",
       "  </thead>\n",
       "  <tbody>\n",
       "    <tr>\n",
       "      <th>165</th>\n",
       "      <td>15733869</td>\n",
       "      <td>To maintain homeostasis, cells often respond to stressful extra-cellular stimuli by new gene expression. Serum/glucocorticoid-induced kinase (SGK) is an immediate early gene whose expression is induced by a variety of extra-cellular stimuli. Here, we examine the possibility that SGK can directly phosphorylate the transcription factor cyclic AMP response element binding protein (CREB). In a cell-free context, SGK physically associates with CREB and SGK phosphorylates it on serine 133. Phospho-serine 133 is essential for stimulating the transcriptional activity of CREB. Further, we show that in a variety of cellular contexts, SGK phosphorylates CREB. Activation of receptor tyrosine kinase pathways or the phosphoinositide-dependent kinase 1 (PDK1) lead to SGK-dependent CREB phosphorylation. Hormonal stimulation of epithelial cells leads to the induction of endogenous SGK and CREB phosphorylation. A dominant-negative form of SGK blocks dexamethasone-induced CREB phosphorylation. Our studies indicate that stimulation of SGK can lead to CREB phosphorylation, suggesting that CREB-dependent gene transcription is an important link between stressful extra-cellular signals and cellular responses.</td>\n",
       "      <td>[{'start': '105', 'end': '140', 'name': 'Serum/glucocorticoid-induced kinase', 'type': 'Gene', 'normalised_id': '6446'}, {'start': '142', 'end': '145', 'name': 'SGK', 'type': 'Gene', 'normalised_id': '6446'}, {'start': '280', 'end': '283', 'name': 'SGK', 'type': 'Gene', 'normalised_id': '6446'}, {'start': '336', 'end': '379', 'name': 'cyclic AMP response element binding protein', 'type': 'Gene', 'normalised_id': '1385'}, {'start': '381', 'end': '385', 'name': 'CREB', 'type': 'Gene', 'normalised_id': '1385'}, {'start': '412', 'end': '415', 'name': 'SGK', 'type': 'Gene', 'normalised_id': '6446'}, {'start': '443', 'end': '447', 'name': 'CREB', 'type': 'Gene', 'normalised_id': '1385'}, {'start': '452', 'end': '455', 'name': 'SGK', 'type': 'Gene', 'normalised_id': '6446'}, {'start': '569', 'end': '573', 'name': 'CREB', 'type': 'Gene', 'normalised_id': '1385'}, {'start': '632', 'end': '635', 'name': 'SGK', 'type': 'Gene', 'normalised_id': '6446'}, {'start': '651', 'end': '655', 'name': 'CREB', 'type': 'Gene', 'normalised_id': '1385'}, {'start': '712', 'end': '747', 'name': 'phosphoinositide-dependent kinase 1', 'type': 'Gene', 'normalised_id': '5163'}, {'start': '749', 'end': '753', 'name': 'PDK1', 'type': 'Gene', 'normalised_id': '5163'}, {'start': '763', 'end': '766', 'name': 'SGK', 'type': 'Gene', 'normalised_id': '6446'}, {'start': '777', 'end': '781', 'name': 'CREB', 'type': 'Gene', 'normalised_id': '1385'}, {'start': '877', 'end': '880', 'name': 'SGK', 'type': 'Gene', 'normalised_id': '6446'}, {'start': '885', 'end': '889', 'name': 'CREB', 'type': 'Gene', 'normalised_id': '1385'}, {'start': '935', 'end': '938', 'name': 'SGK', 'type': 'Gene', 'normalised_id': '6446'}, {'start': '968', 'end': '972', 'name': 'CREB', 'type': 'Gene', 'normalised_id': '1385'}, {'start': '1031', 'end': '1034', 'name': 'SGK', 'type': 'Gene', 'normalised_id': '6446'}, {'start': '1047', 'end': '1051', 'name': 'CREB', 'type': 'Gene', 'normalised_id': '1385'}, {'start': '1085', 'end': '1089', 'name': 'CREB', 'type': 'Gene', 'normalised_id': '1385'}]</td>\n",
       "      <td>3</td>\n",
       "      <td>22</td>\n",
       "      <td>To maintain homeostasis, cells often respond to stressful extra-cellular stimuli by new gene expression. O00141 (O00141) is an immediate early gene whose expression is induced by a variety of extra-cellular stimuli. Here, we examine the possibility that O00141 can directly phosphorylate the transcription factor P16220 (P16220). In a cell-free context, O00141 physically associates with P16220 and O00141 phosphorylates it on serine 133. Phospho-serine 133 is essential for stimulating the transcriptional activity of P16220. Further, we show that in a variety of cellular contexts, O00141 phosphorylates P16220. Activation of receptor tyrosine kinase pathways or the Q15118 (Q15118) lead to O00141-dependent P16220 phosphorylation. Hormonal stimulation of epithelial cells leads to the induction of endogenous O00141 and P16220 phosphorylation. A dominant-negative form of O00141 blocks dexamethasone-induced P16220 phosphorylation. Our studies indicate that stimulation of O00141 can lead to P16220 phosphorylation, suggesting that P16220-dependent gene transcription is an important link between stressful extra-cellular signals and cellular responses.</td>\n",
       "      <td>[{'charOffset': 105, 'len': 6, 'text': 'O00141'}, {'charOffset': 113, 'len': 6, 'text': 'O00141'}, {'charOffset': 254, 'len': 6, 'text': 'O00141'}, {'charOffset': 313, 'len': 6, 'text': 'P16220'}, {'charOffset': 321, 'len': 6, 'text': 'P16220'}, {'charOffset': 354, 'len': 6, 'text': 'O00141'}, {'charOffset': 388, 'len': 6, 'text': 'P16220'}, {'charOffset': 399, 'len': 6, 'text': 'O00141'}, {'charOffset': 519, 'len': 6, 'text': 'P16220'}, {'charOffset': 584, 'len': 6, 'text': 'O00141'}, {'charOffset': 606, 'len': 6, 'text': 'P16220'}, {'charOffset': 669, 'len': 6, 'text': 'Q15118'}, {'charOffset': 677, 'len': 6, 'text': 'Q15118'}, {'charOffset': 693, 'len': 6, 'text': 'O00141'}, {'charOffset': 710, 'len': 6, 'text': 'P16220'}, {'charOffset': 812, 'len': 6, 'text': 'O00141'}, {'charOffset': 823, 'len': 6, 'text': 'P16220'}, {'charOffset': 875, 'len': 6, 'text': 'O00141'}, {'charOffset': 911, 'len': 6, 'text': 'P16220'}, {'charOffset': 976, 'len': 6, 'text': 'O00141'}, {'charOffset': 995, 'len': 6, 'text': 'P16220'}, {'charOffset': 1035, 'len': 6, 'text': 'P16220'}]</td>\n",
       "      <td>O00141</td>\n",
       "      <td>Q15118</td>\n",
       "      <td>{'5163': ['Q15118', 'B7Z7N6'], '6446': ['O00141', 'B7Z325', 'E9PR89'], '1385': ['P16220', 'Q5U0J5', 'Q53X93', 'B7Z5C6']}</td>\n",
       "      <td>SGK</td>\n",
       "      <td>PDK1</td>\n",
       "      <td>other</td>\n",
       "    </tr>\n",
       "    <tr>\n",
       "      <th>175</th>\n",
       "      <td>12907755</td>\n",
       "      <td>Protein tyrosine phosphatases (PTPs) play key roles in switching off tyrosine phosphorylation cascades, such as initiated by cytokine receptors. We have used substrate-trapping mutants of a large set of PTPs to identify members of the PTP family that have substrate specificity for the phosphorylated human GH receptor (GHR) intracellular domain. Among 31 PTPs tested, T cell (TC)-PTP, PTP-beta, PTP1B, stomach cancer-associated PTP 1 (SAP-1), Pyst-2, Meg-2, and PTP-H1 showed specificity for phosphorylated GHR that had been produced by coexpression with a kinase in bacteria. We then used GH-induced, phosphorylated GH receptor, purified from overexpressing mammalian cells, in a Far Western-based approach to test whether these seven PTPs were also capable of recognizing ligand-induced, physiologically phosphorylated GHR. In this assay, only TC-PTP, PTP1B, PTP-H1, and SAP-1 interacted with the mature form of the phosphorylated GHR. In parallel, we show that these PTPs recognize very different subsets of the seven GHR tyrosines that are potentially phosphorylated. Finally, mRNA tissue distribution of these PTPs by RT-PCR analysis and coexpression of the wild-type PTPs to test their ability to dephosphorylate ligand-activated GHR suggest PTP-H1 and PTP1B as potential candidates involved in GHR signaling.</td>\n",
       "      <td>[{'start': '301', 'end': '306', 'name': 'human', 'type': 'Species', 'normalised_id': '9606'}, {'start': '307', 'end': '318', 'name': 'GH receptor', 'type': 'Gene', 'normalised_id': '2690'}, {'start': '320', 'end': '323', 'name': 'GHR', 'type': 'Gene', 'normalised_id': '2690'}, {'start': '369', 'end': '384', 'name': 'T cell (TC)-PTP', 'type': 'Gene', 'normalised_id': '5771'}, {'start': '386', 'end': '394', 'name': 'PTP-beta', 'type': 'Gene', 'normalised_id': '5787'}, {'start': '396', 'end': '401', 'name': 'PTP1B', 'type': 'Gene', 'normalised_id': '5770'}, {'start': '403', 'end': '434', 'name': 'stomach cancer-associated PTP 1', 'type': 'Gene', 'normalised_id': '5794'}, {'start': '436', 'end': '441', 'name': 'SAP-1', 'type': 'Gene', 'normalised_id': '5794'}, {'start': '444', 'end': '450', 'name': 'Pyst-2', 'type': 'Gene', 'normalised_id': '1849'}, {'start': '452', 'end': '457', 'name': 'Meg-2', 'type': 'Gene', 'normalised_id': '5780'}, {'start': '463', 'end': '469', 'name': 'PTP-H1', 'type': 'Gene', 'normalised_id': '5774'}, {'start': '508', 'end': '511', 'name': 'GHR', 'type': 'Gene', 'normalised_id': '2690'}, {'start': '618', 'end': '629', 'name': 'GH receptor', 'type': 'Gene', 'normalised_id': '2690'}, {'start': '660', 'end': '669', 'name': 'mammalian', 'type': 'Species', 'normalised_id': '9606'}, {'start': '822', 'end': '825', 'name': 'GHR', 'type': 'Gene', 'normalised_id': '2690'}, {'start': '847', 'end': '853', 'name': 'TC-PTP', 'type': 'Gene', 'normalised_id': '5771'}, {'start': '855', 'end': '860', 'name': 'PTP1B', 'type': 'Gene', 'normalised_id': '5770'}, {'start': '862', 'end': '868', 'name': 'PTP-H1', 'type': 'Gene', 'normalised_id': '5774'}, {'start': '874', 'end': '879', 'name': 'SAP-1', 'type': 'Gene', 'normalised_id': '5794'}, {'start': '934', 'end': '937', 'name': 'GHR', 'type': 'Gene', 'normalised_id': '2690'}, {'start': '1022', 'end': '1025', 'name': 'GHR', 'type': 'Gene', 'normalised_id': '2690'}, {'start': '1237', 'end': '1240', 'name': 'GHR', 'type': 'Gene', 'normalised_id': '2690'}, {'start': '1249', 'end': '1255', 'name': 'PTP-H1', 'type': 'Gene', 'normalised_id': '5774'}, {'start': '1260', 'end': '1265', 'name': 'PTP1B', 'type': 'Gene', 'normalised_id': '5770'}, {'start': '1302', 'end': '1305', 'name': 'GHR', 'type': 'Gene', 'normalised_id': '2690'}]</td>\n",
       "      <td>8</td>\n",
       "      <td>23</td>\n",
       "      <td>Protein tyrosine phosphatases (PTPs) play key roles in switching off tyrosine phosphorylation cascades, such as initiated by cytokine receptors. We have used substrate-trapping mutants of a large set of PTPs to identify members of the PTP family that have substrate specificity for the phosphorylated human P10912 (P10912) intracellular domain. Among 31 PTPs tested, P17706, P23467, P18031, Q9HD43 (Q9HD43), Q16829, P43378, and P26045 showed specificity for phosphorylated P10912 that had been produced by coexpression with a kinase in bacteria. We then used GH-induced, phosphorylated P10912, purified from overexpressing mammalian cells, in a Far Western-based approach to test whether these seven PTPs were also capable of recognizing ligand-induced, physiologically phosphorylated P10912. In this assay, only P17706, P18031, P26045, and Q9HD43 interacted with the mature form of the phosphorylated P10912. In parallel, we show that these PTPs recognize very different subsets of the seven P10912 tyrosines that are potentially phosphorylated. Finally, mRNA tissue distribution of these PTPs by RT-PCR analysis and coexpression of the wild-type PTPs to test their ability to dephosphorylate ligand-activated P10912 suggest P26045 and P18031 as potential candidates involved in P10912 signaling.</td>\n",
       "      <td>[{'charOffset': 307, 'len': 6, 'text': 'P10912'}, {'charOffset': 315, 'len': 6, 'text': 'P10912'}, {'charOffset': 367, 'len': 6, 'text': 'P17706'}, {'charOffset': 375, 'len': 6, 'text': 'P23467'}, {'charOffset': 383, 'len': 6, 'text': 'P18031'}, {'charOffset': 391, 'len': 6, 'text': 'Q9HD43'}, {'charOffset': 399, 'len': 6, 'text': 'Q9HD43'}, {'charOffset': 408, 'len': 6, 'text': 'Q16829'}, {'charOffset': 416, 'len': 6, 'text': 'P43378'}, {'charOffset': 428, 'len': 6, 'text': 'P26045'}, {'charOffset': 473, 'len': 6, 'text': 'P10912'}, {'charOffset': 586, 'len': 6, 'text': 'P10912'}, {'charOffset': 785, 'len': 6, 'text': 'P10912'}, {'charOffset': 813, 'len': 6, 'text': 'P17706'}, {'charOffset': 821, 'len': 6, 'text': 'P18031'}, {'charOffset': 829, 'len': 6, 'text': 'P26045'}, {'charOffset': 841, 'len': 6, 'text': 'Q9HD43'}, {'charOffset': 902, 'len': 6, 'text': 'P10912'}, {'charOffset': 993, 'len': 6, 'text': 'P10912'}, {'charOffset': 1211, 'len': 6, 'text': 'P10912'}, {'charOffset': 1226, 'len': 6, 'text': 'P26045'}, {'charOffset': 1237, 'len': 6, 'text': 'P18031'}, {'charOffset': 1280, 'len': 6, 'text': 'P10912'}]</td>\n",
       "      <td>P18031</td>\n",
       "      <td>P43378</td>\n",
       "      <td>{'2690': ['P10912', 'A0A087X0H5', 'A0A087X162'], '5780': ['P43378', 'Q6IQ43'], '1849': ['Q16829'], '5794': ['Q9HD43'], '5771': ['P17706', 'A8K3N4', 'D3DUJ3', 'K7EQG9', 'Q59F91'], '5774': ['P26045', 'B7Z9V1', 'B7ZA03', 'Q8N4S3', 'B7Z3V3'], '5787': ['P23467', 'F8VU56', 'Q68D73', 'Q86VA4'], '5770': ['P18031', 'B4DSN5', 'A8K3M3']}</td>\n",
       "      <td>PTP1B</td>\n",
       "      <td>Meg-2</td>\n",
       "      <td>other</td>\n",
       "    </tr>\n",
       "    <tr>\n",
       "      <th>184</th>\n",
       "      <td>12907755</td>\n",
       "      <td>Protein tyrosine phosphatases (PTPs) play key roles in switching off tyrosine phosphorylation cascades, such as initiated by cytokine receptors. We have used substrate-trapping mutants of a large set of PTPs to identify members of the PTP family that have substrate specificity for the phosphorylated human GH receptor (GHR) intracellular domain. Among 31 PTPs tested, T cell (TC)-PTP, PTP-beta, PTP1B, stomach cancer-associated PTP 1 (SAP-1), Pyst-2, Meg-2, and PTP-H1 showed specificity for phosphorylated GHR that had been produced by coexpression with a kinase in bacteria. We then used GH-induced, phosphorylated GH receptor, purified from overexpressing mammalian cells, in a Far Western-based approach to test whether these seven PTPs were also capable of recognizing ligand-induced, physiologically phosphorylated GHR. In this assay, only TC-PTP, PTP1B, PTP-H1, and SAP-1 interacted with the mature form of the phosphorylated GHR. In parallel, we show that these PTPs recognize very different subsets of the seven GHR tyrosines that are potentially phosphorylated. Finally, mRNA tissue distribution of these PTPs by RT-PCR analysis and coexpression of the wild-type PTPs to test their ability to dephosphorylate ligand-activated GHR suggest PTP-H1 and PTP1B as potential candidates involved in GHR signaling.</td>\n",
       "      <td>[{'start': '301', 'end': '306', 'name': 'human', 'type': 'Species', 'normalised_id': '9606'}, {'start': '307', 'end': '318', 'name': 'GH receptor', 'type': 'Gene', 'normalised_id': '2690'}, {'start': '320', 'end': '323', 'name': 'GHR', 'type': 'Gene', 'normalised_id': '2690'}, {'start': '369', 'end': '384', 'name': 'T cell (TC)-PTP', 'type': 'Gene', 'normalised_id': '5771'}, {'start': '386', 'end': '394', 'name': 'PTP-beta', 'type': 'Gene', 'normalised_id': '5787'}, {'start': '396', 'end': '401', 'name': 'PTP1B', 'type': 'Gene', 'normalised_id': '5770'}, {'start': '403', 'end': '434', 'name': 'stomach cancer-associated PTP 1', 'type': 'Gene', 'normalised_id': '5794'}, {'start': '436', 'end': '441', 'name': 'SAP-1', 'type': 'Gene', 'normalised_id': '5794'}, {'start': '444', 'end': '450', 'name': 'Pyst-2', 'type': 'Gene', 'normalised_id': '1849'}, {'start': '452', 'end': '457', 'name': 'Meg-2', 'type': 'Gene', 'normalised_id': '5780'}, {'start': '463', 'end': '469', 'name': 'PTP-H1', 'type': 'Gene', 'normalised_id': '5774'}, {'start': '508', 'end': '511', 'name': 'GHR', 'type': 'Gene', 'normalised_id': '2690'}, {'start': '618', 'end': '629', 'name': 'GH receptor', 'type': 'Gene', 'normalised_id': '2690'}, {'start': '660', 'end': '669', 'name': 'mammalian', 'type': 'Species', 'normalised_id': '9606'}, {'start': '822', 'end': '825', 'name': 'GHR', 'type': 'Gene', 'normalised_id': '2690'}, {'start': '847', 'end': '853', 'name': 'TC-PTP', 'type': 'Gene', 'normalised_id': '5771'}, {'start': '855', 'end': '860', 'name': 'PTP1B', 'type': 'Gene', 'normalised_id': '5770'}, {'start': '862', 'end': '868', 'name': 'PTP-H1', 'type': 'Gene', 'normalised_id': '5774'}, {'start': '874', 'end': '879', 'name': 'SAP-1', 'type': 'Gene', 'normalised_id': '5794'}, {'start': '934', 'end': '937', 'name': 'GHR', 'type': 'Gene', 'normalised_id': '2690'}, {'start': '1022', 'end': '1025', 'name': 'GHR', 'type': 'Gene', 'normalised_id': '2690'}, {'start': '1237', 'end': '1240', 'name': 'GHR', 'type': 'Gene', 'normalised_id': '2690'}, {'start': '1249', 'end': '1255', 'name': 'PTP-H1', 'type': 'Gene', 'normalised_id': '5774'}, {'start': '1260', 'end': '1265', 'name': 'PTP1B', 'type': 'Gene', 'normalised_id': '5770'}, {'start': '1302', 'end': '1305', 'name': 'GHR', 'type': 'Gene', 'normalised_id': '2690'}]</td>\n",
       "      <td>8</td>\n",
       "      <td>23</td>\n",
       "      <td>Protein tyrosine phosphatases (PTPs) play key roles in switching off tyrosine phosphorylation cascades, such as initiated by cytokine receptors. We have used substrate-trapping mutants of a large set of PTPs to identify members of the PTP family that have substrate specificity for the phosphorylated human P10912 (P10912) intracellular domain. Among 31 PTPs tested, P17706, P23467, P18031, Q9HD43 (Q9HD43), Q16829, P43378, and P26045 showed specificity for phosphorylated P10912 that had been produced by coexpression with a kinase in bacteria. We then used GH-induced, phosphorylated P10912, purified from overexpressing mammalian cells, in a Far Western-based approach to test whether these seven PTPs were also capable of recognizing ligand-induced, physiologically phosphorylated P10912. In this assay, only P17706, P18031, P26045, and Q9HD43 interacted with the mature form of the phosphorylated P10912. In parallel, we show that these PTPs recognize very different subsets of the seven P10912 tyrosines that are potentially phosphorylated. Finally, mRNA tissue distribution of these PTPs by RT-PCR analysis and coexpression of the wild-type PTPs to test their ability to dephosphorylate ligand-activated P10912 suggest P26045 and P18031 as potential candidates involved in P10912 signaling.</td>\n",
       "      <td>[{'charOffset': 307, 'len': 6, 'text': 'P10912'}, {'charOffset': 315, 'len': 6, 'text': 'P10912'}, {'charOffset': 367, 'len': 6, 'text': 'P17706'}, {'charOffset': 375, 'len': 6, 'text': 'P23467'}, {'charOffset': 383, 'len': 6, 'text': 'P18031'}, {'charOffset': 391, 'len': 6, 'text': 'Q9HD43'}, {'charOffset': 399, 'len': 6, 'text': 'Q9HD43'}, {'charOffset': 408, 'len': 6, 'text': 'Q16829'}, {'charOffset': 416, 'len': 6, 'text': 'P43378'}, {'charOffset': 428, 'len': 6, 'text': 'P26045'}, {'charOffset': 473, 'len': 6, 'text': 'P10912'}, {'charOffset': 586, 'len': 6, 'text': 'P10912'}, {'charOffset': 785, 'len': 6, 'text': 'P10912'}, {'charOffset': 813, 'len': 6, 'text': 'P17706'}, {'charOffset': 821, 'len': 6, 'text': 'P18031'}, {'charOffset': 829, 'len': 6, 'text': 'P26045'}, {'charOffset': 841, 'len': 6, 'text': 'Q9HD43'}, {'charOffset': 902, 'len': 6, 'text': 'P10912'}, {'charOffset': 993, 'len': 6, 'text': 'P10912'}, {'charOffset': 1211, 'len': 6, 'text': 'P10912'}, {'charOffset': 1226, 'len': 6, 'text': 'P26045'}, {'charOffset': 1237, 'len': 6, 'text': 'P18031'}, {'charOffset': 1280, 'len': 6, 'text': 'P10912'}]</td>\n",
       "      <td>P26045</td>\n",
       "      <td>Q9HD43</td>\n",
       "      <td>{'2690': ['P10912', 'A0A087X0H5', 'A0A087X162'], '5780': ['P43378', 'Q6IQ43'], '1849': ['Q16829'], '5794': ['Q9HD43'], '5771': ['P17706', 'A8K3N4', 'D3DUJ3', 'K7EQG9', 'Q59F91'], '5774': ['P26045', 'B7Z9V1', 'B7ZA03', 'Q8N4S3', 'B7Z3V3'], '5787': ['P23467', 'F8VU56', 'Q68D73', 'Q86VA4'], '5770': ['P18031', 'B4DSN5', 'A8K3M3']}</td>\n",
       "      <td>PTP-H1</td>\n",
       "      <td>SAP-1</td>\n",
       "      <td>other</td>\n",
       "    </tr>\n",
       "    <tr>\n",
       "      <th>183</th>\n",
       "      <td>12907755</td>\n",
       "      <td>Protein tyrosine phosphatases (PTPs) play key roles in switching off tyrosine phosphorylation cascades, such as initiated by cytokine receptors. We have used substrate-trapping mutants of a large set of PTPs to identify members of the PTP family that have substrate specificity for the phosphorylated human GH receptor (GHR) intracellular domain. Among 31 PTPs tested, T cell (TC)-PTP, PTP-beta, PTP1B, stomach cancer-associated PTP 1 (SAP-1), Pyst-2, Meg-2, and PTP-H1 showed specificity for phosphorylated GHR that had been produced by coexpression with a kinase in bacteria. We then used GH-induced, phosphorylated GH receptor, purified from overexpressing mammalian cells, in a Far Western-based approach to test whether these seven PTPs were also capable of recognizing ligand-induced, physiologically phosphorylated GHR. In this assay, only TC-PTP, PTP1B, PTP-H1, and SAP-1 interacted with the mature form of the phosphorylated GHR. In parallel, we show that these PTPs recognize very different subsets of the seven GHR tyrosines that are potentially phosphorylated. Finally, mRNA tissue distribution of these PTPs by RT-PCR analysis and coexpression of the wild-type PTPs to test their ability to dephosphorylate ligand-activated GHR suggest PTP-H1 and PTP1B as potential candidates involved in GHR signaling.</td>\n",
       "      <td>[{'start': '301', 'end': '306', 'name': 'human', 'type': 'Species', 'normalised_id': '9606'}, {'start': '307', 'end': '318', 'name': 'GH receptor', 'type': 'Gene', 'normalised_id': '2690'}, {'start': '320', 'end': '323', 'name': 'GHR', 'type': 'Gene', 'normalised_id': '2690'}, {'start': '369', 'end': '384', 'name': 'T cell (TC)-PTP', 'type': 'Gene', 'normalised_id': '5771'}, {'start': '386', 'end': '394', 'name': 'PTP-beta', 'type': 'Gene', 'normalised_id': '5787'}, {'start': '396', 'end': '401', 'name': 'PTP1B', 'type': 'Gene', 'normalised_id': '5770'}, {'start': '403', 'end': '434', 'name': 'stomach cancer-associated PTP 1', 'type': 'Gene', 'normalised_id': '5794'}, {'start': '436', 'end': '441', 'name': 'SAP-1', 'type': 'Gene', 'normalised_id': '5794'}, {'start': '444', 'end': '450', 'name': 'Pyst-2', 'type': 'Gene', 'normalised_id': '1849'}, {'start': '452', 'end': '457', 'name': 'Meg-2', 'type': 'Gene', 'normalised_id': '5780'}, {'start': '463', 'end': '469', 'name': 'PTP-H1', 'type': 'Gene', 'normalised_id': '5774'}, {'start': '508', 'end': '511', 'name': 'GHR', 'type': 'Gene', 'normalised_id': '2690'}, {'start': '618', 'end': '629', 'name': 'GH receptor', 'type': 'Gene', 'normalised_id': '2690'}, {'start': '660', 'end': '669', 'name': 'mammalian', 'type': 'Species', 'normalised_id': '9606'}, {'start': '822', 'end': '825', 'name': 'GHR', 'type': 'Gene', 'normalised_id': '2690'}, {'start': '847', 'end': '853', 'name': 'TC-PTP', 'type': 'Gene', 'normalised_id': '5771'}, {'start': '855', 'end': '860', 'name': 'PTP1B', 'type': 'Gene', 'normalised_id': '5770'}, {'start': '862', 'end': '868', 'name': 'PTP-H1', 'type': 'Gene', 'normalised_id': '5774'}, {'start': '874', 'end': '879', 'name': 'SAP-1', 'type': 'Gene', 'normalised_id': '5794'}, {'start': '934', 'end': '937', 'name': 'GHR', 'type': 'Gene', 'normalised_id': '2690'}, {'start': '1022', 'end': '1025', 'name': 'GHR', 'type': 'Gene', 'normalised_id': '2690'}, {'start': '1237', 'end': '1240', 'name': 'GHR', 'type': 'Gene', 'normalised_id': '2690'}, {'start': '1249', 'end': '1255', 'name': 'PTP-H1', 'type': 'Gene', 'normalised_id': '5774'}, {'start': '1260', 'end': '1265', 'name': 'PTP1B', 'type': 'Gene', 'normalised_id': '5770'}, {'start': '1302', 'end': '1305', 'name': 'GHR', 'type': 'Gene', 'normalised_id': '2690'}]</td>\n",
       "      <td>8</td>\n",
       "      <td>23</td>\n",
       "      <td>Protein tyrosine phosphatases (PTPs) play key roles in switching off tyrosine phosphorylation cascades, such as initiated by cytokine receptors. We have used substrate-trapping mutants of a large set of PTPs to identify members of the PTP family that have substrate specificity for the phosphorylated human P10912 (P10912) intracellular domain. Among 31 PTPs tested, P17706, P23467, P18031, Q9HD43 (Q9HD43), Q16829, P43378, and P26045 showed specificity for phosphorylated P10912 that had been produced by coexpression with a kinase in bacteria. We then used GH-induced, phosphorylated P10912, purified from overexpressing mammalian cells, in a Far Western-based approach to test whether these seven PTPs were also capable of recognizing ligand-induced, physiologically phosphorylated P10912. In this assay, only P17706, P18031, P26045, and Q9HD43 interacted with the mature form of the phosphorylated P10912. In parallel, we show that these PTPs recognize very different subsets of the seven P10912 tyrosines that are potentially phosphorylated. Finally, mRNA tissue distribution of these PTPs by RT-PCR analysis and coexpression of the wild-type PTPs to test their ability to dephosphorylate ligand-activated P10912 suggest P26045 and P18031 as potential candidates involved in P10912 signaling.</td>\n",
       "      <td>[{'charOffset': 307, 'len': 6, 'text': 'P10912'}, {'charOffset': 315, 'len': 6, 'text': 'P10912'}, {'charOffset': 367, 'len': 6, 'text': 'P17706'}, {'charOffset': 375, 'len': 6, 'text': 'P23467'}, {'charOffset': 383, 'len': 6, 'text': 'P18031'}, {'charOffset': 391, 'len': 6, 'text': 'Q9HD43'}, {'charOffset': 399, 'len': 6, 'text': 'Q9HD43'}, {'charOffset': 408, 'len': 6, 'text': 'Q16829'}, {'charOffset': 416, 'len': 6, 'text': 'P43378'}, {'charOffset': 428, 'len': 6, 'text': 'P26045'}, {'charOffset': 473, 'len': 6, 'text': 'P10912'}, {'charOffset': 586, 'len': 6, 'text': 'P10912'}, {'charOffset': 785, 'len': 6, 'text': 'P10912'}, {'charOffset': 813, 'len': 6, 'text': 'P17706'}, {'charOffset': 821, 'len': 6, 'text': 'P18031'}, {'charOffset': 829, 'len': 6, 'text': 'P26045'}, {'charOffset': 841, 'len': 6, 'text': 'Q9HD43'}, {'charOffset': 902, 'len': 6, 'text': 'P10912'}, {'charOffset': 993, 'len': 6, 'text': 'P10912'}, {'charOffset': 1211, 'len': 6, 'text': 'P10912'}, {'charOffset': 1226, 'len': 6, 'text': 'P26045'}, {'charOffset': 1237, 'len': 6, 'text': 'P18031'}, {'charOffset': 1280, 'len': 6, 'text': 'P10912'}]</td>\n",
       "      <td>P26045</td>\n",
       "      <td>Q16829</td>\n",
       "      <td>{'2690': ['P10912', 'A0A087X0H5', 'A0A087X162'], '5780': ['P43378', 'Q6IQ43'], '1849': ['Q16829'], '5794': ['Q9HD43'], '5771': ['P17706', 'A8K3N4', 'D3DUJ3', 'K7EQG9', 'Q59F91'], '5774': ['P26045', 'B7Z9V1', 'B7ZA03', 'Q8N4S3', 'B7Z3V3'], '5787': ['P23467', 'F8VU56', 'Q68D73', 'Q86VA4'], '5770': ['P18031', 'B4DSN5', 'A8K3M3']}</td>\n",
       "      <td>PTP-H1</td>\n",
       "      <td>Pyst-2</td>\n",
       "      <td>other</td>\n",
       "    </tr>\n",
       "    <tr>\n",
       "      <th>129</th>\n",
       "      <td>20308328</td>\n",
       "      <td>LEOPARD syndrome (LS), a disorder with multiple developmental abnormalities, is mainly due to mutations that impair the activity of the tyrosine phosphatase SHP2 (PTPN11). How these alterations cause the disease remains unknown. We report here that fibroblasts isolated from LS patients displayed stronger epidermal growth factor (EGF)-induced phosphorylation of both AKT and glycogen synthase kinase 3beta (GSK-3beta) than fibroblasts from control patients. Similar results were obtained in HEK293 cells expressing LS mutants of SHP2. We found that the GAB1/phosphoinositide 3-kinase (PI3K) complex was more abundant in fibroblasts from LS than control subjects and that both AKT and GSK-3beta hyperphosphorylation were prevented by reducing GAB1 expression or by overexpressing a GAB1 mutant unable to bind to PI3K. Consistently, purified recombinant LS mutants failed to dephosphorylate GAB1 PI3K-binding sites. These mutants induced PI3K-dependent increase in cell size in a model of chicken embryo cardiac explants and in transcriptional activity of the atrial natriuretic factor (ANF) gene in neonate rat cardiomyocytes. In conclusion, SHP2 mutations causing LS facilitate EGF-induced PI3K/AKT/GSK-3beta stimulation through impaired GAB1 dephosphorylation, resulting in deregulation of a novel signaling pathway that could be involved in LS pathology.</td>\n",
       "      <td>[{'start': '0', 'end': '7', 'name': 'LEOPARD', 'type': 'Species', 'normalised_id': '9691'}, {'start': '157', 'end': '161', 'name': 'SHP2', 'type': 'Gene', 'normalised_id': '5781'}, {'start': '163', 'end': '169', 'name': 'PTPN11', 'type': 'Gene', 'normalised_id': '5781'}, {'start': '278', 'end': '286', 'name': 'patients', 'type': 'Species', 'normalised_id': '9606'}, {'start': '368', 'end': '371', 'name': 'AKT', 'type': 'Gene', 'normalised_id': '207'}, {'start': '376', 'end': '406', 'name': 'glycogen synthase kinase 3beta', 'type': 'Gene', 'normalised_id': '2932'}, {'start': '408', 'end': '417', 'name': 'GSK-3beta', 'type': 'Gene', 'normalised_id': '2932'}, {'start': '449', 'end': '457', 'name': 'patients', 'type': 'Species', 'normalised_id': '9606'}, {'start': '492', 'end': '498', 'name': 'HEK293', 'type': 'Species', 'normalised_id': '9606'}, {'start': '530', 'end': '534', 'name': 'SHP2', 'type': 'Gene', 'normalised_id': '5781'}, {'start': '554', 'end': '584', 'name': 'GAB1/phosphoinositide 3-kinase', 'type': 'Gene', 'normalised_id': '5291'}, {'start': '586', 'end': '590', 'name': 'PI3K', 'type': 'Gene', 'normalised_id': '5291'}, {'start': '677', 'end': '680', 'name': 'AKT', 'type': 'Gene', 'normalised_id': '207'}, {'start': '685', 'end': '694', 'name': 'GSK-3beta', 'type': 'Gene', 'normalised_id': '2932'}, {'start': '743', 'end': '747', 'name': 'GAB1', 'type': 'Gene', 'normalised_id': '2549'}, {'start': '782', 'end': '786', 'name': 'GAB1', 'type': 'Gene', 'normalised_id': '2549'}, {'start': '812', 'end': '816', 'name': 'PI3K', 'type': 'Gene', 'normalised_id': '5291'}, {'start': '890', 'end': '894', 'name': 'GAB1', 'type': 'Gene', 'normalised_id': '2549'}, {'start': '895', 'end': '899', 'name': 'PI3K', 'type': 'Gene', 'normalised_id': '5291'}, {'start': '937', 'end': '941', 'name': 'PI3K', 'type': 'Gene', 'normalised_id': '5291'}, {'start': '988', 'end': '995', 'name': 'chicken', 'type': 'Species', 'normalised_id': '9031'}, {'start': '1059', 'end': '1084', 'name': 'atrial natriuretic factor', 'type': 'Gene', 'normalised_id': '4878'}, {'start': '1086', 'end': '1089', 'name': 'ANF', 'type': 'Gene', 'normalised_id': '4878'}, {'start': '1107', 'end': '1110', 'name': 'rat', 'type': 'Species', 'normalised_id': '10116'}, {'start': '1142', 'end': '1146', 'name': 'SHP2', 'type': 'Gene', 'normalised_id': '5781'}, {'start': '1191', 'end': '1195', 'name': 'PI3K', 'type': 'Gene', 'normalised_id': '5291'}, {'start': '1196', 'end': '1199', 'name': 'AKT', 'type': 'Gene', 'normalised_id': '207'}, {'start': '1200', 'end': '1209', 'name': 'GSK-3beta', 'type': 'Gene', 'normalised_id': '2932'}, {'start': '1239', 'end': '1243', 'name': 'GAB1', 'type': 'Gene', 'normalised_id': '2549'}]</td>\n",
       "      <td>6</td>\n",
       "      <td>23</td>\n",
       "      <td>LEOPARD syndrome (LS), a disorder with multiple developmental abnormalities, is mainly due to mutations that impair the activity of the tyrosine phosphatase Q06124 (Q06124). How these alterations cause the disease remains unknown. We report here that fibroblasts isolated from LS patients displayed stronger epidermal growth factor (EGF)-induced phosphorylation of both P31749 and P49841 (P49841) than fibroblasts from control patients. Similar results were obtained in HEK293 cells expressing LS mutants of Q06124. We found that the P42338 (P42338) complex was more abundant in fibroblasts from LS than control subjects and that both P31749 and P49841 hyperphosphorylation were prevented by reducing Q13480 expression or by overexpressing a Q13480 mutant unable to bind to P42338. Consistently, purified recombinant LS mutants failed to dephosphorylate Q13480 P42338-binding sites. These mutants induced P42338-dependent increase in cell size in a model of chicken embryo cardiac explants and in transcriptional activity of the P01160 (P01160) gene in neonate rat cardiomyocytes. In conclusion, Q06124 mutations causing LS facilitate EGF-induced P42338/P31749/P49841 stimulation through impaired Q13480 dephosphorylation, resulting in deregulation of a novel signaling pathway that could be involved in LS pathology.</td>\n",
       "      <td>[{'charOffset': 157, 'len': 6, 'text': 'Q06124'}, {'charOffset': 165, 'len': 6, 'text': 'Q06124'}, {'charOffset': 370, 'len': 6, 'text': 'P31749'}, {'charOffset': 381, 'len': 6, 'text': 'P49841'}, {'charOffset': 389, 'len': 6, 'text': 'P49841'}, {'charOffset': 508, 'len': 6, 'text': 'Q06124'}, {'charOffset': 534, 'len': 6, 'text': 'P42338'}, {'charOffset': 542, 'len': 6, 'text': 'P42338'}, {'charOffset': 635, 'len': 6, 'text': 'P31749'}, {'charOffset': 646, 'len': 6, 'text': 'P49841'}, {'charOffset': 701, 'len': 6, 'text': 'Q13480'}, {'charOffset': 742, 'len': 6, 'text': 'Q13480'}, {'charOffset': 774, 'len': 6, 'text': 'P42338'}, {'charOffset': 854, 'len': 6, 'text': 'Q13480'}, {'charOffset': 861, 'len': 6, 'text': 'P42338'}, {'charOffset': 905, 'len': 6, 'text': 'P42338'}, {'charOffset': 1029, 'len': 6, 'text': 'P01160'}, {'charOffset': 1037, 'len': 6, 'text': 'P01160'}, {'charOffset': 1096, 'len': 6, 'text': 'Q06124'}, {'charOffset': 1147, 'len': 6, 'text': 'P42338'}, {'charOffset': 1154, 'len': 6, 'text': 'P31749'}, {'charOffset': 1161, 'len': 6, 'text': 'P49841'}, {'charOffset': 1197, 'len': 6, 'text': 'Q13480'}]</td>\n",
       "      <td>P49841</td>\n",
       "      <td>Q06124</td>\n",
       "      <td>{'4878': ['P01160'], '2549': ['Q13480', 'Q9HA84'], '5781': ['Q06124'], '5291': ['P42338', 'B4DER4', 'B4DZI3'], '207': ['P31749', 'B0LPE5', 'B3KVH4'], '2932': ['P49841', 'Q6FI27']}</td>\n",
       "      <td>GSK-3beta</td>\n",
       "      <td>PTPN11</td>\n",
       "      <td>other</td>\n",
       "    </tr>\n",
       "  </tbody>\n",
       "</table>\n",
       "</div>"
      ],
      "text/plain": [
       "     pubmedId  \\\n",
       "165  15733869   \n",
       "175  12907755   \n",
       "184  12907755   \n",
       "183  12907755   \n",
       "129  20308328   \n",
       "\n",
       "                                                                                                                                                                                                                                                                                                                                                                                                                                                                                                                                                                                                                                                                                                                                                                                                                                                                                                                                                                                                                                                                                                                                                                                                                                                                                                                                                                                                    pubmedabstract  \\\n",
       "165                                                                                                                                                           To maintain homeostasis, cells often respond to stressful extra-cellular stimuli by new gene expression. Serum/glucocorticoid-induced kinase (SGK) is an immediate early gene whose expression is induced by a variety of extra-cellular stimuli. Here, we examine the possibility that SGK can directly phosphorylate the transcription factor cyclic AMP response element binding protein (CREB). In a cell-free context, SGK physically associates with CREB and SGK phosphorylates it on serine 133. Phospho-serine 133 is essential for stimulating the transcriptional activity of CREB. Further, we show that in a variety of cellular contexts, SGK phosphorylates CREB. Activation of receptor tyrosine kinase pathways or the phosphoinositide-dependent kinase 1 (PDK1) lead to SGK-dependent CREB phosphorylation. Hormonal stimulation of epithelial cells leads to the induction of endogenous SGK and CREB phosphorylation. A dominant-negative form of SGK blocks dexamethasone-induced CREB phosphorylation. Our studies indicate that stimulation of SGK can lead to CREB phosphorylation, suggesting that CREB-dependent gene transcription is an important link between stressful extra-cellular signals and cellular responses.   \n",
       "175                                           Protein tyrosine phosphatases (PTPs) play key roles in switching off tyrosine phosphorylation cascades, such as initiated by cytokine receptors. We have used substrate-trapping mutants of a large set of PTPs to identify members of the PTP family that have substrate specificity for the phosphorylated human GH receptor (GHR) intracellular domain. Among 31 PTPs tested, T cell (TC)-PTP, PTP-beta, PTP1B, stomach cancer-associated PTP 1 (SAP-1), Pyst-2, Meg-2, and PTP-H1 showed specificity for phosphorylated GHR that had been produced by coexpression with a kinase in bacteria. We then used GH-induced, phosphorylated GH receptor, purified from overexpressing mammalian cells, in a Far Western-based approach to test whether these seven PTPs were also capable of recognizing ligand-induced, physiologically phosphorylated GHR. In this assay, only TC-PTP, PTP1B, PTP-H1, and SAP-1 interacted with the mature form of the phosphorylated GHR. In parallel, we show that these PTPs recognize very different subsets of the seven GHR tyrosines that are potentially phosphorylated. Finally, mRNA tissue distribution of these PTPs by RT-PCR analysis and coexpression of the wild-type PTPs to test their ability to dephosphorylate ligand-activated GHR suggest PTP-H1 and PTP1B as potential candidates involved in GHR signaling.   \n",
       "184                                           Protein tyrosine phosphatases (PTPs) play key roles in switching off tyrosine phosphorylation cascades, such as initiated by cytokine receptors. We have used substrate-trapping mutants of a large set of PTPs to identify members of the PTP family that have substrate specificity for the phosphorylated human GH receptor (GHR) intracellular domain. Among 31 PTPs tested, T cell (TC)-PTP, PTP-beta, PTP1B, stomach cancer-associated PTP 1 (SAP-1), Pyst-2, Meg-2, and PTP-H1 showed specificity for phosphorylated GHR that had been produced by coexpression with a kinase in bacteria. We then used GH-induced, phosphorylated GH receptor, purified from overexpressing mammalian cells, in a Far Western-based approach to test whether these seven PTPs were also capable of recognizing ligand-induced, physiologically phosphorylated GHR. In this assay, only TC-PTP, PTP1B, PTP-H1, and SAP-1 interacted with the mature form of the phosphorylated GHR. In parallel, we show that these PTPs recognize very different subsets of the seven GHR tyrosines that are potentially phosphorylated. Finally, mRNA tissue distribution of these PTPs by RT-PCR analysis and coexpression of the wild-type PTPs to test their ability to dephosphorylate ligand-activated GHR suggest PTP-H1 and PTP1B as potential candidates involved in GHR signaling.   \n",
       "183                                           Protein tyrosine phosphatases (PTPs) play key roles in switching off tyrosine phosphorylation cascades, such as initiated by cytokine receptors. We have used substrate-trapping mutants of a large set of PTPs to identify members of the PTP family that have substrate specificity for the phosphorylated human GH receptor (GHR) intracellular domain. Among 31 PTPs tested, T cell (TC)-PTP, PTP-beta, PTP1B, stomach cancer-associated PTP 1 (SAP-1), Pyst-2, Meg-2, and PTP-H1 showed specificity for phosphorylated GHR that had been produced by coexpression with a kinase in bacteria. We then used GH-induced, phosphorylated GH receptor, purified from overexpressing mammalian cells, in a Far Western-based approach to test whether these seven PTPs were also capable of recognizing ligand-induced, physiologically phosphorylated GHR. In this assay, only TC-PTP, PTP1B, PTP-H1, and SAP-1 interacted with the mature form of the phosphorylated GHR. In parallel, we show that these PTPs recognize very different subsets of the seven GHR tyrosines that are potentially phosphorylated. Finally, mRNA tissue distribution of these PTPs by RT-PCR analysis and coexpression of the wild-type PTPs to test their ability to dephosphorylate ligand-activated GHR suggest PTP-H1 and PTP1B as potential candidates involved in GHR signaling.   \n",
       "129  LEOPARD syndrome (LS), a disorder with multiple developmental abnormalities, is mainly due to mutations that impair the activity of the tyrosine phosphatase SHP2 (PTPN11). How these alterations cause the disease remains unknown. We report here that fibroblasts isolated from LS patients displayed stronger epidermal growth factor (EGF)-induced phosphorylation of both AKT and glycogen synthase kinase 3beta (GSK-3beta) than fibroblasts from control patients. Similar results were obtained in HEK293 cells expressing LS mutants of SHP2. We found that the GAB1/phosphoinositide 3-kinase (PI3K) complex was more abundant in fibroblasts from LS than control subjects and that both AKT and GSK-3beta hyperphosphorylation were prevented by reducing GAB1 expression or by overexpressing a GAB1 mutant unable to bind to PI3K. Consistently, purified recombinant LS mutants failed to dephosphorylate GAB1 PI3K-binding sites. These mutants induced PI3K-dependent increase in cell size in a model of chicken embryo cardiac explants and in transcriptional activity of the atrial natriuretic factor (ANF) gene in neonate rat cardiomyocytes. In conclusion, SHP2 mutations causing LS facilitate EGF-induced PI3K/AKT/GSK-3beta stimulation through impaired GAB1 dephosphorylation, resulting in deregulation of a novel signaling pathway that could be involved in LS pathology.   \n",
       "\n",
       "                                                                                                                                                                                                                                                                                                                                                                                                                                                                                                                                                                                                                                                                                                                                                                                                                                                                                                                                                                                                                                                                                                                                                                                                                                                                                                                                                                                                                                                                                                                                                                                                                                                                                                                                                                                                                                                                                                                                                                                                                                                                                                                                                                                                                                                                                                                                                                                                                                                                                                                                                                                                                                                                                                                                                                                                                annotations  \\\n",
       "165                                                                                                                                                                                                                                                                                                                                                                                                                                                                                                                                                                                                                                                                                [{'start': '105', 'end': '140', 'name': 'Serum/glucocorticoid-induced kinase', 'type': 'Gene', 'normalised_id': '6446'}, {'start': '142', 'end': '145', 'name': 'SGK', 'type': 'Gene', 'normalised_id': '6446'}, {'start': '280', 'end': '283', 'name': 'SGK', 'type': 'Gene', 'normalised_id': '6446'}, {'start': '336', 'end': '379', 'name': 'cyclic AMP response element binding protein', 'type': 'Gene', 'normalised_id': '1385'}, {'start': '381', 'end': '385', 'name': 'CREB', 'type': 'Gene', 'normalised_id': '1385'}, {'start': '412', 'end': '415', 'name': 'SGK', 'type': 'Gene', 'normalised_id': '6446'}, {'start': '443', 'end': '447', 'name': 'CREB', 'type': 'Gene', 'normalised_id': '1385'}, {'start': '452', 'end': '455', 'name': 'SGK', 'type': 'Gene', 'normalised_id': '6446'}, {'start': '569', 'end': '573', 'name': 'CREB', 'type': 'Gene', 'normalised_id': '1385'}, {'start': '632', 'end': '635', 'name': 'SGK', 'type': 'Gene', 'normalised_id': '6446'}, {'start': '651', 'end': '655', 'name': 'CREB', 'type': 'Gene', 'normalised_id': '1385'}, {'start': '712', 'end': '747', 'name': 'phosphoinositide-dependent kinase 1', 'type': 'Gene', 'normalised_id': '5163'}, {'start': '749', 'end': '753', 'name': 'PDK1', 'type': 'Gene', 'normalised_id': '5163'}, {'start': '763', 'end': '766', 'name': 'SGK', 'type': 'Gene', 'normalised_id': '6446'}, {'start': '777', 'end': '781', 'name': 'CREB', 'type': 'Gene', 'normalised_id': '1385'}, {'start': '877', 'end': '880', 'name': 'SGK', 'type': 'Gene', 'normalised_id': '6446'}, {'start': '885', 'end': '889', 'name': 'CREB', 'type': 'Gene', 'normalised_id': '1385'}, {'start': '935', 'end': '938', 'name': 'SGK', 'type': 'Gene', 'normalised_id': '6446'}, {'start': '968', 'end': '972', 'name': 'CREB', 'type': 'Gene', 'normalised_id': '1385'}, {'start': '1031', 'end': '1034', 'name': 'SGK', 'type': 'Gene', 'normalised_id': '6446'}, {'start': '1047', 'end': '1051', 'name': 'CREB', 'type': 'Gene', 'normalised_id': '1385'}, {'start': '1085', 'end': '1089', 'name': 'CREB', 'type': 'Gene', 'normalised_id': '1385'}]   \n",
       "175                                                                                                                                                                                                                                                                                                                                                                                                                [{'start': '301', 'end': '306', 'name': 'human', 'type': 'Species', 'normalised_id': '9606'}, {'start': '307', 'end': '318', 'name': 'GH receptor', 'type': 'Gene', 'normalised_id': '2690'}, {'start': '320', 'end': '323', 'name': 'GHR', 'type': 'Gene', 'normalised_id': '2690'}, {'start': '369', 'end': '384', 'name': 'T cell (TC)-PTP', 'type': 'Gene', 'normalised_id': '5771'}, {'start': '386', 'end': '394', 'name': 'PTP-beta', 'type': 'Gene', 'normalised_id': '5787'}, {'start': '396', 'end': '401', 'name': 'PTP1B', 'type': 'Gene', 'normalised_id': '5770'}, {'start': '403', 'end': '434', 'name': 'stomach cancer-associated PTP 1', 'type': 'Gene', 'normalised_id': '5794'}, {'start': '436', 'end': '441', 'name': 'SAP-1', 'type': 'Gene', 'normalised_id': '5794'}, {'start': '444', 'end': '450', 'name': 'Pyst-2', 'type': 'Gene', 'normalised_id': '1849'}, {'start': '452', 'end': '457', 'name': 'Meg-2', 'type': 'Gene', 'normalised_id': '5780'}, {'start': '463', 'end': '469', 'name': 'PTP-H1', 'type': 'Gene', 'normalised_id': '5774'}, {'start': '508', 'end': '511', 'name': 'GHR', 'type': 'Gene', 'normalised_id': '2690'}, {'start': '618', 'end': '629', 'name': 'GH receptor', 'type': 'Gene', 'normalised_id': '2690'}, {'start': '660', 'end': '669', 'name': 'mammalian', 'type': 'Species', 'normalised_id': '9606'}, {'start': '822', 'end': '825', 'name': 'GHR', 'type': 'Gene', 'normalised_id': '2690'}, {'start': '847', 'end': '853', 'name': 'TC-PTP', 'type': 'Gene', 'normalised_id': '5771'}, {'start': '855', 'end': '860', 'name': 'PTP1B', 'type': 'Gene', 'normalised_id': '5770'}, {'start': '862', 'end': '868', 'name': 'PTP-H1', 'type': 'Gene', 'normalised_id': '5774'}, {'start': '874', 'end': '879', 'name': 'SAP-1', 'type': 'Gene', 'normalised_id': '5794'}, {'start': '934', 'end': '937', 'name': 'GHR', 'type': 'Gene', 'normalised_id': '2690'}, {'start': '1022', 'end': '1025', 'name': 'GHR', 'type': 'Gene', 'normalised_id': '2690'}, {'start': '1237', 'end': '1240', 'name': 'GHR', 'type': 'Gene', 'normalised_id': '2690'}, {'start': '1249', 'end': '1255', 'name': 'PTP-H1', 'type': 'Gene', 'normalised_id': '5774'}, {'start': '1260', 'end': '1265', 'name': 'PTP1B', 'type': 'Gene', 'normalised_id': '5770'}, {'start': '1302', 'end': '1305', 'name': 'GHR', 'type': 'Gene', 'normalised_id': '2690'}]   \n",
       "184                                                                                                                                                                                                                                                                                                                                                                                                                [{'start': '301', 'end': '306', 'name': 'human', 'type': 'Species', 'normalised_id': '9606'}, {'start': '307', 'end': '318', 'name': 'GH receptor', 'type': 'Gene', 'normalised_id': '2690'}, {'start': '320', 'end': '323', 'name': 'GHR', 'type': 'Gene', 'normalised_id': '2690'}, {'start': '369', 'end': '384', 'name': 'T cell (TC)-PTP', 'type': 'Gene', 'normalised_id': '5771'}, {'start': '386', 'end': '394', 'name': 'PTP-beta', 'type': 'Gene', 'normalised_id': '5787'}, {'start': '396', 'end': '401', 'name': 'PTP1B', 'type': 'Gene', 'normalised_id': '5770'}, {'start': '403', 'end': '434', 'name': 'stomach cancer-associated PTP 1', 'type': 'Gene', 'normalised_id': '5794'}, {'start': '436', 'end': '441', 'name': 'SAP-1', 'type': 'Gene', 'normalised_id': '5794'}, {'start': '444', 'end': '450', 'name': 'Pyst-2', 'type': 'Gene', 'normalised_id': '1849'}, {'start': '452', 'end': '457', 'name': 'Meg-2', 'type': 'Gene', 'normalised_id': '5780'}, {'start': '463', 'end': '469', 'name': 'PTP-H1', 'type': 'Gene', 'normalised_id': '5774'}, {'start': '508', 'end': '511', 'name': 'GHR', 'type': 'Gene', 'normalised_id': '2690'}, {'start': '618', 'end': '629', 'name': 'GH receptor', 'type': 'Gene', 'normalised_id': '2690'}, {'start': '660', 'end': '669', 'name': 'mammalian', 'type': 'Species', 'normalised_id': '9606'}, {'start': '822', 'end': '825', 'name': 'GHR', 'type': 'Gene', 'normalised_id': '2690'}, {'start': '847', 'end': '853', 'name': 'TC-PTP', 'type': 'Gene', 'normalised_id': '5771'}, {'start': '855', 'end': '860', 'name': 'PTP1B', 'type': 'Gene', 'normalised_id': '5770'}, {'start': '862', 'end': '868', 'name': 'PTP-H1', 'type': 'Gene', 'normalised_id': '5774'}, {'start': '874', 'end': '879', 'name': 'SAP-1', 'type': 'Gene', 'normalised_id': '5794'}, {'start': '934', 'end': '937', 'name': 'GHR', 'type': 'Gene', 'normalised_id': '2690'}, {'start': '1022', 'end': '1025', 'name': 'GHR', 'type': 'Gene', 'normalised_id': '2690'}, {'start': '1237', 'end': '1240', 'name': 'GHR', 'type': 'Gene', 'normalised_id': '2690'}, {'start': '1249', 'end': '1255', 'name': 'PTP-H1', 'type': 'Gene', 'normalised_id': '5774'}, {'start': '1260', 'end': '1265', 'name': 'PTP1B', 'type': 'Gene', 'normalised_id': '5770'}, {'start': '1302', 'end': '1305', 'name': 'GHR', 'type': 'Gene', 'normalised_id': '2690'}]   \n",
       "183                                                                                                                                                                                                                                                                                                                                                                                                                [{'start': '301', 'end': '306', 'name': 'human', 'type': 'Species', 'normalised_id': '9606'}, {'start': '307', 'end': '318', 'name': 'GH receptor', 'type': 'Gene', 'normalised_id': '2690'}, {'start': '320', 'end': '323', 'name': 'GHR', 'type': 'Gene', 'normalised_id': '2690'}, {'start': '369', 'end': '384', 'name': 'T cell (TC)-PTP', 'type': 'Gene', 'normalised_id': '5771'}, {'start': '386', 'end': '394', 'name': 'PTP-beta', 'type': 'Gene', 'normalised_id': '5787'}, {'start': '396', 'end': '401', 'name': 'PTP1B', 'type': 'Gene', 'normalised_id': '5770'}, {'start': '403', 'end': '434', 'name': 'stomach cancer-associated PTP 1', 'type': 'Gene', 'normalised_id': '5794'}, {'start': '436', 'end': '441', 'name': 'SAP-1', 'type': 'Gene', 'normalised_id': '5794'}, {'start': '444', 'end': '450', 'name': 'Pyst-2', 'type': 'Gene', 'normalised_id': '1849'}, {'start': '452', 'end': '457', 'name': 'Meg-2', 'type': 'Gene', 'normalised_id': '5780'}, {'start': '463', 'end': '469', 'name': 'PTP-H1', 'type': 'Gene', 'normalised_id': '5774'}, {'start': '508', 'end': '511', 'name': 'GHR', 'type': 'Gene', 'normalised_id': '2690'}, {'start': '618', 'end': '629', 'name': 'GH receptor', 'type': 'Gene', 'normalised_id': '2690'}, {'start': '660', 'end': '669', 'name': 'mammalian', 'type': 'Species', 'normalised_id': '9606'}, {'start': '822', 'end': '825', 'name': 'GHR', 'type': 'Gene', 'normalised_id': '2690'}, {'start': '847', 'end': '853', 'name': 'TC-PTP', 'type': 'Gene', 'normalised_id': '5771'}, {'start': '855', 'end': '860', 'name': 'PTP1B', 'type': 'Gene', 'normalised_id': '5770'}, {'start': '862', 'end': '868', 'name': 'PTP-H1', 'type': 'Gene', 'normalised_id': '5774'}, {'start': '874', 'end': '879', 'name': 'SAP-1', 'type': 'Gene', 'normalised_id': '5794'}, {'start': '934', 'end': '937', 'name': 'GHR', 'type': 'Gene', 'normalised_id': '2690'}, {'start': '1022', 'end': '1025', 'name': 'GHR', 'type': 'Gene', 'normalised_id': '2690'}, {'start': '1237', 'end': '1240', 'name': 'GHR', 'type': 'Gene', 'normalised_id': '2690'}, {'start': '1249', 'end': '1255', 'name': 'PTP-H1', 'type': 'Gene', 'normalised_id': '5774'}, {'start': '1260', 'end': '1265', 'name': 'PTP1B', 'type': 'Gene', 'normalised_id': '5770'}, {'start': '1302', 'end': '1305', 'name': 'GHR', 'type': 'Gene', 'normalised_id': '2690'}]   \n",
       "129  [{'start': '0', 'end': '7', 'name': 'LEOPARD', 'type': 'Species', 'normalised_id': '9691'}, {'start': '157', 'end': '161', 'name': 'SHP2', 'type': 'Gene', 'normalised_id': '5781'}, {'start': '163', 'end': '169', 'name': 'PTPN11', 'type': 'Gene', 'normalised_id': '5781'}, {'start': '278', 'end': '286', 'name': 'patients', 'type': 'Species', 'normalised_id': '9606'}, {'start': '368', 'end': '371', 'name': 'AKT', 'type': 'Gene', 'normalised_id': '207'}, {'start': '376', 'end': '406', 'name': 'glycogen synthase kinase 3beta', 'type': 'Gene', 'normalised_id': '2932'}, {'start': '408', 'end': '417', 'name': 'GSK-3beta', 'type': 'Gene', 'normalised_id': '2932'}, {'start': '449', 'end': '457', 'name': 'patients', 'type': 'Species', 'normalised_id': '9606'}, {'start': '492', 'end': '498', 'name': 'HEK293', 'type': 'Species', 'normalised_id': '9606'}, {'start': '530', 'end': '534', 'name': 'SHP2', 'type': 'Gene', 'normalised_id': '5781'}, {'start': '554', 'end': '584', 'name': 'GAB1/phosphoinositide 3-kinase', 'type': 'Gene', 'normalised_id': '5291'}, {'start': '586', 'end': '590', 'name': 'PI3K', 'type': 'Gene', 'normalised_id': '5291'}, {'start': '677', 'end': '680', 'name': 'AKT', 'type': 'Gene', 'normalised_id': '207'}, {'start': '685', 'end': '694', 'name': 'GSK-3beta', 'type': 'Gene', 'normalised_id': '2932'}, {'start': '743', 'end': '747', 'name': 'GAB1', 'type': 'Gene', 'normalised_id': '2549'}, {'start': '782', 'end': '786', 'name': 'GAB1', 'type': 'Gene', 'normalised_id': '2549'}, {'start': '812', 'end': '816', 'name': 'PI3K', 'type': 'Gene', 'normalised_id': '5291'}, {'start': '890', 'end': '894', 'name': 'GAB1', 'type': 'Gene', 'normalised_id': '2549'}, {'start': '895', 'end': '899', 'name': 'PI3K', 'type': 'Gene', 'normalised_id': '5291'}, {'start': '937', 'end': '941', 'name': 'PI3K', 'type': 'Gene', 'normalised_id': '5291'}, {'start': '988', 'end': '995', 'name': 'chicken', 'type': 'Species', 'normalised_id': '9031'}, {'start': '1059', 'end': '1084', 'name': 'atrial natriuretic factor', 'type': 'Gene', 'normalised_id': '4878'}, {'start': '1086', 'end': '1089', 'name': 'ANF', 'type': 'Gene', 'normalised_id': '4878'}, {'start': '1107', 'end': '1110', 'name': 'rat', 'type': 'Species', 'normalised_id': '10116'}, {'start': '1142', 'end': '1146', 'name': 'SHP2', 'type': 'Gene', 'normalised_id': '5781'}, {'start': '1191', 'end': '1195', 'name': 'PI3K', 'type': 'Gene', 'normalised_id': '5291'}, {'start': '1196', 'end': '1199', 'name': 'AKT', 'type': 'Gene', 'normalised_id': '207'}, {'start': '1200', 'end': '1209', 'name': 'GSK-3beta', 'type': 'Gene', 'normalised_id': '2932'}, {'start': '1239', 'end': '1243', 'name': 'GAB1', 'type': 'Gene', 'normalised_id': '2549'}]   \n",
       "\n",
       "     num_unique_gene_normalised_id  num_gene_normalised_id  \\\n",
       "165                              3                      22   \n",
       "175                              8                      23   \n",
       "184                              8                      23   \n",
       "183                              8                      23   \n",
       "129                              6                      23   \n",
       "\n",
       "                                                                                                                                                                                                                                                                                                                                                                                                                                                                                                                                                                                                                                                                                                                                                                                                                                                                                                                                                                                                                                                                                                                                                                                                                                                                                                                                                       normalised_abstract  \\\n",
       "165                                                                                                                                                                   To maintain homeostasis, cells often respond to stressful extra-cellular stimuli by new gene expression. O00141 (O00141) is an immediate early gene whose expression is induced by a variety of extra-cellular stimuli. Here, we examine the possibility that O00141 can directly phosphorylate the transcription factor P16220 (P16220). In a cell-free context, O00141 physically associates with P16220 and O00141 phosphorylates it on serine 133. Phospho-serine 133 is essential for stimulating the transcriptional activity of P16220. Further, we show that in a variety of cellular contexts, O00141 phosphorylates P16220. Activation of receptor tyrosine kinase pathways or the Q15118 (Q15118) lead to O00141-dependent P16220 phosphorylation. Hormonal stimulation of epithelial cells leads to the induction of endogenous O00141 and P16220 phosphorylation. A dominant-negative form of O00141 blocks dexamethasone-induced P16220 phosphorylation. Our studies indicate that stimulation of O00141 can lead to P16220 phosphorylation, suggesting that P16220-dependent gene transcription is an important link between stressful extra-cellular signals and cellular responses.   \n",
       "175                      Protein tyrosine phosphatases (PTPs) play key roles in switching off tyrosine phosphorylation cascades, such as initiated by cytokine receptors. We have used substrate-trapping mutants of a large set of PTPs to identify members of the PTP family that have substrate specificity for the phosphorylated human P10912 (P10912) intracellular domain. Among 31 PTPs tested, P17706, P23467, P18031, Q9HD43 (Q9HD43), Q16829, P43378, and P26045 showed specificity for phosphorylated P10912 that had been produced by coexpression with a kinase in bacteria. We then used GH-induced, phosphorylated P10912, purified from overexpressing mammalian cells, in a Far Western-based approach to test whether these seven PTPs were also capable of recognizing ligand-induced, physiologically phosphorylated P10912. In this assay, only P17706, P18031, P26045, and Q9HD43 interacted with the mature form of the phosphorylated P10912. In parallel, we show that these PTPs recognize very different subsets of the seven P10912 tyrosines that are potentially phosphorylated. Finally, mRNA tissue distribution of these PTPs by RT-PCR analysis and coexpression of the wild-type PTPs to test their ability to dephosphorylate ligand-activated P10912 suggest P26045 and P18031 as potential candidates involved in P10912 signaling.   \n",
       "184                      Protein tyrosine phosphatases (PTPs) play key roles in switching off tyrosine phosphorylation cascades, such as initiated by cytokine receptors. We have used substrate-trapping mutants of a large set of PTPs to identify members of the PTP family that have substrate specificity for the phosphorylated human P10912 (P10912) intracellular domain. Among 31 PTPs tested, P17706, P23467, P18031, Q9HD43 (Q9HD43), Q16829, P43378, and P26045 showed specificity for phosphorylated P10912 that had been produced by coexpression with a kinase in bacteria. We then used GH-induced, phosphorylated P10912, purified from overexpressing mammalian cells, in a Far Western-based approach to test whether these seven PTPs were also capable of recognizing ligand-induced, physiologically phosphorylated P10912. In this assay, only P17706, P18031, P26045, and Q9HD43 interacted with the mature form of the phosphorylated P10912. In parallel, we show that these PTPs recognize very different subsets of the seven P10912 tyrosines that are potentially phosphorylated. Finally, mRNA tissue distribution of these PTPs by RT-PCR analysis and coexpression of the wild-type PTPs to test their ability to dephosphorylate ligand-activated P10912 suggest P26045 and P18031 as potential candidates involved in P10912 signaling.   \n",
       "183                      Protein tyrosine phosphatases (PTPs) play key roles in switching off tyrosine phosphorylation cascades, such as initiated by cytokine receptors. We have used substrate-trapping mutants of a large set of PTPs to identify members of the PTP family that have substrate specificity for the phosphorylated human P10912 (P10912) intracellular domain. Among 31 PTPs tested, P17706, P23467, P18031, Q9HD43 (Q9HD43), Q16829, P43378, and P26045 showed specificity for phosphorylated P10912 that had been produced by coexpression with a kinase in bacteria. We then used GH-induced, phosphorylated P10912, purified from overexpressing mammalian cells, in a Far Western-based approach to test whether these seven PTPs were also capable of recognizing ligand-induced, physiologically phosphorylated P10912. In this assay, only P17706, P18031, P26045, and Q9HD43 interacted with the mature form of the phosphorylated P10912. In parallel, we show that these PTPs recognize very different subsets of the seven P10912 tyrosines that are potentially phosphorylated. Finally, mRNA tissue distribution of these PTPs by RT-PCR analysis and coexpression of the wild-type PTPs to test their ability to dephosphorylate ligand-activated P10912 suggest P26045 and P18031 as potential candidates involved in P10912 signaling.   \n",
       "129  LEOPARD syndrome (LS), a disorder with multiple developmental abnormalities, is mainly due to mutations that impair the activity of the tyrosine phosphatase Q06124 (Q06124). How these alterations cause the disease remains unknown. We report here that fibroblasts isolated from LS patients displayed stronger epidermal growth factor (EGF)-induced phosphorylation of both P31749 and P49841 (P49841) than fibroblasts from control patients. Similar results were obtained in HEK293 cells expressing LS mutants of Q06124. We found that the P42338 (P42338) complex was more abundant in fibroblasts from LS than control subjects and that both P31749 and P49841 hyperphosphorylation were prevented by reducing Q13480 expression or by overexpressing a Q13480 mutant unable to bind to P42338. Consistently, purified recombinant LS mutants failed to dephosphorylate Q13480 P42338-binding sites. These mutants induced P42338-dependent increase in cell size in a model of chicken embryo cardiac explants and in transcriptional activity of the P01160 (P01160) gene in neonate rat cardiomyocytes. In conclusion, Q06124 mutations causing LS facilitate EGF-induced P42338/P31749/P49841 stimulation through impaired Q13480 dephosphorylation, resulting in deregulation of a novel signaling pathway that could be involved in LS pathology.   \n",
       "\n",
       "                                                                                                                                                                                                                                                                                                                                                                                                                                                                                                                                                                                                                                                                                                                                                                                                                                                                                                                                                                                                                                                                                                                                                    normalised_abstract_annotations  \\\n",
       "165                                                         [{'charOffset': 105, 'len': 6, 'text': 'O00141'}, {'charOffset': 113, 'len': 6, 'text': 'O00141'}, {'charOffset': 254, 'len': 6, 'text': 'O00141'}, {'charOffset': 313, 'len': 6, 'text': 'P16220'}, {'charOffset': 321, 'len': 6, 'text': 'P16220'}, {'charOffset': 354, 'len': 6, 'text': 'O00141'}, {'charOffset': 388, 'len': 6, 'text': 'P16220'}, {'charOffset': 399, 'len': 6, 'text': 'O00141'}, {'charOffset': 519, 'len': 6, 'text': 'P16220'}, {'charOffset': 584, 'len': 6, 'text': 'O00141'}, {'charOffset': 606, 'len': 6, 'text': 'P16220'}, {'charOffset': 669, 'len': 6, 'text': 'Q15118'}, {'charOffset': 677, 'len': 6, 'text': 'Q15118'}, {'charOffset': 693, 'len': 6, 'text': 'O00141'}, {'charOffset': 710, 'len': 6, 'text': 'P16220'}, {'charOffset': 812, 'len': 6, 'text': 'O00141'}, {'charOffset': 823, 'len': 6, 'text': 'P16220'}, {'charOffset': 875, 'len': 6, 'text': 'O00141'}, {'charOffset': 911, 'len': 6, 'text': 'P16220'}, {'charOffset': 976, 'len': 6, 'text': 'O00141'}, {'charOffset': 995, 'len': 6, 'text': 'P16220'}, {'charOffset': 1035, 'len': 6, 'text': 'P16220'}]   \n",
       "175     [{'charOffset': 307, 'len': 6, 'text': 'P10912'}, {'charOffset': 315, 'len': 6, 'text': 'P10912'}, {'charOffset': 367, 'len': 6, 'text': 'P17706'}, {'charOffset': 375, 'len': 6, 'text': 'P23467'}, {'charOffset': 383, 'len': 6, 'text': 'P18031'}, {'charOffset': 391, 'len': 6, 'text': 'Q9HD43'}, {'charOffset': 399, 'len': 6, 'text': 'Q9HD43'}, {'charOffset': 408, 'len': 6, 'text': 'Q16829'}, {'charOffset': 416, 'len': 6, 'text': 'P43378'}, {'charOffset': 428, 'len': 6, 'text': 'P26045'}, {'charOffset': 473, 'len': 6, 'text': 'P10912'}, {'charOffset': 586, 'len': 6, 'text': 'P10912'}, {'charOffset': 785, 'len': 6, 'text': 'P10912'}, {'charOffset': 813, 'len': 6, 'text': 'P17706'}, {'charOffset': 821, 'len': 6, 'text': 'P18031'}, {'charOffset': 829, 'len': 6, 'text': 'P26045'}, {'charOffset': 841, 'len': 6, 'text': 'Q9HD43'}, {'charOffset': 902, 'len': 6, 'text': 'P10912'}, {'charOffset': 993, 'len': 6, 'text': 'P10912'}, {'charOffset': 1211, 'len': 6, 'text': 'P10912'}, {'charOffset': 1226, 'len': 6, 'text': 'P26045'}, {'charOffset': 1237, 'len': 6, 'text': 'P18031'}, {'charOffset': 1280, 'len': 6, 'text': 'P10912'}]   \n",
       "184     [{'charOffset': 307, 'len': 6, 'text': 'P10912'}, {'charOffset': 315, 'len': 6, 'text': 'P10912'}, {'charOffset': 367, 'len': 6, 'text': 'P17706'}, {'charOffset': 375, 'len': 6, 'text': 'P23467'}, {'charOffset': 383, 'len': 6, 'text': 'P18031'}, {'charOffset': 391, 'len': 6, 'text': 'Q9HD43'}, {'charOffset': 399, 'len': 6, 'text': 'Q9HD43'}, {'charOffset': 408, 'len': 6, 'text': 'Q16829'}, {'charOffset': 416, 'len': 6, 'text': 'P43378'}, {'charOffset': 428, 'len': 6, 'text': 'P26045'}, {'charOffset': 473, 'len': 6, 'text': 'P10912'}, {'charOffset': 586, 'len': 6, 'text': 'P10912'}, {'charOffset': 785, 'len': 6, 'text': 'P10912'}, {'charOffset': 813, 'len': 6, 'text': 'P17706'}, {'charOffset': 821, 'len': 6, 'text': 'P18031'}, {'charOffset': 829, 'len': 6, 'text': 'P26045'}, {'charOffset': 841, 'len': 6, 'text': 'Q9HD43'}, {'charOffset': 902, 'len': 6, 'text': 'P10912'}, {'charOffset': 993, 'len': 6, 'text': 'P10912'}, {'charOffset': 1211, 'len': 6, 'text': 'P10912'}, {'charOffset': 1226, 'len': 6, 'text': 'P26045'}, {'charOffset': 1237, 'len': 6, 'text': 'P18031'}, {'charOffset': 1280, 'len': 6, 'text': 'P10912'}]   \n",
       "183     [{'charOffset': 307, 'len': 6, 'text': 'P10912'}, {'charOffset': 315, 'len': 6, 'text': 'P10912'}, {'charOffset': 367, 'len': 6, 'text': 'P17706'}, {'charOffset': 375, 'len': 6, 'text': 'P23467'}, {'charOffset': 383, 'len': 6, 'text': 'P18031'}, {'charOffset': 391, 'len': 6, 'text': 'Q9HD43'}, {'charOffset': 399, 'len': 6, 'text': 'Q9HD43'}, {'charOffset': 408, 'len': 6, 'text': 'Q16829'}, {'charOffset': 416, 'len': 6, 'text': 'P43378'}, {'charOffset': 428, 'len': 6, 'text': 'P26045'}, {'charOffset': 473, 'len': 6, 'text': 'P10912'}, {'charOffset': 586, 'len': 6, 'text': 'P10912'}, {'charOffset': 785, 'len': 6, 'text': 'P10912'}, {'charOffset': 813, 'len': 6, 'text': 'P17706'}, {'charOffset': 821, 'len': 6, 'text': 'P18031'}, {'charOffset': 829, 'len': 6, 'text': 'P26045'}, {'charOffset': 841, 'len': 6, 'text': 'Q9HD43'}, {'charOffset': 902, 'len': 6, 'text': 'P10912'}, {'charOffset': 993, 'len': 6, 'text': 'P10912'}, {'charOffset': 1211, 'len': 6, 'text': 'P10912'}, {'charOffset': 1226, 'len': 6, 'text': 'P26045'}, {'charOffset': 1237, 'len': 6, 'text': 'P18031'}, {'charOffset': 1280, 'len': 6, 'text': 'P10912'}]   \n",
       "129  [{'charOffset': 157, 'len': 6, 'text': 'Q06124'}, {'charOffset': 165, 'len': 6, 'text': 'Q06124'}, {'charOffset': 370, 'len': 6, 'text': 'P31749'}, {'charOffset': 381, 'len': 6, 'text': 'P49841'}, {'charOffset': 389, 'len': 6, 'text': 'P49841'}, {'charOffset': 508, 'len': 6, 'text': 'Q06124'}, {'charOffset': 534, 'len': 6, 'text': 'P42338'}, {'charOffset': 542, 'len': 6, 'text': 'P42338'}, {'charOffset': 635, 'len': 6, 'text': 'P31749'}, {'charOffset': 646, 'len': 6, 'text': 'P49841'}, {'charOffset': 701, 'len': 6, 'text': 'Q13480'}, {'charOffset': 742, 'len': 6, 'text': 'Q13480'}, {'charOffset': 774, 'len': 6, 'text': 'P42338'}, {'charOffset': 854, 'len': 6, 'text': 'Q13480'}, {'charOffset': 861, 'len': 6, 'text': 'P42338'}, {'charOffset': 905, 'len': 6, 'text': 'P42338'}, {'charOffset': 1029, 'len': 6, 'text': 'P01160'}, {'charOffset': 1037, 'len': 6, 'text': 'P01160'}, {'charOffset': 1096, 'len': 6, 'text': 'Q06124'}, {'charOffset': 1147, 'len': 6, 'text': 'P42338'}, {'charOffset': 1154, 'len': 6, 'text': 'P31749'}, {'charOffset': 1161, 'len': 6, 'text': 'P49841'}, {'charOffset': 1197, 'len': 6, 'text': 'Q13480'}]   \n",
       "\n",
       "    participant1Id participant2Id  \\\n",
       "165         O00141         Q15118   \n",
       "175         P18031         P43378   \n",
       "184         P26045         Q9HD43   \n",
       "183         P26045         Q16829   \n",
       "129         P49841         Q06124   \n",
       "\n",
       "                                                                                                                                                                                                                                                                                                                          gene_to_uniprot_map  \\\n",
       "165                                                                                                                                                                                                                  {'5163': ['Q15118', 'B7Z7N6'], '6446': ['O00141', 'B7Z325', 'E9PR89'], '1385': ['P16220', 'Q5U0J5', 'Q53X93', 'B7Z5C6']}   \n",
       "175  {'2690': ['P10912', 'A0A087X0H5', 'A0A087X162'], '5780': ['P43378', 'Q6IQ43'], '1849': ['Q16829'], '5794': ['Q9HD43'], '5771': ['P17706', 'A8K3N4', 'D3DUJ3', 'K7EQG9', 'Q59F91'], '5774': ['P26045', 'B7Z9V1', 'B7ZA03', 'Q8N4S3', 'B7Z3V3'], '5787': ['P23467', 'F8VU56', 'Q68D73', 'Q86VA4'], '5770': ['P18031', 'B4DSN5', 'A8K3M3']}   \n",
       "184  {'2690': ['P10912', 'A0A087X0H5', 'A0A087X162'], '5780': ['P43378', 'Q6IQ43'], '1849': ['Q16829'], '5794': ['Q9HD43'], '5771': ['P17706', 'A8K3N4', 'D3DUJ3', 'K7EQG9', 'Q59F91'], '5774': ['P26045', 'B7Z9V1', 'B7ZA03', 'Q8N4S3', 'B7Z3V3'], '5787': ['P23467', 'F8VU56', 'Q68D73', 'Q86VA4'], '5770': ['P18031', 'B4DSN5', 'A8K3M3']}   \n",
       "183  {'2690': ['P10912', 'A0A087X0H5', 'A0A087X162'], '5780': ['P43378', 'Q6IQ43'], '1849': ['Q16829'], '5794': ['Q9HD43'], '5771': ['P17706', 'A8K3N4', 'D3DUJ3', 'K7EQG9', 'Q59F91'], '5774': ['P26045', 'B7Z9V1', 'B7ZA03', 'Q8N4S3', 'B7Z3V3'], '5787': ['P23467', 'F8VU56', 'Q68D73', 'Q86VA4'], '5770': ['P18031', 'B4DSN5', 'A8K3M3']}   \n",
       "129                                                                                                                                                       {'4878': ['P01160'], '2549': ['Q13480', 'Q9HA84'], '5781': ['Q06124'], '5291': ['P42338', 'B4DER4', 'B4DZI3'], '207': ['P31749', 'B0LPE5', 'B3KVH4'], '2932': ['P49841', 'Q6FI27']}   \n",
       "\n",
       "    participant1Name participant2Name  class  \n",
       "165              SGK             PDK1  other  \n",
       "175            PTP1B            Meg-2  other  \n",
       "184           PTP-H1            SAP-1  other  \n",
       "183           PTP-H1           Pyst-2  other  \n",
       "129        GSK-3beta           PTPN11  other  "
      ]
     },
     "execution_count": 99,
     "metadata": {},
     "output_type": "execute_result"
    }
   ],
   "source": [
    "val_multiclass.query(\"`class` == 'other'\" ).sample(n=5)"
   ]
  },
  {
   "cell_type": "code",
   "execution_count": 104,
   "metadata": {},
   "outputs": [
    {
     "data": {
      "text/html": [
       "<div>\n",
       "<style scoped>\n",
       "    .dataframe tbody tr th:only-of-type {\n",
       "        vertical-align: middle;\n",
       "    }\n",
       "\n",
       "    .dataframe tbody tr th {\n",
       "        vertical-align: top;\n",
       "    }\n",
       "\n",
       "    .dataframe thead th {\n",
       "        text-align: right;\n",
       "    }\n",
       "</style>\n",
       "<table border=\"1\" class=\"dataframe\">\n",
       "  <thead>\n",
       "    <tr style=\"text-align: right;\">\n",
       "      <th></th>\n",
       "      <th>pubmedId</th>\n",
       "      <th>pubmedabstract</th>\n",
       "      <th>annotations</th>\n",
       "      <th>num_unique_gene_normalised_id</th>\n",
       "      <th>num_gene_normalised_id</th>\n",
       "      <th>normalised_abstract</th>\n",
       "      <th>normalised_abstract_annotations</th>\n",
       "      <th>participant1Id</th>\n",
       "      <th>participant2Id</th>\n",
       "      <th>gene_to_uniprot_map</th>\n",
       "      <th>participant1Name</th>\n",
       "      <th>participant2Name</th>\n",
       "      <th>class</th>\n",
       "    </tr>\n",
       "  </thead>\n",
       "  <tbody>\n",
       "    <tr>\n",
       "      <th>2</th>\n",
       "      <td>18201571</td>\n",
       "      <td>MgcRacGAP, a Rho GAP essential to cytokinesis, works both as a Rho GTPase regulator and as a scaffolding protein. MgcRacGAP interacts with MKLP1 to form the centralspindlin complex and associates with the RhoGEF Ect2. The GAP activity of MgcRacGAP is regulated by Aurora B phosphorylation. We have isolated B56epsilon, a PP2A regulatory subunit, as a new MgcRacGAP partner. We report here that (i) MgcRacGAP is phosphorylated by Aurora B and Cdk1, (ii) PP2A dephosphorylates Aurora B and Cdk1 phosphorylated sites and (iii) inhibition of PP2A abrogates MgcRacGAP/Ect2 interaction. Therefore, PP2A may regulate cytokinesis by dephosphorylating MgcRacGAP and its interacting partners.</td>\n",
       "      <td>[{'start': '0', 'end': '9', 'name': 'MgcRacGAP', 'type': 'Gene', 'normalised_id': '29127'}, {'start': '114', 'end': '123', 'name': 'MgcRacGAP', 'type': 'Gene', 'normalised_id': '29127'}, {'start': '139', 'end': '144', 'name': 'MKLP1', 'type': 'Gene', 'normalised_id': '9493'}, {'start': '212', 'end': '216', 'name': 'Ect2', 'type': 'Gene', 'normalised_id': '1894'}, {'start': '238', 'end': '247', 'name': 'MgcRacGAP', 'type': 'Gene', 'normalised_id': '29127'}, {'start': '264', 'end': '272', 'name': 'Aurora B', 'type': 'Gene', 'normalised_id': '9212'}, {'start': '321', 'end': '325', 'name': 'PP2A', 'type': 'Gene', 'normalised_id': '5524'}, {'start': '355', 'end': '364', 'name': 'MgcRacGAP', 'type': 'Gene', 'normalised_id': '29127'}, {'start': '398', 'end': '407', 'name': 'MgcRacGAP', 'type': 'Gene', 'normalised_id': '29127'}, {'start': '429', 'end': '437', 'name': 'Aurora B', 'type': 'Gene', 'normalised_id': '9212'}, {'start': '442', 'end': '446', 'name': 'Cdk1', 'type': 'Gene', 'normalised_id': '983'}, {'start': '453', 'end': '457', 'name': 'PP2A', 'type': 'Gene', 'normalised_id': '5524'}, {'start': '475', 'end': '483', 'name': 'Aurora B', 'type': 'Gene', 'normalised_id': '9212'}, {'start': '488', 'end': '492', 'name': 'Cdk1', 'type': 'Gene', 'normalised_id': '983'}, {'start': '538', 'end': '542', 'name': 'PP2A', 'type': 'Gene', 'normalised_id': '5524'}, {'start': '553', 'end': '562', 'name': 'MgcRacGAP', 'type': 'Gene', 'normalised_id': '29127'}, {'start': '563', 'end': '567', 'name': 'Ect2', 'type': 'Gene', 'normalised_id': '1894'}, {'start': '592', 'end': '596', 'name': 'PP2A', 'type': 'Gene', 'normalised_id': '5524'}, {'start': '643', 'end': '652', 'name': 'MgcRacGAP', 'type': 'Gene', 'normalised_id': '29127'}]</td>\n",
       "      <td>6</td>\n",
       "      <td>19</td>\n",
       "      <td>Q9H0H5, a Rho GAP essential to cytokinesis, works both as a Rho GTPase regulator and as a scaffolding protein. Q9H0H5 interacts with Q02241 to form the centralspindlin complex and associates with the RhoGEF Q9H8V3. The GAP activity of Q9H0H5 is regulated by Q96GD4 phosphorylation. We have isolated B56epsilon, a Q15257 regulatory subunit, as a new Q9H0H5 partner. We report here that (i) Q9H0H5 is phosphorylated by Q96GD4 and P06493, (ii) Q15257 dephosphorylates Q96GD4 and P06493 phosphorylated sites and (iii) inhibition of Q15257 abrogates Q9H0H5/Q9H8V3 interaction. Therefore, Q15257 may regulate cytokinesis by dephosphorylating Q9H0H5 and its interacting partners.</td>\n",
       "      <td>[{'charOffset': 0, 'len': 6, 'text': 'Q9H0H5'}, {'charOffset': 111, 'len': 6, 'text': 'Q9H0H5'}, {'charOffset': 133, 'len': 6, 'text': 'Q02241'}, {'charOffset': 207, 'len': 6, 'text': 'Q9H8V3'}, {'charOffset': 235, 'len': 6, 'text': 'Q9H0H5'}, {'charOffset': 258, 'len': 6, 'text': 'Q96GD4'}, {'charOffset': 313, 'len': 6, 'text': 'Q15257'}, {'charOffset': 349, 'len': 6, 'text': 'Q9H0H5'}, {'charOffset': 389, 'len': 6, 'text': 'Q9H0H5'}, {'charOffset': 417, 'len': 6, 'text': 'Q96GD4'}, {'charOffset': 428, 'len': 6, 'text': 'P06493'}, {'charOffset': 441, 'len': 6, 'text': 'Q15257'}, {'charOffset': 465, 'len': 6, 'text': 'Q96GD4'}, {'charOffset': 476, 'len': 6, 'text': 'P06493'}, {'charOffset': 528, 'len': 6, 'text': 'Q15257'}, {'charOffset': 545, 'len': 6, 'text': 'Q9H0H5'}, {'charOffset': 552, 'len': 6, 'text': 'Q9H8V3'}, {'charOffset': 583, 'len': 6, 'text': 'Q15257'}, {'charOffset': 636, 'len': 6, 'text': 'Q9H0H5'}]</td>\n",
       "      <td>Q9H0H5</td>\n",
       "      <td>Q96GD4</td>\n",
       "      <td>{'5524': ['Q15257', 'B4DZF8', 'F6WIT2'], '9212': ['Q96GD4'], '983': ['P06493', 'A0A024QZJ8', 'B7Z3D6', 'I6L9I5'], '9493': ['Q02241'], '1894': ['Q9H8V3'], '29127': ['Q9H0H5', 'A0A024R136', 'B2RE34']}</td>\n",
       "      <td>MgcRacGAP</td>\n",
       "      <td>Aurora B</td>\n",
       "      <td>phosphorylation</td>\n",
       "    </tr>\n",
       "    <tr>\n",
       "      <th>28</th>\n",
       "      <td>18835089</td>\n",
       "      <td>Cell migration is fundamental for invasion and metastasis and is modulated by the reversible phosphorylation of tyrosine residues on target proteins. Here we report that the tyrosine phosphatase HD-PTP has a role in modulating the motility of T24 bladder carcinoma cells. Indeed, HD-PTP silencing by RNA interference (RNAi) markedly induced cell migration in a Src dependent fashion. We therefore investigated the interaction and the regulation of Src and HD-PTP. We found that, in Epidermal Growth Factor (EGF) stimulated cells, Src binds to and phosphorylates HD-PTP on tyrosine residues. On the contrary, HD-PTP does not modulate the levels of Src phosphorylation. Interestingly, HD-PTP also binds to FAK, another regulator of cell migration, and this interaction is inhibited after exposure to EGF. FAK phosphorylates HD-PTP and this event reduced the interactions between the two proteins. Interestingly, in cells silencing HD-PTP the phosphorylation of FAK is enhanced and this correlates with its localization in focal complexes both in the presence and in the absence of EGF. We hypothesize that in unstimulated T24 cells HD-PTP does not interact with Src, while it binds to FAK. Following stimulation with EGF, HD-PTP is tyrosine-phosphorylated and releases FAK which will ultimately contribute to the turn-over of focal adhesion and, therefore, to cell motility.</td>\n",
       "      <td>[{'start': '195', 'end': '201', 'name': 'HD-PTP', 'type': 'Gene', 'normalised_id': '25930'}, {'start': '243', 'end': '246', 'name': 'T24', 'type': 'Species', 'normalised_id': '9606'}, {'start': '280', 'end': '286', 'name': 'HD-PTP', 'type': 'Gene', 'normalised_id': '25930'}, {'start': '361', 'end': '364', 'name': 'Src', 'type': 'Gene', 'normalised_id': '6714'}, {'start': '448', 'end': '451', 'name': 'Src', 'type': 'Gene', 'normalised_id': '6714'}, {'start': '456', 'end': '462', 'name': 'HD-PTP', 'type': 'Gene', 'normalised_id': '25930'}, {'start': '530', 'end': '533', 'name': 'Src', 'type': 'Gene', 'normalised_id': '6714'}, {'start': '562', 'end': '568', 'name': 'HD-PTP', 'type': 'Gene', 'normalised_id': '25930'}, {'start': '608', 'end': '614', 'name': 'HD-PTP', 'type': 'Gene', 'normalised_id': '25930'}, {'start': '647', 'end': '650', 'name': 'Src', 'type': 'Gene', 'normalised_id': '6714'}, {'start': '683', 'end': '689', 'name': 'HD-PTP', 'type': 'Gene', 'normalised_id': '25930'}, {'start': '704', 'end': '707', 'name': 'FAK', 'type': 'Gene', 'normalised_id': '5747'}, {'start': '704', 'end': '707', 'name': 'FAK', 'type': 'Species', 'normalised_id': '10090'}, {'start': '803', 'end': '806', 'name': 'FAK', 'type': 'Gene', 'normalised_id': '5747'}, {'start': '822', 'end': '828', 'name': 'HD-PTP', 'type': 'Gene', 'normalised_id': '25930'}, {'start': '929', 'end': '935', 'name': 'HD-PTP', 'type': 'Gene', 'normalised_id': '25930'}, {'start': '959', 'end': '962', 'name': 'FAK', 'type': 'Gene', 'normalised_id': '5747'}, {'start': '1120', 'end': '1123', 'name': 'T24', 'type': 'Species', 'normalised_id': '9606'}, {'start': '1130', 'end': '1136', 'name': 'HD-PTP', 'type': 'Gene', 'normalised_id': '25930'}, {'start': '1160', 'end': '1163', 'name': 'Src', 'type': 'Gene', 'normalised_id': '6714'}, {'start': '1183', 'end': '1186', 'name': 'FAK', 'type': 'Gene', 'normalised_id': '5747'}, {'start': '1220', 'end': '1226', 'name': 'HD-PTP', 'type': 'Gene', 'normalised_id': '25930'}, {'start': '1267', 'end': '1270', 'name': 'FAK', 'type': 'Gene', 'normalised_id': '5747'}]</td>\n",
       "      <td>3</td>\n",
       "      <td>20</td>\n",
       "      <td>Cell migration is fundamental for invasion and metastasis and is modulated by the reversible phosphorylation of tyrosine residues on target proteins. Here we report that the tyrosine phosphatase Q9H3S7 has a role in modulating the motility of T24 bladder carcinoma cells. Indeed, Q9H3S7 silencing by RNA interference (RNAi) markedly induced cell migration in a P12931 dependent fashion. We therefore investigated the interaction and the regulation of P12931 and Q9H3S7. We found that, in Epidermal Growth Factor (EGF) stimulated cells, P12931 binds to and phosphorylates Q9H3S7 on tyrosine residues. On the contrary, Q9H3S7 does not modulate the levels of P12931 phosphorylation. Interestingly, Q9H3S7 also binds to Q05397, another regulator of cell migration, and this interaction is inhibited after exposure to EGF. Q05397 phosphorylates Q9H3S7 and this event reduced the interactions between the two proteins. Interestingly, in cells silencing Q9H3S7 the phosphorylation of Q05397 is enhanced and this correlates with its localization in focal complexes both in the presence and in the absence of EGF. We hypothesize that in unstimulated T24 cells Q9H3S7 does not interact with P12931, while it binds to Q05397. Following stimulation with EGF, Q9H3S7 is tyrosine-phosphorylated and releases Q05397 which will ultimately contribute to the turn-over of focal adhesion and, therefore, to cell motility.</td>\n",
       "      <td>[{'charOffset': 195, 'len': 6, 'text': 'Q9H3S7'}, {'charOffset': 280, 'len': 6, 'text': 'Q9H3S7'}, {'charOffset': 361, 'len': 6, 'text': 'P12931'}, {'charOffset': 451, 'len': 6, 'text': 'P12931'}, {'charOffset': 462, 'len': 6, 'text': 'Q9H3S7'}, {'charOffset': 536, 'len': 6, 'text': 'P12931'}, {'charOffset': 571, 'len': 6, 'text': 'Q9H3S7'}, {'charOffset': 617, 'len': 6, 'text': 'Q9H3S7'}, {'charOffset': 656, 'len': 6, 'text': 'P12931'}, {'charOffset': 695, 'len': 6, 'text': 'Q9H3S7'}, {'charOffset': 716, 'len': 6, 'text': 'Q05397'}, {'charOffset': 818, 'len': 6, 'text': 'Q05397'}, {'charOffset': 840, 'len': 6, 'text': 'Q9H3S7'}, {'charOffset': 947, 'len': 6, 'text': 'Q9H3S7'}, {'charOffset': 977, 'len': 6, 'text': 'Q05397'}, {'charOffset': 1151, 'len': 6, 'text': 'Q9H3S7'}, {'charOffset': 1181, 'len': 6, 'text': 'P12931'}, {'charOffset': 1207, 'len': 6, 'text': 'Q05397'}, {'charOffset': 1247, 'len': 6, 'text': 'Q9H3S7'}, {'charOffset': 1294, 'len': 6, 'text': 'Q05397'}]</td>\n",
       "      <td>Q05397</td>\n",
       "      <td>Q9H3S7</td>\n",
       "      <td>{'5747': ['Q05397', 'Q658W2', 'Q59GN8', 'Q59GM6'], '25930': ['Q9H3S7', 'B4DST5'], '6714': ['P12931']}</td>\n",
       "      <td>FAK</td>\n",
       "      <td>HD-PTP</td>\n",
       "      <td>phosphorylation</td>\n",
       "    </tr>\n",
       "    <tr>\n",
       "      <th>29</th>\n",
       "      <td>11970898</td>\n",
       "      <td>Mice lacking the protein-tyrosine phosphatase PTP1B are hypersensitive to insulin and resistant to obesity. However, the molecular basis for resistance to obesity has been unclear. Here we show that PTP1B regulates leptin signaling. In transfection studies, PTP1B dephosphorylates the leptin receptor-associated kinase, Jak2. PTP1B is expressed in hypothalamic regions harboring leptin-responsive neurons. Compared to wild-type littermates, PTP1B(-/-) mice have decreased leptin/body fat ratios, leptin hypersensitivity, and enhanced leptin-induced hypothalamic Stat3 tyrosyl phosphorylation. Gold thioglucose treatment, which ablates leptin-responsive hypothalamic neurons, partially overcomes resistance to obesity in PTP1B(-/-) mice. Our data indicate that PTP1B regulates leptin signaling in vivo, likely by targeting Jak2. PTP1B may be a novel target to treat leptin resistance in obesity.</td>\n",
       "      <td>[{'start': '0', 'end': '4', 'name': 'Mice', 'type': 'Species', 'normalised_id': '10090'}, {'start': '46', 'end': '51', 'name': 'PTP1B', 'type': 'Gene', 'normalised_id': '5770'}, {'start': '199', 'end': '204', 'name': 'PTP1B', 'type': 'Gene', 'normalised_id': '5770'}, {'start': '258', 'end': '263', 'name': 'PTP1B', 'type': 'Gene', 'normalised_id': '5770'}, {'start': '320', 'end': '324', 'name': 'Jak2', 'type': 'Gene', 'normalised_id': '3717'}, {'start': '326', 'end': '331', 'name': 'PTP1B', 'type': 'Gene', 'normalised_id': '5770'}, {'start': '441', 'end': '446', 'name': 'PTP1B', 'type': 'Gene', 'normalised_id': '5770'}, {'start': '452', 'end': '456', 'name': 'mice', 'type': 'Species', 'normalised_id': '10090'}, {'start': '562', 'end': '567', 'name': 'Stat3', 'type': 'Gene', 'normalised_id': '6774'}, {'start': '720', 'end': '725', 'name': 'PTP1B', 'type': 'Gene', 'normalised_id': '5770'}, {'start': '731', 'end': '735', 'name': 'mice', 'type': 'Species', 'normalised_id': '10090'}, {'start': '760', 'end': '765', 'name': 'PTP1B', 'type': 'Gene', 'normalised_id': '5770'}, {'start': '822', 'end': '826', 'name': 'Jak2', 'type': 'Gene', 'normalised_id': '3717'}, {'start': '828', 'end': '833', 'name': 'PTP1B', 'type': 'Gene', 'normalised_id': '5770'}]</td>\n",
       "      <td>3</td>\n",
       "      <td>11</td>\n",
       "      <td>Mice lacking the protein-tyrosine phosphatase P18031 are hypersensitive to insulin and resistant to obesity. However, the molecular basis for resistance to obesity has been unclear. Here we show that P18031 regulates leptin signaling. In transfection studies, P18031 dephosphorylates the leptin receptor-associated kinase, O60674. P18031 is expressed in hypothalamic regions harboring leptin-responsive neurons. Compared to wild-type littermates, P18031(-/-) mice have decreased leptin/body fat ratios, leptin hypersensitivity, and enhanced leptin-induced hypothalamic P40763 tyrosyl phosphorylation. Gold thioglucose treatment, which ablates leptin-responsive hypothalamic neurons, partially overcomes resistance to obesity in P18031(-/-) mice. Our data indicate that P18031 regulates leptin signaling in vivo, likely by targeting O60674. P18031 may be a novel target to treat leptin resistance in obesity.</td>\n",
       "      <td>[{'charOffset': 46, 'len': 6, 'text': 'P18031'}, {'charOffset': 200, 'len': 6, 'text': 'P18031'}, {'charOffset': 260, 'len': 6, 'text': 'P18031'}, {'charOffset': 323, 'len': 6, 'text': 'O60674'}, {'charOffset': 331, 'len': 6, 'text': 'P18031'}, {'charOffset': 447, 'len': 6, 'text': 'P18031'}, {'charOffset': 569, 'len': 6, 'text': 'P40763'}, {'charOffset': 728, 'len': 6, 'text': 'P18031'}, {'charOffset': 769, 'len': 6, 'text': 'P18031'}, {'charOffset': 832, 'len': 6, 'text': 'O60674'}, {'charOffset': 840, 'len': 6, 'text': 'P18031'}]</td>\n",
       "      <td>O60674</td>\n",
       "      <td>P18031</td>\n",
       "      <td>{'6774': ['P40763'], '5770': ['P18031', 'B4DSN5', 'A8K3M3'], '3717': ['O60674', 'B4DYV1', 'A8K910']}</td>\n",
       "      <td>Jak2</td>\n",
       "      <td>PTP1B</td>\n",
       "      <td>dephosphorylation</td>\n",
       "    </tr>\n",
       "    <tr>\n",
       "      <th>33</th>\n",
       "      <td>24548923</td>\n",
       "      <td>Previous studies from our group and others have shown that the Akt kinase can contribute to induction of NF-κB by antigen receptor signaling. However, the direct targets of Akt in this pathway are not known. Here we show that Akt-mediated NF-κB activation is mediated at least in part through direct phosphorylation of the adaptor protein Carma1, which we previously demonstrated could interact with Akt in a TCR ligation-dependent manner. The putative Akt phosphorylation sites in Carma1 are distinct from known PKC consensus sites. Mutation of S551, S637 and S645 in Carma1 to non-phosphorylatable residues decreased phosphorylation of GST-Carma1-linker construct by Akt in vitro. In addition, Carma1 S637A/S645A mutants were significantly impaired in their ability to restore TCR-mediated NF-κB activation and IL-2 expression in Carma1-deficient T cells. Thus, our data reveal Carma1 as a novel target for Akt phosphorylation and suggest that Akt-mediated phosphorylation of Carma1 is an additional regulatory mechanism tuning the NF-κB response downstream of antigen receptor and co-stimulatory signaling.</td>\n",
       "      <td>[{'start': '63', 'end': '66', 'name': 'Akt', 'type': 'Gene', 'normalised_id': '207'}, {'start': '172', 'end': '175', 'name': 'Akt', 'type': 'Gene', 'normalised_id': '207'}, {'start': '225', 'end': '228', 'name': 'Akt', 'type': 'Gene', 'normalised_id': '207'}, {'start': '337', 'end': '343', 'name': 'Carma1', 'type': 'Gene', 'normalised_id': '84433'}, {'start': '398', 'end': '401', 'name': 'Akt', 'type': 'Gene', 'normalised_id': '207'}, {'start': '451', 'end': '454', 'name': 'Akt', 'type': 'Gene', 'normalised_id': '207'}, {'start': '480', 'end': '486', 'name': 'Carma1', 'type': 'Gene', 'normalised_id': '84433'}, {'start': '567', 'end': '573', 'name': 'Carma1', 'type': 'Gene', 'normalised_id': '84433'}, {'start': '640', 'end': '646', 'name': 'Carma1', 'type': 'Gene', 'normalised_id': '84433'}, {'start': '667', 'end': '670', 'name': 'Akt', 'type': 'Gene', 'normalised_id': '207'}, {'start': '694', 'end': '700', 'name': 'Carma1', 'type': 'Gene', 'normalised_id': '84433'}, {'start': '810', 'end': '814', 'name': 'IL-2', 'type': 'Gene', 'normalised_id': '3558'}, {'start': '829', 'end': '835', 'name': 'Carma1', 'type': 'Gene', 'normalised_id': '84433'}, {'start': '877', 'end': '883', 'name': 'Carma1', 'type': 'Gene', 'normalised_id': '84433'}, {'start': '906', 'end': '909', 'name': 'Akt', 'type': 'Gene', 'normalised_id': '207'}, {'start': '943', 'end': '946', 'name': 'Akt', 'type': 'Gene', 'normalised_id': '207'}, {'start': '975', 'end': '981', 'name': 'Carma1', 'type': 'Gene', 'normalised_id': '84433'}]</td>\n",
       "      <td>3</td>\n",
       "      <td>17</td>\n",
       "      <td>Previous studies from our group and others have shown that the P31749 kinase can contribute to induction of NF-B by antigen receptor signaling. However, the direct targets of P31749 in this pathway are not known. Here we show that P31749-mediated NF-B activation is mediated at least in part through direct phosphorylation of the adaptor protein Q9BXL7, which we previously demonstrated could interact with P31749 in a TCR ligation-dependent manner. The putative P31749 phosphorylation sites in Q9BXL7 are distinct from known PKC consensus sites. Mutation of S551, S637 and S645 in Q9BXL7 to non-phosphorylatable residues decreased phosphorylation of GST-Q9BXL7-linker construct by P31749 in vitro. In addition, Q9BXL7 S637A/S645A mutants were significantly impaired in their ability to restore TCR-mediated NF-B activation and P60568 expression in Q9BXL7-deficient T cells. Thus, our data reveal Q9BXL7 as a novel target for P31749 phosphorylation and suggest that P31749-mediated phosphorylation of Q9BXL7 is an additional regulatory mechanism tuning the NF-B response downstream of antigen receptor and co-stimulatory signaling.</td>\n",
       "      <td>[{'charOffset': 63, 'len': 6, 'text': 'P31749'}, {'charOffset': 175, 'len': 6, 'text': 'P31749'}, {'charOffset': 231, 'len': 6, 'text': 'P31749'}, {'charOffset': 346, 'len': 6, 'text': 'Q9BXL7'}, {'charOffset': 407, 'len': 6, 'text': 'P31749'}, {'charOffset': 463, 'len': 6, 'text': 'P31749'}, {'charOffset': 495, 'len': 6, 'text': 'Q9BXL7'}, {'charOffset': 582, 'len': 6, 'text': 'Q9BXL7'}, {'charOffset': 655, 'len': 6, 'text': 'Q9BXL7'}, {'charOffset': 682, 'len': 6, 'text': 'P31749'}, {'charOffset': 712, 'len': 6, 'text': 'Q9BXL7'}, {'charOffset': 828, 'len': 6, 'text': 'P60568'}, {'charOffset': 849, 'len': 6, 'text': 'Q9BXL7'}, {'charOffset': 897, 'len': 6, 'text': 'Q9BXL7'}, {'charOffset': 926, 'len': 6, 'text': 'P31749'}, {'charOffset': 966, 'len': 6, 'text': 'P31749'}, {'charOffset': 1001, 'len': 6, 'text': 'Q9BXL7'}]</td>\n",
       "      <td>Q9BXL7</td>\n",
       "      <td>P31749</td>\n",
       "      <td>{'207': ['P31749', 'B0LPE5', 'B3KVH4'], '84433': ['Q9BXL7', 'A0A024R854', 'Q8TES3'], '3558': ['P60568', 'Q0GK43']}</td>\n",
       "      <td>Carma1</td>\n",
       "      <td>Akt</td>\n",
       "      <td>phosphorylation</td>\n",
       "    </tr>\n",
       "    <tr>\n",
       "      <th>14</th>\n",
       "      <td>16286470</td>\n",
       "      <td>The dual-specificity MAPK phosphatase MKP-1/CL100/DUSP1 is an inducible nuclear protein controlled by p44/42 MAPK (ERK1/2) in a negative feedback mechanism to inhibit kinase activity. Here, we report on the molecular basis for a novel positive feedback mechanism to sustain ERK activation by triggering MKP-1 proteolysis. Active ERK2 docking to the DEF motif (FXFP, residues 339-342) of N-terminally truncated MKP-1 in vitro initiated phosphorylation at the Ser(296)/Ser(323) domain, which was not affected by substituting Ala for Ser at Ser(359)/Ser(364). The DEF and Ser(296)/Ser(323) sites were essential for ubiquitin-mediated MKP-1 proteolysis stimulated by MKK1-ERK signaling in H293 cells, whereas the N-terminal domain and Ser(359)/Ser(364) sites were dispensable. ERK activation by serum increased the endogenous level of ubiquitinated phospho-Ser(296) MKP-1 and the degradation of MKP-1. Intriguingly, active ERK-promoted phospho-Ser(296) MKP-1 bound to SCF(Skp2) ubiquitin ligase in vivo and in vitro. Forced expression of Skp2 enhanced MKP-1 polyubiquitination and proteolysis upon ERK activation, whereas depletion of endogenous Skp2 suppressed such events. The kinetics of ERK signaling stimulated by serum correlated with the endogenous MKP-1 degradation rate in a Skp2-dependent manner. Thus, MKP-1 proteolysis can be achieved via ERK and SCF(Skp2) cooperation, thereby sustaining ERK activation.</td>\n",
       "      <td>[{'start': '38', 'end': '43', 'name': 'MKP-1', 'type': 'Gene', 'normalised_id': '1843'}, {'start': '44', 'end': '49', 'name': 'CL100', 'type': 'Gene', 'normalised_id': '1843'}, {'start': '50', 'end': '55', 'name': 'DUSP1', 'type': 'Gene', 'normalised_id': '1843'}, {'start': '102', 'end': '105', 'name': 'p44', 'type': 'Gene', 'normalised_id': '10561'}, {'start': '115', 'end': '121', 'name': 'ERK1/2', 'type': 'Gene', 'normalised_id': '5595;5594'}, {'start': '303', 'end': '308', 'name': 'MKP-1', 'type': 'Gene', 'normalised_id': '1843'}, {'start': '329', 'end': '333', 'name': 'ERK2', 'type': 'Gene', 'normalised_id': '5594'}, {'start': '410', 'end': '415', 'name': 'MKP-1', 'type': 'Gene', 'normalised_id': '1843'}, {'start': '631', 'end': '636', 'name': 'MKP-1', 'type': 'Gene', 'normalised_id': '1843'}, {'start': '663', 'end': '667', 'name': 'MKK1', 'type': 'Gene', 'normalised_id': '5604'}, {'start': '862', 'end': '867', 'name': 'MKP-1', 'type': 'Gene', 'normalised_id': '1843'}, {'start': '891', 'end': '896', 'name': 'MKP-1', 'type': 'Gene', 'normalised_id': '1843'}, {'start': '949', 'end': '954', 'name': 'MKP-1', 'type': 'Gene', 'normalised_id': '1843'}, {'start': '964', 'end': '967', 'name': 'SCF', 'type': 'Gene', 'normalised_id': '4254'}, {'start': '968', 'end': '972', 'name': 'Skp2', 'type': 'Gene', 'normalised_id': '6502'}, {'start': '1034', 'end': '1038', 'name': 'Skp2', 'type': 'Gene', 'normalised_id': '6502'}, {'start': '1048', 'end': '1053', 'name': 'MKP-1', 'type': 'Gene', 'normalised_id': '1843'}, {'start': '1142', 'end': '1146', 'name': 'Skp2', 'type': 'Gene', 'normalised_id': '6502'}, {'start': '1252', 'end': '1257', 'name': 'MKP-1', 'type': 'Gene', 'normalised_id': '1843'}, {'start': '1280', 'end': '1284', 'name': 'Skp2', 'type': 'Gene', 'normalised_id': '6502'}, {'start': '1309', 'end': '1314', 'name': 'MKP-1', 'type': 'Gene', 'normalised_id': '1843'}, {'start': '1355', 'end': '1358', 'name': 'SCF', 'type': 'Gene', 'normalised_id': '4254'}, {'start': '1359', 'end': '1363', 'name': 'Skp2', 'type': 'Gene', 'normalised_id': '6502'}]</td>\n",
       "      <td>7</td>\n",
       "      <td>23</td>\n",
       "      <td>The dual-specificity MAPK phosphatase P28562/P28562/P28562 is an inducible nuclear protein controlled by Q8TCB0/42 MAPK (5595;5594) in a negative feedback mechanism to inhibit kinase activity. Here, we report on the molecular basis for a novel positive feedback mechanism to sustain ERK activation by triggering P28562 proteolysis. Active P28482 docking to the DEF motif (FXFP, residues 339-342) of N-terminally truncated P28562 in vitro initiated phosphorylation at the Ser(296)/Ser(323) domain, which was not affected by substituting Ala for Ser at Ser(359)/Ser(364). The DEF and Ser(296)/Ser(323) sites were essential for ubiquitin-mediated P28562 proteolysis stimulated by Q02750-ERK signaling in H293 cells, whereas the N-terminal domain and Ser(359)/Ser(364) sites were dispensable. ERK activation by serum increased the endogenous level of ubiquitinated phospho-Ser(296) P28562 and the degradation of P28562. Intriguingly, active ERK-promoted phospho-Ser(296) P28562 bound to P21583(Q13309) ubiquitin ligase in vivo and in vitro. Forced expression of Q13309 enhanced P28562 polyubiquitination and proteolysis upon ERK activation, whereas depletion of endogenous Q13309 suppressed such events. The kinetics of ERK signaling stimulated by serum correlated with the endogenous P28562 degradation rate in a Q13309-dependent manner. Thus, P28562 proteolysis can be achieved via ERK and P21583(Q13309) cooperation, thereby sustaining ERK activation.</td>\n",
       "      <td>[{'charOffset': 38, 'len': 6, 'text': 'P28562'}, {'charOffset': 45, 'len': 6, 'text': 'P28562'}, {'charOffset': 52, 'len': 6, 'text': 'P28562'}, {'charOffset': 105, 'len': 6, 'text': 'Q8TCB0'}, {'charOffset': 121, 'len': 9, 'text': '5595;5594'}, {'charOffset': 312, 'len': 6, 'text': 'P28562'}, {'charOffset': 339, 'len': 6, 'text': 'P28482'}, {'charOffset': 422, 'len': 6, 'text': 'P28562'}, {'charOffset': 644, 'len': 6, 'text': 'P28562'}, {'charOffset': 677, 'len': 6, 'text': 'Q02750'}, {'charOffset': 878, 'len': 6, 'text': 'P28562'}, {'charOffset': 908, 'len': 6, 'text': 'P28562'}, {'charOffset': 967, 'len': 6, 'text': 'P28562'}, {'charOffset': 983, 'len': 6, 'text': 'P21583'}, {'charOffset': 990, 'len': 6, 'text': 'Q13309'}, {'charOffset': 1058, 'len': 6, 'text': 'Q13309'}, {'charOffset': 1074, 'len': 6, 'text': 'P28562'}, {'charOffset': 1169, 'len': 6, 'text': 'Q13309'}, {'charOffset': 1281, 'len': 6, 'text': 'P28562'}, {'charOffset': 1310, 'len': 6, 'text': 'Q13309'}, {'charOffset': 1341, 'len': 6, 'text': 'P28562'}, {'charOffset': 1388, 'len': 6, 'text': 'P21583'}, {'charOffset': 1395, 'len': 6, 'text': 'Q13309'}]</td>\n",
       "      <td>P28562</td>\n",
       "      <td>P28482</td>\n",
       "      <td>{'1843': ['P28562', 'B4DU40'], '10561': ['Q8TCB0'], '5594': ['P28482', 'Q1HBJ4', 'Q499G7'], '4254': ['P21583', 'A0A024RBC0', 'A0A024RBF5'], '5595;5594': [], '6502': ['Q13309', 'A0A024R069'], '5604': ['Q02750', 'A4QPA9', 'B4DFY5', 'H3BRW9']}</td>\n",
       "      <td>MKP-1</td>\n",
       "      <td>ERK2</td>\n",
       "      <td>phosphorylation</td>\n",
       "    </tr>\n",
       "  </tbody>\n",
       "</table>\n",
       "</div>"
      ],
      "text/plain": [
       "    pubmedId  \\\n",
       "2   18201571   \n",
       "28  18835089   \n",
       "29  11970898   \n",
       "33  24548923   \n",
       "14  16286470   \n",
       "\n",
       "                                                                                                                                                                                                                                                                                                                                                                                                                                                                                                                                                                                                                                                                                                                                                                                                                                                                                                                                                                                                                                                                                                                                                                                                                                                                                                                                                                                                                                                          pubmedabstract  \\\n",
       "2                                                                                                                                                                                                                                                                                                                                                                                                                                                                                                                                                                                                                                                                                                                                                             MgcRacGAP, a Rho GAP essential to cytokinesis, works both as a Rho GTPase regulator and as a scaffolding protein. MgcRacGAP interacts with MKLP1 to form the centralspindlin complex and associates with the RhoGEF Ect2. The GAP activity of MgcRacGAP is regulated by Aurora B phosphorylation. We have isolated B56epsilon, a PP2A regulatory subunit, as a new MgcRacGAP partner. We report here that (i) MgcRacGAP is phosphorylated by Aurora B and Cdk1, (ii) PP2A dephosphorylates Aurora B and Cdk1 phosphorylated sites and (iii) inhibition of PP2A abrogates MgcRacGAP/Ect2 interaction. Therefore, PP2A may regulate cytokinesis by dephosphorylating MgcRacGAP and its interacting partners.   \n",
       "28                                          Cell migration is fundamental for invasion and metastasis and is modulated by the reversible phosphorylation of tyrosine residues on target proteins. Here we report that the tyrosine phosphatase HD-PTP has a role in modulating the motility of T24 bladder carcinoma cells. Indeed, HD-PTP silencing by RNA interference (RNAi) markedly induced cell migration in a Src dependent fashion. We therefore investigated the interaction and the regulation of Src and HD-PTP. We found that, in Epidermal Growth Factor (EGF) stimulated cells, Src binds to and phosphorylates HD-PTP on tyrosine residues. On the contrary, HD-PTP does not modulate the levels of Src phosphorylation. Interestingly, HD-PTP also binds to FAK, another regulator of cell migration, and this interaction is inhibited after exposure to EGF. FAK phosphorylates HD-PTP and this event reduced the interactions between the two proteins. Interestingly, in cells silencing HD-PTP the phosphorylation of FAK is enhanced and this correlates with its localization in focal complexes both in the presence and in the absence of EGF. We hypothesize that in unstimulated T24 cells HD-PTP does not interact with Src, while it binds to FAK. Following stimulation with EGF, HD-PTP is tyrosine-phosphorylated and releases FAK which will ultimately contribute to the turn-over of focal adhesion and, therefore, to cell motility.   \n",
       "29                                                                                                                                                                                                                                                                                                                                                                                                                                                                                                                                        Mice lacking the protein-tyrosine phosphatase PTP1B are hypersensitive to insulin and resistant to obesity. However, the molecular basis for resistance to obesity has been unclear. Here we show that PTP1B regulates leptin signaling. In transfection studies, PTP1B dephosphorylates the leptin receptor-associated kinase, Jak2. PTP1B is expressed in hypothalamic regions harboring leptin-responsive neurons. Compared to wild-type littermates, PTP1B(-/-) mice have decreased leptin/body fat ratios, leptin hypersensitivity, and enhanced leptin-induced hypothalamic Stat3 tyrosyl phosphorylation. Gold thioglucose treatment, which ablates leptin-responsive hypothalamic neurons, partially overcomes resistance to obesity in PTP1B(-/-) mice. Our data indicate that PTP1B regulates leptin signaling in vivo, likely by targeting Jak2. PTP1B may be a novel target to treat leptin resistance in obesity.   \n",
       "33                                                                                                                                                                                                                                                                                                                 Previous studies from our group and others have shown that the Akt kinase can contribute to induction of NF-κB by antigen receptor signaling. However, the direct targets of Akt in this pathway are not known. Here we show that Akt-mediated NF-κB activation is mediated at least in part through direct phosphorylation of the adaptor protein Carma1, which we previously demonstrated could interact with Akt in a TCR ligation-dependent manner. The putative Akt phosphorylation sites in Carma1 are distinct from known PKC consensus sites. Mutation of S551, S637 and S645 in Carma1 to non-phosphorylatable residues decreased phosphorylation of GST-Carma1-linker construct by Akt in vitro. In addition, Carma1 S637A/S645A mutants were significantly impaired in their ability to restore TCR-mediated NF-κB activation and IL-2 expression in Carma1-deficient T cells. Thus, our data reveal Carma1 as a novel target for Akt phosphorylation and suggest that Akt-mediated phosphorylation of Carma1 is an additional regulatory mechanism tuning the NF-κB response downstream of antigen receptor and co-stimulatory signaling.   \n",
       "14  The dual-specificity MAPK phosphatase MKP-1/CL100/DUSP1 is an inducible nuclear protein controlled by p44/42 MAPK (ERK1/2) in a negative feedback mechanism to inhibit kinase activity. Here, we report on the molecular basis for a novel positive feedback mechanism to sustain ERK activation by triggering MKP-1 proteolysis. Active ERK2 docking to the DEF motif (FXFP, residues 339-342) of N-terminally truncated MKP-1 in vitro initiated phosphorylation at the Ser(296)/Ser(323) domain, which was not affected by substituting Ala for Ser at Ser(359)/Ser(364). The DEF and Ser(296)/Ser(323) sites were essential for ubiquitin-mediated MKP-1 proteolysis stimulated by MKK1-ERK signaling in H293 cells, whereas the N-terminal domain and Ser(359)/Ser(364) sites were dispensable. ERK activation by serum increased the endogenous level of ubiquitinated phospho-Ser(296) MKP-1 and the degradation of MKP-1. Intriguingly, active ERK-promoted phospho-Ser(296) MKP-1 bound to SCF(Skp2) ubiquitin ligase in vivo and in vitro. Forced expression of Skp2 enhanced MKP-1 polyubiquitination and proteolysis upon ERK activation, whereas depletion of endogenous Skp2 suppressed such events. The kinetics of ERK signaling stimulated by serum correlated with the endogenous MKP-1 degradation rate in a Skp2-dependent manner. Thus, MKP-1 proteolysis can be achieved via ERK and SCF(Skp2) cooperation, thereby sustaining ERK activation.   \n",
       "\n",
       "                                                                                                                                                                                                                                                                                                                                                                                                                                                                                                                                                                                                                                                                                                                                                                                                                                                                                                                                                                                                                                                                                                                                                                                                                                                                                                                                                                                                                                                                                                                                                                                                                                                                                                                                                                                                                                                                                                                                                                                                                                                                                                                                                               annotations  \\\n",
       "2                                                                                                                                                                                                                                                                                                                                                             [{'start': '0', 'end': '9', 'name': 'MgcRacGAP', 'type': 'Gene', 'normalised_id': '29127'}, {'start': '114', 'end': '123', 'name': 'MgcRacGAP', 'type': 'Gene', 'normalised_id': '29127'}, {'start': '139', 'end': '144', 'name': 'MKLP1', 'type': 'Gene', 'normalised_id': '9493'}, {'start': '212', 'end': '216', 'name': 'Ect2', 'type': 'Gene', 'normalised_id': '1894'}, {'start': '238', 'end': '247', 'name': 'MgcRacGAP', 'type': 'Gene', 'normalised_id': '29127'}, {'start': '264', 'end': '272', 'name': 'Aurora B', 'type': 'Gene', 'normalised_id': '9212'}, {'start': '321', 'end': '325', 'name': 'PP2A', 'type': 'Gene', 'normalised_id': '5524'}, {'start': '355', 'end': '364', 'name': 'MgcRacGAP', 'type': 'Gene', 'normalised_id': '29127'}, {'start': '398', 'end': '407', 'name': 'MgcRacGAP', 'type': 'Gene', 'normalised_id': '29127'}, {'start': '429', 'end': '437', 'name': 'Aurora B', 'type': 'Gene', 'normalised_id': '9212'}, {'start': '442', 'end': '446', 'name': 'Cdk1', 'type': 'Gene', 'normalised_id': '983'}, {'start': '453', 'end': '457', 'name': 'PP2A', 'type': 'Gene', 'normalised_id': '5524'}, {'start': '475', 'end': '483', 'name': 'Aurora B', 'type': 'Gene', 'normalised_id': '9212'}, {'start': '488', 'end': '492', 'name': 'Cdk1', 'type': 'Gene', 'normalised_id': '983'}, {'start': '538', 'end': '542', 'name': 'PP2A', 'type': 'Gene', 'normalised_id': '5524'}, {'start': '553', 'end': '562', 'name': 'MgcRacGAP', 'type': 'Gene', 'normalised_id': '29127'}, {'start': '563', 'end': '567', 'name': 'Ect2', 'type': 'Gene', 'normalised_id': '1894'}, {'start': '592', 'end': '596', 'name': 'PP2A', 'type': 'Gene', 'normalised_id': '5524'}, {'start': '643', 'end': '652', 'name': 'MgcRacGAP', 'type': 'Gene', 'normalised_id': '29127'}]   \n",
       "28  [{'start': '195', 'end': '201', 'name': 'HD-PTP', 'type': 'Gene', 'normalised_id': '25930'}, {'start': '243', 'end': '246', 'name': 'T24', 'type': 'Species', 'normalised_id': '9606'}, {'start': '280', 'end': '286', 'name': 'HD-PTP', 'type': 'Gene', 'normalised_id': '25930'}, {'start': '361', 'end': '364', 'name': 'Src', 'type': 'Gene', 'normalised_id': '6714'}, {'start': '448', 'end': '451', 'name': 'Src', 'type': 'Gene', 'normalised_id': '6714'}, {'start': '456', 'end': '462', 'name': 'HD-PTP', 'type': 'Gene', 'normalised_id': '25930'}, {'start': '530', 'end': '533', 'name': 'Src', 'type': 'Gene', 'normalised_id': '6714'}, {'start': '562', 'end': '568', 'name': 'HD-PTP', 'type': 'Gene', 'normalised_id': '25930'}, {'start': '608', 'end': '614', 'name': 'HD-PTP', 'type': 'Gene', 'normalised_id': '25930'}, {'start': '647', 'end': '650', 'name': 'Src', 'type': 'Gene', 'normalised_id': '6714'}, {'start': '683', 'end': '689', 'name': 'HD-PTP', 'type': 'Gene', 'normalised_id': '25930'}, {'start': '704', 'end': '707', 'name': 'FAK', 'type': 'Gene', 'normalised_id': '5747'}, {'start': '704', 'end': '707', 'name': 'FAK', 'type': 'Species', 'normalised_id': '10090'}, {'start': '803', 'end': '806', 'name': 'FAK', 'type': 'Gene', 'normalised_id': '5747'}, {'start': '822', 'end': '828', 'name': 'HD-PTP', 'type': 'Gene', 'normalised_id': '25930'}, {'start': '929', 'end': '935', 'name': 'HD-PTP', 'type': 'Gene', 'normalised_id': '25930'}, {'start': '959', 'end': '962', 'name': 'FAK', 'type': 'Gene', 'normalised_id': '5747'}, {'start': '1120', 'end': '1123', 'name': 'T24', 'type': 'Species', 'normalised_id': '9606'}, {'start': '1130', 'end': '1136', 'name': 'HD-PTP', 'type': 'Gene', 'normalised_id': '25930'}, {'start': '1160', 'end': '1163', 'name': 'Src', 'type': 'Gene', 'normalised_id': '6714'}, {'start': '1183', 'end': '1186', 'name': 'FAK', 'type': 'Gene', 'normalised_id': '5747'}, {'start': '1220', 'end': '1226', 'name': 'HD-PTP', 'type': 'Gene', 'normalised_id': '25930'}, {'start': '1267', 'end': '1270', 'name': 'FAK', 'type': 'Gene', 'normalised_id': '5747'}]   \n",
       "29                                                                                                                                                                                                                                                                                                                                                                                                                                                                                                                                                                                                                                                                                                                                                                                                                                                           [{'start': '0', 'end': '4', 'name': 'Mice', 'type': 'Species', 'normalised_id': '10090'}, {'start': '46', 'end': '51', 'name': 'PTP1B', 'type': 'Gene', 'normalised_id': '5770'}, {'start': '199', 'end': '204', 'name': 'PTP1B', 'type': 'Gene', 'normalised_id': '5770'}, {'start': '258', 'end': '263', 'name': 'PTP1B', 'type': 'Gene', 'normalised_id': '5770'}, {'start': '320', 'end': '324', 'name': 'Jak2', 'type': 'Gene', 'normalised_id': '3717'}, {'start': '326', 'end': '331', 'name': 'PTP1B', 'type': 'Gene', 'normalised_id': '5770'}, {'start': '441', 'end': '446', 'name': 'PTP1B', 'type': 'Gene', 'normalised_id': '5770'}, {'start': '452', 'end': '456', 'name': 'mice', 'type': 'Species', 'normalised_id': '10090'}, {'start': '562', 'end': '567', 'name': 'Stat3', 'type': 'Gene', 'normalised_id': '6774'}, {'start': '720', 'end': '725', 'name': 'PTP1B', 'type': 'Gene', 'normalised_id': '5770'}, {'start': '731', 'end': '735', 'name': 'mice', 'type': 'Species', 'normalised_id': '10090'}, {'start': '760', 'end': '765', 'name': 'PTP1B', 'type': 'Gene', 'normalised_id': '5770'}, {'start': '822', 'end': '826', 'name': 'Jak2', 'type': 'Gene', 'normalised_id': '3717'}, {'start': '828', 'end': '833', 'name': 'PTP1B', 'type': 'Gene', 'normalised_id': '5770'}]   \n",
       "33                                                                                                                                                                                                                                                                                                                                                                                                                                                                                                                                                                                         [{'start': '63', 'end': '66', 'name': 'Akt', 'type': 'Gene', 'normalised_id': '207'}, {'start': '172', 'end': '175', 'name': 'Akt', 'type': 'Gene', 'normalised_id': '207'}, {'start': '225', 'end': '228', 'name': 'Akt', 'type': 'Gene', 'normalised_id': '207'}, {'start': '337', 'end': '343', 'name': 'Carma1', 'type': 'Gene', 'normalised_id': '84433'}, {'start': '398', 'end': '401', 'name': 'Akt', 'type': 'Gene', 'normalised_id': '207'}, {'start': '451', 'end': '454', 'name': 'Akt', 'type': 'Gene', 'normalised_id': '207'}, {'start': '480', 'end': '486', 'name': 'Carma1', 'type': 'Gene', 'normalised_id': '84433'}, {'start': '567', 'end': '573', 'name': 'Carma1', 'type': 'Gene', 'normalised_id': '84433'}, {'start': '640', 'end': '646', 'name': 'Carma1', 'type': 'Gene', 'normalised_id': '84433'}, {'start': '667', 'end': '670', 'name': 'Akt', 'type': 'Gene', 'normalised_id': '207'}, {'start': '694', 'end': '700', 'name': 'Carma1', 'type': 'Gene', 'normalised_id': '84433'}, {'start': '810', 'end': '814', 'name': 'IL-2', 'type': 'Gene', 'normalised_id': '3558'}, {'start': '829', 'end': '835', 'name': 'Carma1', 'type': 'Gene', 'normalised_id': '84433'}, {'start': '877', 'end': '883', 'name': 'Carma1', 'type': 'Gene', 'normalised_id': '84433'}, {'start': '906', 'end': '909', 'name': 'Akt', 'type': 'Gene', 'normalised_id': '207'}, {'start': '943', 'end': '946', 'name': 'Akt', 'type': 'Gene', 'normalised_id': '207'}, {'start': '975', 'end': '981', 'name': 'Carma1', 'type': 'Gene', 'normalised_id': '84433'}]   \n",
       "14              [{'start': '38', 'end': '43', 'name': 'MKP-1', 'type': 'Gene', 'normalised_id': '1843'}, {'start': '44', 'end': '49', 'name': 'CL100', 'type': 'Gene', 'normalised_id': '1843'}, {'start': '50', 'end': '55', 'name': 'DUSP1', 'type': 'Gene', 'normalised_id': '1843'}, {'start': '102', 'end': '105', 'name': 'p44', 'type': 'Gene', 'normalised_id': '10561'}, {'start': '115', 'end': '121', 'name': 'ERK1/2', 'type': 'Gene', 'normalised_id': '5595;5594'}, {'start': '303', 'end': '308', 'name': 'MKP-1', 'type': 'Gene', 'normalised_id': '1843'}, {'start': '329', 'end': '333', 'name': 'ERK2', 'type': 'Gene', 'normalised_id': '5594'}, {'start': '410', 'end': '415', 'name': 'MKP-1', 'type': 'Gene', 'normalised_id': '1843'}, {'start': '631', 'end': '636', 'name': 'MKP-1', 'type': 'Gene', 'normalised_id': '1843'}, {'start': '663', 'end': '667', 'name': 'MKK1', 'type': 'Gene', 'normalised_id': '5604'}, {'start': '862', 'end': '867', 'name': 'MKP-1', 'type': 'Gene', 'normalised_id': '1843'}, {'start': '891', 'end': '896', 'name': 'MKP-1', 'type': 'Gene', 'normalised_id': '1843'}, {'start': '949', 'end': '954', 'name': 'MKP-1', 'type': 'Gene', 'normalised_id': '1843'}, {'start': '964', 'end': '967', 'name': 'SCF', 'type': 'Gene', 'normalised_id': '4254'}, {'start': '968', 'end': '972', 'name': 'Skp2', 'type': 'Gene', 'normalised_id': '6502'}, {'start': '1034', 'end': '1038', 'name': 'Skp2', 'type': 'Gene', 'normalised_id': '6502'}, {'start': '1048', 'end': '1053', 'name': 'MKP-1', 'type': 'Gene', 'normalised_id': '1843'}, {'start': '1142', 'end': '1146', 'name': 'Skp2', 'type': 'Gene', 'normalised_id': '6502'}, {'start': '1252', 'end': '1257', 'name': 'MKP-1', 'type': 'Gene', 'normalised_id': '1843'}, {'start': '1280', 'end': '1284', 'name': 'Skp2', 'type': 'Gene', 'normalised_id': '6502'}, {'start': '1309', 'end': '1314', 'name': 'MKP-1', 'type': 'Gene', 'normalised_id': '1843'}, {'start': '1355', 'end': '1358', 'name': 'SCF', 'type': 'Gene', 'normalised_id': '4254'}, {'start': '1359', 'end': '1363', 'name': 'Skp2', 'type': 'Gene', 'normalised_id': '6502'}]   \n",
       "\n",
       "    num_unique_gene_normalised_id  num_gene_normalised_id  \\\n",
       "2                               6                      19   \n",
       "28                              3                      20   \n",
       "29                              3                      11   \n",
       "33                              3                      17   \n",
       "14                              7                      23   \n",
       "\n",
       "                                                                                                                                                                                                                                                                                                                                                                                                                                                                                                                                                                                                                                                                                                                                                                                                                                                                                                                                                                                                                                                                                                                                                                                                                                                                                                                                                                                                                                                                                           normalised_abstract  \\\n",
       "2                                                                                                                                                                                                                                                                                                                                                                                                                                                                                                                                                                                                                                                                                                                                                                                                             Q9H0H5, a Rho GAP essential to cytokinesis, works both as a Rho GTPase regulator and as a scaffolding protein. Q9H0H5 interacts with Q02241 to form the centralspindlin complex and associates with the RhoGEF Q9H8V3. The GAP activity of Q9H0H5 is regulated by Q96GD4 phosphorylation. We have isolated B56epsilon, a Q15257 regulatory subunit, as a new Q9H0H5 partner. We report here that (i) Q9H0H5 is phosphorylated by Q96GD4 and P06493, (ii) Q15257 dephosphorylates Q96GD4 and P06493 phosphorylated sites and (iii) inhibition of Q15257 abrogates Q9H0H5/Q9H8V3 interaction. Therefore, Q15257 may regulate cytokinesis by dephosphorylating Q9H0H5 and its interacting partners.   \n",
       "28                                                  Cell migration is fundamental for invasion and metastasis and is modulated by the reversible phosphorylation of tyrosine residues on target proteins. Here we report that the tyrosine phosphatase Q9H3S7 has a role in modulating the motility of T24 bladder carcinoma cells. Indeed, Q9H3S7 silencing by RNA interference (RNAi) markedly induced cell migration in a P12931 dependent fashion. We therefore investigated the interaction and the regulation of P12931 and Q9H3S7. We found that, in Epidermal Growth Factor (EGF) stimulated cells, P12931 binds to and phosphorylates Q9H3S7 on tyrosine residues. On the contrary, Q9H3S7 does not modulate the levels of P12931 phosphorylation. Interestingly, Q9H3S7 also binds to Q05397, another regulator of cell migration, and this interaction is inhibited after exposure to EGF. Q05397 phosphorylates Q9H3S7 and this event reduced the interactions between the two proteins. Interestingly, in cells silencing Q9H3S7 the phosphorylation of Q05397 is enhanced and this correlates with its localization in focal complexes both in the presence and in the absence of EGF. We hypothesize that in unstimulated T24 cells Q9H3S7 does not interact with P12931, while it binds to Q05397. Following stimulation with EGF, Q9H3S7 is tyrosine-phosphorylated and releases Q05397 which will ultimately contribute to the turn-over of focal adhesion and, therefore, to cell motility.   \n",
       "29                                                                                                                                                                                                                                                                                                                                                                                                                                                                                                                                                                 Mice lacking the protein-tyrosine phosphatase P18031 are hypersensitive to insulin and resistant to obesity. However, the molecular basis for resistance to obesity has been unclear. Here we show that P18031 regulates leptin signaling. In transfection studies, P18031 dephosphorylates the leptin receptor-associated kinase, O60674. P18031 is expressed in hypothalamic regions harboring leptin-responsive neurons. Compared to wild-type littermates, P18031(-/-) mice have decreased leptin/body fat ratios, leptin hypersensitivity, and enhanced leptin-induced hypothalamic P40763 tyrosyl phosphorylation. Gold thioglucose treatment, which ablates leptin-responsive hypothalamic neurons, partially overcomes resistance to obesity in P18031(-/-) mice. Our data indicate that P18031 regulates leptin signaling in vivo, likely by targeting O60674. P18031 may be a novel target to treat leptin resistance in obesity.   \n",
       "33                                                                                                                                                                                                                                                                                                                                 Previous studies from our group and others have shown that the P31749 kinase can contribute to induction of NF-B by antigen receptor signaling. However, the direct targets of P31749 in this pathway are not known. Here we show that P31749-mediated NF-B activation is mediated at least in part through direct phosphorylation of the adaptor protein Q9BXL7, which we previously demonstrated could interact with P31749 in a TCR ligation-dependent manner. The putative P31749 phosphorylation sites in Q9BXL7 are distinct from known PKC consensus sites. Mutation of S551, S637 and S645 in Q9BXL7 to non-phosphorylatable residues decreased phosphorylation of GST-Q9BXL7-linker construct by P31749 in vitro. In addition, Q9BXL7 S637A/S645A mutants were significantly impaired in their ability to restore TCR-mediated NF-B activation and P60568 expression in Q9BXL7-deficient T cells. Thus, our data reveal Q9BXL7 as a novel target for P31749 phosphorylation and suggest that P31749-mediated phosphorylation of Q9BXL7 is an additional regulatory mechanism tuning the NF-B response downstream of antigen receptor and co-stimulatory signaling.   \n",
       "14  The dual-specificity MAPK phosphatase P28562/P28562/P28562 is an inducible nuclear protein controlled by Q8TCB0/42 MAPK (5595;5594) in a negative feedback mechanism to inhibit kinase activity. Here, we report on the molecular basis for a novel positive feedback mechanism to sustain ERK activation by triggering P28562 proteolysis. Active P28482 docking to the DEF motif (FXFP, residues 339-342) of N-terminally truncated P28562 in vitro initiated phosphorylation at the Ser(296)/Ser(323) domain, which was not affected by substituting Ala for Ser at Ser(359)/Ser(364). The DEF and Ser(296)/Ser(323) sites were essential for ubiquitin-mediated P28562 proteolysis stimulated by Q02750-ERK signaling in H293 cells, whereas the N-terminal domain and Ser(359)/Ser(364) sites were dispensable. ERK activation by serum increased the endogenous level of ubiquitinated phospho-Ser(296) P28562 and the degradation of P28562. Intriguingly, active ERK-promoted phospho-Ser(296) P28562 bound to P21583(Q13309) ubiquitin ligase in vivo and in vitro. Forced expression of Q13309 enhanced P28562 polyubiquitination and proteolysis upon ERK activation, whereas depletion of endogenous Q13309 suppressed such events. The kinetics of ERK signaling stimulated by serum correlated with the endogenous P28562 degradation rate in a Q13309-dependent manner. Thus, P28562 proteolysis can be achieved via ERK and P21583(Q13309) cooperation, thereby sustaining ERK activation.   \n",
       "\n",
       "                                                                                                                                                                                                                                                                                                                                                                                                                                                                                                                                                                                                                                                                                                                                                                                                                                                                                                                                                                                                                                                                                                                                                    normalised_abstract_annotations  \\\n",
       "2                                                                                                                                                                                                                 [{'charOffset': 0, 'len': 6, 'text': 'Q9H0H5'}, {'charOffset': 111, 'len': 6, 'text': 'Q9H0H5'}, {'charOffset': 133, 'len': 6, 'text': 'Q02241'}, {'charOffset': 207, 'len': 6, 'text': 'Q9H8V3'}, {'charOffset': 235, 'len': 6, 'text': 'Q9H0H5'}, {'charOffset': 258, 'len': 6, 'text': 'Q96GD4'}, {'charOffset': 313, 'len': 6, 'text': 'Q15257'}, {'charOffset': 349, 'len': 6, 'text': 'Q9H0H5'}, {'charOffset': 389, 'len': 6, 'text': 'Q9H0H5'}, {'charOffset': 417, 'len': 6, 'text': 'Q96GD4'}, {'charOffset': 428, 'len': 6, 'text': 'P06493'}, {'charOffset': 441, 'len': 6, 'text': 'Q15257'}, {'charOffset': 465, 'len': 6, 'text': 'Q96GD4'}, {'charOffset': 476, 'len': 6, 'text': 'P06493'}, {'charOffset': 528, 'len': 6, 'text': 'Q15257'}, {'charOffset': 545, 'len': 6, 'text': 'Q9H0H5'}, {'charOffset': 552, 'len': 6, 'text': 'Q9H8V3'}, {'charOffset': 583, 'len': 6, 'text': 'Q15257'}, {'charOffset': 636, 'len': 6, 'text': 'Q9H0H5'}]   \n",
       "28                                                                                                                                                        [{'charOffset': 195, 'len': 6, 'text': 'Q9H3S7'}, {'charOffset': 280, 'len': 6, 'text': 'Q9H3S7'}, {'charOffset': 361, 'len': 6, 'text': 'P12931'}, {'charOffset': 451, 'len': 6, 'text': 'P12931'}, {'charOffset': 462, 'len': 6, 'text': 'Q9H3S7'}, {'charOffset': 536, 'len': 6, 'text': 'P12931'}, {'charOffset': 571, 'len': 6, 'text': 'Q9H3S7'}, {'charOffset': 617, 'len': 6, 'text': 'Q9H3S7'}, {'charOffset': 656, 'len': 6, 'text': 'P12931'}, {'charOffset': 695, 'len': 6, 'text': 'Q9H3S7'}, {'charOffset': 716, 'len': 6, 'text': 'Q05397'}, {'charOffset': 818, 'len': 6, 'text': 'Q05397'}, {'charOffset': 840, 'len': 6, 'text': 'Q9H3S7'}, {'charOffset': 947, 'len': 6, 'text': 'Q9H3S7'}, {'charOffset': 977, 'len': 6, 'text': 'Q05397'}, {'charOffset': 1151, 'len': 6, 'text': 'Q9H3S7'}, {'charOffset': 1181, 'len': 6, 'text': 'P12931'}, {'charOffset': 1207, 'len': 6, 'text': 'Q05397'}, {'charOffset': 1247, 'len': 6, 'text': 'Q9H3S7'}, {'charOffset': 1294, 'len': 6, 'text': 'Q05397'}]   \n",
       "29                                                                                                                                                                                                                                                                                                                                                                                                                                                                                                                                                                                                                       [{'charOffset': 46, 'len': 6, 'text': 'P18031'}, {'charOffset': 200, 'len': 6, 'text': 'P18031'}, {'charOffset': 260, 'len': 6, 'text': 'P18031'}, {'charOffset': 323, 'len': 6, 'text': 'O60674'}, {'charOffset': 331, 'len': 6, 'text': 'P18031'}, {'charOffset': 447, 'len': 6, 'text': 'P18031'}, {'charOffset': 569, 'len': 6, 'text': 'P40763'}, {'charOffset': 728, 'len': 6, 'text': 'P18031'}, {'charOffset': 769, 'len': 6, 'text': 'P18031'}, {'charOffset': 832, 'len': 6, 'text': 'O60674'}, {'charOffset': 840, 'len': 6, 'text': 'P18031'}]   \n",
       "33                                                                                                                                                                                                                                                                                                                [{'charOffset': 63, 'len': 6, 'text': 'P31749'}, {'charOffset': 175, 'len': 6, 'text': 'P31749'}, {'charOffset': 231, 'len': 6, 'text': 'P31749'}, {'charOffset': 346, 'len': 6, 'text': 'Q9BXL7'}, {'charOffset': 407, 'len': 6, 'text': 'P31749'}, {'charOffset': 463, 'len': 6, 'text': 'P31749'}, {'charOffset': 495, 'len': 6, 'text': 'Q9BXL7'}, {'charOffset': 582, 'len': 6, 'text': 'Q9BXL7'}, {'charOffset': 655, 'len': 6, 'text': 'Q9BXL7'}, {'charOffset': 682, 'len': 6, 'text': 'P31749'}, {'charOffset': 712, 'len': 6, 'text': 'Q9BXL7'}, {'charOffset': 828, 'len': 6, 'text': 'P60568'}, {'charOffset': 849, 'len': 6, 'text': 'Q9BXL7'}, {'charOffset': 897, 'len': 6, 'text': 'Q9BXL7'}, {'charOffset': 926, 'len': 6, 'text': 'P31749'}, {'charOffset': 966, 'len': 6, 'text': 'P31749'}, {'charOffset': 1001, 'len': 6, 'text': 'Q9BXL7'}]   \n",
       "14  [{'charOffset': 38, 'len': 6, 'text': 'P28562'}, {'charOffset': 45, 'len': 6, 'text': 'P28562'}, {'charOffset': 52, 'len': 6, 'text': 'P28562'}, {'charOffset': 105, 'len': 6, 'text': 'Q8TCB0'}, {'charOffset': 121, 'len': 9, 'text': '5595;5594'}, {'charOffset': 312, 'len': 6, 'text': 'P28562'}, {'charOffset': 339, 'len': 6, 'text': 'P28482'}, {'charOffset': 422, 'len': 6, 'text': 'P28562'}, {'charOffset': 644, 'len': 6, 'text': 'P28562'}, {'charOffset': 677, 'len': 6, 'text': 'Q02750'}, {'charOffset': 878, 'len': 6, 'text': 'P28562'}, {'charOffset': 908, 'len': 6, 'text': 'P28562'}, {'charOffset': 967, 'len': 6, 'text': 'P28562'}, {'charOffset': 983, 'len': 6, 'text': 'P21583'}, {'charOffset': 990, 'len': 6, 'text': 'Q13309'}, {'charOffset': 1058, 'len': 6, 'text': 'Q13309'}, {'charOffset': 1074, 'len': 6, 'text': 'P28562'}, {'charOffset': 1169, 'len': 6, 'text': 'Q13309'}, {'charOffset': 1281, 'len': 6, 'text': 'P28562'}, {'charOffset': 1310, 'len': 6, 'text': 'Q13309'}, {'charOffset': 1341, 'len': 6, 'text': 'P28562'}, {'charOffset': 1388, 'len': 6, 'text': 'P21583'}, {'charOffset': 1395, 'len': 6, 'text': 'Q13309'}]   \n",
       "\n",
       "   participant1Id participant2Id  \\\n",
       "2          Q9H0H5         Q96GD4   \n",
       "28         Q05397         Q9H3S7   \n",
       "29         O60674         P18031   \n",
       "33         Q9BXL7         P31749   \n",
       "14         P28562         P28482   \n",
       "\n",
       "                                                                                                                                                                                                                                 gene_to_uniprot_map  \\\n",
       "2                                             {'5524': ['Q15257', 'B4DZF8', 'F6WIT2'], '9212': ['Q96GD4'], '983': ['P06493', 'A0A024QZJ8', 'B7Z3D6', 'I6L9I5'], '9493': ['Q02241'], '1894': ['Q9H8V3'], '29127': ['Q9H0H5', 'A0A024R136', 'B2RE34']}   \n",
       "28                                                                                                                                             {'5747': ['Q05397', 'Q658W2', 'Q59GN8', 'Q59GM6'], '25930': ['Q9H3S7', 'B4DST5'], '6714': ['P12931']}   \n",
       "29                                                                                                                                              {'6774': ['P40763'], '5770': ['P18031', 'B4DSN5', 'A8K3M3'], '3717': ['O60674', 'B4DYV1', 'A8K910']}   \n",
       "33                                                                                                                                {'207': ['P31749', 'B0LPE5', 'B3KVH4'], '84433': ['Q9BXL7', 'A0A024R854', 'Q8TES3'], '3558': ['P60568', 'Q0GK43']}   \n",
       "14  {'1843': ['P28562', 'B4DU40'], '10561': ['Q8TCB0'], '5594': ['P28482', 'Q1HBJ4', 'Q499G7'], '4254': ['P21583', 'A0A024RBC0', 'A0A024RBF5'], '5595;5594': [], '6502': ['Q13309', 'A0A024R069'], '5604': ['Q02750', 'A4QPA9', 'B4DFY5', 'H3BRW9']}   \n",
       "\n",
       "   participant1Name participant2Name              class  \n",
       "2         MgcRacGAP         Aurora B    phosphorylation  \n",
       "28              FAK           HD-PTP    phosphorylation  \n",
       "29             Jak2            PTP1B  dephosphorylation  \n",
       "33           Carma1              Akt    phosphorylation  \n",
       "14            MKP-1             ERK2    phosphorylation  "
      ]
     },
     "execution_count": 104,
     "metadata": {},
     "output_type": "execute_result"
    }
   ],
   "source": [
    "val_multiclass.query(\"`class` != 'other' \" ).sample(n=5)"
   ]
  },
  {
   "cell_type": "code",
   "execution_count": 100,
   "metadata": {
    "pycharm": {
     "is_executing": true
    }
   },
   "outputs": [
    {
     "name": "stdout",
     "output_type": "stream",
     "text": [
      "2021-05-22 13:53:01,418 - helpers.s3_util - INFO - Uploading file val_multiclass.json s3://aegovan-data/processed_dataset/val_multiclass.json\n",
      "2021-05-22 13:53:09,072 - helpers.s3_util - INFO - Uploading file test_multiclass.json s3://aegovan-data/processed_dataset/test_multiclass.json\n",
      "2021-05-22 13:53:20,119 - helpers.s3_util - INFO - Uploading file train_multiclass.json s3://aegovan-data/processed_dataset/train_multiclass.json\n"
     ]
    }
   ],
   "source": [
    "from helpers.s3_util import S3Util\n",
    "\n",
    "S3Util().uploadfile(val_multi_file, \"{}/\".format( s3_results_prefix.rstrip(\"/\")) )\n",
    "S3Util().uploadfile(test_multi_file, \"{}/\".format( s3_results_prefix.rstrip(\"/\")) )\n",
    "S3Util().uploadfile(train_multi_file, \"{}/\".format( s3_results_prefix.rstrip(\"/\")) )"
   ]
  },
  {
   "cell_type": "code",
   "execution_count": 101,
   "metadata": {
    "pycharm": {
     "is_executing": true
    }
   },
   "outputs": [],
   "source": [
    "train_multiclass.sample(n=50).to_json(\"sample_train_multiclass.json\")"
   ]
  }
 ],
 "metadata": {
  "kernelspec": {
   "display_name": "Python 3",
   "language": "python",
   "name": "python3"
  },
  "language_info": {
   "codemirror_mode": {
    "name": "ipython",
    "version": 3
   },
   "file_extension": ".py",
   "mimetype": "text/x-python",
   "name": "python",
   "nbconvert_exporter": "python",
   "pygments_lexer": "ipython3",
   "version": "3.7.4"
  }
 },
 "nbformat": 4,
 "nbformat_minor": 1
}
